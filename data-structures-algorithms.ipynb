{
 "cells": [
  {
   "cell_type": "code",
   "execution_count": 1,
   "id": "daa44b5e",
   "metadata": {
    "_cell_guid": "b1076dfc-b9ad-4769-8c92-a6c4dae69d19",
    "_uuid": "8f2839f25d086af736a60e9eeb907d3b93b6e0e5",
    "execution": {
     "iopub.execute_input": "2023-03-28T18:30:07.006907Z",
     "iopub.status.busy": "2023-03-28T18:30:07.006540Z",
     "iopub.status.idle": "2023-03-28T18:30:07.016925Z",
     "shell.execute_reply": "2023-03-28T18:30:07.015571Z"
    },
    "papermill": {
     "duration": 0.017045,
     "end_time": "2023-03-28T18:30:07.019493",
     "exception": false,
     "start_time": "2023-03-28T18:30:07.002448",
     "status": "completed"
    },
    "tags": []
   },
   "outputs": [],
   "source": [
    "# This Python 3 environment comes with many helpful analytics libraries installed\n",
    "# It is defined by the kaggle/python Docker image: https://github.com/kaggle/docker-python\n",
    "# For example, here's several helpful packages to load\n",
    "\n",
    "import numpy as np # linear algebra\n",
    "import pandas as pd # data processing, CSV file I/O (e.g. pd.read_csv)\n",
    "\n",
    "# Input data files are available in the read-only \"../input/\" directory\n",
    "# For example, running this (by clicking run or pressing Shift+Enter) will list all files under the input directory\n",
    "\n",
    "import os\n",
    "for dirname, _, filenames in os.walk('/kaggle/input'):\n",
    "    for filename in filenames:\n",
    "        print(os.path.join(dirname, filename))\n",
    "\n",
    "# You can write up to 20GB to the current directory (/kaggle/working/) that gets preserved as output when you create a version using \"Save & Run All\" \n",
    "# You can also write temporary files to /kaggle/temp/, but they won't be saved outside of the current session"
   ]
  },
  {
   "cell_type": "markdown",
   "id": "ecbd9560",
   "metadata": {
    "papermill": {
     "duration": 0.001247,
     "end_time": "2023-03-28T18:30:07.022712",
     "exception": false,
     "start_time": "2023-03-28T18:30:07.021465",
     "status": "completed"
    },
    "tags": []
   },
   "source": [
    "# <center>Introduction</center>\n",
    "---\n"
   ]
  },
  {
   "cell_type": "markdown",
   "id": "c8bc2bea",
   "metadata": {
    "papermill": {
     "duration": 0.001187,
     "end_time": "2023-03-28T18:30:07.025297",
     "exception": false,
     "start_time": "2023-03-28T18:30:07.024110",
     "status": "completed"
    },
    "tags": []
   },
   "source": [
    "**`1. What is a Data Structure`**</br>\n",
    "A data structure is a particular way of storing and organizing data so that we can use it(data) effectively.\n",
    "\n",
    "```python\n",
    "For example, we keep our phone on the front right side of our jeans pocket, handkerchief on the front left side of the jeans pocket, wallet on the back right side of the jeans pocket and keys on the back left side of the jeans pocket, we do this so that we can retrieve or search the items(data) as effectively as possible from the pockets(structure).\n",
    "```\n",
    "\n",
    "**`2. What are the ifferent types of Data Structures`**</br>\n",
    "* Array\n",
    "* Linked List\n",
    "* Stack\n",
    "* Queue\n",
    "* Tree\n",
    "* Graph\n",
    "* Searching and Storing\n",
    "* Hashing\n",
    "\n",
    "**`3. What is an Algorithm`**</br>\n",
    "An algorithm is a well defined process or procedure to solve a particular problem. \n",
    "\n",
    "We check the effciency of algorithms with the help of **`Complexity`** and they are of two types:\n",
    "   * Time Complexity\n",
    "   * Space Complexity\n",
    "   \n",
    "**`4. Difference between Procedure and Algorithm`**</br>\n",
    "An algorithm should satisfy all the below points or it will be called a `procedure`:\n",
    "   * <u>Input</u> : An algorithm must intake either Zero or more inputs.\n",
    "   * <u>Output</u> : An algorithm must give atleast one output.\n",
    "   * <u>Finiteness</u> : An algorithm must terminate after finite number of steps.\n",
    "   * <u>Definiteness</u> : An algorithm must be clear and unambiguous.\n",
    "   * <u>Effectiveness</u> : An algorithm must be language independent and must be easily implemented by any programming language.\n",
    "   \n",
    "\n",
    "**`5. What are the the sub-topics of Divide and Conquer techniquees`**</br>\n",
    "   * Binary Search\n",
    "   * Min-Max Search\n",
    "   * Quick Sort\n",
    "   * Merge Sort\n",
    "   * Strassen's Matrix Multiplication\n",
    "   \n",
    "**`6. What are the sub-topics of Greedy technique`**</br>\n",
    "   * Knapsack problem\n",
    "   * Job sequencing with deadline\n",
    "   * Optimal merge pattern\n",
    "   * Huffman Code\n",
    "   * Minimum cost spamnning tree\n",
    "       * Kruskal's algorithm\n",
    "       * Prim's algorithm\n",
    "       * Boruvka's algorithm\n",
    "   * Single source shortest path algorithm(**`Dijkstra's algorithm`**), etc.\n",
    "   \n",
    "**`7. What are the sub-topics of Dynamic Programming`**</br>\n",
    "   * Longest common subsequence\n",
    "   * Matrix chain multiplication\n",
    "   * 0/1 knapsack problem\n",
    "   * Optimal binary search tree\n",
    "   * Traveling salesman person problem\n",
    "   * All pair shortest path problem\n",
    "   * Sum of subset problem\n",
    "   * Bellman ford algorithm\n",
    "\n",
    "**`How do you measure the behaviour of an algorithm`**</br>\n",
    "The behaviour of an algorithm is analyzed with the help of Time and Space complexity.\n",
    "   * **Time complexity** is the amount of time taken by the algorithm to run.\n",
    "   * **Space complexity** is the amount of auxilary space taken by the algorithm to run.\n"
   ]
  },
  {
   "cell_type": "code",
   "execution_count": null,
   "id": "5fd1db79",
   "metadata": {
    "papermill": {
     "duration": 0.00118,
     "end_time": "2023-03-28T18:30:07.027821",
     "exception": false,
     "start_time": "2023-03-28T18:30:07.026641",
     "status": "completed"
    },
    "tags": []
   },
   "outputs": [],
   "source": []
  }
 ],
 "metadata": {
  "kernelspec": {
   "display_name": "Python 3",
   "language": "python",
   "name": "python3"
  },
  "language_info": {
   "codemirror_mode": {
    "name": "ipython",
    "version": 3
   },
   "file_extension": ".py",
   "mimetype": "text/x-python",
   "name": "python",
   "nbconvert_exporter": "python",
   "pygments_lexer": "ipython3",
   "version": "3.7.12"
  },
  "papermill": {
   "default_parameters": {},
   "duration": 9.789732,
   "end_time": "2023-03-28T18:30:07.650223",
   "environment_variables": {},
   "exception": null,
   "input_path": "__notebook__.ipynb",
   "output_path": "__notebook__.ipynb",
   "parameters": {},
   "start_time": "2023-03-28T18:29:57.860491",
   "version": "2.4.0"
  }
 },
 "nbformat": 4,
 "nbformat_minor": 5
}
