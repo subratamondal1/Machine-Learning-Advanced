{
 "cells": [
  {
   "cell_type": "code",
   "execution_count": 1,
   "id": "c1e844f5",
   "metadata": {
    "_cell_guid": "b1076dfc-b9ad-4769-8c92-a6c4dae69d19",
    "_uuid": "8f2839f25d086af736a60e9eeb907d3b93b6e0e5",
    "execution": {
     "iopub.execute_input": "2023-03-31T18:17:57.504771Z",
     "iopub.status.busy": "2023-03-31T18:17:57.504195Z",
     "iopub.status.idle": "2023-03-31T18:17:57.519250Z",
     "shell.execute_reply": "2023-03-31T18:17:57.518354Z"
    },
    "papermill": {
     "duration": 0.03003,
     "end_time": "2023-03-31T18:17:57.521907",
     "exception": false,
     "start_time": "2023-03-31T18:17:57.491877",
     "status": "completed"
    },
    "tags": []
   },
   "outputs": [],
   "source": [
    "# This Python 3 environment comes with many helpful analytics libraries installed\n",
    "# It is defined by the kaggle/python Docker image: https://github.com/kaggle/docker-python\n",
    "# For example, here's several helpful packages to load\n",
    "\n",
    "import numpy as np # linear algebra\n",
    "import pandas as pd # data processing, CSV file I/O (e.g. pd.read_csv)\n",
    "\n",
    "# Input data files are available in the read-only \"../input/\" directory\n",
    "# For example, running this (by clicking run or pressing Shift+Enter) will list all files under the input directory\n",
    "\n",
    "import os\n",
    "for dirname, _, filenames in os.walk('/kaggle/input'):\n",
    "    for filename in filenames:\n",
    "        print(os.path.join(dirname, filename))\n",
    "\n",
    "# You can write up to 20GB to the current directory (/kaggle/working/) that gets preserved as output when you create a version using \"Save & Run All\" \n",
    "# You can also write temporary files to /kaggle/temp/, but they won't be saved outside of the current session"
   ]
  },
  {
   "cell_type": "markdown",
   "id": "d0369ed7",
   "metadata": {
    "papermill": {
     "duration": 0.008678,
     "end_time": "2023-03-31T18:17:57.539680",
     "exception": false,
     "start_time": "2023-03-31T18:17:57.531002",
     "status": "completed"
    },
    "tags": []
   },
   "source": [
    "# <center>Advanced Python Programming</center>\n",
    "---"
   ]
  },
  {
   "cell_type": "markdown",
   "id": "41867907",
   "metadata": {
    "papermill": {
     "duration": 0.008537,
     "end_time": "2023-03-31T18:17:57.557206",
     "exception": false,
     "start_time": "2023-03-31T18:17:57.548669",
     "status": "completed"
    },
    "tags": []
   },
   "source": [
    "## Modules and Packages\n",
    "---\n",
    "**`Modules :`** are any file that ends with the extension **`.py`**.\n",
    "\n",
    "**`Packages :`** are directory that contains collection of python modules. And the directory must contain a module named **`__init__.py`** to be considered as a package.\n"
   ]
  },
  {
   "cell_type": "markdown",
   "id": "f955cd4e",
   "metadata": {
    "papermill": {
     "duration": 0.008667,
     "end_time": "2023-03-31T18:17:57.574833",
     "exception": false,
     "start_time": "2023-03-31T18:17:57.566166",
     "status": "completed"
    },
    "tags": []
   },
   "source": [
    "### The `__main__` module\n",
    "---\n",
    "The main module in Python is the source file where the program execution starts. Every Python program has a **`__main__`** module, and the code within that module is executed when the program is run. The **`__main__`** module can be located in any file, but it is typically placed in a file named **`main.py`**.\n",
    "\n",
    "The **`__main__`** module can be checked using the expression **`__name__ == '__main__'`**, which evaluates to True when the module is executed as a script, and to False when the module is imported by another module. This allows a common idiom for conditionally executing code when the module is not initialized from an import statement:\n",
    "\n",
    "**`Note:`** modules that are imported can't be named as **`main`**."
   ]
  },
  {
   "cell_type": "code",
   "execution_count": 2,
   "id": "871ac5b9",
   "metadata": {
    "execution": {
     "iopub.execute_input": "2023-03-31T18:17:57.595094Z",
     "iopub.status.busy": "2023-03-31T18:17:57.594691Z",
     "iopub.status.idle": "2023-03-31T18:17:57.601471Z",
     "shell.execute_reply": "2023-03-31T18:17:57.600038Z"
    },
    "papermill": {
     "duration": 0.020439,
     "end_time": "2023-03-31T18:17:57.604393",
     "exception": false,
     "start_time": "2023-03-31T18:17:57.583954",
     "status": "completed"
    },
    "tags": []
   },
   "outputs": [
    {
     "name": "stdout",
     "output_type": "stream",
     "text": [
      "ok\n"
     ]
    }
   ],
   "source": [
    "if __name__ == '__main__':\n",
    "    # Execute when the module is not initialized from an import statement.\n",
    "    print(\"ok\")"
   ]
  },
  {
   "cell_type": "markdown",
   "id": "72bb65c1",
   "metadata": {
    "papermill": {
     "duration": 0.008688,
     "end_time": "2023-03-31T18:17:57.622385",
     "exception": false,
     "start_time": "2023-03-31T18:17:57.613697",
     "status": "completed"
    },
    "tags": []
   },
   "source": [
    "This code pattern is quite common in Python files that you want to be executed as a script and imported in another module."
   ]
  },
  {
   "cell_type": "markdown",
   "id": "b2585050",
   "metadata": {
    "papermill": {
     "duration": 0.008659,
     "end_time": "2023-03-31T18:17:57.640008",
     "exception": false,
     "start_time": "2023-03-31T18:17:57.631349",
     "status": "completed"
    },
    "tags": []
   },
   "source": [
    "## Files\n",
    "---\n",
    "reading files, creating files, writing to files, appending to files.\n",
    "\n",
    "\n",
    "To read files in Python, you need to use the `open()` function to open a file object and then use the `read()`, `readline()` or `readlines()` methods to read its contents.\n",
    "\n",
    "### Modes of `open` file object\n",
    "The modes of the `open()` function specify how the file will be opened and what operations can be performed on it. The modes are:\n",
    "\n",
    "* **`‘r’`**: Opens a file for reading only. The file pointer is placed at the beginning of the file. This is the default mode.\n",
    "* **`‘r+’`**: Opens a file for both reading and writing. The file pointer is placed at the beginning of the file.\n",
    "* **`‘w’`**: Opens a file for writing only. `Overwrites the file if the file exists. If the file does not exist, creates a new file for writing.`\n",
    "* **`‘w+’`**: Opens a file for both writing and reading. Overwrites the existing file if the file exists. If the file does not exist, creates a new file for reading and writing.\n",
    "* **`‘a’`**: Opens a file for appending. The file pointer is at the end of the file if the file exists. That is, the file is in the append mode. If the file does not exist, it creates a new file for writing.\n",
    "* **`‘a+’`**: Opens a file for both appending and reading. The file pointer is at the end of the file if the file exists. The file opens in the append mode. If the file does not exist, it creates a new file for reading and writing.</br>\n",
    "You can also add a `‘b’` to any of these modes to open the file in **binary mode**, which means that the data is read and written as bytes objects. This is useful for non-text files such as **images or audio files**.\n",
    "\n",
    "```python\n",
    "# open a file in read mode\n",
    "file = open(\"test.txt\", \"r\")\n",
    "\n",
    "# read the whole file and returns all the content as a single string\n",
    "print(file.read()) \n",
    "\n",
    "# close the file\n",
    "file.close()\n",
    "```\n",
    "\n",
    "You can also use the `with` keyword to automatically close the file after reading. \n",
    "\n",
    "```python\n",
    "# use with keyword to open and close a file\n",
    "with open(\"test.txt\", \"r\") as file:\n",
    "    # read the whole file and returns all the content as a single string\n",
    "    print(file.read())\n",
    "```\n",
    "\n",
    "### Built-in methods of `open` file object\n",
    "* **`read(size)`**: It reads up to size bytes from the file and returns a string. If size is omitted or negative, it reads until the end of the file.\n",
    "* **`readline(size)`**: It reads one line from the file and returns a string. If size is given, it reads at most size bytes from the line. An empty string is returned when the end of the file is reached.\n",
    "* **`readlines(sizehint)`**: It reads all the lines from the file and returns a list of strings. If sizehint is given, it reads approximately sizehint bytes from the file and splits them into lines.\n",
    "* **`write(string)`**: It writes the string to the file and returns None. It does not add a newline character at the end of the string.\n",
    "* **`writelines(lines)`**: It writes a list of strings to the file and returns None. It does not add newline characters at the end of each string.\n",
    "* **`close()`**: It closes the file and frees up any system resources used by it. It is recommended to use this method after finishing any file operations.\n",
    "* **`flush()`**: It forces any buffered data to be written to the file. This can be useful when you want to ensure that the data is written immediately without waiting for buffering.\n",
    "* **`seek(offset, whence)`**: It changes the cursor location in the file or the current file position to offset bytes, relative to whence. The whence argument can be 0 (start of the file), 1 (current position), or 2 (end of the file). It returns the new file position in bytes. The `seek()` method of the file object allows you to change the current position of the file pointer within the file. The file pointer is like a cursor that indicates where the next read or write operation will take place. The `seek()` method takes two parameters:\n",
    "    * `offset:` This is a number of bytes to move the file pointer from the reference point. It can be positive (move forward) or negative (move backward).\n",
    "    * `whence:` This is an optional parameter that specifies the reference point from which to move the file pointer. It can be one of the following values:\n",
    "        * `0`: The beginning of the file (default)\n",
    "        * `1`: The current position of the file pointer\n",
    "        * `2`: The end of the file</br>\n",
    "The `seek()` method returns None and does not raise any exception if the operation is successful. However, it may raise an OSError if the file is not opened in binary mode and whence is not 0 or offset is not 0.\n",
    "\n",
    "```python\n",
    "# open the file in read mode\n",
    "f = open(\"test.txt\", \"r\")\n",
    "\n",
    "# move the file pointer to the 6th byte from the beginning\n",
    "f.seek(6)\n",
    "# read 5 bytes from that position\n",
    "print(f.read(5)) # output: world\n",
    "\n",
    "# move the file pointer to the 3rd byte from the end\n",
    "f.seek(-3, 2)\n",
    "# read 3 bytes from that position\n",
    "print(f.read(3)) # output: ile\n",
    "\n",
    "# move the file pointer to the 8th byte from the current position\n",
    "f.seek(8, 1)\n",
    "# read one line from that position\n",
    "print(f.readline()) # output: This is a test file.\n",
    "\n",
    "# close the file\n",
    "f.close()\n",
    "```\n",
    "\n",
    "* **`tell()`**: It returns the current file position in bytes."
   ]
  },
  {
   "cell_type": "markdown",
   "id": "23df4cfe",
   "metadata": {
    "papermill": {
     "duration": 0.00857,
     "end_time": "2023-03-31T18:17:57.658619",
     "exception": false,
     "start_time": "2023-03-31T18:17:57.650049",
     "status": "completed"
    },
    "tags": []
   },
   "source": [
    "## args and kwargs\n",
    "---\n",
    "**`*args`** in Python is a special parameter that allows a function to take a variable number of arguments without specifying them in advance. Args stands for arguments, and it is usually preceded by an asterisk (`*`) in the function definition. For example:"
   ]
  },
  {
   "cell_type": "code",
   "execution_count": 3,
   "id": "6b4d771c",
   "metadata": {
    "execution": {
     "iopub.execute_input": "2023-03-31T18:17:57.678651Z",
     "iopub.status.busy": "2023-03-31T18:17:57.678193Z",
     "iopub.status.idle": "2023-03-31T18:17:57.686247Z",
     "shell.execute_reply": "2023-03-31T18:17:57.684620Z"
    },
    "papermill": {
     "duration": 0.021271,
     "end_time": "2023-03-31T18:17:57.688988",
     "exception": false,
     "start_time": "2023-03-31T18:17:57.667717",
     "status": "completed"
    },
    "tags": []
   },
   "outputs": [
    {
     "name": "stdout",
     "output_type": "stream",
     "text": [
      "6\n",
      "9\n",
      "6\n",
      "0\n"
     ]
    }
   ],
   "source": [
    "def add(*args):\n",
    "    # args is a tuple of all the arguments passed\n",
    "    total = 0\n",
    "    for num in args:\n",
    "        total += num\n",
    "    return total\n",
    "\n",
    "print(add(1, 2, 3)) # output: 6\n",
    "print(add(4, 5)) # output: 9\n",
    "print(add(6)) # output: 6\n",
    "print(add()) # output: 0"
   ]
  },
  {
   "cell_type": "markdown",
   "id": "b6b6fd77",
   "metadata": {
    "papermill": {
     "duration": 0.00916,
     "end_time": "2023-03-31T18:17:57.708109",
     "exception": false,
     "start_time": "2023-03-31T18:17:57.698949",
     "status": "completed"
    },
    "tags": []
   },
   "source": [
    "In this example, the add function can take any number of arguments and return their sum. The args parameter is a tuple that contains all the arguments passed to the function. You can use a for loop to iterate over args and perform any operation you want.\n",
    "\n",
    "The name args is just a convention and you can use any other name as long as it is preceded by an asterisk (`*`). However, it is recommended to use args as it is more readable and widely used.\n",
    "\n",
    "\n",
    "**`kwargs`** in Python is a special parameter that allows a function to take a variable number of keyword arguments without specifying them in advance. kwargs stands for keyword arguments, and it is usually preceded by two asterisks (`**`) in the function definition. For example:"
   ]
  },
  {
   "cell_type": "code",
   "execution_count": 4,
   "id": "7cea81b7",
   "metadata": {
    "execution": {
     "iopub.execute_input": "2023-03-31T18:17:57.729889Z",
     "iopub.status.busy": "2023-03-31T18:17:57.728659Z",
     "iopub.status.idle": "2023-03-31T18:17:57.736550Z",
     "shell.execute_reply": "2023-03-31T18:17:57.734933Z"
    },
    "papermill": {
     "duration": 0.021371,
     "end_time": "2023-03-31T18:17:57.739032",
     "exception": false,
     "start_time": "2023-03-31T18:17:57.717661",
     "status": "completed"
    },
    "tags": []
   },
   "outputs": [
    {
     "name": "stdout",
     "output_type": "stream",
     "text": [
      "name = Alice\n",
      "age = 25\n",
      "city = New York\n",
      "country = USA\n"
     ]
    }
   ],
   "source": [
    "def greet(**kwargs):\n",
    "    # kwargs is a dictionary of all the keyword arguments passed\n",
    "    for key, value in kwargs.items():\n",
    "        print(f\"{key} = {value}\")\n",
    "\n",
    "greet(name=\"Alice\", age=25) # output: name = Alice, age = 25\n",
    "greet(city=\"New York\", country=\"USA\") # output: city = New York, country = USA\n",
    "greet() # output: nothing"
   ]
  },
  {
   "cell_type": "markdown",
   "id": "228e02c8",
   "metadata": {
    "papermill": {
     "duration": 0.008677,
     "end_time": "2023-03-31T18:17:57.757189",
     "exception": false,
     "start_time": "2023-03-31T18:17:57.748512",
     "status": "completed"
    },
    "tags": []
   },
   "source": [
    "In this example, the greet function can take any number of keyword arguments and print them as key-value pairs. `The kwargs parameter is a dictionary` that contains all the keyword arguments passed to the function. You can use a for loop to iterate over `kwargs.items()` and access the keys and values.\n",
    "\n",
    "The name kwargs is just a convention and you can use any other name as long as it is preceded by two asterisks (`**`). However, it is recommended to use kwargs as it is more readable and widely used."
   ]
  },
  {
   "cell_type": "markdown",
   "id": "e88774c8",
   "metadata": {
    "papermill": {
     "duration": 0.008676,
     "end_time": "2023-03-31T18:17:57.774957",
     "exception": false,
     "start_time": "2023-03-31T18:17:57.766281",
     "status": "completed"
    },
    "tags": []
   },
   "source": [
    "### Unpack/Splat operator\n",
    "The unpack operator in Python is the asterisk (`*`) symbol that can be used to unpack an iterable object such as a list, a tuple, a set, or a dictionary into individual elements. For example:"
   ]
  },
  {
   "cell_type": "code",
   "execution_count": 5,
   "id": "c5898543",
   "metadata": {
    "execution": {
     "iopub.execute_input": "2023-03-31T18:17:57.794937Z",
     "iopub.status.busy": "2023-03-31T18:17:57.794513Z",
     "iopub.status.idle": "2023-03-31T18:17:57.803836Z",
     "shell.execute_reply": "2023-03-31T18:17:57.802139Z"
    },
    "papermill": {
     "duration": 0.023381,
     "end_time": "2023-03-31T18:17:57.807420",
     "exception": false,
     "start_time": "2023-03-31T18:17:57.784039",
     "status": "completed"
    },
    "tags": []
   },
   "outputs": [
    {
     "name": "stdout",
     "output_type": "stream",
     "text": [
      "1\n",
      "2\n",
      "3\n",
      "4\n",
      "5\n",
      "8\n",
      "9\n",
      "6\n",
      "7\n",
      "name\n",
      "age\n"
     ]
    }
   ],
   "source": [
    "# unpack a list into three variables\n",
    "a, b, c = [1, 2, 3]\n",
    "print(a) # output: 1\n",
    "print(b) # output: 2\n",
    "print(c) # output: 3\n",
    "\n",
    "# unpack a tuple into two variables\n",
    "x, y = (4, 5)\n",
    "print(x) # output: 4\n",
    "print(y) # output: 5\n",
    "\n",
    "# unpack a set into four variables\n",
    "p, q, r, s = {6, 7, 8, 9}\n",
    "print(p) # output: 6\n",
    "print(q) # output: 7\n",
    "print(r) # output: 8\n",
    "print(s) # output: 9\n",
    "\n",
    "# unpack a dictionary into two variables\n",
    "key, value = {\"name\": \"Alice\",\"age\":23}\n",
    "print(key) # output: name\n",
    "print(value) # output: Alice"
   ]
  },
  {
   "cell_type": "markdown",
   "id": "f250d588",
   "metadata": {
    "papermill": {
     "duration": 0.008963,
     "end_time": "2023-03-31T18:17:57.827206",
     "exception": false,
     "start_time": "2023-03-31T18:17:57.818243",
     "status": "completed"
    },
    "tags": []
   },
   "source": [
    "The unpack operator can also be used with the `*` symbol to unpack an iterable object into multiple arguments for a function call. For example:"
   ]
  },
  {
   "cell_type": "code",
   "execution_count": 6,
   "id": "d9a277b2",
   "metadata": {
    "execution": {
     "iopub.execute_input": "2023-03-31T18:17:57.847950Z",
     "iopub.status.busy": "2023-03-31T18:17:57.847537Z",
     "iopub.status.idle": "2023-03-31T18:17:57.854698Z",
     "shell.execute_reply": "2023-03-31T18:17:57.853318Z"
    },
    "papermill": {
     "duration": 0.021312,
     "end_time": "2023-03-31T18:17:57.857646",
     "exception": false,
     "start_time": "2023-03-31T18:17:57.836334",
     "status": "completed"
    },
    "tags": []
   },
   "outputs": [
    {
     "name": "stdout",
     "output_type": "stream",
     "text": [
      "10 20 30\n"
     ]
    }
   ],
   "source": [
    "# define a function that takes three arguments and prints them\n",
    "def print_args(a, b, c):\n",
    "    print(a, b, c)\n",
    "\n",
    "# create a list with three elements\n",
    "args = [10, 20, 30]\n",
    "\n",
    "# use the * symbol to unpack the list into arguments for the function call\n",
    "print_args(*args) # output: 10 20 30"
   ]
  },
  {
   "cell_type": "markdown",
   "id": "4fd0bb09",
   "metadata": {
    "papermill": {
     "duration": 0.008869,
     "end_time": "2023-03-31T18:17:57.875873",
     "exception": false,
     "start_time": "2023-03-31T18:17:57.867004",
     "status": "completed"
    },
    "tags": []
   },
   "source": [
    "The unpack operator can also be used with the `*` symbol to unpack an iterable object into another iterable object such as a list or a tuple. For example:"
   ]
  },
  {
   "cell_type": "code",
   "execution_count": 7,
   "id": "55a3d035",
   "metadata": {
    "execution": {
     "iopub.execute_input": "2023-03-31T18:17:57.896559Z",
     "iopub.status.busy": "2023-03-31T18:17:57.896027Z",
     "iopub.status.idle": "2023-03-31T18:17:57.903752Z",
     "shell.execute_reply": "2023-03-31T18:17:57.902355Z"
    },
    "papermill": {
     "duration": 0.020994,
     "end_time": "2023-03-31T18:17:57.906295",
     "exception": false,
     "start_time": "2023-03-31T18:17:57.885301",
     "status": "completed"
    },
    "tags": []
   },
   "outputs": [
    {
     "name": "stdout",
     "output_type": "stream",
     "text": [
      "[1, 2, 3, 4, 5, 6]\n",
      "(1, 2, 3, 4, 5, 6)\n"
     ]
    }
   ],
   "source": [
    "# create two lists\n",
    "list1 = [1, 2, 3]\n",
    "list2 = [4, 5, 6]\n",
    "\n",
    "# use the * symbol to unpack the lists into a new list\n",
    "list3 = [*list1, *list2]\n",
    "print(list3) # output: [1, 2, 3, 4, 5, 6]\n",
    "\n",
    "# use the * symbol to unpack the lists into a new tuple\n",
    "tuple1 = (*list1, *list2)\n",
    "print(tuple1) # output: (1, 2, 3, 4, 5, 6)"
   ]
  },
  {
   "cell_type": "markdown",
   "id": "62b69f3b",
   "metadata": {
    "papermill": {
     "duration": 0.009084,
     "end_time": "2023-03-31T18:17:57.925103",
     "exception": false,
     "start_time": "2023-03-31T18:17:57.916019",
     "status": "completed"
    },
    "tags": []
   },
   "source": [
    "### unpack dictionary\n",
    "To unpack a dictionary in Python, you can use the double asterisk (`**`) operator that can be used to unpack a dictionary into key-value pairs. For example:"
   ]
  },
  {
   "cell_type": "code",
   "execution_count": 8,
   "id": "46aeb4c0",
   "metadata": {
    "execution": {
     "iopub.execute_input": "2023-03-31T18:17:57.946355Z",
     "iopub.status.busy": "2023-03-31T18:17:57.945285Z",
     "iopub.status.idle": "2023-03-31T18:17:57.951526Z",
     "shell.execute_reply": "2023-03-31T18:17:57.950638Z"
    },
    "papermill": {
     "duration": 0.019824,
     "end_time": "2023-03-31T18:17:57.954381",
     "exception": false,
     "start_time": "2023-03-31T18:17:57.934557",
     "status": "completed"
    },
    "tags": []
   },
   "outputs": [
    {
     "name": "stdout",
     "output_type": "stream",
     "text": [
      "Hello, Alice. You are 25 years old.\n"
     ]
    }
   ],
   "source": [
    "# create a dictionary\n",
    "d = {\"name\": \"Alice\", \"age\": 25}\n",
    "\n",
    "# use the ** operator to unpack the dictionary into keyword arguments for a function call\n",
    "def greet(name, age):\n",
    "    print(f\"Hello, {name}. You are {age} years old.\")\n",
    "\n",
    "greet(**d) # output: Hello, Alice. You are 25 years old."
   ]
  },
  {
   "cell_type": "markdown",
   "id": "3512edfc",
   "metadata": {
    "papermill": {
     "duration": 0.010693,
     "end_time": "2023-03-31T18:17:57.974640",
     "exception": false,
     "start_time": "2023-03-31T18:17:57.963947",
     "status": "completed"
    },
    "tags": []
   },
   "source": [
    "In this example, the `**` operator unpacks the dictionary d and passes its key-value pairs as keyword arguments to the greet function.\n",
    "\n",
    "\n",
    "You can also use the `**` operator to unpack a dictionary into another dictionary. For example:"
   ]
  },
  {
   "cell_type": "code",
   "execution_count": 9,
   "id": "95f64ba8",
   "metadata": {
    "execution": {
     "iopub.execute_input": "2023-03-31T18:17:57.995983Z",
     "iopub.status.busy": "2023-03-31T18:17:57.995585Z",
     "iopub.status.idle": "2023-03-31T18:17:58.002953Z",
     "shell.execute_reply": "2023-03-31T18:17:58.001578Z"
    },
    "papermill": {
     "duration": 0.020988,
     "end_time": "2023-03-31T18:17:58.005893",
     "exception": false,
     "start_time": "2023-03-31T18:17:57.984905",
     "status": "completed"
    },
    "tags": []
   },
   "outputs": [
    {
     "name": "stdout",
     "output_type": "stream",
     "text": [
      "{'a': 1, 'b': 2, 'c': 3, 'd': 4}\n"
     ]
    }
   ],
   "source": [
    "# create two dictionaries\n",
    "d1 = {\"a\": 1, \"b\": 2}\n",
    "d2 = {\"c\": 3, \"d\": 4}\n",
    "\n",
    "# use the ** operator to unpack the dictionaries into a new dictionary\n",
    "d3 = {**d1, **d2}\n",
    "print(d3) # output: {'a': 1, 'b': 2, 'c': 3, 'd': 4}"
   ]
  },
  {
   "cell_type": "markdown",
   "id": "c402e5b3",
   "metadata": {
    "papermill": {
     "duration": 0.009385,
     "end_time": "2023-03-31T18:17:58.025104",
     "exception": false,
     "start_time": "2023-03-31T18:17:58.015719",
     "status": "completed"
    },
    "tags": []
   },
   "source": [
    "In this example, the `**` operator unpacks both `d1` and `d2` and merges them into a new dictionary `d3`."
   ]
  },
  {
   "cell_type": "markdown",
   "id": "9c3fd4a3",
   "metadata": {
    "papermill": {
     "duration": 0.009136,
     "end_time": "2023-03-31T18:17:58.043894",
     "exception": false,
     "start_time": "2023-03-31T18:17:58.034758",
     "status": "completed"
    },
    "tags": []
   },
   "source": [
    "## Lambda Function\n",
    "---\n",
    "A Python lambda function is a small **anonymous function** that can take **any number of arguments**, but can only have **one expression**. It has the following syntax:\n",
    "```python\n",
    "lambda arguments: expression # the expression is evaluated and returned automatically\n",
    "```\n",
    "* Lambda functions are useful when you need a short function that you don’t want to name or define separately. \n",
    "* Lambda functions are often used as arguments to other functions that expect a function object, such as `map, filter, or sort`."
   ]
  },
  {
   "cell_type": "code",
   "execution_count": 10,
   "id": "b0861a69",
   "metadata": {
    "execution": {
     "iopub.execute_input": "2023-03-31T18:17:58.065552Z",
     "iopub.status.busy": "2023-03-31T18:17:58.065112Z",
     "iopub.status.idle": "2023-03-31T18:17:58.072881Z",
     "shell.execute_reply": "2023-03-31T18:17:58.071394Z"
    },
    "papermill": {
     "duration": 0.0218,
     "end_time": "2023-03-31T18:17:58.075961",
     "exception": false,
     "start_time": "2023-03-31T18:17:58.054161",
     "status": "completed"
    },
    "tags": []
   },
   "outputs": [
    {
     "name": "stdout",
     "output_type": "stream",
     "text": [
      "9\n",
      "15\n"
     ]
    }
   ],
   "source": [
    "func = lambda x,y,z = 0: x + y + z\n",
    "print(func(4,5))\n",
    "print(func(4,5,6))"
   ]
  },
  {
   "cell_type": "markdown",
   "id": "0d8f0c1c",
   "metadata": {
    "papermill": {
     "duration": 0.009342,
     "end_time": "2023-03-31T18:17:58.095260",
     "exception": false,
     "start_time": "2023-03-31T18:17:58.085918",
     "status": "completed"
    },
    "tags": []
   },
   "source": [
    "### use case of lambda function\n",
    "#### sort the list of tuples by it's second element\n"
   ]
  },
  {
   "cell_type": "code",
   "execution_count": 11,
   "id": "89c8970d",
   "metadata": {
    "execution": {
     "iopub.execute_input": "2023-03-31T18:17:58.116896Z",
     "iopub.status.busy": "2023-03-31T18:17:58.116138Z",
     "iopub.status.idle": "2023-03-31T18:17:58.123650Z",
     "shell.execute_reply": "2023-03-31T18:17:58.122157Z"
    },
    "papermill": {
     "duration": 0.021419,
     "end_time": "2023-03-31T18:17:58.126592",
     "exception": false,
     "start_time": "2023-03-31T18:17:58.105173",
     "status": "completed"
    },
    "tags": []
   },
   "outputs": [
    {
     "name": "stdout",
     "output_type": "stream",
     "text": [
      "[(4, -6), (2, 3), (2, 4), (1, 4), (4, 8)]\n"
     ]
    }
   ],
   "source": [
    "list_of_tuples = [(2,4),(4,-6),(4,8),(2,3),(1,4)]\n",
    "list_of_tuples.sort(key=lambda x : x[1])\n",
    "print(list_of_tuples)"
   ]
  },
  {
   "cell_type": "markdown",
   "id": "a837c57d",
   "metadata": {
    "papermill": {
     "duration": 0.010095,
     "end_time": "2023-03-31T18:17:58.146970",
     "exception": false,
     "start_time": "2023-03-31T18:17:58.136875",
     "status": "completed"
    },
    "tags": []
   },
   "source": [
    "### nested lambda function"
   ]
  },
  {
   "cell_type": "code",
   "execution_count": 12,
   "id": "0de586e4",
   "metadata": {
    "execution": {
     "iopub.execute_input": "2023-03-31T18:17:58.169271Z",
     "iopub.status.busy": "2023-03-31T18:17:58.168837Z",
     "iopub.status.idle": "2023-03-31T18:17:58.177411Z",
     "shell.execute_reply": "2023-03-31T18:17:58.175986Z"
    },
    "papermill": {
     "duration": 0.0228,
     "end_time": "2023-03-31T18:17:58.180079",
     "exception": false,
     "start_time": "2023-03-31T18:17:58.157279",
     "status": "completed"
    },
    "tags": []
   },
   "outputs": [
    {
     "name": "stdout",
     "output_type": "stream",
     "text": [
      "<function <lambda>.<locals>.<lambda> at 0x7f7f5501f560>\n",
      "40\n",
      "<---><---><---><---><---><---><---><---><---><---><---><---><---><---><---><---><---><---><---><--->\n",
      "<function multiplication1.<locals>.multiplication2 at 0x7f7f5501f950>\n",
      "40\n",
      "<---><---><---><---><---><---><---><---><---><---><---><---><---><---><---><---><---><---><---><--->\n",
      "40\n"
     ]
    }
   ],
   "source": [
    "multiplication = lambda x: lambda y: x * y\n",
    "result = multiplication(5)\n",
    "print(result)\n",
    "print(result(8))\n",
    "print(\"<--->\"*20)\n",
    "\n",
    "# same as above\n",
    "def multiplication1(x):\n",
    "    def multiplication2(y):\n",
    "        return x * y\n",
    "    return multiplication2\n",
    "\n",
    "result = multiplication1(5)\n",
    "print(result)\n",
    "print(result(8))\n",
    "print(\"<--->\"*20)\n",
    "\n",
    "result = multiplication1(5)(8)\n",
    "print(result)"
   ]
  },
  {
   "cell_type": "markdown",
   "id": "3b1504a3",
   "metadata": {
    "papermill": {
     "duration": 0.009369,
     "end_time": "2023-03-31T18:17:58.199358",
     "exception": false,
     "start_time": "2023-03-31T18:17:58.189989",
     "status": "completed"
    },
    "tags": []
   },
   "source": [
    "### lambda function with `*args and splat/unpack` operator"
   ]
  },
  {
   "cell_type": "code",
   "execution_count": 13,
   "id": "5ea996a4",
   "metadata": {
    "execution": {
     "iopub.execute_input": "2023-03-31T18:17:58.221643Z",
     "iopub.status.busy": "2023-03-31T18:17:58.221216Z",
     "iopub.status.idle": "2023-03-31T18:17:58.227869Z",
     "shell.execute_reply": "2023-03-31T18:17:58.226564Z"
    },
    "papermill": {
     "duration": 0.020955,
     "end_time": "2023-03-31T18:17:58.230716",
     "exception": false,
     "start_time": "2023-03-31T18:17:58.209761",
     "status": "completed"
    },
    "tags": []
   },
   "outputs": [
    {
     "name": "stdout",
     "output_type": "stream",
     "text": [
      "6\n",
      "6\n"
     ]
    }
   ],
   "source": [
    "func = lambda *args: sum(args)\n",
    "print(func(1,2,3))\n",
    "print(func(*[1,2,3]))"
   ]
  },
  {
   "cell_type": "markdown",
   "id": "a558e0f9",
   "metadata": {
    "papermill": {
     "duration": 0.00941,
     "end_time": "2023-03-31T18:17:58.250154",
     "exception": false,
     "start_time": "2023-03-31T18:17:58.240744",
     "status": "completed"
    },
    "tags": []
   },
   "source": [
    "### lambda function with `**kwargs and splat/unpack` operator"
   ]
  },
  {
   "cell_type": "code",
   "execution_count": 14,
   "id": "043acdae",
   "metadata": {
    "execution": {
     "iopub.execute_input": "2023-03-31T18:17:58.271399Z",
     "iopub.status.busy": "2023-03-31T18:17:58.270954Z",
     "iopub.status.idle": "2023-03-31T18:17:58.278529Z",
     "shell.execute_reply": "2023-03-31T18:17:58.277101Z"
    },
    "papermill": {
     "duration": 0.021172,
     "end_time": "2023-03-31T18:17:58.281120",
     "exception": false,
     "start_time": "2023-03-31T18:17:58.259948",
     "status": "completed"
    },
    "tags": []
   },
   "outputs": [
    {
     "name": "stdout",
     "output_type": "stream",
     "text": [
      "10\n",
      "10\n"
     ]
    }
   ],
   "source": [
    "func = lambda **kwargs: kwargs[\"a\"] + kwargs[\"b\"]\n",
    "print(func(a=4,b=6))\n",
    "print(func(**dict(a=4,b=6)))"
   ]
  },
  {
   "cell_type": "markdown",
   "id": "ff2a3164",
   "metadata": {
    "papermill": {
     "duration": 0.009507,
     "end_time": "2023-03-31T18:17:58.300661",
     "exception": false,
     "start_time": "2023-03-31T18:17:58.291154",
     "status": "completed"
    },
    "tags": []
   },
   "source": [
    "## map and filter\n",
    "---\n",
    "**`map()`** and **`filter()`** are built-in functions in Python that are used to solve many complex problems easily.\n",
    "\n",
    "* **`map()`** is used when we want to apply the same function repeatedly on a different set of elements. It is beneficial in solving mathematical problems where we apply the same formula to a different set of values.\n",
    "</br>\n",
    "\n",
    "```python\n",
    "map(func, *iterables) --> map object\n",
    "```\n",
    "\n",
    "\n",
    "* **`filter()`** is used when we want to exclude the elements from the given `list, tuple, or set`. This type of function is mainly used in problems based on `sorting techniques`. We can sort the elements quickly based on the condition using this filter() function.\n",
    "</br>\n",
    "\n",
    "```python\n",
    "filter(function or None, iterable) --> filter object\n",
    "```\n",
    "\n",
    "\n",
    "Both `map()` and `filter()` functions are higher-order functions in Python. A higher-order function is referred to a function whose attributes or parameters are in the form of a function, and it returns output in the form of a function only. These higher-order functions in Python help to solve mathematical and complex analytical problems quickly.\n",
    "\n",
    "The detailed explanation and working of both functions with examples are given below. Both map() and filter() functions are built-in and higher-order functions, but their working is different. The area of application of both functions is different because of their functionality.\n",
    "\n",
    "To understand the functionality of both functions, first, we should know the difference between them. Let’s understand the difference between them in detail.\n",
    "\n",
    "* **`map()`** function always passes all the **elements/iterables** through the **transform function**. The result is printed in the form of a map object for the map() function. We can convert those map objects into a list. The mapping technique is implemented in the map() function. Transform function can take N number of arguments.\n",
    "\n",
    "* **`filter()`** function always checks the condition in terms of Boolean values and then passes elements through the function. The result is printed in the form of a filter object, and those filter objects can be converted into a list. The function used for checking conditions in the filter function must take only one argument."
   ]
  },
  {
   "cell_type": "markdown",
   "id": "bd091465",
   "metadata": {
    "papermill": {
     "duration": 0.009394,
     "end_time": "2023-03-31T18:17:58.319940",
     "exception": false,
     "start_time": "2023-03-31T18:17:58.310546",
     "status": "completed"
    },
    "tags": []
   },
   "source": [
    "### Using `map()` to square a list of numbers:"
   ]
  },
  {
   "cell_type": "code",
   "execution_count": 15,
   "id": "556165a8",
   "metadata": {
    "execution": {
     "iopub.execute_input": "2023-03-31T18:17:58.342250Z",
     "iopub.status.busy": "2023-03-31T18:17:58.341333Z",
     "iopub.status.idle": "2023-03-31T18:17:58.349595Z",
     "shell.execute_reply": "2023-03-31T18:17:58.347639Z"
    },
    "papermill": {
     "duration": 0.022852,
     "end_time": "2023-03-31T18:17:58.352737",
     "exception": false,
     "start_time": "2023-03-31T18:17:58.329885",
     "status": "completed"
    },
    "tags": []
   },
   "outputs": [
    {
     "name": "stdout",
     "output_type": "stream",
     "text": [
      "[4, 16, 36, 64, 81]\n"
     ]
    }
   ],
   "source": [
    "def squared(x):\n",
    "    return x ** 2\n",
    "\n",
    "num_list = [2, 4, 6, 8, 9]\n",
    "\n",
    "num_list_squared = list(map(squared, num_list))\n",
    "print(num_list_squared) # [1, 4, 9, 16, 25]"
   ]
  },
  {
   "cell_type": "markdown",
   "id": "230dfa0c",
   "metadata": {
    "papermill": {
     "duration": 0.009409,
     "end_time": "2023-03-31T18:17:58.372136",
     "exception": false,
     "start_time": "2023-03-31T18:17:58.362727",
     "status": "completed"
    },
    "tags": []
   },
   "source": [
    "### Using `map()` with a lambda function to convert a list of strings to uppercase:"
   ]
  },
  {
   "cell_type": "code",
   "execution_count": 16,
   "id": "02ad958c",
   "metadata": {
    "execution": {
     "iopub.execute_input": "2023-03-31T18:17:58.394550Z",
     "iopub.status.busy": "2023-03-31T18:17:58.393761Z",
     "iopub.status.idle": "2023-03-31T18:17:58.400913Z",
     "shell.execute_reply": "2023-03-31T18:17:58.399057Z"
    },
    "papermill": {
     "duration": 0.021406,
     "end_time": "2023-03-31T18:17:58.403782",
     "exception": false,
     "start_time": "2023-03-31T18:17:58.382376",
     "status": "completed"
    },
    "tags": []
   },
   "outputs": [
    {
     "name": "stdout",
     "output_type": "stream",
     "text": [
      "['APPLE', 'BANANA', 'PEAR', 'APRICOT', 'ORANGE']\n"
     ]
    }
   ],
   "source": [
    "fruit = [\"apple\", \"banana\", \"pear\", \"apricot\", \"orange\"]\n",
    "\n",
    "fruit_upper = list(map(lambda s: s.upper(), fruit))\n",
    "print(fruit_upper) # ['APPLE', 'BANANA', 'PEAR', 'APRICOT', 'ORANGE']"
   ]
  },
  {
   "cell_type": "markdown",
   "id": "586b0cf8",
   "metadata": {
    "papermill": {
     "duration": 0.009579,
     "end_time": "2023-03-31T18:17:58.423338",
     "exception": false,
     "start_time": "2023-03-31T18:17:58.413759",
     "status": "completed"
    },
    "tags": []
   },
   "source": [
    "### Using `filter()` to filter out even numbers from a list:"
   ]
  },
  {
   "cell_type": "code",
   "execution_count": 17,
   "id": "d466449f",
   "metadata": {
    "execution": {
     "iopub.execute_input": "2023-03-31T18:17:58.444996Z",
     "iopub.status.busy": "2023-03-31T18:17:58.444553Z",
     "iopub.status.idle": "2023-03-31T18:17:58.452018Z",
     "shell.execute_reply": "2023-03-31T18:17:58.450480Z"
    },
    "papermill": {
     "duration": 0.022574,
     "end_time": "2023-03-31T18:17:58.455876",
     "exception": false,
     "start_time": "2023-03-31T18:17:58.433302",
     "status": "completed"
    },
    "tags": []
   },
   "outputs": [
    {
     "name": "stdout",
     "output_type": "stream",
     "text": [
      "[2, 4]\n"
     ]
    }
   ],
   "source": [
    "def is_even(x):\n",
    "    return x % 2 == 0\n",
    "\n",
    "num_list = [1, 2, 3, 4, 5]\n",
    "\n",
    "num_list_even = list(filter(is_even, num_list))\n",
    "print(num_list_even) # [2, 4]"
   ]
  },
  {
   "cell_type": "markdown",
   "id": "ab78328b",
   "metadata": {
    "papermill": {
     "duration": 0.009835,
     "end_time": "2023-03-31T18:17:58.476912",
     "exception": false,
     "start_time": "2023-03-31T18:17:58.467077",
     "status": "completed"
    },
    "tags": []
   },
   "source": [
    "### Using `filter()` with a lambda function to filter out words that start with “A” from a list:"
   ]
  },
  {
   "cell_type": "code",
   "execution_count": 18,
   "id": "906a7e2b",
   "metadata": {
    "execution": {
     "iopub.execute_input": "2023-03-31T18:17:58.498867Z",
     "iopub.status.busy": "2023-03-31T18:17:58.498458Z",
     "iopub.status.idle": "2023-03-31T18:17:58.504862Z",
     "shell.execute_reply": "2023-03-31T18:17:58.503561Z"
    },
    "papermill": {
     "duration": 0.02095,
     "end_time": "2023-03-31T18:17:58.507966",
     "exception": false,
     "start_time": "2023-03-31T18:17:58.487016",
     "status": "completed"
    },
    "tags": []
   },
   "outputs": [
    {
     "name": "stdout",
     "output_type": "stream",
     "text": [
      "['apple', 'apricot']\n"
     ]
    }
   ],
   "source": [
    "fruit = [\"apple\", \"banana\", \"pear\", \"apricot\", \"orange\"]\n",
    "fruit_A = list(filter(lambda s: s[0].upper() == \"A\", fruit))\n",
    "print(fruit_A) # ['apple', 'apricot']"
   ]
  },
  {
   "cell_type": "code",
   "execution_count": null,
   "id": "df22516f",
   "metadata": {
    "papermill": {
     "duration": 0.00979,
     "end_time": "2023-03-31T18:17:58.528001",
     "exception": false,
     "start_time": "2023-03-31T18:17:58.518211",
     "status": "completed"
    },
    "tags": []
   },
   "outputs": [],
   "source": []
  }
 ],
 "metadata": {
  "kernelspec": {
   "display_name": "Python 3",
   "language": "python",
   "name": "python3"
  },
  "language_info": {
   "codemirror_mode": {
    "name": "ipython",
    "version": 3
   },
   "file_extension": ".py",
   "mimetype": "text/x-python",
   "name": "python",
   "nbconvert_exporter": "python",
   "pygments_lexer": "ipython3",
   "version": "3.7.12"
  },
  "papermill": {
   "default_parameters": {},
   "duration": 12.861822,
   "end_time": "2023-03-31T18:17:59.261405",
   "environment_variables": {},
   "exception": null,
   "input_path": "__notebook__.ipynb",
   "output_path": "__notebook__.ipynb",
   "parameters": {},
   "start_time": "2023-03-31T18:17:46.399583",
   "version": "2.4.0"
  }
 },
 "nbformat": 4,
 "nbformat_minor": 5
}
