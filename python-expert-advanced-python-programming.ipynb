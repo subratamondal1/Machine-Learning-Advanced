{
 "cells": [
  {
   "cell_type": "code",
   "execution_count": 1,
   "id": "044dba18",
   "metadata": {
    "_cell_guid": "b1076dfc-b9ad-4769-8c92-a6c4dae69d19",
    "_uuid": "8f2839f25d086af736a60e9eeb907d3b93b6e0e5",
    "execution": {
     "iopub.execute_input": "2023-03-29T22:28:46.442642Z",
     "iopub.status.busy": "2023-03-29T22:28:46.442260Z",
     "iopub.status.idle": "2023-03-29T22:28:46.456677Z",
     "shell.execute_reply": "2023-03-29T22:28:46.455526Z"
    },
    "papermill": {
     "duration": 0.024472,
     "end_time": "2023-03-29T22:28:46.459228",
     "exception": false,
     "start_time": "2023-03-29T22:28:46.434756",
     "status": "completed"
    },
    "tags": []
   },
   "outputs": [],
   "source": [
    "# This Python 3 environment comes with many helpful analytics libraries installed\n",
    "# It is defined by the kaggle/python Docker image: https://github.com/kaggle/docker-python\n",
    "# For example, here's several helpful packages to load\n",
    "\n",
    "import numpy as np # linear algebra\n",
    "import pandas as pd # data processing, CSV file I/O (e.g. pd.read_csv)\n",
    "\n",
    "# Input data files are available in the read-only \"../input/\" directory\n",
    "# For example, running this (by clicking run or pressing Shift+Enter) will list all files under the input directory\n",
    "\n",
    "import os\n",
    "for dirname, _, filenames in os.walk('/kaggle/input'):\n",
    "    for filename in filenames:\n",
    "        print(os.path.join(dirname, filename))\n",
    "\n",
    "# You can write up to 20GB to the current directory (/kaggle/working/) that gets preserved as output when you create a version using \"Save & Run All\" \n",
    "# You can also write temporary files to /kaggle/temp/, but they won't be saved outside of the current session"
   ]
  },
  {
   "cell_type": "markdown",
   "id": "ae929ce8",
   "metadata": {
    "papermill": {
     "duration": 0.00453,
     "end_time": "2023-03-29T22:28:46.468926",
     "exception": false,
     "start_time": "2023-03-29T22:28:46.464396",
     "status": "completed"
    },
    "tags": []
   },
   "source": [
    "# <center>Advanced Python Programming</center>\n",
    "---"
   ]
  },
  {
   "cell_type": "markdown",
   "id": "1cf39c37",
   "metadata": {
    "papermill": {
     "duration": 0.004444,
     "end_time": "2023-03-29T22:28:46.478137",
     "exception": false,
     "start_time": "2023-03-29T22:28:46.473693",
     "status": "completed"
    },
    "tags": []
   },
   "source": [
    "## Modules and Packages\n",
    "---\n",
    "**`Modules :`** are any file that ends with the extension **`.py`**.\n",
    "\n",
    "**`Packages :`** are directory that contains collection of python modules. And the directory must contain a module named **`__init__.py`** to be considered as a package.\n"
   ]
  },
  {
   "cell_type": "markdown",
   "id": "e2ae9c8b",
   "metadata": {
    "papermill": {
     "duration": 0.004537,
     "end_time": "2023-03-29T22:28:46.487466",
     "exception": false,
     "start_time": "2023-03-29T22:28:46.482929",
     "status": "completed"
    },
    "tags": []
   },
   "source": [
    "### The `__main__` module\n",
    "---\n",
    "The main module in Python is the source file where the program execution starts. Every Python program has a **`__main__`** module, and the code within that module is executed when the program is run. The **`__main__`** module can be located in any file, but it is typically placed in a file named **`main.py`**.\n",
    "\n",
    "The **`__main__`** module can be checked using the expression **`__name__ == '__main__'`**, which evaluates to True when the module is executed as a script, and to False when the module is imported by another module. This allows a common idiom for conditionally executing code when the module is not initialized from an import statement:\n",
    "\n",
    "**`Note:`** modules that are imported can't be named as **`main`**."
   ]
  },
  {
   "cell_type": "code",
   "execution_count": 2,
   "id": "a69210eb",
   "metadata": {
    "execution": {
     "iopub.execute_input": "2023-03-29T22:28:46.498995Z",
     "iopub.status.busy": "2023-03-29T22:28:46.498588Z",
     "iopub.status.idle": "2023-03-29T22:28:46.505522Z",
     "shell.execute_reply": "2023-03-29T22:28:46.504001Z"
    },
    "papermill": {
     "duration": 0.015427,
     "end_time": "2023-03-29T22:28:46.507787",
     "exception": false,
     "start_time": "2023-03-29T22:28:46.492360",
     "status": "completed"
    },
    "tags": []
   },
   "outputs": [
    {
     "name": "stdout",
     "output_type": "stream",
     "text": [
      "ok\n"
     ]
    }
   ],
   "source": [
    "if __name__ == '__main__':\n",
    "    # Execute when the module is not initialized from an import statement.\n",
    "    print(\"ok\")"
   ]
  },
  {
   "cell_type": "markdown",
   "id": "a088f93b",
   "metadata": {
    "papermill": {
     "duration": 0.006034,
     "end_time": "2023-03-29T22:28:46.519222",
     "exception": false,
     "start_time": "2023-03-29T22:28:46.513188",
     "status": "completed"
    },
    "tags": []
   },
   "source": [
    "This code pattern is quite common in Python files that you want to be executed as a script and imported in another module."
   ]
  },
  {
   "cell_type": "markdown",
   "id": "7cd1f9df",
   "metadata": {
    "papermill": {
     "duration": 0.00579,
     "end_time": "2023-03-29T22:28:46.531005",
     "exception": false,
     "start_time": "2023-03-29T22:28:46.525215",
     "status": "completed"
    },
    "tags": []
   },
   "source": [
    "## Files\n",
    "---\n",
    "reading files, creating files, writing to files, appending to files.\n",
    "\n",
    "\n",
    "To read files in Python, you need to use the `open()` function to open a file object and then use the `read()`, `readline()` or `readlines()` methods to read its contents.\n",
    "\n",
    "### Modes of `open` file object\n",
    "The modes of the `open()` function specify how the file will be opened and what operations can be performed on it. The modes are:\n",
    "\n",
    "* **`‘r’`**: Opens a file for reading only. The file pointer is placed at the beginning of the file. This is the default mode.\n",
    "* **`‘r+’`**: Opens a file for both reading and writing. The file pointer is placed at the beginning of the file.\n",
    "* **`‘w’`**: Opens a file for writing only. `Overwrites the file if the file exists. If the file does not exist, creates a new file for writing.`\n",
    "* **`‘w+’`**: Opens a file for both writing and reading. Overwrites the existing file if the file exists. If the file does not exist, creates a new file for reading and writing.\n",
    "* **`‘a’`**: Opens a file for appending. The file pointer is at the end of the file if the file exists. That is, the file is in the append mode. If the file does not exist, it creates a new file for writing.\n",
    "* **`‘a+’`**: Opens a file for both appending and reading. The file pointer is at the end of the file if the file exists. The file opens in the append mode. If the file does not exist, it creates a new file for reading and writing.</br>\n",
    "You can also add a `‘b’` to any of these modes to open the file in **binary mode**, which means that the data is read and written as bytes objects. This is useful for non-text files such as **images or audio files**.\n",
    "\n",
    "```python\n",
    "# open a file in read mode\n",
    "file = open(\"test.txt\", \"r\")\n",
    "\n",
    "# read the whole file and returns all the content as a single string\n",
    "print(file.read()) \n",
    "\n",
    "# close the file\n",
    "file.close()\n",
    "```\n",
    "\n",
    "You can also use the `with` keyword to automatically close the file after reading. \n",
    "\n",
    "```python\n",
    "# use with keyword to open and close a file\n",
    "with open(\"test.txt\", \"r\") as file:\n",
    "    # read the whole file and returns all the content as a single string\n",
    "    print(file.read())\n",
    "```\n",
    "\n",
    "### Built-in methods of `open` file object\n",
    "* **`read(size)`**: It reads up to size bytes from the file and returns a string. If size is omitted or negative, it reads until the end of the file.\n",
    "* **`readline(size)`**: It reads one line from the file and returns a string. If size is given, it reads at most size bytes from the line. An empty string is returned when the end of the file is reached.\n",
    "* **`readlines(sizehint)`**: It reads all the lines from the file and returns a list of strings. If sizehint is given, it reads approximately sizehint bytes from the file and splits them into lines.\n",
    "* **`write(string)`**: It writes the string to the file and returns None. It does not add a newline character at the end of the string.\n",
    "* **`writelines(lines)`**: It writes a list of strings to the file and returns None. It does not add newline characters at the end of each string.\n",
    "* **`close()`**: It closes the file and frees up any system resources used by it. It is recommended to use this method after finishing any file operations.\n",
    "* **`flush()`**: It forces any buffered data to be written to the file. This can be useful when you want to ensure that the data is written immediately without waiting for buffering.\n",
    "* **`seek(offset, whence)`**: It changes the cursor location in the file or the current file position to offset bytes, relative to whence. The whence argument can be 0 (start of the file), 1 (current position), or 2 (end of the file). It returns the new file position in bytes. The `seek()` method of the file object allows you to change the current position of the file pointer within the file. The file pointer is like a cursor that indicates where the next read or write operation will take place. The `seek()` method takes two parameters:\n",
    "    * `offset:` This is a number of bytes to move the file pointer from the reference point. It can be positive (move forward) or negative (move backward).\n",
    "    * `whence:` This is an optional parameter that specifies the reference point from which to move the file pointer. It can be one of the following values:\n",
    "        * `0`: The beginning of the file (default)\n",
    "        * `1`: The current position of the file pointer\n",
    "        * `2`: The end of the file</br>\n",
    "The `seek()` method returns None and does not raise any exception if the operation is successful. However, it may raise an OSError if the file is not opened in binary mode and whence is not 0 or offset is not 0.\n",
    "\n",
    "```python\n",
    "# open the file in read mode\n",
    "f = open(\"test.txt\", \"r\")\n",
    "\n",
    "# move the file pointer to the 6th byte from the beginning\n",
    "f.seek(6)\n",
    "# read 5 bytes from that position\n",
    "print(f.read(5)) # output: world\n",
    "\n",
    "# move the file pointer to the 3rd byte from the end\n",
    "f.seek(-3, 2)\n",
    "# read 3 bytes from that position\n",
    "print(f.read(3)) # output: ile\n",
    "\n",
    "# move the file pointer to the 8th byte from the current position\n",
    "f.seek(8, 1)\n",
    "# read one line from that position\n",
    "print(f.readline()) # output: This is a test file.\n",
    "\n",
    "# close the file\n",
    "f.close()\n",
    "```\n",
    "\n",
    "* **`tell()`**: It returns the current file position in bytes."
   ]
  },
  {
   "cell_type": "markdown",
   "id": "1dd3b897",
   "metadata": {
    "papermill": {
     "duration": 0.005595,
     "end_time": "2023-03-29T22:28:46.542799",
     "exception": false,
     "start_time": "2023-03-29T22:28:46.537204",
     "status": "completed"
    },
    "tags": []
   },
   "source": [
    "## args and kwargs\n",
    "---\n",
    "**`*args`** in Python is a special parameter that allows a function to take a variable number of arguments without specifying them in advance. Args stands for arguments, and it is usually preceded by an asterisk (`*`) in the function definition. For example:"
   ]
  },
  {
   "cell_type": "code",
   "execution_count": 3,
   "id": "78e6a696",
   "metadata": {
    "execution": {
     "iopub.execute_input": "2023-03-29T22:28:46.555047Z",
     "iopub.status.busy": "2023-03-29T22:28:46.554657Z",
     "iopub.status.idle": "2023-03-29T22:28:46.562818Z",
     "shell.execute_reply": "2023-03-29T22:28:46.561145Z"
    },
    "papermill": {
     "duration": 0.017085,
     "end_time": "2023-03-29T22:28:46.565181",
     "exception": false,
     "start_time": "2023-03-29T22:28:46.548096",
     "status": "completed"
    },
    "tags": []
   },
   "outputs": [
    {
     "name": "stdout",
     "output_type": "stream",
     "text": [
      "6\n",
      "9\n",
      "6\n",
      "0\n"
     ]
    }
   ],
   "source": [
    "def add(*args):\n",
    "    # args is a tuple of all the arguments passed\n",
    "    total = 0\n",
    "    for num in args:\n",
    "        total += num\n",
    "    return total\n",
    "\n",
    "print(add(1, 2, 3)) # output: 6\n",
    "print(add(4, 5)) # output: 9\n",
    "print(add(6)) # output: 6\n",
    "print(add()) # output: 0"
   ]
  },
  {
   "cell_type": "markdown",
   "id": "07c42896",
   "metadata": {
    "papermill": {
     "duration": 0.005102,
     "end_time": "2023-03-29T22:28:46.575833",
     "exception": false,
     "start_time": "2023-03-29T22:28:46.570731",
     "status": "completed"
    },
    "tags": []
   },
   "source": [
    "In this example, the add function can take any number of arguments and return their sum. The args parameter is a tuple that contains all the arguments passed to the function. You can use a for loop to iterate over args and perform any operation you want.\n",
    "\n",
    "The name args is just a convention and you can use any other name as long as it is preceded by an asterisk (`*`). However, it is recommended to use args as it is more readable and widely used.\n",
    "\n",
    "\n",
    "**`kwargs`** in Python is a special parameter that allows a function to take a variable number of keyword arguments without specifying them in advance. kwargs stands for keyword arguments, and it is usually preceded by two asterisks (`**`) in the function definition. For example:"
   ]
  },
  {
   "cell_type": "code",
   "execution_count": 4,
   "id": "d3028b3a",
   "metadata": {
    "execution": {
     "iopub.execute_input": "2023-03-29T22:28:46.589087Z",
     "iopub.status.busy": "2023-03-29T22:28:46.588691Z",
     "iopub.status.idle": "2023-03-29T22:28:46.596211Z",
     "shell.execute_reply": "2023-03-29T22:28:46.594717Z"
    },
    "papermill": {
     "duration": 0.01765,
     "end_time": "2023-03-29T22:28:46.598803",
     "exception": false,
     "start_time": "2023-03-29T22:28:46.581153",
     "status": "completed"
    },
    "tags": []
   },
   "outputs": [
    {
     "name": "stdout",
     "output_type": "stream",
     "text": [
      "name = Alice\n",
      "age = 25\n",
      "city = New York\n",
      "country = USA\n"
     ]
    }
   ],
   "source": [
    "def greet(**kwargs):\n",
    "    # kwargs is a dictionary of all the keyword arguments passed\n",
    "    for key, value in kwargs.items():\n",
    "        print(f\"{key} = {value}\")\n",
    "\n",
    "greet(name=\"Alice\", age=25) # output: name = Alice, age = 25\n",
    "greet(city=\"New York\", country=\"USA\") # output: city = New York, country = USA\n",
    "greet() # output: nothing"
   ]
  },
  {
   "cell_type": "markdown",
   "id": "f9abb3e4",
   "metadata": {
    "papermill": {
     "duration": 0.005478,
     "end_time": "2023-03-29T22:28:46.609710",
     "exception": false,
     "start_time": "2023-03-29T22:28:46.604232",
     "status": "completed"
    },
    "tags": []
   },
   "source": [
    "In this example, the greet function can take any number of keyword arguments and print them as key-value pairs. `The kwargs parameter is a dictionary` that contains all the keyword arguments passed to the function. You can use a for loop to iterate over `kwargs.items()` and access the keys and values.\n",
    "\n",
    "The name kwargs is just a convention and you can use any other name as long as it is preceded by two asterisks (`**`). However, it is recommended to use kwargs as it is more readable and widely used."
   ]
  },
  {
   "cell_type": "markdown",
   "id": "534dd55d",
   "metadata": {
    "papermill": {
     "duration": 0.005042,
     "end_time": "2023-03-29T22:28:46.620364",
     "exception": false,
     "start_time": "2023-03-29T22:28:46.615322",
     "status": "completed"
    },
    "tags": []
   },
   "source": [
    "### Unpack/Splat operator\n",
    "The unpack operator in Python is the asterisk (`*`) symbol that can be used to unpack an iterable object such as a list, a tuple, a set, or a dictionary into individual elements. For example:"
   ]
  },
  {
   "cell_type": "code",
   "execution_count": 5,
   "id": "c0aedfd6",
   "metadata": {
    "execution": {
     "iopub.execute_input": "2023-03-29T22:28:46.632995Z",
     "iopub.status.busy": "2023-03-29T22:28:46.632577Z",
     "iopub.status.idle": "2023-03-29T22:28:46.641599Z",
     "shell.execute_reply": "2023-03-29T22:28:46.639691Z"
    },
    "papermill": {
     "duration": 0.018405,
     "end_time": "2023-03-29T22:28:46.644300",
     "exception": false,
     "start_time": "2023-03-29T22:28:46.625895",
     "status": "completed"
    },
    "tags": []
   },
   "outputs": [
    {
     "name": "stdout",
     "output_type": "stream",
     "text": [
      "1\n",
      "2\n",
      "3\n",
      "4\n",
      "5\n",
      "8\n",
      "9\n",
      "6\n",
      "7\n",
      "name\n",
      "age\n"
     ]
    }
   ],
   "source": [
    "# unpack a list into three variables\n",
    "a, b, c = [1, 2, 3]\n",
    "print(a) # output: 1\n",
    "print(b) # output: 2\n",
    "print(c) # output: 3\n",
    "\n",
    "# unpack a tuple into two variables\n",
    "x, y = (4, 5)\n",
    "print(x) # output: 4\n",
    "print(y) # output: 5\n",
    "\n",
    "# unpack a set into four variables\n",
    "p, q, r, s = {6, 7, 8, 9}\n",
    "print(p) # output: 6\n",
    "print(q) # output: 7\n",
    "print(r) # output: 8\n",
    "print(s) # output: 9\n",
    "\n",
    "# unpack a dictionary into two variables\n",
    "key, value = {\"name\": \"Alice\",\"age\":23}\n",
    "print(key) # output: name\n",
    "print(value) # output: Alice"
   ]
  },
  {
   "cell_type": "markdown",
   "id": "0e56c515",
   "metadata": {
    "papermill": {
     "duration": 0.00503,
     "end_time": "2023-03-29T22:28:46.654749",
     "exception": false,
     "start_time": "2023-03-29T22:28:46.649719",
     "status": "completed"
    },
    "tags": []
   },
   "source": [
    "The unpack operator can also be used with the `*` symbol to unpack an iterable object into multiple arguments for a function call. For example:"
   ]
  },
  {
   "cell_type": "code",
   "execution_count": 6,
   "id": "0bf0dbd2",
   "metadata": {
    "execution": {
     "iopub.execute_input": "2023-03-29T22:28:46.667554Z",
     "iopub.status.busy": "2023-03-29T22:28:46.667191Z",
     "iopub.status.idle": "2023-03-29T22:28:46.673469Z",
     "shell.execute_reply": "2023-03-29T22:28:46.672430Z"
    },
    "papermill": {
     "duration": 0.0158,
     "end_time": "2023-03-29T22:28:46.675908",
     "exception": false,
     "start_time": "2023-03-29T22:28:46.660108",
     "status": "completed"
    },
    "tags": []
   },
   "outputs": [
    {
     "name": "stdout",
     "output_type": "stream",
     "text": [
      "10 20 30\n"
     ]
    }
   ],
   "source": [
    "# define a function that takes three arguments and prints them\n",
    "def print_args(a, b, c):\n",
    "    print(a, b, c)\n",
    "\n",
    "# create a list with three elements\n",
    "args = [10, 20, 30]\n",
    "\n",
    "# use the * symbol to unpack the list into arguments for the function call\n",
    "print_args(*args) # output: 10 20 30"
   ]
  },
  {
   "cell_type": "markdown",
   "id": "78728c81",
   "metadata": {
    "papermill": {
     "duration": 0.005326,
     "end_time": "2023-03-29T22:28:46.688163",
     "exception": false,
     "start_time": "2023-03-29T22:28:46.682837",
     "status": "completed"
    },
    "tags": []
   },
   "source": [
    "The unpack operator can also be used with the `*` symbol to unpack an iterable object into another iterable object such as a list or a tuple. For example:"
   ]
  },
  {
   "cell_type": "code",
   "execution_count": 7,
   "id": "a16b546e",
   "metadata": {
    "execution": {
     "iopub.execute_input": "2023-03-29T22:28:46.700914Z",
     "iopub.status.busy": "2023-03-29T22:28:46.700575Z",
     "iopub.status.idle": "2023-03-29T22:28:46.708243Z",
     "shell.execute_reply": "2023-03-29T22:28:46.705405Z"
    },
    "papermill": {
     "duration": 0.017061,
     "end_time": "2023-03-29T22:28:46.710753",
     "exception": false,
     "start_time": "2023-03-29T22:28:46.693692",
     "status": "completed"
    },
    "tags": []
   },
   "outputs": [
    {
     "name": "stdout",
     "output_type": "stream",
     "text": [
      "[1, 2, 3, 4, 5, 6]\n",
      "(1, 2, 3, 4, 5, 6)\n"
     ]
    }
   ],
   "source": [
    "# create two lists\n",
    "list1 = [1, 2, 3]\n",
    "list2 = [4, 5, 6]\n",
    "\n",
    "# use the * symbol to unpack the lists into a new list\n",
    "list3 = [*list1, *list2]\n",
    "print(list3) # output: [1, 2, 3, 4, 5, 6]\n",
    "\n",
    "# use the * symbol to unpack the lists into a new tuple\n",
    "tuple1 = (*list1, *list2)\n",
    "print(tuple1) # output: (1, 2, 3, 4, 5, 6)"
   ]
  },
  {
   "cell_type": "markdown",
   "id": "96339aca",
   "metadata": {
    "papermill": {
     "duration": 0.005143,
     "end_time": "2023-03-29T22:28:46.721587",
     "exception": false,
     "start_time": "2023-03-29T22:28:46.716444",
     "status": "completed"
    },
    "tags": []
   },
   "source": [
    "### unpack dictionary\n",
    "To unpack a dictionary in Python, you can use the double asterisk (`**`) operator that can be used to unpack a dictionary into key-value pairs. For example:"
   ]
  },
  {
   "cell_type": "code",
   "execution_count": 8,
   "id": "ffd0a5da",
   "metadata": {
    "execution": {
     "iopub.execute_input": "2023-03-29T22:28:46.734568Z",
     "iopub.status.busy": "2023-03-29T22:28:46.734179Z",
     "iopub.status.idle": "2023-03-29T22:28:46.741190Z",
     "shell.execute_reply": "2023-03-29T22:28:46.739371Z"
    },
    "papermill": {
     "duration": 0.016564,
     "end_time": "2023-03-29T22:28:46.743840",
     "exception": false,
     "start_time": "2023-03-29T22:28:46.727276",
     "status": "completed"
    },
    "tags": []
   },
   "outputs": [
    {
     "name": "stdout",
     "output_type": "stream",
     "text": [
      "Hello, Alice. You are 25 years old.\n"
     ]
    }
   ],
   "source": [
    "# create a dictionary\n",
    "d = {\"name\": \"Alice\", \"age\": 25}\n",
    "\n",
    "# use the ** operator to unpack the dictionary into keyword arguments for a function call\n",
    "def greet(name, age):\n",
    "    print(f\"Hello, {name}. You are {age} years old.\")\n",
    "\n",
    "greet(**d) # output: Hello, Alice. You are 25 years old."
   ]
  },
  {
   "cell_type": "markdown",
   "id": "1cb901d4",
   "metadata": {
    "papermill": {
     "duration": 0.005483,
     "end_time": "2023-03-29T22:28:46.755419",
     "exception": false,
     "start_time": "2023-03-29T22:28:46.749936",
     "status": "completed"
    },
    "tags": []
   },
   "source": [
    "In this example, the `**` operator unpacks the dictionary d and passes its key-value pairs as keyword arguments to the greet function.\n",
    "\n",
    "\n",
    "You can also use the `**` operator to unpack a dictionary into another dictionary. For example:"
   ]
  },
  {
   "cell_type": "code",
   "execution_count": 9,
   "id": "0ea2b03d",
   "metadata": {
    "execution": {
     "iopub.execute_input": "2023-03-29T22:28:46.768609Z",
     "iopub.status.busy": "2023-03-29T22:28:46.768280Z",
     "iopub.status.idle": "2023-03-29T22:28:46.775303Z",
     "shell.execute_reply": "2023-03-29T22:28:46.773495Z"
    },
    "papermill": {
     "duration": 0.016768,
     "end_time": "2023-03-29T22:28:46.777911",
     "exception": false,
     "start_time": "2023-03-29T22:28:46.761143",
     "status": "completed"
    },
    "tags": []
   },
   "outputs": [
    {
     "name": "stdout",
     "output_type": "stream",
     "text": [
      "{'a': 1, 'b': 2, 'c': 3, 'd': 4}\n"
     ]
    }
   ],
   "source": [
    "# create two dictionaries\n",
    "d1 = {\"a\": 1, \"b\": 2}\n",
    "d2 = {\"c\": 3, \"d\": 4}\n",
    "\n",
    "# use the ** operator to unpack the dictionaries into a new dictionary\n",
    "d3 = {**d1, **d2}\n",
    "print(d3) # output: {'a': 1, 'b': 2, 'c': 3, 'd': 4}"
   ]
  },
  {
   "cell_type": "markdown",
   "id": "c140e811",
   "metadata": {
    "papermill": {
     "duration": 0.005319,
     "end_time": "2023-03-29T22:28:46.789583",
     "exception": false,
     "start_time": "2023-03-29T22:28:46.784264",
     "status": "completed"
    },
    "tags": []
   },
   "source": [
    "In this example, the `**` operator unpacks both `d1` and `d2` and merges them into a new dictionary `d3`."
   ]
  },
  {
   "cell_type": "code",
   "execution_count": null,
   "id": "fabb20e6",
   "metadata": {
    "papermill": {
     "duration": 0.005224,
     "end_time": "2023-03-29T22:28:46.800419",
     "exception": false,
     "start_time": "2023-03-29T22:28:46.795195",
     "status": "completed"
    },
    "tags": []
   },
   "outputs": [],
   "source": []
  },
  {
   "cell_type": "code",
   "execution_count": null,
   "id": "766eecaf",
   "metadata": {
    "papermill": {
     "duration": 0.005239,
     "end_time": "2023-03-29T22:28:46.811048",
     "exception": false,
     "start_time": "2023-03-29T22:28:46.805809",
     "status": "completed"
    },
    "tags": []
   },
   "outputs": [],
   "source": []
  }
 ],
 "metadata": {
  "kernelspec": {
   "display_name": "Python 3",
   "language": "python",
   "name": "python3"
  },
  "language_info": {
   "codemirror_mode": {
    "name": "ipython",
    "version": 3
   },
   "file_extension": ".py",
   "mimetype": "text/x-python",
   "name": "python",
   "nbconvert_exporter": "python",
   "pygments_lexer": "ipython3",
   "version": "3.7.12"
  },
  "papermill": {
   "default_parameters": {},
   "duration": 12.515529,
   "end_time": "2023-03-29T22:28:47.539542",
   "environment_variables": {},
   "exception": null,
   "input_path": "__notebook__.ipynb",
   "output_path": "__notebook__.ipynb",
   "parameters": {},
   "start_time": "2023-03-29T22:28:35.024013",
   "version": "2.4.0"
  }
 },
 "nbformat": 4,
 "nbformat_minor": 5
}
