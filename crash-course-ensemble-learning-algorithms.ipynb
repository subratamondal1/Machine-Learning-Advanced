{
 "cells": [
  {
   "cell_type": "code",
   "execution_count": 1,
   "id": "0afe8643",
   "metadata": {
    "_cell_guid": "b1076dfc-b9ad-4769-8c92-a6c4dae69d19",
    "_uuid": "8f2839f25d086af736a60e9eeb907d3b93b6e0e5",
    "execution": {
     "iopub.execute_input": "2023-04-04T07:24:25.333459Z",
     "iopub.status.busy": "2023-04-04T07:24:25.333117Z",
     "iopub.status.idle": "2023-04-04T07:24:25.343710Z",
     "shell.execute_reply": "2023-04-04T07:24:25.342334Z"
    },
    "papermill": {
     "duration": 0.018589,
     "end_time": "2023-04-04T07:24:25.345807",
     "exception": false,
     "start_time": "2023-04-04T07:24:25.327218",
     "status": "completed"
    },
    "tags": []
   },
   "outputs": [],
   "source": [
    "# This Python 3 environment comes with many helpful analytics libraries installed\n",
    "# It is defined by the kaggle/python Docker image: https://github.com/kaggle/docker-python\n",
    "# For example, here's several helpful packages to load\n",
    "\n",
    "import numpy as np # linear algebra\n",
    "import pandas as pd # data processing, CSV file I/O (e.g. pd.read_csv)\n",
    "\n",
    "# Input data files are available in the read-only \"../input/\" directory\n",
    "# For example, running this (by clicking run or pressing Shift+Enter) will list all files under the input directory\n",
    "\n",
    "import os\n",
    "for dirname, _, filenames in os.walk('/kaggle/input'):\n",
    "    for filename in filenames:\n",
    "        print(os.path.join(dirname, filename))\n",
    "\n",
    "# You can write up to 20GB to the current directory (/kaggle/working/) that gets preserved as output when you create a version using \"Save & Run All\" \n",
    "# You can also write temporary files to /kaggle/temp/, but they won't be saved outside of the current session"
   ]
  },
  {
   "cell_type": "markdown",
   "id": "fffc94c5",
   "metadata": {
    "papermill": {
     "duration": 0.003323,
     "end_time": "2023-04-04T07:24:25.353043",
     "exception": false,
     "start_time": "2023-04-04T07:24:25.349720",
     "status": "completed"
    },
    "tags": []
   },
   "source": [
    "## Lesson 02: Bagging Ensembles\n",
    "---"
   ]
  },
  {
   "cell_type": "code",
   "execution_count": 2,
   "id": "f0158187",
   "metadata": {
    "execution": {
     "iopub.execute_input": "2023-04-04T07:24:25.361969Z",
     "iopub.status.busy": "2023-04-04T07:24:25.361568Z",
     "iopub.status.idle": "2023-04-04T07:24:29.124370Z",
     "shell.execute_reply": "2023-04-04T07:24:29.123545Z"
    },
    "papermill": {
     "duration": 3.769999,
     "end_time": "2023-04-04T07:24:29.126507",
     "exception": false,
     "start_time": "2023-04-04T07:24:25.356508",
     "status": "completed"
    },
    "tags": []
   },
   "outputs": [
    {
     "name": "stdout",
     "output_type": "stream",
     "text": [
      "Mean Accuracy: 0.947 (0.072)\n"
     ]
    }
   ],
   "source": [
    "# example of evaluating a bagging ensemble for classification\n",
    "from numpy import mean\n",
    "from numpy import std\n",
    "from sklearn.datasets import make_classification\n",
    "from sklearn.model_selection import cross_val_score\n",
    "from sklearn.model_selection import RepeatedStratifiedKFold\n",
    "from sklearn.ensemble import BaggingClassifier\n",
    "# create the synthetic classification dataset\n",
    "X, y = make_classification(random_state=1)\n",
    "# configure the ensemble model\n",
    "model = BaggingClassifier(n_estimators=50)\n",
    "# configure the resampling method\n",
    "cv = RepeatedStratifiedKFold(n_splits=10, n_repeats=3, random_state=1)\n",
    "# evaluate the ensemble on the dataset using the resampling method\n",
    "n_scores = cross_val_score(model, X, y, scoring='accuracy', cv=cv, n_jobs=-1) # report ensemble performance\n",
    "print('Mean Accuracy: %.3f (%.3f)' % (mean(n_scores), std(n_scores)))"
   ]
  },
  {
   "cell_type": "markdown",
   "id": "95a68e26",
   "metadata": {
    "papermill": {
     "duration": 0.003627,
     "end_time": "2023-04-04T07:24:29.133689",
     "exception": false,
     "start_time": "2023-04-04T07:24:29.130062",
     "status": "completed"
    },
    "tags": []
   },
   "source": [
    "## Lesson 03: Random Forest Ensemble\n",
    "---"
   ]
  },
  {
   "cell_type": "code",
   "execution_count": 3,
   "id": "91c19fb4",
   "metadata": {
    "execution": {
     "iopub.execute_input": "2023-04-04T07:24:29.143371Z",
     "iopub.status.busy": "2023-04-04T07:24:29.143021Z",
     "iopub.status.idle": "2023-04-04T07:24:29.990522Z",
     "shell.execute_reply": "2023-04-04T07:24:29.988707Z"
    },
    "papermill": {
     "duration": 0.855798,
     "end_time": "2023-04-04T07:24:29.993305",
     "exception": false,
     "start_time": "2023-04-04T07:24:29.137507",
     "status": "completed"
    },
    "tags": []
   },
   "outputs": [
    {
     "name": "stdout",
     "output_type": "stream",
     "text": [
      "Mean Accuracy: 0.947 (0.072)\n"
     ]
    }
   ],
   "source": [
    "# example of evaluating a random forest ensemble for classification\n",
    "from numpy import mean\n",
    "from numpy import std\n",
    "from sklearn.datasets import make_classification\n",
    "from sklearn.model_selection import cross_val_score\n",
    "from sklearn.model_selection import RepeatedStratifiedKFold\n",
    "from sklearn.ensemble import RandomForestClassifier\n",
    "# create the synthetic classification dataset\n",
    "X, y = make_classification(random_state=1)\n",
    "# configure the ensemble model\n",
    "model = RandomForestClassifier(n_estimators=50)\n",
    "# configure the resampling method\n",
    "cv = RepeatedStratifiedKFold(n_splits=10, n_repeats=3, random_state=1)\n",
    "# evaluate the ensemble on the dataset using the resampling method\n",
    "n_scores = cross_val_score(model, X, y, scoring='accuracy', cv=cv, n_jobs=-1) # report ensemble performance\n",
    "print('Mean Accuracy: %.3f (%.3f)' % (mean(n_scores), std(n_scores)))"
   ]
  },
  {
   "cell_type": "markdown",
   "id": "4a696e6d",
   "metadata": {
    "papermill": {
     "duration": 0.003794,
     "end_time": "2023-04-04T07:24:30.001781",
     "exception": false,
     "start_time": "2023-04-04T07:24:29.997987",
     "status": "completed"
    },
    "tags": []
   },
   "source": [
    "## Lesson 04: AdaBoost Ensemble\n",
    "---"
   ]
  },
  {
   "cell_type": "code",
   "execution_count": 4,
   "id": "d9063bd5",
   "metadata": {
    "execution": {
     "iopub.execute_input": "2023-04-04T07:24:30.012118Z",
     "iopub.status.busy": "2023-04-04T07:24:30.011727Z",
     "iopub.status.idle": "2023-04-04T07:24:31.003924Z",
     "shell.execute_reply": "2023-04-04T07:24:31.002385Z"
    },
    "papermill": {
     "duration": 1.001224,
     "end_time": "2023-04-04T07:24:31.007334",
     "exception": false,
     "start_time": "2023-04-04T07:24:30.006110",
     "status": "completed"
    },
    "tags": []
   },
   "outputs": [
    {
     "name": "stdout",
     "output_type": "stream",
     "text": [
      "Mean Accuracy: 0.947 (0.088)\n"
     ]
    }
   ],
   "source": [
    "# example of evaluating an AdaBoost ensemble for classification\n",
    "from numpy import mean\n",
    "from numpy import std\n",
    "from sklearn.datasets import make_classification\n",
    "from sklearn.model_selection import cross_val_score\n",
    "from sklearn.model_selection import RepeatedStratifiedKFold\n",
    "from sklearn.ensemble import AdaBoostClassifier\n",
    "# create the synthetic classification dataset\n",
    "X, y = make_classification(random_state=1)\n",
    "# configure the ensemble model\n",
    "model = AdaBoostClassifier(n_estimators=50)\n",
    "# configure the resampling method\n",
    "cv = RepeatedStratifiedKFold(n_splits=10, n_repeats=3, random_state=1)\n",
    "# evaluate the ensemble on the dataset using the resampling method\n",
    "n_scores = cross_val_score(model, X, y, scoring='accuracy', cv=cv, n_jobs=-1) # report ensemble performance\n",
    "print('Mean Accuracy: %.3f (%.3f)' % (mean(n_scores), std(n_scores)))"
   ]
  },
  {
   "cell_type": "markdown",
   "id": "7c27543b",
   "metadata": {
    "papermill": {
     "duration": 0.003505,
     "end_time": "2023-04-04T07:24:31.014971",
     "exception": false,
     "start_time": "2023-04-04T07:24:31.011466",
     "status": "completed"
    },
    "tags": []
   },
   "source": [
    "## Lesson 05: Gradient Boosting Ensemble\n",
    "---"
   ]
  },
  {
   "cell_type": "code",
   "execution_count": 5,
   "id": "b9cd7d61",
   "metadata": {
    "execution": {
     "iopub.execute_input": "2023-04-04T07:24:31.025591Z",
     "iopub.status.busy": "2023-04-04T07:24:31.025241Z",
     "iopub.status.idle": "2023-04-04T07:24:31.483027Z",
     "shell.execute_reply": "2023-04-04T07:24:31.481512Z"
    },
    "papermill": {
     "duration": 0.466436,
     "end_time": "2023-04-04T07:24:31.485010",
     "exception": false,
     "start_time": "2023-04-04T07:24:31.018574",
     "status": "completed"
    },
    "tags": []
   },
   "outputs": [
    {
     "name": "stdout",
     "output_type": "stream",
     "text": [
      "Mean Accuracy: 0.927 (0.100)\n"
     ]
    }
   ],
   "source": [
    "# example of evaluating a gradient boosting ensemble for classification\n",
    "from numpy import mean\n",
    "from numpy import std\n",
    "from sklearn.datasets import make_classification\n",
    "from sklearn.model_selection import cross_val_score\n",
    "from sklearn.model_selection import RepeatedStratifiedKFold\n",
    "from sklearn.ensemble import GradientBoostingClassifier\n",
    "# create the synthetic classification dataset\n",
    "X, y = make_classification(random_state=1)\n",
    "# configure the ensemble model\n",
    "model = GradientBoostingClassifier(n_estimators=50)\n",
    "# configure the resampling method\n",
    "cv = RepeatedStratifiedKFold(n_splits=10, n_repeats=3, random_state=1)\n",
    "# evaluate the ensemble on the dataset using the resampling method\n",
    "n_scores = cross_val_score(model, X, y, scoring='accuracy', cv=cv, n_jobs=-1) # report ensemble performance\n",
    "print('Mean Accuracy: %.3f (%.3f)' % (mean(n_scores), std(n_scores)))"
   ]
  },
  {
   "cell_type": "markdown",
   "id": "a7b0bbfe",
   "metadata": {
    "papermill": {
     "duration": 0.00408,
     "end_time": "2023-04-04T07:24:31.493178",
     "exception": false,
     "start_time": "2023-04-04T07:24:31.489098",
     "status": "completed"
    },
    "tags": []
   },
   "source": [
    "## Lesson 06: Voting Ensemble\n",
    "---"
   ]
  },
  {
   "cell_type": "code",
   "execution_count": 6,
   "id": "e630ea43",
   "metadata": {
    "execution": {
     "iopub.execute_input": "2023-04-04T07:24:31.504406Z",
     "iopub.status.busy": "2023-04-04T07:24:31.504029Z",
     "iopub.status.idle": "2023-04-04T07:24:31.635677Z",
     "shell.execute_reply": "2023-04-04T07:24:31.634227Z"
    },
    "papermill": {
     "duration": 0.141,
     "end_time": "2023-04-04T07:24:31.638823",
     "exception": false,
     "start_time": "2023-04-04T07:24:31.497823",
     "status": "completed"
    },
    "tags": []
   },
   "outputs": [
    {
     "name": "stdout",
     "output_type": "stream",
     "text": [
      "Mean Accuracy: 0.960 (0.061)\n"
     ]
    }
   ],
   "source": [
    "# example of evaluating a voting ensemble for classification\n",
    "from numpy import mean\n",
    "from numpy import std\n",
    "from sklearn.datasets import make_classification\n",
    "from sklearn.model_selection import cross_val_score\n",
    "from sklearn.model_selection import RepeatedStratifiedKFold\n",
    "from sklearn.ensemble import VotingClassifier\n",
    "from sklearn.naive_bayes import GaussianNB\n",
    "from sklearn.linear_model import LogisticRegression\n",
    "# create the synthetic classification dataset\n",
    "X, y = make_classification(random_state=1)\n",
    "# configure the models to use in the ensemble\n",
    "models = [('lr', LogisticRegression()), ('nb', GaussianNB())]\n",
    "# configure the ensemble model\n",
    "model = VotingClassifier(models, voting='soft')\n",
    "# configure the resampling method\n",
    "cv = RepeatedStratifiedKFold(n_splits=10, n_repeats=3, random_state=1)\n",
    "# evaluate the ensemble on the dataset using the resampling method\n",
    "n_scores = cross_val_score(model, X, y, scoring='accuracy', cv=cv, n_jobs=-1) # report ensemble performance\n",
    "print('Mean Accuracy: %.3f (%.3f)' % (mean(n_scores), std(n_scores)))"
   ]
  },
  {
   "cell_type": "markdown",
   "id": "6c36f857",
   "metadata": {
    "papermill": {
     "duration": 0.003565,
     "end_time": "2023-04-04T07:24:31.646685",
     "exception": false,
     "start_time": "2023-04-04T07:24:31.643120",
     "status": "completed"
    },
    "tags": []
   },
   "source": [
    "## Lesson 07: Stacking Ensemble\n",
    "---"
   ]
  },
  {
   "cell_type": "code",
   "execution_count": 7,
   "id": "88bc69fc",
   "metadata": {
    "execution": {
     "iopub.execute_input": "2023-04-04T07:24:31.656196Z",
     "iopub.status.busy": "2023-04-04T07:24:31.655825Z",
     "iopub.status.idle": "2023-04-04T07:24:31.906262Z",
     "shell.execute_reply": "2023-04-04T07:24:31.904302Z"
    },
    "papermill": {
     "duration": 0.258883,
     "end_time": "2023-04-04T07:24:31.909437",
     "exception": false,
     "start_time": "2023-04-04T07:24:31.650554",
     "status": "completed"
    },
    "tags": []
   },
   "outputs": [
    {
     "name": "stdout",
     "output_type": "stream",
     "text": [
      "Mean Accuracy: 0.933 (0.091)\n"
     ]
    }
   ],
   "source": [
    "# example of evaluating a stacking ensemble for classification\n",
    "from numpy import mean\n",
    "from numpy import std\n",
    "from sklearn.datasets import make_classification\n",
    "from sklearn.model_selection import cross_val_score\n",
    "from sklearn.model_selection import RepeatedStratifiedKFold\n",
    "from sklearn.ensemble import StackingClassifier\n",
    "from sklearn.neighbors import KNeighborsClassifier\n",
    "from sklearn.tree import DecisionTreeClassifier\n",
    "from sklearn.linear_model import LogisticRegression\n",
    "# create the synthetic classification dataset\n",
    "X, y = make_classification(random_state=1)\n",
    "# configure the models to use in the ensemble\n",
    "models = [('knn', KNeighborsClassifier()), ('tree', DecisionTreeClassifier())] # configure the ensemble model\n",
    "model = StackingClassifier(models, final_estimator=LogisticRegression(), cv=3) # configure the resampling method\n",
    "cv = RepeatedStratifiedKFold(n_splits=10, n_repeats=3, random_state=1)\n",
    "# evaluate the ensemble on the dataset using the resampling method\n",
    "n_scores = cross_val_score(model, X, y, scoring='accuracy', cv=cv, n_jobs=-1)\n",
    "# report ensemble performance\n",
    "print('Mean Accuracy: %.3f (%.3f)' % (mean(n_scores), std(n_scores))) "
   ]
  },
  {
   "cell_type": "markdown",
   "id": "39de445b",
   "metadata": {
    "papermill": {
     "duration": 0.00367,
     "end_time": "2023-04-04T07:24:31.917382",
     "exception": false,
     "start_time": "2023-04-04T07:24:31.913712",
     "status": "completed"
    },
    "tags": []
   },
   "source": [
    "## Conclusion\n",
    "---\n",
    "What ensemble learning is and why you would use it on a predictive modeling project.  How to use a bootstrap aggregation, or bagging, ensemble.\n",
    "   \n",
    "       * How to use a random forest ensemble as an extension to bagging.\n",
    "       * How to use an adaptive boosting or AdaBoost ensemble.\n",
    "       * How to use a gradient boosting ensemble.\n",
    "       * How to combine the predictions of models using a voting ensemble.\n",
    "       * How to learn how to combine the predictions of models using a stacking ensemble."
   ]
  },
  {
   "cell_type": "code",
   "execution_count": null,
   "id": "c6337209",
   "metadata": {
    "papermill": {
     "duration": 0.004605,
     "end_time": "2023-04-04T07:24:31.927091",
     "exception": false,
     "start_time": "2023-04-04T07:24:31.922486",
     "status": "completed"
    },
    "tags": []
   },
   "outputs": [],
   "source": []
  }
 ],
 "metadata": {
  "kernelspec": {
   "display_name": "Python 3",
   "language": "python",
   "name": "python3"
  },
  "language_info": {
   "codemirror_mode": {
    "name": "ipython",
    "version": 3
   },
   "file_extension": ".py",
   "mimetype": "text/x-python",
   "name": "python",
   "nbconvert_exporter": "python",
   "pygments_lexer": "ipython3",
   "version": "3.7.12"
  },
  "papermill": {
   "default_parameters": {},
   "duration": 19.43266,
   "end_time": "2023-04-04T07:24:34.553922",
   "environment_variables": {},
   "exception": null,
   "input_path": "__notebook__.ipynb",
   "output_path": "__notebook__.ipynb",
   "parameters": {},
   "start_time": "2023-04-04T07:24:15.121262",
   "version": "2.4.0"
  }
 },
 "nbformat": 4,
 "nbformat_minor": 5
}
