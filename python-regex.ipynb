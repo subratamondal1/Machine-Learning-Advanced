{
 "cells": [
  {
   "cell_type": "code",
   "execution_count": 1,
   "id": "543b6576",
   "metadata": {
    "_cell_guid": "b1076dfc-b9ad-4769-8c92-a6c4dae69d19",
    "_uuid": "8f2839f25d086af736a60e9eeb907d3b93b6e0e5",
    "execution": {
     "iopub.execute_input": "2023-04-02T13:52:51.549466Z",
     "iopub.status.busy": "2023-04-02T13:52:51.548836Z",
     "iopub.status.idle": "2023-04-02T13:52:51.559369Z",
     "shell.execute_reply": "2023-04-02T13:52:51.558434Z"
    },
    "papermill": {
     "duration": 0.024078,
     "end_time": "2023-04-02T13:52:51.561736",
     "exception": false,
     "start_time": "2023-04-02T13:52:51.537658",
     "status": "completed"
    },
    "tags": []
   },
   "outputs": [],
   "source": [
    "# This Python 3 environment comes with many helpful analytics libraries installed\n",
    "# It is defined by the kaggle/python Docker image: https://github.com/kaggle/docker-python\n",
    "# For example, here's several helpful packages to load\n",
    "\n",
    "import numpy as np # linear algebra\n",
    "import pandas as pd # data processing, CSV file I/O (e.g. pd.read_csv)\n",
    "\n",
    "# Input data files are available in the read-only \"../input/\" directory\n",
    "# For example, running this (by clicking run or pressing Shift+Enter) will list all files under the input directory\n",
    "\n",
    "import os\n",
    "for dirname, _, filenames in os.walk('/kaggle/input'):\n",
    "    for filename in filenames:\n",
    "        print(os.path.join(dirname, filename))\n",
    "\n",
    "# You can write up to 20GB to the current directory (/kaggle/working/) that gets preserved as output when you create a version using \"Save & Run All\" \n",
    "# You can also write temporary files to /kaggle/temp/, but they won't be saved outside of the current session"
   ]
  },
  {
   "cell_type": "markdown",
   "id": "e2c6c657",
   "metadata": {
    "papermill": {
     "duration": 0.008006,
     "end_time": "2023-04-02T13:52:51.578197",
     "exception": false,
     "start_time": "2023-04-02T13:52:51.570191",
     "status": "completed"
    },
    "tags": []
   },
   "source": [
    "# <center>Python RegEx</center>\n",
    "---"
   ]
  },
  {
   "cell_type": "markdown",
   "id": "78c3a38d",
   "metadata": {
    "papermill": {
     "duration": 0.007753,
     "end_time": "2023-04-02T13:52:51.594170",
     "exception": false,
     "start_time": "2023-04-02T13:52:51.586417",
     "status": "completed"
    },
    "tags": []
   },
   "source": [
    "Regular expressions are a way of specifying patterns of characters that you want to match in a string. They are a powerful tool for text **processing** and **manipulation**. Python has a built-in module called **`re`** that provides various functions and methods to work with regular expressions.\n",
    "\n",
    "A regular expression is composed of two types of characters: **normal characters** and **metacharacters**. Normal characters match themselves, while metacharacters have special meanings and functions. For example, the metacharacter **`.`** matches any character except a newline, while the metacharacter **`+`** means one or more repetitions of the preceding character or group.\n",
    "\n",
    "To use regular expressions in Python, you need to import the **`re`** module and then use one of its functions or methods, such as `re.search, re.findall, re.sub,` etc. These functions take a regular expression pattern as the first argument and a string as the second argument. They return different types of objects depending on the function and the match result."
   ]
  },
  {
   "cell_type": "code",
   "execution_count": 2,
   "id": "aa88a79d",
   "metadata": {
    "execution": {
     "iopub.execute_input": "2023-04-02T13:52:51.612484Z",
     "iopub.status.busy": "2023-04-02T13:52:51.611847Z",
     "iopub.status.idle": "2023-04-02T13:52:51.619074Z",
     "shell.execute_reply": "2023-04-02T13:52:51.617795Z"
    },
    "papermill": {
     "duration": 0.020236,
     "end_time": "2023-04-02T13:52:51.622480",
     "exception": false,
     "start_time": "2023-04-02T13:52:51.602244",
     "status": "completed"
    },
    "tags": []
   },
   "outputs": [
    {
     "name": "stdout",
     "output_type": "stream",
     "text": [
      "The rain in Spain falls mainly on the plain\n",
      "<re.Match object; span=(5, 8), match='ain'>\n"
     ]
    }
   ],
   "source": [
    "# Import the re module\n",
    "import re\n",
    "\n",
    "# Define a string\n",
    "text = \"The rain in Spain falls mainly on the plain\"\n",
    "\n",
    "# Define a regular expression pattern\n",
    "pattern = \"ain\"\n",
    "\n",
    "# Use re.search to find the first occurrence of the pattern in the string\n",
    "match = re.search(pattern, text)\n",
    "\n",
    "print(text)\n",
    "\n",
    "# Print the match object\n",
    "print(match) # Output: <re.Match object; span=(5, 8), match='ain'>"
   ]
  },
  {
   "cell_type": "code",
   "execution_count": 3,
   "id": "d0f20551",
   "metadata": {
    "execution": {
     "iopub.execute_input": "2023-04-02T13:52:51.641525Z",
     "iopub.status.busy": "2023-04-02T13:52:51.640878Z",
     "iopub.status.idle": "2023-04-02T13:52:51.647678Z",
     "shell.execute_reply": "2023-04-02T13:52:51.646236Z"
    },
    "papermill": {
     "duration": 0.018895,
     "end_time": "2023-04-02T13:52:51.650020",
     "exception": false,
     "start_time": "2023-04-02T13:52:51.631125",
     "status": "completed"
    },
    "tags": []
   },
   "outputs": [
    {
     "name": "stdout",
     "output_type": "stream",
     "text": [
      "The rain in Spain falls mainly on the plain\n",
      "['ain', 'ain', 'ain', 'ain']\n"
     ]
    }
   ],
   "source": [
    "# Use re.findall to find all occurrences of the pattern in the string\n",
    "matches = re.findall(pattern, text)\n",
    "\n",
    "print(text)\n",
    "\n",
    "# Print the list of matches\n",
    "print(matches) # Output: ['ain', 'ain', 'ain']"
   ]
  },
  {
   "cell_type": "code",
   "execution_count": 4,
   "id": "adef01e2",
   "metadata": {
    "execution": {
     "iopub.execute_input": "2023-04-02T13:52:51.669112Z",
     "iopub.status.busy": "2023-04-02T13:52:51.668010Z",
     "iopub.status.idle": "2023-04-02T13:52:51.675429Z",
     "shell.execute_reply": "2023-04-02T13:52:51.673809Z"
    },
    "papermill": {
     "duration": 0.020157,
     "end_time": "2023-04-02T13:52:51.678521",
     "exception": false,
     "start_time": "2023-04-02T13:52:51.658364",
     "status": "completed"
    },
    "tags": []
   },
   "outputs": [
    {
     "name": "stdout",
     "output_type": "stream",
     "text": [
      "The rain in Spain falls mainly on the plain\n",
      "The rane in Spane falls manely on the plane\n"
     ]
    }
   ],
   "source": [
    "# Use re.sub to replace all occurrences of the pattern in the string with another string\n",
    "new_text = re.sub(pattern, \"ane\", text)\n",
    "\n",
    "print(text)\n",
    "\n",
    "# Print the modified string\n",
    "print(new_text) # Output: The rane in Spane falls manely on the plane"
   ]
  },
  {
   "cell_type": "markdown",
   "id": "9398aecf",
   "metadata": {
    "papermill": {
     "duration": 0.008464,
     "end_time": "2023-04-02T13:52:51.695517",
     "exception": false,
     "start_time": "2023-04-02T13:52:51.687053",
     "status": "completed"
    },
    "tags": []
   },
   "source": [
    "## Raw Strings\n",
    "---\n",
    "Raw strings in Python are strings that treat backslashes (**`\\`**) as literal characters, rather than as escape sequences. They are useful when you need to specify strings that contain backslashes, such as regular expressions or file paths on Windows.\n",
    "\n",
    "To create a raw string in Python, you need to prefix the string literal with **`r or R, such as r'...' or R'...'`**. For example:"
   ]
  },
  {
   "cell_type": "code",
   "execution_count": 5,
   "id": "c0c8c81b",
   "metadata": {
    "execution": {
     "iopub.execute_input": "2023-04-02T13:52:51.714503Z",
     "iopub.status.busy": "2023-04-02T13:52:51.713842Z",
     "iopub.status.idle": "2023-04-02T13:52:51.720832Z",
     "shell.execute_reply": "2023-04-02T13:52:51.719313Z"
    },
    "papermill": {
     "duration": 0.019784,
     "end_time": "2023-04-02T13:52:51.723702",
     "exception": false,
     "start_time": "2023-04-02T13:52:51.703918",
     "status": "completed"
    },
    "tags": []
   },
   "outputs": [
    {
     "name": "stdout",
     "output_type": "stream",
     "text": [
      "Hello\n",
      "World\n",
      "Hello\\nWorld\n"
     ]
    }
   ],
   "source": [
    "# A regular string with escape sequences\n",
    "s = 'Hello\\nWorld'\n",
    "print(s)\n",
    "\n",
    "# A raw string with literal backslashes\n",
    "s = r'Hello\\nWorld'\n",
    "s = R'Hello\\nWorld'\n",
    "print(s)"
   ]
  },
  {
   "cell_type": "markdown",
   "id": "92dd66b9",
   "metadata": {
    "papermill": {
     "duration": 0.008206,
     "end_time": "2023-04-02T13:52:51.740328",
     "exception": false,
     "start_time": "2023-04-02T13:52:51.732122",
     "status": "completed"
    },
    "tags": []
   },
   "source": [
    "If you want to convert a regular string into a raw string, you can use the built-in **`repr()`** function, which returns a printable representation of an object. For example:"
   ]
  },
  {
   "cell_type": "code",
   "execution_count": 6,
   "id": "45ccdc5a",
   "metadata": {
    "execution": {
     "iopub.execute_input": "2023-04-02T13:52:51.759116Z",
     "iopub.status.busy": "2023-04-02T13:52:51.758681Z",
     "iopub.status.idle": "2023-04-02T13:52:51.764205Z",
     "shell.execute_reply": "2023-04-02T13:52:51.762996Z"
    },
    "papermill": {
     "duration": 0.018107,
     "end_time": "2023-04-02T13:52:51.766915",
     "exception": false,
     "start_time": "2023-04-02T13:52:51.748808",
     "status": "completed"
    },
    "tags": []
   },
   "outputs": [
    {
     "name": "stdout",
     "output_type": "stream",
     "text": [
      "'Hello\\nWorld'\n"
     ]
    }
   ],
   "source": [
    "# A regular string\n",
    "s = 'Hello\\nWorld'\n",
    "\n",
    "# Convert it to a raw string using repr()\n",
    "print(repr(s))"
   ]
  },
  {
   "cell_type": "markdown",
   "id": "29b045b2",
   "metadata": {
    "papermill": {
     "duration": 0.008032,
     "end_time": "2023-04-02T13:52:51.784063",
     "exception": false,
     "start_time": "2023-04-02T13:52:51.776031",
     "status": "completed"
    },
    "tags": []
   },
   "source": [
    "---"
   ]
  },
  {
   "cell_type": "code",
   "execution_count": 7,
   "id": "368a5116",
   "metadata": {
    "execution": {
     "iopub.execute_input": "2023-04-02T13:52:51.803206Z",
     "iopub.status.busy": "2023-04-02T13:52:51.802825Z",
     "iopub.status.idle": "2023-04-02T13:52:51.807911Z",
     "shell.execute_reply": "2023-04-02T13:52:51.806771Z"
    },
    "papermill": {
     "duration": 0.017422,
     "end_time": "2023-04-02T13:52:51.810263",
     "exception": false,
     "start_time": "2023-04-02T13:52:51.792841",
     "status": "completed"
    },
    "tags": []
   },
   "outputs": [],
   "source": [
    "text_to_search = '''\n",
    "abcdefghijklmnopqrstuvwxyz\n",
    "ABCDEFGHIJKLMNOPQRSTUVWXYZ\n",
    "1234567890\n",
    "\n",
    "Ha Haha\n",
    "\n",
    "Metacharacters (need to be escaped):\n",
    ". ^ $ * + ? { } [ ] \\ | ( )\n",
    "\n",
    "subrata.com\n",
    "\n",
    "6294505807\n",
    "123 321 53341\n",
    "\n",
    "Subrata\n",
    "Rahul\n",
    "Bapai\n",
    "Mrinal\n",
    "Kailash\n",
    "\n",
    "\"Emma's luck numbers are 251 761 231 451\"\n",
    "\"Blue Berries are better than black berries\"\n",
    "\n",
    "'''\n",
    "\n",
    "sentence = \"Start a sentence and then bring it to an end.\""
   ]
  },
  {
   "cell_type": "markdown",
   "id": "144a77ff",
   "metadata": {
    "papermill": {
     "duration": 0.008287,
     "end_time": "2023-04-02T13:52:51.827176",
     "exception": false,
     "start_time": "2023-04-02T13:52:51.818889",
     "status": "completed"
    },
    "tags": []
   },
   "source": [
    "## re.compile\n",
    "**`re.compile`** is a function that compiles a regular expression pattern into a regular expression object, which can be used for matching using its **match(), search()** and other methods. The advantage of compiling a regular expression is that you can reuse it multiple times without rewriting it. You can also specify flags to modify the behavior of the regular expression, such as case-insensitivity or multiline matching.\n",
    "\n",
    "```python\n",
    "re.compile(pattern, flags=0)\n",
    "```\n",
    "\n",
    "## re.finditer\n",
    "**`re.finditer`** is a method that returns an iterator yielding match objects over all non-overlapping matches for the regular expression pattern in a string. The match objects contain information about the start and end positions, groups and named groups of the match. You can use **re.finditer** to loop over all the matches in a string and perform some action on each match.\n",
    "\n",
    "```python\n",
    "re.finditer(pattern, string, flags=0)\n",
    "```"
   ]
  },
  {
   "cell_type": "markdown",
   "id": "36b7e36e",
   "metadata": {
    "papermill": {
     "duration": 0.008227,
     "end_time": "2023-04-02T13:52:51.844110",
     "exception": false,
     "start_time": "2023-04-02T13:52:51.835883",
     "status": "completed"
    },
    "tags": []
   },
   "source": [
    "**Example 1:** Compile a pattern to find three consecutive digits in a string"
   ]
  },
  {
   "cell_type": "code",
   "execution_count": 8,
   "id": "cd784e3d",
   "metadata": {
    "execution": {
     "iopub.execute_input": "2023-04-02T13:52:51.863548Z",
     "iopub.status.busy": "2023-04-02T13:52:51.863150Z",
     "iopub.status.idle": "2023-04-02T13:52:51.869862Z",
     "shell.execute_reply": "2023-04-02T13:52:51.868568Z"
    },
    "papermill": {
     "duration": 0.020608,
     "end_time": "2023-04-02T13:52:51.873431",
     "exception": false,
     "start_time": "2023-04-02T13:52:51.852823",
     "status": "completed"
    },
    "tags": []
   },
   "outputs": [
    {
     "name": "stdout",
     "output_type": "stream",
     "text": [
      "<class 'callable_iterator'>\n",
      "123, 456, 789, 629, 450, 580, 123, 321, 533, 251, 761, 231, 451, "
     ]
    }
   ],
   "source": [
    "# Example 1: Compile a pattern to find three consecutive digits in a string\n",
    "import re\n",
    "\n",
    "pattern = re.compile(r\"\\d{3}\") # \\d means any digit, {3} means exactly three times\n",
    "matches = pattern.finditer(text_to_search)\n",
    "print(type(matches))\n",
    "\n",
    "for match in matches:\n",
    "    print(match.group(),end=\", \") # match.group() returns the matched substring"
   ]
  },
  {
   "cell_type": "markdown",
   "id": "735093d4",
   "metadata": {
    "papermill": {
     "duration": 0.008253,
     "end_time": "2023-04-02T13:52:51.891388",
     "exception": false,
     "start_time": "2023-04-02T13:52:51.883135",
     "status": "completed"
    },
    "tags": []
   },
   "source": [
    "**Example 2:** Compile a pattern with flags to find words that start with b or B in a string"
   ]
  },
  {
   "cell_type": "code",
   "execution_count": 9,
   "id": "3d4bbd5a",
   "metadata": {
    "execution": {
     "iopub.execute_input": "2023-04-02T13:52:51.910888Z",
     "iopub.status.busy": "2023-04-02T13:52:51.910463Z",
     "iopub.status.idle": "2023-04-02T13:52:51.917606Z",
     "shell.execute_reply": "2023-04-02T13:52:51.916092Z"
    },
    "papermill": {
     "duration": 0.02053,
     "end_time": "2023-04-02T13:52:51.920669",
     "exception": false,
     "start_time": "2023-04-02T13:52:51.900139",
     "status": "completed"
    },
    "tags": []
   },
   "outputs": [
    {
     "name": "stdout",
     "output_type": "stream",
     "text": [
      "<class 'callable_iterator'>\n",
      "be, Bapai, Blue, Berries, better, black, berries, "
     ]
    }
   ],
   "source": [
    "# Example 2: Compile a pattern with flags to find words that start with b or B in a string\n",
    "import re\n",
    "\n",
    "pattern = re.compile(r\"\\b[bB]\\w+\", flags=re.IGNORECASE) # \\b means word boundary, \\w+ means one or more word characters, flags=re.IGNORECASE means ignore case\n",
    "matches = pattern.finditer(text_to_search)\n",
    "print(type(matches))\n",
    "\n",
    "for match in matches:\n",
    "    print(match.group(), end=\", \")"
   ]
  },
  {
   "cell_type": "markdown",
   "id": "509ec656",
   "metadata": {
    "papermill": {
     "duration": 0.008542,
     "end_time": "2023-04-02T13:52:51.938810",
     "exception": false,
     "start_time": "2023-04-02T13:52:51.930268",
     "status": "completed"
    },
    "tags": []
   },
   "source": [
    "## Most used methods of re module\n",
    "* **`re.match()`**: This method checks for a match only at the beginning of the string.\n",
    "* **`re.search()`**: This method checks for a match anywhere in the string.\n",
    "* **`re.findall()`**: This method returns a list of all matches in the string.\n",
    "* **`re.sub()`**: This method replaces one or more matches with a given string"
   ]
  },
  {
   "cell_type": "markdown",
   "id": "e8a2fe11",
   "metadata": {
    "papermill": {
     "duration": 0.008278,
     "end_time": "2023-04-02T13:52:51.956450",
     "exception": false,
     "start_time": "2023-04-02T13:52:51.948172",
     "status": "completed"
    },
    "tags": []
   },
   "source": [
    "## Metacharacters\n",
    "---\n",
    "Metacharacters are characters with a special meaning in regular expressions. They are used to define the search criteria and any text manipulations.\n",
    "\n",
    "1. **`.`** The metacharacter . matches any character except a newline in Python regular expressions. It is also called the dot or wildcard metacharacter. It can be used to match any single character in a pattern.\n",
    "\n",
    "For example, if you want to match a word that starts with “`h`” and ends with “`t`”, you can use the pattern \"`h.t`\". This will match any word that has three letters and the first and last letters are “`h`” and “`t`”, such as `“hat”, “hot”, “hit”`, etc."
   ]
  },
  {
   "cell_type": "code",
   "execution_count": 10,
   "id": "a491afde",
   "metadata": {
    "execution": {
     "iopub.execute_input": "2023-04-02T13:52:51.975758Z",
     "iopub.status.busy": "2023-04-02T13:52:51.975306Z",
     "iopub.status.idle": "2023-04-02T13:52:51.981773Z",
     "shell.execute_reply": "2023-04-02T13:52:51.980587Z"
    },
    "papermill": {
     "duration": 0.019521,
     "end_time": "2023-04-02T13:52:51.984751",
     "exception": false,
     "start_time": "2023-04-02T13:52:51.965230",
     "status": "completed"
    },
    "tags": []
   },
   "outputs": [
    {
     "name": "stdout",
     "output_type": "stream",
     "text": [
      "['T', 'h', 'e', ' ', 'h', 'a', 't', ' ', 'i', 's', ' ', 'h', 'o', 't']\n"
     ]
    }
   ],
   "source": [
    "import re\n",
    "\n",
    "# create a pattern object from a metacharacter expression\n",
    "pattern = re.compile(\".\")\n",
    "\n",
    "# find the first match of that pattern in a string\n",
    "match = re.findall(pattern, \"The hat is hot\")\n",
    "\n",
    "# print the match object\n",
    "print(match) # <re.Match object; span=(4, 7), match='hat'>"
   ]
  },
  {
   "cell_type": "code",
   "execution_count": 11,
   "id": "1344de89",
   "metadata": {
    "execution": {
     "iopub.execute_input": "2023-04-02T13:52:52.004867Z",
     "iopub.status.busy": "2023-04-02T13:52:52.004440Z",
     "iopub.status.idle": "2023-04-02T13:52:52.010815Z",
     "shell.execute_reply": "2023-04-02T13:52:52.009526Z"
    },
    "papermill": {
     "duration": 0.019024,
     "end_time": "2023-04-02T13:52:52.013308",
     "exception": false,
     "start_time": "2023-04-02T13:52:51.994284",
     "status": "completed"
    },
    "tags": []
   },
   "outputs": [
    {
     "name": "stdout",
     "output_type": "stream",
     "text": [
      "['hat', 'hot']\n"
     ]
    }
   ],
   "source": [
    "# find all the matches of that pattern in a string\n",
    "matches = re.findall(\"h.t\", \"The hat is hot\")\n",
    "\n",
    "# print the matches list\n",
    "print(matches) # ['hat', 'hot']"
   ]
  },
  {
   "cell_type": "markdown",
   "id": "e30b71b9",
   "metadata": {
    "papermill": {
     "duration": 0.008408,
     "end_time": "2023-04-02T13:52:52.030489",
     "exception": false,
     "start_time": "2023-04-02T13:52:52.022081",
     "status": "completed"
    },
    "tags": []
   },
   "source": [
    "2. **`\\d`** matches **`any digit`** from (0-9)\n",
    "3. **`\\D`** matches **`non-digit`**\n",
    "\n",
    "The metacharacter **`\\d`** matches **any digit** from `0 to 9`. For example, the pattern **\\d\\d** matches any two digits, such as `12 or 99`. The metacharacter **`\\D`** matches any **non-digit character**. For example, the pattern **\\D\\D** matches any two non-digits, such as `ab or %&`."
   ]
  },
  {
   "cell_type": "code",
   "execution_count": 12,
   "id": "19c70bcb",
   "metadata": {
    "execution": {
     "iopub.execute_input": "2023-04-02T13:52:52.049740Z",
     "iopub.status.busy": "2023-04-02T13:52:52.049327Z",
     "iopub.status.idle": "2023-04-02T13:52:52.057074Z",
     "shell.execute_reply": "2023-04-02T13:52:52.055480Z"
    },
    "papermill": {
     "duration": 0.020385,
     "end_time": "2023-04-02T13:52:52.059674",
     "exception": false,
     "start_time": "2023-04-02T13:52:52.039289",
     "status": "completed"
    },
    "tags": []
   },
   "outputs": [
    {
     "name": "stdout",
     "output_type": "stream",
     "text": [
      "<re.Match object; span=(19, 31), match='123-456-7890'> \n",
      "\n",
      "123-456-7890\n"
     ]
    }
   ],
   "source": [
    "import re\n",
    "\n",
    "# using \\d to match digits\n",
    "text = \"My phone number is 123-456-7890\"\n",
    "pattern = r\"\\d\\d\\d-\\d\\d\\d-\\d\\d\\d\\d\" # match a phone number format\n",
    "match = re.search(pattern, text)\n",
    "print(match,\"\\n\")\n",
    "if match:\n",
    "    print(match.group()) # prints 123-456-7890"
   ]
  },
  {
   "cell_type": "code",
   "execution_count": 13,
   "id": "d5ce2dca",
   "metadata": {
    "execution": {
     "iopub.execute_input": "2023-04-02T13:52:52.079461Z",
     "iopub.status.busy": "2023-04-02T13:52:52.079057Z",
     "iopub.status.idle": "2023-04-02T13:52:52.085979Z",
     "shell.execute_reply": "2023-04-02T13:52:52.084496Z"
    },
    "papermill": {
     "duration": 0.019794,
     "end_time": "2023-04-02T13:52:52.088322",
     "exception": false,
     "start_time": "2023-04-02T13:52:52.068528",
     "status": "completed"
    },
    "tags": []
   },
   "outputs": [
    {
     "name": "stdout",
     "output_type": "stream",
     "text": [
      "['The price is $', '.']\n"
     ]
    }
   ],
   "source": [
    "# using \\D to match non-digits\n",
    "text = \"The price is $9.99\"\n",
    "pattern = r\"\\D+\" # match one or more non-digits\n",
    "match = re.findall(pattern, text)\n",
    "if match:\n",
    "    print(match) # prints ['The price is $', '.']"
   ]
  },
  {
   "cell_type": "markdown",
   "id": "53c7821d",
   "metadata": {
    "papermill": {
     "duration": 0.008662,
     "end_time": "2023-04-02T13:52:52.106553",
     "exception": false,
     "start_time": "2023-04-02T13:52:52.097891",
     "status": "completed"
    },
    "tags": []
   },
   "source": [
    "4. **`\\w`** matches any **`alphanumeric characters`** i.e ([a-z], [A-Z], [0-9])\n",
    "5. **`\\W`** matches any **`non-alphanumeric characters`**\n",
    "\n",
    "The metacharacter **`\\w`** matches **`any alphanumeric character`**, which means any letter from `a to z (lowercase or uppercase)`, any digit from `0 to 9`, or the `underscore character _`. For example, the pattern `\\w\\w\\w` matches any three alphanumeric characters, such as `abc` or `1_2`. \n",
    "\n",
    "The metacharacter **`\\W`** matches any **`non-alphanumeric character`**, which means any character that is `not a letter, a digit, or an underscore`. For example, the pattern `\\W` matches any symbol, such as `%` or `&`."
   ]
  },
  {
   "cell_type": "code",
   "execution_count": 14,
   "id": "beb32367",
   "metadata": {
    "execution": {
     "iopub.execute_input": "2023-04-02T13:52:52.127407Z",
     "iopub.status.busy": "2023-04-02T13:52:52.127010Z",
     "iopub.status.idle": "2023-04-02T13:52:52.133647Z",
     "shell.execute_reply": "2023-04-02T13:52:52.132412Z"
    },
    "papermill": {
     "duration": 0.02042,
     "end_time": "2023-04-02T13:52:52.136199",
     "exception": false,
     "start_time": "2023-04-02T13:52:52.115779",
     "status": "completed"
    },
    "tags": []
   },
   "outputs": [
    {
     "name": "stdout",
     "output_type": "stream",
     "text": [
      "['My', 'username', 'is', 'pynative_01'] \n",
      "\n"
     ]
    }
   ],
   "source": [
    "import re\n",
    "\n",
    "# using \\w to match alphanumeric characters\n",
    "text = \"My username is pynative_01\"\n",
    "pattern = r\"\\w+\" # match one or more alphanumeric characters\n",
    "match = re.findall(pattern, text)\n",
    "print(match, \"\\n\")"
   ]
  },
  {
   "cell_type": "code",
   "execution_count": 15,
   "id": "296cf410",
   "metadata": {
    "execution": {
     "iopub.execute_input": "2023-04-02T13:52:52.156240Z",
     "iopub.status.busy": "2023-04-02T13:52:52.155797Z",
     "iopub.status.idle": "2023-04-02T13:52:52.162788Z",
     "shell.execute_reply": "2023-04-02T13:52:52.160744Z"
    },
    "papermill": {
     "duration": 0.019904,
     "end_time": "2023-04-02T13:52:52.165049",
     "exception": false,
     "start_time": "2023-04-02T13:52:52.145145",
     "status": "completed"
    },
    "tags": []
   },
   "outputs": [
    {
     "name": "stdout",
     "output_type": "stream",
     "text": [
      "[' ', ' ', ' ', '$', '.']\n"
     ]
    }
   ],
   "source": [
    "# using \\W to match non-alphanumeric characters\n",
    "text = \"The price is $9.99\"\n",
    "pattern = r\"\\W\" # match one non-alphanumeric character\n",
    "match = re.findall(pattern, text)\n",
    "print(match) # prints space, $ , dot(.), comma(,)"
   ]
  },
  {
   "cell_type": "markdown",
   "id": "ec638d3d",
   "metadata": {
    "papermill": {
     "duration": 0.008851,
     "end_time": "2023-04-02T13:52:52.183116",
     "exception": false,
     "start_time": "2023-04-02T13:52:52.174265",
     "status": "completed"
    },
    "tags": []
   },
   "source": [
    "6. **`\\s`** matches **`any Whitespace Characters`**\n",
    "7. **`\\S`** matches **`any Non-Whitespace Characters`**\n",
    "\n",
    "The metacharacter **`\\s`** matches any **whitespace character**, which means any **space, tab, newline, or carriage return**. For example, the pattern `\\s\\s` matches `any two whitespace characters`, such as `\" \" or “\\n\\t”`. \n",
    "\n",
    "The metacharacter **`\\S`** matches any **non-whitespace character**, which means any character that is **not a space, tab, newline, or carriage return**. For example, the pattern `\\S` matches any `symbol, letter, digit, or underscore`."
   ]
  },
  {
   "cell_type": "code",
   "execution_count": 16,
   "id": "061df591",
   "metadata": {
    "execution": {
     "iopub.execute_input": "2023-04-02T13:52:52.203267Z",
     "iopub.status.busy": "2023-04-02T13:52:52.202835Z",
     "iopub.status.idle": "2023-04-02T13:52:52.209579Z",
     "shell.execute_reply": "2023-04-02T13:52:52.208175Z"
    },
    "papermill": {
     "duration": 0.020022,
     "end_time": "2023-04-02T13:52:52.212259",
     "exception": false,
     "start_time": "2023-04-02T13:52:52.192237",
     "status": "completed"
    },
    "tags": []
   },
   "outputs": [
    {
     "name": "stdout",
     "output_type": "stream",
     "text": [
      "['\\t', '\\n']\n"
     ]
    }
   ],
   "source": [
    "import re\n",
    "\n",
    "# using \\s to match whitespace characters\n",
    "text = \"Hello\\tworld\\n\"\n",
    "pattern = r\"\\s\" # match one whitespace character\n",
    "match = re.findall(pattern, text)\n",
    "if match:\n",
    "    print(match) # prints ['\\t', '\\n']"
   ]
  },
  {
   "cell_type": "code",
   "execution_count": 17,
   "id": "187775f3",
   "metadata": {
    "execution": {
     "iopub.execute_input": "2023-04-02T13:52:52.232925Z",
     "iopub.status.busy": "2023-04-02T13:52:52.231989Z",
     "iopub.status.idle": "2023-04-02T13:52:52.239566Z",
     "shell.execute_reply": "2023-04-02T13:52:52.238150Z"
    },
    "papermill": {
     "duration": 0.020716,
     "end_time": "2023-04-02T13:52:52.242048",
     "exception": false,
     "start_time": "2023-04-02T13:52:52.221332",
     "status": "completed"
    },
    "tags": []
   },
   "outputs": [
    {
     "name": "stdout",
     "output_type": "stream",
     "text": [
      "['The', 'price', 'is', '$9.99']\n"
     ]
    }
   ],
   "source": [
    "# using \\S to match non-whitespace characters\n",
    "text = \"The price is $9.99\"\n",
    "pattern = r\"\\S+\" # match one or more non-whitespace characters\n",
    "match = re.findall(pattern, text)\n",
    "if match:\n",
    "    print(match) # prints ['The', 'price', 'is', '$9.99']"
   ]
  },
  {
   "cell_type": "markdown",
   "id": "6d199427",
   "metadata": {
    "papermill": {
     "duration": 0.008999,
     "end_time": "2023-04-02T13:52:52.260159",
     "exception": false,
     "start_time": "2023-04-02T13:52:52.251160",
     "status": "completed"
    },
    "tags": []
   },
   "source": [
    "8. **`\\b`** matches a **word boundary**\n",
    "9. **`\\B`** matches a **non-word boundary**\n",
    "\n",
    "The metacharacter **`\\b`** matches a **word boundary**, which is a `position between a word character and a non-word character`, or between a `word character and the beginning or end of a string`. A word character is any letter, digit, or underscore. For example, the pattern `\\bcat\\b` matches the word “cat” but not “catch” or “concatenate”.\n",
    "\n",
    "The metacharacter **`\\B`** matches a **non-word boundary**, which is a `position where both characters are word characters or both are non-word characters`. For example, the pattern `\\Bcat\\B` matches “catch” and “concatenate” but not “cat” or “scat”."
   ]
  },
  {
   "cell_type": "code",
   "execution_count": 18,
   "id": "6b9dd09d",
   "metadata": {
    "execution": {
     "iopub.execute_input": "2023-04-02T13:52:52.288589Z",
     "iopub.status.busy": "2023-04-02T13:52:52.287795Z",
     "iopub.status.idle": "2023-04-02T13:52:52.294822Z",
     "shell.execute_reply": "2023-04-02T13:52:52.293867Z"
    },
    "papermill": {
     "duration": 0.026314,
     "end_time": "2023-04-02T13:52:52.298289",
     "exception": false,
     "start_time": "2023-04-02T13:52:52.271975",
     "status": "completed"
    },
    "tags": []
   },
   "outputs": [
    {
     "name": "stdout",
     "output_type": "stream",
     "text": [
      "<re.Match object; span=(7, 11), match='cats'> \n",
      "\n",
      "cats\n"
     ]
    }
   ],
   "source": [
    "import re\n",
    "\n",
    "# using \\b to match word boundaries\n",
    "text = \"I like cats and dogs\"\n",
    "pattern = r\"\\bcats\\b\" # match cat as a whole word\n",
    "match = re.search(pattern, text)\n",
    "print(match, \"\\n\")\n",
    "if match:\n",
    "    print(match.group()) # prints cat"
   ]
  },
  {
   "cell_type": "code",
   "execution_count": 19,
   "id": "d938bad2",
   "metadata": {
    "execution": {
     "iopub.execute_input": "2023-04-02T13:52:52.327239Z",
     "iopub.status.busy": "2023-04-02T13:52:52.326048Z",
     "iopub.status.idle": "2023-04-02T13:52:52.336982Z",
     "shell.execute_reply": "2023-04-02T13:52:52.335446Z"
    },
    "papermill": {
     "duration": 0.02778,
     "end_time": "2023-04-02T13:52:52.340402",
     "exception": false,
     "start_time": "2023-04-02T13:52:52.312622",
     "status": "completed"
    },
    "tags": []
   },
   "outputs": [
    {
     "name": "stdout",
     "output_type": "stream",
     "text": [
      "<re.Match object; span=(20, 23), match='cat'> \n",
      "\n",
      "cat\n"
     ]
    }
   ],
   "source": [
    "# using \\B to match non-word boundaries\n",
    "text = \"I like catch and concatenate\"\n",
    "pattern = r\"\\Bcat\\B\" # match cat inside other words\n",
    "match = re.search(pattern, text)\n",
    "print(match, \"\\n\")\n",
    "if match:\n",
    "    print(match.group()) # prints cat"
   ]
  },
  {
   "cell_type": "markdown",
   "id": "e28a3358",
   "metadata": {
    "papermill": {
     "duration": 0.011893,
     "end_time": "2023-04-02T13:52:52.365264",
     "exception": false,
     "start_time": "2023-04-02T13:52:52.353371",
     "status": "completed"
    },
    "tags": []
   },
   "source": [
    "### Anchors\n",
    "Anchors are metacharacters that **match the positions of characters in a string**, such as the beginning or the end of a string. They are useful for specifying where a pattern should occur in a string. In Python, there are two types of anchors:\n",
    "\n",
    "* The **`caret anchor (^)`** matches at the **beginning** of a string. For example, the pattern ^Hello matches the string “Hello world” but not “Say Hello”.\n",
    "* The **`dollar anchor ($)`** matches at the **end** of a string. For example, the pattern world$ matches the string “Hello world” but not “world peace”."
   ]
  },
  {
   "cell_type": "code",
   "execution_count": 20,
   "id": "81ee3c31",
   "metadata": {
    "execution": {
     "iopub.execute_input": "2023-04-02T13:52:52.385820Z",
     "iopub.status.busy": "2023-04-02T13:52:52.385399Z",
     "iopub.status.idle": "2023-04-02T13:52:52.391946Z",
     "shell.execute_reply": "2023-04-02T13:52:52.390733Z"
    },
    "papermill": {
     "duration": 0.020248,
     "end_time": "2023-04-02T13:52:52.394894",
     "exception": false,
     "start_time": "2023-04-02T13:52:52.374646",
     "status": "completed"
    },
    "tags": []
   },
   "outputs": [
    {
     "name": "stdout",
     "output_type": "stream",
     "text": [
      "Hello\n"
     ]
    }
   ],
   "source": [
    "import re\n",
    "\n",
    "# using ^ to match at the beginning of a string\n",
    "text = \"Hello world Hello\"\n",
    "pattern = r\"^Hello\" # match Hello at the beginning\n",
    "match = re.search(pattern, text)\n",
    "if match:\n",
    "    print(match.group()) # prints Hello"
   ]
  },
  {
   "cell_type": "code",
   "execution_count": 21,
   "id": "a2288d2c",
   "metadata": {
    "execution": {
     "iopub.execute_input": "2023-04-02T13:52:52.416745Z",
     "iopub.status.busy": "2023-04-02T13:52:52.416333Z",
     "iopub.status.idle": "2023-04-02T13:52:52.423043Z",
     "shell.execute_reply": "2023-04-02T13:52:52.421488Z"
    },
    "papermill": {
     "duration": 0.020222,
     "end_time": "2023-04-02T13:52:52.425489",
     "exception": false,
     "start_time": "2023-04-02T13:52:52.405267",
     "status": "completed"
    },
    "tags": []
   },
   "outputs": [
    {
     "name": "stdout",
     "output_type": "stream",
     "text": [
      "world\n"
     ]
    }
   ],
   "source": [
    "# using $ to match at the end of a string\n",
    "text = \"World Hello world\"\n",
    "pattern = r\"world$\" # match world at the end\n",
    "match = re.search(pattern, text)\n",
    "if match:\n",
    "    print(match.group()) # prints world"
   ]
  },
  {
   "cell_type": "code",
   "execution_count": null,
   "id": "ce09504c",
   "metadata": {
    "papermill": {
     "duration": 0.009183,
     "end_time": "2023-04-02T13:52:52.444509",
     "exception": false,
     "start_time": "2023-04-02T13:52:52.435326",
     "status": "completed"
    },
    "tags": []
   },
   "outputs": [],
   "source": []
  }
 ],
 "metadata": {
  "kernelspec": {
   "display_name": "Python 3",
   "language": "python",
   "name": "python3"
  },
  "language_info": {
   "codemirror_mode": {
    "name": "ipython",
    "version": 3
   },
   "file_extension": ".py",
   "mimetype": "text/x-python",
   "name": "python",
   "nbconvert_exporter": "python",
   "pygments_lexer": "ipython3",
   "version": "3.7.12"
  },
  "papermill": {
   "default_parameters": {},
   "duration": 11.769092,
   "end_time": "2023-04-02T13:52:53.177871",
   "environment_variables": {},
   "exception": null,
   "input_path": "__notebook__.ipynb",
   "output_path": "__notebook__.ipynb",
   "parameters": {},
   "start_time": "2023-04-02T13:52:41.408779",
   "version": "2.4.0"
  }
 },
 "nbformat": 4,
 "nbformat_minor": 5
}
