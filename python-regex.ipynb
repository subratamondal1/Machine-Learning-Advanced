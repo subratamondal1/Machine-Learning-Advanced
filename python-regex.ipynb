{
 "cells": [
  {
   "cell_type": "code",
   "execution_count": 1,
   "id": "57491ec8",
   "metadata": {
    "_cell_guid": "b1076dfc-b9ad-4769-8c92-a6c4dae69d19",
    "_uuid": "8f2839f25d086af736a60e9eeb907d3b93b6e0e5",
    "execution": {
     "iopub.execute_input": "2023-04-01T20:53:59.487849Z",
     "iopub.status.busy": "2023-04-01T20:53:59.487253Z",
     "iopub.status.idle": "2023-04-01T20:53:59.502202Z",
     "shell.execute_reply": "2023-04-01T20:53:59.500880Z"
    },
    "papermill": {
     "duration": 0.025777,
     "end_time": "2023-04-01T20:53:59.504738",
     "exception": false,
     "start_time": "2023-04-01T20:53:59.478961",
     "status": "completed"
    },
    "tags": []
   },
   "outputs": [],
   "source": [
    "# This Python 3 environment comes with many helpful analytics libraries installed\n",
    "# It is defined by the kaggle/python Docker image: https://github.com/kaggle/docker-python\n",
    "# For example, here's several helpful packages to load\n",
    "\n",
    "import numpy as np # linear algebra\n",
    "import pandas as pd # data processing, CSV file I/O (e.g. pd.read_csv)\n",
    "\n",
    "# Input data files are available in the read-only \"../input/\" directory\n",
    "# For example, running this (by clicking run or pressing Shift+Enter) will list all files under the input directory\n",
    "\n",
    "import os\n",
    "for dirname, _, filenames in os.walk('/kaggle/input'):\n",
    "    for filename in filenames:\n",
    "        print(os.path.join(dirname, filename))\n",
    "\n",
    "# You can write up to 20GB to the current directory (/kaggle/working/) that gets preserved as output when you create a version using \"Save & Run All\" \n",
    "# You can also write temporary files to /kaggle/temp/, but they won't be saved outside of the current session"
   ]
  },
  {
   "cell_type": "markdown",
   "id": "1cc67aca",
   "metadata": {
    "papermill": {
     "duration": 0.004454,
     "end_time": "2023-04-01T20:53:59.514243",
     "exception": false,
     "start_time": "2023-04-01T20:53:59.509789",
     "status": "completed"
    },
    "tags": []
   },
   "source": [
    "# <center>Python RegEx</center>\n",
    "---"
   ]
  },
  {
   "cell_type": "markdown",
   "id": "29d0bc17",
   "metadata": {
    "papermill": {
     "duration": 0.0046,
     "end_time": "2023-04-01T20:53:59.523595",
     "exception": false,
     "start_time": "2023-04-01T20:53:59.518995",
     "status": "completed"
    },
    "tags": []
   },
   "source": [
    "Regular expressions are a way of specifying patterns of characters that you want to match in a string. They are a powerful tool for text **processing** and **manipulation**. Python has a built-in module called **`re`** that provides various functions and methods to work with regular expressions.\n",
    "\n",
    "A regular expression is composed of two types of characters: **normal characters** and **metacharacters**. Normal characters match themselves, while metacharacters have special meanings and functions. For example, the metacharacter **`.`** matches any character except a newline, while the metacharacter **`+`** means one or more repetitions of the preceding character or group.\n",
    "\n",
    "To use regular expressions in Python, you need to import the **`re`** module and then use one of its functions or methods, such as `re.search, re.findall, re.sub,` etc. These functions take a regular expression pattern as the first argument and a string as the second argument. They return different types of objects depending on the function and the match result."
   ]
  },
  {
   "cell_type": "code",
   "execution_count": 2,
   "id": "4da82e17",
   "metadata": {
    "execution": {
     "iopub.execute_input": "2023-04-01T20:53:59.534666Z",
     "iopub.status.busy": "2023-04-01T20:53:59.534228Z",
     "iopub.status.idle": "2023-04-01T20:53:59.541055Z",
     "shell.execute_reply": "2023-04-01T20:53:59.539822Z"
    },
    "papermill": {
     "duration": 0.015533,
     "end_time": "2023-04-01T20:53:59.543712",
     "exception": false,
     "start_time": "2023-04-01T20:53:59.528179",
     "status": "completed"
    },
    "tags": []
   },
   "outputs": [
    {
     "name": "stdout",
     "output_type": "stream",
     "text": [
      "The rain in Spain falls mainly on the plain\n",
      "<re.Match object; span=(5, 8), match='ain'>\n"
     ]
    }
   ],
   "source": [
    "# Import the re module\n",
    "import re\n",
    "\n",
    "# Define a string\n",
    "text = \"The rain in Spain falls mainly on the plain\"\n",
    "\n",
    "# Define a regular expression pattern\n",
    "pattern = \"ain\"\n",
    "\n",
    "# Use re.search to find the first occurrence of the pattern in the string\n",
    "match = re.search(pattern, text)\n",
    "\n",
    "print(text)\n",
    "\n",
    "# Print the match object\n",
    "print(match) # Output: <re.Match object; span=(5, 8), match='ain'>"
   ]
  },
  {
   "cell_type": "code",
   "execution_count": 3,
   "id": "4d3426da",
   "metadata": {
    "execution": {
     "iopub.execute_input": "2023-04-01T20:53:59.555575Z",
     "iopub.status.busy": "2023-04-01T20:53:59.555112Z",
     "iopub.status.idle": "2023-04-01T20:53:59.561674Z",
     "shell.execute_reply": "2023-04-01T20:53:59.560291Z"
    },
    "papermill": {
     "duration": 0.01503,
     "end_time": "2023-04-01T20:53:59.564045",
     "exception": false,
     "start_time": "2023-04-01T20:53:59.549015",
     "status": "completed"
    },
    "tags": []
   },
   "outputs": [
    {
     "name": "stdout",
     "output_type": "stream",
     "text": [
      "The rain in Spain falls mainly on the plain\n",
      "['ain', 'ain', 'ain', 'ain']\n"
     ]
    }
   ],
   "source": [
    "# Use re.findall to find all occurrences of the pattern in the string\n",
    "matches = re.findall(pattern, text)\n",
    "\n",
    "print(text)\n",
    "\n",
    "# Print the list of matches\n",
    "print(matches) # Output: ['ain', 'ain', 'ain']"
   ]
  },
  {
   "cell_type": "code",
   "execution_count": 4,
   "id": "840b958b",
   "metadata": {
    "execution": {
     "iopub.execute_input": "2023-04-01T20:53:59.575493Z",
     "iopub.status.busy": "2023-04-01T20:53:59.574993Z",
     "iopub.status.idle": "2023-04-01T20:53:59.581289Z",
     "shell.execute_reply": "2023-04-01T20:53:59.580002Z"
    },
    "papermill": {
     "duration": 0.014693,
     "end_time": "2023-04-01T20:53:59.583528",
     "exception": false,
     "start_time": "2023-04-01T20:53:59.568835",
     "status": "completed"
    },
    "tags": []
   },
   "outputs": [
    {
     "name": "stdout",
     "output_type": "stream",
     "text": [
      "The rain in Spain falls mainly on the plain\n",
      "The rane in Spane falls manely on the plane\n"
     ]
    }
   ],
   "source": [
    "# Use re.sub to replace all occurrences of the pattern in the string with another string\n",
    "new_text = re.sub(pattern, \"ane\", text)\n",
    "\n",
    "print(text)\n",
    "\n",
    "# Print the modified string\n",
    "print(new_text) # Output: The rane in Spane falls manely on the plane"
   ]
  },
  {
   "cell_type": "markdown",
   "id": "fa71a327",
   "metadata": {
    "papermill": {
     "duration": 0.004556,
     "end_time": "2023-04-01T20:53:59.593016",
     "exception": false,
     "start_time": "2023-04-01T20:53:59.588460",
     "status": "completed"
    },
    "tags": []
   },
   "source": [
    "## Raw Strings\n",
    "---\n",
    "Raw strings in Python are strings that treat backslashes (**`\\`**) as literal characters, rather than as escape sequences. They are useful when you need to specify strings that contain backslashes, such as regular expressions or file paths on Windows.\n",
    "\n",
    "To create a raw string in Python, you need to prefix the string literal with **`r or R, such as r'...' or R'...'`**. For example:"
   ]
  },
  {
   "cell_type": "code",
   "execution_count": 5,
   "id": "d148e7f0",
   "metadata": {
    "execution": {
     "iopub.execute_input": "2023-04-01T20:53:59.604580Z",
     "iopub.status.busy": "2023-04-01T20:53:59.604150Z",
     "iopub.status.idle": "2023-04-01T20:53:59.610042Z",
     "shell.execute_reply": "2023-04-01T20:53:59.608744Z"
    },
    "papermill": {
     "duration": 0.015101,
     "end_time": "2023-04-01T20:53:59.612918",
     "exception": false,
     "start_time": "2023-04-01T20:53:59.597817",
     "status": "completed"
    },
    "tags": []
   },
   "outputs": [
    {
     "name": "stdout",
     "output_type": "stream",
     "text": [
      "Hello\n",
      "World\n",
      "Hello\\nWorld\n"
     ]
    }
   ],
   "source": [
    "# A regular string with escape sequences\n",
    "s = 'Hello\\nWorld'\n",
    "print(s)\n",
    "\n",
    "# A raw string with literal backslashes\n",
    "s = r'Hello\\nWorld'\n",
    "s = R'Hello\\nWorld'\n",
    "print(s)"
   ]
  },
  {
   "cell_type": "markdown",
   "id": "c3d52f92",
   "metadata": {
    "papermill": {
     "duration": 0.004717,
     "end_time": "2023-04-01T20:53:59.622669",
     "exception": false,
     "start_time": "2023-04-01T20:53:59.617952",
     "status": "completed"
    },
    "tags": []
   },
   "source": [
    "If you want to convert a regular string into a raw string, you can use the built-in **`repr()`** function, which returns a printable representation of an object. For example:"
   ]
  },
  {
   "cell_type": "code",
   "execution_count": 6,
   "id": "56c4566b",
   "metadata": {
    "execution": {
     "iopub.execute_input": "2023-04-01T20:53:59.634404Z",
     "iopub.status.busy": "2023-04-01T20:53:59.633952Z",
     "iopub.status.idle": "2023-04-01T20:53:59.640385Z",
     "shell.execute_reply": "2023-04-01T20:53:59.639129Z"
    },
    "papermill": {
     "duration": 0.015147,
     "end_time": "2023-04-01T20:53:59.642762",
     "exception": false,
     "start_time": "2023-04-01T20:53:59.627615",
     "status": "completed"
    },
    "tags": []
   },
   "outputs": [
    {
     "name": "stdout",
     "output_type": "stream",
     "text": [
      "'Hello\\nWorld'\n"
     ]
    }
   ],
   "source": [
    "# A regular string\n",
    "s = 'Hello\\nWorld'\n",
    "\n",
    "# Convert it to a raw string using repr()\n",
    "r = repr(s)\n",
    "print(r)"
   ]
  },
  {
   "cell_type": "markdown",
   "id": "548bc1a8",
   "metadata": {
    "papermill": {
     "duration": 0.004666,
     "end_time": "2023-04-01T20:53:59.652455",
     "exception": false,
     "start_time": "2023-04-01T20:53:59.647789",
     "status": "completed"
    },
    "tags": []
   },
   "source": [
    "---"
   ]
  },
  {
   "cell_type": "code",
   "execution_count": 7,
   "id": "44e7a0a8",
   "metadata": {
    "execution": {
     "iopub.execute_input": "2023-04-01T20:53:59.664554Z",
     "iopub.status.busy": "2023-04-01T20:53:59.663711Z",
     "iopub.status.idle": "2023-04-01T20:53:59.669615Z",
     "shell.execute_reply": "2023-04-01T20:53:59.668406Z"
    },
    "papermill": {
     "duration": 0.014575,
     "end_time": "2023-04-01T20:53:59.671935",
     "exception": false,
     "start_time": "2023-04-01T20:53:59.657360",
     "status": "completed"
    },
    "tags": []
   },
   "outputs": [],
   "source": [
    "text_to_search = '''\n",
    "abcdefghijklmnopqrstuvwxyz\n",
    "ABCDEFGHIJKLMNOPQRSTUVWXYZ\n",
    "1234567890\n",
    "\n",
    "Ha Haha\n",
    "\n",
    "Metacharacters (need to be escaped):\n",
    ". ^ $ * + ? { } [ ] \\ | ( )\n",
    "\n",
    "subrata.com\n",
    "\n",
    "6294505807\n",
    "123 321 53341\n",
    "\n",
    "Subrata\n",
    "Rahul\n",
    "Bapai\n",
    "Mrinal\n",
    "Kailash\n",
    "\n",
    "\"Emma's luck numbers are 251 761 231 451\"\n",
    "\"Blue Berries are better than black berries\"\n",
    "\n",
    "'''\n",
    "\n",
    "sentence = \"Start a sentence and then bring it to an end.\""
   ]
  },
  {
   "cell_type": "markdown",
   "id": "78291979",
   "metadata": {
    "papermill": {
     "duration": 0.00461,
     "end_time": "2023-04-01T20:53:59.681721",
     "exception": false,
     "start_time": "2023-04-01T20:53:59.677111",
     "status": "completed"
    },
    "tags": []
   },
   "source": [
    "## re.compile\n",
    "**`re.compile`** is a function that compiles a regular expression pattern into a regular expression object, which can be used for matching using its **match(), search()** and other methods. The advantage of compiling a regular expression is that you can reuse it multiple times without rewriting it. You can also specify flags to modify the behavior of the regular expression, such as case-insensitivity or multiline matching.\n",
    "\n",
    "```python\n",
    "re.compile(pattern, flags=0)\n",
    "```\n",
    "\n",
    "**`re.finditer`** is a method that returns an iterator yielding match objects over all non-overlapping matches for the regular expression pattern in a string. The match objects contain information about the start and end positions, groups and named groups of the match. You can use **re.finditer** to loop over all the matches in a string and perform some action on each match.\n",
    "\n",
    "```python\n",
    "re.finditer(pattern, string, flags=0)\n",
    "```"
   ]
  },
  {
   "cell_type": "markdown",
   "id": "ccc53148",
   "metadata": {
    "papermill": {
     "duration": 0.004529,
     "end_time": "2023-04-01T20:53:59.691054",
     "exception": false,
     "start_time": "2023-04-01T20:53:59.686525",
     "status": "completed"
    },
    "tags": []
   },
   "source": [
    "**Example 1:** Compile a pattern to find three consecutive digits in a string"
   ]
  },
  {
   "cell_type": "code",
   "execution_count": 8,
   "id": "df46aab4",
   "metadata": {
    "execution": {
     "iopub.execute_input": "2023-04-01T20:53:59.702733Z",
     "iopub.status.busy": "2023-04-01T20:53:59.702227Z",
     "iopub.status.idle": "2023-04-01T20:53:59.709337Z",
     "shell.execute_reply": "2023-04-01T20:53:59.708168Z"
    },
    "papermill": {
     "duration": 0.015743,
     "end_time": "2023-04-01T20:53:59.711606",
     "exception": false,
     "start_time": "2023-04-01T20:53:59.695863",
     "status": "completed"
    },
    "tags": []
   },
   "outputs": [
    {
     "name": "stdout",
     "output_type": "stream",
     "text": [
      "<class 'callable_iterator'>\n",
      "123\n",
      "456\n",
      "789\n",
      "629\n",
      "450\n",
      "580\n",
      "123\n",
      "321\n",
      "533\n",
      "251\n",
      "761\n",
      "231\n",
      "451\n"
     ]
    }
   ],
   "source": [
    "# Example 1: Compile a pattern to find three consecutive digits in a string\n",
    "import re\n",
    "\n",
    "pattern = re.compile(r\"\\d{3}\") # \\d means any digit, {3} means exactly three times\n",
    "matches = pattern.finditer(text_to_search)\n",
    "print(type(matches))\n",
    "\n",
    "for match in matches:\n",
    "    print(match.group()) # match.group() returns the matched substring"
   ]
  },
  {
   "cell_type": "markdown",
   "id": "970caeb5",
   "metadata": {
    "papermill": {
     "duration": 0.00483,
     "end_time": "2023-04-01T20:53:59.721546",
     "exception": false,
     "start_time": "2023-04-01T20:53:59.716716",
     "status": "completed"
    },
    "tags": []
   },
   "source": [
    "**Example 2:** Compile a pattern with flags to find words that start with b or B in a string"
   ]
  },
  {
   "cell_type": "code",
   "execution_count": 9,
   "id": "de39a07b",
   "metadata": {
    "execution": {
     "iopub.execute_input": "2023-04-01T20:53:59.733452Z",
     "iopub.status.busy": "2023-04-01T20:53:59.732968Z",
     "iopub.status.idle": "2023-04-01T20:53:59.741436Z",
     "shell.execute_reply": "2023-04-01T20:53:59.739463Z"
    },
    "papermill": {
     "duration": 0.017129,
     "end_time": "2023-04-01T20:53:59.743730",
     "exception": false,
     "start_time": "2023-04-01T20:53:59.726601",
     "status": "completed"
    },
    "tags": []
   },
   "outputs": [
    {
     "name": "stdout",
     "output_type": "stream",
     "text": [
      "<class 'callable_iterator'>\n",
      "be\n",
      "Bapai\n",
      "Blue\n",
      "Berries\n",
      "better\n",
      "black\n",
      "berries\n"
     ]
    }
   ],
   "source": [
    "# Example 2: Compile a pattern with flags to find words that start with b or B in a string\n",
    "import re\n",
    "\n",
    "pattern = re.compile(r\"\\b[bB]\\w+\", flags=re.IGNORECASE) # \\b means word boundary, \\w+ means one or more word characters, flags=re.IGNORECASE means ignore case\n",
    "matches = pattern.finditer(text_to_search)\n",
    "print(type(matches))\n",
    "\n",
    "for match in pattern.finditer(text_to_search):\n",
    "    print(match.group())"
   ]
  },
  {
   "cell_type": "markdown",
   "id": "575ac47e",
   "metadata": {
    "papermill": {
     "duration": 0.004963,
     "end_time": "2023-04-01T20:53:59.753902",
     "exception": false,
     "start_time": "2023-04-01T20:53:59.748939",
     "status": "completed"
    },
    "tags": []
   },
   "source": [
    "## Metacharacters\n",
    "---"
   ]
  },
  {
   "cell_type": "code",
   "execution_count": null,
   "id": "31acd7c7",
   "metadata": {
    "papermill": {
     "duration": 0.004763,
     "end_time": "2023-04-01T20:53:59.763803",
     "exception": false,
     "start_time": "2023-04-01T20:53:59.759040",
     "status": "completed"
    },
    "tags": []
   },
   "outputs": [],
   "source": []
  }
 ],
 "metadata": {
  "kernelspec": {
   "display_name": "Python 3",
   "language": "python",
   "name": "python3"
  },
  "language_info": {
   "codemirror_mode": {
    "name": "ipython",
    "version": 3
   },
   "file_extension": ".py",
   "mimetype": "text/x-python",
   "name": "python",
   "nbconvert_exporter": "python",
   "pygments_lexer": "ipython3",
   "version": "3.7.12"
  },
  "papermill": {
   "default_parameters": {},
   "duration": 10.812108,
   "end_time": "2023-04-01T20:54:00.390425",
   "environment_variables": {},
   "exception": null,
   "input_path": "__notebook__.ipynb",
   "output_path": "__notebook__.ipynb",
   "parameters": {},
   "start_time": "2023-04-01T20:53:49.578317",
   "version": "2.4.0"
  }
 },
 "nbformat": 4,
 "nbformat_minor": 5
}
