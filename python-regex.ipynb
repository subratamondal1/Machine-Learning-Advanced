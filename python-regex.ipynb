{
 "cells": [
  {
   "cell_type": "code",
   "execution_count": 1,
   "id": "6f5b3988",
   "metadata": {
    "_cell_guid": "b1076dfc-b9ad-4769-8c92-a6c4dae69d19",
    "_uuid": "8f2839f25d086af736a60e9eeb907d3b93b6e0e5",
    "execution": {
     "iopub.execute_input": "2023-04-02T14:35:07.430694Z",
     "iopub.status.busy": "2023-04-02T14:35:07.429673Z",
     "iopub.status.idle": "2023-04-02T14:35:07.440221Z",
     "shell.execute_reply": "2023-04-02T14:35:07.439164Z"
    },
    "papermill": {
     "duration": 0.023315,
     "end_time": "2023-04-02T14:35:07.442354",
     "exception": false,
     "start_time": "2023-04-02T14:35:07.419039",
     "status": "completed"
    },
    "tags": []
   },
   "outputs": [],
   "source": [
    "# This Python 3 environment comes with many helpful analytics libraries installed\n",
    "# It is defined by the kaggle/python Docker image: https://github.com/kaggle/docker-python\n",
    "# For example, here's several helpful packages to load\n",
    "\n",
    "import numpy as np # linear algebra\n",
    "import pandas as pd # data processing, CSV file I/O (e.g. pd.read_csv)\n",
    "\n",
    "# Input data files are available in the read-only \"../input/\" directory\n",
    "# For example, running this (by clicking run or pressing Shift+Enter) will list all files under the input directory\n",
    "\n",
    "import os\n",
    "for dirname, _, filenames in os.walk('/kaggle/input'):\n",
    "    for filename in filenames:\n",
    "        print(os.path.join(dirname, filename))\n",
    "\n",
    "# You can write up to 20GB to the current directory (/kaggle/working/) that gets preserved as output when you create a version using \"Save & Run All\" \n",
    "# You can also write temporary files to /kaggle/temp/, but they won't be saved outside of the current session"
   ]
  },
  {
   "cell_type": "markdown",
   "id": "45110456",
   "metadata": {
    "papermill": {
     "duration": 0.007689,
     "end_time": "2023-04-02T14:35:07.458517",
     "exception": false,
     "start_time": "2023-04-02T14:35:07.450828",
     "status": "completed"
    },
    "tags": []
   },
   "source": [
    "# <center>Python RegEx</center>\n",
    "---"
   ]
  },
  {
   "cell_type": "markdown",
   "id": "c3de1477",
   "metadata": {
    "papermill": {
     "duration": 0.007762,
     "end_time": "2023-04-02T14:35:07.474424",
     "exception": false,
     "start_time": "2023-04-02T14:35:07.466662",
     "status": "completed"
    },
    "tags": []
   },
   "source": [
    "Regular expressions are a way of specifying patterns of characters that you want to match in a string. They are a powerful tool for text **processing** and **manipulation**. Python has a built-in module called **`re`** that provides various functions and methods to work with regular expressions.\n",
    "\n",
    "A regular expression is composed of two types of characters: **normal characters** and **metacharacters**. Normal characters match themselves, while metacharacters have special meanings and functions. For example, the metacharacter **`.`** matches any character except a newline, while the metacharacter **`+`** means one or more repetitions of the preceding character or group.\n",
    "\n",
    "To use regular expressions in Python, you need to import the **`re`** module and then use one of its functions or methods, such as `re.search, re.findall, re.sub,` etc. These functions take a regular expression pattern as the first argument and a string as the second argument. They return different types of objects depending on the function and the match result."
   ]
  },
  {
   "cell_type": "code",
   "execution_count": 2,
   "id": "496db339",
   "metadata": {
    "execution": {
     "iopub.execute_input": "2023-04-02T14:35:07.492051Z",
     "iopub.status.busy": "2023-04-02T14:35:07.491622Z",
     "iopub.status.idle": "2023-04-02T14:35:07.499374Z",
     "shell.execute_reply": "2023-04-02T14:35:07.497916Z"
    },
    "papermill": {
     "duration": 0.019176,
     "end_time": "2023-04-02T14:35:07.501514",
     "exception": false,
     "start_time": "2023-04-02T14:35:07.482338",
     "status": "completed"
    },
    "tags": []
   },
   "outputs": [
    {
     "name": "stdout",
     "output_type": "stream",
     "text": [
      "The rain in Spain falls mainly on the plain\n",
      "<re.Match object; span=(5, 8), match='ain'>\n"
     ]
    }
   ],
   "source": [
    "# Import the re module\n",
    "import re\n",
    "\n",
    "# Define a string\n",
    "text = \"The rain in Spain falls mainly on the plain\"\n",
    "\n",
    "# Define a regular expression pattern\n",
    "pattern = \"ain\"\n",
    "\n",
    "# Use re.search to find the first occurrence of the pattern in the string\n",
    "match = re.search(pattern, text)\n",
    "\n",
    "print(text)\n",
    "\n",
    "# Print the match object\n",
    "print(match) # Output: <re.Match object; span=(5, 8), match='ain'>"
   ]
  },
  {
   "cell_type": "code",
   "execution_count": 3,
   "id": "9dafb426",
   "metadata": {
    "execution": {
     "iopub.execute_input": "2023-04-02T14:35:07.520642Z",
     "iopub.status.busy": "2023-04-02T14:35:07.519895Z",
     "iopub.status.idle": "2023-04-02T14:35:07.525761Z",
     "shell.execute_reply": "2023-04-02T14:35:07.524617Z"
    },
    "papermill": {
     "duration": 0.017875,
     "end_time": "2023-04-02T14:35:07.528145",
     "exception": false,
     "start_time": "2023-04-02T14:35:07.510270",
     "status": "completed"
    },
    "tags": []
   },
   "outputs": [
    {
     "name": "stdout",
     "output_type": "stream",
     "text": [
      "The rain in Spain falls mainly on the plain\n",
      "['ain', 'ain', 'ain', 'ain']\n"
     ]
    }
   ],
   "source": [
    "# Use re.findall to find all occurrences of the pattern in the string\n",
    "matches = re.findall(pattern, text)\n",
    "\n",
    "print(text)\n",
    "\n",
    "# Print the list of matches\n",
    "print(matches) # Output: ['ain', 'ain', 'ain']"
   ]
  },
  {
   "cell_type": "code",
   "execution_count": 4,
   "id": "bdf36d97",
   "metadata": {
    "execution": {
     "iopub.execute_input": "2023-04-02T14:35:07.547468Z",
     "iopub.status.busy": "2023-04-02T14:35:07.547145Z",
     "iopub.status.idle": "2023-04-02T14:35:07.553542Z",
     "shell.execute_reply": "2023-04-02T14:35:07.551678Z"
    },
    "papermill": {
     "duration": 0.019262,
     "end_time": "2023-04-02T14:35:07.556703",
     "exception": false,
     "start_time": "2023-04-02T14:35:07.537441",
     "status": "completed"
    },
    "tags": []
   },
   "outputs": [
    {
     "name": "stdout",
     "output_type": "stream",
     "text": [
      "The rain in Spain falls mainly on the plain\n",
      "The rane in Spane falls manely on the plane\n"
     ]
    }
   ],
   "source": [
    "# Use re.sub to replace all occurrences of the pattern in the string with another string\n",
    "new_text = re.sub(pattern, \"ane\", text)\n",
    "\n",
    "print(text)\n",
    "\n",
    "# Print the modified string\n",
    "print(new_text) # Output: The rane in Spane falls manely on the plane"
   ]
  },
  {
   "cell_type": "markdown",
   "id": "7410bacf",
   "metadata": {
    "papermill": {
     "duration": 0.008547,
     "end_time": "2023-04-02T14:35:07.574614",
     "exception": false,
     "start_time": "2023-04-02T14:35:07.566067",
     "status": "completed"
    },
    "tags": []
   },
   "source": [
    "## Raw Strings\n",
    "---\n",
    "Raw strings in Python are strings that treat backslashes (**`\\`**) as literal characters, rather than as escape sequences. They are useful when you need to specify strings that contain backslashes, such as regular expressions or file paths on Windows.\n",
    "\n",
    "To create a raw string in Python, you need to prefix the string literal with **`r or R, such as r'...' or R'...'`**. For example:"
   ]
  },
  {
   "cell_type": "code",
   "execution_count": 5,
   "id": "3f7b37ec",
   "metadata": {
    "execution": {
     "iopub.execute_input": "2023-04-02T14:35:07.594544Z",
     "iopub.status.busy": "2023-04-02T14:35:07.594190Z",
     "iopub.status.idle": "2023-04-02T14:35:07.600139Z",
     "shell.execute_reply": "2023-04-02T14:35:07.598951Z"
    },
    "papermill": {
     "duration": 0.018545,
     "end_time": "2023-04-02T14:35:07.602585",
     "exception": false,
     "start_time": "2023-04-02T14:35:07.584040",
     "status": "completed"
    },
    "tags": []
   },
   "outputs": [
    {
     "name": "stdout",
     "output_type": "stream",
     "text": [
      "Hello\n",
      "World\n",
      "Hello\\nWorld\n"
     ]
    }
   ],
   "source": [
    "# A regular string with escape sequences\n",
    "s = 'Hello\\nWorld'\n",
    "print(s)\n",
    "\n",
    "# A raw string with literal backslashes\n",
    "s = r'Hello\\nWorld'\n",
    "s = R'Hello\\nWorld'\n",
    "print(s)"
   ]
  },
  {
   "cell_type": "markdown",
   "id": "a384d550",
   "metadata": {
    "papermill": {
     "duration": 0.008293,
     "end_time": "2023-04-02T14:35:07.620577",
     "exception": false,
     "start_time": "2023-04-02T14:35:07.612284",
     "status": "completed"
    },
    "tags": []
   },
   "source": [
    "If you want to convert a regular string into a raw string, you can use the built-in **`repr()`** function, which returns a printable representation of an object. For example:"
   ]
  },
  {
   "cell_type": "code",
   "execution_count": 6,
   "id": "ae6fb2a4",
   "metadata": {
    "execution": {
     "iopub.execute_input": "2023-04-02T14:35:07.640808Z",
     "iopub.status.busy": "2023-04-02T14:35:07.640471Z",
     "iopub.status.idle": "2023-04-02T14:35:07.645273Z",
     "shell.execute_reply": "2023-04-02T14:35:07.644350Z"
    },
    "papermill": {
     "duration": 0.017413,
     "end_time": "2023-04-02T14:35:07.647303",
     "exception": false,
     "start_time": "2023-04-02T14:35:07.629890",
     "status": "completed"
    },
    "tags": []
   },
   "outputs": [
    {
     "name": "stdout",
     "output_type": "stream",
     "text": [
      "'Hello\\nWorld'\n"
     ]
    }
   ],
   "source": [
    "# A regular string\n",
    "s = 'Hello\\nWorld'\n",
    "\n",
    "# Convert it to a raw string using repr()\n",
    "print(repr(s))"
   ]
  },
  {
   "cell_type": "markdown",
   "id": "4183efe9",
   "metadata": {
    "papermill": {
     "duration": 0.008397,
     "end_time": "2023-04-02T14:35:07.664448",
     "exception": false,
     "start_time": "2023-04-02T14:35:07.656051",
     "status": "completed"
    },
    "tags": []
   },
   "source": [
    "---"
   ]
  },
  {
   "cell_type": "code",
   "execution_count": 7,
   "id": "ec459363",
   "metadata": {
    "execution": {
     "iopub.execute_input": "2023-04-02T14:35:07.683537Z",
     "iopub.status.busy": "2023-04-02T14:35:07.683164Z",
     "iopub.status.idle": "2023-04-02T14:35:07.688219Z",
     "shell.execute_reply": "2023-04-02T14:35:07.687066Z"
    },
    "papermill": {
     "duration": 0.016768,
     "end_time": "2023-04-02T14:35:07.690015",
     "exception": false,
     "start_time": "2023-04-02T14:35:07.673247",
     "status": "completed"
    },
    "tags": []
   },
   "outputs": [],
   "source": [
    "text_to_search = '''\n",
    "abcdefghijklmnopqrstuvwxyz\n",
    "ABCDEFGHIJKLMNOPQRSTUVWXYZ\n",
    "1234567890\n",
    "\n",
    "Ha Haha\n",
    "\n",
    "Metacharacters (need to be escaped):\n",
    ". ^ $ * + ? { } [ ] \\ | ( )\n",
    "\n",
    "subrata.com\n",
    "\n",
    "6294505807\n",
    "123 321 53341\n",
    "\n",
    "Subrata\n",
    "Rahul\n",
    "Bapai\n",
    "Mrinal\n",
    "Kailash\n",
    "\n",
    "\"Emma's luck numbers are 251 761 231 451\"\n",
    "\"Blue Berries are better than black berries\"\n",
    "\n",
    "'''\n",
    "\n",
    "sentence = \"Start a sentence and then bring it to an end.\""
   ]
  },
  {
   "cell_type": "markdown",
   "id": "3549d5c1",
   "metadata": {
    "papermill": {
     "duration": 0.008244,
     "end_time": "2023-04-02T14:35:07.706896",
     "exception": false,
     "start_time": "2023-04-02T14:35:07.698652",
     "status": "completed"
    },
    "tags": []
   },
   "source": [
    "## re.compile\n",
    "**`re.compile`** is a function that compiles a regular expression pattern into a regular expression object, which can be used for matching using its **match(), search()** and other methods. The advantage of compiling a regular expression is that you can reuse it multiple times without rewriting it. You can also specify flags to modify the behavior of the regular expression, such as case-insensitivity or multiline matching.\n",
    "\n",
    "```python\n",
    "re.compile(pattern, flags=0)\n",
    "```\n",
    "\n",
    "## re.finditer\n",
    "**`re.finditer`** is a method that returns an iterator yielding match objects over all non-overlapping matches for the regular expression pattern in a string. The match objects contain information about the start and end positions, groups and named groups of the match. You can use **re.finditer** to loop over all the matches in a string and perform some action on each match.\n",
    "\n",
    "```python\n",
    "re.finditer(pattern, string, flags=0)\n",
    "```"
   ]
  },
  {
   "cell_type": "markdown",
   "id": "79f8b689",
   "metadata": {
    "papermill": {
     "duration": 0.008398,
     "end_time": "2023-04-02T14:35:07.723897",
     "exception": false,
     "start_time": "2023-04-02T14:35:07.715499",
     "status": "completed"
    },
    "tags": []
   },
   "source": [
    "**Example 1:** Compile a pattern to find three consecutive digits in a string"
   ]
  },
  {
   "cell_type": "code",
   "execution_count": 8,
   "id": "8c4373e7",
   "metadata": {
    "execution": {
     "iopub.execute_input": "2023-04-02T14:35:07.742885Z",
     "iopub.status.busy": "2023-04-02T14:35:07.742497Z",
     "iopub.status.idle": "2023-04-02T14:35:07.749190Z",
     "shell.execute_reply": "2023-04-02T14:35:07.747647Z"
    },
    "papermill": {
     "duration": 0.018858,
     "end_time": "2023-04-02T14:35:07.751353",
     "exception": false,
     "start_time": "2023-04-02T14:35:07.732495",
     "status": "completed"
    },
    "tags": []
   },
   "outputs": [
    {
     "name": "stdout",
     "output_type": "stream",
     "text": [
      "<class 'callable_iterator'>\n",
      "123, 456, 789, 629, 450, 580, 123, 321, 533, 251, 761, 231, 451, "
     ]
    }
   ],
   "source": [
    "# Example 1: Compile a pattern to find three consecutive digits in a string\n",
    "import re\n",
    "\n",
    "pattern = re.compile(r\"\\d{3}\") # \\d means any digit, {3} means exactly three times\n",
    "matches = pattern.finditer(text_to_search)\n",
    "print(type(matches))\n",
    "\n",
    "for match in matches:\n",
    "    print(match.group(),end=\", \") # match.group() returns the matched substring"
   ]
  },
  {
   "cell_type": "markdown",
   "id": "1d6bf040",
   "metadata": {
    "papermill": {
     "duration": 0.008495,
     "end_time": "2023-04-02T14:35:07.768550",
     "exception": false,
     "start_time": "2023-04-02T14:35:07.760055",
     "status": "completed"
    },
    "tags": []
   },
   "source": [
    "**Example 2:** Compile a pattern with flags to find words that start with b or B in a string"
   ]
  },
  {
   "cell_type": "code",
   "execution_count": 9,
   "id": "8cfb5d36",
   "metadata": {
    "execution": {
     "iopub.execute_input": "2023-04-02T14:35:07.788066Z",
     "iopub.status.busy": "2023-04-02T14:35:07.787679Z",
     "iopub.status.idle": "2023-04-02T14:35:07.794975Z",
     "shell.execute_reply": "2023-04-02T14:35:07.793575Z"
    },
    "papermill": {
     "duration": 0.020737,
     "end_time": "2023-04-02T14:35:07.798058",
     "exception": false,
     "start_time": "2023-04-02T14:35:07.777321",
     "status": "completed"
    },
    "tags": []
   },
   "outputs": [
    {
     "name": "stdout",
     "output_type": "stream",
     "text": [
      "<class 'callable_iterator'>\n",
      "be, Bapai, Blue, Berries, better, black, berries, "
     ]
    }
   ],
   "source": [
    "# Example 2: Compile a pattern with flags to find words that start with b or B in a string\n",
    "import re\n",
    "\n",
    "pattern = re.compile(r\"\\b[bB]\\w+\", flags=re.IGNORECASE) # \\b means word boundary, \\w+ means one or more word characters, flags=re.IGNORECASE means ignore case\n",
    "matches = pattern.finditer(text_to_search)\n",
    "print(type(matches))\n",
    "\n",
    "for match in matches:\n",
    "    print(match.group(), end=\", \")"
   ]
  },
  {
   "cell_type": "markdown",
   "id": "114fe785",
   "metadata": {
    "papermill": {
     "duration": 0.008342,
     "end_time": "2023-04-02T14:35:07.816008",
     "exception": false,
     "start_time": "2023-04-02T14:35:07.807666",
     "status": "completed"
    },
    "tags": []
   },
   "source": [
    "## Most used methods of re module\n",
    "* **`re.match()`**: This method checks for a match only at the beginning of the string."
   ]
  },
  {
   "cell_type": "code",
   "execution_count": 10,
   "id": "a23b6cf6",
   "metadata": {
    "execution": {
     "iopub.execute_input": "2023-04-02T14:35:07.835052Z",
     "iopub.status.busy": "2023-04-02T14:35:07.834640Z",
     "iopub.status.idle": "2023-04-02T14:35:07.840678Z",
     "shell.execute_reply": "2023-04-02T14:35:07.839638Z"
    },
    "papermill": {
     "duration": 0.018182,
     "end_time": "2023-04-02T14:35:07.842802",
     "exception": false,
     "start_time": "2023-04-02T14:35:07.824620",
     "status": "completed"
    },
    "tags": []
   },
   "outputs": [
    {
     "name": "stdout",
     "output_type": "stream",
     "text": [
      "Search successful.\n"
     ]
    }
   ],
   "source": [
    "pattern = '^a...s$'\n",
    "test_string = 'abyss'\n",
    "result = re.match(pattern, test_string)\n",
    "if result:\n",
    "  print(\"Search successful.\")\n",
    "else:\n",
    "  print(\"Search unsuccessful.\")"
   ]
  },
  {
   "cell_type": "markdown",
   "id": "9f387957",
   "metadata": {
    "papermill": {
     "duration": 0.008219,
     "end_time": "2023-04-02T14:35:07.859688",
     "exception": false,
     "start_time": "2023-04-02T14:35:07.851469",
     "status": "completed"
    },
    "tags": []
   },
   "source": [
    "* **`re.search()`**: This method checks for a match anywhere in the string."
   ]
  },
  {
   "cell_type": "code",
   "execution_count": 11,
   "id": "0b5341e0",
   "metadata": {
    "execution": {
     "iopub.execute_input": "2023-04-02T14:35:07.878177Z",
     "iopub.status.busy": "2023-04-02T14:35:07.877790Z",
     "iopub.status.idle": "2023-04-02T14:35:07.883988Z",
     "shell.execute_reply": "2023-04-02T14:35:07.882683Z"
    },
    "papermill": {
     "duration": 0.018117,
     "end_time": "2023-04-02T14:35:07.886241",
     "exception": false,
     "start_time": "2023-04-02T14:35:07.868124",
     "status": "completed"
    },
    "tags": []
   },
   "outputs": [
    {
     "name": "stdout",
     "output_type": "stream",
     "text": [
      "Search successful.\n"
     ]
    }
   ],
   "source": [
    "pattern = 'world'\n",
    "test_string = 'Hello world'\n",
    "result = re.search(pattern, test_string)\n",
    "if result:\n",
    "  print(\"Search successful.\")\n",
    "else:\n",
    "  print(\"Search unsuccessful.\")"
   ]
  },
  {
   "cell_type": "markdown",
   "id": "269ed943",
   "metadata": {
    "papermill": {
     "duration": 0.008363,
     "end_time": "2023-04-02T14:35:07.903504",
     "exception": false,
     "start_time": "2023-04-02T14:35:07.895141",
     "status": "completed"
    },
    "tags": []
   },
   "source": [
    "* **`re.findall()`**: This method returns a list of all matches in the string."
   ]
  },
  {
   "cell_type": "code",
   "execution_count": 12,
   "id": "4bbea626",
   "metadata": {
    "execution": {
     "iopub.execute_input": "2023-04-02T14:35:07.922039Z",
     "iopub.status.busy": "2023-04-02T14:35:07.921646Z",
     "iopub.status.idle": "2023-04-02T14:35:07.928038Z",
     "shell.execute_reply": "2023-04-02T14:35:07.926310Z"
    },
    "papermill": {
     "duration": 0.0182,
     "end_time": "2023-04-02T14:35:07.930187",
     "exception": false,
     "start_time": "2023-04-02T14:35:07.911987",
     "status": "completed"
    },
    "tags": []
   },
   "outputs": [
    {
     "name": "stdout",
     "output_type": "stream",
     "text": [
      "['12', '11', '1001']\n"
     ]
    }
   ],
   "source": [
    "pattern = '\\d+'\n",
    "test_string = '12 drummers drumming, 11 pipers piping, 1001 lords a-leaping'\n",
    "result = re.findall(pattern, test_string)\n",
    "print(result)"
   ]
  },
  {
   "cell_type": "markdown",
   "id": "002eaea9",
   "metadata": {
    "papermill": {
     "duration": 0.008478,
     "end_time": "2023-04-02T14:35:07.947619",
     "exception": false,
     "start_time": "2023-04-02T14:35:07.939141",
     "status": "completed"
    },
    "tags": []
   },
   "source": [
    "* **`re.sub()`**: This method replaces one or more matches with a given string"
   ]
  },
  {
   "cell_type": "code",
   "execution_count": 13,
   "id": "20ae6622",
   "metadata": {
    "execution": {
     "iopub.execute_input": "2023-04-02T14:35:07.966909Z",
     "iopub.status.busy": "2023-04-02T14:35:07.966521Z",
     "iopub.status.idle": "2023-04-02T14:35:07.972914Z",
     "shell.execute_reply": "2023-04-02T14:35:07.971425Z"
    },
    "papermill": {
     "duration": 0.018699,
     "end_time": "2023-04-02T14:35:07.975211",
     "exception": false,
     "start_time": "2023-04-02T14:35:07.956512",
     "status": "completed"
    },
    "tags": []
   },
   "outputs": [
    {
     "name": "stdout",
     "output_type": "stream",
     "text": [
      "Roses are pink, violets are pink\n"
     ]
    }
   ],
   "source": [
    "pattern = 'blue|white|red'\n",
    "test_string = 'Roses are red, violets are blue'\n",
    "result = re.sub(pattern, 'pink', test_string)\n",
    "print(result)"
   ]
  },
  {
   "cell_type": "markdown",
   "id": "7c25738f",
   "metadata": {
    "papermill": {
     "duration": 0.008907,
     "end_time": "2023-04-02T14:35:07.993571",
     "exception": false,
     "start_time": "2023-04-02T14:35:07.984664",
     "status": "completed"
    },
    "tags": []
   },
   "source": [
    "## Metacharacters\n",
    "---\n",
    "Metacharacters are characters with a special meaning in regular expressions. They are used to define the search criteria and any text manipulations.\n",
    "\n",
    "1. **`.`** The metacharacter . matches any character except a newline in Python regular expressions. It is also called the dot or wildcard metacharacter. It can be used to match any single character in a pattern.\n",
    "\n",
    "For example, if you want to match a word that starts with “`h`” and ends with “`t`”, you can use the pattern \"`h.t`\". This will match any word that has three letters and the first and last letters are “`h`” and “`t`”, such as `“hat”, “hot”, “hit”`, etc."
   ]
  },
  {
   "cell_type": "code",
   "execution_count": 14,
   "id": "1746daa0",
   "metadata": {
    "execution": {
     "iopub.execute_input": "2023-04-02T14:35:08.013436Z",
     "iopub.status.busy": "2023-04-02T14:35:08.013076Z",
     "iopub.status.idle": "2023-04-02T14:35:08.018688Z",
     "shell.execute_reply": "2023-04-02T14:35:08.017763Z"
    },
    "papermill": {
     "duration": 0.018882,
     "end_time": "2023-04-02T14:35:08.021638",
     "exception": false,
     "start_time": "2023-04-02T14:35:08.002756",
     "status": "completed"
    },
    "tags": []
   },
   "outputs": [
    {
     "name": "stdout",
     "output_type": "stream",
     "text": [
      "['T', 'h', 'e', ' ', 'h', 'a', 't', ' ', 'i', 's', ' ', 'h', 'o', 't']\n"
     ]
    }
   ],
   "source": [
    "import re\n",
    "\n",
    "# create a pattern object from a metacharacter expression\n",
    "pattern = re.compile(\".\")\n",
    "\n",
    "# find the first match of that pattern in a string\n",
    "match = re.findall(pattern, \"The hat is hot\")\n",
    "\n",
    "# print the match object\n",
    "print(match) # <re.Match object; span=(4, 7), match='hat'>"
   ]
  },
  {
   "cell_type": "code",
   "execution_count": 15,
   "id": "41706ac7",
   "metadata": {
    "execution": {
     "iopub.execute_input": "2023-04-02T14:35:08.041667Z",
     "iopub.status.busy": "2023-04-02T14:35:08.041327Z",
     "iopub.status.idle": "2023-04-02T14:35:08.046257Z",
     "shell.execute_reply": "2023-04-02T14:35:08.045297Z"
    },
    "papermill": {
     "duration": 0.017249,
     "end_time": "2023-04-02T14:35:08.048342",
     "exception": false,
     "start_time": "2023-04-02T14:35:08.031093",
     "status": "completed"
    },
    "tags": []
   },
   "outputs": [
    {
     "name": "stdout",
     "output_type": "stream",
     "text": [
      "['hat', 'hot']\n"
     ]
    }
   ],
   "source": [
    "# find all the matches of that pattern in a string\n",
    "matches = re.findall(\"h.t\", \"The hat is hot\")\n",
    "\n",
    "# print the matches list\n",
    "print(matches) # ['hat', 'hot']"
   ]
  },
  {
   "cell_type": "markdown",
   "id": "c447f4e3",
   "metadata": {
    "papermill": {
     "duration": 0.008721,
     "end_time": "2023-04-02T14:35:08.066185",
     "exception": false,
     "start_time": "2023-04-02T14:35:08.057464",
     "status": "completed"
    },
    "tags": []
   },
   "source": [
    "2. **`\\d`** matches **`any digit`** from (0-9)\n",
    "3. **`\\D`** matches **`non-digit`**\n",
    "\n",
    "The metacharacter **`\\d`** matches **any digit** from `0 to 9`. For example, the pattern **\\d\\d** matches any two digits, such as `12 or 99`. The metacharacter **`\\D`** matches any **non-digit character**. For example, the pattern **\\D\\D** matches any two non-digits, such as `ab or %&`."
   ]
  },
  {
   "cell_type": "code",
   "execution_count": 16,
   "id": "bf071bc2",
   "metadata": {
    "execution": {
     "iopub.execute_input": "2023-04-02T14:35:08.086391Z",
     "iopub.status.busy": "2023-04-02T14:35:08.086073Z",
     "iopub.status.idle": "2023-04-02T14:35:08.092577Z",
     "shell.execute_reply": "2023-04-02T14:35:08.091114Z"
    },
    "papermill": {
     "duration": 0.019523,
     "end_time": "2023-04-02T14:35:08.094979",
     "exception": false,
     "start_time": "2023-04-02T14:35:08.075456",
     "status": "completed"
    },
    "tags": []
   },
   "outputs": [
    {
     "name": "stdout",
     "output_type": "stream",
     "text": [
      "<re.Match object; span=(19, 31), match='123-456-7890'> \n",
      "\n",
      "123-456-7890\n"
     ]
    }
   ],
   "source": [
    "import re\n",
    "\n",
    "# using \\d to match digits\n",
    "text = \"My phone number is 123-456-7890\"\n",
    "pattern = r\"\\d\\d\\d-\\d\\d\\d-\\d\\d\\d\\d\" # match a phone number format\n",
    "match = re.search(pattern, text)\n",
    "print(match,\"\\n\")\n",
    "if match:\n",
    "    print(match.group()) # prints 123-456-7890"
   ]
  },
  {
   "cell_type": "code",
   "execution_count": 17,
   "id": "6eb4e7c8",
   "metadata": {
    "execution": {
     "iopub.execute_input": "2023-04-02T14:35:08.115471Z",
     "iopub.status.busy": "2023-04-02T14:35:08.115142Z",
     "iopub.status.idle": "2023-04-02T14:35:08.121228Z",
     "shell.execute_reply": "2023-04-02T14:35:08.119625Z"
    },
    "papermill": {
     "duration": 0.019098,
     "end_time": "2023-04-02T14:35:08.123404",
     "exception": false,
     "start_time": "2023-04-02T14:35:08.104306",
     "status": "completed"
    },
    "tags": []
   },
   "outputs": [
    {
     "name": "stdout",
     "output_type": "stream",
     "text": [
      "['The price is $', '.']\n"
     ]
    }
   ],
   "source": [
    "# using \\D to match non-digits\n",
    "text = \"The price is $9.99\"\n",
    "pattern = r\"\\D+\" # match one or more non-digits\n",
    "match = re.findall(pattern, text)\n",
    "if match:\n",
    "    print(match) # prints ['The price is $', '.']"
   ]
  },
  {
   "cell_type": "markdown",
   "id": "f8484a29",
   "metadata": {
    "papermill": {
     "duration": 0.008618,
     "end_time": "2023-04-02T14:35:08.141262",
     "exception": false,
     "start_time": "2023-04-02T14:35:08.132644",
     "status": "completed"
    },
    "tags": []
   },
   "source": [
    "4. **`\\w`** matches any **`alphanumeric characters`** i.e ([a-z], [A-Z], [0-9])\n",
    "5. **`\\W`** matches any **`non-alphanumeric characters`**\n",
    "\n",
    "The metacharacter **`\\w`** matches **`any alphanumeric character`**, which means any letter from `a to z (lowercase or uppercase)`, any digit from `0 to 9`, or the `underscore character _`. For example, the pattern `\\w\\w\\w` matches any three alphanumeric characters, such as `abc` or `1_2`. \n",
    "\n",
    "The metacharacter **`\\W`** matches any **`non-alphanumeric character`**, which means any character that is `not a letter, a digit, or an underscore`. For example, the pattern `\\W` matches any symbol, such as `%` or `&`."
   ]
  },
  {
   "cell_type": "code",
   "execution_count": 18,
   "id": "ed575738",
   "metadata": {
    "execution": {
     "iopub.execute_input": "2023-04-02T14:35:08.160999Z",
     "iopub.status.busy": "2023-04-02T14:35:08.160632Z",
     "iopub.status.idle": "2023-04-02T14:35:08.167341Z",
     "shell.execute_reply": "2023-04-02T14:35:08.166064Z"
    },
    "papermill": {
     "duration": 0.019147,
     "end_time": "2023-04-02T14:35:08.169413",
     "exception": false,
     "start_time": "2023-04-02T14:35:08.150266",
     "status": "completed"
    },
    "tags": []
   },
   "outputs": [
    {
     "name": "stdout",
     "output_type": "stream",
     "text": [
      "['My', 'username', 'is', 'pynative_01'] \n",
      "\n"
     ]
    }
   ],
   "source": [
    "import re\n",
    "\n",
    "# using \\w to match alphanumeric characters\n",
    "text = \"My username is pynative_01\"\n",
    "pattern = r\"\\w+\" # match one or more alphanumeric characters\n",
    "match = re.findall(pattern, text)\n",
    "print(match, \"\\n\")"
   ]
  },
  {
   "cell_type": "code",
   "execution_count": 19,
   "id": "44b9736e",
   "metadata": {
    "execution": {
     "iopub.execute_input": "2023-04-02T14:35:08.190198Z",
     "iopub.status.busy": "2023-04-02T14:35:08.189814Z",
     "iopub.status.idle": "2023-04-02T14:35:08.195879Z",
     "shell.execute_reply": "2023-04-02T14:35:08.194330Z"
    },
    "papermill": {
     "duration": 0.019585,
     "end_time": "2023-04-02T14:35:08.198637",
     "exception": false,
     "start_time": "2023-04-02T14:35:08.179052",
     "status": "completed"
    },
    "tags": []
   },
   "outputs": [
    {
     "name": "stdout",
     "output_type": "stream",
     "text": [
      "[' ', ' ', ' ', '$', '.']\n"
     ]
    }
   ],
   "source": [
    "# using \\W to match non-alphanumeric characters\n",
    "text = \"The price is $9.99\"\n",
    "pattern = r\"\\W\" # match one non-alphanumeric character\n",
    "match = re.findall(pattern, text)\n",
    "print(match) # prints space, $ , dot(.), comma(,)"
   ]
  },
  {
   "cell_type": "markdown",
   "id": "517a8da1",
   "metadata": {
    "papermill": {
     "duration": 0.008763,
     "end_time": "2023-04-02T14:35:08.216885",
     "exception": false,
     "start_time": "2023-04-02T14:35:08.208122",
     "status": "completed"
    },
    "tags": []
   },
   "source": [
    "6. **`\\s`** matches **`any Whitespace Characters`**\n",
    "7. **`\\S`** matches **`any Non-Whitespace Characters`**\n",
    "\n",
    "The metacharacter **`\\s`** matches any **whitespace character**, which means any **space, tab, newline, or carriage return**. For example, the pattern `\\s\\s` matches `any two whitespace characters`, such as `\" \" or “\\n\\t”`. \n",
    "\n",
    "The metacharacter **`\\S`** matches any **non-whitespace character**, which means any character that is **not a space, tab, newline, or carriage return**. For example, the pattern `\\S` matches any `symbol, letter, digit, or underscore`."
   ]
  },
  {
   "cell_type": "code",
   "execution_count": 20,
   "id": "dd381e04",
   "metadata": {
    "execution": {
     "iopub.execute_input": "2023-04-02T14:35:08.236884Z",
     "iopub.status.busy": "2023-04-02T14:35:08.236487Z",
     "iopub.status.idle": "2023-04-02T14:35:08.243532Z",
     "shell.execute_reply": "2023-04-02T14:35:08.242076Z"
    },
    "papermill": {
     "duration": 0.019638,
     "end_time": "2023-04-02T14:35:08.245587",
     "exception": false,
     "start_time": "2023-04-02T14:35:08.225949",
     "status": "completed"
    },
    "tags": []
   },
   "outputs": [
    {
     "name": "stdout",
     "output_type": "stream",
     "text": [
      "['\\t', '\\n']\n"
     ]
    }
   ],
   "source": [
    "import re\n",
    "\n",
    "# using \\s to match whitespace characters\n",
    "text = \"Hello\\tworld\\n\"\n",
    "pattern = r\"\\s\" # match one whitespace character\n",
    "match = re.findall(pattern, text)\n",
    "if match:\n",
    "    print(match) # prints ['\\t', '\\n']"
   ]
  },
  {
   "cell_type": "code",
   "execution_count": 21,
   "id": "96f7a336",
   "metadata": {
    "execution": {
     "iopub.execute_input": "2023-04-02T14:35:08.265642Z",
     "iopub.status.busy": "2023-04-02T14:35:08.265286Z",
     "iopub.status.idle": "2023-04-02T14:35:08.271738Z",
     "shell.execute_reply": "2023-04-02T14:35:08.270410Z"
    },
    "papermill": {
     "duration": 0.019782,
     "end_time": "2023-04-02T14:35:08.274732",
     "exception": false,
     "start_time": "2023-04-02T14:35:08.254950",
     "status": "completed"
    },
    "tags": []
   },
   "outputs": [
    {
     "name": "stdout",
     "output_type": "stream",
     "text": [
      "['The', 'price', 'is', '$9.99']\n"
     ]
    }
   ],
   "source": [
    "# using \\S to match non-whitespace characters\n",
    "text = \"The price is $9.99\"\n",
    "pattern = r\"\\S+\" # match one or more non-whitespace characters\n",
    "match = re.findall(pattern, text)\n",
    "if match:\n",
    "    print(match) # prints ['The', 'price', 'is', '$9.99']"
   ]
  },
  {
   "cell_type": "markdown",
   "id": "265bff79",
   "metadata": {
    "papermill": {
     "duration": 0.009191,
     "end_time": "2023-04-02T14:35:08.293813",
     "exception": false,
     "start_time": "2023-04-02T14:35:08.284622",
     "status": "completed"
    },
    "tags": []
   },
   "source": [
    "8. **`\\b`** matches a **word boundary**\n",
    "9. **`\\B`** matches a **non-word boundary**\n",
    "\n",
    "The metacharacter **`\\b`** matches a **word boundary**, which is a `position between a word character and a non-word character`, or between a `word character and the beginning or end of a string`. A word character is any letter, digit, or underscore. For example, the pattern `\\bcat\\b` matches the word “cat” but not “catch” or “concatenate”.\n",
    "\n",
    "The metacharacter **`\\B`** matches a **non-word boundary**, which is a `position where both characters are word characters or both are non-word characters`. For example, the pattern `\\Bcat\\B` matches “catch” and “concatenate” but not “cat” or “scat”."
   ]
  },
  {
   "cell_type": "code",
   "execution_count": 22,
   "id": "f3dc4169",
   "metadata": {
    "execution": {
     "iopub.execute_input": "2023-04-02T14:35:08.316072Z",
     "iopub.status.busy": "2023-04-02T14:35:08.314549Z",
     "iopub.status.idle": "2023-04-02T14:35:08.322242Z",
     "shell.execute_reply": "2023-04-02T14:35:08.320680Z"
    },
    "papermill": {
     "duration": 0.021417,
     "end_time": "2023-04-02T14:35:08.324840",
     "exception": false,
     "start_time": "2023-04-02T14:35:08.303423",
     "status": "completed"
    },
    "tags": []
   },
   "outputs": [
    {
     "name": "stdout",
     "output_type": "stream",
     "text": [
      "<re.Match object; span=(7, 11), match='cats'> \n",
      "\n",
      "cats\n"
     ]
    }
   ],
   "source": [
    "import re\n",
    "\n",
    "# using \\b to match word boundaries\n",
    "text = \"I like cats and dogs\"\n",
    "pattern = r\"\\bcats\\b\" # match cat as a whole word\n",
    "match = re.search(pattern, text)\n",
    "print(match, \"\\n\")\n",
    "if match:\n",
    "    print(match.group()) # prints cat"
   ]
  },
  {
   "cell_type": "code",
   "execution_count": 23,
   "id": "d93b73c2",
   "metadata": {
    "execution": {
     "iopub.execute_input": "2023-04-02T14:35:08.346469Z",
     "iopub.status.busy": "2023-04-02T14:35:08.346123Z",
     "iopub.status.idle": "2023-04-02T14:35:08.353340Z",
     "shell.execute_reply": "2023-04-02T14:35:08.351878Z"
    },
    "papermill": {
     "duration": 0.020372,
     "end_time": "2023-04-02T14:35:08.355657",
     "exception": false,
     "start_time": "2023-04-02T14:35:08.335285",
     "status": "completed"
    },
    "tags": []
   },
   "outputs": [
    {
     "name": "stdout",
     "output_type": "stream",
     "text": [
      "<re.Match object; span=(20, 23), match='cat'> \n",
      "\n",
      "cat\n"
     ]
    }
   ],
   "source": [
    "# using \\B to match non-word boundaries\n",
    "text = \"I like catch and concatenate\"\n",
    "pattern = r\"\\Bcat\\B\" # match cat inside other words\n",
    "match = re.search(pattern, text)\n",
    "print(match, \"\\n\")\n",
    "if match:\n",
    "    print(match.group()) # prints cat"
   ]
  },
  {
   "cell_type": "markdown",
   "id": "f513171a",
   "metadata": {
    "papermill": {
     "duration": 0.009348,
     "end_time": "2023-04-02T14:35:08.375459",
     "exception": false,
     "start_time": "2023-04-02T14:35:08.366111",
     "status": "completed"
    },
    "tags": []
   },
   "source": [
    "### Anchors\n",
    "Anchors are metacharacters that **match the positions of characters in a string**, such as the beginning or the end of a string. They are useful for specifying where a pattern should occur in a string. In Python, there are two types of anchors:\n",
    "\n",
    "* The **`caret anchor (^)`** matches at the **beginning** of a string. For example, the pattern ^Hello matches the string “Hello world” but not “Say Hello”.\n",
    "* The **`dollar anchor ($)`** matches at the **end** of a string. For example, the pattern world$ matches the string “Hello world” but not “world peace”."
   ]
  },
  {
   "cell_type": "code",
   "execution_count": 24,
   "id": "3c5e53dd",
   "metadata": {
    "execution": {
     "iopub.execute_input": "2023-04-02T14:35:08.396296Z",
     "iopub.status.busy": "2023-04-02T14:35:08.395936Z",
     "iopub.status.idle": "2023-04-02T14:35:08.402913Z",
     "shell.execute_reply": "2023-04-02T14:35:08.401500Z"
    },
    "papermill": {
     "duration": 0.020576,
     "end_time": "2023-04-02T14:35:08.405802",
     "exception": false,
     "start_time": "2023-04-02T14:35:08.385226",
     "status": "completed"
    },
    "tags": []
   },
   "outputs": [
    {
     "name": "stdout",
     "output_type": "stream",
     "text": [
      "Hello\n"
     ]
    }
   ],
   "source": [
    "import re\n",
    "\n",
    "# using ^ to match at the beginning of a string\n",
    "text = \"Hello world Hello\"\n",
    "pattern = r\"^Hello\" # match Hello at the beginning\n",
    "match = re.search(pattern, text)\n",
    "if match:\n",
    "    print(match.group()) # prints Hello"
   ]
  },
  {
   "cell_type": "code",
   "execution_count": 25,
   "id": "42114dd5",
   "metadata": {
    "execution": {
     "iopub.execute_input": "2023-04-02T14:35:08.427310Z",
     "iopub.status.busy": "2023-04-02T14:35:08.426957Z",
     "iopub.status.idle": "2023-04-02T14:35:08.432428Z",
     "shell.execute_reply": "2023-04-02T14:35:08.431311Z"
    },
    "papermill": {
     "duration": 0.019299,
     "end_time": "2023-04-02T14:35:08.435379",
     "exception": false,
     "start_time": "2023-04-02T14:35:08.416080",
     "status": "completed"
    },
    "tags": []
   },
   "outputs": [
    {
     "name": "stdout",
     "output_type": "stream",
     "text": [
      "world\n"
     ]
    }
   ],
   "source": [
    "# using $ to match at the end of a string\n",
    "text = \"World Hello world\"\n",
    "pattern = r\"world$\" # match world at the end\n",
    "match = re.search(pattern, text)\n",
    "if match:\n",
    "    print(match.group()) # prints world"
   ]
  },
  {
   "cell_type": "code",
   "execution_count": null,
   "id": "fff3cd30",
   "metadata": {
    "papermill": {
     "duration": 0.009826,
     "end_time": "2023-04-02T14:35:08.455901",
     "exception": false,
     "start_time": "2023-04-02T14:35:08.446075",
     "status": "completed"
    },
    "tags": []
   },
   "outputs": [],
   "source": []
  }
 ],
 "metadata": {
  "kernelspec": {
   "display_name": "Python 3",
   "language": "python",
   "name": "python3"
  },
  "language_info": {
   "codemirror_mode": {
    "name": "ipython",
    "version": 3
   },
   "file_extension": ".py",
   "mimetype": "text/x-python",
   "name": "python",
   "nbconvert_exporter": "python",
   "pygments_lexer": "ipython3",
   "version": "3.7.12"
  },
  "papermill": {
   "default_parameters": {},
   "duration": 10.569688,
   "end_time": "2023-04-02T14:35:09.087311",
   "environment_variables": {},
   "exception": null,
   "input_path": "__notebook__.ipynb",
   "output_path": "__notebook__.ipynb",
   "parameters": {},
   "start_time": "2023-04-02T14:34:58.517623",
   "version": "2.4.0"
  }
 },
 "nbformat": 4,
 "nbformat_minor": 5
}
