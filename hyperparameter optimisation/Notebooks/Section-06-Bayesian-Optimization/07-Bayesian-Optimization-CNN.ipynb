{
 "cells": [
  {
   "cell_type": "markdown",
   "metadata": {
    "_cell_guid": "d4c08f48-fe23-4ddb-ac46-d97f05397514",
    "_uuid": "f2156d1dd26a1243e18512002e10872c5bd7271e"
   },
   "source": [
    "# Bayesian Optimization of CNN with Scikit-Optimize\n",
    "\n",
    "In this notebook, we will use **Bayesian Optimization** to select the best **hyperparameters** for a CNN that recognizes digits in images, using the MNIST dataset and the open source Python package [Scikit-Optimize](https://scikit-optimize.github.io/stable/index.html).\n",
    "\n",
    "The MNIST dataset is availale in [Kaggle](https://www.kaggle.com/c/digit-recognizer/data).\n",
    "\n",
    "## Download dataset\n",
    "\n",
    "- Navigate to the [MNIST website in Kaggle](https://www.kaggle.com/c/digit-recognizer/data)\n",
    "- Download the train.csv file\n",
    "- Unzip and copy the train.csv file to where you see the SAVE_DATASETS-HERE.txt file\n",
    "- Rename to mnist.csv\n",
    "\n",
    "**Remember that you need to be logged in to be able to download the dataset**\n",
    "\n",
    "## Notebook content\n",
    "\n",
    "- Data Preparation\n",
    "- Set up a simple CNN\n",
    "- Set up the hyperparameter search shape\n",
    "- Set up the objective function\n",
    "- Perform Bayesian Optimization\n",
    "- Evaluate Model Performance"
   ]
  },
  {
   "cell_type": "code",
   "execution_count": 1,
   "metadata": {
    "_cell_guid": "f67b9393-8ea1-4e23-b856-2ce149cfe421",
    "_execution_state": "idle",
    "_uuid": "72334cb006d02a4bcfc2a2fe622524eba824c6f8"
   },
   "outputs": [],
   "source": [
    "import itertools\n",
    "\n",
    "import numpy as np\n",
    "import pandas as pd\n",
    "import matplotlib.pyplot as plt\n",
    "import seaborn as sns\n",
    "\n",
    "from sklearn.model_selection import train_test_split\n",
    "from sklearn.metrics import confusion_matrix"
   ]
  },
  {
   "cell_type": "code",
   "execution_count": 2,
   "metadata": {},
   "outputs": [],
   "source": [
    "from keras.utils.np_utils import to_categorical\n",
    "from keras.models import Sequential, load_model\n",
    "from keras.layers import Dense, Flatten, Conv2D, MaxPool2D\n",
    "from keras.optimizers import Adam\n",
    "from keras.callbacks import ReduceLROnPlateau"
   ]
  },
  {
   "cell_type": "code",
   "execution_count": 3,
   "metadata": {},
   "outputs": [],
   "source": [
    "from skopt import gp_minimize\n",
    "from skopt.space import Real, Categorical, Integer\n",
    "from skopt.plots import plot_convergence\n",
    "from skopt.plots import plot_objective, plot_evaluations\n",
    "from skopt.utils import use_named_args"
   ]
  },
  {
   "cell_type": "markdown",
   "metadata": {
    "_cell_guid": "6d2fb3e6-ab71-4974-b5a2-4af1ebdb99f4",
    "_execution_state": "idle",
    "_uuid": "86061d98eccaa02efe0dab0fa3884e71fcf4c310"
   },
   "source": [
    "#  Data Preparation\n",
    "\n",
    "The dataset contains information about images, each image is a hand-written digit. The aim is to have the computer predict which digit was written by the person, automatically, by \"looking\" at the image. \n",
    "\n",
    "Each image is 28 pixels in height and 28 pixels in width (28 x 28), making a total of 784 pixels. Each pixel value is an integer between 0 and 255, indicating the darkness in a gray-scale of that pixel.\n",
    "\n",
    "The data is stored in a dataframe where each each pixel is a column (so it is flattened and not in the 28 x 28 format). \n",
    "\n",
    "The data set the has 785 columns. The first column, called \"label\", is the digit that was drawn by the user. The rest of the columns contain the pixel-values of the associated image."
   ]
  },
  {
   "cell_type": "code",
   "execution_count": 4,
   "metadata": {
    "_cell_guid": "5e51d00e-62fd-4141-bf73-50ac4f2da7d0",
    "_execution_state": "idle",
    "_uuid": "84bbd5ab8d7895bd430d5ecfe2f7ddf77baa7b74"
   },
   "outputs": [
    {
     "data": {
      "text/html": [
       "<div>\n",
       "<style scoped>\n",
       "    .dataframe tbody tr th:only-of-type {\n",
       "        vertical-align: middle;\n",
       "    }\n",
       "\n",
       "    .dataframe tbody tr th {\n",
       "        vertical-align: top;\n",
       "    }\n",
       "\n",
       "    .dataframe thead th {\n",
       "        text-align: right;\n",
       "    }\n",
       "</style>\n",
       "<table border=\"1\" class=\"dataframe\">\n",
       "  <thead>\n",
       "    <tr style=\"text-align: right;\">\n",
       "      <th></th>\n",
       "      <th>label</th>\n",
       "      <th>pixel0</th>\n",
       "      <th>pixel1</th>\n",
       "      <th>pixel2</th>\n",
       "      <th>pixel3</th>\n",
       "      <th>pixel4</th>\n",
       "      <th>pixel5</th>\n",
       "      <th>pixel6</th>\n",
       "      <th>pixel7</th>\n",
       "      <th>pixel8</th>\n",
       "      <th>...</th>\n",
       "      <th>pixel774</th>\n",
       "      <th>pixel775</th>\n",
       "      <th>pixel776</th>\n",
       "      <th>pixel777</th>\n",
       "      <th>pixel778</th>\n",
       "      <th>pixel779</th>\n",
       "      <th>pixel780</th>\n",
       "      <th>pixel781</th>\n",
       "      <th>pixel782</th>\n",
       "      <th>pixel783</th>\n",
       "    </tr>\n",
       "  </thead>\n",
       "  <tbody>\n",
       "    <tr>\n",
       "      <th>0</th>\n",
       "      <td>1</td>\n",
       "      <td>0</td>\n",
       "      <td>0</td>\n",
       "      <td>0</td>\n",
       "      <td>0</td>\n",
       "      <td>0</td>\n",
       "      <td>0</td>\n",
       "      <td>0</td>\n",
       "      <td>0</td>\n",
       "      <td>0</td>\n",
       "      <td>...</td>\n",
       "      <td>0</td>\n",
       "      <td>0</td>\n",
       "      <td>0</td>\n",
       "      <td>0</td>\n",
       "      <td>0</td>\n",
       "      <td>0</td>\n",
       "      <td>0</td>\n",
       "      <td>0</td>\n",
       "      <td>0</td>\n",
       "      <td>0</td>\n",
       "    </tr>\n",
       "    <tr>\n",
       "      <th>1</th>\n",
       "      <td>0</td>\n",
       "      <td>0</td>\n",
       "      <td>0</td>\n",
       "      <td>0</td>\n",
       "      <td>0</td>\n",
       "      <td>0</td>\n",
       "      <td>0</td>\n",
       "      <td>0</td>\n",
       "      <td>0</td>\n",
       "      <td>0</td>\n",
       "      <td>...</td>\n",
       "      <td>0</td>\n",
       "      <td>0</td>\n",
       "      <td>0</td>\n",
       "      <td>0</td>\n",
       "      <td>0</td>\n",
       "      <td>0</td>\n",
       "      <td>0</td>\n",
       "      <td>0</td>\n",
       "      <td>0</td>\n",
       "      <td>0</td>\n",
       "    </tr>\n",
       "    <tr>\n",
       "      <th>2</th>\n",
       "      <td>1</td>\n",
       "      <td>0</td>\n",
       "      <td>0</td>\n",
       "      <td>0</td>\n",
       "      <td>0</td>\n",
       "      <td>0</td>\n",
       "      <td>0</td>\n",
       "      <td>0</td>\n",
       "      <td>0</td>\n",
       "      <td>0</td>\n",
       "      <td>...</td>\n",
       "      <td>0</td>\n",
       "      <td>0</td>\n",
       "      <td>0</td>\n",
       "      <td>0</td>\n",
       "      <td>0</td>\n",
       "      <td>0</td>\n",
       "      <td>0</td>\n",
       "      <td>0</td>\n",
       "      <td>0</td>\n",
       "      <td>0</td>\n",
       "    </tr>\n",
       "    <tr>\n",
       "      <th>3</th>\n",
       "      <td>4</td>\n",
       "      <td>0</td>\n",
       "      <td>0</td>\n",
       "      <td>0</td>\n",
       "      <td>0</td>\n",
       "      <td>0</td>\n",
       "      <td>0</td>\n",
       "      <td>0</td>\n",
       "      <td>0</td>\n",
       "      <td>0</td>\n",
       "      <td>...</td>\n",
       "      <td>0</td>\n",
       "      <td>0</td>\n",
       "      <td>0</td>\n",
       "      <td>0</td>\n",
       "      <td>0</td>\n",
       "      <td>0</td>\n",
       "      <td>0</td>\n",
       "      <td>0</td>\n",
       "      <td>0</td>\n",
       "      <td>0</td>\n",
       "    </tr>\n",
       "    <tr>\n",
       "      <th>4</th>\n",
       "      <td>0</td>\n",
       "      <td>0</td>\n",
       "      <td>0</td>\n",
       "      <td>0</td>\n",
       "      <td>0</td>\n",
       "      <td>0</td>\n",
       "      <td>0</td>\n",
       "      <td>0</td>\n",
       "      <td>0</td>\n",
       "      <td>0</td>\n",
       "      <td>...</td>\n",
       "      <td>0</td>\n",
       "      <td>0</td>\n",
       "      <td>0</td>\n",
       "      <td>0</td>\n",
       "      <td>0</td>\n",
       "      <td>0</td>\n",
       "      <td>0</td>\n",
       "      <td>0</td>\n",
       "      <td>0</td>\n",
       "      <td>0</td>\n",
       "    </tr>\n",
       "  </tbody>\n",
       "</table>\n",
       "<p>5 rows × 785 columns</p>\n",
       "</div>"
      ],
      "text/plain": [
       "   label  pixel0  pixel1  pixel2  pixel3  pixel4  pixel5  pixel6  pixel7  \\\n",
       "0      1       0       0       0       0       0       0       0       0   \n",
       "1      0       0       0       0       0       0       0       0       0   \n",
       "2      1       0       0       0       0       0       0       0       0   \n",
       "3      4       0       0       0       0       0       0       0       0   \n",
       "4      0       0       0       0       0       0       0       0       0   \n",
       "\n",
       "   pixel8  ...  pixel774  pixel775  pixel776  pixel777  pixel778  pixel779  \\\n",
       "0       0  ...         0         0         0         0         0         0   \n",
       "1       0  ...         0         0         0         0         0         0   \n",
       "2       0  ...         0         0         0         0         0         0   \n",
       "3       0  ...         0         0         0         0         0         0   \n",
       "4       0  ...         0         0         0         0         0         0   \n",
       "\n",
       "   pixel780  pixel781  pixel782  pixel783  \n",
       "0         0         0         0         0  \n",
       "1         0         0         0         0  \n",
       "2         0         0         0         0  \n",
       "3         0         0         0         0  \n",
       "4         0         0         0         0  \n",
       "\n",
       "[5 rows x 785 columns]"
      ]
     },
     "execution_count": 4,
     "metadata": {},
     "output_type": "execute_result"
    }
   ],
   "source": [
    "# Load the data\n",
    "\n",
    "data = pd.read_csv(\"../mnist.csv\")\n",
    "\n",
    "# first column is the target, the rest of the columns\n",
    "# are the pixels of the image\n",
    "\n",
    "# each row is 1 image\n",
    "data.head()"
   ]
  },
  {
   "cell_type": "code",
   "execution_count": 5,
   "metadata": {},
   "outputs": [
    {
     "data": {
      "text/plain": [
       "((37800, 784), (4200, 784))"
      ]
     },
     "execution_count": 5,
     "metadata": {},
     "output_type": "execute_result"
    }
   ],
   "source": [
    "# split dataset into a train and test set\n",
    "\n",
    "X_train, X_test, y_train, y_test = train_test_split(\n",
    "    data.drop(['label'], axis=1), # the images\n",
    "    data['label'], # the target\n",
    "    test_size = 0.1,\n",
    "    random_state=0)\n",
    "\n",
    "X_train.shape, X_test.shape"
   ]
  },
  {
   "cell_type": "code",
   "execution_count": 6,
   "metadata": {
    "_cell_guid": "86570a36-5c20-460a-9dfd-2070548532a7",
    "_execution_state": "idle",
    "_uuid": "1213b979d5ed3e0d13824d17d694c79d2ece92fa"
   },
   "outputs": [
    {
     "data": {
      "text/plain": [
       "Text(0, 0.5, 'Number of images')"
      ]
     },
     "execution_count": 6,
     "metadata": {},
     "output_type": "execute_result"
    },
    {
     "data": {
      "image/png": "[encoded data removed]",
      "text/plain": [
       "<Figure size 432x288 with 1 Axes>"
      ]
     },
     "metadata": {
      "needs_background": "light"
     },
     "output_type": "display_data"
    }
   ],
   "source": [
    "# number of images for each digit\n",
    "\n",
    "g = sns.countplot(x=y_train)\n",
    "plt.xlabel('Digits')\n",
    "plt.ylabel('Number of images')"
   ]
  },
  {
   "cell_type": "markdown",
   "metadata": {
    "_cell_guid": "5aea4062-1790-4987-b739-c4bebd79030f",
    "_uuid": "b7b1b1d36243c885e57374c8b60c5a7e10abe922"
   },
   "source": [
    "There are roughly the same amount of images for each of the 10 digits."
   ]
  },
  {
   "cell_type": "markdown",
   "metadata": {
    "_cell_guid": "6812040d-80ad-43d2-a571-275f4f20067b",
    "_uuid": "2954681f25f0dcbe986e6914396cdbce61db591f"
   },
   "source": [
    "## Image re-scaling\n",
    "\n",
    "We re-scale data for the CNN, between 0 and 1."
   ]
  },
  {
   "cell_type": "code",
   "execution_count": 7,
   "metadata": {
    "_cell_guid": "cdc4340b-6e24-4e12-be99-ac806098ff17",
    "_execution_state": "idle",
    "_uuid": "b5d4f8fcf2a967e2c7d57daedf95aa8c5ab7f8cb"
   },
   "outputs": [],
   "source": [
    "# Re-scale the data\n",
    "\n",
    "# 255 is the maximum value a pixel can take\n",
    "\n",
    "X_train = X_train / 255\n",
    "X_test = X_test / 255"
   ]
  },
  {
   "cell_type": "markdown",
   "metadata": {
    "_cell_guid": "7413df94-bcb9-4f75-b174-c127d4445766",
    "_uuid": "a66741bf1ac597094f3a3166877008feef27c519"
   },
   "source": [
    "## Reshape\n",
    "\n",
    "The images were stored in a pandas dataframe as 1-D vectors of 784 values. For a CNN with Keras, we need tensors with the following dimensions: width x height x channel. \n",
    "\n",
    "Thus, we reshape all data to 28 x 2 8 x 1, 3-D matrices. \n",
    "\n",
    "The 3rd dimension corresponds to the channel. RGB images have 3 channels. MNIST images are in gray-scale, thus they have only one channel in the 3rd dimension."
   ]
  },
  {
   "cell_type": "code",
   "execution_count": 8,
   "metadata": {
    "_cell_guid": "34b6a5f7-8fd2-4387-8ef4-c9dc19584fed",
    "_execution_state": "idle",
    "_uuid": "f0a6ad80dab8e0f2c2e46165ccd9cd82dd162bc3"
   },
   "outputs": [],
   "source": [
    "# Reshape image in 3 dimensions:\n",
    "# height: 28px X width: 28px X channel: 1 \n",
    "\n",
    "X_train = X_train.values.reshape(-1,28,28,1)\n",
    "X_test = X_test.values.reshape(-1,28,28,1)"
   ]
  },
  {
   "cell_type": "markdown",
   "metadata": {
    "_cell_guid": "bdb422e2-bdec-444f-97a5-283a1e54bf2c",
    "_uuid": "39b7a31e843bac6b705461bcce89da216b91799e"
   },
   "source": [
    "## Target encoding"
   ]
  },
  {
   "cell_type": "code",
   "execution_count": 9,
   "metadata": {},
   "outputs": [
    {
     "data": {
      "text/plain": [
       "array([2, 0, 7, 4, 3, 5, 9, 6, 8, 1], dtype=int64)"
      ]
     },
     "execution_count": 9,
     "metadata": {},
     "output_type": "execute_result"
    }
   ],
   "source": [
    "# the target is 1 variable with the 9 different digits\n",
    "# as values\n",
    "\n",
    "y_train.unique()"
   ]
  },
  {
   "cell_type": "code",
   "execution_count": 10,
   "metadata": {
    "_cell_guid": "4b7f3e78-44dc-4561-b1f0-9429ee024cf4",
    "_execution_state": "idle",
    "_uuid": "cabefd1478d5c1bdfe57fd6a34395340916a854c"
   },
   "outputs": [
    {
     "data": {
      "text/plain": [
       "array([[0., 0., 1., ..., 0., 0., 0.],\n",
       "       [0., 0., 1., ..., 0., 0., 0.],\n",
       "       [1., 0., 0., ..., 0., 0., 0.],\n",
       "       ...,\n",
       "       [0., 0., 0., ..., 0., 0., 1.],\n",
       "       [1., 0., 0., ..., 0., 0., 0.],\n",
       "       [0., 0., 0., ..., 0., 0., 1.]], dtype=float32)"
      ]
     },
     "execution_count": 10,
     "metadata": {},
     "output_type": "execute_result"
    }
   ],
   "source": [
    "# For Keras, we need to create 10 dummy variables,\n",
    "# one for each digit\n",
    "\n",
    "# Encode labels to one hot vectors (ex : digit 2 -> [0,0,1,0,0,0,0,0,0,0])\n",
    "\n",
    "y_train = to_categorical(y_train, num_classes = 10)\n",
    "y_test = to_categorical(y_test, num_classes = 10)\n",
    "\n",
    "# the new target\n",
    "y_train"
   ]
  },
  {
   "cell_type": "markdown",
   "metadata": {
    "_cell_guid": "adbeacf0-0dc0-4675-b2df-9c9663750f32",
    "_uuid": "60eed15ec5bc0d354385301789ecb8538fc02267"
   },
   "source": [
    "Let's print some example images."
   ]
  },
  {
   "cell_type": "code",
   "execution_count": 11,
   "metadata": {
    "_cell_guid": "5f76131b-4ba0-45f1-a98c-bd4e7d561793",
    "_execution_state": "idle",
    "_uuid": "e0dae8943d3d35f075dba3d7ba31bde1d4bf2ff4"
   },
   "outputs": [
    {
     "data": {
      "image/png": "[encoded data removed]",
      "text/plain": [
       "<Figure size 432x288 with 1 Axes>"
      ]
     },
     "metadata": {
      "needs_background": "light"
     },
     "output_type": "display_data"
    }
   ],
   "source": [
    "# Some image examples \n",
    "\n",
    "g = plt.imshow(X_train[0][:,:,0])"
   ]
  },
  {
   "cell_type": "code",
   "execution_count": 12,
   "metadata": {},
   "outputs": [
    {
     "data": {
      "image/png": "[encoded data removed]",
      "text/plain": [
       "<Figure size 432x288 with 1 Axes>"
      ]
     },
     "metadata": {
      "needs_background": "light"
     },
     "output_type": "display_data"
    }
   ],
   "source": [
    "# Some image examples \n",
    "\n",
    "g = plt.imshow(X_train[10][:,:,0])"
   ]
  },
  {
   "cell_type": "markdown",
   "metadata": {
    "_cell_guid": "d5265777-aeb3-449d-b171-d88cad74c0a4",
    "_uuid": "5fa18b37a9acd9e098bac1d12264b0dd4310fdd3"
   },
   "source": [
    "# Define the CNN\n",
    "\n",
    "We will create a CNN, with 2 Convolutional layers followed by Pooling, and varying number of fully-connected Dense layers.\n",
    "\n",
    "In fact, the number of fully-connected Dense layers and the number of Neurons in each one of the Dense layers, are some of the hyperparameters we want to optimize.\n",
    "\n",
    "We could also optimize the number of Convolutional layers. But we will keep that for later, and here we keep it a bit simpler."
   ]
  },
  {
   "cell_type": "code",
   "execution_count": 13,
   "metadata": {},
   "outputs": [],
   "source": [
    "# function to create the CNN\n",
    "\n",
    "def create_cnn(\n",
    "    learning_rate,\n",
    "    num_dense_layers,\n",
    "    num_dense_nodes,\n",
    "    activation,\n",
    "):\n",
    "    \"\"\"\n",
    "    Hyper-parameters:\n",
    "    learning_rate:     Learning-rate for the optimizer.\n",
    "    num_dense_layers:  Number of dense layers.\n",
    "    num_dense_nodes:   Number of nodes in each dense layer.\n",
    "    activation:        Activation function for all layers.\n",
    "    \"\"\"\n",
    "\n",
    "    # Start construction of a Keras Sequential model.\n",
    "    model = Sequential()\n",
    "\n",
    "    # First convolutional layer.\n",
    "    # There are many hyper-parameters in this layer\n",
    "    # For this demo, we will optimize the activation function only.\n",
    "    model.add(Conv2D(kernel_size=5, strides=1, filters=16, padding='same',\n",
    "                     activation=activation, name='layer_conv1'))\n",
    "    model.add(MaxPool2D(pool_size=2, strides=2))\n",
    "\n",
    "    # Second convolutional layer.\n",
    "    # Again, we will only optimize the activation function.\n",
    "    model.add(Conv2D(kernel_size=5, strides=1, filters=36, padding='same',\n",
    "                     activation=activation, name='layer_conv2'))\n",
    "    model.add(MaxPool2D(pool_size=2, strides=2))\n",
    "\n",
    "    # Flatten the 4-rank output of the convolutional layers\n",
    "    # to 2-rank that can be input to a fully-connected Dense layer.\n",
    "    model.add(Flatten())\n",
    "\n",
    "    # Add fully-connected Dense layers.\n",
    "    # The number of layers is a hyper-parameter we want to optimize.\n",
    "    # We add the different number of layers in the following loop:\n",
    "    \n",
    "    for i in range(num_dense_layers):\n",
    "        \n",
    "        # Add the dense fully-connected layer to the model.\n",
    "        # This has two hyper-parameters we want to optimize:\n",
    "        # The number of nodes (neurons) and the activation function.\n",
    "        model.add(Dense(num_dense_nodes,\n",
    "                        activation=activation,\n",
    "                        ))\n",
    "\n",
    "    # Last fully-connected dense layer with softmax-activation\n",
    "    # for use in classification.\n",
    "    model.add(Dense(10, activation='softmax'))\n",
    "\n",
    "    # Use the Adam method for training the network.\n",
    "    # We want to find the best learning-rate for the Adam method.\n",
    "    optimizer = Adam(lr=learning_rate)\n",
    "\n",
    "    # In Keras we need to compile the model so it can be trained.\n",
    "    model.compile(optimizer=optimizer,\n",
    "                  loss='categorical_crossentropy',\n",
    "                  metrics=['accuracy'])\n",
    "\n",
    "    return model"
   ]
  },
  {
   "cell_type": "markdown",
   "metadata": {},
   "source": [
    "# Define the Hyperparameter Space\n",
    "\n",
    "Scikit-optimize provides an utility function to create the range of values to examine for each hyperparameters. More details in [skopt.Space](https://scikit-optimize.github.io/stable/modules/generated/skopt.Space.html)\n",
    "\n",
    "\n",
    "We want to find the following hyper-parameters:\n",
    "\n",
    "- The learning rate of the optimizer.\n",
    "- The number of fully-connected Dense layers.\n",
    "- The number of nodes (neurons) for each of the dense layers.\n",
    "- Whether to use 'sigmoid' or 'relu' activation in all the layers."
   ]
  },
  {
   "cell_type": "code",
   "execution_count": 14,
   "metadata": {},
   "outputs": [],
   "source": [
    "dim_learning_rate = Real(\n",
    "    low=1e-6, high=1e-2, prior='log-uniform', name='learning_rate',\n",
    ")\n",
    "\n",
    "dim_num_dense_layers = Integer(low=1, high=5, name='num_dense_layers')\n",
    "\n",
    "dim_num_dense_nodes = Integer(low=5, high=512, name='num_dense_nodes')\n",
    "\n",
    "\n",
    "dim_activation = Categorical(\n",
    "    categories=['relu', 'sigmoid'], name='activation',\n",
    ")"
   ]
  },
  {
   "cell_type": "code",
   "execution_count": 15,
   "metadata": {},
   "outputs": [],
   "source": [
    "# the hyperparameter space grid\n",
    "\n",
    "param_grid = [dim_learning_rate,\n",
    "              dim_num_dense_layers,\n",
    "              dim_num_dense_nodes,\n",
    "              dim_activation]"
   ]
  },
  {
   "cell_type": "markdown",
   "metadata": {},
   "source": [
    "# Define the Objective Function"
   ]
  },
  {
   "cell_type": "code",
   "execution_count": 16,
   "metadata": {},
   "outputs": [],
   "source": [
    "# we will save the model with this name\n",
    "path_best_model = 'cnn_model.h5'\n",
    "\n",
    "# starting point for the optimization\n",
    "best_accuracy = 0"
   ]
  },
  {
   "cell_type": "code",
   "execution_count": 17,
   "metadata": {},
   "outputs": [],
   "source": [
    "@use_named_args(param_grid)\n",
    "def objective(\n",
    "    learning_rate,\n",
    "    num_dense_layers,\n",
    "    num_dense_nodes,\n",
    "    activation,\n",
    "):\n",
    "    \n",
    "    \"\"\"\n",
    "    Hyper-parameters:\n",
    "    learning_rate:     Learning-rate for the optimizer.\n",
    "    num_dense_layers:  Number of dense layers.\n",
    "    num_dense_nodes:   Number of nodes in each dense layer.\n",
    "    activation:        Activation function for all layers.\n",
    "    \"\"\"\n",
    "\n",
    "    # Print the hyper-parameters.\n",
    "    print('learning rate: {0:.1e}'.format(learning_rate))\n",
    "    print('num_dense_layers:', num_dense_layers)\n",
    "    print('num_dense_nodes:', num_dense_nodes)\n",
    "    print('activation:', activation)\n",
    "    print()\n",
    "    \n",
    "    # Create the neural network with the hyper-parameters.\n",
    "    # We call the function we created previously.\n",
    "    model = create_cnn(learning_rate=learning_rate,\n",
    "                       num_dense_layers=num_dense_layers,\n",
    "                       num_dense_nodes=num_dense_nodes,\n",
    "                       activation=activation)\n",
    "\n",
    "   \n",
    "    # Set a learning rate annealer\n",
    "    # this reduces the learning rate if learning does not improve\n",
    "    # for a certain number of epochs\n",
    "    learning_rate_reduction = ReduceLROnPlateau(monitor='val_accuracy', \n",
    "                                                patience=2, \n",
    "                                                verbose=1, \n",
    "                                                factor=0.5, \n",
    "                                                min_lr=0.00001)\n",
    "   \n",
    "    # train the model\n",
    "    # we use 3 epochs to be able to run the notebook in a \"reasonable\"\n",
    "    # time. If we increase the epochs, we will have better performance\n",
    "    # this could be another parameter to optimize in fact.\n",
    "    history = model.fit(x=X_train,\n",
    "                        y=y_train,\n",
    "                        epochs=3,\n",
    "                        batch_size=128,\n",
    "                        validation_split=0.1,\n",
    "                        callbacks=learning_rate_reduction)\n",
    "\n",
    "    # Get the classification accuracy on the validation-set\n",
    "    # after the last training-epoch.\n",
    "    accuracy = history.history['val_accuracy'][-1]\n",
    "\n",
    "    # Print the classification accuracy.\n",
    "    print()\n",
    "    print(\"Accuracy: {0:.2%}\".format(accuracy))\n",
    "    print()\n",
    "\n",
    "    # Save the model if it improves on the best-found performance.\n",
    "    # We use the global keyword so we update the variable outside\n",
    "    # of this function.\n",
    "    global best_accuracy\n",
    "\n",
    "    # If the classification accuracy of the saved model is improved ...\n",
    "    if accuracy > best_accuracy:\n",
    "        # Save the new model to harddisk.\n",
    "        # Training CNNs is costly, so we want to avoid having to re-train\n",
    "        # the network with the best found parameters. We save it instead\n",
    "        # as we search for the best hyperparam space.\n",
    "        model.save(path_best_model)\n",
    "        \n",
    "        # Update the classification accuracy.\n",
    "        best_accuracy = accuracy\n",
    "\n",
    "    # Delete the Keras model with these hyper-parameters from memory.\n",
    "    del model\n",
    "\n",
    "    \n",
    "    # Remember that Scikit-optimize always minimizes the objective\n",
    "    # function, so we need to negate the accuracy (because we want\n",
    "    # the maximum accuracy)\n",
    "    return -accuracy"
   ]
  },
  {
   "cell_type": "markdown",
   "metadata": {},
   "source": [
    "## Test run"
   ]
  },
  {
   "cell_type": "code",
   "execution_count": 18,
   "metadata": {},
   "outputs": [
    {
     "name": "stdout",
     "output_type": "stream",
     "text": [
      "learning rate: 1.0e-05\n",
      "num_dense_layers: 1\n",
      "num_dense_nodes: 16\n",
      "activation: relu\n",
      "\n",
      "Epoch 1/3\n",
      "266/266 [==============================] - 33s 121ms/step - loss: 2.2890 - accuracy: 0.1089 - val_loss: 2.2262 - val_accuracy: 0.2344\n",
      "Epoch 2/3\n",
      "266/266 [==============================] - 30s 113ms/step - loss: 2.1948 - accuracy: 0.2784 - val_loss: 2.0903 - val_accuracy: 0.4019\n",
      "Epoch 3/3\n",
      "266/266 [==============================] - 33s 122ms/step - loss: 2.0400 - accuracy: 0.4242 - val_loss: 1.8993 - val_accuracy: 0.4860\n",
      "\n",
      "Accuracy: 48.60%\n",
      "\n"
     ]
    },
    {
     "data": {
      "text/plain": [
       "-0.4859788417816162"
      ]
     },
     "execution_count": 18,
     "metadata": {},
     "output_type": "execute_result"
    }
   ],
   "source": [
    "# Before we run the hyper-parameter optimization, \n",
    "# let's first check that the everything is working\n",
    "# by passing some default hyper-parameters.\n",
    "\n",
    "default_parameters = [1e-5, 1, 16, 'relu']\n",
    "\n",
    "objective(x=default_parameters)"
   ]
  },
  {
   "cell_type": "markdown",
   "metadata": {},
   "source": [
    "We obtained a mediocre accuracy, but all our code is working. So let's get started with the Optimization now!!"
   ]
  },
  {
   "cell_type": "markdown",
   "metadata": {},
   "source": [
    "## Bayesian Optimization"
   ]
  },
  {
   "cell_type": "code",
   "execution_count": 19,
   "metadata": {
    "_cell_guid": "b453af8d-9736-43e3-b486-7a1cd7dd8909",
    "_execution_state": "idle",
    "_uuid": "cf36b3d029f95b553be02d612e097a9769ee8252",
    "scrolled": true
   },
   "outputs": [
    {
     "name": "stdout",
     "output_type": "stream",
     "text": [
      "learning rate: 1.0e-05\n",
      "num_dense_layers: 1\n",
      "num_dense_nodes: 16\n",
      "activation: relu\n",
      "\n",
      "Epoch 1/3\n",
      "266/266 [==============================] - 30s 109ms/step - loss: 2.2821 - accuracy: 0.1131 - val_loss: 2.2096 - val_accuracy: 0.2550\n",
      "Epoch 2/3\n",
      "266/266 [==============================] - 29s 109ms/step - loss: 2.1760 - accuracy: 0.2998 - val_loss: 2.0578 - val_accuracy: 0.4373\n",
      "Epoch 3/3\n",
      "266/266 [==============================] - 29s 109ms/step - loss: 2.0070 - accuracy: 0.4580 - val_loss: 1.8437 - val_accuracy: 0.5341\n",
      "\n",
      "Accuracy: 53.41%\n",
      "\n",
      "learning rate: 2.4e-04\n",
      "num_dense_layers: 4\n",
      "num_dense_nodes: 440\n",
      "activation: sigmoid\n",
      "\n",
      "Epoch 1/3\n",
      "266/266 [==============================] - 36s 134ms/step - loss: 2.3177 - accuracy: 0.1025 - val_loss: 2.3125 - val_accuracy: 0.1146\n",
      "Epoch 2/3\n",
      "266/266 [==============================] - 37s 138ms/step - loss: 2.0656 - accuracy: 0.2412 - val_loss: 0.7723 - val_accuracy: 0.7500\n",
      "Epoch 3/3\n",
      "266/266 [==============================] - 35s 130ms/step - loss: 0.6654 - accuracy: 0.7904 - val_loss: 0.4975 - val_accuracy: 0.8479\n",
      "\n",
      "Accuracy: 84.79%\n",
      "\n",
      "learning rate: 3.1e-04\n",
      "num_dense_layers: 3\n",
      "num_dense_nodes: 156\n",
      "activation: relu\n",
      "\n",
      "Epoch 1/3\n",
      "266/266 [==============================] - 31s 115ms/step - loss: 0.9904 - accuracy: 0.7362 - val_loss: 0.1643 - val_accuracy: 0.9511\n",
      "Epoch 2/3\n",
      "266/266 [==============================] - 30s 112ms/step - loss: 0.1187 - accuracy: 0.9624 - val_loss: 0.0983 - val_accuracy: 0.9701\n",
      "Epoch 3/3\n",
      "266/266 [==============================] - 29s 108ms/step - loss: 0.0747 - accuracy: 0.9767 - val_loss: 0.0792 - val_accuracy: 0.9772\n",
      "\n",
      "Accuracy: 97.72%\n",
      "\n",
      "learning rate: 1.2e-05\n",
      "num_dense_layers: 3\n",
      "num_dense_nodes: 417\n",
      "activation: relu\n",
      "\n",
      "Epoch 1/3\n",
      "266/266 [==============================] - 32s 118ms/step - loss: 2.1711 - accuracy: 0.3362 - val_loss: 1.2830 - val_accuracy: 0.7733\n",
      "Epoch 2/3\n",
      "266/266 [==============================] - 35s 131ms/step - loss: 0.9626 - accuracy: 0.8200 - val_loss: 0.5354 - val_accuracy: 0.8701\n",
      "Epoch 3/3\n",
      "266/266 [==============================] - 36s 136ms/step - loss: 0.4635 - accuracy: 0.8832 - val_loss: 0.3778 - val_accuracy: 0.8989\n",
      "\n",
      "Accuracy: 89.89%\n",
      "\n",
      "learning rate: 3.7e-05\n",
      "num_dense_layers: 4\n",
      "num_dense_nodes: 176\n",
      "activation: sigmoid\n",
      "\n",
      "Epoch 1/3\n",
      "266/266 [==============================] - 32s 119ms/step - loss: 2.5274 - accuracy: 0.0972 - val_loss: 2.3024 - val_accuracy: 0.1146\n",
      "Epoch 2/3\n",
      "266/266 [==============================] - 31s 117ms/step - loss: 2.3021 - accuracy: 0.1087 - val_loss: 2.3010 - val_accuracy: 0.1146\n",
      "Epoch 3/3\n",
      "266/266 [==============================] - 31s 115ms/step - loss: 2.3014 - accuracy: 0.1069 - val_loss: 2.3008 - val_accuracy: 0.1146\n",
      "\n",
      "Epoch 00003: ReduceLROnPlateau reducing learning rate to 1.862555291154422e-05.\n",
      "\n",
      "Accuracy: 11.46%\n",
      "\n",
      "learning rate: 3.0e-05\n",
      "num_dense_layers: 5\n",
      "num_dense_nodes: 76\n",
      "activation: sigmoid\n",
      "\n",
      "Epoch 1/3\n",
      "266/266 [==============================] - 32s 116ms/step - loss: 2.4852 - accuracy: 0.0980 - val_loss: 2.3450 - val_accuracy: 0.0960\n",
      "Epoch 2/3\n",
      "266/266 [==============================] - 29s 110ms/step - loss: 2.3325 - accuracy: 0.0973 - val_loss: 2.3052 - val_accuracy: 0.0960\n",
      "Epoch 3/3\n",
      "266/266 [==============================] - 31s 117ms/step - loss: 2.3046 - accuracy: 0.1012 - val_loss: 2.3009 - val_accuracy: 0.1146\n",
      "\n",
      "Accuracy: 11.46%\n",
      "\n",
      "learning rate: 7.8e-05\n",
      "num_dense_layers: 4\n",
      "num_dense_nodes: 269\n",
      "activation: sigmoid\n",
      "\n",
      "Epoch 1/3\n",
      "266/266 [==============================] - 33s 123ms/step - loss: 2.3267 - accuracy: 0.1102 - val_loss: 2.3013 - val_accuracy: 0.1146\n",
      "Epoch 2/3\n",
      "266/266 [==============================] - 34s 128ms/step - loss: 2.3033 - accuracy: 0.1075 - val_loss: 2.3017 - val_accuracy: 0.1146\n",
      "Epoch 3/3\n",
      "266/266 [==============================] - 33s 126ms/step - loss: 2.3037 - accuracy: 0.1094 - val_loss: 2.2987 - val_accuracy: 0.1146\n",
      "\n",
      "Epoch 00003: ReduceLROnPlateau reducing learning rate to 3.9210481190821156e-05.\n",
      "\n",
      "Accuracy: 11.46%\n",
      "\n",
      "learning rate: 7.6e-04\n",
      "num_dense_layers: 3\n",
      "num_dense_nodes: 277\n",
      "activation: sigmoid\n",
      "\n",
      "Epoch 1/3\n",
      "266/266 [==============================] - 32s 117ms/step - loss: 2.3159 - accuracy: 0.1135 - val_loss: 1.2392 - val_accuracy: 0.5992\n",
      "Epoch 2/3\n",
      "266/266 [==============================] - 31s 116ms/step - loss: 0.8077 - accuracy: 0.7469 - val_loss: 0.3632 - val_accuracy: 0.8862\n",
      "Epoch 3/3\n",
      "266/266 [==============================] - 31s 117ms/step - loss: 0.2820 - accuracy: 0.9117 - val_loss: 0.2201 - val_accuracy: 0.9336\n",
      "\n",
      "Accuracy: 93.36%\n",
      "\n",
      "learning rate: 2.7e-06\n",
      "num_dense_layers: 3\n",
      "num_dense_nodes: 99\n",
      "activation: sigmoid\n",
      "\n",
      "Epoch 1/3\n",
      "266/266 [==============================] - 29s 108ms/step - loss: 2.3726 - accuracy: 0.0974 - val_loss: 2.3551 - val_accuracy: 0.1045\n",
      "Epoch 2/3\n",
      "266/266 [==============================] - 29s 108ms/step - loss: 2.3505 - accuracy: 0.1004 - val_loss: 2.3402 - val_accuracy: 0.1045\n",
      "Epoch 3/3\n",
      "266/266 [==============================] - 31s 116ms/step - loss: 2.3380 - accuracy: 0.0990 - val_loss: 2.3292 - val_accuracy: 0.1045\n",
      "\n",
      "Accuracy: 10.45%\n",
      "\n",
      "learning rate: 7.3e-06\n",
      "num_dense_layers: 2\n",
      "num_dense_nodes: 169\n",
      "activation: relu\n",
      "\n",
      "Epoch 1/3\n",
      "266/266 [==============================] - 31s 113ms/step - loss: 2.2658 - accuracy: 0.1947 - val_loss: 2.1070 - val_accuracy: 0.5394\n",
      "Epoch 2/3\n",
      "266/266 [==============================] - 30s 115ms/step - loss: 2.0099 - accuracy: 0.6199 - val_loss: 1.6561 - val_accuracy: 0.7108\n",
      "Epoch 3/3\n",
      "266/266 [==============================] - 30s 112ms/step - loss: 1.5077 - accuracy: 0.7385 - val_loss: 1.1263 - val_accuracy: 0.7680\n",
      "\n",
      "Accuracy: 76.80%\n",
      "\n",
      "learning rate: 7.7e-06\n",
      "num_dense_layers: 3\n",
      "num_dense_nodes: 463\n",
      "activation: relu\n",
      "\n",
      "Epoch 1/3\n",
      "266/266 [==============================] - 38s 139ms/step - loss: 2.2484 - accuracy: 0.2455 - val_loss: 1.8915 - val_accuracy: 0.7127\n",
      "Epoch 2/3\n",
      "266/266 [==============================] - 38s 142ms/step - loss: 1.6232 - accuracy: 0.7344 - val_loss: 0.9232 - val_accuracy: 0.7775\n",
      "Epoch 3/3\n",
      "266/266 [==============================] - 36s 136ms/step - loss: 0.7912 - accuracy: 0.8122 - val_loss: 0.5817 - val_accuracy: 0.8413\n",
      "\n",
      "Accuracy: 84.13%\n",
      "\n",
      "learning rate: 5.8e-04\n",
      "num_dense_layers: 4\n",
      "num_dense_nodes: 512\n",
      "activation: sigmoid\n",
      "\n",
      "Epoch 1/3\n",
      "266/266 [==============================] - 42s 155ms/step - loss: 2.3353 - accuracy: 0.1049 - val_loss: 2.1206 - val_accuracy: 0.3503\n",
      "Epoch 2/3\n",
      "266/266 [==============================] - 43s 162ms/step - loss: 1.1614 - accuracy: 0.6026 - val_loss: 0.4009 - val_accuracy: 0.8817\n",
      "Epoch 3/3\n",
      "266/266 [==============================] - 43s 163ms/step - loss: 0.3117 - accuracy: 0.9078 - val_loss: 0.2260 - val_accuracy: 0.9315\n",
      "\n",
      "Accuracy: 93.15%\n",
      "\n",
      "learning rate: 8.2e-05\n",
      "num_dense_layers: 5\n",
      "num_dense_nodes: 432\n",
      "activation: relu\n",
      "\n",
      "Epoch 1/3\n",
      "266/266 [==============================] - 46s 169ms/step - loss: 1.3319 - accuracy: 0.6299 - val_loss: 0.2808 - val_accuracy: 0.9146\n",
      "Epoch 2/3\n",
      "266/266 [==============================] - 60s 226ms/step - loss: 0.2288 - accuracy: 0.9292 - val_loss: 0.1769 - val_accuracy: 0.9500\n",
      "Epoch 3/3\n",
      "266/266 [==============================] - 56s 209ms/step - loss: 0.1359 - accuracy: 0.9578 - val_loss: 0.1272 - val_accuracy: 0.9640\n",
      "\n",
      "Accuracy: 96.40%\n",
      "\n",
      "learning rate: 2.3e-05\n",
      "num_dense_layers: 5\n",
      "num_dense_nodes: 256\n",
      "activation: relu\n",
      "\n",
      "Epoch 1/3\n",
      "266/266 [==============================] - 41s 145ms/step - loss: 2.0997 - accuracy: 0.3786 - val_loss: 0.7461 - val_accuracy: 0.8029\n",
      "Epoch 2/3\n",
      "266/266 [==============================] - 31s 116ms/step - loss: 0.5868 - accuracy: 0.8418 - val_loss: 0.3781 - val_accuracy: 0.8870\n",
      "Epoch 3/3\n",
      "266/266 [==============================] - 30s 112ms/step - loss: 0.3378 - accuracy: 0.8991 - val_loss: 0.2949 - val_accuracy: 0.9090\n",
      "\n",
      "Accuracy: 90.90%\n",
      "\n",
      "learning rate: 4.1e-04\n",
      "num_dense_layers: 5\n",
      "num_dense_nodes: 442\n",
      "activation: relu\n",
      "\n",
      "Epoch 1/3\n",
      "266/266 [==============================] - 34s 126ms/step - loss: 0.7471 - accuracy: 0.7598 - val_loss: 0.1058 - val_accuracy: 0.9685\n",
      "Epoch 2/3\n",
      "266/266 [==============================] - 33s 124ms/step - loss: 0.0921 - accuracy: 0.9712 - val_loss: 0.0709 - val_accuracy: 0.9807\n",
      "Epoch 3/3\n",
      "266/266 [==============================] - 33s 124ms/step - loss: 0.0544 - accuracy: 0.9830 - val_loss: 0.0576 - val_accuracy: 0.9839\n",
      "\n",
      "Accuracy: 98.39%\n",
      "\n",
      "learning rate: 2.7e-03\n",
      "num_dense_layers: 3\n",
      "num_dense_nodes: 377\n",
      "activation: sigmoid\n",
      "\n",
      "Epoch 1/3\n"
     ]
    },
    {
     "name": "stdout",
     "output_type": "stream",
     "text": [
      "266/266 [==============================] - 32s 117ms/step - loss: 2.3645 - accuracy: 0.1019 - val_loss: 1.3549 - val_accuracy: 0.4976\n",
      "Epoch 2/3\n",
      "266/266 [==============================] - 31s 116ms/step - loss: 0.6028 - accuracy: 0.7932 - val_loss: 0.1369 - val_accuracy: 0.9601\n",
      "Epoch 3/3\n",
      "266/266 [==============================] - 31s 116ms/step - loss: 0.1028 - accuracy: 0.9686 - val_loss: 0.1110 - val_accuracy: 0.9661\n",
      "\n",
      "Accuracy: 96.61%\n",
      "\n",
      "learning rate: 1.8e-03\n",
      "num_dense_layers: 3\n",
      "num_dense_nodes: 383\n",
      "activation: sigmoid\n",
      "\n",
      "Epoch 1/3\n",
      "266/266 [==============================] - 32s 116ms/step - loss: 2.3026 - accuracy: 0.1219 - val_loss: 1.0367 - val_accuracy: 0.6164\n",
      "Epoch 2/3\n",
      "266/266 [==============================] - 32s 120ms/step - loss: 0.7149 - accuracy: 0.7493 - val_loss: 0.2638 - val_accuracy: 0.9217\n",
      "Epoch 3/3\n",
      "266/266 [==============================] - 34s 126ms/step - loss: 0.2196 - accuracy: 0.9296 - val_loss: 0.1753 - val_accuracy: 0.9487\n",
      "\n",
      "Accuracy: 94.87%\n",
      "\n",
      "learning rate: 1.8e-03\n",
      "num_dense_layers: 2\n",
      "num_dense_nodes: 327\n",
      "activation: relu\n",
      "\n",
      "Epoch 1/3\n",
      "266/266 [==============================] - 35s 131ms/step - loss: 0.4901 - accuracy: 0.8411 - val_loss: 0.0699 - val_accuracy: 0.9788\n",
      "Epoch 2/3\n",
      "266/266 [==============================] - 31s 115ms/step - loss: 0.0507 - accuracy: 0.9847 - val_loss: 0.0612 - val_accuracy: 0.9833\n",
      "Epoch 3/3\n",
      "266/266 [==============================] - 29s 110ms/step - loss: 0.0359 - accuracy: 0.9874 - val_loss: 0.0586 - val_accuracy: 0.9828\n",
      "\n",
      "Accuracy: 98.28%\n",
      "\n",
      "learning rate: 2.0e-03\n",
      "num_dense_layers: 3\n",
      "num_dense_nodes: 327\n",
      "activation: sigmoid\n",
      "\n",
      "Epoch 1/3\n",
      "266/266 [==============================] - 31s 114ms/step - loss: 2.2111 - accuracy: 0.1607 - val_loss: 0.4231 - val_accuracy: 0.8696\n",
      "Epoch 2/3\n",
      "266/266 [==============================] - 30s 113ms/step - loss: 0.2821 - accuracy: 0.9122 - val_loss: 0.1487 - val_accuracy: 0.9590\n",
      "Epoch 3/3\n",
      "266/266 [==============================] - 32s 120ms/step - loss: 0.1190 - accuracy: 0.9628 - val_loss: 0.1173 - val_accuracy: 0.9667\n",
      "\n",
      "Accuracy: 96.67%\n",
      "\n",
      "learning rate: 1.7e-03\n",
      "num_dense_layers: 2\n",
      "num_dense_nodes: 296\n",
      "activation: relu\n",
      "\n",
      "Epoch 1/3\n",
      "266/266 [==============================] - 30s 110ms/step - loss: 0.5210 - accuracy: 0.8309 - val_loss: 0.0942 - val_accuracy: 0.9720\n",
      "Epoch 2/3\n",
      "266/266 [==============================] - 29s 109ms/step - loss: 0.0622 - accuracy: 0.9810 - val_loss: 0.0677 - val_accuracy: 0.9791\n",
      "Epoch 3/3\n",
      "266/266 [==============================] - 29s 110ms/step - loss: 0.0410 - accuracy: 0.9869 - val_loss: 0.0494 - val_accuracy: 0.9854\n",
      "\n",
      "Accuracy: 98.54%\n",
      "\n",
      "learning rate: 1.8e-03\n",
      "num_dense_layers: 1\n",
      "num_dense_nodes: 303\n",
      "activation: relu\n",
      "\n",
      "Epoch 1/3\n",
      "266/266 [==============================] - 29s 109ms/step - loss: 0.4453 - accuracy: 0.8643 - val_loss: 0.0912 - val_accuracy: 0.9720\n",
      "Epoch 2/3\n",
      "266/266 [==============================] - 29s 110ms/step - loss: 0.0569 - accuracy: 0.9826 - val_loss: 0.0640 - val_accuracy: 0.9825\n",
      "Epoch 3/3\n",
      "266/266 [==============================] - 29s 108ms/step - loss: 0.0336 - accuracy: 0.9894 - val_loss: 0.0451 - val_accuracy: 0.9884\n",
      "\n",
      "Accuracy: 98.84%\n",
      "\n",
      "learning rate: 5.8e-03\n",
      "num_dense_layers: 1\n",
      "num_dense_nodes: 217\n",
      "activation: relu\n",
      "\n",
      "Epoch 1/3\n",
      "266/266 [==============================] - 30s 112ms/step - loss: 0.3955 - accuracy: 0.8714 - val_loss: 0.0639 - val_accuracy: 0.9815\n",
      "Epoch 2/3\n",
      "266/266 [==============================] - 28s 104ms/step - loss: 0.0455 - accuracy: 0.9846 - val_loss: 0.0501 - val_accuracy: 0.9854\n",
      "Epoch 3/3\n",
      "266/266 [==============================] - 28s 106ms/step - loss: 0.0354 - accuracy: 0.9891 - val_loss: 0.0648 - val_accuracy: 0.9817\n",
      "\n",
      "Accuracy: 98.17%\n",
      "\n",
      "learning rate: 3.4e-03\n",
      "num_dense_layers: 1\n",
      "num_dense_nodes: 254\n",
      "activation: relu\n",
      "\n",
      "Epoch 1/3\n",
      "266/266 [==============================] - 29s 107ms/step - loss: 0.4120 - accuracy: 0.8658 - val_loss: 0.0711 - val_accuracy: 0.9778\n",
      "Epoch 2/3\n",
      "266/266 [==============================] - 28s 107ms/step - loss: 0.0518 - accuracy: 0.9844 - val_loss: 0.0486 - val_accuracy: 0.9841\n",
      "Epoch 3/3\n",
      "266/266 [==============================] - 31s 116ms/step - loss: 0.0328 - accuracy: 0.9905 - val_loss: 0.0486 - val_accuracy: 0.9876\n",
      "\n",
      "Accuracy: 98.76%\n",
      "\n",
      "learning rate: 7.9e-03\n",
      "num_dense_layers: 1\n",
      "num_dense_nodes: 237\n",
      "activation: sigmoid\n",
      "\n",
      "Epoch 1/3\n",
      "266/266 [==============================] - 36s 132ms/step - loss: 2.5215 - accuracy: 0.0995 - val_loss: 2.3394 - val_accuracy: 0.1037\n",
      "Epoch 2/3\n",
      "266/266 [==============================] - 35s 133ms/step - loss: 2.3315 - accuracy: 0.1072 - val_loss: 2.3145 - val_accuracy: 0.0960\n",
      "Epoch 3/3\n",
      "266/266 [==============================] - 952s 4s/step - loss: 2.3424 - accuracy: 0.1030 - val_loss: 2.3127 - val_accuracy: 0.1079\n",
      "\n",
      "Accuracy: 10.79%\n",
      "\n",
      "learning rate: 2.8e-03\n",
      "num_dense_layers: 5\n",
      "num_dense_nodes: 5\n",
      "activation: sigmoid\n",
      "\n",
      "Epoch 1/3\n",
      "266/266 [==============================] - 971s 4s/step - loss: 2.3580 - accuracy: 0.0993 - val_loss: 2.3009 - val_accuracy: 0.1146\n",
      "Epoch 2/3\n",
      "266/266 [==============================] - 965s 4s/step - loss: 2.3018 - accuracy: 0.1118 - val_loss: 2.3008 - val_accuracy: 0.1146\n",
      "Epoch 3/3\n",
      "266/266 [==============================] - 962s 4s/step - loss: 2.3013 - accuracy: 0.1120 - val_loss: 2.3006 - val_accuracy: 0.1146\n",
      "\n",
      "Epoch 00003: ReduceLROnPlateau reducing learning rate to 0.0014225402846932411.\n",
      "\n",
      "Accuracy: 11.46%\n",
      "\n",
      "learning rate: 2.6e-03\n",
      "num_dense_layers: 1\n",
      "num_dense_nodes: 5\n",
      "activation: relu\n",
      "\n",
      "Epoch 1/3\n",
      "266/266 [==============================] - 962s 4s/step - loss: 1.2946 - accuracy: 0.5119 - val_loss: 0.5706 - val_accuracy: 0.8251\n",
      "Epoch 2/3\n",
      "266/266 [==============================] - 1870s 7s/step - loss: 0.3443 - accuracy: 0.9031 - val_loss: 0.2478 - val_accuracy: 0.9315\n",
      "Epoch 3/3\n",
      "266/266 [==============================] - 970s 4s/step - loss: 0.2086 - accuracy: 0.9452 - val_loss: 0.1859 - val_accuracy: 0.9492\n",
      "\n",
      "Accuracy: 94.92%\n",
      "\n",
      "learning rate: 6.1e-03\n",
      "num_dense_layers: 4\n",
      "num_dense_nodes: 315\n",
      "activation: relu\n",
      "\n",
      "Epoch 1/3\n",
      "266/266 [==============================] - 978s 4s/step - loss: 0.6851 - accuracy: 0.7550 - val_loss: 0.0999 - val_accuracy: 0.9730\n",
      "Epoch 2/3\n",
      "266/266 [==============================] - 967s 4s/step - loss: 0.0853 - accuracy: 0.9786 - val_loss: 0.1649 - val_accuracy: 0.9619\n",
      "Epoch 3/3\n",
      "266/266 [==============================] - 970s 4s/step - loss: 0.0618 - accuracy: 0.9841 - val_loss: 0.0948 - val_accuracy: 0.9751\n",
      "\n",
      "Accuracy: 97.51%\n",
      "\n",
      "learning rate: 1.0e-02\n",
      "num_dense_layers: 1\n",
      "num_dense_nodes: 5\n",
      "activation: relu\n",
      "\n",
      "Epoch 1/3\n",
      "266/266 [==============================] - 964s 4s/step - loss: 1.1214 - accuracy: 0.5592 - val_loss: 0.2795 - val_accuracy: 0.9222\n",
      "Epoch 2/3\n",
      "266/266 [==============================] - 1893s 7s/step - loss: 0.2366 - accuracy: 0.9315 - val_loss: 0.2346 - val_accuracy: 0.9347\n",
      "Epoch 3/3\n",
      "266/266 [==============================] - 724s 3s/step - loss: 0.1752 - accuracy: 0.9494 - val_loss: 0.2004 - val_accuracy: 0.9381\n",
      "\n",
      "Accuracy: 93.81%\n",
      "\n",
      "learning rate: 1.0e-02\n",
      "num_dense_layers: 3\n",
      "num_dense_nodes: 308\n",
      "activation: relu\n",
      "\n",
      "Epoch 1/3\n",
      "266/266 [==============================] - 41s 153ms/step - loss: 2.3176 - accuracy: 0.1089 - val_loss: 2.3011 - val_accuracy: 0.1146\n",
      "Epoch 2/3\n",
      "266/266 [==============================] - 39s 145ms/step - loss: 2.3018 - accuracy: 0.1114 - val_loss: 2.3012 - val_accuracy: 0.0997\n",
      "Epoch 3/3\n",
      "266/266 [==============================] - 51s 191ms/step - loss: 2.3015 - accuracy: 0.1076 - val_loss: 2.3004 - val_accuracy: 0.1146\n",
      "\n",
      "Epoch 00003: ReduceLROnPlateau reducing learning rate to 0.004999999888241291.\n",
      "\n",
      "Accuracy: 11.46%\n",
      "\n",
      "learning rate: 1.3e-03\n",
      "num_dense_layers: 1\n",
      "num_dense_nodes: 512\n",
      "activation: sigmoid\n",
      "\n",
      "Epoch 1/3\n",
      "266/266 [==============================] - 62s 227ms/step - loss: 2.3035 - accuracy: 0.1605 - val_loss: 0.5859 - val_accuracy: 0.8045\n",
      "Epoch 2/3\n",
      "266/266 [==============================] - 53s 198ms/step - loss: 0.4395 - accuracy: 0.8642 - val_loss: 0.2762 - val_accuracy: 0.9138\n",
      "Epoch 3/3\n",
      "266/266 [==============================] - 62s 234ms/step - loss: 0.2111 - accuracy: 0.9332 - val_loss: 0.1736 - val_accuracy: 0.9460\n",
      "\n",
      "Accuracy: 94.60%\n",
      "\n"
     ]
    }
   ],
   "source": [
    "# gp_minimize performs by default GP Optimization \n",
    "# using a Marten Kernel\n",
    "\n",
    "gp_ = gp_minimize(\n",
    "    objective, # the objective function to minimize\n",
    "    param_grid, # the hyperparameter space\n",
    "    x0=default_parameters, # the initial parameters to test\n",
    "    acq_func='EI', # the acquisition function\n",
    "    n_calls=30, # the number of subsequent evaluations of f(x)\n",
    "    random_state=0, \n",
    ")"
   ]
  },
  {
   "cell_type": "markdown",
   "metadata": {},
   "source": [
    "# Analyze results"
   ]
  },
  {
   "cell_type": "code",
   "execution_count": 20,
   "metadata": {},
   "outputs": [
    {
     "data": {
      "text/plain": [
       "'Best score=-0.9884'"
      ]
     },
     "execution_count": 20,
     "metadata": {},
     "output_type": "execute_result"
    }
   ],
   "source": [
    "# function value at the minimum.\n",
    "# note that it is the negative of the accuracy\n",
    "\n",
    "\"Best score=%.4f\" % gp_.fun"
   ]
  },
  {
   "cell_type": "code",
   "execution_count": 21,
   "metadata": {},
   "outputs": [
    {
     "data": {
      "text/plain": [
       "[0.001809965536647404, 1, 303, 'relu']"
      ]
     },
     "execution_count": 21,
     "metadata": {},
     "output_type": "execute_result"
    }
   ],
   "source": [
    "gp_.x"
   ]
  },
  {
   "cell_type": "code",
   "execution_count": 22,
   "metadata": {},
   "outputs": [
    {
     "data": {
      "text/plain": [
       "Space([Real(low=1e-06, high=0.01, prior='log-uniform', transform='normalize'),\n",
       "       Integer(low=1, high=5, prior='uniform', transform='normalize'),\n",
       "       Integer(low=5, high=512, prior='uniform', transform='normalize'),\n",
       "       Categorical(categories=('relu', 'sigmoid'), prior=None)])"
      ]
     },
     "execution_count": 22,
     "metadata": {},
     "output_type": "execute_result"
    }
   ],
   "source": [
    "gp_.space"
   ]
  },
  {
   "cell_type": "code",
   "execution_count": 23,
   "metadata": {},
   "outputs": [
    {
     "name": "stdout",
     "output_type": "stream",
     "text": [
      "Best parameters:\n",
      "=========================\n",
      "- learning rate=0.001810\n",
      "- num_dense_layers=1\n",
      "- num_nodes=303\n",
      "- activation = relu\n"
     ]
    }
   ],
   "source": [
    "print(\"\"\"Best parameters:\n",
    "=========================\n",
    "- learning rate=%.6f\n",
    "- num_dense_layers=%d\n",
    "- num_nodes=%d\n",
    "- activation = %s\"\"\" % (gp_.x[0], \n",
    "                gp_.x[1],\n",
    "                gp_.x[2],\n",
    "                gp_.x[3]))"
   ]
  },
  {
   "cell_type": "markdown",
   "metadata": {},
   "source": [
    "## Convergence"
   ]
  },
  {
   "cell_type": "code",
   "execution_count": 24,
   "metadata": {},
   "outputs": [
    {
     "data": {
      "text/plain": [
       "<AxesSubplot:title={'center':'Convergence plot'}, xlabel='Number of calls $n$', ylabel='$\\\\min f(x)$ after $n$ calls'>"
      ]
     },
     "execution_count": 24,
     "metadata": {},
     "output_type": "execute_result"
    },
    {
     "data": {
      "image/png": "[encoded data removed]",
      "text/plain": [
       "<Figure size 432x288 with 1 Axes>"
      ]
     },
     "metadata": {
      "needs_background": "light"
     },
     "output_type": "display_data"
    }
   ],
   "source": [
    "plot_convergence(gp_)"
   ]
  },
  {
   "cell_type": "markdown",
   "metadata": {},
   "source": [
    "## Partially dependency plots\n",
    "\n",
    "[plot_objective](https://scikit-optimize.github.io/stable/modules/generated/skopt.plots.plot_objective.html#skopt.plots.plot_objective)"
   ]
  },
  {
   "cell_type": "code",
   "execution_count": 25,
   "metadata": {},
   "outputs": [],
   "source": [
    "dim_names = ['learning_rate', 'num_dense_nodes', 'num_dense_layers']"
   ]
  },
  {
   "cell_type": "code",
   "execution_count": 26,
   "metadata": {},
   "outputs": [
    {
     "data": {
      "image/png": "[encoded data removed]",
      "text/plain": [
       "<Figure size 432x432 with 9 Axes>"
      ]
     },
     "metadata": {
      "needs_background": "light"
     },
     "output_type": "display_data"
    }
   ],
   "source": [
    "plot_objective(result=gp_, plot_dims=dim_names)\n",
    "plt.show()"
   ]
  },
  {
   "cell_type": "markdown",
   "metadata": {},
   "source": [
    "## Evaluation order\n",
    "\n",
    "[plot_evaluations](https://scikit-optimize.github.io/stable/modules/generated/skopt.plots.plot_evaluations.html)"
   ]
  },
  {
   "cell_type": "code",
   "execution_count": 27,
   "metadata": {},
   "outputs": [
    {
     "data": {
      "image/png": "[encoded data removed]",
      "text/plain": [
       "<Figure size 432x432 with 9 Axes>"
      ]
     },
     "metadata": {
      "needs_background": "light"
     },
     "output_type": "display_data"
    }
   ],
   "source": [
    "plot_evaluations(result=gp_, plot_dims=dim_names)\n",
    "plt.show()"
   ]
  },
  {
   "cell_type": "markdown",
   "metadata": {
    "_cell_guid": "e758621d-b27b-40ff-a93f-bebd2e0e5243",
    "_uuid": "0a1834f2a9f2db15dcaba4a84004b9627d714469"
   },
   "source": [
    "# Evaluate the model"
   ]
  },
  {
   "cell_type": "code",
   "execution_count": 28,
   "metadata": {},
   "outputs": [],
   "source": [
    "# load best model\n",
    "\n",
    "model = load_model(path_best_model)"
   ]
  },
  {
   "cell_type": "code",
   "execution_count": 29,
   "metadata": {},
   "outputs": [
    {
     "name": "stdout",
     "output_type": "stream",
     "text": [
      "132/132 [==============================] - 1s 8ms/step - loss: 0.0472 - accuracy: 0.9833\n"
     ]
    }
   ],
   "source": [
    "# make predictions in test set\n",
    "\n",
    "result = model.evaluate(x=X_test,\n",
    "                        y=y_test)"
   ]
  },
  {
   "cell_type": "code",
   "execution_count": 30,
   "metadata": {},
   "outputs": [
    {
     "name": "stdout",
     "output_type": "stream",
     "text": [
      "loss 0.04718650504946709\n",
      "accuracy 0.9833333492279053\n"
     ]
    }
   ],
   "source": [
    "# print evaluation metrics\n",
    "\n",
    "for name, value in zip(model.metrics_names, result):\n",
    "    print(name, value)"
   ]
  },
  {
   "cell_type": "markdown",
   "metadata": {
    "_cell_guid": "5688faa0-b33b-4e92-b125-7fa0b37e7df3",
    "_uuid": "3306d29b732341663e50866140dc569360701a81"
   },
   "source": [
    "## Confusion matrix"
   ]
  },
  {
   "cell_type": "code",
   "execution_count": 31,
   "metadata": {},
   "outputs": [
    {
     "data": {
      "text/plain": [
       "array([[417,   0,   1,   0,   0,   1,   0,   0,   2,   1],\n",
       "       [  0, 468,   1,   0,   0,   0,   1,   2,   1,   0],\n",
       "       [  0,   1, 406,   0,   0,   0,   1,   0,   1,   0],\n",
       "       [  0,   0,   2, 414,   0,   9,   0,   1,   0,   0],\n",
       "       [  0,   4,   1,   0, 421,   0,   1,   0,   0,   2],\n",
       "       [  0,   0,   0,   0,   0, 381,   1,   0,   0,   0],\n",
       "       [  0,   0,   0,   0,   2,   1, 408,   0,   1,   0],\n",
       "       [  0,   0,  10,   0,   0,   2,   0, 454,   0,   3],\n",
       "       [  0,   2,   2,   0,   0,   3,   1,   0, 376,   0],\n",
       "       [  1,   1,   1,   0,   3,   1,   0,   1,   1, 385]], dtype=int64)"
      ]
     },
     "execution_count": 31,
     "metadata": {},
     "output_type": "execute_result"
    }
   ],
   "source": [
    "# Predict the values from the validation dataset\n",
    "y_pred = model.predict(X_test)\n",
    "\n",
    "# Convert predictions classes to one hot vectors \n",
    "y_pred_classes = np.argmax(y_pred, axis = 1)\n",
    "\n",
    "# Convert validation observations to one hot vectors\n",
    "y_true = np.argmax(y_test, axis = 1)\n",
    "\n",
    "# compute the confusion matrix\n",
    "cm = confusion_matrix(y_true, y_pred_classes) \n",
    "\n",
    "cm"
   ]
  },
  {
   "cell_type": "code",
   "execution_count": 32,
   "metadata": {
    "_cell_guid": "11361e73-8250-4bf5-a353-b0f8ea83e659",
    "_execution_state": "idle",
    "_uuid": "16e161179bf1b51ba66c39b2cead883f1db3a9c7"
   },
   "outputs": [
    {
     "data": {
      "text/plain": [
       "Text(0.5, 13.421126458070283, 'Predicted label')"
      ]
     },
     "execution_count": 32,
     "metadata": {},
     "output_type": "execute_result"
    },
    {
     "data": {
      "image/png": "[encoded data removed]",
      "text/plain": [
       "<Figure size 432x288 with 2 Axes>"
      ]
     },
     "metadata": {
      "needs_background": "light"
     },
     "output_type": "display_data"
    }
   ],
   "source": [
    "# let's make it more colourful\n",
    "classes = 10\n",
    "\n",
    "plt.imshow(cm, interpolation='nearest', cmap=plt.cm.Blues)\n",
    "plt.title('Confusion matrix')\n",
    "plt.colorbar()\n",
    "tick_marks = np.arange(classes)\n",
    "plt.xticks(tick_marks, range(classes), rotation=45)\n",
    "plt.yticks(tick_marks, range(classes))\n",
    "\n",
    "for i, j in itertools.product(range(cm.shape[0]), range(cm.shape[1])):\n",
    "    plt.text(j, i, cm[i, j],\n",
    "             horizontalalignment=\"center\",\n",
    "             color=\"white\" if cm[i, j] > 100 else \"black\",\n",
    "            )\n",
    "\n",
    "plt.tight_layout()\n",
    "plt.ylabel('True label')\n",
    "plt.xlabel('Predicted label')"
   ]
  },
  {
   "cell_type": "markdown",
   "metadata": {
    "_cell_guid": "1b8a5cdc-9122-4e31-b9fa-0f6b57d33fc8",
    "_uuid": "ecb928433299b163ecc1f6c4e66d4ddcf38fe898"
   },
   "source": [
    "Here we can see that our CNN performs very well on all digits.\n",
    "\n",
    "#  References\n",
    "\n",
    "This notebook was based on these resources:\n",
    "\n",
    "- [TensorFlow Tutorial #19](https://github.com/Hvass-Labs/TensorFlow-Tutorials/blob/master/19_Hyper-Parameters.ipynb)\n",
    "- [Introduction to CNN Keras - 0.997 (top 6%)](https://www.kaggle.com/yassineghouzam/introduction-to-cnn-keras-0-997-top-6)\n",
    "- [Keras](https://keras.io/)"
   ]
  },
  {
   "cell_type": "code",
   "execution_count": null,
   "metadata": {},
   "outputs": [],
   "source": []
  }
 ],
 "metadata": {
  "kernelspec": {
   "display_name": "html",
   "language": "python",
   "name": "html"
  },
  "language_info": {
   "codemirror_mode": {
    "name": "ipython",
    "version": 3
   },
   "file_extension": ".py",
   "mimetype": "text/x-python",
   "name": "python",
   "nbconvert_exporter": "python",
   "pygments_lexer": "ipython3",
   "version": "3.8.2"
  },
  "toc": {
   "base_numbering": 1,
   "nav_menu": {},
   "number_sections": true,
   "sideBar": true,
   "skip_h1_title": false,
   "title_cell": "Table of Contents",
   "title_sidebar": "Contents",
   "toc_cell": false,
   "toc_position": {
    "height": "calc(100% - 180px)",
    "left": "10px",
    "top": "150px",
    "width": "288.467px"
   },
   "toc_section_display": true,
   "toc_window_display": true
  }
 },
 "nbformat": 4,
 "nbformat_minor": 2
}
