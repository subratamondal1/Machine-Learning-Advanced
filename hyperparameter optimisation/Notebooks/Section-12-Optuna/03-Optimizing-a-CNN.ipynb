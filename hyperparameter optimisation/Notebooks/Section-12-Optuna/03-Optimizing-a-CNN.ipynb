{
 "cells": [
  {
   "cell_type": "markdown",
   "metadata": {
    "_cell_guid": "d4c08f48-fe23-4ddb-ac46-d97f05397514",
    "_uuid": "f2156d1dd26a1243e18512002e10872c5bd7271e"
   },
   "source": [
    "# Optimization of CNN - TPE\n",
    "\n",
    "In this notebook, we will optimize the hyperparameters of a CNN using the define-by-run model from Optuna."
   ]
  },
  {
   "cell_type": "code",
   "execution_count": 1,
   "metadata": {},
   "outputs": [],
   "source": [
    "# For reproducible results.\n",
    "# See: \n",
    "# https://keras.io/getting_started/faq/#how-can-i-obtain-reproducible-results-using-keras-during-development\n",
    "\n",
    "import os\n",
    "os.environ['PYTHONHASHSEED'] = '0'\n",
    "\n",
    "import numpy as np\n",
    "import tensorflow as tf\n",
    "import random as python_random\n",
    "\n",
    "# The below is necessary for starting Numpy generated random numbers\n",
    "# in a well-defined initial state.\n",
    "np.random.seed(123)\n",
    "\n",
    "# The below is necessary for starting core Python generated random numbers\n",
    "# in a well-defined state.\n",
    "python_random.seed(123)\n",
    "\n",
    "# The below set_seed() will make random number generation\n",
    "# in the TensorFlow backend have a well-defined initial state.\n",
    "# For further details, see:\n",
    "# https://www.tensorflow.org/api_docs/python/tf/random/set_seed\n",
    "tf.random.set_seed(1234)"
   ]
  },
  {
   "cell_type": "code",
   "execution_count": 2,
   "metadata": {
    "_cell_guid": "f67b9393-8ea1-4e23-b856-2ce149cfe421",
    "_execution_state": "idle",
    "_uuid": "72334cb006d02a4bcfc2a2fe622524eba824c6f8"
   },
   "outputs": [],
   "source": [
    "import itertools\n",
    "from functools import partial\n",
    "\n",
    "import pandas as pd\n",
    "import matplotlib.pyplot as plt\n",
    "import seaborn as sns\n",
    "\n",
    "from sklearn.model_selection import train_test_split\n",
    "from sklearn.metrics import confusion_matrix"
   ]
  },
  {
   "cell_type": "code",
   "execution_count": 3,
   "metadata": {},
   "outputs": [],
   "source": [
    "from keras.utils.np_utils import to_categorical\n",
    "from keras.models import Sequential, load_model\n",
    "from keras.layers import Dense, Flatten, Conv2D, MaxPool2D\n",
    "from keras.optimizers import Adam, RMSprop"
   ]
  },
  {
   "cell_type": "code",
   "execution_count": 4,
   "metadata": {},
   "outputs": [],
   "source": [
    "import optuna"
   ]
  },
  {
   "cell_type": "markdown",
   "metadata": {
    "_cell_guid": "6d2fb3e6-ab71-4974-b5a2-4af1ebdb99f4",
    "_execution_state": "idle",
    "_uuid": "86061d98eccaa02efe0dab0fa3884e71fcf4c310"
   },
   "source": [
    "#  Data Preparation\n",
    "\n",
    "The dataset contains information about images, each image is a hand-written digit. The aim is to have the computer predict which digit was written by the person, automatically, by \"looking\" at the image. \n",
    "\n",
    "Each image is 28 pixels in height and 28 pixels in width (28 x 28), making a total of 784 pixels. Each pixel value is an integer between 0 and 255, indicating the darkness in a gray-scale of that pixel.\n",
    "\n",
    "The data is stored in a dataframe where each each pixel is a column (so it is flattened and not in the 28 x 28 format). \n",
    "\n",
    "The data set the has 785 columns. The first column, called \"label\", is the digit that was drawn by the user. The rest of the columns contain the pixel-values of the associated image."
   ]
  },
  {
   "cell_type": "code",
   "execution_count": 5,
   "metadata": {
    "_cell_guid": "5e51d00e-62fd-4141-bf73-50ac4f2da7d0",
    "_execution_state": "idle",
    "_uuid": "84bbd5ab8d7895bd430d5ecfe2f7ddf77baa7b74"
   },
   "outputs": [
    {
     "data": {
      "text/html": [
       "<div>\n",
       "<style scoped>\n",
       "    .dataframe tbody tr th:only-of-type {\n",
       "        vertical-align: middle;\n",
       "    }\n",
       "\n",
       "    .dataframe tbody tr th {\n",
       "        vertical-align: top;\n",
       "    }\n",
       "\n",
       "    .dataframe thead th {\n",
       "        text-align: right;\n",
       "    }\n",
       "</style>\n",
       "<table border=\"1\" class=\"dataframe\">\n",
       "  <thead>\n",
       "    <tr style=\"text-align: right;\">\n",
       "      <th></th>\n",
       "      <th>label</th>\n",
       "      <th>pixel0</th>\n",
       "      <th>pixel1</th>\n",
       "      <th>pixel2</th>\n",
       "      <th>pixel3</th>\n",
       "      <th>pixel4</th>\n",
       "      <th>pixel5</th>\n",
       "      <th>pixel6</th>\n",
       "      <th>pixel7</th>\n",
       "      <th>pixel8</th>\n",
       "      <th>...</th>\n",
       "      <th>pixel774</th>\n",
       "      <th>pixel775</th>\n",
       "      <th>pixel776</th>\n",
       "      <th>pixel777</th>\n",
       "      <th>pixel778</th>\n",
       "      <th>pixel779</th>\n",
       "      <th>pixel780</th>\n",
       "      <th>pixel781</th>\n",
       "      <th>pixel782</th>\n",
       "      <th>pixel783</th>\n",
       "    </tr>\n",
       "  </thead>\n",
       "  <tbody>\n",
       "    <tr>\n",
       "      <th>0</th>\n",
       "      <td>1</td>\n",
       "      <td>0</td>\n",
       "      <td>0</td>\n",
       "      <td>0</td>\n",
       "      <td>0</td>\n",
       "      <td>0</td>\n",
       "      <td>0</td>\n",
       "      <td>0</td>\n",
       "      <td>0</td>\n",
       "      <td>0</td>\n",
       "      <td>...</td>\n",
       "      <td>0</td>\n",
       "      <td>0</td>\n",
       "      <td>0</td>\n",
       "      <td>0</td>\n",
       "      <td>0</td>\n",
       "      <td>0</td>\n",
       "      <td>0</td>\n",
       "      <td>0</td>\n",
       "      <td>0</td>\n",
       "      <td>0</td>\n",
       "    </tr>\n",
       "    <tr>\n",
       "      <th>1</th>\n",
       "      <td>0</td>\n",
       "      <td>0</td>\n",
       "      <td>0</td>\n",
       "      <td>0</td>\n",
       "      <td>0</td>\n",
       "      <td>0</td>\n",
       "      <td>0</td>\n",
       "      <td>0</td>\n",
       "      <td>0</td>\n",
       "      <td>0</td>\n",
       "      <td>...</td>\n",
       "      <td>0</td>\n",
       "      <td>0</td>\n",
       "      <td>0</td>\n",
       "      <td>0</td>\n",
       "      <td>0</td>\n",
       "      <td>0</td>\n",
       "      <td>0</td>\n",
       "      <td>0</td>\n",
       "      <td>0</td>\n",
       "      <td>0</td>\n",
       "    </tr>\n",
       "    <tr>\n",
       "      <th>2</th>\n",
       "      <td>1</td>\n",
       "      <td>0</td>\n",
       "      <td>0</td>\n",
       "      <td>0</td>\n",
       "      <td>0</td>\n",
       "      <td>0</td>\n",
       "      <td>0</td>\n",
       "      <td>0</td>\n",
       "      <td>0</td>\n",
       "      <td>0</td>\n",
       "      <td>...</td>\n",
       "      <td>0</td>\n",
       "      <td>0</td>\n",
       "      <td>0</td>\n",
       "      <td>0</td>\n",
       "      <td>0</td>\n",
       "      <td>0</td>\n",
       "      <td>0</td>\n",
       "      <td>0</td>\n",
       "      <td>0</td>\n",
       "      <td>0</td>\n",
       "    </tr>\n",
       "    <tr>\n",
       "      <th>3</th>\n",
       "      <td>4</td>\n",
       "      <td>0</td>\n",
       "      <td>0</td>\n",
       "      <td>0</td>\n",
       "      <td>0</td>\n",
       "      <td>0</td>\n",
       "      <td>0</td>\n",
       "      <td>0</td>\n",
       "      <td>0</td>\n",
       "      <td>0</td>\n",
       "      <td>...</td>\n",
       "      <td>0</td>\n",
       "      <td>0</td>\n",
       "      <td>0</td>\n",
       "      <td>0</td>\n",
       "      <td>0</td>\n",
       "      <td>0</td>\n",
       "      <td>0</td>\n",
       "      <td>0</td>\n",
       "      <td>0</td>\n",
       "      <td>0</td>\n",
       "    </tr>\n",
       "    <tr>\n",
       "      <th>4</th>\n",
       "      <td>0</td>\n",
       "      <td>0</td>\n",
       "      <td>0</td>\n",
       "      <td>0</td>\n",
       "      <td>0</td>\n",
       "      <td>0</td>\n",
       "      <td>0</td>\n",
       "      <td>0</td>\n",
       "      <td>0</td>\n",
       "      <td>0</td>\n",
       "      <td>...</td>\n",
       "      <td>0</td>\n",
       "      <td>0</td>\n",
       "      <td>0</td>\n",
       "      <td>0</td>\n",
       "      <td>0</td>\n",
       "      <td>0</td>\n",
       "      <td>0</td>\n",
       "      <td>0</td>\n",
       "      <td>0</td>\n",
       "      <td>0</td>\n",
       "    </tr>\n",
       "  </tbody>\n",
       "</table>\n",
       "<p>5 rows × 785 columns</p>\n",
       "</div>"
      ],
      "text/plain": [
       "   label  pixel0  pixel1  pixel2  pixel3  pixel4  pixel5  pixel6  pixel7  \\\n",
       "0      1       0       0       0       0       0       0       0       0   \n",
       "1      0       0       0       0       0       0       0       0       0   \n",
       "2      1       0       0       0       0       0       0       0       0   \n",
       "3      4       0       0       0       0       0       0       0       0   \n",
       "4      0       0       0       0       0       0       0       0       0   \n",
       "\n",
       "   pixel8  ...  pixel774  pixel775  pixel776  pixel777  pixel778  pixel779  \\\n",
       "0       0  ...         0         0         0         0         0         0   \n",
       "1       0  ...         0         0         0         0         0         0   \n",
       "2       0  ...         0         0         0         0         0         0   \n",
       "3       0  ...         0         0         0         0         0         0   \n",
       "4       0  ...         0         0         0         0         0         0   \n",
       "\n",
       "   pixel780  pixel781  pixel782  pixel783  \n",
       "0         0         0         0         0  \n",
       "1         0         0         0         0  \n",
       "2         0         0         0         0  \n",
       "3         0         0         0         0  \n",
       "4         0         0         0         0  \n",
       "\n",
       "[5 rows x 785 columns]"
      ]
     },
     "execution_count": 5,
     "metadata": {},
     "output_type": "execute_result"
    }
   ],
   "source": [
    "# Load the data\n",
    "\n",
    "data = pd.read_csv(\"../mnist.csv\")\n",
    "\n",
    "# first column is the target, the rest of the columns\n",
    "# are the pixels of the image\n",
    "\n",
    "# each row is 1 image\n",
    "data.head()"
   ]
  },
  {
   "cell_type": "code",
   "execution_count": 6,
   "metadata": {},
   "outputs": [
    {
     "data": {
      "text/plain": [
       "((37800, 784), (4200, 784))"
      ]
     },
     "execution_count": 6,
     "metadata": {},
     "output_type": "execute_result"
    }
   ],
   "source": [
    "# split dataset into a train and test set\n",
    "\n",
    "X_train, X_test, y_train, y_test = train_test_split(\n",
    "    data.drop(['label'], axis=1), # the images\n",
    "    data['label'], # the target\n",
    "    test_size = 0.1,\n",
    "    random_state=0)\n",
    "\n",
    "X_train.shape, X_test.shape"
   ]
  },
  {
   "cell_type": "code",
   "execution_count": 7,
   "metadata": {
    "_cell_guid": "86570a36-5c20-460a-9dfd-2070548532a7",
    "_execution_state": "idle",
    "_uuid": "1213b979d5ed3e0d13824d17d694c79d2ece92fa"
   },
   "outputs": [
    {
     "data": {
      "text/plain": [
       "Text(0, 0.5, 'Number of images')"
      ]
     },
     "execution_count": 7,
     "metadata": {},
     "output_type": "execute_result"
    },
    {
     "data": {
      "image/png": "[encoded data removed]",
      "text/plain": [
       "<Figure size 432x288 with 1 Axes>"
      ]
     },
     "metadata": {
      "needs_background": "light"
     },
     "output_type": "display_data"
    }
   ],
   "source": [
    "# number of images for each digit\n",
    "\n",
    "g = sns.countplot(x=y_train)\n",
    "plt.xlabel('Digits')\n",
    "plt.ylabel('Number of images')"
   ]
  },
  {
   "cell_type": "markdown",
   "metadata": {
    "_cell_guid": "5aea4062-1790-4987-b739-c4bebd79030f",
    "_uuid": "b7b1b1d36243c885e57374c8b60c5a7e10abe922"
   },
   "source": [
    "There are roughly the same amount of images for each of the 10 digits."
   ]
  },
  {
   "cell_type": "markdown",
   "metadata": {
    "_cell_guid": "6812040d-80ad-43d2-a571-275f4f20067b",
    "_uuid": "2954681f25f0dcbe986e6914396cdbce61db591f"
   },
   "source": [
    "## Image re-scaling\n",
    "\n",
    "We re-scale data for the CNN, between 0 and 1."
   ]
  },
  {
   "cell_type": "code",
   "execution_count": 8,
   "metadata": {
    "_cell_guid": "cdc4340b-6e24-4e12-be99-ac806098ff17",
    "_execution_state": "idle",
    "_uuid": "b5d4f8fcf2a967e2c7d57daedf95aa8c5ab7f8cb"
   },
   "outputs": [],
   "source": [
    "# Re-scale the data\n",
    "\n",
    "# 255 is the maximum value a pixel can take\n",
    "\n",
    "X_train = X_train / 255\n",
    "X_test = X_test / 255"
   ]
  },
  {
   "cell_type": "markdown",
   "metadata": {
    "_cell_guid": "7413df94-bcb9-4f75-b174-c127d4445766",
    "_uuid": "a66741bf1ac597094f3a3166877008feef27c519"
   },
   "source": [
    "## Reshape\n",
    "\n",
    "The images were stored in a pandas dataframe as 1-D vectors of 784 values. For a CNN with Keras, we need tensors with the following dimensions: width x height x channel. \n",
    "\n",
    "Thus, we reshape all data to 28 x 2 8 x 1, 3-D matrices. \n",
    "\n",
    "The 3rd dimension corresponds to the channel. RGB images have 3 channels. MNIST images are in gray-scale, thus they have only one channel in the 3rd dimension."
   ]
  },
  {
   "cell_type": "code",
   "execution_count": 9,
   "metadata": {
    "_cell_guid": "34b6a5f7-8fd2-4387-8ef4-c9dc19584fed",
    "_execution_state": "idle",
    "_uuid": "f0a6ad80dab8e0f2c2e46165ccd9cd82dd162bc3"
   },
   "outputs": [],
   "source": [
    "# Reshape image in 3 dimensions:\n",
    "# height: 28px X width: 28px X channel: 1 \n",
    "\n",
    "X_train = X_train.values.reshape(-1,28,28,1)\n",
    "X_test = X_test.values.reshape(-1,28,28,1)"
   ]
  },
  {
   "cell_type": "markdown",
   "metadata": {
    "_cell_guid": "bdb422e2-bdec-444f-97a5-283a1e54bf2c",
    "_uuid": "39b7a31e843bac6b705461bcce89da216b91799e"
   },
   "source": [
    "## Target encoding"
   ]
  },
  {
   "cell_type": "code",
   "execution_count": 10,
   "metadata": {},
   "outputs": [
    {
     "data": {
      "text/plain": [
       "array([2, 0, 7, 4, 3, 5, 9, 6, 8, 1], dtype=int64)"
      ]
     },
     "execution_count": 10,
     "metadata": {},
     "output_type": "execute_result"
    }
   ],
   "source": [
    "# the target is 1 variable with the 9 different digits\n",
    "# as values\n",
    "\n",
    "y_train.unique()"
   ]
  },
  {
   "cell_type": "code",
   "execution_count": 11,
   "metadata": {
    "_cell_guid": "4b7f3e78-44dc-4561-b1f0-9429ee024cf4",
    "_execution_state": "idle",
    "_uuid": "cabefd1478d5c1bdfe57fd6a34395340916a854c"
   },
   "outputs": [
    {
     "data": {
      "text/plain": [
       "array([[0., 0., 1., ..., 0., 0., 0.],\n",
       "       [0., 0., 1., ..., 0., 0., 0.],\n",
       "       [1., 0., 0., ..., 0., 0., 0.],\n",
       "       ...,\n",
       "       [0., 0., 0., ..., 0., 0., 1.],\n",
       "       [1., 0., 0., ..., 0., 0., 0.],\n",
       "       [0., 0., 0., ..., 0., 0., 1.]], dtype=float32)"
      ]
     },
     "execution_count": 11,
     "metadata": {},
     "output_type": "execute_result"
    }
   ],
   "source": [
    "# For Keras, we need to create 10 dummy variables,\n",
    "# one for each digit\n",
    "\n",
    "# Encode labels to one hot vectors (ex : digit 2 -> [0,0,1,0,0,0,0,0,0,0])\n",
    "\n",
    "y_train = to_categorical(y_train, num_classes = 10)\n",
    "y_test = to_categorical(y_test, num_classes = 10)\n",
    "\n",
    "# the new target\n",
    "y_train"
   ]
  },
  {
   "cell_type": "markdown",
   "metadata": {
    "_cell_guid": "adbeacf0-0dc0-4675-b2df-9c9663750f32",
    "_uuid": "60eed15ec5bc0d354385301789ecb8538fc02267"
   },
   "source": [
    "Let's print some example images."
   ]
  },
  {
   "cell_type": "code",
   "execution_count": 12,
   "metadata": {
    "_cell_guid": "5f76131b-4ba0-45f1-a98c-bd4e7d561793",
    "_execution_state": "idle",
    "_uuid": "e0dae8943d3d35f075dba3d7ba31bde1d4bf2ff4"
   },
   "outputs": [
    {
     "data": {
      "image/png": "[encoded data removed]",
      "text/plain": [
       "<Figure size 432x288 with 1 Axes>"
      ]
     },
     "metadata": {
      "needs_background": "light"
     },
     "output_type": "display_data"
    }
   ],
   "source": [
    "# Some image examples \n",
    "\n",
    "g = plt.imshow(X_train[0][:,:,0])"
   ]
  },
  {
   "cell_type": "code",
   "execution_count": 13,
   "metadata": {},
   "outputs": [
    {
     "data": {
      "image/png": "[encoded data removed]",
      "text/plain": [
       "<Figure size 432x288 with 1 Axes>"
      ]
     },
     "metadata": {
      "needs_background": "light"
     },
     "output_type": "display_data"
    }
   ],
   "source": [
    "# Some image examples \n",
    "\n",
    "g = plt.imshow(X_train[10][:,:,0])"
   ]
  },
  {
   "cell_type": "markdown",
   "metadata": {
    "_cell_guid": "d5265777-aeb3-449d-b171-d88cad74c0a4",
    "_uuid": "5fa18b37a9acd9e098bac1d12264b0dd4310fdd3"
   },
   "source": [
    "# Define-by-Run design\n",
    "\n",
    "We create the CNN and add the sampling space for the hyperparameters as we go. This is the Desing-by-run concept."
   ]
  },
  {
   "cell_type": "code",
   "execution_count": 14,
   "metadata": {},
   "outputs": [],
   "source": [
    "# we will save the model with this name\n",
    "path_best_model = 'cnn_model.h5'\n",
    "\n",
    "# starting point for the optimization\n",
    "best_accuracy = 0"
   ]
  },
  {
   "cell_type": "code",
   "execution_count": 15,
   "metadata": {},
   "outputs": [],
   "source": [
    "# function to create the CNN\n",
    "\n",
    "def objective(trial):\n",
    "\n",
    "    # Start construction of a Keras Sequential model.\n",
    "    model = Sequential()\n",
    "\n",
    "    # Convolutional layers.\n",
    "\n",
    "    # We add the different number of conv layers in the following loop:\n",
    "    num_conv_layers = trial.suggest_int('num_conv_layers', 1, 3)\n",
    "\n",
    "    for i in range(num_conv_layers):\n",
    "        \n",
    "        # NOTE: As per the below configuration, the parameters of each\n",
    "        # convolutional layer will be identical.\n",
    "        \n",
    "        # if we want different parameters in each layer, check next\n",
    "        # notebook\n",
    "\n",
    "        model.add(Conv2D(\n",
    "            filters=trial.suggest_categorical('filters', [16, 32, 64]),\n",
    "            kernel_size=trial.suggest_categorical('kernel_size', [3, 5]),\n",
    "            strides=trial.suggest_categorical('strides', [1, 2]),\n",
    "            activation=trial.suggest_categorical(\n",
    "                'activation', ['relu', 'tanh']),\n",
    "            padding='same',\n",
    "        ))\n",
    "\n",
    "    # we could also optimize these parameters if we wanted:\n",
    "    model.add(MaxPool2D(pool_size=2, strides=2))\n",
    "\n",
    "    # Flatten the 4-rank output of the convolutional layers\n",
    "    # to 2-rank that can be input to a fully-connected Dense layer.\n",
    "    model.add(Flatten())\n",
    "\n",
    "    # Add fully-connected Dense layers.\n",
    "    # The number of layers is a hyper-parameter we want to optimize.\n",
    "    # We add the different number of layers in the following loop:\n",
    "\n",
    "    num_dense_layers = trial.suggest_int('num_dense_layers', 1, 3)\n",
    "\n",
    "    for i in range(num_dense_layers):\n",
    "\n",
    "        # Add the dense fully-connected layer to the model.\n",
    "        # This has two hyper-parameters we want to optimize:\n",
    "        # The number of nodes (neurons) and the activation function.\n",
    "        model.add(Dense(\n",
    "            units=trial.suggest_int('units', 5, 512),\n",
    "            activation=trial.suggest_categorical(\n",
    "                'activation', ['relu', 'tanh']),\n",
    "        ))\n",
    "\n",
    "    # Last fully-connected dense layer with softmax-activation\n",
    "    # for use in classification.\n",
    "    model.add(Dense(10, activation='softmax'))\n",
    "\n",
    "    # Use the Adam method for training the network.\n",
    "    optimizer_name = trial.suggest_categorical(\n",
    "        'optimizer_name', ['Adam', 'RMSprop'])\n",
    "\n",
    "    if optimizer_name == 'Adam':\n",
    "        optimizer = Adam(lr=trial.suggest_float('learning_rate',  1e-6, 1e-2))\n",
    "    else:\n",
    "        optimizer = RMSprop(\n",
    "            lr=trial.suggest_float('learning_rate',  1e-6, 1e-2),\n",
    "            momentum=trial.suggest_float('momentum',  0.1, 0.9),\n",
    "        )\n",
    "\n",
    "    # In Keras we need to compile the model so it can be trained.\n",
    "    model.compile(optimizer=optimizer,\n",
    "                  loss='categorical_crossentropy',\n",
    "                  metrics=['accuracy'])\n",
    "\n",
    "    # train the model\n",
    "    # we use 3 epochs to be able to run the notebook in a \"reasonable\"\n",
    "    # time. If we increase the epochs, we will have better performance\n",
    "    # this could be another parameter to optimize in fact.\n",
    "    history = model.fit(\n",
    "        x=X_train,\n",
    "        y=y_train,\n",
    "        epochs=3,\n",
    "        batch_size=128,\n",
    "        validation_split=0.1,\n",
    "    )\n",
    "\n",
    "    # Get the classification accuracy on the validation-set\n",
    "    # after the last training-epoch.\n",
    "    accuracy = history.history['val_accuracy'][-1]\n",
    "\n",
    "    # Save the model if it improves on the best-found performance.\n",
    "    # We use the global keyword so we update the variable outside\n",
    "    # of this function.\n",
    "    global best_accuracy\n",
    "\n",
    "    # If the classification accuracy of the saved model is improved ...\n",
    "    if accuracy > best_accuracy:\n",
    "        # Save the new model to harddisk.\n",
    "        # Training CNNs is costly, so we want to avoid having to re-train\n",
    "        # the network with the best found parameters. We save it instead\n",
    "        # as we search for the best hyperparam space.\n",
    "        model.save(path_best_model)\n",
    "\n",
    "        # Update the classification accuracy.\n",
    "        best_accuracy = accuracy\n",
    "\n",
    "    # Delete the Keras model with these hyper-parameters from memory.\n",
    "    del model\n",
    "\n",
    "    # Remember that Scikit-optimize always minimizes the objective\n",
    "    # function, so we need to negate the accuracy (because we want\n",
    "    # the maximum accuracy)\n",
    "    return accuracy"
   ]
  },
  {
   "cell_type": "code",
   "execution_count": 16,
   "metadata": {},
   "outputs": [],
   "source": [
    "# we need this to store the search\n",
    "# we will use it in the following notebook\n",
    "\n",
    "study_name = \"cnn_study\"  # unique identifier of the study.\n",
    "storage_name = \"sqlite:///{}.db\".format(study_name)"
   ]
  },
  {
   "cell_type": "code",
   "execution_count": 17,
   "metadata": {
    "scrolled": true
   },
   "outputs": [
    {
     "name": "stderr",
     "output_type": "stream",
     "text": [
      "\u001b[32m[I 2021-05-20 18:21:25,305]\u001b[0m A new study created in RDB with name: cnn_study\u001b[0m\n"
     ]
    },
    {
     "name": "stdout",
     "output_type": "stream",
     "text": [
      "Epoch 1/3\n",
      "266/266 [==============================] - 35s 129ms/step - loss: 0.6645 - accuracy: 0.7852 - val_loss: 0.1099 - val_accuracy: 0.9680\n",
      "Epoch 2/3\n",
      "266/266 [==============================] - 44s 165ms/step - loss: 0.0933 - accuracy: 0.9726 - val_loss: 0.1159 - val_accuracy: 0.9706\n",
      "Epoch 3/3\n",
      "266/266 [==============================] - 45s 168ms/step - loss: 0.0532 - accuracy: 0.9835 - val_loss: 0.0680 - val_accuracy: 0.9786\n"
     ]
    },
    {
     "name": "stderr",
     "output_type": "stream",
     "text": [
      "\u001b[32m[I 2021-05-20 18:23:30,697]\u001b[0m Trial 0 finished with value: 0.9785714149475098 and parameters: {'num_conv_layers': 3, 'filters': 64, 'kernel_size': 5, 'strides': 2, 'activation': 'relu', 'num_dense_layers': 2, 'units': 37, 'optimizer_name': 'Adam', 'learning_rate': 0.001829444754668258}. Best is trial 0 with value: 0.9785714149475098.\u001b[0m\n"
     ]
    },
    {
     "name": "stdout",
     "output_type": "stream",
     "text": [
      "Epoch 1/3\n",
      "266/266 [==============================] - 19s 64ms/step - loss: 0.5696 - accuracy: 0.8277 - val_loss: 0.1244 - val_accuracy: 0.9619\n",
      "Epoch 2/3\n",
      "266/266 [==============================] - 29s 107ms/step - loss: 0.0939 - accuracy: 0.9729 - val_loss: 0.0960 - val_accuracy: 0.9722\n",
      "Epoch 3/3\n",
      "266/266 [==============================] - 29s 108ms/step - loss: 0.0593 - accuracy: 0.9817 - val_loss: 0.0702 - val_accuracy: 0.9770\n"
     ]
    },
    {
     "name": "stderr",
     "output_type": "stream",
     "text": [
      "\u001b[32m[I 2021-05-20 18:24:47,420]\u001b[0m Trial 1 finished with value: 0.9769841432571411 and parameters: {'num_conv_layers': 1, 'filters': 64, 'kernel_size': 3, 'strides': 2, 'activation': 'relu', 'num_dense_layers': 1, 'units': 218, 'optimizer_name': 'Adam', 'learning_rate': 0.0017379818382761978}. Best is trial 0 with value: 0.9785714149475098.\u001b[0m\n"
     ]
    },
    {
     "name": "stdout",
     "output_type": "stream",
     "text": [
      "Epoch 1/3\n",
      "266/266 [==============================] - 22s 73ms/step - loss: 0.4895 - accuracy: 0.8444 - val_loss: 0.1351 - val_accuracy: 0.9569\n",
      "Epoch 2/3\n",
      "266/266 [==============================] - 19s 72ms/step - loss: 0.1151 - accuracy: 0.9643 - val_loss: 0.1348 - val_accuracy: 0.9622\n",
      "Epoch 3/3\n",
      "266/266 [==============================] - 18s 66ms/step - loss: 0.0906 - accuracy: 0.9720 - val_loss: 0.1270 - val_accuracy: 0.9648\n"
     ]
    },
    {
     "name": "stderr",
     "output_type": "stream",
     "text": [
      "\u001b[32m[I 2021-05-20 18:25:46,840]\u001b[0m Trial 2 finished with value: 0.9648148417472839 and parameters: {'num_conv_layers': 2, 'filters': 32, 'kernel_size': 3, 'strides': 2, 'activation': 'tanh', 'num_dense_layers': 1, 'units': 507, 'optimizer_name': 'Adam', 'learning_rate': 0.003322291633454295}. Best is trial 0 with value: 0.9785714149475098.\u001b[0m\n"
     ]
    },
    {
     "name": "stdout",
     "output_type": "stream",
     "text": [
      "Epoch 1/3\n",
      "266/266 [==============================] - 52s 184ms/step - loss: 2.2703 - accuracy: 0.6681 - val_loss: 0.2135 - val_accuracy: 0.9421\n",
      "Epoch 2/3\n",
      "266/266 [==============================] - 50s 187ms/step - loss: 0.1185 - accuracy: 0.9670 - val_loss: 0.1391 - val_accuracy: 0.9675\n",
      "Epoch 3/3\n",
      "266/266 [==============================] - 48s 181ms/step - loss: 0.0806 - accuracy: 0.9784 - val_loss: 0.1239 - val_accuracy: 0.9754\n"
     ]
    },
    {
     "name": "stderr",
     "output_type": "stream",
     "text": [
      "\u001b[32m[I 2021-05-20 18:28:18,233]\u001b[0m Trial 3 finished with value: 0.9753968119621277 and parameters: {'num_conv_layers': 1, 'filters': 32, 'kernel_size': 3, 'strides': 1, 'activation': 'relu', 'num_dense_layers': 3, 'units': 316, 'optimizer_name': 'RMSprop', 'learning_rate': 0.009606442320553202, 'momentum': 0.1839557778373304}. Best is trial 0 with value: 0.9785714149475098.\u001b[0m\n"
     ]
    },
    {
     "name": "stdout",
     "output_type": "stream",
     "text": [
      "Epoch 1/3\n",
      "266/266 [==============================] - 49s 175ms/step - loss: 2.4964 - accuracy: 0.5550 - val_loss: 0.3006 - val_accuracy: 0.9278\n",
      "Epoch 2/3\n",
      "266/266 [==============================] - 46s 173ms/step - loss: 0.2159 - accuracy: 0.9451 - val_loss: 0.3561 - val_accuracy: 0.9254\n",
      "Epoch 3/3\n",
      "266/266 [==============================] - 42s 159ms/step - loss: 0.1631 - accuracy: 0.9585 - val_loss: 0.2338 - val_accuracy: 0.9550\n"
     ]
    },
    {
     "name": "stderr",
     "output_type": "stream",
     "text": [
      "\u001b[32m[I 2021-05-20 18:30:36,895]\u001b[0m Trial 4 finished with value: 0.9550264477729797 and parameters: {'num_conv_layers': 1, 'filters': 16, 'kernel_size': 3, 'strides': 1, 'activation': 'tanh', 'num_dense_layers': 2, 'units': 444, 'optimizer_name': 'RMSprop', 'learning_rate': 0.00758290948203356, 'momentum': 0.27763790326823856}. Best is trial 0 with value: 0.9785714149475098.\u001b[0m\n"
     ]
    },
    {
     "name": "stdout",
     "output_type": "stream",
     "text": [
      "Epoch 1/3\n",
      "266/266 [==============================] - 548s 2s/step - loss: 3.5072 - accuracy: 0.1042 - val_loss: 2.4808 - val_accuracy: 0.1037\n",
      "Epoch 2/3\n",
      "266/266 [==============================] - 554s 2s/step - loss: 2.8719 - accuracy: 0.0990 - val_loss: 3.0300 - val_accuracy: 0.1037\n",
      "Epoch 3/3\n",
      "266/266 [==============================] - 627s 2s/step - loss: 2.8988 - accuracy: 0.0950 - val_loss: 2.7967 - val_accuracy: 0.1037\n"
     ]
    },
    {
     "name": "stderr",
     "output_type": "stream",
     "text": [
      "\u001b[32m[I 2021-05-20 18:59:26,760]\u001b[0m Trial 5 finished with value: 0.10370370000600815 and parameters: {'num_conv_layers': 3, 'filters': 64, 'kernel_size': 3, 'strides': 1, 'activation': 'tanh', 'num_dense_layers': 2, 'units': 455, 'optimizer_name': 'RMSprop', 'learning_rate': 0.004628385823120076, 'momentum': 0.3976856817981471}. Best is trial 0 with value: 0.9785714149475098.\u001b[0m\n"
     ]
    },
    {
     "name": "stdout",
     "output_type": "stream",
     "text": [
      "Epoch 1/3\n",
      "266/266 [==============================] - 33s 106ms/step - loss: 0.7561 - accuracy: 0.7479 - val_loss: 0.2741 - val_accuracy: 0.9206\n",
      "Epoch 2/3\n",
      "266/266 [==============================] - 25s 94ms/step - loss: 0.2273 - accuracy: 0.9368 - val_loss: 0.2374 - val_accuracy: 0.9368\n",
      "Epoch 3/3\n",
      "266/266 [==============================] - 13s 51ms/step - loss: 0.2195 - accuracy: 0.9406 - val_loss: 0.3410 - val_accuracy: 0.9251\n"
     ]
    },
    {
     "name": "stderr",
     "output_type": "stream",
     "text": [
      "\u001b[32m[I 2021-05-20 19:00:39,744]\u001b[0m Trial 6 finished with value: 0.9251322746276855 and parameters: {'num_conv_layers': 2, 'filters': 32, 'kernel_size': 3, 'strides': 2, 'activation': 'relu', 'num_dense_layers': 2, 'units': 134, 'optimizer_name': 'RMSprop', 'learning_rate': 0.004260383943637079, 'momentum': 0.8557808913273667}. Best is trial 0 with value: 0.9785714149475098.\u001b[0m\n"
     ]
    },
    {
     "name": "stdout",
     "output_type": "stream",
     "text": [
      "Epoch 1/3\n",
      "266/266 [==============================] - 50s 179ms/step - loss: 3.0398 - accuracy: 0.1042 - val_loss: 2.3760 - val_accuracy: 0.1079\n",
      "Epoch 2/3\n",
      "266/266 [==============================] - 46s 171ms/step - loss: 2.5909 - accuracy: 0.1003 - val_loss: 2.5552 - val_accuracy: 0.1037\n",
      "Epoch 3/3\n",
      "266/266 [==============================] - 47s 176ms/step - loss: 2.5468 - accuracy: 0.1007 - val_loss: 2.8352 - val_accuracy: 0.0868\n"
     ]
    },
    {
     "name": "stderr",
     "output_type": "stream",
     "text": [
      "\u001b[32m[I 2021-05-20 19:03:03,602]\u001b[0m Trial 7 finished with value: 0.08677248656749725 and parameters: {'num_conv_layers': 2, 'filters': 64, 'kernel_size': 5, 'strides': 2, 'activation': 'tanh', 'num_dense_layers': 1, 'units': 233, 'optimizer_name': 'RMSprop', 'learning_rate': 0.004457489102122301, 'momentum': 0.8159990102844568}. Best is trial 0 with value: 0.9785714149475098.\u001b[0m\n"
     ]
    },
    {
     "name": "stdout",
     "output_type": "stream",
     "text": [
      "Epoch 1/3\n",
      "266/266 [==============================] - 22s 69ms/step - loss: 1.5697 - accuracy: 0.4789 - val_loss: 0.4168 - val_accuracy: 0.8696\n",
      "Epoch 2/3\n",
      "266/266 [==============================] - 18s 69ms/step - loss: 0.3511 - accuracy: 0.8983 - val_loss: 0.2768 - val_accuracy: 0.9167\n",
      "Epoch 3/3\n",
      "266/266 [==============================] - 18s 68ms/step - loss: 0.2338 - accuracy: 0.9313 - val_loss: 0.2106 - val_accuracy: 0.9378\n"
     ]
    },
    {
     "name": "stderr",
     "output_type": "stream",
     "text": [
      "\u001b[32m[I 2021-05-20 19:04:03,524]\u001b[0m Trial 8 finished with value: 0.9378306865692139 and parameters: {'num_conv_layers': 3, 'filters': 32, 'kernel_size': 3, 'strides': 2, 'activation': 'relu', 'num_dense_layers': 3, 'units': 38, 'optimizer_name': 'Adam', 'learning_rate': 0.0004698200874850909}. Best is trial 0 with value: 0.9785714149475098.\u001b[0m\n"
     ]
    },
    {
     "name": "stdout",
     "output_type": "stream",
     "text": [
      "Epoch 1/3\n",
      "266/266 [==============================] - 15s 44ms/step - loss: 0.5480 - accuracy: 0.8222 - val_loss: 0.1262 - val_accuracy: 0.9638\n",
      "Epoch 2/3\n",
      "266/266 [==============================] - 11s 43ms/step - loss: 0.0970 - accuracy: 0.9695 - val_loss: 0.0979 - val_accuracy: 0.9712\n",
      "Epoch 3/3\n",
      "266/266 [==============================] - 10s 38ms/step - loss: 0.0662 - accuracy: 0.9788 - val_loss: 0.0957 - val_accuracy: 0.9714\n"
     ]
    },
    {
     "name": "stderr",
     "output_type": "stream",
     "text": [
      "\u001b[32m[I 2021-05-20 19:04:41,119]\u001b[0m Trial 9 finished with value: 0.9714285731315613 and parameters: {'num_conv_layers': 2, 'filters': 16, 'kernel_size': 3, 'strides': 2, 'activation': 'relu', 'num_dense_layers': 1, 'units': 433, 'optimizer_name': 'Adam', 'learning_rate': 0.006777103896145297}. Best is trial 0 with value: 0.9785714149475098.\u001b[0m\n"
     ]
    },
    {
     "name": "stdout",
     "output_type": "stream",
     "text": [
      "Epoch 1/3\n",
      "266/266 [==============================] - 63s 222ms/step - loss: 1.7073 - accuracy: 0.4609 - val_loss: 0.4395 - val_accuracy: 0.8733\n",
      "Epoch 2/3\n",
      "266/266 [==============================] - 56s 209ms/step - loss: 0.3916 - accuracy: 0.8887 - val_loss: 0.2872 - val_accuracy: 0.9156\n",
      "Epoch 3/3\n",
      "266/266 [==============================] - 57s 216ms/step - loss: 0.2506 - accuracy: 0.9276 - val_loss: 0.2406 - val_accuracy: 0.9280\n"
     ]
    },
    {
     "name": "stderr",
     "output_type": "stream",
     "text": [
      "\u001b[32m[I 2021-05-20 19:07:37,859]\u001b[0m Trial 10 finished with value: 0.9280423521995544 and parameters: {'num_conv_layers': 3, 'filters': 64, 'kernel_size': 5, 'strides': 2, 'activation': 'relu', 'num_dense_layers': 3, 'units': 29, 'optimizer_name': 'Adam', 'learning_rate': 0.0001223166490497982}. Best is trial 0 with value: 0.9785714149475098.\u001b[0m\n"
     ]
    },
    {
     "name": "stdout",
     "output_type": "stream",
     "text": [
      "Epoch 1/3\n",
      "266/266 [==============================] - 30s 103ms/step - loss: 0.6331 - accuracy: 0.8031 - val_loss: 0.1121 - val_accuracy: 0.9672\n",
      "Epoch 2/3\n",
      "266/266 [==============================] - 16s 61ms/step - loss: 0.0864 - accuracy: 0.9739 - val_loss: 0.0882 - val_accuracy: 0.9746\n",
      "Epoch 3/3\n",
      "266/266 [==============================] - 17s 66ms/step - loss: 0.0511 - accuracy: 0.9836 - val_loss: 0.0644 - val_accuracy: 0.9794\n"
     ]
    },
    {
     "name": "stderr",
     "output_type": "stream",
     "text": [
      "\u001b[32m[I 2021-05-20 19:08:42,924]\u001b[0m Trial 11 finished with value: 0.9793650507926941 and parameters: {'num_conv_layers': 1, 'filters': 64, 'kernel_size': 5, 'strides': 2, 'activation': 'relu', 'num_dense_layers': 2, 'units': 163, 'optimizer_name': 'Adam', 'learning_rate': 0.0012097048863652128}. Best is trial 11 with value: 0.9793650507926941.\u001b[0m\n"
     ]
    },
    {
     "name": "stdout",
     "output_type": "stream",
     "text": [
      "Epoch 1/3\n",
      "266/266 [==============================] - 50s 177ms/step - loss: 0.5903 - accuracy: 0.8007 - val_loss: 0.1001 - val_accuracy: 0.9709\n",
      "Epoch 2/3\n",
      "266/266 [==============================] - 48s 181ms/step - loss: 0.0782 - accuracy: 0.9763 - val_loss: 0.0884 - val_accuracy: 0.9762\n",
      "Epoch 3/3\n",
      "266/266 [==============================] - 53s 199ms/step - loss: 0.0459 - accuracy: 0.9855 - val_loss: 0.0575 - val_accuracy: 0.9839\n"
     ]
    },
    {
     "name": "stderr",
     "output_type": "stream",
     "text": [
      "\u001b[32m[I 2021-05-20 19:11:14,630]\u001b[0m Trial 12 finished with value: 0.9838624596595764 and parameters: {'num_conv_layers': 3, 'filters': 64, 'kernel_size': 5, 'strides': 2, 'activation': 'relu', 'num_dense_layers': 2, 'units': 114, 'optimizer_name': 'Adam', 'learning_rate': 0.0020539678624769604}. Best is trial 12 with value: 0.9838624596595764.\u001b[0m\n"
     ]
    },
    {
     "name": "stdout",
     "output_type": "stream",
     "text": [
      "Epoch 1/3\n",
      "266/266 [==============================] - 31s 107ms/step - loss: 0.5337 - accuracy: 0.8276 - val_loss: 0.0857 - val_accuracy: 0.9767\n",
      "Epoch 2/3\n",
      "266/266 [==============================] - 28s 105ms/step - loss: 0.0688 - accuracy: 0.9784 - val_loss: 0.0782 - val_accuracy: 0.9741\n",
      "Epoch 3/3\n",
      "266/266 [==============================] - 25s 95ms/step - loss: 0.0415 - accuracy: 0.9860 - val_loss: 0.0597 - val_accuracy: 0.9825\n"
     ]
    },
    {
     "name": "stderr",
     "output_type": "stream",
     "text": [
      "\u001b[32m[I 2021-05-20 19:12:39,961]\u001b[0m Trial 13 finished with value: 0.9825396537780762 and parameters: {'num_conv_layers': 1, 'filters': 64, 'kernel_size': 5, 'strides': 2, 'activation': 'relu', 'num_dense_layers': 2, 'units': 134, 'optimizer_name': 'Adam', 'learning_rate': 0.002238674984486938}. Best is trial 12 with value: 0.9838624596595764.\u001b[0m\n"
     ]
    },
    {
     "name": "stdout",
     "output_type": "stream",
     "text": [
      "Epoch 1/3\n",
      "266/266 [==============================] - 55s 197ms/step - loss: 0.5555 - accuracy: 0.8171 - val_loss: 0.0868 - val_accuracy: 0.9735\n",
      "Epoch 2/3\n",
      "266/266 [==============================] - 49s 186ms/step - loss: 0.0698 - accuracy: 0.9785 - val_loss: 0.0962 - val_accuracy: 0.9714\n",
      "Epoch 3/3\n",
      "266/266 [==============================] - 50s 187ms/step - loss: 0.0457 - accuracy: 0.9856 - val_loss: 0.0672 - val_accuracy: 0.9783\n"
     ]
    },
    {
     "name": "stderr",
     "output_type": "stream",
     "text": [
      "\u001b[32m[I 2021-05-20 19:15:15,695]\u001b[0m Trial 14 finished with value: 0.9783068895339966 and parameters: {'num_conv_layers': 2, 'filters': 64, 'kernel_size': 5, 'strides': 2, 'activation': 'relu', 'num_dense_layers': 2, 'units': 110, 'optimizer_name': 'Adam', 'learning_rate': 0.0027001952210941194}. Best is trial 12 with value: 0.9838624596595764.\u001b[0m\n"
     ]
    },
    {
     "name": "stdout",
     "output_type": "stream",
     "text": [
      "Epoch 1/3\n",
      "266/266 [==============================] - 68s 242ms/step - loss: 0.9049 - accuracy: 0.6722 - val_loss: 0.1077 - val_accuracy: 0.9701\n",
      "Epoch 2/3\n",
      "266/266 [==============================] - 48s 179ms/step - loss: 0.1008 - accuracy: 0.9712 - val_loss: 0.1244 - val_accuracy: 0.9685\n",
      "Epoch 3/3\n",
      "266/266 [==============================] - 47s 175ms/step - loss: 0.0678 - accuracy: 0.9811 - val_loss: 0.0890 - val_accuracy: 0.9762\n"
     ]
    },
    {
     "name": "stderr",
     "output_type": "stream",
     "text": [
      "\u001b[32m[I 2021-05-20 19:17:59,170]\u001b[0m Trial 15 finished with value: 0.976190447807312 and parameters: {'num_conv_layers': 3, 'filters': 64, 'kernel_size': 5, 'strides': 2, 'activation': 'relu', 'num_dense_layers': 3, 'units': 299, 'optimizer_name': 'Adam', 'learning_rate': 0.006126833548088438}. Best is trial 12 with value: 0.9838624596595764.\u001b[0m\n"
     ]
    },
    {
     "name": "stdout",
     "output_type": "stream",
     "text": [
      "Epoch 1/3\n",
      "266/266 [==============================] - 8s 26ms/step - loss: 0.6204 - accuracy: 0.8021 - val_loss: 0.1046 - val_accuracy: 0.9693\n",
      "Epoch 2/3\n",
      "266/266 [==============================] - 7s 27ms/step - loss: 0.0826 - accuracy: 0.9747 - val_loss: 0.0772 - val_accuracy: 0.9767\n",
      "Epoch 3/3\n",
      "266/266 [==============================] - 7s 26ms/step - loss: 0.0550 - accuracy: 0.9821 - val_loss: 0.0698 - val_accuracy: 0.9794\n"
     ]
    },
    {
     "name": "stderr",
     "output_type": "stream",
     "text": [
      "\u001b[32m[I 2021-05-20 19:18:22,479]\u001b[0m Trial 16 finished with value: 0.9793650507926941 and parameters: {'num_conv_layers': 1, 'filters': 16, 'kernel_size': 5, 'strides': 2, 'activation': 'relu', 'num_dense_layers': 2, 'units': 97, 'optimizer_name': 'Adam', 'learning_rate': 0.0028115563036979524}. Best is trial 12 with value: 0.9838624596595764.\u001b[0m\n"
     ]
    },
    {
     "name": "stdout",
     "output_type": "stream",
     "text": [
      "Epoch 1/3\n",
      "266/266 [==============================] - 387s 1s/step - loss: 0.7640 - accuracy: 0.7972 - val_loss: 0.1404 - val_accuracy: 0.9577\n",
      "Epoch 2/3\n",
      "266/266 [==============================] - 362s 1s/step - loss: 0.1015 - accuracy: 0.9692 - val_loss: 0.0815 - val_accuracy: 0.9757\n",
      "Epoch 3/3\n",
      "266/266 [==============================] - 339s 1s/step - loss: 0.0567 - accuracy: 0.9823 - val_loss: 0.0708 - val_accuracy: 0.9786\n"
     ]
    },
    {
     "name": "stderr",
     "output_type": "stream",
     "text": [
      "\u001b[32m[I 2021-05-20 19:36:31,343]\u001b[0m Trial 17 finished with value: 0.9785714149475098 and parameters: {'num_conv_layers': 2, 'filters': 64, 'kernel_size': 5, 'strides': 1, 'activation': 'relu', 'num_dense_layers': 2, 'units': 180, 'optimizer_name': 'Adam', 'learning_rate': 0.00021741034535812374}. Best is trial 12 with value: 0.9838624596595764.\u001b[0m\n"
     ]
    },
    {
     "name": "stdout",
     "output_type": "stream",
     "text": [
      "Epoch 1/3\n",
      "266/266 [==============================] - 18s 61ms/step - loss: 0.4700 - accuracy: 0.8503 - val_loss: 0.1072 - val_accuracy: 0.9688\n",
      "Epoch 2/3\n",
      "266/266 [==============================] - 15s 55ms/step - loss: 0.0695 - accuracy: 0.9779 - val_loss: 0.0702 - val_accuracy: 0.9812\n",
      "Epoch 3/3\n",
      "266/266 [==============================] - 15s 58ms/step - loss: 0.0421 - accuracy: 0.9869 - val_loss: 0.0655 - val_accuracy: 0.9802\n"
     ]
    },
    {
     "name": "stderr",
     "output_type": "stream",
     "text": [
      "\u001b[32m[I 2021-05-20 19:37:20,337]\u001b[0m Trial 18 finished with value: 0.9801587462425232 and parameters: {'num_conv_layers': 1, 'filters': 64, 'kernel_size': 5, 'strides': 2, 'activation': 'relu', 'num_dense_layers': 1, 'units': 87, 'optimizer_name': 'Adam', 'learning_rate': 0.0034869187334927985}. Best is trial 12 with value: 0.9838624596595764.\u001b[0m\n"
     ]
    },
    {
     "name": "stdout",
     "output_type": "stream",
     "text": [
      "Epoch 1/3\n",
      "266/266 [==============================] - 49s 173ms/step - loss: 0.7131 - accuracy: 0.7676 - val_loss: 0.1137 - val_accuracy: 0.9667\n",
      "Epoch 2/3\n",
      "266/266 [==============================] - 46s 172ms/step - loss: 0.0975 - accuracy: 0.9689 - val_loss: 0.0986 - val_accuracy: 0.9704\n",
      "Epoch 3/3\n",
      "266/266 [==============================] - 47s 175ms/step - loss: 0.0603 - accuracy: 0.9803 - val_loss: 0.0896 - val_accuracy: 0.9741\n"
     ]
    },
    {
     "name": "stderr",
     "output_type": "stream",
     "text": [
      "\u001b[32m[I 2021-05-20 19:39:41,949]\u001b[0m Trial 19 finished with value: 0.9740740656852722 and parameters: {'num_conv_layers': 3, 'filters': 64, 'kernel_size': 5, 'strides': 2, 'activation': 'relu', 'num_dense_layers': 3, 'units': 302, 'optimizer_name': 'Adam', 'learning_rate': 0.0008090843685833568}. Best is trial 12 with value: 0.9838624596595764.\u001b[0m\n"
     ]
    },
    {
     "name": "stdout",
     "output_type": "stream",
     "text": [
      "Epoch 1/3\n",
      "266/266 [==============================] - 17s 53ms/step - loss: 0.6820 - accuracy: 0.7710 - val_loss: 0.1101 - val_accuracy: 0.9683\n",
      "Epoch 2/3\n",
      "266/266 [==============================] - 11s 41ms/step - loss: 0.1059 - accuracy: 0.9687 - val_loss: 0.0981 - val_accuracy: 0.9725\n",
      "Epoch 3/3\n",
      "266/266 [==============================] - 12s 45ms/step - loss: 0.0679 - accuracy: 0.9781 - val_loss: 0.0798 - val_accuracy: 0.9757\n"
     ]
    },
    {
     "name": "stderr",
     "output_type": "stream",
     "text": [
      "\u001b[32m[I 2021-05-20 19:40:22,787]\u001b[0m Trial 20 finished with value: 0.9756613969802856 and parameters: {'num_conv_layers': 2, 'filters': 16, 'kernel_size': 5, 'strides': 2, 'activation': 'relu', 'num_dense_layers': 2, 'units': 181, 'optimizer_name': 'Adam', 'learning_rate': 0.0024584862687256287}. Best is trial 12 with value: 0.9838624596595764.\u001b[0m\n"
     ]
    },
    {
     "name": "stdout",
     "output_type": "stream",
     "text": [
      "Epoch 1/3\n",
      "266/266 [==============================] - 19s 63ms/step - loss: 0.4742 - accuracy: 0.8466 - val_loss: 0.0876 - val_accuracy: 0.9770\n",
      "Epoch 2/3\n",
      "266/266 [==============================] - 16s 59ms/step - loss: 0.0643 - accuracy: 0.9803 - val_loss: 0.0681 - val_accuracy: 0.9807\n",
      "Epoch 3/3\n",
      "266/266 [==============================] - 13s 50ms/step - loss: 0.0373 - accuracy: 0.9881 - val_loss: 0.0601 - val_accuracy: 0.9815\n"
     ]
    },
    {
     "name": "stderr",
     "output_type": "stream",
     "text": [
      "\u001b[32m[I 2021-05-20 19:41:11,662]\u001b[0m Trial 21 finished with value: 0.9814814925193787 and parameters: {'num_conv_layers': 1, 'filters': 64, 'kernel_size': 5, 'strides': 2, 'activation': 'relu', 'num_dense_layers': 1, 'units': 81, 'optimizer_name': 'Adam', 'learning_rate': 0.0035657052207980705}. Best is trial 12 with value: 0.9838624596595764.\u001b[0m\n"
     ]
    },
    {
     "name": "stdout",
     "output_type": "stream",
     "text": [
      "Epoch 1/3\n",
      "266/266 [==============================] - 18s 57ms/step - loss: 0.4434 - accuracy: 0.8547 - val_loss: 0.0863 - val_accuracy: 0.9751\n",
      "Epoch 2/3\n",
      "266/266 [==============================] - 15s 57ms/step - loss: 0.0596 - accuracy: 0.9821 - val_loss: 0.0629 - val_accuracy: 0.9831\n",
      "Epoch 3/3\n",
      "266/266 [==============================] - 15s 55ms/step - loss: 0.0360 - accuracy: 0.9875 - val_loss: 0.0711 - val_accuracy: 0.9788\n"
     ]
    },
    {
     "name": "stderr",
     "output_type": "stream",
     "text": [
      "\u001b[32m[I 2021-05-20 19:41:59,653]\u001b[0m Trial 22 finished with value: 0.9788359999656677 and parameters: {'num_conv_layers': 1, 'filters': 64, 'kernel_size': 5, 'strides': 2, 'activation': 'relu', 'num_dense_layers': 1, 'units': 69, 'optimizer_name': 'Adam', 'learning_rate': 0.005759147207410167}. Best is trial 12 with value: 0.9838624596595764.\u001b[0m\n"
     ]
    },
    {
     "name": "stdout",
     "output_type": "stream",
     "text": [
      "Epoch 1/3\n",
      "266/266 [==============================] - 20s 72ms/step - loss: 0.4673 - accuracy: 0.8462 - val_loss: 0.0970 - val_accuracy: 0.9720\n",
      "Epoch 2/3\n",
      "266/266 [==============================] - 18s 67ms/step - loss: 0.0619 - accuracy: 0.9807 - val_loss: 0.0660 - val_accuracy: 0.9796\n",
      "Epoch 3/3\n",
      "266/266 [==============================] - 18s 69ms/step - loss: 0.0362 - accuracy: 0.9882 - val_loss: 0.0573 - val_accuracy: 0.9815\n"
     ]
    },
    {
     "name": "stderr",
     "output_type": "stream",
     "text": [
      "\u001b[32m[I 2021-05-20 19:42:56,303]\u001b[0m Trial 23 finished with value: 0.9814814925193787 and parameters: {'num_conv_layers': 1, 'filters': 64, 'kernel_size': 5, 'strides': 2, 'activation': 'relu', 'num_dense_layers': 2, 'units': 140, 'optimizer_name': 'Adam', 'learning_rate': 0.003742762748466514}. Best is trial 12 with value: 0.9838624596595764.\u001b[0m\n"
     ]
    },
    {
     "name": "stdout",
     "output_type": "stream",
     "text": [
      "Epoch 1/3\n",
      "266/266 [==============================] - 22s 76ms/step - loss: 0.5584 - accuracy: 0.8266 - val_loss: 0.1099 - val_accuracy: 0.9680\n",
      "Epoch 2/3\n",
      "266/266 [==============================] - 16s 59ms/step - loss: 0.0761 - accuracy: 0.9767 - val_loss: 0.0937 - val_accuracy: 0.9704\n",
      "Epoch 3/3\n",
      "266/266 [==============================] - 17s 65ms/step - loss: 0.0478 - accuracy: 0.9838 - val_loss: 0.0617 - val_accuracy: 0.9839\n"
     ]
    },
    {
     "name": "stderr",
     "output_type": "stream",
     "text": [
      "\u001b[32m[I 2021-05-20 19:43:51,821]\u001b[0m Trial 24 finished with value: 0.9838624596595764 and parameters: {'num_conv_layers': 1, 'filters': 64, 'kernel_size': 5, 'strides': 2, 'activation': 'relu', 'num_dense_layers': 2, 'units': 143, 'optimizer_name': 'Adam', 'learning_rate': 0.0018438357670895755}. Best is trial 12 with value: 0.9838624596595764.\u001b[0m\n"
     ]
    },
    {
     "name": "stdout",
     "output_type": "stream",
     "text": [
      "Epoch 1/3\n",
      "266/266 [==============================] - 24s 81ms/step - loss: 0.5421 - accuracy: 0.8293 - val_loss: 0.1016 - val_accuracy: 0.9698\n",
      "Epoch 2/3\n",
      "266/266 [==============================] - 18s 68ms/step - loss: 0.0742 - accuracy: 0.9773 - val_loss: 0.0839 - val_accuracy: 0.9738\n",
      "Epoch 3/3\n",
      "266/266 [==============================] - 19s 73ms/step - loss: 0.0437 - accuracy: 0.9863 - val_loss: 0.0631 - val_accuracy: 0.9820\n"
     ]
    },
    {
     "name": "stderr",
     "output_type": "stream",
     "text": [
      "\u001b[32m[I 2021-05-20 19:44:53,846]\u001b[0m Trial 25 finished with value: 0.9820106029510498 and parameters: {'num_conv_layers': 1, 'filters': 64, 'kernel_size': 5, 'strides': 2, 'activation': 'relu', 'num_dense_layers': 2, 'units': 209, 'optimizer_name': 'Adam', 'learning_rate': 0.0015802360236340512}. Best is trial 12 with value: 0.9838624596595764.\u001b[0m\n"
     ]
    },
    {
     "name": "stdout",
     "output_type": "stream",
     "text": [
      "Epoch 1/3\n",
      "266/266 [==============================] - 25s 87ms/step - loss: 0.4839 - accuracy: 0.8443 - val_loss: 0.0889 - val_accuracy: 0.9749\n",
      "Epoch 2/3\n",
      "266/266 [==============================] - 19s 73ms/step - loss: 0.0634 - accuracy: 0.9799 - val_loss: 0.0758 - val_accuracy: 0.9780\n",
      "Epoch 3/3\n",
      "266/266 [==============================] - 22s 82ms/step - loss: 0.0354 - accuracy: 0.9883 - val_loss: 0.0569 - val_accuracy: 0.9833\n"
     ]
    },
    {
     "name": "stderr",
     "output_type": "stream",
     "text": [
      "\u001b[32m[I 2021-05-20 19:46:00,715]\u001b[0m Trial 26 finished with value: 0.9833333492279053 and parameters: {'num_conv_layers': 1, 'filters': 64, 'kernel_size': 5, 'strides': 2, 'activation': 'relu', 'num_dense_layers': 2, 'units': 247, 'optimizer_name': 'Adam', 'learning_rate': 0.001948405166845097}. Best is trial 12 with value: 0.9838624596595764.\u001b[0m\n"
     ]
    },
    {
     "name": "stdout",
     "output_type": "stream",
     "text": [
      "Epoch 1/3\n",
      "266/266 [==============================] - 361s 1s/step - loss: 0.4235 - accuracy: 0.8654 - val_loss: 0.1070 - val_accuracy: 0.9677\n",
      "Epoch 2/3\n",
      "266/266 [==============================] - 361s 1s/step - loss: 0.0665 - accuracy: 0.9797 - val_loss: 0.0823 - val_accuracy: 0.9770\n",
      "Epoch 3/3\n",
      "266/266 [==============================] - 302s 1s/step - loss: 0.0344 - accuracy: 0.9893 - val_loss: 0.0808 - val_accuracy: 0.9775\n"
     ]
    },
    {
     "name": "stderr",
     "output_type": "stream",
     "text": [
      "\u001b[32m[I 2021-05-20 20:03:06,337]\u001b[0m Trial 27 finished with value: 0.9775132536888123 and parameters: {'num_conv_layers': 2, 'filters': 64, 'kernel_size': 5, 'strides': 1, 'activation': 'tanh', 'num_dense_layers': 2, 'units': 363, 'optimizer_name': 'Adam', 'learning_rate': 0.000995359918308186}. Best is trial 12 with value: 0.9838624596595764.\u001b[0m\n"
     ]
    },
    {
     "name": "stdout",
     "output_type": "stream",
     "text": [
      "Epoch 1/3\n",
      "266/266 [==============================] - 12s 43ms/step - loss: 0.4647 - accuracy: 0.8427 - val_loss: 0.1141 - val_accuracy: 0.9677\n",
      "Epoch 2/3\n",
      "266/266 [==============================] - 10s 38ms/step - loss: 0.0672 - accuracy: 0.9801 - val_loss: 0.1051 - val_accuracy: 0.9725\n",
      "Epoch 3/3\n",
      "266/266 [==============================] - 11s 42ms/step - loss: 0.0481 - accuracy: 0.9850 - val_loss: 0.0698 - val_accuracy: 0.9794\n"
     ]
    },
    {
     "name": "stderr",
     "output_type": "stream",
     "text": [
      "\u001b[32m[I 2021-05-20 20:03:40,031]\u001b[0m Trial 28 finished with value: 0.9793650507926941 and parameters: {'num_conv_layers': 1, 'filters': 64, 'kernel_size': 5, 'strides': 2, 'activation': 'relu', 'num_dense_layers': 3, 'units': 261, 'optimizer_name': 'Adam', 'learning_rate': 0.0053649847727488004}. Best is trial 12 with value: 0.9838624596595764.\u001b[0m\n"
     ]
    },
    {
     "name": "stdout",
     "output_type": "stream",
     "text": [
      "Epoch 1/3\n",
      "266/266 [==============================] - 32s 117ms/step - loss: 1.7501 - accuracy: 0.3009 - val_loss: 1.1696 - val_accuracy: 0.5071\n",
      "Epoch 2/3\n",
      "266/266 [==============================] - 30s 113ms/step - loss: 1.0785 - accuracy: 0.5502 - val_loss: 0.4733 - val_accuracy: 0.8606\n",
      "Epoch 3/3\n",
      "266/266 [==============================] - 30s 115ms/step - loss: 0.3229 - accuracy: 0.8997 - val_loss: 0.1988 - val_accuracy: 0.9614\n"
     ]
    },
    {
     "name": "stderr",
     "output_type": "stream",
     "text": [
      "\u001b[32m[I 2021-05-20 20:05:12,528]\u001b[0m Trial 29 finished with value: 0.9613756537437439 and parameters: {'num_conv_layers': 3, 'filters': 64, 'kernel_size': 5, 'strides': 2, 'activation': 'relu', 'num_dense_layers': 2, 'units': 6, 'optimizer_name': 'Adam', 'learning_rate': 0.0019550329335437837}. Best is trial 12 with value: 0.9838624596595764.\u001b[0m\n"
     ]
    }
   ],
   "source": [
    "study = optuna.create_study(\n",
    "    direction='maximize',\n",
    "    study_name=study_name,\n",
    "    storage=storage_name,\n",
    "    load_if_exists=True,\n",
    ")\n",
    "\n",
    "study.optimize(objective, n_trials=30)"
   ]
  },
  {
   "cell_type": "markdown",
   "metadata": {},
   "source": [
    "# Analyze results"
   ]
  },
  {
   "cell_type": "code",
   "execution_count": 18,
   "metadata": {},
   "outputs": [
    {
     "data": {
      "text/plain": [
       "{'activation': 'relu',\n",
       " 'filters': 64,\n",
       " 'kernel_size': 5,\n",
       " 'learning_rate': 0.0020539678624769604,\n",
       " 'num_conv_layers': 3,\n",
       " 'num_dense_layers': 2,\n",
       " 'optimizer_name': 'Adam',\n",
       " 'strides': 2,\n",
       " 'units': 114}"
      ]
     },
     "execution_count": 18,
     "metadata": {},
     "output_type": "execute_result"
    }
   ],
   "source": [
    "study.best_params"
   ]
  },
  {
   "cell_type": "code",
   "execution_count": 19,
   "metadata": {},
   "outputs": [
    {
     "data": {
      "text/plain": [
       "0.9838624596595764"
      ]
     },
     "execution_count": 19,
     "metadata": {},
     "output_type": "execute_result"
    }
   ],
   "source": [
    "study.best_value"
   ]
  },
  {
   "cell_type": "code",
   "execution_count": 20,
   "metadata": {},
   "outputs": [
    {
     "data": {
      "text/plain": [
       "Text(0, 0.5, 'Accuracy')"
      ]
     },
     "execution_count": 20,
     "metadata": {},
     "output_type": "execute_result"
    },
    {
     "data": {
      "image/png": "[encoded data removed]",
      "text/plain": [
       "<Figure size 432x288 with 1 Axes>"
      ]
     },
     "metadata": {
      "needs_background": "light"
     },
     "output_type": "display_data"
    }
   ],
   "source": [
    "results = study.trials_dataframe()\n",
    "\n",
    "results['value'].sort_values().reset_index(drop=True).plot()\n",
    "plt.title('Convergence plot')\n",
    "plt.xlabel('Iteration')\n",
    "plt.ylabel('Accuracy')"
   ]
  },
  {
   "cell_type": "markdown",
   "metadata": {
    "_cell_guid": "e758621d-b27b-40ff-a93f-bebd2e0e5243",
    "_uuid": "0a1834f2a9f2db15dcaba4a84004b9627d714469"
   },
   "source": [
    "# Evaluate the model"
   ]
  },
  {
   "cell_type": "code",
   "execution_count": 21,
   "metadata": {},
   "outputs": [],
   "source": [
    "# load best model\n",
    "\n",
    "model = load_model(path_best_model)"
   ]
  },
  {
   "cell_type": "code",
   "execution_count": 22,
   "metadata": {},
   "outputs": [
    {
     "name": "stdout",
     "output_type": "stream",
     "text": [
      "Model: \"sequential_12\"\n",
      "_________________________________________________________________\n",
      "Layer (type)                 Output Shape              Param #   \n",
      "=================================================================\n",
      "conv2d_24 (Conv2D)           (None, 14, 14, 64)        1664      \n",
      "_________________________________________________________________\n",
      "conv2d_25 (Conv2D)           (None, 7, 7, 64)          102464    \n",
      "_________________________________________________________________\n",
      "conv2d_26 (Conv2D)           (None, 4, 4, 64)          102464    \n",
      "_________________________________________________________________\n",
      "max_pooling2d_12 (MaxPooling (None, 2, 2, 64)          0         \n",
      "_________________________________________________________________\n",
      "flatten_12 (Flatten)         (None, 256)               0         \n",
      "_________________________________________________________________\n",
      "dense_35 (Dense)             (None, 114)               29298     \n",
      "_________________________________________________________________\n",
      "dense_36 (Dense)             (None, 114)               13110     \n",
      "_________________________________________________________________\n",
      "dense_37 (Dense)             (None, 10)                1150      \n",
      "=================================================================\n",
      "Total params: 250,150\n",
      "Trainable params: 250,150\n",
      "Non-trainable params: 0\n",
      "_________________________________________________________________\n"
     ]
    }
   ],
   "source": [
    "model.summary()"
   ]
  },
  {
   "cell_type": "code",
   "execution_count": 23,
   "metadata": {},
   "outputs": [
    {
     "name": "stdout",
     "output_type": "stream",
     "text": [
      "132/132 [==============================] - 1s 7ms/step - loss: 0.0597 - accuracy: 0.9821\n"
     ]
    }
   ],
   "source": [
    "# make predictions in test set\n",
    "\n",
    "result = model.evaluate(x=X_test,\n",
    "                        y=y_test)"
   ]
  },
  {
   "cell_type": "code",
   "execution_count": 24,
   "metadata": {},
   "outputs": [
    {
     "name": "stdout",
     "output_type": "stream",
     "text": [
      "loss 0.05974521115422249\n",
      "accuracy 0.9821428656578064\n"
     ]
    }
   ],
   "source": [
    "# print evaluation metrics\n",
    "\n",
    "for name, value in zip(model.metrics_names, result):\n",
    "    print(name, value)"
   ]
  },
  {
   "cell_type": "markdown",
   "metadata": {
    "_cell_guid": "5688faa0-b33b-4e92-b125-7fa0b37e7df3",
    "_uuid": "3306d29b732341663e50866140dc569360701a81"
   },
   "source": [
    "## Confusion matrix"
   ]
  },
  {
   "cell_type": "code",
   "execution_count": 25,
   "metadata": {},
   "outputs": [
    {
     "data": {
      "text/plain": [
       "array([[416,   0,   0,   0,   1,   0,   2,   0,   3,   0],\n",
       "       [  0, 466,   3,   0,   0,   0,   1,   2,   1,   0],\n",
       "       [  2,   0, 405,   1,   0,   0,   0,   0,   1,   0],\n",
       "       [  0,   0,   1, 419,   0,   1,   1,   3,   0,   1],\n",
       "       [  1,   3,   0,   0, 419,   0,   3,   0,   0,   3],\n",
       "       [  0,   0,   0,   1,   0, 376,   2,   0,   3,   0],\n",
       "       [  0,   0,   0,   0,   2,   0, 409,   0,   1,   0],\n",
       "       [  0,   2,   6,   1,   0,   1,   0, 457,   0,   2],\n",
       "       [  0,   1,   1,   0,   0,   0,   1,   1, 379,   1],\n",
       "       [  2,   2,   0,   4,   5,   0,   0,   1,   1, 379]], dtype=int64)"
      ]
     },
     "execution_count": 25,
     "metadata": {},
     "output_type": "execute_result"
    }
   ],
   "source": [
    "# Predict the values from the validation dataset\n",
    "y_pred = model.predict(X_test)\n",
    "\n",
    "# Convert predictions classes to one hot vectors \n",
    "y_pred_classes = np.argmax(y_pred, axis = 1)\n",
    "\n",
    "# Convert validation observations to one hot vectors\n",
    "y_true = np.argmax(y_test, axis = 1)\n",
    "\n",
    "# compute the confusion matrix\n",
    "cm = confusion_matrix(y_true, y_pred_classes) \n",
    "\n",
    "cm"
   ]
  },
  {
   "cell_type": "code",
   "execution_count": 26,
   "metadata": {
    "_cell_guid": "11361e73-8250-4bf5-a353-b0f8ea83e659",
    "_execution_state": "idle",
    "_uuid": "16e161179bf1b51ba66c39b2cead883f1db3a9c7"
   },
   "outputs": [
    {
     "data": {
      "text/plain": [
       "Text(0.5, 13.421126458070283, 'Predicted label')"
      ]
     },
     "execution_count": 26,
     "metadata": {},
     "output_type": "execute_result"
    },
    {
     "data": {
      "image/png": "[encoded data removed]",
      "text/plain": [
       "<Figure size 432x288 with 2 Axes>"
      ]
     },
     "metadata": {
      "needs_background": "light"
     },
     "output_type": "display_data"
    }
   ],
   "source": [
    "# let's make it more colourful\n",
    "classes = 10\n",
    "\n",
    "plt.imshow(cm, interpolation='nearest', cmap=plt.cm.Blues)\n",
    "plt.title('Confusion matrix')\n",
    "plt.colorbar()\n",
    "tick_marks = np.arange(classes)\n",
    "plt.xticks(tick_marks, range(classes), rotation=45)\n",
    "plt.yticks(tick_marks, range(classes))\n",
    "\n",
    "for i, j in itertools.product(range(cm.shape[0]), range(cm.shape[1])):\n",
    "    plt.text(j, i, cm[i, j],\n",
    "             horizontalalignment=\"center\",\n",
    "             color=\"white\" if cm[i, j] > 100 else \"black\",\n",
    "            )\n",
    "\n",
    "plt.tight_layout()\n",
    "plt.ylabel('True label')\n",
    "plt.xlabel('Predicted label')"
   ]
  },
  {
   "cell_type": "markdown",
   "metadata": {
    "_cell_guid": "1b8a5cdc-9122-4e31-b9fa-0f6b57d33fc8",
    "_uuid": "ecb928433299b163ecc1f6c4e66d4ddcf38fe898"
   },
   "source": [
    "Here we can see that our CNN performs very well on all digits."
   ]
  },
  {
   "cell_type": "code",
   "execution_count": null,
   "metadata": {},
   "outputs": [],
   "source": []
  }
 ],
 "metadata": {
  "kernelspec": {
   "display_name": "html",
   "language": "python",
   "name": "html"
  },
  "language_info": {
   "codemirror_mode": {
    "name": "ipython",
    "version": 3
   },
   "file_extension": ".py",
   "mimetype": "text/x-python",
   "name": "python",
   "nbconvert_exporter": "python",
   "pygments_lexer": "ipython3",
   "version": "3.8.2"
  },
  "toc": {
   "base_numbering": 1,
   "nav_menu": {},
   "number_sections": true,
   "sideBar": true,
   "skip_h1_title": false,
   "title_cell": "Table of Contents",
   "title_sidebar": "Contents",
   "toc_cell": false,
   "toc_position": {
    "height": "calc(100% - 180px)",
    "left": "10px",
    "top": "150px",
    "width": "288.467px"
   },
   "toc_section_display": true,
   "toc_window_display": true
  }
 },
 "nbformat": 4,
 "nbformat_minor": 2
}
