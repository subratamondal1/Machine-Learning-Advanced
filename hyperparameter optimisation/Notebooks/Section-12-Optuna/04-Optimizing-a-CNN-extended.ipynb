{
 "cells": [
  {
   "cell_type": "markdown",
   "metadata": {
    "_cell_guid": "d4c08f48-fe23-4ddb-ac46-d97f05397514",
    "_uuid": "f2156d1dd26a1243e18512002e10872c5bd7271e"
   },
   "source": [
    "# Optimization of CNN - TPE\n",
    "\n",
    "In this notebook, we will optimize the hyperparameters of a CNN using the define-by-run model from Optuna."
   ]
  },
  {
   "cell_type": "code",
   "execution_count": 1,
   "metadata": {},
   "outputs": [],
   "source": [
    "# For reproducible results.\n",
    "# See: \n",
    "# https://keras.io/getting_started/faq/#how-can-i-obtain-reproducible-results-using-keras-during-development\n",
    "\n",
    "import os\n",
    "os.environ['PYTHONHASHSEED'] = '0'\n",
    "\n",
    "import numpy as np\n",
    "import tensorflow as tf\n",
    "import random as python_random\n",
    "\n",
    "# The below is necessary for starting Numpy generated random numbers\n",
    "# in a well-defined initial state.\n",
    "np.random.seed(123)\n",
    "\n",
    "# The below is necessary for starting core Python generated random numbers\n",
    "# in a well-defined state.\n",
    "python_random.seed(123)\n",
    "\n",
    "# The below set_seed() will make random number generation\n",
    "# in the TensorFlow backend have a well-defined initial state.\n",
    "# For further details, see:\n",
    "# https://www.tensorflow.org/api_docs/python/tf/random/set_seed\n",
    "tf.random.set_seed(1234)"
   ]
  },
  {
   "cell_type": "code",
   "execution_count": 2,
   "metadata": {
    "_cell_guid": "f67b9393-8ea1-4e23-b856-2ce149cfe421",
    "_execution_state": "idle",
    "_uuid": "72334cb006d02a4bcfc2a2fe622524eba824c6f8"
   },
   "outputs": [],
   "source": [
    "import itertools\n",
    "from functools import partial\n",
    "\n",
    "import pandas as pd\n",
    "import matplotlib.pyplot as plt\n",
    "import seaborn as sns\n",
    "\n",
    "from sklearn.model_selection import train_test_split\n",
    "from sklearn.metrics import confusion_matrix"
   ]
  },
  {
   "cell_type": "code",
   "execution_count": 3,
   "metadata": {},
   "outputs": [],
   "source": [
    "from keras.utils.np_utils import to_categorical\n",
    "from keras.models import Sequential, load_model\n",
    "from keras.layers import Dense, Flatten, Conv2D, MaxPool2D\n",
    "from keras.optimizers import Adam, RMSprop"
   ]
  },
  {
   "cell_type": "code",
   "execution_count": 4,
   "metadata": {},
   "outputs": [],
   "source": [
    "import optuna"
   ]
  },
  {
   "cell_type": "markdown",
   "metadata": {
    "_cell_guid": "6d2fb3e6-ab71-4974-b5a2-4af1ebdb99f4",
    "_execution_state": "idle",
    "_uuid": "86061d98eccaa02efe0dab0fa3884e71fcf4c310"
   },
   "source": [
    "#  Data Preparation\n",
    "\n",
    "The dataset contains information about images, each image is a hand-written digit. The aim is to have the computer predict which digit was written by the person, automatically, by \"looking\" at the image. \n",
    "\n",
    "Each image is 28 pixels in height and 28 pixels in width (28 x 28), making a total of 784 pixels. Each pixel value is an integer between 0 and 255, indicating the darkness in a gray-scale of that pixel.\n",
    "\n",
    "The data is stored in a dataframe where each each pixel is a column (so it is flattened and not in the 28 x 28 format). \n",
    "\n",
    "The data set the has 785 columns. The first column, called \"label\", is the digit that was drawn by the user. The rest of the columns contain the pixel-values of the associated image."
   ]
  },
  {
   "cell_type": "code",
   "execution_count": 5,
   "metadata": {
    "_cell_guid": "5e51d00e-62fd-4141-bf73-50ac4f2da7d0",
    "_execution_state": "idle",
    "_uuid": "84bbd5ab8d7895bd430d5ecfe2f7ddf77baa7b74"
   },
   "outputs": [
    {
     "data": {
      "text/html": [
       "<div>\n",
       "<style scoped>\n",
       "    .dataframe tbody tr th:only-of-type {\n",
       "        vertical-align: middle;\n",
       "    }\n",
       "\n",
       "    .dataframe tbody tr th {\n",
       "        vertical-align: top;\n",
       "    }\n",
       "\n",
       "    .dataframe thead th {\n",
       "        text-align: right;\n",
       "    }\n",
       "</style>\n",
       "<table border=\"1\" class=\"dataframe\">\n",
       "  <thead>\n",
       "    <tr style=\"text-align: right;\">\n",
       "      <th></th>\n",
       "      <th>label</th>\n",
       "      <th>pixel0</th>\n",
       "      <th>pixel1</th>\n",
       "      <th>pixel2</th>\n",
       "      <th>pixel3</th>\n",
       "      <th>pixel4</th>\n",
       "      <th>pixel5</th>\n",
       "      <th>pixel6</th>\n",
       "      <th>pixel7</th>\n",
       "      <th>pixel8</th>\n",
       "      <th>...</th>\n",
       "      <th>pixel774</th>\n",
       "      <th>pixel775</th>\n",
       "      <th>pixel776</th>\n",
       "      <th>pixel777</th>\n",
       "      <th>pixel778</th>\n",
       "      <th>pixel779</th>\n",
       "      <th>pixel780</th>\n",
       "      <th>pixel781</th>\n",
       "      <th>pixel782</th>\n",
       "      <th>pixel783</th>\n",
       "    </tr>\n",
       "  </thead>\n",
       "  <tbody>\n",
       "    <tr>\n",
       "      <th>0</th>\n",
       "      <td>1</td>\n",
       "      <td>0</td>\n",
       "      <td>0</td>\n",
       "      <td>0</td>\n",
       "      <td>0</td>\n",
       "      <td>0</td>\n",
       "      <td>0</td>\n",
       "      <td>0</td>\n",
       "      <td>0</td>\n",
       "      <td>0</td>\n",
       "      <td>...</td>\n",
       "      <td>0</td>\n",
       "      <td>0</td>\n",
       "      <td>0</td>\n",
       "      <td>0</td>\n",
       "      <td>0</td>\n",
       "      <td>0</td>\n",
       "      <td>0</td>\n",
       "      <td>0</td>\n",
       "      <td>0</td>\n",
       "      <td>0</td>\n",
       "    </tr>\n",
       "    <tr>\n",
       "      <th>1</th>\n",
       "      <td>0</td>\n",
       "      <td>0</td>\n",
       "      <td>0</td>\n",
       "      <td>0</td>\n",
       "      <td>0</td>\n",
       "      <td>0</td>\n",
       "      <td>0</td>\n",
       "      <td>0</td>\n",
       "      <td>0</td>\n",
       "      <td>0</td>\n",
       "      <td>...</td>\n",
       "      <td>0</td>\n",
       "      <td>0</td>\n",
       "      <td>0</td>\n",
       "      <td>0</td>\n",
       "      <td>0</td>\n",
       "      <td>0</td>\n",
       "      <td>0</td>\n",
       "      <td>0</td>\n",
       "      <td>0</td>\n",
       "      <td>0</td>\n",
       "    </tr>\n",
       "    <tr>\n",
       "      <th>2</th>\n",
       "      <td>1</td>\n",
       "      <td>0</td>\n",
       "      <td>0</td>\n",
       "      <td>0</td>\n",
       "      <td>0</td>\n",
       "      <td>0</td>\n",
       "      <td>0</td>\n",
       "      <td>0</td>\n",
       "      <td>0</td>\n",
       "      <td>0</td>\n",
       "      <td>...</td>\n",
       "      <td>0</td>\n",
       "      <td>0</td>\n",
       "      <td>0</td>\n",
       "      <td>0</td>\n",
       "      <td>0</td>\n",
       "      <td>0</td>\n",
       "      <td>0</td>\n",
       "      <td>0</td>\n",
       "      <td>0</td>\n",
       "      <td>0</td>\n",
       "    </tr>\n",
       "    <tr>\n",
       "      <th>3</th>\n",
       "      <td>4</td>\n",
       "      <td>0</td>\n",
       "      <td>0</td>\n",
       "      <td>0</td>\n",
       "      <td>0</td>\n",
       "      <td>0</td>\n",
       "      <td>0</td>\n",
       "      <td>0</td>\n",
       "      <td>0</td>\n",
       "      <td>0</td>\n",
       "      <td>...</td>\n",
       "      <td>0</td>\n",
       "      <td>0</td>\n",
       "      <td>0</td>\n",
       "      <td>0</td>\n",
       "      <td>0</td>\n",
       "      <td>0</td>\n",
       "      <td>0</td>\n",
       "      <td>0</td>\n",
       "      <td>0</td>\n",
       "      <td>0</td>\n",
       "    </tr>\n",
       "    <tr>\n",
       "      <th>4</th>\n",
       "      <td>0</td>\n",
       "      <td>0</td>\n",
       "      <td>0</td>\n",
       "      <td>0</td>\n",
       "      <td>0</td>\n",
       "      <td>0</td>\n",
       "      <td>0</td>\n",
       "      <td>0</td>\n",
       "      <td>0</td>\n",
       "      <td>0</td>\n",
       "      <td>...</td>\n",
       "      <td>0</td>\n",
       "      <td>0</td>\n",
       "      <td>0</td>\n",
       "      <td>0</td>\n",
       "      <td>0</td>\n",
       "      <td>0</td>\n",
       "      <td>0</td>\n",
       "      <td>0</td>\n",
       "      <td>0</td>\n",
       "      <td>0</td>\n",
       "    </tr>\n",
       "  </tbody>\n",
       "</table>\n",
       "<p>5 rows × 785 columns</p>\n",
       "</div>"
      ],
      "text/plain": [
       "   label  pixel0  pixel1  pixel2  pixel3  pixel4  pixel5  pixel6  pixel7  \\\n",
       "0      1       0       0       0       0       0       0       0       0   \n",
       "1      0       0       0       0       0       0       0       0       0   \n",
       "2      1       0       0       0       0       0       0       0       0   \n",
       "3      4       0       0       0       0       0       0       0       0   \n",
       "4      0       0       0       0       0       0       0       0       0   \n",
       "\n",
       "   pixel8  ...  pixel774  pixel775  pixel776  pixel777  pixel778  pixel779  \\\n",
       "0       0  ...         0         0         0         0         0         0   \n",
       "1       0  ...         0         0         0         0         0         0   \n",
       "2       0  ...         0         0         0         0         0         0   \n",
       "3       0  ...         0         0         0         0         0         0   \n",
       "4       0  ...         0         0         0         0         0         0   \n",
       "\n",
       "   pixel780  pixel781  pixel782  pixel783  \n",
       "0         0         0         0         0  \n",
       "1         0         0         0         0  \n",
       "2         0         0         0         0  \n",
       "3         0         0         0         0  \n",
       "4         0         0         0         0  \n",
       "\n",
       "[5 rows x 785 columns]"
      ]
     },
     "execution_count": 5,
     "metadata": {},
     "output_type": "execute_result"
    }
   ],
   "source": [
    "# Load the data\n",
    "\n",
    "data = pd.read_csv(\"../mnist.csv\")\n",
    "\n",
    "# first column is the target, the rest of the columns\n",
    "# are the pixels of the image\n",
    "\n",
    "# each row is 1 image\n",
    "data.head()"
   ]
  },
  {
   "cell_type": "code",
   "execution_count": 6,
   "metadata": {},
   "outputs": [
    {
     "data": {
      "text/plain": [
       "((37800, 784), (4200, 784))"
      ]
     },
     "execution_count": 6,
     "metadata": {},
     "output_type": "execute_result"
    }
   ],
   "source": [
    "# split dataset into a train and test set\n",
    "\n",
    "X_train, X_test, y_train, y_test = train_test_split(\n",
    "    data.drop(['label'], axis=1), # the images\n",
    "    data['label'], # the target\n",
    "    test_size = 0.1,\n",
    "    random_state=0)\n",
    "\n",
    "X_train.shape, X_test.shape"
   ]
  },
  {
   "cell_type": "code",
   "execution_count": 7,
   "metadata": {
    "_cell_guid": "86570a36-5c20-460a-9dfd-2070548532a7",
    "_execution_state": "idle",
    "_uuid": "1213b979d5ed3e0d13824d17d694c79d2ece92fa"
   },
   "outputs": [
    {
     "data": {
      "text/plain": [
       "Text(0, 0.5, 'Number of images')"
      ]
     },
     "execution_count": 7,
     "metadata": {},
     "output_type": "execute_result"
    },
    {
     "data": {
      "image/png": "[encoded data removed]",
      "text/plain": [
       "<Figure size 432x288 with 1 Axes>"
      ]
     },
     "metadata": {
      "needs_background": "light"
     },
     "output_type": "display_data"
    }
   ],
   "source": [
    "# number of images for each digit\n",
    "\n",
    "g = sns.countplot(x=y_train)\n",
    "plt.xlabel('Digits')\n",
    "plt.ylabel('Number of images')"
   ]
  },
  {
   "cell_type": "markdown",
   "metadata": {
    "_cell_guid": "5aea4062-1790-4987-b739-c4bebd79030f",
    "_uuid": "b7b1b1d36243c885e57374c8b60c5a7e10abe922"
   },
   "source": [
    "There are roughly the same amount of images for each of the 10 digits."
   ]
  },
  {
   "cell_type": "markdown",
   "metadata": {
    "_cell_guid": "6812040d-80ad-43d2-a571-275f4f20067b",
    "_uuid": "2954681f25f0dcbe986e6914396cdbce61db591f"
   },
   "source": [
    "## Image re-scaling\n",
    "\n",
    "We re-scale data for the CNN, between 0 and 1."
   ]
  },
  {
   "cell_type": "code",
   "execution_count": 8,
   "metadata": {
    "_cell_guid": "cdc4340b-6e24-4e12-be99-ac806098ff17",
    "_execution_state": "idle",
    "_uuid": "b5d4f8fcf2a967e2c7d57daedf95aa8c5ab7f8cb"
   },
   "outputs": [],
   "source": [
    "# Re-scale the data\n",
    "\n",
    "# 255 is the maximum value a pixel can take\n",
    "\n",
    "X_train = X_train / 255\n",
    "X_test = X_test / 255"
   ]
  },
  {
   "cell_type": "markdown",
   "metadata": {
    "_cell_guid": "7413df94-bcb9-4f75-b174-c127d4445766",
    "_uuid": "a66741bf1ac597094f3a3166877008feef27c519"
   },
   "source": [
    "## Reshape\n",
    "\n",
    "The images were stored in a pandas dataframe as 1-D vectors of 784 values. For a CNN with Keras, we need tensors with the following dimensions: width x height x channel. \n",
    "\n",
    "Thus, we reshape all data to 28 x 2 8 x 1, 3-D matrices. \n",
    "\n",
    "The 3rd dimension corresponds to the channel. RGB images have 3 channels. MNIST images are in gray-scale, thus they have only one channel in the 3rd dimension."
   ]
  },
  {
   "cell_type": "code",
   "execution_count": 9,
   "metadata": {
    "_cell_guid": "34b6a5f7-8fd2-4387-8ef4-c9dc19584fed",
    "_execution_state": "idle",
    "_uuid": "f0a6ad80dab8e0f2c2e46165ccd9cd82dd162bc3"
   },
   "outputs": [],
   "source": [
    "# Reshape image in 3 dimensions:\n",
    "# height: 28px X width: 28px X channel: 1 \n",
    "\n",
    "X_train = X_train.values.reshape(-1,28,28,1)\n",
    "X_test = X_test.values.reshape(-1,28,28,1)"
   ]
  },
  {
   "cell_type": "markdown",
   "metadata": {
    "_cell_guid": "bdb422e2-bdec-444f-97a5-283a1e54bf2c",
    "_uuid": "39b7a31e843bac6b705461bcce89da216b91799e"
   },
   "source": [
    "## Target encoding"
   ]
  },
  {
   "cell_type": "code",
   "execution_count": 10,
   "metadata": {},
   "outputs": [
    {
     "data": {
      "text/plain": [
       "array([2, 0, 7, 4, 3, 5, 9, 6, 8, 1], dtype=int64)"
      ]
     },
     "execution_count": 10,
     "metadata": {},
     "output_type": "execute_result"
    }
   ],
   "source": [
    "# the target is 1 variable with the 9 different digits\n",
    "# as values\n",
    "\n",
    "y_train.unique()"
   ]
  },
  {
   "cell_type": "code",
   "execution_count": 11,
   "metadata": {
    "_cell_guid": "4b7f3e78-44dc-4561-b1f0-9429ee024cf4",
    "_execution_state": "idle",
    "_uuid": "cabefd1478d5c1bdfe57fd6a34395340916a854c"
   },
   "outputs": [
    {
     "data": {
      "text/plain": [
       "array([[0., 0., 1., ..., 0., 0., 0.],\n",
       "       [0., 0., 1., ..., 0., 0., 0.],\n",
       "       [1., 0., 0., ..., 0., 0., 0.],\n",
       "       ...,\n",
       "       [0., 0., 0., ..., 0., 0., 1.],\n",
       "       [1., 0., 0., ..., 0., 0., 0.],\n",
       "       [0., 0., 0., ..., 0., 0., 1.]], dtype=float32)"
      ]
     },
     "execution_count": 11,
     "metadata": {},
     "output_type": "execute_result"
    }
   ],
   "source": [
    "# For Keras, we need to create 10 dummy variables,\n",
    "# one for each digit\n",
    "\n",
    "# Encode labels to one hot vectors (ex : digit 2 -> [0,0,1,0,0,0,0,0,0,0])\n",
    "\n",
    "y_train = to_categorical(y_train, num_classes = 10)\n",
    "y_test = to_categorical(y_test, num_classes = 10)\n",
    "\n",
    "# the new target\n",
    "y_train"
   ]
  },
  {
   "cell_type": "markdown",
   "metadata": {
    "_cell_guid": "adbeacf0-0dc0-4675-b2df-9c9663750f32",
    "_uuid": "60eed15ec5bc0d354385301789ecb8538fc02267"
   },
   "source": [
    "Let's print some example images."
   ]
  },
  {
   "cell_type": "code",
   "execution_count": 12,
   "metadata": {
    "_cell_guid": "5f76131b-4ba0-45f1-a98c-bd4e7d561793",
    "_execution_state": "idle",
    "_uuid": "e0dae8943d3d35f075dba3d7ba31bde1d4bf2ff4"
   },
   "outputs": [
    {
     "data": {
      "image/png": "[encoded data removed]",
      "text/plain": [
       "<Figure size 432x288 with 1 Axes>"
      ]
     },
     "metadata": {
      "needs_background": "light"
     },
     "output_type": "display_data"
    }
   ],
   "source": [
    "# Some image examples \n",
    "\n",
    "g = plt.imshow(X_train[0][:,:,0])"
   ]
  },
  {
   "cell_type": "code",
   "execution_count": 13,
   "metadata": {},
   "outputs": [
    {
     "data": {
      "image/png": "[encoded data removed]",
      "text/plain": [
       "<Figure size 432x288 with 1 Axes>"
      ]
     },
     "metadata": {
      "needs_background": "light"
     },
     "output_type": "display_data"
    }
   ],
   "source": [
    "# Some image examples \n",
    "\n",
    "g = plt.imshow(X_train[10][:,:,0])"
   ]
  },
  {
   "cell_type": "markdown",
   "metadata": {
    "_cell_guid": "d5265777-aeb3-449d-b171-d88cad74c0a4",
    "_uuid": "5fa18b37a9acd9e098bac1d12264b0dd4310fdd3"
   },
   "source": [
    "# Define-by-Run design\n",
    "\n",
    "We create the CNN and add the sampling space for the hyperparameters as we go. This is the Desing-by-run concept."
   ]
  },
  {
   "cell_type": "code",
   "execution_count": 14,
   "metadata": {},
   "outputs": [],
   "source": [
    "# we will save the model with this name\n",
    "path_best_model = 'cnn_model_2.h5'\n",
    "\n",
    "# starting point for the optimization\n",
    "best_accuracy = 0"
   ]
  },
  {
   "cell_type": "code",
   "execution_count": 15,
   "metadata": {},
   "outputs": [],
   "source": [
    "# function to create the CNN\n",
    "\n",
    "def objective(trial):\n",
    "\n",
    "    # Start construction of a Keras Sequential model.\n",
    "    model = Sequential()\n",
    "\n",
    "    # Convolutional layers.\n",
    "\n",
    "    # We add the different number of conv layers in the following loop:\n",
    "    num_conv_layers = trial.suggest_int('num_conv_layers', 1, 3)\n",
    "\n",
    "    for i in range(num_conv_layers):\n",
    "        \n",
    "        # Note, with this configuration, we sample different filters, kernels\n",
    "        # stride etc, for each convolutional layer that we add\n",
    "\n",
    "        model.add(Conv2D(\n",
    "            filters=trial.suggest_categorical('filters_{}'.format(i), [16, 32, 64]),\n",
    "            kernel_size=trial.suggest_categorical('kernel_size{}'.format(i), [3, 5]),\n",
    "            strides=trial.suggest_categorical('strides{}'.format(i), [1, 2]),\n",
    "            activation=trial.suggest_categorical(\n",
    "                'activation{}'.format(i), ['relu', 'tanh']),\n",
    "            padding='same',\n",
    "        ))\n",
    "\n",
    "    # we could also optimize these parameters if we wanted:\n",
    "    model.add(MaxPool2D(pool_size=2, strides=2))\n",
    "\n",
    "    # Flatten the 4-rank output of the convolutional layers\n",
    "    # to 2-rank that can be input to a fully-connected Dense layer.\n",
    "    model.add(Flatten())\n",
    "\n",
    "    # Add fully-connected Dense layers.\n",
    "    # The number of layers is a hyper-parameter we want to optimize.\n",
    "    # We add the different number of layers in the following loop:\n",
    "\n",
    "    num_dense_layers = trial.suggest_int('num_dense_layers', 1, 3)\n",
    "\n",
    "    for i in range(num_dense_layers):\n",
    "\n",
    "        # Add the dense fully-connected layer to the model.\n",
    "        # This has two hyper-parameters we want to optimize:\n",
    "        # The number of nodes (neurons) and the activation function.\n",
    "        model.add(Dense(\n",
    "            units=trial.suggest_int('units{}'.format(i), 5, 512),\n",
    "            activation=trial.suggest_categorical(\n",
    "                'activation{}'.format(i), ['relu', 'tanh']),\n",
    "        ))\n",
    "\n",
    "    # Last fully-connected dense layer with softmax-activation\n",
    "    # for use in classification.\n",
    "    model.add(Dense(10, activation='softmax'))\n",
    "\n",
    "    # Use the Adam method for training the network.\n",
    "    optimizer_name = trial.suggest_categorical(\n",
    "        'optimizer_name', ['Adam', 'RMSprop'])\n",
    "\n",
    "    if optimizer_name == 'Adam':\n",
    "        optimizer = Adam(lr=trial.suggest_float('learning_rate',  1e-6, 1e-2))\n",
    "    else:\n",
    "        optimizer = RMSprop(\n",
    "            lr=trial.suggest_float('learning_rate',  1e-6, 1e-2),\n",
    "            momentum=trial.suggest_float('momentum',  0.1, 0.9),\n",
    "        )\n",
    "\n",
    "    # In Keras we need to compile the model so it can be trained.\n",
    "    model.compile(optimizer=optimizer,\n",
    "                  loss='categorical_crossentropy',\n",
    "                  metrics=['accuracy'])\n",
    "\n",
    "    # train the model\n",
    "    # we use 3 epochs to be able to run the notebook in a \"reasonable\"\n",
    "    # time. If we increase the epochs, we will have better performance\n",
    "    # this could be another parameter to optimize in fact.\n",
    "    history = model.fit(\n",
    "        x=X_train,\n",
    "        y=y_train,\n",
    "        epochs=3,\n",
    "        batch_size=128,\n",
    "        validation_split=0.1,\n",
    "    )\n",
    "\n",
    "    # Get the classification accuracy on the validation-set\n",
    "    # after the last training-epoch.\n",
    "    accuracy = history.history['val_accuracy'][-1]\n",
    "\n",
    "    # Save the model if it improves on the best-found performance.\n",
    "    # We use the global keyword so we update the variable outside\n",
    "    # of this function.\n",
    "    global best_accuracy\n",
    "\n",
    "    # If the classification accuracy of the saved model is improved ...\n",
    "    if accuracy > best_accuracy:\n",
    "        # Save the new model to harddisk.\n",
    "        # Training CNNs is costly, so we want to avoid having to re-train\n",
    "        # the network with the best found parameters. We save it instead\n",
    "        # as we search for the best hyperparam space.\n",
    "        model.save(path_best_model)\n",
    "\n",
    "        # Update the classification accuracy.\n",
    "        best_accuracy = accuracy\n",
    "\n",
    "    # Delete the Keras model with these hyper-parameters from memory.\n",
    "    del model\n",
    "\n",
    "    # Remember that Scikit-optimize always minimizes the objective\n",
    "    # function, so we need to negate the accuracy (because we want\n",
    "    # the maximum accuracy)\n",
    "    return accuracy"
   ]
  },
  {
   "cell_type": "code",
   "execution_count": 16,
   "metadata": {},
   "outputs": [],
   "source": [
    "# we need this to store the search\n",
    "# we will use it in the following notebook\n",
    "\n",
    "study_name = \"cnn_study_2\"  # unique identifier of the study.\n",
    "storage_name = \"sqlite:///{}.db\".format(study_name)"
   ]
  },
  {
   "cell_type": "code",
   "execution_count": 17,
   "metadata": {
    "scrolled": true
   },
   "outputs": [
    {
     "name": "stderr",
     "output_type": "stream",
     "text": [
      "\u001b[32m[I 2021-05-20 18:21:58,048]\u001b[0m A new study created in RDB with name: cnn_study_2\u001b[0m\n"
     ]
    },
    {
     "name": "stdout",
     "output_type": "stream",
     "text": [
      "Epoch 1/3\n",
      "266/266 [==============================] - 39s 144ms/step - loss: 0.5335 - accuracy: 0.8488 - val_loss: 0.1405 - val_accuracy: 0.9590\n",
      "Epoch 2/3\n",
      "266/266 [==============================] - 36s 136ms/step - loss: 0.0888 - accuracy: 0.9710 - val_loss: 0.1039 - val_accuracy: 0.9720\n",
      "Epoch 3/3\n",
      "266/266 [==============================] - 30s 114ms/step - loss: 0.0468 - accuracy: 0.9851 - val_loss: 0.1000 - val_accuracy: 0.9733\n"
     ]
    },
    {
     "name": "stderr",
     "output_type": "stream",
     "text": [
      "\u001b[32m[I 2021-05-20 18:23:45,091]\u001b[0m Trial 0 finished with value: 0.9732804298400879 and parameters: {'num_conv_layers': 1, 'filters_0': 16, 'kernel_size0': 5, 'strides0': 1, 'activation0': 'tanh', 'num_dense_layers': 1, 'units0': 389, 'optimizer_name': 'Adam', 'learning_rate': 0.005141375818387415}. Best is trial 0 with value: 0.9732804298400879.\u001b[0m\n"
     ]
    },
    {
     "name": "stdout",
     "output_type": "stream",
     "text": [
      "Epoch 1/3\n",
      "266/266 [==============================] - 132s 487ms/step - loss: 1.4591 - accuracy: 0.6059 - val_loss: 0.2752 - val_accuracy: 0.9164\n",
      "Epoch 2/3\n",
      "266/266 [==============================] - 138s 520ms/step - loss: 0.2207 - accuracy: 0.9318 - val_loss: 0.2164 - val_accuracy: 0.9357\n",
      "Epoch 3/3\n",
      "266/266 [==============================] - 133s 499ms/step - loss: 0.1591 - accuracy: 0.9494 - val_loss: 0.2193 - val_accuracy: 0.9344\n"
     ]
    },
    {
     "name": "stderr",
     "output_type": "stream",
     "text": [
      "\u001b[32m[I 2021-05-20 18:30:28,771]\u001b[0m Trial 1 finished with value: 0.9343915581703186 and parameters: {'num_conv_layers': 3, 'filters_0': 16, 'kernel_size0': 3, 'strides0': 1, 'activation0': 'tanh', 'filters_1': 64, 'kernel_size1': 5, 'strides1': 2, 'activation1': 'tanh', 'filters_2': 64, 'kernel_size2': 5, 'strides2': 1, 'activation2': 'tanh', 'num_dense_layers': 2, 'units0': 353, 'units1': 297, 'optimizer_name': 'Adam', 'learning_rate': 0.006688787074386754}. Best is trial 0 with value: 0.9732804298400879.\u001b[0m\n"
     ]
    },
    {
     "name": "stdout",
     "output_type": "stream",
     "text": [
      "Epoch 1/3\n",
      "266/266 [==============================] - 330s 1s/step - loss: 15.9149 - accuracy: 0.1087 - val_loss: 2.3023 - val_accuracy: 0.1146\n",
      "Epoch 2/3\n",
      "266/266 [==============================] - 326s 1s/step - loss: 2.3031 - accuracy: 0.1079 - val_loss: 2.3034 - val_accuracy: 0.1146\n",
      "Epoch 3/3\n",
      "266/266 [==============================] - 329s 1s/step - loss: 2.3028 - accuracy: 0.1108 - val_loss: 2.3046 - val_accuracy: 0.0960\n"
     ]
    },
    {
     "name": "stderr",
     "output_type": "stream",
     "text": [
      "\u001b[32m[I 2021-05-20 18:46:56,234]\u001b[0m Trial 2 finished with value: 0.09603174775838852 and parameters: {'num_conv_layers': 3, 'filters_0': 64, 'kernel_size0': 5, 'strides0': 1, 'activation0': 'relu', 'filters_1': 16, 'kernel_size1': 5, 'strides1': 1, 'activation1': 'relu', 'filters_2': 64, 'kernel_size2': 3, 'strides2': 1, 'activation2': 'tanh', 'num_dense_layers': 1, 'units0': 334, 'optimizer_name': 'RMSprop', 'learning_rate': 0.007158060825068953, 'momentum': 0.7288210488996536}. Best is trial 0 with value: 0.9732804298400879.\u001b[0m\n"
     ]
    },
    {
     "name": "stdout",
     "output_type": "stream",
     "text": [
      "Epoch 1/3\n",
      "266/266 [==============================] - 278s 1s/step - loss: 3.8213 - accuracy: 0.1001 - val_loss: 3.1188 - val_accuracy: 0.1079\n",
      "Epoch 2/3\n",
      "266/266 [==============================] - 278s 1s/step - loss: 2.6303 - accuracy: 0.1038 - val_loss: 3.9200 - val_accuracy: 0.1037\n",
      "Epoch 3/3\n",
      "266/266 [==============================] - 259s 976ms/step - loss: 2.8060 - accuracy: 0.1006 - val_loss: 2.9851 - val_accuracy: 0.1037\n"
     ]
    },
    {
     "name": "stderr",
     "output_type": "stream",
     "text": [
      "\u001b[32m[I 2021-05-20 19:00:32,491]\u001b[0m Trial 3 finished with value: 0.10370370000600815 and parameters: {'num_conv_layers': 2, 'filters_0': 64, 'kernel_size0': 5, 'strides0': 1, 'activation0': 'tanh', 'filters_1': 32, 'kernel_size1': 5, 'strides1': 1, 'activation1': 'tanh', 'num_dense_layers': 2, 'units0': 24, 'units1': 441, 'optimizer_name': 'RMSprop', 'learning_rate': 0.00965484036942336, 'momentum': 0.46253966715483774}. Best is trial 0 with value: 0.9732804298400879.\u001b[0m\n"
     ]
    },
    {
     "name": "stdout",
     "output_type": "stream",
     "text": [
      "Epoch 1/3\n",
      "266/266 [==============================] - 160s 595ms/step - loss: 0.9944 - accuracy: 0.7624 - val_loss: 0.1286 - val_accuracy: 0.9614\n",
      "Epoch 2/3\n",
      "266/266 [==============================] - 140s 528ms/step - loss: 0.0980 - accuracy: 0.9722 - val_loss: 0.1152 - val_accuracy: 0.9693\n",
      "Epoch 3/3\n",
      "266/266 [==============================] - 157s 589ms/step - loss: 0.0650 - accuracy: 0.9817 - val_loss: 0.0926 - val_accuracy: 0.9765\n"
     ]
    },
    {
     "name": "stderr",
     "output_type": "stream",
     "text": [
      "\u001b[32m[I 2021-05-20 19:08:10,412]\u001b[0m Trial 4 finished with value: 0.97645503282547 and parameters: {'num_conv_layers': 2, 'filters_0': 32, 'kernel_size0': 5, 'strides0': 1, 'activation0': 'relu', 'filters_1': 16, 'kernel_size1': 5, 'strides1': 1, 'activation1': 'relu', 'num_dense_layers': 1, 'units0': 255, 'optimizer_name': 'RMSprop', 'learning_rate': 0.008853217919545443, 'momentum': 0.17963032837491807}. Best is trial 4 with value: 0.97645503282547.\u001b[0m\n"
     ]
    },
    {
     "name": "stdout",
     "output_type": "stream",
     "text": [
      "Epoch 1/3\n",
      "266/266 [==============================] - 14s 46ms/step - loss: 2.0599 - accuracy: 0.5772 - val_loss: 0.1980 - val_accuracy: 0.9402\n",
      "Epoch 2/3\n",
      "266/266 [==============================] - 11s 43ms/step - loss: 0.1562 - accuracy: 0.9547 - val_loss: 0.1951 - val_accuracy: 0.9566\n",
      "Epoch 3/3\n",
      "266/266 [==============================] - 10s 36ms/step - loss: 0.1074 - accuracy: 0.9706 - val_loss: 0.1643 - val_accuracy: 0.9653\n"
     ]
    },
    {
     "name": "stderr",
     "output_type": "stream",
     "text": [
      "\u001b[32m[I 2021-05-20 19:08:46,372]\u001b[0m Trial 5 finished with value: 0.9653438925743103 and parameters: {'num_conv_layers': 1, 'filters_0': 32, 'kernel_size0': 3, 'strides0': 2, 'activation0': 'tanh', 'num_dense_layers': 2, 'units0': 286, 'units1': 192, 'activation1': 'relu', 'optimizer_name': 'RMSprop', 'learning_rate': 0.008840779453710527, 'momentum': 0.14435937843393642}. Best is trial 4 with value: 0.97645503282547.\u001b[0m\n"
     ]
    },
    {
     "name": "stdout",
     "output_type": "stream",
     "text": [
      "Epoch 1/3\n",
      "266/266 [==============================] - 43s 151ms/step - loss: 0.4753 - accuracy: 0.8437 - val_loss: 0.1221 - val_accuracy: 0.9646\n",
      "Epoch 2/3\n",
      "266/266 [==============================] - 40s 149ms/step - loss: 0.0984 - accuracy: 0.9691 - val_loss: 0.1237 - val_accuracy: 0.9616\n",
      "Epoch 3/3\n",
      "266/266 [==============================] - 39s 147ms/step - loss: 0.0881 - accuracy: 0.9719 - val_loss: 0.1636 - val_accuracy: 0.9500\n"
     ]
    },
    {
     "name": "stderr",
     "output_type": "stream",
     "text": [
      "\u001b[32m[I 2021-05-20 19:10:50,072]\u001b[0m Trial 6 finished with value: 0.949999988079071 and parameters: {'num_conv_layers': 3, 'filters_0': 32, 'kernel_size0': 3, 'strides0': 2, 'activation0': 'tanh', 'filters_1': 64, 'kernel_size1': 5, 'strides1': 2, 'activation1': 'relu', 'filters_2': 64, 'kernel_size2': 3, 'strides2': 2, 'activation2': 'tanh', 'num_dense_layers': 1, 'units0': 152, 'optimizer_name': 'Adam', 'learning_rate': 0.009013413254775211}. Best is trial 4 with value: 0.97645503282547.\u001b[0m\n"
     ]
    },
    {
     "name": "stdout",
     "output_type": "stream",
     "text": [
      "Epoch 1/3\n",
      "266/266 [==============================] - 107s 394ms/step - loss: 2.4334 - accuracy: 0.1073 - val_loss: 2.3023 - val_accuracy: 0.1146\n",
      "Epoch 2/3\n",
      "266/266 [==============================] - 117s 440ms/step - loss: 2.3030 - accuracy: 0.1081 - val_loss: 2.3032 - val_accuracy: 0.1146\n",
      "Epoch 3/3\n",
      "266/266 [==============================] - 118s 444ms/step - loss: 2.3026 - accuracy: 0.1104 - val_loss: 2.3042 - val_accuracy: 0.0960\n"
     ]
    },
    {
     "name": "stderr",
     "output_type": "stream",
     "text": [
      "\u001b[32m[I 2021-05-20 19:16:33,546]\u001b[0m Trial 7 finished with value: 0.09603174775838852 and parameters: {'num_conv_layers': 3, 'filters_0': 64, 'kernel_size0': 5, 'strides0': 1, 'activation0': 'relu', 'filters_1': 32, 'kernel_size1': 5, 'strides1': 2, 'activation1': 'tanh', 'filters_2': 16, 'kernel_size2': 3, 'strides2': 1, 'activation2': 'relu', 'num_dense_layers': 1, 'units0': 239, 'optimizer_name': 'RMSprop', 'learning_rate': 0.006119554297468513, 'momentum': 0.7533193443015165}. Best is trial 4 with value: 0.97645503282547.\u001b[0m\n"
     ]
    },
    {
     "name": "stdout",
     "output_type": "stream",
     "text": [
      "Epoch 1/3\n",
      "266/266 [==============================] - 46s 164ms/step - loss: 0.9413 - accuracy: 0.7100 - val_loss: 0.2274 - val_accuracy: 0.9339\n",
      "Epoch 2/3\n",
      "266/266 [==============================] - 40s 152ms/step - loss: 0.1918 - accuracy: 0.9406 - val_loss: 0.1696 - val_accuracy: 0.9519\n",
      "Epoch 3/3\n",
      "266/266 [==============================] - 45s 171ms/step - loss: 0.1095 - accuracy: 0.9638 - val_loss: 0.1211 - val_accuracy: 0.9635\n"
     ]
    },
    {
     "name": "stderr",
     "output_type": "stream",
     "text": [
      "\u001b[32m[I 2021-05-20 19:18:46,460]\u001b[0m Trial 8 finished with value: 0.9634920358657837 and parameters: {'num_conv_layers': 2, 'filters_0': 32, 'kernel_size0': 3, 'strides0': 1, 'activation0': 'relu', 'filters_1': 16, 'kernel_size1': 3, 'strides1': 2, 'activation1': 'relu', 'num_dense_layers': 3, 'units0': 242, 'units1': 236, 'units2': 319, 'activation2': 'tanh', 'optimizer_name': 'RMSprop', 'learning_rate': 0.0002461643466692788, 'momentum': 0.18819892384189763}. Best is trial 4 with value: 0.97645503282547.\u001b[0m\n"
     ]
    },
    {
     "name": "stdout",
     "output_type": "stream",
     "text": [
      "Epoch 1/3\n",
      "266/266 [==============================] - 194s 716ms/step - loss: 0.4790 - accuracy: 0.8544 - val_loss: 0.1363 - val_accuracy: 0.9619\n",
      "Epoch 2/3\n",
      "266/266 [==============================] - 181s 679ms/step - loss: 0.1077 - accuracy: 0.9683 - val_loss: 0.1090 - val_accuracy: 0.9725\n",
      "Epoch 3/3\n",
      "266/266 [==============================] - 184s 692ms/step - loss: 0.0924 - accuracy: 0.9703 - val_loss: 0.1306 - val_accuracy: 0.9606\n"
     ]
    },
    {
     "name": "stderr",
     "output_type": "stream",
     "text": [
      "\u001b[32m[I 2021-05-20 19:28:06,938]\u001b[0m Trial 9 finished with value: 0.9605820178985596 and parameters: {'num_conv_layers': 2, 'filters_0': 16, 'kernel_size0': 3, 'strides0': 1, 'activation0': 'tanh', 'filters_1': 32, 'kernel_size1': 5, 'strides1': 1, 'activation1': 'tanh', 'num_dense_layers': 1, 'units0': 72, 'optimizer_name': 'Adam', 'learning_rate': 0.0059181104466350535}. Best is trial 4 with value: 0.97645503282547.\u001b[0m\n"
     ]
    },
    {
     "name": "stdout",
     "output_type": "stream",
     "text": [
      "Epoch 1/3\n",
      "266/266 [==============================] - 36s 123ms/step - loss: 0.8766 - accuracy: 0.6965 - val_loss: 0.0956 - val_accuracy: 0.9714\n",
      "Epoch 2/3\n",
      "266/266 [==============================] - 32s 121ms/step - loss: 0.0825 - accuracy: 0.9755 - val_loss: 0.0715 - val_accuracy: 0.9796\n",
      "Epoch 3/3\n",
      "266/266 [==============================] - 33s 125ms/step - loss: 0.0478 - accuracy: 0.9856 - val_loss: 0.0789 - val_accuracy: 0.9799\n"
     ]
    },
    {
     "name": "stderr",
     "output_type": "stream",
     "text": [
      "\u001b[32m[I 2021-05-20 19:29:49,611]\u001b[0m Trial 10 finished with value: 0.9798941612243652 and parameters: {'num_conv_layers': 1, 'filters_0': 32, 'kernel_size0': 5, 'strides0': 2, 'activation0': 'relu', 'num_dense_layers': 3, 'units0': 473, 'units1': 12, 'activation1': 'relu', 'units2': 11, 'activation2': 'relu', 'optimizer_name': 'RMSprop', 'learning_rate': 0.00266296121411845, 'momentum': 0.46432988966267597}. Best is trial 10 with value: 0.9798941612243652.\u001b[0m\n"
     ]
    },
    {
     "name": "stdout",
     "output_type": "stream",
     "text": [
      "Epoch 1/3\n",
      "266/266 [==============================] - 39s 135ms/step - loss: 0.8934 - accuracy: 0.6795 - val_loss: 0.1433 - val_accuracy: 0.9616\n",
      "Epoch 2/3\n",
      "266/266 [==============================] - 32s 119ms/step - loss: 0.0858 - accuracy: 0.9747 - val_loss: 0.0744 - val_accuracy: 0.9802\n",
      "Epoch 3/3\n",
      "266/266 [==============================] - 38s 142ms/step - loss: 0.0506 - accuracy: 0.9844 - val_loss: 0.0712 - val_accuracy: 0.9812\n"
     ]
    },
    {
     "name": "stderr",
     "output_type": "stream",
     "text": [
      "\u001b[32m[I 2021-05-20 19:31:40,207]\u001b[0m Trial 11 finished with value: 0.9812169075012207 and parameters: {'num_conv_layers': 1, 'filters_0': 32, 'kernel_size0': 5, 'strides0': 2, 'activation0': 'relu', 'num_dense_layers': 3, 'units0': 495, 'units1': 11, 'activation1': 'relu', 'units2': 20, 'activation2': 'relu', 'optimizer_name': 'RMSprop', 'learning_rate': 0.0026108673783509046, 'momentum': 0.4363176998524363}. Best is trial 11 with value: 0.9812169075012207.\u001b[0m\n"
     ]
    },
    {
     "name": "stdout",
     "output_type": "stream",
     "text": [
      "Epoch 1/3\n",
      "266/266 [==============================] - 40s 139ms/step - loss: 1.0620 - accuracy: 0.6063 - val_loss: 0.0927 - val_accuracy: 0.9712\n",
      "Epoch 2/3\n",
      "266/266 [==============================] - 34s 130ms/step - loss: 0.0787 - accuracy: 0.9756 - val_loss: 0.0777 - val_accuracy: 0.9788\n",
      "Epoch 3/3\n",
      "266/266 [==============================] - 36s 135ms/step - loss: 0.0461 - accuracy: 0.9858 - val_loss: 0.0605 - val_accuracy: 0.9833\n"
     ]
    },
    {
     "name": "stderr",
     "output_type": "stream",
     "text": [
      "\u001b[32m[I 2021-05-20 19:33:35,474]\u001b[0m Trial 12 finished with value: 0.9833333492279053 and parameters: {'num_conv_layers': 1, 'filters_0': 32, 'kernel_size0': 5, 'strides0': 2, 'activation0': 'relu', 'num_dense_layers': 3, 'units0': 492, 'units1': 12, 'activation1': 'relu', 'units2': 17, 'activation2': 'relu', 'optimizer_name': 'RMSprop', 'learning_rate': 0.0022406478015239675, 'momentum': 0.44436701977005505}. Best is trial 12 with value: 0.9833333492279053.\u001b[0m\n"
     ]
    },
    {
     "name": "stdout",
     "output_type": "stream",
     "text": [
      "Epoch 1/3\n",
      "266/266 [==============================] - 39s 136ms/step - loss: 2.3024 - accuracy: 0.1112 - val_loss: 2.3014 - val_accuracy: 0.1146\n",
      "Epoch 2/3\n",
      "266/266 [==============================] - 34s 128ms/step - loss: 2.3015 - accuracy: 0.1078 - val_loss: 2.3008 - val_accuracy: 0.1146\n",
      "Epoch 3/3\n",
      "266/266 [==============================] - 33s 126ms/step - loss: 2.3011 - accuracy: 0.1133 - val_loss: 2.3013 - val_accuracy: 0.1146\n"
     ]
    },
    {
     "name": "stderr",
     "output_type": "stream",
     "text": [
      "\u001b[32m[I 2021-05-20 19:35:23,960]\u001b[0m Trial 13 finished with value: 0.11455026268959045 and parameters: {'num_conv_layers': 1, 'filters_0': 32, 'kernel_size0': 5, 'strides0': 2, 'activation0': 'relu', 'num_dense_layers': 3, 'units0': 490, 'units1': 30, 'activation1': 'relu', 'units2': 6, 'activation2': 'relu', 'optimizer_name': 'RMSprop', 'learning_rate': 0.002530026702391447, 'momentum': 0.35069250188205026}. Best is trial 12 with value: 0.9833333492279053.\u001b[0m\n"
     ]
    },
    {
     "name": "stdout",
     "output_type": "stream",
     "text": [
      "Epoch 1/3\n",
      "266/266 [==============================] - 46s 153ms/step - loss: 0.5659 - accuracy: 0.8023 - val_loss: 0.0936 - val_accuracy: 0.9712\n",
      "Epoch 2/3\n",
      "266/266 [==============================] - 23s 87ms/step - loss: 0.0799 - accuracy: 0.9756 - val_loss: 0.0898 - val_accuracy: 0.9807\n",
      "Epoch 3/3\n",
      "266/266 [==============================] - 16s 59ms/step - loss: 0.0534 - accuracy: 0.9845 - val_loss: 0.0862 - val_accuracy: 0.9802\n"
     ]
    },
    {
     "name": "stderr",
     "output_type": "stream",
     "text": [
      "\u001b[32m[I 2021-05-20 19:36:49,954]\u001b[0m Trial 14 finished with value: 0.9801587462425232 and parameters: {'num_conv_layers': 1, 'filters_0': 32, 'kernel_size0': 5, 'strides0': 2, 'activation0': 'relu', 'num_dense_layers': 3, 'units0': 511, 'units1': 89, 'activation1': 'relu', 'units2': 100, 'activation2': 'relu', 'optimizer_name': 'RMSprop', 'learning_rate': 0.0025632692193490996, 'momentum': 0.6203955760637716}. Best is trial 12 with value: 0.9833333492279053.\u001b[0m\n"
     ]
    },
    {
     "name": "stdout",
     "output_type": "stream",
     "text": [
      "Epoch 1/3\n",
      "266/266 [==============================] - 18s 61ms/step - loss: 0.8192 - accuracy: 0.7555 - val_loss: 0.1437 - val_accuracy: 0.9577\n",
      "Epoch 2/3\n",
      "266/266 [==============================] - 13s 50ms/step - loss: 0.1219 - accuracy: 0.9634 - val_loss: 0.0904 - val_accuracy: 0.9754\n",
      "Epoch 3/3\n",
      "266/266 [==============================] - 19s 71ms/step - loss: 0.0720 - accuracy: 0.9779 - val_loss: 0.0756 - val_accuracy: 0.9783\n"
     ]
    },
    {
     "name": "stderr",
     "output_type": "stream",
     "text": [
      "\u001b[32m[I 2021-05-20 19:37:41,140]\u001b[0m Trial 15 finished with value: 0.9783068895339966 and parameters: {'num_conv_layers': 1, 'filters_0': 32, 'kernel_size0': 5, 'strides0': 2, 'activation0': 'relu', 'num_dense_layers': 3, 'units0': 426, 'units1': 125, 'activation1': 'relu', 'units2': 162, 'activation2': 'relu', 'optimizer_name': 'RMSprop', 'learning_rate': 0.00033920633903364956, 'momentum': 0.36545400651270277}. Best is trial 12 with value: 0.9833333492279053.\u001b[0m\n"
     ]
    },
    {
     "name": "stdout",
     "output_type": "stream",
     "text": [
      "Epoch 1/3\n",
      "266/266 [==============================] - 24s 81ms/step - loss: 2.3198 - accuracy: 0.1095 - val_loss: 2.3020 - val_accuracy: 0.1146\n",
      "Epoch 2/3\n",
      "266/266 [==============================] - 21s 78ms/step - loss: 2.3019 - accuracy: 0.1085 - val_loss: 2.3013 - val_accuracy: 0.1146\n",
      "Epoch 3/3\n",
      "266/266 [==============================] - 20s 77ms/step - loss: 2.3016 - accuracy: 0.1130 - val_loss: 2.3021 - val_accuracy: 0.1146\n"
     ]
    },
    {
     "name": "stderr",
     "output_type": "stream",
     "text": [
      "\u001b[32m[I 2021-05-20 19:38:47,745]\u001b[0m Trial 16 finished with value: 0.11455026268959045 and parameters: {'num_conv_layers': 1, 'filters_0': 32, 'kernel_size0': 5, 'strides0': 2, 'activation0': 'relu', 'num_dense_layers': 3, 'units0': 512, 'units1': 5, 'activation1': 'relu', 'units2': 453, 'activation2': 'relu', 'optimizer_name': 'RMSprop', 'learning_rate': 0.0037385944284192623, 'momentum': 0.5925387072087202}. Best is trial 12 with value: 0.9833333492279053.\u001b[0m\n"
     ]
    },
    {
     "name": "stdout",
     "output_type": "stream",
     "text": [
      "Epoch 1/3\n",
      "266/266 [==============================] - 30s 103ms/step - loss: 0.6419 - accuracy: 0.7787 - val_loss: 0.1273 - val_accuracy: 0.9601\n",
      "Epoch 2/3\n",
      "266/266 [==============================] - 24s 91ms/step - loss: 0.0733 - accuracy: 0.9773 - val_loss: 0.0718 - val_accuracy: 0.9794\n",
      "Epoch 3/3\n",
      "266/266 [==============================] - 17s 65ms/step - loss: 0.0484 - accuracy: 0.9834 - val_loss: 0.0696 - val_accuracy: 0.9833\n"
     ]
    },
    {
     "name": "stderr",
     "output_type": "stream",
     "text": [
      "\u001b[32m[I 2021-05-20 19:40:00,164]\u001b[0m Trial 17 finished with value: 0.9833333492279053 and parameters: {'num_conv_layers': 2, 'filters_0': 32, 'kernel_size0': 5, 'strides0': 2, 'activation0': 'relu', 'filters_1': 64, 'kernel_size1': 3, 'strides1': 2, 'activation1': 'relu', 'num_dense_layers': 2, 'units0': 438, 'units1': 361, 'optimizer_name': 'RMSprop', 'learning_rate': 0.0015754677956798648, 'momentum': 0.32212559844402117}. Best is trial 12 with value: 0.9833333492279053.\u001b[0m\n"
     ]
    },
    {
     "name": "stdout",
     "output_type": "stream",
     "text": [
      "Epoch 1/3\n",
      "266/266 [==============================] - 22s 75ms/step - loss: 0.6547 - accuracy: 0.7769 - val_loss: 0.1013 - val_accuracy: 0.9659\n",
      "Epoch 2/3\n",
      "266/266 [==============================] - 17s 64ms/step - loss: 0.0836 - accuracy: 0.9745 - val_loss: 0.0715 - val_accuracy: 0.9799\n",
      "Epoch 3/3\n",
      "266/266 [==============================] - 18s 68ms/step - loss: 0.0503 - accuracy: 0.9842 - val_loss: 0.0657 - val_accuracy: 0.9825\n"
     ]
    },
    {
     "name": "stderr",
     "output_type": "stream",
     "text": [
      "\u001b[32m[I 2021-05-20 19:40:58,128]\u001b[0m Trial 18 finished with value: 0.9825396537780762 and parameters: {'num_conv_layers': 2, 'filters_0': 32, 'kernel_size0': 5, 'strides0': 2, 'activation0': 'relu', 'filters_1': 64, 'kernel_size1': 3, 'strides1': 2, 'activation1': 'relu', 'num_dense_layers': 2, 'units0': 429, 'units1': 371, 'optimizer_name': 'RMSprop', 'learning_rate': 0.0010183930139164455, 'momentum': 0.3366026137766247}. Best is trial 12 with value: 0.9833333492279053.\u001b[0m\n"
     ]
    },
    {
     "name": "stdout",
     "output_type": "stream",
     "text": [
      "Epoch 1/3\n",
      "266/266 [==============================] - 21s 72ms/step - loss: 0.7040 - accuracy: 0.7696 - val_loss: 0.1044 - val_accuracy: 0.9683\n",
      "Epoch 2/3\n",
      "266/266 [==============================] - 20s 75ms/step - loss: 0.0776 - accuracy: 0.9762 - val_loss: 0.0792 - val_accuracy: 0.9765\n",
      "Epoch 3/3\n",
      "266/266 [==============================] - 20s 75ms/step - loss: 0.0465 - accuracy: 0.9845 - val_loss: 0.0896 - val_accuracy: 0.9754\n"
     ]
    },
    {
     "name": "stderr",
     "output_type": "stream",
     "text": [
      "\u001b[32m[I 2021-05-20 19:41:59,982]\u001b[0m Trial 19 finished with value: 0.9753968119621277 and parameters: {'num_conv_layers': 2, 'filters_0': 32, 'kernel_size0': 5, 'strides0': 2, 'activation0': 'relu', 'filters_1': 64, 'kernel_size1': 3, 'strides1': 2, 'activation1': 'relu', 'num_dense_layers': 2, 'units0': 454, 'units1': 502, 'optimizer_name': 'RMSprop', 'learning_rate': 0.0013990189028376516, 'momentum': 0.2456932707628172}. Best is trial 12 with value: 0.9833333492279053.\u001b[0m\n"
     ]
    },
    {
     "name": "stdout",
     "output_type": "stream",
     "text": [
      "Epoch 1/3\n",
      "266/266 [==============================] - 29s 104ms/step - loss: 0.5612 - accuracy: 0.8096 - val_loss: 0.1072 - val_accuracy: 0.9698\n",
      "Epoch 2/3\n",
      "266/266 [==============================] - 27s 103ms/step - loss: 0.0864 - accuracy: 0.9730 - val_loss: 0.0785 - val_accuracy: 0.9775\n",
      "Epoch 3/3\n",
      "266/266 [==============================] - 26s 97ms/step - loss: 0.0529 - accuracy: 0.9832 - val_loss: 0.0710 - val_accuracy: 0.9802\n"
     ]
    },
    {
     "name": "stderr",
     "output_type": "stream",
     "text": [
      "\u001b[32m[I 2021-05-20 19:43:22,987]\u001b[0m Trial 20 finished with value: 0.9801587462425232 and parameters: {'num_conv_layers': 2, 'filters_0': 64, 'kernel_size0': 5, 'strides0': 2, 'activation0': 'relu', 'filters_1': 64, 'kernel_size1': 3, 'strides1': 2, 'activation1': 'relu', 'num_dense_layers': 2, 'units0': 365, 'units1': 347, 'optimizer_name': 'Adam', 'learning_rate': 0.004043506574357688}. Best is trial 12 with value: 0.9833333492279053.\u001b[0m\n"
     ]
    },
    {
     "name": "stdout",
     "output_type": "stream",
     "text": [
      "Epoch 1/3\n",
      "266/266 [==============================] - 22s 74ms/step - loss: 0.6677 - accuracy: 0.7735 - val_loss: 0.0939 - val_accuracy: 0.9704\n",
      "Epoch 2/3\n",
      "266/266 [==============================] - 18s 67ms/step - loss: 0.0816 - accuracy: 0.9734 - val_loss: 0.0787 - val_accuracy: 0.9762\n",
      "Epoch 3/3\n",
      "266/266 [==============================] - 18s 68ms/step - loss: 0.0503 - accuracy: 0.9833 - val_loss: 0.0806 - val_accuracy: 0.9799\n"
     ]
    },
    {
     "name": "stderr",
     "output_type": "stream",
     "text": [
      "\u001b[32m[I 2021-05-20 19:44:21,787]\u001b[0m Trial 21 finished with value: 0.9798941612243652 and parameters: {'num_conv_layers': 2, 'filters_0': 32, 'kernel_size0': 5, 'strides0': 2, 'activation0': 'relu', 'filters_1': 64, 'kernel_size1': 3, 'strides1': 2, 'activation1': 'relu', 'num_dense_layers': 2, 'units0': 421, 'units1': 380, 'optimizer_name': 'RMSprop', 'learning_rate': 0.0012142160592243192, 'momentum': 0.30285960276296225}. Best is trial 12 with value: 0.9833333492279053.\u001b[0m\n"
     ]
    },
    {
     "name": "stdout",
     "output_type": "stream",
     "text": [
      "Epoch 1/3\n",
      "266/266 [==============================] - 22s 75ms/step - loss: 0.5726 - accuracy: 0.8092 - val_loss: 0.1154 - val_accuracy: 0.9659\n",
      "Epoch 2/3\n",
      "266/266 [==============================] - 17s 66ms/step - loss: 0.0775 - accuracy: 0.9773 - val_loss: 0.0874 - val_accuracy: 0.9746\n",
      "Epoch 3/3\n",
      "266/266 [==============================] - 20s 75ms/step - loss: 0.0537 - accuracy: 0.9823 - val_loss: 0.0782 - val_accuracy: 0.9786\n"
     ]
    },
    {
     "name": "stderr",
     "output_type": "stream",
     "text": [
      "\u001b[32m[I 2021-05-20 19:45:22,243]\u001b[0m Trial 22 finished with value: 0.9785714149475098 and parameters: {'num_conv_layers': 2, 'filters_0': 32, 'kernel_size0': 5, 'strides0': 2, 'activation0': 'relu', 'filters_1': 64, 'kernel_size1': 3, 'strides1': 2, 'activation1': 'relu', 'num_dense_layers': 2, 'units0': 425, 'units1': 407, 'optimizer_name': 'RMSprop', 'learning_rate': 0.0012777581333840336, 'momentum': 0.5718739184449542}. Best is trial 12 with value: 0.9833333492279053.\u001b[0m\n"
     ]
    },
    {
     "name": "stdout",
     "output_type": "stream",
     "text": [
      "Epoch 1/3\n",
      "266/266 [==============================] - 21s 71ms/step - loss: 1.9920 - accuracy: 0.4302 - val_loss: 0.7837 - val_accuracy: 0.7690\n",
      "Epoch 2/3\n",
      "266/266 [==============================] - 18s 66ms/step - loss: 0.6261 - accuracy: 0.8274 - val_loss: 0.4041 - val_accuracy: 0.8828\n",
      "Epoch 3/3\n",
      "266/266 [==============================] - 34s 127ms/step - loss: 0.3481 - accuracy: 0.8993 - val_loss: 0.2832 - val_accuracy: 0.9161\n"
     ]
    },
    {
     "name": "stderr",
     "output_type": "stream",
     "text": [
      "\u001b[32m[I 2021-05-20 19:46:35,670]\u001b[0m Trial 23 finished with value: 0.9161375761032104 and parameters: {'num_conv_layers': 2, 'filters_0': 32, 'kernel_size0': 5, 'strides0': 2, 'activation0': 'relu', 'filters_1': 64, 'kernel_size1': 3, 'strides1': 2, 'activation1': 'relu', 'num_dense_layers': 2, 'units0': 310, 'units1': 316, 'optimizer_name': 'RMSprop', 'learning_rate': 5.246165136033043e-05, 'momentum': 0.28644870235279585}. Best is trial 12 with value: 0.9833333492279053.\u001b[0m\n"
     ]
    },
    {
     "name": "stdout",
     "output_type": "stream",
     "text": [
      "Epoch 1/3\n",
      "266/266 [==============================] - 50s 174ms/step - loss: 0.6108 - accuracy: 0.7899 - val_loss: 0.0988 - val_accuracy: 0.9709\n",
      "Epoch 2/3\n",
      "266/266 [==============================] - 44s 165ms/step - loss: 0.0781 - accuracy: 0.9772 - val_loss: 0.0993 - val_accuracy: 0.9730\n",
      "Epoch 3/3\n",
      "266/266 [==============================] - 44s 167ms/step - loss: 0.0541 - accuracy: 0.9824 - val_loss: 0.0886 - val_accuracy: 0.9772\n"
     ]
    },
    {
     "name": "stderr",
     "output_type": "stream",
     "text": [
      "\u001b[32m[I 2021-05-20 19:48:55,305]\u001b[0m Trial 24 finished with value: 0.9772486686706543 and parameters: {'num_conv_layers': 2, 'filters_0': 32, 'kernel_size0': 5, 'strides0': 2, 'activation0': 'relu', 'filters_1': 64, 'kernel_size1': 3, 'strides1': 2, 'activation1': 'relu', 'num_dense_layers': 2, 'units0': 392, 'units1': 454, 'optimizer_name': 'RMSprop', 'learning_rate': 0.0017651664912190653, 'momentum': 0.34484967768252434}. Best is trial 12 with value: 0.9833333492279053.\u001b[0m\n"
     ]
    },
    {
     "name": "stdout",
     "output_type": "stream",
     "text": [
      "Epoch 1/3\n",
      "266/266 [==============================] - 40s 132ms/step - loss: 0.7095 - accuracy: 0.7715 - val_loss: 0.1011 - val_accuracy: 0.9690\n",
      "Epoch 2/3\n",
      "266/266 [==============================] - 34s 127ms/step - loss: 0.0959 - accuracy: 0.9706 - val_loss: 0.1296 - val_accuracy: 0.9659\n",
      "Epoch 3/3\n",
      "266/266 [==============================] - 32s 121ms/step - loss: 0.0671 - accuracy: 0.9793 - val_loss: 0.1146 - val_accuracy: 0.9722\n"
     ]
    },
    {
     "name": "stderr",
     "output_type": "stream",
     "text": [
      "\u001b[32m[I 2021-05-20 19:50:42,459]\u001b[0m Trial 25 finished with value: 0.9722222089767456 and parameters: {'num_conv_layers': 2, 'filters_0': 16, 'kernel_size0': 5, 'strides0': 2, 'activation0': 'relu', 'filters_1': 64, 'kernel_size1': 3, 'strides1': 2, 'activation1': 'relu', 'num_dense_layers': 2, 'units0': 451, 'units1': 273, 'optimizer_name': 'RMSprop', 'learning_rate': 0.0037659996196933387, 'momentum': 0.3932583381933051}. Best is trial 12 with value: 0.9833333492279053.\u001b[0m\n"
     ]
    },
    {
     "name": "stdout",
     "output_type": "stream",
     "text": [
      "Epoch 1/3\n",
      "266/266 [==============================] - 65s 229ms/step - loss: 0.8563 - accuracy: 0.7081 - val_loss: 0.1224 - val_accuracy: 0.9640\n",
      "Epoch 2/3\n",
      "266/266 [==============================] - 51s 193ms/step - loss: 0.1082 - accuracy: 0.9681 - val_loss: 0.0980 - val_accuracy: 0.9754\n",
      "Epoch 3/3\n",
      "266/266 [==============================] - 58s 218ms/step - loss: 0.0658 - accuracy: 0.9799 - val_loss: 0.0852 - val_accuracy: 0.9754\n"
     ]
    },
    {
     "name": "stderr",
     "output_type": "stream",
     "text": [
      "\u001b[32m[I 2021-05-20 19:53:38,312]\u001b[0m Trial 26 finished with value: 0.9753968119621277 and parameters: {'num_conv_layers': 3, 'filters_0': 32, 'kernel_size0': 5, 'strides0': 2, 'activation0': 'relu', 'filters_1': 64, 'kernel_size1': 3, 'strides1': 2, 'activation1': 'relu', 'filters_2': 32, 'kernel_size2': 5, 'strides2': 2, 'activation2': 'relu', 'num_dense_layers': 3, 'units0': 510, 'units1': 360, 'units2': 283, 'optimizer_name': 'RMSprop', 'learning_rate': 0.0007843290128324143, 'momentum': 0.2470896291688005}. Best is trial 12 with value: 0.9833333492279053.\u001b[0m\n"
     ]
    },
    {
     "name": "stdout",
     "output_type": "stream",
     "text": [
      "Epoch 1/3\n",
      "266/266 [==============================] - 43s 145ms/step - loss: 0.5644 - accuracy: 0.8088 - val_loss: 0.1108 - val_accuracy: 0.9667\n",
      "Epoch 2/3\n",
      "266/266 [==============================] - 35s 131ms/step - loss: 0.0833 - accuracy: 0.9750 - val_loss: 0.0914 - val_accuracy: 0.9751\n",
      "Epoch 3/3\n",
      "266/266 [==============================] - 34s 129ms/step - loss: 0.0578 - accuracy: 0.9828 - val_loss: 0.1003 - val_accuracy: 0.9775\n"
     ]
    },
    {
     "name": "stderr",
     "output_type": "stream",
     "text": [
      "\u001b[32m[I 2021-05-20 19:55:31,687]\u001b[0m Trial 27 finished with value: 0.9775132536888123 and parameters: {'num_conv_layers': 2, 'filters_0': 32, 'kernel_size0': 5, 'strides0': 2, 'activation0': 'relu', 'filters_1': 64, 'kernel_size1': 3, 'strides1': 2, 'activation1': 'relu', 'num_dense_layers': 2, 'units0': 188, 'units1': 473, 'optimizer_name': 'RMSprop', 'learning_rate': 0.001971584235483052, 'momentum': 0.5485776970569619}. Best is trial 12 with value: 0.9833333492279053.\u001b[0m\n"
     ]
    },
    {
     "name": "stdout",
     "output_type": "stream",
     "text": [
      "Epoch 1/3\n",
      "266/266 [==============================] - 45s 157ms/step - loss: 0.5682 - accuracy: 0.8105 - val_loss: 0.1003 - val_accuracy: 0.9690\n",
      "Epoch 2/3\n",
      "266/266 [==============================] - 44s 165ms/step - loss: 0.0766 - accuracy: 0.9782 - val_loss: 0.0834 - val_accuracy: 0.9772\n",
      "Epoch 3/3\n",
      "266/266 [==============================] - 40s 149ms/step - loss: 0.0615 - accuracy: 0.9828 - val_loss: 0.0821 - val_accuracy: 0.9788\n"
     ]
    },
    {
     "name": "stderr",
     "output_type": "stream",
     "text": [
      "\u001b[32m[I 2021-05-20 19:57:41,781]\u001b[0m Trial 28 finished with value: 0.9788359999656677 and parameters: {'num_conv_layers': 2, 'filters_0': 32, 'kernel_size0': 5, 'strides0': 2, 'activation0': 'relu', 'filters_1': 64, 'kernel_size1': 3, 'strides1': 2, 'activation1': 'tanh', 'num_dense_layers': 2, 'units0': 391, 'units1': 213, 'optimizer_name': 'RMSprop', 'learning_rate': 0.003471293944456694, 'momentum': 0.4149447395144391}. Best is trial 12 with value: 0.9833333492279053.\u001b[0m\n"
     ]
    },
    {
     "name": "stdout",
     "output_type": "stream",
     "text": [
      "Epoch 1/3\n",
      "266/266 [==============================] - 22s 72ms/step - loss: 0.4415 - accuracy: 0.8581 - val_loss: 0.0868 - val_accuracy: 0.9754\n",
      "Epoch 2/3\n",
      "266/266 [==============================] - 23s 87ms/step - loss: 0.0617 - accuracy: 0.9808 - val_loss: 0.0767 - val_accuracy: 0.9783\n",
      "Epoch 3/3\n",
      "266/266 [==============================] - 24s 90ms/step - loss: 0.0359 - accuracy: 0.9882 - val_loss: 0.0647 - val_accuracy: 0.9807\n"
     ]
    },
    {
     "name": "stderr",
     "output_type": "stream",
     "text": [
      "\u001b[32m[I 2021-05-20 19:58:52,370]\u001b[0m Trial 29 finished with value: 0.9806878566741943 and parameters: {'num_conv_layers': 1, 'filters_0': 16, 'kernel_size0': 5, 'strides0': 2, 'activation0': 'relu', 'num_dense_layers': 1, 'units0': 456, 'optimizer_name': 'Adam', 'learning_rate': 0.005028155276375773}. Best is trial 12 with value: 0.9833333492279053.\u001b[0m\n"
     ]
    }
   ],
   "source": [
    "study = optuna.create_study(\n",
    "    direction='maximize',\n",
    "    study_name=study_name,\n",
    "    storage=storage_name,\n",
    "    load_if_exists=True,\n",
    ")\n",
    "\n",
    "study.optimize(objective, n_trials=30)"
   ]
  },
  {
   "cell_type": "markdown",
   "metadata": {},
   "source": [
    "# Analyze results"
   ]
  },
  {
   "cell_type": "code",
   "execution_count": 18,
   "metadata": {},
   "outputs": [
    {
     "data": {
      "text/plain": [
       "{'activation0': 'relu',\n",
       " 'activation1': 'relu',\n",
       " 'activation2': 'relu',\n",
       " 'filters_0': 32,\n",
       " 'kernel_size0': 5,\n",
       " 'learning_rate': 0.0022406478015239675,\n",
       " 'momentum': 0.44436701977005505,\n",
       " 'num_conv_layers': 1,\n",
       " 'num_dense_layers': 3,\n",
       " 'optimizer_name': 'RMSprop',\n",
       " 'strides0': 2,\n",
       " 'units0': 492,\n",
       " 'units1': 12,\n",
       " 'units2': 17}"
      ]
     },
     "execution_count": 18,
     "metadata": {},
     "output_type": "execute_result"
    }
   ],
   "source": [
    "study.best_params"
   ]
  },
  {
   "cell_type": "code",
   "execution_count": 19,
   "metadata": {},
   "outputs": [
    {
     "data": {
      "text/plain": [
       "0.9833333492279053"
      ]
     },
     "execution_count": 19,
     "metadata": {},
     "output_type": "execute_result"
    }
   ],
   "source": [
    "study.best_value"
   ]
  },
  {
   "cell_type": "code",
   "execution_count": 20,
   "metadata": {},
   "outputs": [
    {
     "data": {
      "text/plain": [
       "Text(0, 0.5, 'Accuracy')"
      ]
     },
     "execution_count": 20,
     "metadata": {},
     "output_type": "execute_result"
    },
    {
     "data": {
      "image/png": "[encoded data removed]",
      "text/plain": [
       "<Figure size 432x288 with 1 Axes>"
      ]
     },
     "metadata": {
      "needs_background": "light"
     },
     "output_type": "display_data"
    }
   ],
   "source": [
    "results = study.trials_dataframe()\n",
    "\n",
    "results['value'].sort_values().reset_index(drop=True).plot()\n",
    "plt.title('Convergence plot')\n",
    "plt.xlabel('Iteration')\n",
    "plt.ylabel('Accuracy')"
   ]
  },
  {
   "cell_type": "code",
   "execution_count": 21,
   "metadata": {},
   "outputs": [
    {
     "data": {
      "text/html": [
       "<div>\n",
       "<style scoped>\n",
       "    .dataframe tbody tr th:only-of-type {\n",
       "        vertical-align: middle;\n",
       "    }\n",
       "\n",
       "    .dataframe tbody tr th {\n",
       "        vertical-align: top;\n",
       "    }\n",
       "\n",
       "    .dataframe thead th {\n",
       "        text-align: right;\n",
       "    }\n",
       "</style>\n",
       "<table border=\"1\" class=\"dataframe\">\n",
       "  <thead>\n",
       "    <tr style=\"text-align: right;\">\n",
       "      <th></th>\n",
       "      <th>number</th>\n",
       "      <th>value</th>\n",
       "      <th>datetime_start</th>\n",
       "      <th>datetime_complete</th>\n",
       "      <th>duration</th>\n",
       "      <th>params_activation0</th>\n",
       "      <th>params_activation1</th>\n",
       "      <th>params_activation2</th>\n",
       "      <th>params_filters_0</th>\n",
       "      <th>params_filters_1</th>\n",
       "      <th>...</th>\n",
       "      <th>params_num_conv_layers</th>\n",
       "      <th>params_num_dense_layers</th>\n",
       "      <th>params_optimizer_name</th>\n",
       "      <th>params_strides0</th>\n",
       "      <th>params_strides1</th>\n",
       "      <th>params_strides2</th>\n",
       "      <th>params_units0</th>\n",
       "      <th>params_units1</th>\n",
       "      <th>params_units2</th>\n",
       "      <th>state</th>\n",
       "    </tr>\n",
       "  </thead>\n",
       "  <tbody>\n",
       "    <tr>\n",
       "      <th>0</th>\n",
       "      <td>0</td>\n",
       "      <td>0.973280</td>\n",
       "      <td>2021-05-20 18:21:58.124679</td>\n",
       "      <td>2021-05-20 18:23:44.991946</td>\n",
       "      <td>0 days 00:01:46.867267</td>\n",
       "      <td>tanh</td>\n",
       "      <td>NaN</td>\n",
       "      <td>NaN</td>\n",
       "      <td>16</td>\n",
       "      <td>NaN</td>\n",
       "      <td>...</td>\n",
       "      <td>1</td>\n",
       "      <td>1</td>\n",
       "      <td>Adam</td>\n",
       "      <td>1</td>\n",
       "      <td>NaN</td>\n",
       "      <td>NaN</td>\n",
       "      <td>389</td>\n",
       "      <td>NaN</td>\n",
       "      <td>NaN</td>\n",
       "      <td>COMPLETE</td>\n",
       "    </tr>\n",
       "    <tr>\n",
       "      <th>1</th>\n",
       "      <td>1</td>\n",
       "      <td>0.934392</td>\n",
       "      <td>2021-05-20 18:23:45.104026</td>\n",
       "      <td>2021-05-20 18:30:28.707171</td>\n",
       "      <td>0 days 00:06:43.603145</td>\n",
       "      <td>tanh</td>\n",
       "      <td>tanh</td>\n",
       "      <td>tanh</td>\n",
       "      <td>16</td>\n",
       "      <td>64.0</td>\n",
       "      <td>...</td>\n",
       "      <td>3</td>\n",
       "      <td>2</td>\n",
       "      <td>Adam</td>\n",
       "      <td>1</td>\n",
       "      <td>2.0</td>\n",
       "      <td>1.0</td>\n",
       "      <td>353</td>\n",
       "      <td>297.0</td>\n",
       "      <td>NaN</td>\n",
       "      <td>COMPLETE</td>\n",
       "    </tr>\n",
       "    <tr>\n",
       "      <th>2</th>\n",
       "      <td>2</td>\n",
       "      <td>0.096032</td>\n",
       "      <td>2021-05-20 18:30:28.783724</td>\n",
       "      <td>2021-05-20 18:46:56.184767</td>\n",
       "      <td>0 days 00:16:27.401043</td>\n",
       "      <td>relu</td>\n",
       "      <td>relu</td>\n",
       "      <td>tanh</td>\n",
       "      <td>64</td>\n",
       "      <td>16.0</td>\n",
       "      <td>...</td>\n",
       "      <td>3</td>\n",
       "      <td>1</td>\n",
       "      <td>RMSprop</td>\n",
       "      <td>1</td>\n",
       "      <td>1.0</td>\n",
       "      <td>1.0</td>\n",
       "      <td>334</td>\n",
       "      <td>NaN</td>\n",
       "      <td>NaN</td>\n",
       "      <td>COMPLETE</td>\n",
       "    </tr>\n",
       "    <tr>\n",
       "      <th>3</th>\n",
       "      <td>3</td>\n",
       "      <td>0.103704</td>\n",
       "      <td>2021-05-20 18:46:56.245810</td>\n",
       "      <td>2021-05-20 19:00:32.438469</td>\n",
       "      <td>0 days 00:13:36.192659</td>\n",
       "      <td>tanh</td>\n",
       "      <td>tanh</td>\n",
       "      <td>NaN</td>\n",
       "      <td>64</td>\n",
       "      <td>32.0</td>\n",
       "      <td>...</td>\n",
       "      <td>2</td>\n",
       "      <td>2</td>\n",
       "      <td>RMSprop</td>\n",
       "      <td>1</td>\n",
       "      <td>1.0</td>\n",
       "      <td>NaN</td>\n",
       "      <td>24</td>\n",
       "      <td>441.0</td>\n",
       "      <td>NaN</td>\n",
       "      <td>COMPLETE</td>\n",
       "    </tr>\n",
       "    <tr>\n",
       "      <th>4</th>\n",
       "      <td>4</td>\n",
       "      <td>0.976455</td>\n",
       "      <td>2021-05-20 19:00:32.502514</td>\n",
       "      <td>2021-05-20 19:08:10.338109</td>\n",
       "      <td>0 days 00:07:37.835595</td>\n",
       "      <td>relu</td>\n",
       "      <td>relu</td>\n",
       "      <td>NaN</td>\n",
       "      <td>32</td>\n",
       "      <td>16.0</td>\n",
       "      <td>...</td>\n",
       "      <td>2</td>\n",
       "      <td>1</td>\n",
       "      <td>RMSprop</td>\n",
       "      <td>1</td>\n",
       "      <td>1.0</td>\n",
       "      <td>NaN</td>\n",
       "      <td>255</td>\n",
       "      <td>NaN</td>\n",
       "      <td>NaN</td>\n",
       "      <td>COMPLETE</td>\n",
       "    </tr>\n",
       "  </tbody>\n",
       "</table>\n",
       "<p>5 rows × 26 columns</p>\n",
       "</div>"
      ],
      "text/plain": [
       "   number     value             datetime_start          datetime_complete  \\\n",
       "0       0  0.973280 2021-05-20 18:21:58.124679 2021-05-20 18:23:44.991946   \n",
       "1       1  0.934392 2021-05-20 18:23:45.104026 2021-05-20 18:30:28.707171   \n",
       "2       2  0.096032 2021-05-20 18:30:28.783724 2021-05-20 18:46:56.184767   \n",
       "3       3  0.103704 2021-05-20 18:46:56.245810 2021-05-20 19:00:32.438469   \n",
       "4       4  0.976455 2021-05-20 19:00:32.502514 2021-05-20 19:08:10.338109   \n",
       "\n",
       "                duration params_activation0 params_activation1  \\\n",
       "0 0 days 00:01:46.867267               tanh                NaN   \n",
       "1 0 days 00:06:43.603145               tanh               tanh   \n",
       "2 0 days 00:16:27.401043               relu               relu   \n",
       "3 0 days 00:13:36.192659               tanh               tanh   \n",
       "4 0 days 00:07:37.835595               relu               relu   \n",
       "\n",
       "  params_activation2  params_filters_0  params_filters_1  ...  \\\n",
       "0                NaN                16               NaN  ...   \n",
       "1               tanh                16              64.0  ...   \n",
       "2               tanh                64              16.0  ...   \n",
       "3                NaN                64              32.0  ...   \n",
       "4                NaN                32              16.0  ...   \n",
       "\n",
       "   params_num_conv_layers  params_num_dense_layers  params_optimizer_name  \\\n",
       "0                       1                        1                   Adam   \n",
       "1                       3                        2                   Adam   \n",
       "2                       3                        1                RMSprop   \n",
       "3                       2                        2                RMSprop   \n",
       "4                       2                        1                RMSprop   \n",
       "\n",
       "   params_strides0  params_strides1  params_strides2  params_units0  \\\n",
       "0                1              NaN              NaN            389   \n",
       "1                1              2.0              1.0            353   \n",
       "2                1              1.0              1.0            334   \n",
       "3                1              1.0              NaN             24   \n",
       "4                1              1.0              NaN            255   \n",
       "\n",
       "   params_units1 params_units2     state  \n",
       "0            NaN           NaN  COMPLETE  \n",
       "1          297.0           NaN  COMPLETE  \n",
       "2            NaN           NaN  COMPLETE  \n",
       "3          441.0           NaN  COMPLETE  \n",
       "4            NaN           NaN  COMPLETE  \n",
       "\n",
       "[5 rows x 26 columns]"
      ]
     },
     "execution_count": 21,
     "metadata": {},
     "output_type": "execute_result"
    }
   ],
   "source": [
    "results.head()"
   ]
  },
  {
   "cell_type": "markdown",
   "metadata": {
    "_cell_guid": "e758621d-b27b-40ff-a93f-bebd2e0e5243",
    "_uuid": "0a1834f2a9f2db15dcaba4a84004b9627d714469"
   },
   "source": [
    "# Evaluate the model"
   ]
  },
  {
   "cell_type": "code",
   "execution_count": 22,
   "metadata": {},
   "outputs": [],
   "source": [
    "# load best model\n",
    "\n",
    "model = load_model(path_best_model)"
   ]
  },
  {
   "cell_type": "code",
   "execution_count": 23,
   "metadata": {},
   "outputs": [
    {
     "name": "stdout",
     "output_type": "stream",
     "text": [
      "Model: \"sequential_12\"\n",
      "_________________________________________________________________\n",
      "Layer (type)                 Output Shape              Param #   \n",
      "=================================================================\n",
      "conv2d_24 (Conv2D)           (None, 14, 14, 32)        832       \n",
      "_________________________________________________________________\n",
      "max_pooling2d_12 (MaxPooling (None, 7, 7, 32)          0         \n",
      "_________________________________________________________________\n",
      "flatten_12 (Flatten)         (None, 1568)              0         \n",
      "_________________________________________________________________\n",
      "dense_33 (Dense)             (None, 492)               771948    \n",
      "_________________________________________________________________\n",
      "dense_34 (Dense)             (None, 12)                5916      \n",
      "_________________________________________________________________\n",
      "dense_35 (Dense)             (None, 17)                221       \n",
      "_________________________________________________________________\n",
      "dense_36 (Dense)             (None, 10)                180       \n",
      "=================================================================\n",
      "Total params: 779,097\n",
      "Trainable params: 779,097\n",
      "Non-trainable params: 0\n",
      "_________________________________________________________________\n"
     ]
    }
   ],
   "source": [
    "model.summary()"
   ]
  },
  {
   "cell_type": "code",
   "execution_count": 24,
   "metadata": {},
   "outputs": [
    {
     "name": "stdout",
     "output_type": "stream",
     "text": [
      "132/132 [==============================] - 4s 15ms/step - loss: 0.0617 - accuracy: 0.9843\n"
     ]
    }
   ],
   "source": [
    "# make predictions in test set\n",
    "\n",
    "result = model.evaluate(x=X_test,\n",
    "                        y=y_test)"
   ]
  },
  {
   "cell_type": "code",
   "execution_count": 25,
   "metadata": {},
   "outputs": [
    {
     "name": "stdout",
     "output_type": "stream",
     "text": [
      "loss 0.06171351298689842\n",
      "accuracy 0.9842857122421265\n"
     ]
    }
   ],
   "source": [
    "# print evaluation metrics\n",
    "\n",
    "for name, value in zip(model.metrics_names, result):\n",
    "    print(name, value)"
   ]
  },
  {
   "cell_type": "markdown",
   "metadata": {
    "_cell_guid": "5688faa0-b33b-4e92-b125-7fa0b37e7df3",
    "_uuid": "3306d29b732341663e50866140dc569360701a81"
   },
   "source": [
    "## Confusion matrix"
   ]
  },
  {
   "cell_type": "code",
   "execution_count": 26,
   "metadata": {},
   "outputs": [
    {
     "data": {
      "text/plain": [
       "array([[419,   0,   0,   0,   0,   0,   1,   0,   2,   0],\n",
       "       [  0, 469,   0,   0,   0,   0,   1,   2,   1,   0],\n",
       "       [  2,   3, 402,   0,   0,   0,   1,   1,   0,   0],\n",
       "       [  0,   0,   1, 420,   0,   2,   0,   2,   1,   0],\n",
       "       [  1,   2,   0,   0, 422,   0,   3,   1,   0,   0],\n",
       "       [  0,   0,   0,   2,   0, 374,   3,   0,   3,   0],\n",
       "       [  0,   0,   0,   0,   0,   0, 412,   0,   0,   0],\n",
       "       [  0,   1,   4,   2,   0,   0,   0, 462,   0,   0],\n",
       "       [  0,   2,   0,   1,   0,   1,   2,   0, 378,   0],\n",
       "       [  4,   2,   0,   2,   8,   0,   0,   1,   1, 376]], dtype=int64)"
      ]
     },
     "execution_count": 26,
     "metadata": {},
     "output_type": "execute_result"
    }
   ],
   "source": [
    "# Predict the values from the validation dataset\n",
    "y_pred = model.predict(X_test)\n",
    "\n",
    "# Convert predictions classes to one hot vectors \n",
    "y_pred_classes = np.argmax(y_pred, axis = 1)\n",
    "\n",
    "# Convert validation observations to one hot vectors\n",
    "y_true = np.argmax(y_test, axis = 1)\n",
    "\n",
    "# compute the confusion matrix\n",
    "cm = confusion_matrix(y_true, y_pred_classes) \n",
    "\n",
    "cm"
   ]
  },
  {
   "cell_type": "code",
   "execution_count": 27,
   "metadata": {
    "_cell_guid": "11361e73-8250-4bf5-a353-b0f8ea83e659",
    "_execution_state": "idle",
    "_uuid": "16e161179bf1b51ba66c39b2cead883f1db3a9c7"
   },
   "outputs": [
    {
     "data": {
      "text/plain": [
       "Text(0.5, 13.421126458070283, 'Predicted label')"
      ]
     },
     "execution_count": 27,
     "metadata": {},
     "output_type": "execute_result"
    },
    {
     "data": {
      "image/png": "[encoded data removed]",
      "text/plain": [
       "<Figure size 432x288 with 2 Axes>"
      ]
     },
     "metadata": {
      "needs_background": "light"
     },
     "output_type": "display_data"
    }
   ],
   "source": [
    "# let's make it more colourful\n",
    "classes = 10\n",
    "\n",
    "plt.imshow(cm, interpolation='nearest', cmap=plt.cm.Blues)\n",
    "plt.title('Confusion matrix')\n",
    "plt.colorbar()\n",
    "tick_marks = np.arange(classes)\n",
    "plt.xticks(tick_marks, range(classes), rotation=45)\n",
    "plt.yticks(tick_marks, range(classes))\n",
    "\n",
    "for i, j in itertools.product(range(cm.shape[0]), range(cm.shape[1])):\n",
    "    plt.text(j, i, cm[i, j],\n",
    "             horizontalalignment=\"center\",\n",
    "             color=\"white\" if cm[i, j] > 100 else \"black\",\n",
    "            )\n",
    "\n",
    "plt.tight_layout()\n",
    "plt.ylabel('True label')\n",
    "plt.xlabel('Predicted label')"
   ]
  },
  {
   "cell_type": "markdown",
   "metadata": {
    "_cell_guid": "1b8a5cdc-9122-4e31-b9fa-0f6b57d33fc8",
    "_uuid": "ecb928433299b163ecc1f6c4e66d4ddcf38fe898"
   },
   "source": [
    "Here we can see that our CNN performs very well on all digits."
   ]
  },
  {
   "cell_type": "code",
   "execution_count": null,
   "metadata": {},
   "outputs": [],
   "source": []
  }
 ],
 "metadata": {
  "kernelspec": {
   "display_name": "html",
   "language": "python",
   "name": "html"
  },
  "language_info": {
   "codemirror_mode": {
    "name": "ipython",
    "version": 3
   },
   "file_extension": ".py",
   "mimetype": "text/x-python",
   "name": "python",
   "nbconvert_exporter": "python",
   "pygments_lexer": "ipython3",
   "version": "3.8.2"
  },
  "toc": {
   "base_numbering": 1,
   "nav_menu": {},
   "number_sections": true,
   "sideBar": true,
   "skip_h1_title": false,
   "title_cell": "Table of Contents",
   "title_sidebar": "Contents",
   "toc_cell": false,
   "toc_position": {
    "height": "calc(100% - 180px)",
    "left": "10px",
    "top": "150px",
    "width": "288.467px"
   },
   "toc_section_display": true,
   "toc_window_display": true
  }
 },
 "nbformat": 4,
 "nbformat_minor": 2
}
