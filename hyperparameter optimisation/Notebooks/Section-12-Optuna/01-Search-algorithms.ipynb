{
 "cells": [
  {
   "cell_type": "markdown",
   "metadata": {},
   "source": [
    "## Search algorithms within Optuna\n",
    "\n",
    "In this notebook, I will demo how to select the search algorithm with Optuna. We will compare the use of:\n",
    "\n",
    "- Grid Search \n",
    "- Randomized search\n",
    "- Tree-structured Parzen Estimators\n",
    "- CMA-ES\n",
    "\n",
    "\n",
    "We can select the search algorithm from the [optuna.study.create_study()](https://optuna.readthedocs.io/en/stable/reference/generated/optuna.study.create_study.html#optuna.study.create_study) class."
   ]
  },
  {
   "cell_type": "code",
   "execution_count": 1,
   "metadata": {},
   "outputs": [],
   "source": [
    "import numpy as np\n",
    "import pandas as pd\n",
    "import matplotlib.pyplot as plt\n",
    "\n",
    "from sklearn.datasets import load_breast_cancer\n",
    "from sklearn.metrics import accuracy_score, roc_auc_score\n",
    "from sklearn.model_selection import cross_val_score, train_test_split\n",
    "from sklearn.ensemble import RandomForestClassifier\n",
    "\n",
    "import optuna"
   ]
  },
  {
   "cell_type": "code",
   "execution_count": 2,
   "metadata": {},
   "outputs": [
    {
     "data": {
      "text/html": [
       "<div>\n",
       "<style scoped>\n",
       "    .dataframe tbody tr th:only-of-type {\n",
       "        vertical-align: middle;\n",
       "    }\n",
       "\n",
       "    .dataframe tbody tr th {\n",
       "        vertical-align: top;\n",
       "    }\n",
       "\n",
       "    .dataframe thead th {\n",
       "        text-align: right;\n",
       "    }\n",
       "</style>\n",
       "<table border=\"1\" class=\"dataframe\">\n",
       "  <thead>\n",
       "    <tr style=\"text-align: right;\">\n",
       "      <th></th>\n",
       "      <th>0</th>\n",
       "      <th>1</th>\n",
       "      <th>2</th>\n",
       "      <th>3</th>\n",
       "      <th>4</th>\n",
       "      <th>5</th>\n",
       "      <th>6</th>\n",
       "      <th>7</th>\n",
       "      <th>8</th>\n",
       "      <th>9</th>\n",
       "      <th>...</th>\n",
       "      <th>20</th>\n",
       "      <th>21</th>\n",
       "      <th>22</th>\n",
       "      <th>23</th>\n",
       "      <th>24</th>\n",
       "      <th>25</th>\n",
       "      <th>26</th>\n",
       "      <th>27</th>\n",
       "      <th>28</th>\n",
       "      <th>29</th>\n",
       "    </tr>\n",
       "  </thead>\n",
       "  <tbody>\n",
       "    <tr>\n",
       "      <th>0</th>\n",
       "      <td>17.99</td>\n",
       "      <td>10.38</td>\n",
       "      <td>122.80</td>\n",
       "      <td>1001.0</td>\n",
       "      <td>0.11840</td>\n",
       "      <td>0.27760</td>\n",
       "      <td>0.3001</td>\n",
       "      <td>0.14710</td>\n",
       "      <td>0.2419</td>\n",
       "      <td>0.07871</td>\n",
       "      <td>...</td>\n",
       "      <td>25.38</td>\n",
       "      <td>17.33</td>\n",
       "      <td>184.60</td>\n",
       "      <td>2019.0</td>\n",
       "      <td>0.1622</td>\n",
       "      <td>0.6656</td>\n",
       "      <td>0.7119</td>\n",
       "      <td>0.2654</td>\n",
       "      <td>0.4601</td>\n",
       "      <td>0.11890</td>\n",
       "    </tr>\n",
       "    <tr>\n",
       "      <th>1</th>\n",
       "      <td>20.57</td>\n",
       "      <td>17.77</td>\n",
       "      <td>132.90</td>\n",
       "      <td>1326.0</td>\n",
       "      <td>0.08474</td>\n",
       "      <td>0.07864</td>\n",
       "      <td>0.0869</td>\n",
       "      <td>0.07017</td>\n",
       "      <td>0.1812</td>\n",
       "      <td>0.05667</td>\n",
       "      <td>...</td>\n",
       "      <td>24.99</td>\n",
       "      <td>23.41</td>\n",
       "      <td>158.80</td>\n",
       "      <td>1956.0</td>\n",
       "      <td>0.1238</td>\n",
       "      <td>0.1866</td>\n",
       "      <td>0.2416</td>\n",
       "      <td>0.1860</td>\n",
       "      <td>0.2750</td>\n",
       "      <td>0.08902</td>\n",
       "    </tr>\n",
       "    <tr>\n",
       "      <th>2</th>\n",
       "      <td>19.69</td>\n",
       "      <td>21.25</td>\n",
       "      <td>130.00</td>\n",
       "      <td>1203.0</td>\n",
       "      <td>0.10960</td>\n",
       "      <td>0.15990</td>\n",
       "      <td>0.1974</td>\n",
       "      <td>0.12790</td>\n",
       "      <td>0.2069</td>\n",
       "      <td>0.05999</td>\n",
       "      <td>...</td>\n",
       "      <td>23.57</td>\n",
       "      <td>25.53</td>\n",
       "      <td>152.50</td>\n",
       "      <td>1709.0</td>\n",
       "      <td>0.1444</td>\n",
       "      <td>0.4245</td>\n",
       "      <td>0.4504</td>\n",
       "      <td>0.2430</td>\n",
       "      <td>0.3613</td>\n",
       "      <td>0.08758</td>\n",
       "    </tr>\n",
       "    <tr>\n",
       "      <th>3</th>\n",
       "      <td>11.42</td>\n",
       "      <td>20.38</td>\n",
       "      <td>77.58</td>\n",
       "      <td>386.1</td>\n",
       "      <td>0.14250</td>\n",
       "      <td>0.28390</td>\n",
       "      <td>0.2414</td>\n",
       "      <td>0.10520</td>\n",
       "      <td>0.2597</td>\n",
       "      <td>0.09744</td>\n",
       "      <td>...</td>\n",
       "      <td>14.91</td>\n",
       "      <td>26.50</td>\n",
       "      <td>98.87</td>\n",
       "      <td>567.7</td>\n",
       "      <td>0.2098</td>\n",
       "      <td>0.8663</td>\n",
       "      <td>0.6869</td>\n",
       "      <td>0.2575</td>\n",
       "      <td>0.6638</td>\n",
       "      <td>0.17300</td>\n",
       "    </tr>\n",
       "    <tr>\n",
       "      <th>4</th>\n",
       "      <td>20.29</td>\n",
       "      <td>14.34</td>\n",
       "      <td>135.10</td>\n",
       "      <td>1297.0</td>\n",
       "      <td>0.10030</td>\n",
       "      <td>0.13280</td>\n",
       "      <td>0.1980</td>\n",
       "      <td>0.10430</td>\n",
       "      <td>0.1809</td>\n",
       "      <td>0.05883</td>\n",
       "      <td>...</td>\n",
       "      <td>22.54</td>\n",
       "      <td>16.67</td>\n",
       "      <td>152.20</td>\n",
       "      <td>1575.0</td>\n",
       "      <td>0.1374</td>\n",
       "      <td>0.2050</td>\n",
       "      <td>0.4000</td>\n",
       "      <td>0.1625</td>\n",
       "      <td>0.2364</td>\n",
       "      <td>0.07678</td>\n",
       "    </tr>\n",
       "  </tbody>\n",
       "</table>\n",
       "<p>5 rows × 30 columns</p>\n",
       "</div>"
      ],
      "text/plain": [
       "      0      1       2       3        4        5       6        7       8   \\\n",
       "0  17.99  10.38  122.80  1001.0  0.11840  0.27760  0.3001  0.14710  0.2419   \n",
       "1  20.57  17.77  132.90  1326.0  0.08474  0.07864  0.0869  0.07017  0.1812   \n",
       "2  19.69  21.25  130.00  1203.0  0.10960  0.15990  0.1974  0.12790  0.2069   \n",
       "3  11.42  20.38   77.58   386.1  0.14250  0.28390  0.2414  0.10520  0.2597   \n",
       "4  20.29  14.34  135.10  1297.0  0.10030  0.13280  0.1980  0.10430  0.1809   \n",
       "\n",
       "        9   ...     20     21      22      23      24      25      26      27  \\\n",
       "0  0.07871  ...  25.38  17.33  184.60  2019.0  0.1622  0.6656  0.7119  0.2654   \n",
       "1  0.05667  ...  24.99  23.41  158.80  1956.0  0.1238  0.1866  0.2416  0.1860   \n",
       "2  0.05999  ...  23.57  25.53  152.50  1709.0  0.1444  0.4245  0.4504  0.2430   \n",
       "3  0.09744  ...  14.91  26.50   98.87   567.7  0.2098  0.8663  0.6869  0.2575   \n",
       "4  0.05883  ...  22.54  16.67  152.20  1575.0  0.1374  0.2050  0.4000  0.1625   \n",
       "\n",
       "       28       29  \n",
       "0  0.4601  0.11890  \n",
       "1  0.2750  0.08902  \n",
       "2  0.3613  0.08758  \n",
       "3  0.6638  0.17300  \n",
       "4  0.2364  0.07678  \n",
       "\n",
       "[5 rows x 30 columns]"
      ]
     },
     "execution_count": 2,
     "metadata": {},
     "output_type": "execute_result"
    }
   ],
   "source": [
    "# load dataset\n",
    "\n",
    "breast_cancer_X, breast_cancer_y = load_breast_cancer(return_X_y=True)\n",
    "X = pd.DataFrame(breast_cancer_X)\n",
    "y = pd.Series(breast_cancer_y).map({0:1, 1:0})\n",
    "\n",
    "X.head()"
   ]
  },
  {
   "cell_type": "code",
   "execution_count": 3,
   "metadata": {},
   "outputs": [
    {
     "data": {
      "text/plain": [
       "0    0.627417\n",
       "1    0.372583\n",
       "dtype: float64"
      ]
     },
     "execution_count": 3,
     "metadata": {},
     "output_type": "execute_result"
    }
   ],
   "source": [
    "# the target:\n",
    "# percentage of benign (0) and malign tumors (1)\n",
    "\n",
    "y.value_counts() / len(y)"
   ]
  },
  {
   "cell_type": "code",
   "execution_count": 4,
   "metadata": {},
   "outputs": [
    {
     "data": {
      "text/plain": [
       "((398, 30), (171, 30))"
      ]
     },
     "execution_count": 4,
     "metadata": {},
     "output_type": "execute_result"
    }
   ],
   "source": [
    "# split dataset into a train and test set\n",
    "\n",
    "X_train, X_test, y_train, y_test = train_test_split(\n",
    "    X, y, test_size=0.3, random_state=0)\n",
    "\n",
    "X_train.shape, X_test.shape"
   ]
  },
  {
   "cell_type": "markdown",
   "metadata": {},
   "source": [
    "## Define the objective function\n",
    "\n",
    "This is the hyperparameter response space, the function we want to minimize."
   ]
  },
  {
   "cell_type": "code",
   "execution_count": 5,
   "metadata": {},
   "outputs": [],
   "source": [
    "# the objective function takes the hyperparameter space\n",
    "# as input\n",
    "\n",
    "def objective(trial):\n",
    "\n",
    "    rf_n_estimators = trial.suggest_int(\"rf_n_estimators\", 100, 1000)\n",
    "    rf_criterion = trial.suggest_categorical(\"rf_criterion\", ['gini', 'entropy'])\n",
    "    rf_max_depth = trial.suggest_int(\"rf_max_depth\", 1, 4)\n",
    "    rf_min_samples_split = trial.suggest_float(\"rf_min_samples_split\", 0.01, 1)\n",
    "    \n",
    "    model = RandomForestClassifier(\n",
    "        n_estimators=rf_n_estimators,\n",
    "        criterion=rf_criterion,\n",
    "        max_depth=rf_max_depth,\n",
    "        min_samples_split=rf_min_samples_split,\n",
    "    )\n",
    "\n",
    "    score = cross_val_score(model, X_train, y_train, cv=3)\n",
    "    accuracy = score.mean()\n",
    "    return accuracy"
   ]
  },
  {
   "cell_type": "markdown",
   "metadata": {},
   "source": [
    "## Randomized Search\n",
    "\n",
    "RandomSampler()"
   ]
  },
  {
   "cell_type": "code",
   "execution_count": 6,
   "metadata": {},
   "outputs": [
    {
     "name": "stderr",
     "output_type": "stream",
     "text": [
      "\u001b[32m[I 2021-05-20 13:32:32,020]\u001b[0m A new study created in memory with name: no-name-4c05d223-a14c-42e4-8d41-4e85e52a2f1b\u001b[0m\n",
      "\u001b[32m[I 2021-05-20 13:32:36,656]\u001b[0m Trial 0 finished with value: 0.6256360598465861 and parameters: {'rf_n_estimators': 695, 'rf_criterion': 'entropy', 'rf_max_depth': 2, 'rf_min_samples_split': 0.8783579308131435}. Best is trial 0 with value: 0.6256360598465861.\u001b[0m\n",
      "\u001b[32m[I 2021-05-20 13:32:39,777]\u001b[0m Trial 1 finished with value: 0.6256360598465861 and parameters: {'rf_n_estimators': 605, 'rf_criterion': 'entropy', 'rf_max_depth': 1, 'rf_min_samples_split': 0.9699877119978241}. Best is trial 0 with value: 0.6256360598465861.\u001b[0m\n",
      "\u001b[32m[I 2021-05-20 13:32:42,322]\u001b[0m Trial 2 finished with value: 0.937210450368345 and parameters: {'rf_n_estimators': 424, 'rf_criterion': 'gini', 'rf_max_depth': 3, 'rf_min_samples_split': 0.10419683337955472}. Best is trial 2 with value: 0.937210450368345.\u001b[0m\n",
      "\u001b[32m[I 2021-05-20 13:32:43,359]\u001b[0m Trial 3 finished with value: 0.6256360598465861 and parameters: {'rf_n_estimators': 210, 'rf_criterion': 'gini', 'rf_max_depth': 3, 'rf_min_samples_split': 0.7475774305360292}. Best is trial 2 with value: 0.937210450368345.\u001b[0m\n",
      "\u001b[32m[I 2021-05-20 13:32:45,301]\u001b[0m Trial 4 finished with value: 0.6256360598465861 and parameters: {'rf_n_estimators': 445, 'rf_criterion': 'gini', 'rf_max_depth': 3, 'rf_min_samples_split': 0.8576211459466486}. Best is trial 2 with value: 0.937210450368345.\u001b[0m\n"
     ]
    }
   ],
   "source": [
    "study = optuna.create_study(\n",
    "    direction=\"maximize\",\n",
    "    sampler=optuna.samplers.RandomSampler(),\n",
    ")\n",
    "\n",
    "\n",
    "study.optimize(objective, n_trials=5)"
   ]
  },
  {
   "cell_type": "code",
   "execution_count": 7,
   "metadata": {},
   "outputs": [
    {
     "data": {
      "text/plain": [
       "{'rf_n_estimators': 424,\n",
       " 'rf_criterion': 'gini',\n",
       " 'rf_max_depth': 3,\n",
       " 'rf_min_samples_split': 0.10419683337955472}"
      ]
     },
     "execution_count": 7,
     "metadata": {},
     "output_type": "execute_result"
    }
   ],
   "source": [
    "study.best_params"
   ]
  },
  {
   "cell_type": "code",
   "execution_count": 8,
   "metadata": {},
   "outputs": [
    {
     "data": {
      "text/plain": [
       "0.937210450368345"
      ]
     },
     "execution_count": 8,
     "metadata": {},
     "output_type": "execute_result"
    }
   ],
   "source": [
    "study.best_value"
   ]
  },
  {
   "cell_type": "code",
   "execution_count": 9,
   "metadata": {},
   "outputs": [
    {
     "data": {
      "text/html": [
       "<div>\n",
       "<style scoped>\n",
       "    .dataframe tbody tr th:only-of-type {\n",
       "        vertical-align: middle;\n",
       "    }\n",
       "\n",
       "    .dataframe tbody tr th {\n",
       "        vertical-align: top;\n",
       "    }\n",
       "\n",
       "    .dataframe thead th {\n",
       "        text-align: right;\n",
       "    }\n",
       "</style>\n",
       "<table border=\"1\" class=\"dataframe\">\n",
       "  <thead>\n",
       "    <tr style=\"text-align: right;\">\n",
       "      <th></th>\n",
       "      <th>number</th>\n",
       "      <th>value</th>\n",
       "      <th>datetime_start</th>\n",
       "      <th>datetime_complete</th>\n",
       "      <th>duration</th>\n",
       "      <th>params_rf_criterion</th>\n",
       "      <th>params_rf_max_depth</th>\n",
       "      <th>params_rf_min_samples_split</th>\n",
       "      <th>params_rf_n_estimators</th>\n",
       "      <th>state</th>\n",
       "    </tr>\n",
       "  </thead>\n",
       "  <tbody>\n",
       "    <tr>\n",
       "      <th>0</th>\n",
       "      <td>0</td>\n",
       "      <td>0.625636</td>\n",
       "      <td>2021-05-20 13:32:32.042563</td>\n",
       "      <td>2021-05-20 13:32:36.656177</td>\n",
       "      <td>0 days 00:00:04.613614</td>\n",
       "      <td>entropy</td>\n",
       "      <td>2</td>\n",
       "      <td>0.878358</td>\n",
       "      <td>695</td>\n",
       "      <td>COMPLETE</td>\n",
       "    </tr>\n",
       "    <tr>\n",
       "      <th>1</th>\n",
       "      <td>1</td>\n",
       "      <td>0.625636</td>\n",
       "      <td>2021-05-20 13:32:36.657176</td>\n",
       "      <td>2021-05-20 13:32:39.777438</td>\n",
       "      <td>0 days 00:00:03.120262</td>\n",
       "      <td>entropy</td>\n",
       "      <td>1</td>\n",
       "      <td>0.969988</td>\n",
       "      <td>605</td>\n",
       "      <td>COMPLETE</td>\n",
       "    </tr>\n",
       "    <tr>\n",
       "      <th>2</th>\n",
       "      <td>2</td>\n",
       "      <td>0.937210</td>\n",
       "      <td>2021-05-20 13:32:39.778938</td>\n",
       "      <td>2021-05-20 13:32:42.321280</td>\n",
       "      <td>0 days 00:00:02.542342</td>\n",
       "      <td>gini</td>\n",
       "      <td>3</td>\n",
       "      <td>0.104197</td>\n",
       "      <td>424</td>\n",
       "      <td>COMPLETE</td>\n",
       "    </tr>\n",
       "    <tr>\n",
       "      <th>3</th>\n",
       "      <td>3</td>\n",
       "      <td>0.625636</td>\n",
       "      <td>2021-05-20 13:32:42.323279</td>\n",
       "      <td>2021-05-20 13:32:43.359032</td>\n",
       "      <td>0 days 00:00:01.035753</td>\n",
       "      <td>gini</td>\n",
       "      <td>3</td>\n",
       "      <td>0.747577</td>\n",
       "      <td>210</td>\n",
       "      <td>COMPLETE</td>\n",
       "    </tr>\n",
       "    <tr>\n",
       "      <th>4</th>\n",
       "      <td>4</td>\n",
       "      <td>0.625636</td>\n",
       "      <td>2021-05-20 13:32:43.359953</td>\n",
       "      <td>2021-05-20 13:32:45.300349</td>\n",
       "      <td>0 days 00:00:01.940396</td>\n",
       "      <td>gini</td>\n",
       "      <td>3</td>\n",
       "      <td>0.857621</td>\n",
       "      <td>445</td>\n",
       "      <td>COMPLETE</td>\n",
       "    </tr>\n",
       "  </tbody>\n",
       "</table>\n",
       "</div>"
      ],
      "text/plain": [
       "   number     value             datetime_start          datetime_complete  \\\n",
       "0       0  0.625636 2021-05-20 13:32:32.042563 2021-05-20 13:32:36.656177   \n",
       "1       1  0.625636 2021-05-20 13:32:36.657176 2021-05-20 13:32:39.777438   \n",
       "2       2  0.937210 2021-05-20 13:32:39.778938 2021-05-20 13:32:42.321280   \n",
       "3       3  0.625636 2021-05-20 13:32:42.323279 2021-05-20 13:32:43.359032   \n",
       "4       4  0.625636 2021-05-20 13:32:43.359953 2021-05-20 13:32:45.300349   \n",
       "\n",
       "                duration params_rf_criterion  params_rf_max_depth  \\\n",
       "0 0 days 00:00:04.613614             entropy                    2   \n",
       "1 0 days 00:00:03.120262             entropy                    1   \n",
       "2 0 days 00:00:02.542342                gini                    3   \n",
       "3 0 days 00:00:01.035753                gini                    3   \n",
       "4 0 days 00:00:01.940396                gini                    3   \n",
       "\n",
       "   params_rf_min_samples_split  params_rf_n_estimators     state  \n",
       "0                     0.878358                     695  COMPLETE  \n",
       "1                     0.969988                     605  COMPLETE  \n",
       "2                     0.104197                     424  COMPLETE  \n",
       "3                     0.747577                     210  COMPLETE  \n",
       "4                     0.857621                     445  COMPLETE  "
      ]
     },
     "execution_count": 9,
     "metadata": {},
     "output_type": "execute_result"
    }
   ],
   "source": [
    "study.trials_dataframe()"
   ]
  },
  {
   "cell_type": "markdown",
   "metadata": {},
   "source": [
    "## TPE\n",
    "\n",
    "TPESampler is the default"
   ]
  },
  {
   "cell_type": "code",
   "execution_count": 10,
   "metadata": {},
   "outputs": [
    {
     "name": "stderr",
     "output_type": "stream",
     "text": [
      "\u001b[32m[I 2021-05-20 13:32:45,354]\u001b[0m A new study created in memory with name: no-name-2f472476-1aa4-41b3-b983-9128993bfd6e\u001b[0m\n",
      "\u001b[32m[I 2021-05-20 13:32:46,964]\u001b[0m Trial 0 finished with value: 0.9171033644717855 and parameters: {'rf_n_estimators': 301, 'rf_criterion': 'entropy', 'rf_max_depth': 1, 'rf_min_samples_split': 0.14385722106431506}. Best is trial 0 with value: 0.9171033644717855.\u001b[0m\n",
      "\u001b[32m[I 2021-05-20 13:32:50,692]\u001b[0m Trial 1 finished with value: 0.9045720361509835 and parameters: {'rf_n_estimators': 743, 'rf_criterion': 'gini', 'rf_max_depth': 3, 'rf_min_samples_split': 0.6360216981020187}. Best is trial 0 with value: 0.9171033644717855.\u001b[0m\n",
      "\u001b[32m[I 2021-05-20 13:32:52,094]\u001b[0m Trial 2 finished with value: 0.6256360598465861 and parameters: {'rf_n_estimators': 287, 'rf_criterion': 'gini', 'rf_max_depth': 3, 'rf_min_samples_split': 0.7477125830084222}. Best is trial 0 with value: 0.9171033644717855.\u001b[0m\n",
      "\u001b[32m[I 2021-05-20 13:32:53,322]\u001b[0m Trial 3 finished with value: 0.9196286169970379 and parameters: {'rf_n_estimators': 258, 'rf_criterion': 'gini', 'rf_max_depth': 1, 'rf_min_samples_split': 0.02246294933654927}. Best is trial 3 with value: 0.9196286169970379.\u001b[0m\n",
      "\u001b[32m[I 2021-05-20 13:32:54,562]\u001b[0m Trial 4 finished with value: 0.6256360598465861 and parameters: {'rf_n_estimators': 304, 'rf_criterion': 'entropy', 'rf_max_depth': 3, 'rf_min_samples_split': 0.829546873408442}. Best is trial 3 with value: 0.9196286169970379.\u001b[0m\n"
     ]
    }
   ],
   "source": [
    "study = optuna.create_study(\n",
    "    direction=\"maximize\",\n",
    "    sampler=optuna.samplers.TPESampler(),\n",
    ")\n",
    "\n",
    "\n",
    "study.optimize(objective, n_trials=5)"
   ]
  },
  {
   "cell_type": "code",
   "execution_count": 11,
   "metadata": {},
   "outputs": [
    {
     "data": {
      "text/plain": [
       "{'rf_n_estimators': 258,\n",
       " 'rf_criterion': 'gini',\n",
       " 'rf_max_depth': 1,\n",
       " 'rf_min_samples_split': 0.02246294933654927}"
      ]
     },
     "execution_count": 11,
     "metadata": {},
     "output_type": "execute_result"
    }
   ],
   "source": [
    "study.best_params"
   ]
  },
  {
   "cell_type": "code",
   "execution_count": 12,
   "metadata": {},
   "outputs": [
    {
     "data": {
      "text/plain": [
       "0.9196286169970379"
      ]
     },
     "execution_count": 12,
     "metadata": {},
     "output_type": "execute_result"
    }
   ],
   "source": [
    "study.best_value"
   ]
  },
  {
   "cell_type": "markdown",
   "metadata": {},
   "source": [
    "## CMA-ES\n",
    "\n",
    "CmaEsSampler"
   ]
  },
  {
   "cell_type": "code",
   "execution_count": 13,
   "metadata": {},
   "outputs": [
    {
     "name": "stderr",
     "output_type": "stream",
     "text": [
      "\u001b[32m[I 2021-05-20 13:32:54,590]\u001b[0m A new study created in memory with name: no-name-dc7be453-0f50-433f-892c-5c0a83309477\u001b[0m\n",
      "\u001b[32m[I 2021-05-20 13:32:56,816]\u001b[0m Trial 0 finished with value: 0.6256360598465861 and parameters: {'rf_n_estimators': 461, 'rf_criterion': 'entropy', 'rf_max_depth': 1, 'rf_min_samples_split': 0.8157876455065424}. Best is trial 0 with value: 0.6256360598465861.\u001b[0m\n",
      "\u001b[33m[W 2021-05-20 13:32:56,820]\u001b[0m The parameter 'rf_criterion' in trial#1 is sampled independently by using `RandomSampler` instead of `CmaEsSampler` (optimization performance may be degraded). `CmaEsSampler` does not support dynamic search space or `CategoricalDistribution`. You can suppress this warning by setting `warn_independent_sampling` to `False` in the constructor of `CmaEsSampler`, if this independent sampling is intended behavior.\u001b[0m\n",
      "\u001b[32m[I 2021-05-20 13:33:00,973]\u001b[0m Trial 1 finished with value: 0.9146160856687172 and parameters: {'rf_n_estimators': 550, 'rf_criterion': 'entropy', 'rf_max_depth': 2, 'rf_min_samples_split': 0.5703996078457617}. Best is trial 1 with value: 0.9146160856687172.\u001b[0m\n",
      "\u001b[33m[W 2021-05-20 13:33:00,975]\u001b[0m The parameter 'rf_criterion' in trial#2 is sampled independently by using `RandomSampler` instead of `CmaEsSampler` (optimization performance may be degraded). `CmaEsSampler` does not support dynamic search space or `CategoricalDistribution`. You can suppress this warning by setting `warn_independent_sampling` to `False` in the constructor of `CmaEsSampler`, if this independent sampling is intended behavior.\u001b[0m\n",
      "\u001b[32m[I 2021-05-20 13:33:03,841]\u001b[0m Trial 2 finished with value: 0.9171413381939697 and parameters: {'rf_n_estimators': 550, 'rf_criterion': 'gini', 'rf_max_depth': 2, 'rf_min_samples_split': 0.6104522707618539}. Best is trial 2 with value: 0.9171413381939697.\u001b[0m\n",
      "\u001b[33m[W 2021-05-20 13:33:03,844]\u001b[0m The parameter 'rf_criterion' in trial#3 is sampled independently by using `RandomSampler` instead of `CmaEsSampler` (optimization performance may be degraded). `CmaEsSampler` does not support dynamic search space or `CategoricalDistribution`. You can suppress this warning by setting `warn_independent_sampling` to `False` in the constructor of `CmaEsSampler`, if this independent sampling is intended behavior.\u001b[0m\n",
      "\u001b[32m[I 2021-05-20 13:33:06,381]\u001b[0m Trial 3 finished with value: 0.9196286169970379 and parameters: {'rf_n_estimators': 550, 'rf_criterion': 'gini', 'rf_max_depth': 3, 'rf_min_samples_split': 0.4943555698267044}. Best is trial 3 with value: 0.9196286169970379.\u001b[0m\n",
      "\u001b[33m[W 2021-05-20 13:33:06,384]\u001b[0m The parameter 'rf_criterion' in trial#4 is sampled independently by using `RandomSampler` instead of `CmaEsSampler` (optimization performance may be degraded). `CmaEsSampler` does not support dynamic search space or `CategoricalDistribution`. You can suppress this warning by setting `warn_independent_sampling` to `False` in the constructor of `CmaEsSampler`, if this independent sampling is intended behavior.\u001b[0m\n",
      "\u001b[32m[I 2021-05-20 13:33:09,698]\u001b[0m Trial 4 finished with value: 0.9321219715956558 and parameters: {'rf_n_estimators': 550, 'rf_criterion': 'gini', 'rf_max_depth': 3, 'rf_min_samples_split': 0.3532396490443734}. Best is trial 4 with value: 0.9321219715956558.\u001b[0m\n"
     ]
    }
   ],
   "source": [
    "study = optuna.create_study(\n",
    "    direction=\"maximize\",\n",
    "    sampler=optuna.samplers.CmaEsSampler(),\n",
    ")\n",
    "\n",
    "study.optimize(objective, n_trials=5)"
   ]
  },
  {
   "cell_type": "code",
   "execution_count": 14,
   "metadata": {},
   "outputs": [
    {
     "data": {
      "text/plain": [
       "{'rf_n_estimators': 550,\n",
       " 'rf_criterion': 'gini',\n",
       " 'rf_max_depth': 3,\n",
       " 'rf_min_samples_split': 0.3532396490443734}"
      ]
     },
     "execution_count": 14,
     "metadata": {},
     "output_type": "execute_result"
    }
   ],
   "source": [
    "study.best_params"
   ]
  },
  {
   "cell_type": "code",
   "execution_count": 15,
   "metadata": {},
   "outputs": [
    {
     "data": {
      "text/plain": [
       "0.9321219715956558"
      ]
     },
     "execution_count": 15,
     "metadata": {},
     "output_type": "execute_result"
    }
   ],
   "source": [
    "study.best_value"
   ]
  },
  {
   "cell_type": "markdown",
   "metadata": {},
   "source": [
    "## Grid Search\n",
    "\n",
    "GridSampler()\n",
    "\n",
    "We are probably not going to perform GridSearch with Optuna, but in case you wanted to, you need to add a variable with the space, with the exact values that you want to be tested."
   ]
  },
  {
   "cell_type": "code",
   "execution_count": 16,
   "metadata": {},
   "outputs": [],
   "source": [
    "search_space = {\n",
    "    \"rf_n_estimators\": [100, 500, 1000],\n",
    "    \"rf_criterion\": ['gini', 'entropy'],\n",
    "    \"rf_max_depth\": [1, 2, 3],\n",
    "    \"rf_min_samples_split\": [0.1, 1.0]\n",
    "}\n"
   ]
  },
  {
   "cell_type": "code",
   "execution_count": 17,
   "metadata": {},
   "outputs": [
    {
     "name": "stderr",
     "output_type": "stream",
     "text": [
      "\u001b[32m[I 2021-05-20 13:33:09,736]\u001b[0m A new study created in memory with name: no-name-8d361ba9-6448-4fd0-8b39-426d946d9651\u001b[0m\n",
      "\u001b[32m[I 2021-05-20 13:33:13,906]\u001b[0m Trial 0 finished with value: 0.6256360598465861 and parameters: {'rf_n_estimators': 1000, 'rf_criterion': 'gini', 'rf_max_depth': 3, 'rf_min_samples_split': 1.0}. Best is trial 0 with value: 0.6256360598465861.\u001b[0m\n",
      "\u001b[32m[I 2021-05-20 13:33:14,420]\u001b[0m Trial 1 finished with value: 0.9397357028935976 and parameters: {'rf_n_estimators': 100, 'rf_criterion': 'gini', 'rf_max_depth': 3, 'rf_min_samples_split': 0.1}. Best is trial 1 with value: 0.9397357028935976.\u001b[0m\n",
      "\u001b[32m[I 2021-05-20 13:33:14,873]\u001b[0m Trial 2 finished with value: 0.9045150755677072 and parameters: {'rf_n_estimators': 100, 'rf_criterion': 'gini', 'rf_max_depth': 1, 'rf_min_samples_split': 0.1}. Best is trial 1 with value: 0.9397357028935976.\u001b[0m\n",
      "\u001b[32m[I 2021-05-20 13:33:19,585]\u001b[0m Trial 3 finished with value: 0.937210450368345 and parameters: {'rf_n_estimators': 1000, 'rf_criterion': 'gini', 'rf_max_depth': 3, 'rf_min_samples_split': 0.1}. Best is trial 1 with value: 0.9397357028935976.\u001b[0m\n",
      "\u001b[32m[I 2021-05-20 13:33:23,926]\u001b[0m Trial 4 finished with value: 0.9171223513328776 and parameters: {'rf_n_estimators': 1000, 'rf_criterion': 'gini', 'rf_max_depth': 1, 'rf_min_samples_split': 0.1}. Best is trial 1 with value: 0.9397357028935976.\u001b[0m\n",
      "\u001b[32m[I 2021-05-20 13:33:25,971]\u001b[0m Trial 5 finished with value: 0.6256360598465861 and parameters: {'rf_n_estimators': 500, 'rf_criterion': 'entropy', 'rf_max_depth': 1, 'rf_min_samples_split': 1.0}. Best is trial 1 with value: 0.9397357028935976.\u001b[0m\n",
      "\u001b[32m[I 2021-05-20 13:33:30,547]\u001b[0m Trial 6 finished with value: 0.6256360598465861 and parameters: {'rf_n_estimators': 1000, 'rf_criterion': 'entropy', 'rf_max_depth': 1, 'rf_min_samples_split': 1.0}. Best is trial 1 with value: 0.9397357028935976.\u001b[0m\n",
      "\u001b[32m[I 2021-05-20 13:33:34,879]\u001b[0m Trial 7 finished with value: 0.6256360598465861 and parameters: {'rf_n_estimators': 1000, 'rf_criterion': 'entropy', 'rf_max_depth': 2, 'rf_min_samples_split': 1.0}. Best is trial 1 with value: 0.9397357028935976.\u001b[0m\n",
      "\u001b[32m[I 2021-05-20 13:33:40,485]\u001b[0m Trial 8 finished with value: 0.9171223513328776 and parameters: {'rf_n_estimators': 1000, 'rf_criterion': 'entropy', 'rf_max_depth': 1, 'rf_min_samples_split': 0.1}. Best is trial 1 with value: 0.9397357028935976.\u001b[0m\n",
      "\u001b[32m[I 2021-05-20 13:33:41,246]\u001b[0m Trial 9 finished with value: 0.6256360598465861 and parameters: {'rf_n_estimators': 100, 'rf_criterion': 'entropy', 'rf_max_depth': 2, 'rf_min_samples_split': 1.0}. Best is trial 1 with value: 0.9397357028935976.\u001b[0m\n",
      "\u001b[32m[I 2021-05-20 13:33:41,940]\u001b[0m Trial 10 finished with value: 0.9321979190400244 and parameters: {'rf_n_estimators': 100, 'rf_criterion': 'entropy', 'rf_max_depth': 3, 'rf_min_samples_split': 0.1}. Best is trial 1 with value: 0.9397357028935976.\u001b[0m\n",
      "\u001b[32m[I 2021-05-20 13:33:44,436]\u001b[0m Trial 11 finished with value: 0.6256360598465861 and parameters: {'rf_n_estimators': 500, 'rf_criterion': 'entropy', 'rf_max_depth': 2, 'rf_min_samples_split': 1.0}. Best is trial 1 with value: 0.9397357028935976.\u001b[0m\n",
      "\u001b[32m[I 2021-05-20 13:33:44,888]\u001b[0m Trial 12 finished with value: 0.6256360598465861 and parameters: {'rf_n_estimators': 100, 'rf_criterion': 'entropy', 'rf_max_depth': 1, 'rf_min_samples_split': 1.0}. Best is trial 1 with value: 0.9397357028935976.\u001b[0m\n",
      "\u001b[32m[I 2021-05-20 13:33:49,565]\u001b[0m Trial 13 finished with value: 0.942241968557758 and parameters: {'rf_n_estimators': 1000, 'rf_criterion': 'gini', 'rf_max_depth': 2, 'rf_min_samples_split': 0.1}. Best is trial 13 with value: 0.942241968557758.\u001b[0m\n",
      "\u001b[32m[I 2021-05-20 13:33:53,627]\u001b[0m Trial 14 finished with value: 0.6256360598465861 and parameters: {'rf_n_estimators': 1000, 'rf_criterion': 'gini', 'rf_max_depth': 2, 'rf_min_samples_split': 1.0}. Best is trial 13 with value: 0.942241968557758.\u001b[0m\n",
      "\u001b[32m[I 2021-05-20 13:33:54,058]\u001b[0m Trial 15 finished with value: 0.6256360598465861 and parameters: {'rf_n_estimators': 100, 'rf_criterion': 'gini', 'rf_max_depth': 1, 'rf_min_samples_split': 1.0}. Best is trial 13 with value: 0.942241968557758.\u001b[0m\n",
      "\u001b[32m[I 2021-05-20 13:33:58,234]\u001b[0m Trial 16 finished with value: 0.6256360598465861 and parameters: {'rf_n_estimators': 1000, 'rf_criterion': 'entropy', 'rf_max_depth': 3, 'rf_min_samples_split': 1.0}. Best is trial 13 with value: 0.942241968557758.\u001b[0m\n",
      "\u001b[32m[I 2021-05-20 13:33:58,697]\u001b[0m Trial 17 finished with value: 0.9196476038581302 and parameters: {'rf_n_estimators': 100, 'rf_criterion': 'entropy', 'rf_max_depth': 1, 'rf_min_samples_split': 0.1}. Best is trial 13 with value: 0.942241968557758.\u001b[0m\n",
      "\u001b[32m[I 2021-05-20 13:34:02,768]\u001b[0m Trial 18 finished with value: 0.6256360598465861 and parameters: {'rf_n_estimators': 1000, 'rf_criterion': 'gini', 'rf_max_depth': 1, 'rf_min_samples_split': 1.0}. Best is trial 13 with value: 0.942241968557758.\u001b[0m\n",
      "\u001b[32m[I 2021-05-20 13:34:05,433]\u001b[0m Trial 19 finished with value: 0.9397357028935976 and parameters: {'rf_n_estimators': 500, 'rf_criterion': 'entropy', 'rf_max_depth': 2, 'rf_min_samples_split': 0.1}. Best is trial 13 with value: 0.942241968557758.\u001b[0m\n",
      "\u001b[32m[I 2021-05-20 13:34:07,765]\u001b[0m Trial 20 finished with value: 0.9397167160325055 and parameters: {'rf_n_estimators': 500, 'rf_criterion': 'gini', 'rf_max_depth': 2, 'rf_min_samples_split': 0.1}. Best is trial 13 with value: 0.942241968557758.\u001b[0m\n",
      "\u001b[32m[I 2021-05-20 13:34:10,281]\u001b[0m Trial 21 finished with value: 0.6256360598465861 and parameters: {'rf_n_estimators': 500, 'rf_criterion': 'gini', 'rf_max_depth': 1, 'rf_min_samples_split': 1.0}. Best is trial 13 with value: 0.942241968557758.\u001b[0m\n",
      "\u001b[32m[I 2021-05-20 13:34:12,482]\u001b[0m Trial 22 finished with value: 0.9146160856687172 and parameters: {'rf_n_estimators': 500, 'rf_criterion': 'gini', 'rf_max_depth': 1, 'rf_min_samples_split': 0.1}. Best is trial 13 with value: 0.942241968557758.\u001b[0m\n",
      "\u001b[32m[I 2021-05-20 13:34:14,541]\u001b[0m Trial 23 finished with value: 0.6256360598465861 and parameters: {'rf_n_estimators': 500, 'rf_criterion': 'gini', 'rf_max_depth': 3, 'rf_min_samples_split': 1.0}. Best is trial 13 with value: 0.942241968557758.\u001b[0m\n",
      "\u001b[32m[I 2021-05-20 13:34:19,427]\u001b[0m Trial 24 finished with value: 0.9397357028935976 and parameters: {'rf_n_estimators': 1000, 'rf_criterion': 'entropy', 'rf_max_depth': 2, 'rf_min_samples_split': 0.1}. Best is trial 13 with value: 0.942241968557758.\u001b[0m\n",
      "\u001b[32m[I 2021-05-20 13:34:21,716]\u001b[0m Trial 25 finished with value: 0.9171223513328776 and parameters: {'rf_n_estimators': 500, 'rf_criterion': 'entropy', 'rf_max_depth': 1, 'rf_min_samples_split': 0.1}. Best is trial 13 with value: 0.942241968557758.\u001b[0m\n",
      "\u001b[32m[I 2021-05-20 13:34:22,240]\u001b[0m Trial 26 finished with value: 0.9397357028935976 and parameters: {'rf_n_estimators': 100, 'rf_criterion': 'entropy', 'rf_max_depth': 2, 'rf_min_samples_split': 0.1}. Best is trial 13 with value: 0.942241968557758.\u001b[0m\n",
      "\u001b[32m[I 2021-05-20 13:34:22,842]\u001b[0m Trial 27 finished with value: 0.6256360598465861 and parameters: {'rf_n_estimators': 100, 'rf_criterion': 'gini', 'rf_max_depth': 2, 'rf_min_samples_split': 1.0}. Best is trial 13 with value: 0.942241968557758.\u001b[0m\n",
      "\u001b[32m[I 2021-05-20 13:34:23,454]\u001b[0m Trial 28 finished with value: 0.6256360598465861 and parameters: {'rf_n_estimators': 100, 'rf_criterion': 'entropy', 'rf_max_depth': 3, 'rf_min_samples_split': 1.0}. Best is trial 13 with value: 0.942241968557758.\u001b[0m\n",
      "\u001b[32m[I 2021-05-20 13:34:23,926]\u001b[0m Trial 29 finished with value: 0.9422609554188502 and parameters: {'rf_n_estimators': 100, 'rf_criterion': 'gini', 'rf_max_depth': 2, 'rf_min_samples_split': 0.1}. Best is trial 29 with value: 0.9422609554188502.\u001b[0m\n",
      "\u001b[32m[I 2021-05-20 13:34:26,110]\u001b[0m Trial 30 finished with value: 0.6256360598465861 and parameters: {'rf_n_estimators': 500, 'rf_criterion': 'gini', 'rf_max_depth': 2, 'rf_min_samples_split': 1.0}. Best is trial 29 with value: 0.9422609554188502.\u001b[0m\n",
      "\u001b[32m[I 2021-05-20 13:34:28,169]\u001b[0m Trial 31 finished with value: 0.6256360598465861 and parameters: {'rf_n_estimators': 500, 'rf_criterion': 'entropy', 'rf_max_depth': 3, 'rf_min_samples_split': 1.0}. Best is trial 29 with value: 0.9422609554188502.\u001b[0m\n"
     ]
    },
    {
     "name": "stderr",
     "output_type": "stream",
     "text": [
      "\u001b[32m[I 2021-05-20 13:34:30,674]\u001b[0m Trial 32 finished with value: 0.9397357028935976 and parameters: {'rf_n_estimators': 500, 'rf_criterion': 'gini', 'rf_max_depth': 3, 'rf_min_samples_split': 0.1}. Best is trial 29 with value: 0.9422609554188502.\u001b[0m\n",
      "\u001b[32m[I 2021-05-20 13:34:33,339]\u001b[0m Trial 33 finished with value: 0.942241968557758 and parameters: {'rf_n_estimators': 500, 'rf_criterion': 'entropy', 'rf_max_depth': 3, 'rf_min_samples_split': 0.1}. Best is trial 29 with value: 0.9422609554188502.\u001b[0m\n",
      "\u001b[32m[I 2021-05-20 13:34:38,710]\u001b[0m Trial 34 finished with value: 0.9397357028935976 and parameters: {'rf_n_estimators': 1000, 'rf_criterion': 'entropy', 'rf_max_depth': 3, 'rf_min_samples_split': 0.1}. Best is trial 29 with value: 0.9422609554188502.\u001b[0m\n",
      "\u001b[32m[I 2021-05-20 13:34:39,144]\u001b[0m Trial 35 finished with value: 0.6256360598465861 and parameters: {'rf_n_estimators': 100, 'rf_criterion': 'gini', 'rf_max_depth': 3, 'rf_min_samples_split': 1.0}. Best is trial 29 with value: 0.9422609554188502.\u001b[0m\n"
     ]
    }
   ],
   "source": [
    "study = optuna.create_study(\n",
    "    direction=\"maximize\",\n",
    "    sampler=optuna.samplers.GridSampler(search_space),\n",
    ")\n",
    "\n",
    "study.optimize(objective)"
   ]
  },
  {
   "cell_type": "code",
   "execution_count": 18,
   "metadata": {},
   "outputs": [
    {
     "data": {
      "text/plain": [
       "{'rf_n_estimators': 100,\n",
       " 'rf_criterion': 'gini',\n",
       " 'rf_max_depth': 2,\n",
       " 'rf_min_samples_split': 0.1}"
      ]
     },
     "execution_count": 18,
     "metadata": {},
     "output_type": "execute_result"
    }
   ],
   "source": [
    "study.best_params"
   ]
  },
  {
   "cell_type": "code",
   "execution_count": 19,
   "metadata": {},
   "outputs": [
    {
     "data": {
      "text/plain": [
       "0.9422609554188502"
      ]
     },
     "execution_count": 19,
     "metadata": {},
     "output_type": "execute_result"
    }
   ],
   "source": [
    "study.best_value"
   ]
  },
  {
   "cell_type": "code",
   "execution_count": null,
   "metadata": {},
   "outputs": [],
   "source": []
  }
 ],
 "metadata": {
  "kernelspec": {
   "display_name": "html",
   "language": "python",
   "name": "html"
  },
  "language_info": {
   "codemirror_mode": {
    "name": "ipython",
    "version": 3
   },
   "file_extension": ".py",
   "mimetype": "text/x-python",
   "name": "python",
   "nbconvert_exporter": "python",
   "pygments_lexer": "ipython3",
   "version": "3.8.2"
  },
  "toc": {
   "base_numbering": 1,
   "nav_menu": {},
   "number_sections": true,
   "sideBar": true,
   "skip_h1_title": false,
   "title_cell": "Table of Contents",
   "title_sidebar": "Contents",
   "toc_cell": false,
   "toc_position": {},
   "toc_section_display": true,
   "toc_window_display": true
  }
 },
 "nbformat": 4,
 "nbformat_minor": 4
}
