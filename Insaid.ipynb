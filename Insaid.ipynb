{
  "cells": [
    {
      "cell_type": "markdown",
      "metadata": {
        "id": "view-in-github",
        "colab_type": "text"
      },
      "source": [
        "<a href=\"https://colab.research.google.com/github/subratamondal1/Machine-Learning-Advanced/blob/main/Insaid.ipynb\" target=\"_parent\"><img src=\"https://colab.research.google.com/assets/colab-badge.svg\" alt=\"Open In Colab\"/></a>"
      ]
    },
    {
      "cell_type": "markdown",
      "source": [
        "# Data Dictionary\n",
        "1. **step** - maps a unit of time in the real world. In this case 1 step is 1 hour of time. Total steps 744 (30 days simulation).\n",
        "\n",
        "2. **type** - CASH-IN, CASH-OUT, DEBIT, PAYMENT and TRANSFER.\n",
        "\n",
        "3. **amount** - amount of the transaction in local currency.\n",
        "\n",
        "4. **nameOrig** - customer who started the transaction\n",
        "\n",
        "5. **oldbalanceOrg** - initial balance before the transaction\n",
        "\n",
        "6. **newbalanceOrig** - new balance after the transaction\n",
        "\n",
        "7. **nameDest** - customer who is the recipient of the transaction\n",
        "\n",
        "8. **oldbalanceDest** - initial balance recipient before the transaction. Note that there is not information for customers that start with M (Merchants).\n",
        "\n",
        "9. **newbalanceDest** - new balance recipient after the transaction. Note that there is not information for customers that start with M (Merchants).\n",
        "\n",
        "10. **isFlaggedFraud** - The business model aims to control massive transfers from one account to another and flags illegal attempts. An illegal attempt in this dataset is an attempt to transfer more than 200.000 in a single transaction.\n",
        "\n",
        "11. **isFraud** - This is the transactions made by the fraudulent agents inside the simulation. In this specific dataset the fraudulent behavior of the agents aims to profit by taking control or customers accounts and try to empty the funds by transferring to another account and then cashing out of the system."
      ],
      "metadata": {
        "id": "UNqGER890laD"
      }
    },
    {
      "cell_type": "code",
      "execution_count": 3,
      "metadata": {
        "id": "qdRKEqw-6_ze"
      },
      "outputs": [],
      "source": [
        "# import libraries\n",
        "import pandas as pd\n",
        "import numpy as np\n",
        "import matplotlib.pyplot as plt\n",
        "import seaborn as sns\n",
        "from sklearn.model_selection import train_test_split\n",
        "from sklearn.preprocessing import OneHotEncoder"
      ]
    },
    {
      "cell_type": "code",
      "execution_count": 4,
      "metadata": {
        "id": "P3Pjes_37G8o"
      },
      "outputs": [],
      "source": [
        "# load data\n",
        "df = pd.read_csv(\"/content/Fraud.csv\")"
      ]
    },
    {
      "cell_type": "code",
      "execution_count": 5,
      "metadata": {
        "colab": {
          "base_uri": "https://localhost:8080/",
          "height": 206
        },
        "id": "udHrDGDL7YhH",
        "outputId": "e770f33f-3fad-4d5a-c2c4-bb42add33904"
      },
      "outputs": [
        {
          "output_type": "execute_result",
          "data": {
            "text/plain": [
              "   step      type    amount     nameOrig  oldbalanceOrg  newbalanceOrig  \\\n",
              "0     1   PAYMENT   9839.64  C1231006815       170136.0       160296.36   \n",
              "1     1   PAYMENT   1864.28  C1666544295        21249.0        19384.72   \n",
              "2     1  TRANSFER    181.00  C1305486145          181.0            0.00   \n",
              "3     1  CASH_OUT    181.00   C840083671          181.0            0.00   \n",
              "4     1   PAYMENT  11668.14  C2048537720        41554.0        29885.86   \n",
              "\n",
              "      nameDest  oldbalanceDest  newbalanceDest  isFraud  isFlaggedFraud  \n",
              "0  M1979787155             0.0             0.0      0.0             0.0  \n",
              "1  M2044282225             0.0             0.0      0.0             0.0  \n",
              "2   C553264065             0.0             0.0      1.0             0.0  \n",
              "3    C38997010         21182.0             0.0      1.0             0.0  \n",
              "4  M1230701703             0.0             0.0      0.0             0.0  "
            ],
            "text/html": [
              "\n",
              "  <div id=\"df-8a215ff2-ceca-4c75-ab53-ec670a3e39b1\">\n",
              "    <div class=\"colab-df-container\">\n",
              "      <div>\n",
              "<style scoped>\n",
              "    .dataframe tbody tr th:only-of-type {\n",
              "        vertical-align: middle;\n",
              "    }\n",
              "\n",
              "    .dataframe tbody tr th {\n",
              "        vertical-align: top;\n",
              "    }\n",
              "\n",
              "    .dataframe thead th {\n",
              "        text-align: right;\n",
              "    }\n",
              "</style>\n",
              "<table border=\"1\" class=\"dataframe\">\n",
              "  <thead>\n",
              "    <tr style=\"text-align: right;\">\n",
              "      <th></th>\n",
              "      <th>step</th>\n",
              "      <th>type</th>\n",
              "      <th>amount</th>\n",
              "      <th>nameOrig</th>\n",
              "      <th>oldbalanceOrg</th>\n",
              "      <th>newbalanceOrig</th>\n",
              "      <th>nameDest</th>\n",
              "      <th>oldbalanceDest</th>\n",
              "      <th>newbalanceDest</th>\n",
              "      <th>isFraud</th>\n",
              "      <th>isFlaggedFraud</th>\n",
              "    </tr>\n",
              "  </thead>\n",
              "  <tbody>\n",
              "    <tr>\n",
              "      <th>0</th>\n",
              "      <td>1</td>\n",
              "      <td>PAYMENT</td>\n",
              "      <td>9839.64</td>\n",
              "      <td>C1231006815</td>\n",
              "      <td>170136.0</td>\n",
              "      <td>160296.36</td>\n",
              "      <td>M1979787155</td>\n",
              "      <td>0.0</td>\n",
              "      <td>0.0</td>\n",
              "      <td>0.0</td>\n",
              "      <td>0.0</td>\n",
              "    </tr>\n",
              "    <tr>\n",
              "      <th>1</th>\n",
              "      <td>1</td>\n",
              "      <td>PAYMENT</td>\n",
              "      <td>1864.28</td>\n",
              "      <td>C1666544295</td>\n",
              "      <td>21249.0</td>\n",
              "      <td>19384.72</td>\n",
              "      <td>M2044282225</td>\n",
              "      <td>0.0</td>\n",
              "      <td>0.0</td>\n",
              "      <td>0.0</td>\n",
              "      <td>0.0</td>\n",
              "    </tr>\n",
              "    <tr>\n",
              "      <th>2</th>\n",
              "      <td>1</td>\n",
              "      <td>TRANSFER</td>\n",
              "      <td>181.00</td>\n",
              "      <td>C1305486145</td>\n",
              "      <td>181.0</td>\n",
              "      <td>0.00</td>\n",
              "      <td>C553264065</td>\n",
              "      <td>0.0</td>\n",
              "      <td>0.0</td>\n",
              "      <td>1.0</td>\n",
              "      <td>0.0</td>\n",
              "    </tr>\n",
              "    <tr>\n",
              "      <th>3</th>\n",
              "      <td>1</td>\n",
              "      <td>CASH_OUT</td>\n",
              "      <td>181.00</td>\n",
              "      <td>C840083671</td>\n",
              "      <td>181.0</td>\n",
              "      <td>0.00</td>\n",
              "      <td>C38997010</td>\n",
              "      <td>21182.0</td>\n",
              "      <td>0.0</td>\n",
              "      <td>1.0</td>\n",
              "      <td>0.0</td>\n",
              "    </tr>\n",
              "    <tr>\n",
              "      <th>4</th>\n",
              "      <td>1</td>\n",
              "      <td>PAYMENT</td>\n",
              "      <td>11668.14</td>\n",
              "      <td>C2048537720</td>\n",
              "      <td>41554.0</td>\n",
              "      <td>29885.86</td>\n",
              "      <td>M1230701703</td>\n",
              "      <td>0.0</td>\n",
              "      <td>0.0</td>\n",
              "      <td>0.0</td>\n",
              "      <td>0.0</td>\n",
              "    </tr>\n",
              "  </tbody>\n",
              "</table>\n",
              "</div>\n",
              "      <button class=\"colab-df-convert\" onclick=\"convertToInteractive('df-8a215ff2-ceca-4c75-ab53-ec670a3e39b1')\"\n",
              "              title=\"Convert this dataframe to an interactive table.\"\n",
              "              style=\"display:none;\">\n",
              "        \n",
              "  <svg xmlns=\"http://www.w3.org/2000/svg\" height=\"24px\"viewBox=\"0 0 24 24\"\n",
              "       width=\"24px\">\n",
              "    <path d=\"M0 0h24v24H0V0z\" fill=\"none\"/>\n",
              "    <path d=\"M18.56 5.44l.94 2.06.94-2.06 2.06-.94-2.06-.94-.94-2.06-.94 2.06-2.06.94zm-11 1L8.5 8.5l.94-2.06 2.06-.94-2.06-.94L8.5 2.5l-.94 2.06-2.06.94zm10 10l.94 2.06.94-2.06 2.06-.94-2.06-.94-.94-2.06-.94 2.06-2.06.94z\"/><path d=\"M17.41 7.96l-1.37-1.37c-.4-.4-.92-.59-1.43-.59-.52 0-1.04.2-1.43.59L10.3 9.45l-7.72 7.72c-.78.78-.78 2.05 0 2.83L4 21.41c.39.39.9.59 1.41.59.51 0 1.02-.2 1.41-.59l7.78-7.78 2.81-2.81c.8-.78.8-2.07 0-2.86zM5.41 20L4 18.59l7.72-7.72 1.47 1.35L5.41 20z\"/>\n",
              "  </svg>\n",
              "      </button>\n",
              "      \n",
              "  <style>\n",
              "    .colab-df-container {\n",
              "      display:flex;\n",
              "      flex-wrap:wrap;\n",
              "      gap: 12px;\n",
              "    }\n",
              "\n",
              "    .colab-df-convert {\n",
              "      background-color: #E8F0FE;\n",
              "      border: none;\n",
              "      border-radius: 50%;\n",
              "      cursor: pointer;\n",
              "      display: none;\n",
              "      fill: #1967D2;\n",
              "      height: 32px;\n",
              "      padding: 0 0 0 0;\n",
              "      width: 32px;\n",
              "    }\n",
              "\n",
              "    .colab-df-convert:hover {\n",
              "      background-color: #E2EBFA;\n",
              "      box-shadow: 0px 1px 2px rgba(60, 64, 67, 0.3), 0px 1px 3px 1px rgba(60, 64, 67, 0.15);\n",
              "      fill: #174EA6;\n",
              "    }\n",
              "\n",
              "    [theme=dark] .colab-df-convert {\n",
              "      background-color: #3B4455;\n",
              "      fill: #D2E3FC;\n",
              "    }\n",
              "\n",
              "    [theme=dark] .colab-df-convert:hover {\n",
              "      background-color: #434B5C;\n",
              "      box-shadow: 0px 1px 3px 1px rgba(0, 0, 0, 0.15);\n",
              "      filter: drop-shadow(0px 1px 2px rgba(0, 0, 0, 0.3));\n",
              "      fill: #FFFFFF;\n",
              "    }\n",
              "  </style>\n",
              "\n",
              "      <script>\n",
              "        const buttonEl =\n",
              "          document.querySelector('#df-8a215ff2-ceca-4c75-ab53-ec670a3e39b1 button.colab-df-convert');\n",
              "        buttonEl.style.display =\n",
              "          google.colab.kernel.accessAllowed ? 'block' : 'none';\n",
              "\n",
              "        async function convertToInteractive(key) {\n",
              "          const element = document.querySelector('#df-8a215ff2-ceca-4c75-ab53-ec670a3e39b1');\n",
              "          const dataTable =\n",
              "            await google.colab.kernel.invokeFunction('convertToInteractive',\n",
              "                                                     [key], {});\n",
              "          if (!dataTable) return;\n",
              "\n",
              "          const docLinkHtml = 'Like what you see? Visit the ' +\n",
              "            '<a target=\"_blank\" href=https://colab.research.google.com/notebooks/data_table.ipynb>data table notebook</a>'\n",
              "            + ' to learn more about interactive tables.';\n",
              "          element.innerHTML = '';\n",
              "          dataTable['output_type'] = 'display_data';\n",
              "          await google.colab.output.renderOutput(dataTable, element);\n",
              "          const docLink = document.createElement('div');\n",
              "          docLink.innerHTML = docLinkHtml;\n",
              "          element.appendChild(docLink);\n",
              "        }\n",
              "      </script>\n",
              "    </div>\n",
              "  </div>\n",
              "  "
            ]
          },
          "metadata": {},
          "execution_count": 5
        }
      ],
      "source": [
        "# show data\n",
        "df.head()"
      ]
    },
    {
      "cell_type": "code",
      "execution_count": 6,
      "metadata": {
        "colab": {
          "base_uri": "https://localhost:8080/"
        },
        "id": "IT2wEFoKwn0q",
        "outputId": "bc2193a4-f2a5-4ff1-c632-10c2e1b61e10"
      },
      "outputs": [
        {
          "output_type": "execute_result",
          "data": {
            "text/plain": [
              "(28297, 11)"
            ]
          },
          "metadata": {},
          "execution_count": 6
        }
      ],
      "source": [
        "# shape\n",
        "df.shape"
      ]
    },
    {
      "cell_type": "markdown",
      "metadata": {
        "id": "jjTTgS5Lt1SY"
      },
      "source": [
        "# 1. Data cleaning including missing values, outliers and multi-collinearity. "
      ]
    },
    {
      "cell_type": "markdown",
      "metadata": {
        "id": "kpNCjmAKt4d0"
      },
      "source": [
        "## Missing value check"
      ]
    },
    {
      "cell_type": "code",
      "execution_count": 7,
      "metadata": {
        "colab": {
          "base_uri": "https://localhost:8080/"
        },
        "id": "aQ8VGoje7i5N",
        "outputId": "4077297f-0662-48a4-9416-85841bf0fa23"
      },
      "outputs": [
        {
          "output_type": "execute_result",
          "data": {
            "text/plain": [
              "step              0\n",
              "type              0\n",
              "amount            0\n",
              "nameOrig          0\n",
              "oldbalanceOrg     0\n",
              "newbalanceOrig    0\n",
              "nameDest          0\n",
              "oldbalanceDest    0\n",
              "newbalanceDest    0\n",
              "isFraud           1\n",
              "isFlaggedFraud    1\n",
              "dtype: int64"
            ]
          },
          "metadata": {},
          "execution_count": 7
        }
      ],
      "source": [
        "# check missing values\n",
        "df.isnull().sum()"
      ]
    },
    {
      "cell_type": "markdown",
      "metadata": {
        "id": "gD1ZYG_1wBF2"
      },
      "source": [
        "Three columns or attributes contains one Missing Value. Let's check them."
      ]
    },
    {
      "cell_type": "code",
      "execution_count": 76,
      "metadata": {
        "id": "XBulzSx17qKS"
      },
      "outputs": [],
      "source": [
        "# missing value\n",
        "# print(df.newbalanceDest[df.newbalanceDest.isnull()])\n",
        "# print(df.loc[69857])"
      ]
    },
    {
      "cell_type": "markdown",
      "metadata": {
        "id": "VoaWIFQ-yKKG"
      },
      "source": [
        "## Handling Missing & Duplicate values"
      ]
    },
    {
      "cell_type": "code",
      "execution_count": 11,
      "metadata": {
        "colab": {
          "base_uri": "https://localhost:8080/"
        },
        "id": "l0w0eJ8W77LP",
        "outputId": "0735472d-d22a-4f83-9151-0605f537b63d"
      },
      "outputs": [
        {
          "output_type": "stream",
          "name": "stdout",
          "text": [
            "Shape before: (28297, 11)\n",
            "Shape after: (28296, 11)\n"
          ]
        }
      ],
      "source": [
        "print(f\"Shape before: {df.shape}\")\n",
        "# drop missing values if any\n",
        "df.dropna(inplace=True)\n",
        "# drop duplicate values if any\n",
        "df.drop_duplicates(inplace=True)\n",
        "print(f\"Shape after: {df.shape}\")"
      ]
    },
    {
      "cell_type": "markdown",
      "metadata": {
        "id": "ipguk9Xa1ytL"
      },
      "source": [
        "## Categorical and Numerical columns"
      ]
    },
    {
      "cell_type": "code",
      "execution_count": 12,
      "metadata": {
        "colab": {
          "base_uri": "https://localhost:8080/"
        },
        "id": "LkTPpwwH12eH",
        "outputId": "23112bae-aceb-476e-deb9-bf9962fd5009"
      },
      "outputs": [
        {
          "output_type": "stream",
          "name": "stdout",
          "text": [
            "Categorical Columns: ['step', 'type', 'isFlaggedFraud']\n",
            "Numerical Columns: ['amount', 'nameOrig', 'oldbalanceOrg', 'newbalanceOrig', 'nameDest', 'oldbalanceDest', 'newbalanceDest']\n",
            "Target: isFraud\n"
          ]
        }
      ],
      "source": [
        "cat_cols = list(df.columns[df.nunique() <= 9])\n",
        "num_cols = list(df.columns[df.nunique() > 9])\n",
        "cat_cols.remove('isFraud')\n",
        "\n",
        "target = 'isFraud'\n",
        "\n",
        "print(f\"Categorical Columns: {cat_cols}\")\n",
        "print(f\"Numerical Columns: {num_cols}\")\n",
        "print(f\"Target: {target}\")"
      ]
    },
    {
      "cell_type": "markdown",
      "metadata": {
        "id": "K3v0PSvPynWS"
      },
      "source": [
        "## Outliers"
      ]
    },
    {
      "cell_type": "code",
      "execution_count": 78,
      "metadata": {
        "colab": {
          "base_uri": "https://localhost:8080/",
          "height": 1000
        },
        "id": "KqRc8lnY9S-0",
        "outputId": "52618327-bd45-4177-d787-b170abef614d"
      },
      "outputs": [
        {
          "output_type": "stream",
          "name": "stdout",
          "text": [
            "\n",
            "C A T E G O R I C A L\n",
            "\n",
            "--------------------\n"
          ]
        },
        {
          "output_type": "display_data",
          "data": {
            "text/plain": [
              "8    14295\n",
              "7     6837\n",
              "1     2708\n",
              "6     1660\n",
              "2     1014\n",
              "5      665\n",
              "4      565\n",
              "3      552\n",
              "Name: step, dtype: int64"
            ]
          },
          "metadata": {}
        },
        {
          "output_type": "stream",
          "name": "stdout",
          "text": [
            "------------------------------\n",
            "--------------------\n"
          ]
        },
        {
          "output_type": "display_data",
          "data": {
            "text/plain": [
              "PAYMENT     13913\n",
              "CASH_OUT     6108\n",
              "CASH_IN      5027\n",
              "TRANSFER     2735\n",
              "DEBIT         513\n",
              "Name: type, dtype: int64"
            ]
          },
          "metadata": {}
        },
        {
          "output_type": "stream",
          "name": "stdout",
          "text": [
            "------------------------------\n",
            "--------------------\n"
          ]
        },
        {
          "output_type": "display_data",
          "data": {
            "text/plain": [
              "0.0    28296\n",
              "Name: isFlaggedFraud, dtype: int64"
            ]
          },
          "metadata": {}
        },
        {
          "output_type": "stream",
          "name": "stdout",
          "text": [
            "------------------------------\n",
            "\n",
            "N U M E R I C A L\n",
            "\n",
            "--------------------\n"
          ]
        },
        {
          "output_type": "display_data",
          "data": {
            "text/plain": [
              "25975.86     3\n",
              "17320.91     3\n",
              "1996.17      2\n",
              "410.90       2\n",
              "1553.21      2\n",
              "            ..\n",
              "2510.38      1\n",
              "245565.33    1\n",
              "5128.14      1\n",
              "12910.33     1\n",
              "138651.85    1\n",
              "Name: amount, Length: 28181, dtype: int64"
            ]
          },
          "metadata": {}
        },
        {
          "output_type": "stream",
          "name": "stdout",
          "text": [
            "--------------------\n"
          ]
        },
        {
          "output_type": "display_data",
          "data": {
            "text/plain": [
              "31231006815    1\n",
              "31445639249    1\n",
              "31292614373    1\n",
              "365515468      1\n",
              "3292316998     1\n",
              "              ..\n",
              "31158016054    1\n",
              "3851514585     1\n",
              "3885018785     1\n",
              "31040066455    1\n",
              "3297851161     1\n",
              "Name: nameOrig, Length: 28296, dtype: int64"
            ]
          },
          "metadata": {}
        },
        {
          "output_type": "stream",
          "name": "stdout",
          "text": [
            "--------------------\n"
          ]
        },
        {
          "output_type": "display_data",
          "data": {
            "text/plain": [
              "0.00        8067\n",
              "181.00         9\n",
              "126.00         9\n",
              "122.00         9\n",
              "198.00         8\n",
              "            ... \n",
              "26811.00       1\n",
              "9411.56        1\n",
              "851.00         1\n",
              "19932.00       1\n",
              "2771.49        1\n",
              "Name: oldbalanceOrg, Length: 18645, dtype: int64"
            ]
          },
          "metadata": {}
        },
        {
          "output_type": "stream",
          "name": "stdout",
          "text": [
            "--------------------\n"
          ]
        },
        {
          "output_type": "display_data",
          "data": {
            "text/plain": [
              "0.00          13405\n",
              "4910403.44        3\n",
              "9506081.11        2\n",
              "2143395.30        2\n",
              "43796.95          2\n",
              "              ...  \n",
              "84461.17          1\n",
              "6715.49           1\n",
              "5654.95           1\n",
              "49676.03          1\n",
              "153590.44         1\n",
              "Name: newbalanceOrig, Length: 14860, dtype: int64"
            ]
          },
          "metadata": {}
        },
        {
          "output_type": "stream",
          "name": "stdout",
          "text": [
            "--------------------\n"
          ]
        },
        {
          "output_type": "display_data",
          "data": {
            "text/plain": [
              "3985934102      71\n",
              "31286084959     60\n",
              "31590550415     59\n",
              "32083562754     58\n",
              "3248609774      57\n",
              "                ..\n",
              "13234932558      1\n",
              "131653072658     1\n",
              "13206287129      1\n",
              "31692066743      1\n",
              "3345691183       1\n",
              "Name: nameDest, Length: 17076, dtype: int64"
            ]
          },
          "metadata": {}
        },
        {
          "output_type": "stream",
          "name": "stdout",
          "text": [
            "--------------------\n"
          ]
        },
        {
          "output_type": "display_data",
          "data": {
            "text/plain": [
              "0.00          15080\n",
              "102.00            4\n",
              "1700.00           3\n",
              "1122.00           2\n",
              "197.00            2\n",
              "              ...  \n",
              "534605.20         1\n",
              "147293.76         1\n",
              "1003154.90        1\n",
              "161722.17         1\n",
              "142758.39         1\n",
              "Name: oldbalanceDest, Length: 13180, dtype: int64"
            ]
          },
          "metadata": {}
        },
        {
          "output_type": "stream",
          "name": "stdout",
          "text": [
            "--------------------\n"
          ]
        },
        {
          "output_type": "display_data",
          "data": {
            "text/plain": [
              "0.00           15614\n",
              "971418.91         32\n",
              "19169204.93       29\n",
              "1254956.07        25\n",
              "16532032.16       24\n",
              "               ...  \n",
              "20171.92           1\n",
              "21428.12           1\n",
              "188715.38          1\n",
              "317588.81          1\n",
              "375659.14          1\n",
              "Name: newbalanceDest, Length: 3667, dtype: int64"
            ]
          },
          "metadata": {}
        }
      ],
      "source": [
        "print(\"\\nC A T E G O R I C A L\\n\")\n",
        "for col in cat_cols:\n",
        "  print(\"--\"*10)\n",
        "  display(df[col].value_counts())\n",
        "  print(\"--\"*15)\n",
        "\n",
        "print(\"\\nN U M E R I C A L\\n\")\n",
        "for col in num_cols:\n",
        "  print(\"--\"*10)\n",
        "  display(df[col].value_counts())"
      ]
    },
    {
      "cell_type": "markdown",
      "metadata": {
        "id": "1kf9brIM8azP"
      },
      "source": [
        "Numerical columns \"nameOrig\" and \"nameDest\" contains Letters along with the numbers. Now we need to treat it because ML Models will get confused due to the mixed datatype."
      ]
    },
    {
      "cell_type": "code",
      "execution_count": 14,
      "metadata": {
        "colab": {
          "base_uri": "https://localhost:8080/"
        },
        "id": "98wRov9m91SP",
        "outputId": "767c8e2f-43b9-4d5b-bc05-cecfb2a574d6"
      },
      "outputs": [
        {
          "output_type": "stream",
          "name": "stdout",
          "text": [
            "Before:  object\n",
            "After:  int64\n"
          ]
        }
      ],
      "source": [
        "print(\"Before: \",df[\"nameOrig\"].dtype)\n",
        "\n",
        "# handle letters inside it\n",
        "df[\"nameOrig\"] = df[\"nameOrig\"].str.replace(\"C\",\"3\")\n",
        "\n",
        "# convert datatype to numeric\n",
        "df[\"nameOrig\"] = pd.to_numeric(df[\"nameOrig\"])\n",
        "\n",
        "print(\"After: \",df[\"nameOrig\"].dtype)"
      ]
    },
    {
      "cell_type": "code",
      "execution_count": 15,
      "metadata": {
        "colab": {
          "base_uri": "https://localhost:8080/"
        },
        "id": "UIf7TCKt-MPE",
        "outputId": "0f52f9e9-f8e6-43d0-ae10-7a009a6fc910"
      },
      "outputs": [
        {
          "output_type": "execute_result",
          "data": {
            "text/plain": [
              "0        31231006815\n",
              "1        31666544295\n",
              "2        31305486145\n",
              "3         3840083671\n",
              "4        32048537720\n",
              "            ...     \n",
              "28291    31046801601\n",
              "28292     3457003860\n",
              "28293    31845952463\n",
              "28294     3140193335\n",
              "28295     3297851161\n",
              "Name: nameOrig, Length: 28296, dtype: int64"
            ]
          },
          "metadata": {},
          "execution_count": 15
        }
      ],
      "source": [
        "df[\"nameOrig\"]"
      ]
    },
    {
      "cell_type": "code",
      "execution_count": 16,
      "metadata": {
        "colab": {
          "base_uri": "https://localhost:8080/"
        },
        "id": "WrskaRd--Px5",
        "outputId": "4b6f3531-2532-4a32-9b9b-ca94fe081a52"
      },
      "outputs": [
        {
          "output_type": "execute_result",
          "data": {
            "text/plain": [
              "0        M1979787155\n",
              "1        M2044282225\n",
              "2         C553264065\n",
              "3          C38997010\n",
              "4        M1230701703\n",
              "            ...     \n",
              "28291     C766681183\n",
              "28292     C219416103\n",
              "28293     C483817115\n",
              "28294    C1326121635\n",
              "28295    C1034382650\n",
              "Name: nameDest, Length: 28296, dtype: object"
            ]
          },
          "metadata": {},
          "execution_count": 16
        }
      ],
      "source": [
        "df[\"nameDest\"]"
      ]
    },
    {
      "cell_type": "code",
      "execution_count": 17,
      "metadata": {
        "id": "mUmDqXZF-XPL"
      },
      "outputs": [],
      "source": [
        "def replace_letters(x):\n",
        "  alphabets = [\"A\",\"B\",\"C\",\"D\",\"E\",\"F\",\"G\",\"H\",\"I\",\"J\",\"K\",\"L\",\"M\",\"N\",\"O\",\"P\",\"Q\",\"R\",\"S\",\"T\",\"U\",\"V\",\"W\",\"X\",\"Y\",\"Z\"]\n",
        "  if x[0].isalpha():\n",
        "    for index,value in enumerate(alphabets):\n",
        "      if x[0] == value:\n",
        "        return x.replace(x[0],str(index+1))\n",
        "  return x.replace(x[0],str(0))"
      ]
    },
    {
      "cell_type": "code",
      "execution_count": 18,
      "metadata": {
        "colab": {
          "base_uri": "https://localhost:8080/"
        },
        "id": "wwwymfgP-hL3",
        "outputId": "912868f7-062c-4038-df29-f7eb6c576e9f"
      },
      "outputs": [
        {
          "output_type": "stream",
          "name": "stdout",
          "text": [
            "Before:  object\n",
            "After:  int64\n"
          ]
        }
      ],
      "source": [
        "print(\"Before: \",df[\"nameDest\"].dtype)\n",
        "df[\"nameDest\"] = df[\"nameDest\"].apply(replace_letters)\n",
        "df[\"nameDest\"] = pd.to_numeric(df[\"nameDest\"])\n",
        "print(\"After: \",df[\"nameDest\"].dtype)"
      ]
    },
    {
      "cell_type": "code",
      "execution_count": 19,
      "metadata": {
        "colab": {
          "base_uri": "https://localhost:8080/"
        },
        "id": "JEjeJVyy_JhY",
        "outputId": "cd99889d-bdab-4547-a5dd-cfa52c4958b6"
      },
      "outputs": [
        {
          "output_type": "stream",
          "name": "stdout",
          "text": [
            "<class 'pandas.core.frame.DataFrame'>\n",
            "Int64Index: 28296 entries, 0 to 28295\n",
            "Data columns (total 3 columns):\n",
            " #   Column          Non-Null Count  Dtype  \n",
            "---  ------          --------------  -----  \n",
            " 0   step            28296 non-null  int64  \n",
            " 1   type            28296 non-null  object \n",
            " 2   isFlaggedFraud  28296 non-null  float64\n",
            "dtypes: float64(1), int64(1), object(1)\n",
            "memory usage: 884.2+ KB\n"
          ]
        }
      ],
      "source": [
        "df[cat_cols].info()"
      ]
    },
    {
      "cell_type": "code",
      "execution_count": 20,
      "metadata": {
        "colab": {
          "base_uri": "https://localhost:8080/"
        },
        "id": "AX6YGdU1A9H9",
        "outputId": "c129aa1a-218a-48d8-c460-4040e3d544e8"
      },
      "outputs": [
        {
          "output_type": "stream",
          "name": "stdout",
          "text": [
            "<class 'pandas.core.frame.DataFrame'>\n",
            "Int64Index: 28296 entries, 0 to 28295\n",
            "Data columns (total 7 columns):\n",
            " #   Column          Non-Null Count  Dtype  \n",
            "---  ------          --------------  -----  \n",
            " 0   amount          28296 non-null  float64\n",
            " 1   nameOrig        28296 non-null  int64  \n",
            " 2   oldbalanceOrg   28296 non-null  float64\n",
            " 3   newbalanceOrig  28296 non-null  float64\n",
            " 4   nameDest        28296 non-null  int64  \n",
            " 5   oldbalanceDest  28296 non-null  float64\n",
            " 6   newbalanceDest  28296 non-null  float64\n",
            "dtypes: float64(5), int64(2)\n",
            "memory usage: 1.7 MB\n"
          ]
        }
      ],
      "source": [
        "df[num_cols].info()"
      ]
    },
    {
      "cell_type": "markdown",
      "source": [
        "# 2. Describe your fraud detection model in elaboration."
      ],
      "metadata": {
        "id": "83UwGV1_44_p"
      }
    },
    {
      "cell_type": "markdown",
      "metadata": {
        "id": "rk0wu-pJEE1O"
      },
      "source": [
        "## Target class check"
      ]
    },
    {
      "cell_type": "code",
      "execution_count": 21,
      "metadata": {
        "colab": {
          "base_uri": "https://localhost:8080/"
        },
        "id": "rckIjpovB8rF",
        "outputId": "b65d3237-cf96-44a3-a4f4-d43a03e74a0a"
      },
      "outputs": [
        {
          "output_type": "execute_result",
          "data": {
            "text/plain": [
              "0.0    0.997031\n",
              "1.0    0.002969\n",
              "Name: isFraud, dtype: float64"
            ]
          },
          "metadata": {},
          "execution_count": 21
        }
      ],
      "source": [
        "df.isFraud.value_counts(normalize=True)"
      ]
    },
    {
      "cell_type": "markdown",
      "metadata": {
        "id": "P7Iz9EIqGP38"
      },
      "source": [
        "We can clearly see that the Target Column is **Imbalanced.** Therefore, it's better to use **Stratified K-Fold Cross Validation** that preserves the class distribution in each fold."
      ]
    },
    {
      "cell_type": "markdown",
      "metadata": {
        "id": "g7ww9fvCIDrE"
      },
      "source": [
        "# Train Test Split"
      ]
    },
    {
      "cell_type": "code",
      "execution_count": 22,
      "metadata": {
        "colab": {
          "base_uri": "https://localhost:8080/"
        },
        "id": "Bt3J1ybdDtrj",
        "outputId": "996f49cc-11d8-460e-d2c8-79412bbdfb27"
      },
      "outputs": [
        {
          "output_type": "execute_result",
          "data": {
            "text/plain": [
              "((22636, 10), (5660, 10), (22636,), (5660,))"
            ]
          },
          "metadata": {},
          "execution_count": 22
        }
      ],
      "source": [
        "X = df.drop(\"isFraud\",axis=1)\n",
        "y = df.isFraud\n",
        "X_train,X_test, y_train,y_test = train_test_split(X,y,test_size = 0.2,stratify=y)\n",
        "\n",
        "X_train.shape,X_test.shape, y_train.shape,y_test.shape"
      ]
    },
    {
      "cell_type": "markdown",
      "metadata": {
        "id": "KtHlTbE1KDBo"
      },
      "source": [
        "## OneHotEncoding"
      ]
    },
    {
      "cell_type": "code",
      "execution_count": 23,
      "metadata": {
        "colab": {
          "base_uri": "https://localhost:8080/",
          "height": 288
        },
        "id": "yuP8juMaJOdZ",
        "outputId": "29cff853-211d-4018-b20a-7eb7433b6586"
      },
      "outputs": [
        {
          "output_type": "stream",
          "name": "stdout",
          "text": [
            "(22636, 16)\n"
          ]
        },
        {
          "output_type": "execute_result",
          "data": {
            "text/plain": [
              "       step      type     amount     nameOrig  oldbalanceOrg  newbalanceOrig  \\\n",
              "143       1   PAYMENT    8550.90  31795225096       40060.00        31509.10   \n",
              "21351     8  CASH_OUT   84675.82   3573086220           0.00            0.00   \n",
              "23094     8   CASH_IN   20879.30    343891835     3360398.39      3381277.69   \n",
              "17878     8   CASH_IN   55981.26   3382595762     3681203.14      3737184.40   \n",
              "18091     8  CASH_OUT  282236.96  31902450382         567.00            0.00   \n",
              "\n",
              "          nameDest  oldbalanceDest  newbalanceDest  isFlaggedFraud  step  \\\n",
              "143    13790094605            0.00            0.00             0.0     1   \n",
              "21351  31100439041       168705.77       419710.62             0.0     8   \n",
              "23094  32066777507        24156.59         3277.29             0.0     8   \n",
              "17878   3392292416      4759923.96      6564973.20             0.0     8   \n",
              "18091   3711248671       182125.58      1522032.15             0.0     8   \n",
              "\n",
              "       isFlaggedFraud  type_CASH_OUT  type_DEBIT  type_PAYMENT  type_TRANSFER  \n",
              "143               0.0              0           0             1              0  \n",
              "21351             0.0              1           0             0              0  \n",
              "23094             0.0              0           0             0              0  \n",
              "17878             0.0              0           0             0              0  \n",
              "18091             0.0              1           0             0              0  "
            ],
            "text/html": [
              "\n",
              "  <div id=\"df-b1e360da-8a8c-4667-b203-6fd09c98d979\">\n",
              "    <div class=\"colab-df-container\">\n",
              "      <div>\n",
              "<style scoped>\n",
              "    .dataframe tbody tr th:only-of-type {\n",
              "        vertical-align: middle;\n",
              "    }\n",
              "\n",
              "    .dataframe tbody tr th {\n",
              "        vertical-align: top;\n",
              "    }\n",
              "\n",
              "    .dataframe thead th {\n",
              "        text-align: right;\n",
              "    }\n",
              "</style>\n",
              "<table border=\"1\" class=\"dataframe\">\n",
              "  <thead>\n",
              "    <tr style=\"text-align: right;\">\n",
              "      <th></th>\n",
              "      <th>step</th>\n",
              "      <th>type</th>\n",
              "      <th>amount</th>\n",
              "      <th>nameOrig</th>\n",
              "      <th>oldbalanceOrg</th>\n",
              "      <th>newbalanceOrig</th>\n",
              "      <th>nameDest</th>\n",
              "      <th>oldbalanceDest</th>\n",
              "      <th>newbalanceDest</th>\n",
              "      <th>isFlaggedFraud</th>\n",
              "      <th>step</th>\n",
              "      <th>isFlaggedFraud</th>\n",
              "      <th>type_CASH_OUT</th>\n",
              "      <th>type_DEBIT</th>\n",
              "      <th>type_PAYMENT</th>\n",
              "      <th>type_TRANSFER</th>\n",
              "    </tr>\n",
              "  </thead>\n",
              "  <tbody>\n",
              "    <tr>\n",
              "      <th>143</th>\n",
              "      <td>1</td>\n",
              "      <td>PAYMENT</td>\n",
              "      <td>8550.90</td>\n",
              "      <td>31795225096</td>\n",
              "      <td>40060.00</td>\n",
              "      <td>31509.10</td>\n",
              "      <td>13790094605</td>\n",
              "      <td>0.00</td>\n",
              "      <td>0.00</td>\n",
              "      <td>0.0</td>\n",
              "      <td>1</td>\n",
              "      <td>0.0</td>\n",
              "      <td>0</td>\n",
              "      <td>0</td>\n",
              "      <td>1</td>\n",
              "      <td>0</td>\n",
              "    </tr>\n",
              "    <tr>\n",
              "      <th>21351</th>\n",
              "      <td>8</td>\n",
              "      <td>CASH_OUT</td>\n",
              "      <td>84675.82</td>\n",
              "      <td>3573086220</td>\n",
              "      <td>0.00</td>\n",
              "      <td>0.00</td>\n",
              "      <td>31100439041</td>\n",
              "      <td>168705.77</td>\n",
              "      <td>419710.62</td>\n",
              "      <td>0.0</td>\n",
              "      <td>8</td>\n",
              "      <td>0.0</td>\n",
              "      <td>1</td>\n",
              "      <td>0</td>\n",
              "      <td>0</td>\n",
              "      <td>0</td>\n",
              "    </tr>\n",
              "    <tr>\n",
              "      <th>23094</th>\n",
              "      <td>8</td>\n",
              "      <td>CASH_IN</td>\n",
              "      <td>20879.30</td>\n",
              "      <td>343891835</td>\n",
              "      <td>3360398.39</td>\n",
              "      <td>3381277.69</td>\n",
              "      <td>32066777507</td>\n",
              "      <td>24156.59</td>\n",
              "      <td>3277.29</td>\n",
              "      <td>0.0</td>\n",
              "      <td>8</td>\n",
              "      <td>0.0</td>\n",
              "      <td>0</td>\n",
              "      <td>0</td>\n",
              "      <td>0</td>\n",
              "      <td>0</td>\n",
              "    </tr>\n",
              "    <tr>\n",
              "      <th>17878</th>\n",
              "      <td>8</td>\n",
              "      <td>CASH_IN</td>\n",
              "      <td>55981.26</td>\n",
              "      <td>3382595762</td>\n",
              "      <td>3681203.14</td>\n",
              "      <td>3737184.40</td>\n",
              "      <td>3392292416</td>\n",
              "      <td>4759923.96</td>\n",
              "      <td>6564973.20</td>\n",
              "      <td>0.0</td>\n",
              "      <td>8</td>\n",
              "      <td>0.0</td>\n",
              "      <td>0</td>\n",
              "      <td>0</td>\n",
              "      <td>0</td>\n",
              "      <td>0</td>\n",
              "    </tr>\n",
              "    <tr>\n",
              "      <th>18091</th>\n",
              "      <td>8</td>\n",
              "      <td>CASH_OUT</td>\n",
              "      <td>282236.96</td>\n",
              "      <td>31902450382</td>\n",
              "      <td>567.00</td>\n",
              "      <td>0.00</td>\n",
              "      <td>3711248671</td>\n",
              "      <td>182125.58</td>\n",
              "      <td>1522032.15</td>\n",
              "      <td>0.0</td>\n",
              "      <td>8</td>\n",
              "      <td>0.0</td>\n",
              "      <td>1</td>\n",
              "      <td>0</td>\n",
              "      <td>0</td>\n",
              "      <td>0</td>\n",
              "    </tr>\n",
              "  </tbody>\n",
              "</table>\n",
              "</div>\n",
              "      <button class=\"colab-df-convert\" onclick=\"convertToInteractive('df-b1e360da-8a8c-4667-b203-6fd09c98d979')\"\n",
              "              title=\"Convert this dataframe to an interactive table.\"\n",
              "              style=\"display:none;\">\n",
              "        \n",
              "  <svg xmlns=\"http://www.w3.org/2000/svg\" height=\"24px\"viewBox=\"0 0 24 24\"\n",
              "       width=\"24px\">\n",
              "    <path d=\"M0 0h24v24H0V0z\" fill=\"none\"/>\n",
              "    <path d=\"M18.56 5.44l.94 2.06.94-2.06 2.06-.94-2.06-.94-.94-2.06-.94 2.06-2.06.94zm-11 1L8.5 8.5l.94-2.06 2.06-.94-2.06-.94L8.5 2.5l-.94 2.06-2.06.94zm10 10l.94 2.06.94-2.06 2.06-.94-2.06-.94-.94-2.06-.94 2.06-2.06.94z\"/><path d=\"M17.41 7.96l-1.37-1.37c-.4-.4-.92-.59-1.43-.59-.52 0-1.04.2-1.43.59L10.3 9.45l-7.72 7.72c-.78.78-.78 2.05 0 2.83L4 21.41c.39.39.9.59 1.41.59.51 0 1.02-.2 1.41-.59l7.78-7.78 2.81-2.81c.8-.78.8-2.07 0-2.86zM5.41 20L4 18.59l7.72-7.72 1.47 1.35L5.41 20z\"/>\n",
              "  </svg>\n",
              "      </button>\n",
              "      \n",
              "  <style>\n",
              "    .colab-df-container {\n",
              "      display:flex;\n",
              "      flex-wrap:wrap;\n",
              "      gap: 12px;\n",
              "    }\n",
              "\n",
              "    .colab-df-convert {\n",
              "      background-color: #E8F0FE;\n",
              "      border: none;\n",
              "      border-radius: 50%;\n",
              "      cursor: pointer;\n",
              "      display: none;\n",
              "      fill: #1967D2;\n",
              "      height: 32px;\n",
              "      padding: 0 0 0 0;\n",
              "      width: 32px;\n",
              "    }\n",
              "\n",
              "    .colab-df-convert:hover {\n",
              "      background-color: #E2EBFA;\n",
              "      box-shadow: 0px 1px 2px rgba(60, 64, 67, 0.3), 0px 1px 3px 1px rgba(60, 64, 67, 0.15);\n",
              "      fill: #174EA6;\n",
              "    }\n",
              "\n",
              "    [theme=dark] .colab-df-convert {\n",
              "      background-color: #3B4455;\n",
              "      fill: #D2E3FC;\n",
              "    }\n",
              "\n",
              "    [theme=dark] .colab-df-convert:hover {\n",
              "      background-color: #434B5C;\n",
              "      box-shadow: 0px 1px 3px 1px rgba(0, 0, 0, 0.15);\n",
              "      filter: drop-shadow(0px 1px 2px rgba(0, 0, 0, 0.3));\n",
              "      fill: #FFFFFF;\n",
              "    }\n",
              "  </style>\n",
              "\n",
              "      <script>\n",
              "        const buttonEl =\n",
              "          document.querySelector('#df-b1e360da-8a8c-4667-b203-6fd09c98d979 button.colab-df-convert');\n",
              "        buttonEl.style.display =\n",
              "          google.colab.kernel.accessAllowed ? 'block' : 'none';\n",
              "\n",
              "        async function convertToInteractive(key) {\n",
              "          const element = document.querySelector('#df-b1e360da-8a8c-4667-b203-6fd09c98d979');\n",
              "          const dataTable =\n",
              "            await google.colab.kernel.invokeFunction('convertToInteractive',\n",
              "                                                     [key], {});\n",
              "          if (!dataTable) return;\n",
              "\n",
              "          const docLinkHtml = 'Like what you see? Visit the ' +\n",
              "            '<a target=\"_blank\" href=https://colab.research.google.com/notebooks/data_table.ipynb>data table notebook</a>'\n",
              "            + ' to learn more about interactive tables.';\n",
              "          element.innerHTML = '';\n",
              "          dataTable['output_type'] = 'display_data';\n",
              "          await google.colab.output.renderOutput(dataTable, element);\n",
              "          const docLink = document.createElement('div');\n",
              "          docLink.innerHTML = docLinkHtml;\n",
              "          element.appendChild(docLink);\n",
              "        }\n",
              "      </script>\n",
              "    </div>\n",
              "  </div>\n",
              "  "
            ]
          },
          "metadata": {},
          "execution_count": 23
        }
      ],
      "source": [
        "# For X_train\n",
        "dummy = pd.get_dummies(X_train[cat_cols], drop_first=True)\n",
        "\n",
        "# Add the result to the master dataframe\n",
        "X_train = pd.concat([X_train, dummy], axis=1)\n",
        "\n",
        "print(X_train.shape)\n",
        "X_train.head()"
      ]
    },
    {
      "cell_type": "code",
      "execution_count": 24,
      "metadata": {
        "colab": {
          "base_uri": "https://localhost:8080/",
          "height": 268
        },
        "id": "SZ9BLBERKz6D",
        "outputId": "1fdc0b9b-56e1-4f8e-d4c5-d063d9a8d6f7"
      },
      "outputs": [
        {
          "output_type": "stream",
          "name": "stdout",
          "text": [
            "(22636, 11)\n"
          ]
        },
        {
          "output_type": "execute_result",
          "data": {
            "text/plain": [
              "          amount     nameOrig  oldbalanceOrg  newbalanceOrig     nameDest  \\\n",
              "143      8550.90  31795225096       40060.00        31509.10  13790094605   \n",
              "21351   84675.82   3573086220           0.00            0.00  31100439041   \n",
              "23094   20879.30    343891835     3360398.39      3381277.69  32066777507   \n",
              "17878   55981.26   3382595762     3681203.14      3737184.40   3392292416   \n",
              "18091  282236.96  31902450382         567.00            0.00   3711248671   \n",
              "\n",
              "       oldbalanceDest  newbalanceDest  type_CASH_OUT  type_DEBIT  \\\n",
              "143              0.00            0.00              0           0   \n",
              "21351       168705.77       419710.62              1           0   \n",
              "23094        24156.59         3277.29              0           0   \n",
              "17878      4759923.96      6564973.20              0           0   \n",
              "18091       182125.58      1522032.15              1           0   \n",
              "\n",
              "       type_PAYMENT  type_TRANSFER  \n",
              "143               1              0  \n",
              "21351             0              0  \n",
              "23094             0              0  \n",
              "17878             0              0  \n",
              "18091             0              0  "
            ],
            "text/html": [
              "\n",
              "  <div id=\"df-37d7973b-2e3c-41f4-9f10-926052d36b0a\">\n",
              "    <div class=\"colab-df-container\">\n",
              "      <div>\n",
              "<style scoped>\n",
              "    .dataframe tbody tr th:only-of-type {\n",
              "        vertical-align: middle;\n",
              "    }\n",
              "\n",
              "    .dataframe tbody tr th {\n",
              "        vertical-align: top;\n",
              "    }\n",
              "\n",
              "    .dataframe thead th {\n",
              "        text-align: right;\n",
              "    }\n",
              "</style>\n",
              "<table border=\"1\" class=\"dataframe\">\n",
              "  <thead>\n",
              "    <tr style=\"text-align: right;\">\n",
              "      <th></th>\n",
              "      <th>amount</th>\n",
              "      <th>nameOrig</th>\n",
              "      <th>oldbalanceOrg</th>\n",
              "      <th>newbalanceOrig</th>\n",
              "      <th>nameDest</th>\n",
              "      <th>oldbalanceDest</th>\n",
              "      <th>newbalanceDest</th>\n",
              "      <th>type_CASH_OUT</th>\n",
              "      <th>type_DEBIT</th>\n",
              "      <th>type_PAYMENT</th>\n",
              "      <th>type_TRANSFER</th>\n",
              "    </tr>\n",
              "  </thead>\n",
              "  <tbody>\n",
              "    <tr>\n",
              "      <th>143</th>\n",
              "      <td>8550.90</td>\n",
              "      <td>31795225096</td>\n",
              "      <td>40060.00</td>\n",
              "      <td>31509.10</td>\n",
              "      <td>13790094605</td>\n",
              "      <td>0.00</td>\n",
              "      <td>0.00</td>\n",
              "      <td>0</td>\n",
              "      <td>0</td>\n",
              "      <td>1</td>\n",
              "      <td>0</td>\n",
              "    </tr>\n",
              "    <tr>\n",
              "      <th>21351</th>\n",
              "      <td>84675.82</td>\n",
              "      <td>3573086220</td>\n",
              "      <td>0.00</td>\n",
              "      <td>0.00</td>\n",
              "      <td>31100439041</td>\n",
              "      <td>168705.77</td>\n",
              "      <td>419710.62</td>\n",
              "      <td>1</td>\n",
              "      <td>0</td>\n",
              "      <td>0</td>\n",
              "      <td>0</td>\n",
              "    </tr>\n",
              "    <tr>\n",
              "      <th>23094</th>\n",
              "      <td>20879.30</td>\n",
              "      <td>343891835</td>\n",
              "      <td>3360398.39</td>\n",
              "      <td>3381277.69</td>\n",
              "      <td>32066777507</td>\n",
              "      <td>24156.59</td>\n",
              "      <td>3277.29</td>\n",
              "      <td>0</td>\n",
              "      <td>0</td>\n",
              "      <td>0</td>\n",
              "      <td>0</td>\n",
              "    </tr>\n",
              "    <tr>\n",
              "      <th>17878</th>\n",
              "      <td>55981.26</td>\n",
              "      <td>3382595762</td>\n",
              "      <td>3681203.14</td>\n",
              "      <td>3737184.40</td>\n",
              "      <td>3392292416</td>\n",
              "      <td>4759923.96</td>\n",
              "      <td>6564973.20</td>\n",
              "      <td>0</td>\n",
              "      <td>0</td>\n",
              "      <td>0</td>\n",
              "      <td>0</td>\n",
              "    </tr>\n",
              "    <tr>\n",
              "      <th>18091</th>\n",
              "      <td>282236.96</td>\n",
              "      <td>31902450382</td>\n",
              "      <td>567.00</td>\n",
              "      <td>0.00</td>\n",
              "      <td>3711248671</td>\n",
              "      <td>182125.58</td>\n",
              "      <td>1522032.15</td>\n",
              "      <td>1</td>\n",
              "      <td>0</td>\n",
              "      <td>0</td>\n",
              "      <td>0</td>\n",
              "    </tr>\n",
              "  </tbody>\n",
              "</table>\n",
              "</div>\n",
              "      <button class=\"colab-df-convert\" onclick=\"convertToInteractive('df-37d7973b-2e3c-41f4-9f10-926052d36b0a')\"\n",
              "              title=\"Convert this dataframe to an interactive table.\"\n",
              "              style=\"display:none;\">\n",
              "        \n",
              "  <svg xmlns=\"http://www.w3.org/2000/svg\" height=\"24px\"viewBox=\"0 0 24 24\"\n",
              "       width=\"24px\">\n",
              "    <path d=\"M0 0h24v24H0V0z\" fill=\"none\"/>\n",
              "    <path d=\"M18.56 5.44l.94 2.06.94-2.06 2.06-.94-2.06-.94-.94-2.06-.94 2.06-2.06.94zm-11 1L8.5 8.5l.94-2.06 2.06-.94-2.06-.94L8.5 2.5l-.94 2.06-2.06.94zm10 10l.94 2.06.94-2.06 2.06-.94-2.06-.94-.94-2.06-.94 2.06-2.06.94z\"/><path d=\"M17.41 7.96l-1.37-1.37c-.4-.4-.92-.59-1.43-.59-.52 0-1.04.2-1.43.59L10.3 9.45l-7.72 7.72c-.78.78-.78 2.05 0 2.83L4 21.41c.39.39.9.59 1.41.59.51 0 1.02-.2 1.41-.59l7.78-7.78 2.81-2.81c.8-.78.8-2.07 0-2.86zM5.41 20L4 18.59l7.72-7.72 1.47 1.35L5.41 20z\"/>\n",
              "  </svg>\n",
              "      </button>\n",
              "      \n",
              "  <style>\n",
              "    .colab-df-container {\n",
              "      display:flex;\n",
              "      flex-wrap:wrap;\n",
              "      gap: 12px;\n",
              "    }\n",
              "\n",
              "    .colab-df-convert {\n",
              "      background-color: #E8F0FE;\n",
              "      border: none;\n",
              "      border-radius: 50%;\n",
              "      cursor: pointer;\n",
              "      display: none;\n",
              "      fill: #1967D2;\n",
              "      height: 32px;\n",
              "      padding: 0 0 0 0;\n",
              "      width: 32px;\n",
              "    }\n",
              "\n",
              "    .colab-df-convert:hover {\n",
              "      background-color: #E2EBFA;\n",
              "      box-shadow: 0px 1px 2px rgba(60, 64, 67, 0.3), 0px 1px 3px 1px rgba(60, 64, 67, 0.15);\n",
              "      fill: #174EA6;\n",
              "    }\n",
              "\n",
              "    [theme=dark] .colab-df-convert {\n",
              "      background-color: #3B4455;\n",
              "      fill: #D2E3FC;\n",
              "    }\n",
              "\n",
              "    [theme=dark] .colab-df-convert:hover {\n",
              "      background-color: #434B5C;\n",
              "      box-shadow: 0px 1px 3px 1px rgba(0, 0, 0, 0.15);\n",
              "      filter: drop-shadow(0px 1px 2px rgba(0, 0, 0, 0.3));\n",
              "      fill: #FFFFFF;\n",
              "    }\n",
              "  </style>\n",
              "\n",
              "      <script>\n",
              "        const buttonEl =\n",
              "          document.querySelector('#df-37d7973b-2e3c-41f4-9f10-926052d36b0a button.colab-df-convert');\n",
              "        buttonEl.style.display =\n",
              "          google.colab.kernel.accessAllowed ? 'block' : 'none';\n",
              "\n",
              "        async function convertToInteractive(key) {\n",
              "          const element = document.querySelector('#df-37d7973b-2e3c-41f4-9f10-926052d36b0a');\n",
              "          const dataTable =\n",
              "            await google.colab.kernel.invokeFunction('convertToInteractive',\n",
              "                                                     [key], {});\n",
              "          if (!dataTable) return;\n",
              "\n",
              "          const docLinkHtml = 'Like what you see? Visit the ' +\n",
              "            '<a target=\"_blank\" href=https://colab.research.google.com/notebooks/data_table.ipynb>data table notebook</a>'\n",
              "            + ' to learn more about interactive tables.';\n",
              "          element.innerHTML = '';\n",
              "          dataTable['output_type'] = 'display_data';\n",
              "          await google.colab.output.renderOutput(dataTable, element);\n",
              "          const docLink = document.createElement('div');\n",
              "          docLink.innerHTML = docLinkHtml;\n",
              "          element.appendChild(docLink);\n",
              "        }\n",
              "      </script>\n",
              "    </div>\n",
              "  </div>\n",
              "  "
            ]
          },
          "metadata": {},
          "execution_count": 24
        }
      ],
      "source": [
        "X_train.drop(cat_cols, axis=1, inplace=True)\n",
        "print(X_train.shape)\n",
        "X_train.head()"
      ]
    },
    {
      "cell_type": "code",
      "execution_count": 25,
      "metadata": {
        "colab": {
          "base_uri": "https://localhost:8080/",
          "height": 288
        },
        "id": "G0UkVE8RK7Ay",
        "outputId": "7dec0efd-1117-4967-a8f3-95351ac6166b"
      },
      "outputs": [
        {
          "output_type": "stream",
          "name": "stdout",
          "text": [
            "(5660, 16)\n"
          ]
        },
        {
          "output_type": "execute_result",
          "data": {
            "text/plain": [
              "       step      type     amount     nameOrig  oldbalanceOrg  newbalanceOrig  \\\n",
              "804       1  TRANSFER  326349.91  31950136544           0.00            0.00   \n",
              "9578      7   PAYMENT   34061.71   3944009331           0.00            0.00   \n",
              "7483      7  CASH_OUT  157442.78   3402104751           0.00            0.00   \n",
              "16625     8  CASH_OUT  314756.65   3438909887      102924.00            0.00   \n",
              "28079     8   PAYMENT    2693.56   3743080989      535054.62       532361.05   \n",
              "\n",
              "           nameDest  oldbalanceDest  newbalanceDest  isFlaggedFraud  step  \\\n",
              "804      3564160838       778150.49      1254956.07             0.0     1   \n",
              "9578   131458893701            0.00            0.00             0.0     7   \n",
              "7483    31477979030      9231426.19     10780596.35             0.0     7   \n",
              "16625   31870237274            0.00      1180032.06             0.0     8   \n",
              "28079   13748104388            0.00            0.00             0.0     8   \n",
              "\n",
              "       isFlaggedFraud  type_CASH_OUT  type_DEBIT  type_PAYMENT  type_TRANSFER  \n",
              "804               0.0              0           0             0              1  \n",
              "9578              0.0              0           0             1              0  \n",
              "7483              0.0              1           0             0              0  \n",
              "16625             0.0              1           0             0              0  \n",
              "28079             0.0              0           0             1              0  "
            ],
            "text/html": [
              "\n",
              "  <div id=\"df-c803d1da-c414-474d-97b4-e9fbbd4bc87d\">\n",
              "    <div class=\"colab-df-container\">\n",
              "      <div>\n",
              "<style scoped>\n",
              "    .dataframe tbody tr th:only-of-type {\n",
              "        vertical-align: middle;\n",
              "    }\n",
              "\n",
              "    .dataframe tbody tr th {\n",
              "        vertical-align: top;\n",
              "    }\n",
              "\n",
              "    .dataframe thead th {\n",
              "        text-align: right;\n",
              "    }\n",
              "</style>\n",
              "<table border=\"1\" class=\"dataframe\">\n",
              "  <thead>\n",
              "    <tr style=\"text-align: right;\">\n",
              "      <th></th>\n",
              "      <th>step</th>\n",
              "      <th>type</th>\n",
              "      <th>amount</th>\n",
              "      <th>nameOrig</th>\n",
              "      <th>oldbalanceOrg</th>\n",
              "      <th>newbalanceOrig</th>\n",
              "      <th>nameDest</th>\n",
              "      <th>oldbalanceDest</th>\n",
              "      <th>newbalanceDest</th>\n",
              "      <th>isFlaggedFraud</th>\n",
              "      <th>step</th>\n",
              "      <th>isFlaggedFraud</th>\n",
              "      <th>type_CASH_OUT</th>\n",
              "      <th>type_DEBIT</th>\n",
              "      <th>type_PAYMENT</th>\n",
              "      <th>type_TRANSFER</th>\n",
              "    </tr>\n",
              "  </thead>\n",
              "  <tbody>\n",
              "    <tr>\n",
              "      <th>804</th>\n",
              "      <td>1</td>\n",
              "      <td>TRANSFER</td>\n",
              "      <td>326349.91</td>\n",
              "      <td>31950136544</td>\n",
              "      <td>0.00</td>\n",
              "      <td>0.00</td>\n",
              "      <td>3564160838</td>\n",
              "      <td>778150.49</td>\n",
              "      <td>1254956.07</td>\n",
              "      <td>0.0</td>\n",
              "      <td>1</td>\n",
              "      <td>0.0</td>\n",
              "      <td>0</td>\n",
              "      <td>0</td>\n",
              "      <td>0</td>\n",
              "      <td>1</td>\n",
              "    </tr>\n",
              "    <tr>\n",
              "      <th>9578</th>\n",
              "      <td>7</td>\n",
              "      <td>PAYMENT</td>\n",
              "      <td>34061.71</td>\n",
              "      <td>3944009331</td>\n",
              "      <td>0.00</td>\n",
              "      <td>0.00</td>\n",
              "      <td>131458893701</td>\n",
              "      <td>0.00</td>\n",
              "      <td>0.00</td>\n",
              "      <td>0.0</td>\n",
              "      <td>7</td>\n",
              "      <td>0.0</td>\n",
              "      <td>0</td>\n",
              "      <td>0</td>\n",
              "      <td>1</td>\n",
              "      <td>0</td>\n",
              "    </tr>\n",
              "    <tr>\n",
              "      <th>7483</th>\n",
              "      <td>7</td>\n",
              "      <td>CASH_OUT</td>\n",
              "      <td>157442.78</td>\n",
              "      <td>3402104751</td>\n",
              "      <td>0.00</td>\n",
              "      <td>0.00</td>\n",
              "      <td>31477979030</td>\n",
              "      <td>9231426.19</td>\n",
              "      <td>10780596.35</td>\n",
              "      <td>0.0</td>\n",
              "      <td>7</td>\n",
              "      <td>0.0</td>\n",
              "      <td>1</td>\n",
              "      <td>0</td>\n",
              "      <td>0</td>\n",
              "      <td>0</td>\n",
              "    </tr>\n",
              "    <tr>\n",
              "      <th>16625</th>\n",
              "      <td>8</td>\n",
              "      <td>CASH_OUT</td>\n",
              "      <td>314756.65</td>\n",
              "      <td>3438909887</td>\n",
              "      <td>102924.00</td>\n",
              "      <td>0.00</td>\n",
              "      <td>31870237274</td>\n",
              "      <td>0.00</td>\n",
              "      <td>1180032.06</td>\n",
              "      <td>0.0</td>\n",
              "      <td>8</td>\n",
              "      <td>0.0</td>\n",
              "      <td>1</td>\n",
              "      <td>0</td>\n",
              "      <td>0</td>\n",
              "      <td>0</td>\n",
              "    </tr>\n",
              "    <tr>\n",
              "      <th>28079</th>\n",
              "      <td>8</td>\n",
              "      <td>PAYMENT</td>\n",
              "      <td>2693.56</td>\n",
              "      <td>3743080989</td>\n",
              "      <td>535054.62</td>\n",
              "      <td>532361.05</td>\n",
              "      <td>13748104388</td>\n",
              "      <td>0.00</td>\n",
              "      <td>0.00</td>\n",
              "      <td>0.0</td>\n",
              "      <td>8</td>\n",
              "      <td>0.0</td>\n",
              "      <td>0</td>\n",
              "      <td>0</td>\n",
              "      <td>1</td>\n",
              "      <td>0</td>\n",
              "    </tr>\n",
              "  </tbody>\n",
              "</table>\n",
              "</div>\n",
              "      <button class=\"colab-df-convert\" onclick=\"convertToInteractive('df-c803d1da-c414-474d-97b4-e9fbbd4bc87d')\"\n",
              "              title=\"Convert this dataframe to an interactive table.\"\n",
              "              style=\"display:none;\">\n",
              "        \n",
              "  <svg xmlns=\"http://www.w3.org/2000/svg\" height=\"24px\"viewBox=\"0 0 24 24\"\n",
              "       width=\"24px\">\n",
              "    <path d=\"M0 0h24v24H0V0z\" fill=\"none\"/>\n",
              "    <path d=\"M18.56 5.44l.94 2.06.94-2.06 2.06-.94-2.06-.94-.94-2.06-.94 2.06-2.06.94zm-11 1L8.5 8.5l.94-2.06 2.06-.94-2.06-.94L8.5 2.5l-.94 2.06-2.06.94zm10 10l.94 2.06.94-2.06 2.06-.94-2.06-.94-.94-2.06-.94 2.06-2.06.94z\"/><path d=\"M17.41 7.96l-1.37-1.37c-.4-.4-.92-.59-1.43-.59-.52 0-1.04.2-1.43.59L10.3 9.45l-7.72 7.72c-.78.78-.78 2.05 0 2.83L4 21.41c.39.39.9.59 1.41.59.51 0 1.02-.2 1.41-.59l7.78-7.78 2.81-2.81c.8-.78.8-2.07 0-2.86zM5.41 20L4 18.59l7.72-7.72 1.47 1.35L5.41 20z\"/>\n",
              "  </svg>\n",
              "      </button>\n",
              "      \n",
              "  <style>\n",
              "    .colab-df-container {\n",
              "      display:flex;\n",
              "      flex-wrap:wrap;\n",
              "      gap: 12px;\n",
              "    }\n",
              "\n",
              "    .colab-df-convert {\n",
              "      background-color: #E8F0FE;\n",
              "      border: none;\n",
              "      border-radius: 50%;\n",
              "      cursor: pointer;\n",
              "      display: none;\n",
              "      fill: #1967D2;\n",
              "      height: 32px;\n",
              "      padding: 0 0 0 0;\n",
              "      width: 32px;\n",
              "    }\n",
              "\n",
              "    .colab-df-convert:hover {\n",
              "      background-color: #E2EBFA;\n",
              "      box-shadow: 0px 1px 2px rgba(60, 64, 67, 0.3), 0px 1px 3px 1px rgba(60, 64, 67, 0.15);\n",
              "      fill: #174EA6;\n",
              "    }\n",
              "\n",
              "    [theme=dark] .colab-df-convert {\n",
              "      background-color: #3B4455;\n",
              "      fill: #D2E3FC;\n",
              "    }\n",
              "\n",
              "    [theme=dark] .colab-df-convert:hover {\n",
              "      background-color: #434B5C;\n",
              "      box-shadow: 0px 1px 3px 1px rgba(0, 0, 0, 0.15);\n",
              "      filter: drop-shadow(0px 1px 2px rgba(0, 0, 0, 0.3));\n",
              "      fill: #FFFFFF;\n",
              "    }\n",
              "  </style>\n",
              "\n",
              "      <script>\n",
              "        const buttonEl =\n",
              "          document.querySelector('#df-c803d1da-c414-474d-97b4-e9fbbd4bc87d button.colab-df-convert');\n",
              "        buttonEl.style.display =\n",
              "          google.colab.kernel.accessAllowed ? 'block' : 'none';\n",
              "\n",
              "        async function convertToInteractive(key) {\n",
              "          const element = document.querySelector('#df-c803d1da-c414-474d-97b4-e9fbbd4bc87d');\n",
              "          const dataTable =\n",
              "            await google.colab.kernel.invokeFunction('convertToInteractive',\n",
              "                                                     [key], {});\n",
              "          if (!dataTable) return;\n",
              "\n",
              "          const docLinkHtml = 'Like what you see? Visit the ' +\n",
              "            '<a target=\"_blank\" href=https://colab.research.google.com/notebooks/data_table.ipynb>data table notebook</a>'\n",
              "            + ' to learn more about interactive tables.';\n",
              "          element.innerHTML = '';\n",
              "          dataTable['output_type'] = 'display_data';\n",
              "          await google.colab.output.renderOutput(dataTable, element);\n",
              "          const docLink = document.createElement('div');\n",
              "          docLink.innerHTML = docLinkHtml;\n",
              "          element.appendChild(docLink);\n",
              "        }\n",
              "      </script>\n",
              "    </div>\n",
              "  </div>\n",
              "  "
            ]
          },
          "metadata": {},
          "execution_count": 25
        }
      ],
      "source": [
        "# For X_test\n",
        "dummy = pd.get_dummies(X_test[cat_cols], drop_first=True)\n",
        "\n",
        "# Add the result to the master dataframe\n",
        "X_test = pd.concat([X_test, dummy], axis=1)\n",
        "\n",
        "print(X_test.shape)\n",
        "X_test.head()"
      ]
    },
    {
      "cell_type": "code",
      "execution_count": 26,
      "metadata": {
        "colab": {
          "base_uri": "https://localhost:8080/",
          "height": 268
        },
        "id": "wgtOmHk5LAmM",
        "outputId": "e5b4ce8e-097c-4816-cef4-4adcfb868b3d"
      },
      "outputs": [
        {
          "output_type": "stream",
          "name": "stdout",
          "text": [
            "(5660, 11)\n"
          ]
        },
        {
          "output_type": "execute_result",
          "data": {
            "text/plain": [
              "          amount     nameOrig  oldbalanceOrg  newbalanceOrig      nameDest  \\\n",
              "804    326349.91  31950136544           0.00            0.00    3564160838   \n",
              "9578    34061.71   3944009331           0.00            0.00  131458893701   \n",
              "7483   157442.78   3402104751           0.00            0.00   31477979030   \n",
              "16625  314756.65   3438909887      102924.00            0.00   31870237274   \n",
              "28079    2693.56   3743080989      535054.62       532361.05   13748104388   \n",
              "\n",
              "       oldbalanceDest  newbalanceDest  type_CASH_OUT  type_DEBIT  \\\n",
              "804         778150.49      1254956.07              0           0   \n",
              "9578             0.00            0.00              0           0   \n",
              "7483       9231426.19     10780596.35              1           0   \n",
              "16625            0.00      1180032.06              1           0   \n",
              "28079            0.00            0.00              0           0   \n",
              "\n",
              "       type_PAYMENT  type_TRANSFER  \n",
              "804               0              1  \n",
              "9578              1              0  \n",
              "7483              0              0  \n",
              "16625             0              0  \n",
              "28079             1              0  "
            ],
            "text/html": [
              "\n",
              "  <div id=\"df-3e730960-5992-4053-8c74-415c014094aa\">\n",
              "    <div class=\"colab-df-container\">\n",
              "      <div>\n",
              "<style scoped>\n",
              "    .dataframe tbody tr th:only-of-type {\n",
              "        vertical-align: middle;\n",
              "    }\n",
              "\n",
              "    .dataframe tbody tr th {\n",
              "        vertical-align: top;\n",
              "    }\n",
              "\n",
              "    .dataframe thead th {\n",
              "        text-align: right;\n",
              "    }\n",
              "</style>\n",
              "<table border=\"1\" class=\"dataframe\">\n",
              "  <thead>\n",
              "    <tr style=\"text-align: right;\">\n",
              "      <th></th>\n",
              "      <th>amount</th>\n",
              "      <th>nameOrig</th>\n",
              "      <th>oldbalanceOrg</th>\n",
              "      <th>newbalanceOrig</th>\n",
              "      <th>nameDest</th>\n",
              "      <th>oldbalanceDest</th>\n",
              "      <th>newbalanceDest</th>\n",
              "      <th>type_CASH_OUT</th>\n",
              "      <th>type_DEBIT</th>\n",
              "      <th>type_PAYMENT</th>\n",
              "      <th>type_TRANSFER</th>\n",
              "    </tr>\n",
              "  </thead>\n",
              "  <tbody>\n",
              "    <tr>\n",
              "      <th>804</th>\n",
              "      <td>326349.91</td>\n",
              "      <td>31950136544</td>\n",
              "      <td>0.00</td>\n",
              "      <td>0.00</td>\n",
              "      <td>3564160838</td>\n",
              "      <td>778150.49</td>\n",
              "      <td>1254956.07</td>\n",
              "      <td>0</td>\n",
              "      <td>0</td>\n",
              "      <td>0</td>\n",
              "      <td>1</td>\n",
              "    </tr>\n",
              "    <tr>\n",
              "      <th>9578</th>\n",
              "      <td>34061.71</td>\n",
              "      <td>3944009331</td>\n",
              "      <td>0.00</td>\n",
              "      <td>0.00</td>\n",
              "      <td>131458893701</td>\n",
              "      <td>0.00</td>\n",
              "      <td>0.00</td>\n",
              "      <td>0</td>\n",
              "      <td>0</td>\n",
              "      <td>1</td>\n",
              "      <td>0</td>\n",
              "    </tr>\n",
              "    <tr>\n",
              "      <th>7483</th>\n",
              "      <td>157442.78</td>\n",
              "      <td>3402104751</td>\n",
              "      <td>0.00</td>\n",
              "      <td>0.00</td>\n",
              "      <td>31477979030</td>\n",
              "      <td>9231426.19</td>\n",
              "      <td>10780596.35</td>\n",
              "      <td>1</td>\n",
              "      <td>0</td>\n",
              "      <td>0</td>\n",
              "      <td>0</td>\n",
              "    </tr>\n",
              "    <tr>\n",
              "      <th>16625</th>\n",
              "      <td>314756.65</td>\n",
              "      <td>3438909887</td>\n",
              "      <td>102924.00</td>\n",
              "      <td>0.00</td>\n",
              "      <td>31870237274</td>\n",
              "      <td>0.00</td>\n",
              "      <td>1180032.06</td>\n",
              "      <td>1</td>\n",
              "      <td>0</td>\n",
              "      <td>0</td>\n",
              "      <td>0</td>\n",
              "    </tr>\n",
              "    <tr>\n",
              "      <th>28079</th>\n",
              "      <td>2693.56</td>\n",
              "      <td>3743080989</td>\n",
              "      <td>535054.62</td>\n",
              "      <td>532361.05</td>\n",
              "      <td>13748104388</td>\n",
              "      <td>0.00</td>\n",
              "      <td>0.00</td>\n",
              "      <td>0</td>\n",
              "      <td>0</td>\n",
              "      <td>1</td>\n",
              "      <td>0</td>\n",
              "    </tr>\n",
              "  </tbody>\n",
              "</table>\n",
              "</div>\n",
              "      <button class=\"colab-df-convert\" onclick=\"convertToInteractive('df-3e730960-5992-4053-8c74-415c014094aa')\"\n",
              "              title=\"Convert this dataframe to an interactive table.\"\n",
              "              style=\"display:none;\">\n",
              "        \n",
              "  <svg xmlns=\"http://www.w3.org/2000/svg\" height=\"24px\"viewBox=\"0 0 24 24\"\n",
              "       width=\"24px\">\n",
              "    <path d=\"M0 0h24v24H0V0z\" fill=\"none\"/>\n",
              "    <path d=\"M18.56 5.44l.94 2.06.94-2.06 2.06-.94-2.06-.94-.94-2.06-.94 2.06-2.06.94zm-11 1L8.5 8.5l.94-2.06 2.06-.94-2.06-.94L8.5 2.5l-.94 2.06-2.06.94zm10 10l.94 2.06.94-2.06 2.06-.94-2.06-.94-.94-2.06-.94 2.06-2.06.94z\"/><path d=\"M17.41 7.96l-1.37-1.37c-.4-.4-.92-.59-1.43-.59-.52 0-1.04.2-1.43.59L10.3 9.45l-7.72 7.72c-.78.78-.78 2.05 0 2.83L4 21.41c.39.39.9.59 1.41.59.51 0 1.02-.2 1.41-.59l7.78-7.78 2.81-2.81c.8-.78.8-2.07 0-2.86zM5.41 20L4 18.59l7.72-7.72 1.47 1.35L5.41 20z\"/>\n",
              "  </svg>\n",
              "      </button>\n",
              "      \n",
              "  <style>\n",
              "    .colab-df-container {\n",
              "      display:flex;\n",
              "      flex-wrap:wrap;\n",
              "      gap: 12px;\n",
              "    }\n",
              "\n",
              "    .colab-df-convert {\n",
              "      background-color: #E8F0FE;\n",
              "      border: none;\n",
              "      border-radius: 50%;\n",
              "      cursor: pointer;\n",
              "      display: none;\n",
              "      fill: #1967D2;\n",
              "      height: 32px;\n",
              "      padding: 0 0 0 0;\n",
              "      width: 32px;\n",
              "    }\n",
              "\n",
              "    .colab-df-convert:hover {\n",
              "      background-color: #E2EBFA;\n",
              "      box-shadow: 0px 1px 2px rgba(60, 64, 67, 0.3), 0px 1px 3px 1px rgba(60, 64, 67, 0.15);\n",
              "      fill: #174EA6;\n",
              "    }\n",
              "\n",
              "    [theme=dark] .colab-df-convert {\n",
              "      background-color: #3B4455;\n",
              "      fill: #D2E3FC;\n",
              "    }\n",
              "\n",
              "    [theme=dark] .colab-df-convert:hover {\n",
              "      background-color: #434B5C;\n",
              "      box-shadow: 0px 1px 3px 1px rgba(0, 0, 0, 0.15);\n",
              "      filter: drop-shadow(0px 1px 2px rgba(0, 0, 0, 0.3));\n",
              "      fill: #FFFFFF;\n",
              "    }\n",
              "  </style>\n",
              "\n",
              "      <script>\n",
              "        const buttonEl =\n",
              "          document.querySelector('#df-3e730960-5992-4053-8c74-415c014094aa button.colab-df-convert');\n",
              "        buttonEl.style.display =\n",
              "          google.colab.kernel.accessAllowed ? 'block' : 'none';\n",
              "\n",
              "        async function convertToInteractive(key) {\n",
              "          const element = document.querySelector('#df-3e730960-5992-4053-8c74-415c014094aa');\n",
              "          const dataTable =\n",
              "            await google.colab.kernel.invokeFunction('convertToInteractive',\n",
              "                                                     [key], {});\n",
              "          if (!dataTable) return;\n",
              "\n",
              "          const docLinkHtml = 'Like what you see? Visit the ' +\n",
              "            '<a target=\"_blank\" href=https://colab.research.google.com/notebooks/data_table.ipynb>data table notebook</a>'\n",
              "            + ' to learn more about interactive tables.';\n",
              "          element.innerHTML = '';\n",
              "          dataTable['output_type'] = 'display_data';\n",
              "          await google.colab.output.renderOutput(dataTable, element);\n",
              "          const docLink = document.createElement('div');\n",
              "          docLink.innerHTML = docLinkHtml;\n",
              "          element.appendChild(docLink);\n",
              "        }\n",
              "      </script>\n",
              "    </div>\n",
              "  </div>\n",
              "  "
            ]
          },
          "metadata": {},
          "execution_count": 26
        }
      ],
      "source": [
        "X_test.drop(cat_cols, axis=1, inplace=True)\n",
        "print(X_test.shape)\n",
        "X_test.head()"
      ]
    },
    {
      "cell_type": "markdown",
      "metadata": {
        "id": "Jmd6Vt08NtSw"
      },
      "source": [
        "## Scaling Numerical data"
      ]
    },
    {
      "cell_type": "code",
      "execution_count": 27,
      "metadata": {
        "id": "8yUQFKHULEky"
      },
      "outputs": [],
      "source": [
        "from sklearn.preprocessing import StandardScaler"
      ]
    },
    {
      "cell_type": "code",
      "execution_count": 28,
      "metadata": {
        "id": "y26PXvj9LNew"
      },
      "outputs": [],
      "source": [
        "scaler = StandardScaler()"
      ]
    },
    {
      "cell_type": "code",
      "execution_count": 29,
      "metadata": {
        "id": "ZqlDg50oN4XL"
      },
      "outputs": [],
      "source": [
        "# For X_train\n",
        "X_train[num_cols] = scaler.fit_transform(X_train[num_cols])\n",
        "\n",
        "# For X_test\n",
        "X_test[num_cols] = scaler.fit_transform(X_test[num_cols])"
      ]
    },
    {
      "cell_type": "code",
      "execution_count": 30,
      "metadata": {
        "colab": {
          "base_uri": "https://localhost:8080/",
          "height": 206
        },
        "id": "VhCrAM76OCtd",
        "outputId": "0b1d1072-c650-49f8-f77b-5e4a7df7d3e4"
      },
      "outputs": [
        {
          "output_type": "execute_result",
          "data": {
            "text/plain": [
              "         amount  nameOrig  oldbalanceOrg  newbalanceOrig  nameDest  \\\n",
              "143   -0.416494  0.943325      -0.340961       -0.345663 -0.636124   \n",
              "21351 -0.167307 -1.049998      -0.359961       -0.360332 -0.299841   \n",
              "23094 -0.376138 -1.278075       1.233836        1.213827 -0.281069   \n",
              "17878 -0.261236 -1.063452       1.385990        1.379520 -0.838119   \n",
              "18091  0.479388  0.950898      -0.359692       -0.360332 -0.831923   \n",
              "\n",
              "       oldbalanceDest  newbalanceDest  type_CASH_OUT  type_DEBIT  \\\n",
              "143         -0.338315       -0.385157              0           0   \n",
              "21351       -0.271081       -0.249718              1           0   \n",
              "23094       -0.328688       -0.384100              0           0   \n",
              "17878        1.558652        1.733340              0           0   \n",
              "18091       -0.265733        0.105998              1           0   \n",
              "\n",
              "       type_PAYMENT  type_TRANSFER  \n",
              "143               1              0  \n",
              "21351             0              0  \n",
              "23094             0              0  \n",
              "17878             0              0  \n",
              "18091             0              0  "
            ],
            "text/html": [
              "\n",
              "  <div id=\"df-46cd2d06-de1d-48a1-b94b-46dc155ffc10\">\n",
              "    <div class=\"colab-df-container\">\n",
              "      <div>\n",
              "<style scoped>\n",
              "    .dataframe tbody tr th:only-of-type {\n",
              "        vertical-align: middle;\n",
              "    }\n",
              "\n",
              "    .dataframe tbody tr th {\n",
              "        vertical-align: top;\n",
              "    }\n",
              "\n",
              "    .dataframe thead th {\n",
              "        text-align: right;\n",
              "    }\n",
              "</style>\n",
              "<table border=\"1\" class=\"dataframe\">\n",
              "  <thead>\n",
              "    <tr style=\"text-align: right;\">\n",
              "      <th></th>\n",
              "      <th>amount</th>\n",
              "      <th>nameOrig</th>\n",
              "      <th>oldbalanceOrg</th>\n",
              "      <th>newbalanceOrig</th>\n",
              "      <th>nameDest</th>\n",
              "      <th>oldbalanceDest</th>\n",
              "      <th>newbalanceDest</th>\n",
              "      <th>type_CASH_OUT</th>\n",
              "      <th>type_DEBIT</th>\n",
              "      <th>type_PAYMENT</th>\n",
              "      <th>type_TRANSFER</th>\n",
              "    </tr>\n",
              "  </thead>\n",
              "  <tbody>\n",
              "    <tr>\n",
              "      <th>143</th>\n",
              "      <td>-0.416494</td>\n",
              "      <td>0.943325</td>\n",
              "      <td>-0.340961</td>\n",
              "      <td>-0.345663</td>\n",
              "      <td>-0.636124</td>\n",
              "      <td>-0.338315</td>\n",
              "      <td>-0.385157</td>\n",
              "      <td>0</td>\n",
              "      <td>0</td>\n",
              "      <td>1</td>\n",
              "      <td>0</td>\n",
              "    </tr>\n",
              "    <tr>\n",
              "      <th>21351</th>\n",
              "      <td>-0.167307</td>\n",
              "      <td>-1.049998</td>\n",
              "      <td>-0.359961</td>\n",
              "      <td>-0.360332</td>\n",
              "      <td>-0.299841</td>\n",
              "      <td>-0.271081</td>\n",
              "      <td>-0.249718</td>\n",
              "      <td>1</td>\n",
              "      <td>0</td>\n",
              "      <td>0</td>\n",
              "      <td>0</td>\n",
              "    </tr>\n",
              "    <tr>\n",
              "      <th>23094</th>\n",
              "      <td>-0.376138</td>\n",
              "      <td>-1.278075</td>\n",
              "      <td>1.233836</td>\n",
              "      <td>1.213827</td>\n",
              "      <td>-0.281069</td>\n",
              "      <td>-0.328688</td>\n",
              "      <td>-0.384100</td>\n",
              "      <td>0</td>\n",
              "      <td>0</td>\n",
              "      <td>0</td>\n",
              "      <td>0</td>\n",
              "    </tr>\n",
              "    <tr>\n",
              "      <th>17878</th>\n",
              "      <td>-0.261236</td>\n",
              "      <td>-1.063452</td>\n",
              "      <td>1.385990</td>\n",
              "      <td>1.379520</td>\n",
              "      <td>-0.838119</td>\n",
              "      <td>1.558652</td>\n",
              "      <td>1.733340</td>\n",
              "      <td>0</td>\n",
              "      <td>0</td>\n",
              "      <td>0</td>\n",
              "      <td>0</td>\n",
              "    </tr>\n",
              "    <tr>\n",
              "      <th>18091</th>\n",
              "      <td>0.479388</td>\n",
              "      <td>0.950898</td>\n",
              "      <td>-0.359692</td>\n",
              "      <td>-0.360332</td>\n",
              "      <td>-0.831923</td>\n",
              "      <td>-0.265733</td>\n",
              "      <td>0.105998</td>\n",
              "      <td>1</td>\n",
              "      <td>0</td>\n",
              "      <td>0</td>\n",
              "      <td>0</td>\n",
              "    </tr>\n",
              "  </tbody>\n",
              "</table>\n",
              "</div>\n",
              "      <button class=\"colab-df-convert\" onclick=\"convertToInteractive('df-46cd2d06-de1d-48a1-b94b-46dc155ffc10')\"\n",
              "              title=\"Convert this dataframe to an interactive table.\"\n",
              "              style=\"display:none;\">\n",
              "        \n",
              "  <svg xmlns=\"http://www.w3.org/2000/svg\" height=\"24px\"viewBox=\"0 0 24 24\"\n",
              "       width=\"24px\">\n",
              "    <path d=\"M0 0h24v24H0V0z\" fill=\"none\"/>\n",
              "    <path d=\"M18.56 5.44l.94 2.06.94-2.06 2.06-.94-2.06-.94-.94-2.06-.94 2.06-2.06.94zm-11 1L8.5 8.5l.94-2.06 2.06-.94-2.06-.94L8.5 2.5l-.94 2.06-2.06.94zm10 10l.94 2.06.94-2.06 2.06-.94-2.06-.94-.94-2.06-.94 2.06-2.06.94z\"/><path d=\"M17.41 7.96l-1.37-1.37c-.4-.4-.92-.59-1.43-.59-.52 0-1.04.2-1.43.59L10.3 9.45l-7.72 7.72c-.78.78-.78 2.05 0 2.83L4 21.41c.39.39.9.59 1.41.59.51 0 1.02-.2 1.41-.59l7.78-7.78 2.81-2.81c.8-.78.8-2.07 0-2.86zM5.41 20L4 18.59l7.72-7.72 1.47 1.35L5.41 20z\"/>\n",
              "  </svg>\n",
              "      </button>\n",
              "      \n",
              "  <style>\n",
              "    .colab-df-container {\n",
              "      display:flex;\n",
              "      flex-wrap:wrap;\n",
              "      gap: 12px;\n",
              "    }\n",
              "\n",
              "    .colab-df-convert {\n",
              "      background-color: #E8F0FE;\n",
              "      border: none;\n",
              "      border-radius: 50%;\n",
              "      cursor: pointer;\n",
              "      display: none;\n",
              "      fill: #1967D2;\n",
              "      height: 32px;\n",
              "      padding: 0 0 0 0;\n",
              "      width: 32px;\n",
              "    }\n",
              "\n",
              "    .colab-df-convert:hover {\n",
              "      background-color: #E2EBFA;\n",
              "      box-shadow: 0px 1px 2px rgba(60, 64, 67, 0.3), 0px 1px 3px 1px rgba(60, 64, 67, 0.15);\n",
              "      fill: #174EA6;\n",
              "    }\n",
              "\n",
              "    [theme=dark] .colab-df-convert {\n",
              "      background-color: #3B4455;\n",
              "      fill: #D2E3FC;\n",
              "    }\n",
              "\n",
              "    [theme=dark] .colab-df-convert:hover {\n",
              "      background-color: #434B5C;\n",
              "      box-shadow: 0px 1px 3px 1px rgba(0, 0, 0, 0.15);\n",
              "      filter: drop-shadow(0px 1px 2px rgba(0, 0, 0, 0.3));\n",
              "      fill: #FFFFFF;\n",
              "    }\n",
              "  </style>\n",
              "\n",
              "      <script>\n",
              "        const buttonEl =\n",
              "          document.querySelector('#df-46cd2d06-de1d-48a1-b94b-46dc155ffc10 button.colab-df-convert');\n",
              "        buttonEl.style.display =\n",
              "          google.colab.kernel.accessAllowed ? 'block' : 'none';\n",
              "\n",
              "        async function convertToInteractive(key) {\n",
              "          const element = document.querySelector('#df-46cd2d06-de1d-48a1-b94b-46dc155ffc10');\n",
              "          const dataTable =\n",
              "            await google.colab.kernel.invokeFunction('convertToInteractive',\n",
              "                                                     [key], {});\n",
              "          if (!dataTable) return;\n",
              "\n",
              "          const docLinkHtml = 'Like what you see? Visit the ' +\n",
              "            '<a target=\"_blank\" href=https://colab.research.google.com/notebooks/data_table.ipynb>data table notebook</a>'\n",
              "            + ' to learn more about interactive tables.';\n",
              "          element.innerHTML = '';\n",
              "          dataTable['output_type'] = 'display_data';\n",
              "          await google.colab.output.renderOutput(dataTable, element);\n",
              "          const docLink = document.createElement('div');\n",
              "          docLink.innerHTML = docLinkHtml;\n",
              "          element.appendChild(docLink);\n",
              "        }\n",
              "      </script>\n",
              "    </div>\n",
              "  </div>\n",
              "  "
            ]
          },
          "metadata": {},
          "execution_count": 30
        }
      ],
      "source": [
        "X_train.head()"
      ]
    },
    {
      "cell_type": "markdown",
      "metadata": {
        "id": "hYyVjjKfO64l"
      },
      "source": [
        "## Correlation"
      ]
    },
    {
      "cell_type": "code",
      "execution_count": 31,
      "metadata": {
        "colab": {
          "base_uri": "https://localhost:8080/",
          "height": 1000
        },
        "id": "-gYDsXEgOPHU",
        "outputId": "ee871abd-9604-47a2-f9d3-17b0d2753731"
      },
      "outputs": [
        {
          "output_type": "display_data",
          "data": {
            "text/plain": [
              "<Figure size 1500x1500 with 2 Axes>"
            ],
            "image/png": "[encoded data removed]"
          },
          "metadata": {}
        }
      ],
      "source": [
        "plt.figure(figsize=(15,15))\n",
        "sns.heatmap(X_train.corr())\n",
        "plt.show()"
      ]
    },
    {
      "cell_type": "markdown",
      "source": [
        "## Multicollinearity"
      ],
      "metadata": {
        "id": "uWHedlAmzLtB"
      }
    },
    {
      "cell_type": "code",
      "source": [
        "from statsmodels.stats.outliers_influence import variance_inflation_factor"
      ],
      "metadata": {
        "id": "PMhJPlQ9zPMu"
      },
      "execution_count": 79,
      "outputs": []
    },
    {
      "cell_type": "code",
      "source": [
        "# Create a dataframe for VIF values\n",
        "vif_df = pd.DataFrame()\n",
        "# Add column names to the dataframe\n",
        "vif_df['variable'] = df[num_cols].columns\n",
        "# Calculate VIF for each variable\n",
        "vif_df['VIF'] = [variance_inflation_factor(df[num_cols].values, i) for i in range(df[num_cols].shape[1])]\n",
        "\n",
        "# Print the VIF dataframe\n",
        "print(vif_df)"
      ],
      "metadata": {
        "colab": {
          "base_uri": "https://localhost:8080/"
        },
        "id": "7IjOwqdWzQwT",
        "outputId": "fe91ec0e-273e-42f0-85c4-857cb6eaec03"
      },
      "execution_count": 81,
      "outputs": [
        {
          "output_type": "stream",
          "name": "stdout",
          "text": [
            "         variable         VIF\n",
            "0          amount    1.584448\n",
            "1        nameOrig    1.658206\n",
            "2   oldbalanceOrg  296.727351\n",
            "3  newbalanceOrig  297.227303\n",
            "4        nameDest    1.409327\n",
            "5  oldbalanceDest    7.544840\n",
            "6  newbalanceDest    8.376169\n"
          ]
        }
      ]
    },
    {
      "cell_type": "code",
      "execution_count": 32,
      "metadata": {
        "colab": {
          "base_uri": "https://localhost:8080/"
        },
        "id": "kB9pBnXyPAnP",
        "outputId": "23a24b09-ae2c-4782-d4ac-31706c423ce4"
      },
      "outputs": [
        {
          "output_type": "stream",
          "name": "stdout",
          "text": [
            "Train shape:(22636, 11)\n",
            "Test shape:(5660, 11)\n"
          ]
        }
      ],
      "source": [
        "# check the training and testing data shape\n",
        "print(f\"Train shape:{X_train.shape}\")\n",
        "print(f\"Test shape:{X_test.shape}\")"
      ]
    },
    {
      "cell_type": "markdown",
      "source": [
        "# 3. How did you select variables to be included in the model?"
      ],
      "metadata": {
        "id": "_ZxzB3Nj5Isp"
      }
    },
    {
      "cell_type": "markdown",
      "source": [
        "## Feature Selection"
      ],
      "metadata": {
        "id": "rh9rj2731WgH"
      }
    },
    {
      "cell_type": "code",
      "execution_count": 33,
      "metadata": {
        "colab": {
          "base_uri": "https://localhost:8080/"
        },
        "id": "G7Fy7mecPH6V",
        "outputId": "fe3409a4-865a-4c53-9b3c-ef4314cec89a"
      },
      "outputs": [
        {
          "output_type": "stream",
          "name": "stdout",
          "text": [
            "('amount', 0.27854973231434926)\n",
            "('nameOrig', 0.08725359554311726)\n",
            "('oldbalanceOrg', 0.17072514063898528)\n",
            "('newbalanceOrig', 0.024166805972330674)\n",
            "('nameDest', 0.09726452381480906)\n",
            "('oldbalanceDest', 0.15584839094891026)\n",
            "('newbalanceDest', 0.15769368087721844)\n",
            "('type_CASH_OUT', 0.0068918406454194165)\n",
            "('type_DEBIT', 0.001316313209517312)\n",
            "('type_PAYMENT', 0.004780007862364834)\n",
            "('type_TRANSFER', 0.01550996817297828)\n"
          ]
        }
      ],
      "source": [
        "# run random forest to get feature importance\n",
        "from sklearn.ensemble import RandomForestClassifier\n",
        "rf = RandomForestClassifier(n_estimators = 25).fit(X_train, y_train)\n",
        "\n",
        "feats = X_train.columns\n",
        "\n",
        "for feature in zip(feats, rf.feature_importances_):\n",
        "    print(feature)"
      ]
    },
    {
      "cell_type": "code",
      "execution_count": 34,
      "metadata": {
        "colab": {
          "base_uri": "https://localhost:8080/",
          "height": 394
        },
        "id": "m05lK3qVP2ke",
        "outputId": "1e6fb7eb-8572-4432-9e67-927ee36ebeca"
      },
      "outputs": [
        {
          "output_type": "execute_result",
          "data": {
            "text/plain": [
              "          Features  Importance\n",
              "0           amount    0.278550\n",
              "2    oldbalanceOrg    0.170725\n",
              "6   newbalanceDest    0.157694\n",
              "5   oldbalanceDest    0.155848\n",
              "4         nameDest    0.097265\n",
              "1         nameOrig    0.087254\n",
              "3   newbalanceOrig    0.024167\n",
              "10   type_TRANSFER    0.015510\n",
              "7    type_CASH_OUT    0.006892\n",
              "9     type_PAYMENT    0.004780\n",
              "8       type_DEBIT    0.001316"
            ],
            "text/html": [
              "\n",
              "  <div id=\"df-ba8c3bfc-5b8f-4d64-8c7f-37b9f1a122e4\">\n",
              "    <div class=\"colab-df-container\">\n",
              "      <div>\n",
              "<style scoped>\n",
              "    .dataframe tbody tr th:only-of-type {\n",
              "        vertical-align: middle;\n",
              "    }\n",
              "\n",
              "    .dataframe tbody tr th {\n",
              "        vertical-align: top;\n",
              "    }\n",
              "\n",
              "    .dataframe thead th {\n",
              "        text-align: right;\n",
              "    }\n",
              "</style>\n",
              "<table border=\"1\" class=\"dataframe\">\n",
              "  <thead>\n",
              "    <tr style=\"text-align: right;\">\n",
              "      <th></th>\n",
              "      <th>Features</th>\n",
              "      <th>Importance</th>\n",
              "    </tr>\n",
              "  </thead>\n",
              "  <tbody>\n",
              "    <tr>\n",
              "      <th>0</th>\n",
              "      <td>amount</td>\n",
              "      <td>0.278550</td>\n",
              "    </tr>\n",
              "    <tr>\n",
              "      <th>2</th>\n",
              "      <td>oldbalanceOrg</td>\n",
              "      <td>0.170725</td>\n",
              "    </tr>\n",
              "    <tr>\n",
              "      <th>6</th>\n",
              "      <td>newbalanceDest</td>\n",
              "      <td>0.157694</td>\n",
              "    </tr>\n",
              "    <tr>\n",
              "      <th>5</th>\n",
              "      <td>oldbalanceDest</td>\n",
              "      <td>0.155848</td>\n",
              "    </tr>\n",
              "    <tr>\n",
              "      <th>4</th>\n",
              "      <td>nameDest</td>\n",
              "      <td>0.097265</td>\n",
              "    </tr>\n",
              "    <tr>\n",
              "      <th>1</th>\n",
              "      <td>nameOrig</td>\n",
              "      <td>0.087254</td>\n",
              "    </tr>\n",
              "    <tr>\n",
              "      <th>3</th>\n",
              "      <td>newbalanceOrig</td>\n",
              "      <td>0.024167</td>\n",
              "    </tr>\n",
              "    <tr>\n",
              "      <th>10</th>\n",
              "      <td>type_TRANSFER</td>\n",
              "      <td>0.015510</td>\n",
              "    </tr>\n",
              "    <tr>\n",
              "      <th>7</th>\n",
              "      <td>type_CASH_OUT</td>\n",
              "      <td>0.006892</td>\n",
              "    </tr>\n",
              "    <tr>\n",
              "      <th>9</th>\n",
              "      <td>type_PAYMENT</td>\n",
              "      <td>0.004780</td>\n",
              "    </tr>\n",
              "    <tr>\n",
              "      <th>8</th>\n",
              "      <td>type_DEBIT</td>\n",
              "      <td>0.001316</td>\n",
              "    </tr>\n",
              "  </tbody>\n",
              "</table>\n",
              "</div>\n",
              "      <button class=\"colab-df-convert\" onclick=\"convertToInteractive('df-ba8c3bfc-5b8f-4d64-8c7f-37b9f1a122e4')\"\n",
              "              title=\"Convert this dataframe to an interactive table.\"\n",
              "              style=\"display:none;\">\n",
              "        \n",
              "  <svg xmlns=\"http://www.w3.org/2000/svg\" height=\"24px\"viewBox=\"0 0 24 24\"\n",
              "       width=\"24px\">\n",
              "    <path d=\"M0 0h24v24H0V0z\" fill=\"none\"/>\n",
              "    <path d=\"M18.56 5.44l.94 2.06.94-2.06 2.06-.94-2.06-.94-.94-2.06-.94 2.06-2.06.94zm-11 1L8.5 8.5l.94-2.06 2.06-.94-2.06-.94L8.5 2.5l-.94 2.06-2.06.94zm10 10l.94 2.06.94-2.06 2.06-.94-2.06-.94-.94-2.06-.94 2.06-2.06.94z\"/><path d=\"M17.41 7.96l-1.37-1.37c-.4-.4-.92-.59-1.43-.59-.52 0-1.04.2-1.43.59L10.3 9.45l-7.72 7.72c-.78.78-.78 2.05 0 2.83L4 21.41c.39.39.9.59 1.41.59.51 0 1.02-.2 1.41-.59l7.78-7.78 2.81-2.81c.8-.78.8-2.07 0-2.86zM5.41 20L4 18.59l7.72-7.72 1.47 1.35L5.41 20z\"/>\n",
              "  </svg>\n",
              "      </button>\n",
              "      \n",
              "  <style>\n",
              "    .colab-df-container {\n",
              "      display:flex;\n",
              "      flex-wrap:wrap;\n",
              "      gap: 12px;\n",
              "    }\n",
              "\n",
              "    .colab-df-convert {\n",
              "      background-color: #E8F0FE;\n",
              "      border: none;\n",
              "      border-radius: 50%;\n",
              "      cursor: pointer;\n",
              "      display: none;\n",
              "      fill: #1967D2;\n",
              "      height: 32px;\n",
              "      padding: 0 0 0 0;\n",
              "      width: 32px;\n",
              "    }\n",
              "\n",
              "    .colab-df-convert:hover {\n",
              "      background-color: #E2EBFA;\n",
              "      box-shadow: 0px 1px 2px rgba(60, 64, 67, 0.3), 0px 1px 3px 1px rgba(60, 64, 67, 0.15);\n",
              "      fill: #174EA6;\n",
              "    }\n",
              "\n",
              "    [theme=dark] .colab-df-convert {\n",
              "      background-color: #3B4455;\n",
              "      fill: #D2E3FC;\n",
              "    }\n",
              "\n",
              "    [theme=dark] .colab-df-convert:hover {\n",
              "      background-color: #434B5C;\n",
              "      box-shadow: 0px 1px 3px 1px rgba(0, 0, 0, 0.15);\n",
              "      filter: drop-shadow(0px 1px 2px rgba(0, 0, 0, 0.3));\n",
              "      fill: #FFFFFF;\n",
              "    }\n",
              "  </style>\n",
              "\n",
              "      <script>\n",
              "        const buttonEl =\n",
              "          document.querySelector('#df-ba8c3bfc-5b8f-4d64-8c7f-37b9f1a122e4 button.colab-df-convert');\n",
              "        buttonEl.style.display =\n",
              "          google.colab.kernel.accessAllowed ? 'block' : 'none';\n",
              "\n",
              "        async function convertToInteractive(key) {\n",
              "          const element = document.querySelector('#df-ba8c3bfc-5b8f-4d64-8c7f-37b9f1a122e4');\n",
              "          const dataTable =\n",
              "            await google.colab.kernel.invokeFunction('convertToInteractive',\n",
              "                                                     [key], {});\n",
              "          if (!dataTable) return;\n",
              "\n",
              "          const docLinkHtml = 'Like what you see? Visit the ' +\n",
              "            '<a target=\"_blank\" href=https://colab.research.google.com/notebooks/data_table.ipynb>data table notebook</a>'\n",
              "            + ' to learn more about interactive tables.';\n",
              "          element.innerHTML = '';\n",
              "          dataTable['output_type'] = 'display_data';\n",
              "          await google.colab.output.renderOutput(dataTable, element);\n",
              "          const docLink = document.createElement('div');\n",
              "          docLink.innerHTML = docLinkHtml;\n",
              "          element.appendChild(docLink);\n",
              "        }\n",
              "      </script>\n",
              "    </div>\n",
              "  </div>\n",
              "  "
            ]
          },
          "metadata": {},
          "execution_count": 34
        }
      ],
      "source": [
        "imp_df = pd.DataFrame({\n",
        "    \"Features\": X_train.columns,\n",
        "    \"Importance\": rf.feature_importances_\n",
        "})\n",
        "\n",
        "imp_df.sort_values(by=\"Importance\", ascending=False)"
      ]
    },
    {
      "cell_type": "markdown",
      "source": [
        "Features\tImportance\n",
        "1.\tamount: 0.278550\n",
        "2.\toldbalanceOrg: 0.170725\n",
        "3.\tnewbalanceDest: 0.157694\n",
        "4.\toldbalanceDest:\t0.155848\n",
        "5.\tnameDest:\t0.097265\n",
        "6.\tnameOrig:\t0.087254\n",
        "7.\tnewbalanceOrig: 0.024167\n",
        "8.\ttype_TRANSFER: 0.015510\n",
        "9.\ttype_CASH_OUT: 0.006892\n",
        "10.\ttype_PAYMENT: 0.004780\n",
        "11.\ttype_DEBIT:\t0.001316"
      ],
      "metadata": {
        "id": "Am0cEK2-146B"
      }
    },
    {
      "cell_type": "markdown",
      "metadata": {
        "id": "MyKtC5bAQeKm"
      },
      "source": [
        "## Handling Class Imbalance"
      ]
    },
    {
      "cell_type": "code",
      "execution_count": 35,
      "metadata": {
        "colab": {
          "base_uri": "https://localhost:8080/"
        },
        "id": "3k2-IqVOP7xM",
        "outputId": "28d06cb0-5d26-4d71-d1f4-eae814d3a7aa"
      },
      "outputs": [
        {
          "output_type": "stream",
          "name": "stdout",
          "text": [
            "Train shape:(22636, 11)\n",
            "Test shape:(5660, 11)\n"
          ]
        }
      ],
      "source": [
        "# check the training and testing data shape\n",
        "print(f\"Train shape:{X_train.shape}\")\n",
        "print(f\"Test shape:{X_test.shape}\")"
      ]
    },
    {
      "cell_type": "markdown",
      "metadata": {
        "id": "lcVMDAroTHgO"
      },
      "source": [
        "### SMOTE\n",
        "SMOTE - Synthetic Minority Oversampling Technique Creates new \"Synthetic\" observations\n",
        "\n",
        "Process\n",
        "1. Identify the feature vector and its nearest neighbour\n",
        "2. Take the difference between the two\n",
        "3. Multiply the difference with a random number between 0 and 1\n",
        "4. Identify a new point on the line segment by adding the random number to feature vector\n",
        "5. Repeat the process for identified feature vectors"
      ]
    },
    {
      "cell_type": "code",
      "execution_count": 51,
      "metadata": {
        "id": "VagkCQOlTJNJ",
        "colab": {
          "base_uri": "https://localhost:8080/"
        },
        "outputId": "027789f8-31a1-4629-8247-29271c2119c3"
      },
      "outputs": [
        {
          "output_type": "execute_result",
          "data": {
            "text/plain": [
              "45138"
            ]
          },
          "metadata": {},
          "execution_count": 51
        }
      ],
      "source": [
        "# SMOTE\n",
        "from imblearn.over_sampling import SMOTE\n",
        "smt = SMOTE(random_state=45, k_neighbors=5)\n",
        "X_resampled_smt, y_resampled_smt = smt.fit_resample(X_train, y_train)\n",
        "len(X_resampled_smt)"
      ]
    },
    {
      "cell_type": "markdown",
      "source": [
        "### Random Oversample"
      ],
      "metadata": {
        "id": "g0_rfBPlrd7Z"
      }
    },
    {
      "cell_type": "code",
      "source": [
        "# Random OverSampling\n",
        "from imblearn.over_sampling import RandomOverSampler\n",
        "over_sample = RandomOverSampler(sampling_strategy = 1)\n",
        "X_resampled_os, y_resampled_os = over_sample.fit_resample(X_train, y_train)\n",
        "len(X_resampled_os)"
      ],
      "metadata": {
        "colab": {
          "base_uri": "https://localhost:8080/"
        },
        "id": "_-brprOsrjjX",
        "outputId": "e2493b05-8c3c-4812-8a94-38a3189ee385"
      },
      "execution_count": 52,
      "outputs": [
        {
          "output_type": "execute_result",
          "data": {
            "text/plain": [
              "45138"
            ]
          },
          "metadata": {},
          "execution_count": 52
        }
      ]
    },
    {
      "cell_type": "markdown",
      "metadata": {
        "id": "hZa2SJWlSiWl"
      },
      "source": [
        "### ADASYN\n",
        "\n",
        "1. In ADASYN, the minority examples are generated based on their density distribution.\n",
        "2. More synthetic data are generated from minority class samples that are harder to learn as compared with those minority samples that are easier to learn.\n"
      ]
    },
    {
      "cell_type": "code",
      "execution_count": 53,
      "metadata": {
        "id": "2SLBffEhSfXO",
        "colab": {
          "base_uri": "https://localhost:8080/"
        },
        "outputId": "10a302a8-7bd2-4643-9a25-5f22b53b4d28"
      },
      "outputs": [
        {
          "output_type": "execute_result",
          "data": {
            "text/plain": [
              "(45146, 45146)"
            ]
          },
          "metadata": {},
          "execution_count": 53
        }
      ],
      "source": [
        "# ADASYN\n",
        "from imblearn.over_sampling import ADASYN\n",
        "ada = ADASYN(random_state=45, n_neighbors=5)\n",
        "X_resampled_ada, y_resampled_ada = ada.fit_resample(X_train, y_train)\n",
        "len(X_resampled_ada), len(y_resampled_ada)"
      ]
    },
    {
      "cell_type": "markdown",
      "metadata": {
        "id": "fDuG7OPWR_2v"
      },
      "source": [
        "### Random Forest Classifier"
      ]
    },
    {
      "cell_type": "code",
      "execution_count": 54,
      "metadata": {
        "id": "u1NnjMJYRsRF"
      },
      "outputs": [],
      "source": [
        "# Random Forest - Base\n",
        "from sklearn.ensemble import RandomForestClassifier\n",
        "rf = RandomForestClassifier()\n",
        "rf.fit(X_train, y_train)\n",
        "\n",
        "y_pred_rf = rf.predict(X_test)"
      ]
    },
    {
      "cell_type": "markdown",
      "source": [
        "# 4. Demonstrate the performance of the model by using best set of tools. "
      ],
      "metadata": {
        "id": "s5FomTY45jvX"
      }
    },
    {
      "cell_type": "code",
      "execution_count": 55,
      "metadata": {
        "colab": {
          "base_uri": "https://localhost:8080/"
        },
        "id": "IgkC8K-jSGKS",
        "outputId": "2fe08170-a955-40a4-fbb1-54885ee41caa"
      },
      "outputs": [
        {
          "output_type": "stream",
          "name": "stdout",
          "text": [
            "Accuracy:  0.9969964664310954\n",
            "F1 score:  0.10526315789473684\n",
            "Recall:  0.058823529411764705\n",
            "Precision:  0.5\n",
            "\n",
            " clasification report:\n",
            "               precision    recall  f1-score   support\n",
            "\n",
            "         0.0       1.00      1.00      1.00      5643\n",
            "         1.0       0.50      0.06      0.11        17\n",
            "\n",
            "    accuracy                           1.00      5660\n",
            "   macro avg       0.75      0.53      0.55      5660\n",
            "weighted avg       1.00      1.00      1.00      5660\n",
            "\n",
            "\n",
            " confussion matrix:\n",
            " [[5642    1]\n",
            " [  16    1]]\n"
          ]
        }
      ],
      "source": [
        "from sklearn.metrics import accuracy_score, f1_score, recall_score, precision_score, classification_report, confusion_matrix\n",
        "print ('Accuracy: ', accuracy_score(y_test, y_pred_rf))\n",
        "print ('F1 score: ', f1_score(y_test, y_pred_rf))\n",
        "print ('Recall: ', recall_score(y_test, y_pred_rf))\n",
        "print ('Precision: ', precision_score(y_test, y_pred_rf))\n",
        "print ('\\n clasification report:\\n', classification_report(y_test,y_pred_rf))\n",
        "print ('\\n confussion matrix:\\n',confusion_matrix(y_test, y_pred_rf))"
      ]
    },
    {
      "cell_type": "code",
      "execution_count": 56,
      "metadata": {
        "id": "Bp5gzkTLSK4R"
      },
      "outputs": [],
      "source": [
        "# Random Forest - Random Over-Sampling\n",
        "rf_os = RandomForestClassifier()\n",
        "rf_os.fit(X_resampled_os, y_resampled_os)\n",
        "\n",
        "y_pred_rf_os = rf_os.predict(X_test)"
      ]
    },
    {
      "cell_type": "markdown",
      "source": [
        "# 4. Demonstrate the performance of the model by using best set of tools. "
      ],
      "metadata": {
        "id": "jpCVF8GR5nYL"
      }
    },
    {
      "cell_type": "code",
      "execution_count": 57,
      "metadata": {
        "id": "QUkL1QwAS7Sp",
        "colab": {
          "base_uri": "https://localhost:8080/"
        },
        "outputId": "440c5064-648e-41e3-cdf6-646959334905"
      },
      "outputs": [
        {
          "output_type": "stream",
          "name": "stdout",
          "text": [
            "Accuracy:  0.9969964664310954\n",
            "F1 score:  0.10526315789473684\n",
            "Recall:  0.058823529411764705\n",
            "Precision:  0.5\n",
            "\n",
            " clasification report:\n",
            "               precision    recall  f1-score   support\n",
            "\n",
            "         0.0       1.00      1.00      1.00      5643\n",
            "         1.0       0.50      0.06      0.11        17\n",
            "\n",
            "    accuracy                           1.00      5660\n",
            "   macro avg       0.75      0.53      0.55      5660\n",
            "weighted avg       1.00      1.00      1.00      5660\n",
            "\n",
            "\n",
            " confussion matrix:\n",
            " [[5642    1]\n",
            " [  16    1]]\n"
          ]
        }
      ],
      "source": [
        "print ('Accuracy: ', accuracy_score(y_test, y_pred_rf_os))\n",
        "print ('F1 score: ', f1_score(y_test, y_pred_rf_os))\n",
        "print ('Recall: ', recall_score(y_test, y_pred_rf_os))\n",
        "print ('Precision: ', precision_score(y_test, y_pred_rf_os))\n",
        "print ('\\n clasification report:\\n', classification_report(y_test,y_pred_rf_os))\n",
        "print ('\\n confussion matrix:\\n',confusion_matrix(y_test, y_pred_rf_os))"
      ]
    },
    {
      "cell_type": "code",
      "execution_count": 58,
      "metadata": {
        "id": "_W3c4n8SS7w8"
      },
      "outputs": [],
      "source": [
        "# Random Forest - SMOTE\n",
        "rf_smt = RandomForestClassifier()\n",
        "rf_smt.fit(X_resampled_smt, y_resampled_smt)\n",
        "\n",
        "y_pred_rf_smt = rf_smt.predict(X_test)"
      ]
    },
    {
      "cell_type": "markdown",
      "source": [
        "# 4. Demonstrate the performance of the model by using best set of tools. "
      ],
      "metadata": {
        "id": "lqDm63Ze5ozW"
      }
    },
    {
      "cell_type": "code",
      "execution_count": 59,
      "metadata": {
        "id": "yzI4KmniTdfJ",
        "colab": {
          "base_uri": "https://localhost:8080/"
        },
        "outputId": "ca03cad8-23b0-4b60-82b9-30011cfafd3a"
      },
      "outputs": [
        {
          "output_type": "stream",
          "name": "stdout",
          "text": [
            "Accuracy:  0.9943462897526502\n",
            "F1 score:  0.27272727272727276\n",
            "Recall:  0.35294117647058826\n",
            "Precision:  0.2222222222222222\n",
            "\n",
            " clasification report:\n",
            "               precision    recall  f1-score   support\n",
            "\n",
            "         0.0       1.00      1.00      1.00      5643\n",
            "         1.0       0.22      0.35      0.27        17\n",
            "\n",
            "    accuracy                           0.99      5660\n",
            "   macro avg       0.61      0.67      0.63      5660\n",
            "weighted avg       1.00      0.99      0.99      5660\n",
            "\n",
            "\n",
            " confussion matrix:\n",
            " [[5622   21]\n",
            " [  11    6]]\n"
          ]
        }
      ],
      "source": [
        "print ('Accuracy: ', accuracy_score(y_test, y_pred_rf_smt))\n",
        "print ('F1 score: ', f1_score(y_test, y_pred_rf_smt))\n",
        "print ('Recall: ', recall_score(y_test, y_pred_rf_smt))\n",
        "print ('Precision: ', precision_score(y_test, y_pred_rf_smt))\n",
        "print ('\\n clasification report:\\n', classification_report(y_test,y_pred_rf_smt))\n",
        "print ('\\n confussion matrix:\\n',confusion_matrix(y_test, y_pred_rf_smt))"
      ]
    },
    {
      "cell_type": "code",
      "source": [
        "# Random Forest - ADASYN\n",
        "rf_ada = RandomForestClassifier()\n",
        "rf_ada.fit(X_resampled_ada, y_resampled_ada)\n",
        "\n",
        "y_pred_rf_ada = rf_ada.predict(X_test)"
      ],
      "metadata": {
        "id": "Kc6FF3oDsNM6"
      },
      "execution_count": 62,
      "outputs": []
    },
    {
      "cell_type": "markdown",
      "metadata": {
        "id": "WEgngWQDT9e5"
      },
      "source": [
        "## Hyper-parameter tuning using Cross Validation for Random Forest ADASYN model"
      ]
    },
    {
      "cell_type": "code",
      "execution_count": 63,
      "metadata": {
        "id": "A85hv2lBTfp9"
      },
      "outputs": [],
      "source": [
        "from sklearn.model_selection import RandomizedSearchCV"
      ]
    },
    {
      "cell_type": "code",
      "execution_count": 64,
      "metadata": {
        "id": "6U9-5AlKUAWN",
        "colab": {
          "base_uri": "https://localhost:8080/",
          "height": 136
        },
        "outputId": "59a65279-eca7-46ac-9da2-d07c8317eb44"
      },
      "outputs": [
        {
          "output_type": "stream",
          "name": "stdout",
          "text": [
            "Fitting 5 folds for each of 20 candidates, totalling 100 fits\n"
          ]
        },
        {
          "output_type": "execute_result",
          "data": {
            "text/plain": [
              "RandomizedSearchCV(cv=5, estimator=RandomForestClassifier(), n_iter=20,\n",
              "                   n_jobs=-1,\n",
              "                   param_distributions={'max_depth': range(3, 10),\n",
              "                                        'max_features': range(3, 10),\n",
              "                                        'min_samples_leaf': range(20, 200, 50),\n",
              "                                        'n_estimators': range(10, 51, 10)},\n",
              "                   return_train_score=True, verbose=1)"
            ],
            "text/html": [
              "<style>#sk-container-id-1 {color: black;background-color: white;}#sk-container-id-1 pre{padding: 0;}#sk-container-id-1 div.sk-toggleable {background-color: white;}#sk-container-id-1 label.sk-toggleable__label {cursor: pointer;display: block;width: 100%;margin-bottom: 0;padding: 0.3em;box-sizing: border-box;text-align: center;}#sk-container-id-1 label.sk-toggleable__label-arrow:before {content: \"▸\";float: left;margin-right: 0.25em;color: #696969;}#sk-container-id-1 label.sk-toggleable__label-arrow:hover:before {color: black;}#sk-container-id-1 div.sk-estimator:hover label.sk-toggleable__label-arrow:before {color: black;}#sk-container-id-1 div.sk-toggleable__content {max-height: 0;max-width: 0;overflow: hidden;text-align: left;background-color: #f0f8ff;}#sk-container-id-1 div.sk-toggleable__content pre {margin: 0.2em;color: black;border-radius: 0.25em;background-color: #f0f8ff;}#sk-container-id-1 input.sk-toggleable__control:checked~div.sk-toggleable__content {max-height: 200px;max-width: 100%;overflow: auto;}#sk-container-id-1 input.sk-toggleable__control:checked~label.sk-toggleable__label-arrow:before {content: \"▾\";}#sk-container-id-1 div.sk-estimator input.sk-toggleable__control:checked~label.sk-toggleable__label {background-color: #d4ebff;}#sk-container-id-1 div.sk-label input.sk-toggleable__control:checked~label.sk-toggleable__label {background-color: #d4ebff;}#sk-container-id-1 input.sk-hidden--visually {border: 0;clip: rect(1px 1px 1px 1px);clip: rect(1px, 1px, 1px, 1px);height: 1px;margin: -1px;overflow: hidden;padding: 0;position: absolute;width: 1px;}#sk-container-id-1 div.sk-estimator {font-family: monospace;background-color: #f0f8ff;border: 1px dotted black;border-radius: 0.25em;box-sizing: border-box;margin-bottom: 0.5em;}#sk-container-id-1 div.sk-estimator:hover {background-color: #d4ebff;}#sk-container-id-1 div.sk-parallel-item::after {content: \"\";width: 100%;border-bottom: 1px solid gray;flex-grow: 1;}#sk-container-id-1 div.sk-label:hover label.sk-toggleable__label {background-color: #d4ebff;}#sk-container-id-1 div.sk-serial::before {content: \"\";position: absolute;border-left: 1px solid gray;box-sizing: border-box;top: 0;bottom: 0;left: 50%;z-index: 0;}#sk-container-id-1 div.sk-serial {display: flex;flex-direction: column;align-items: center;background-color: white;padding-right: 0.2em;padding-left: 0.2em;position: relative;}#sk-container-id-1 div.sk-item {position: relative;z-index: 1;}#sk-container-id-1 div.sk-parallel {display: flex;align-items: stretch;justify-content: center;background-color: white;position: relative;}#sk-container-id-1 div.sk-item::before, #sk-container-id-1 div.sk-parallel-item::before {content: \"\";position: absolute;border-left: 1px solid gray;box-sizing: border-box;top: 0;bottom: 0;left: 50%;z-index: -1;}#sk-container-id-1 div.sk-parallel-item {display: flex;flex-direction: column;z-index: 1;position: relative;background-color: white;}#sk-container-id-1 div.sk-parallel-item:first-child::after {align-self: flex-end;width: 50%;}#sk-container-id-1 div.sk-parallel-item:last-child::after {align-self: flex-start;width: 50%;}#sk-container-id-1 div.sk-parallel-item:only-child::after {width: 0;}#sk-container-id-1 div.sk-dashed-wrapped {border: 1px dashed gray;margin: 0 0.4em 0.5em 0.4em;box-sizing: border-box;padding-bottom: 0.4em;background-color: white;}#sk-container-id-1 div.sk-label label {font-family: monospace;font-weight: bold;display: inline-block;line-height: 1.2em;}#sk-container-id-1 div.sk-label-container {text-align: center;}#sk-container-id-1 div.sk-container {/* jupyter's `normalize.less` sets `[hidden] { display: none; }` but bootstrap.min.css set `[hidden] { display: none !important; }` so we also need the `!important` here to be able to override the default hidden behavior on the sphinx rendered scikit-learn.org. See: https://github.com/scikit-learn/scikit-learn/issues/21755 */display: inline-block !important;position: relative;}#sk-container-id-1 div.sk-text-repr-fallback {display: none;}</style><div id=\"sk-container-id-1\" class=\"sk-top-container\"><div class=\"sk-text-repr-fallback\"><pre>RandomizedSearchCV(cv=5, estimator=RandomForestClassifier(), n_iter=20,\n",
              "                   n_jobs=-1,\n",
              "                   param_distributions={&#x27;max_depth&#x27;: range(3, 10),\n",
              "                                        &#x27;max_features&#x27;: range(3, 10),\n",
              "                                        &#x27;min_samples_leaf&#x27;: range(20, 200, 50),\n",
              "                                        &#x27;n_estimators&#x27;: range(10, 51, 10)},\n",
              "                   return_train_score=True, verbose=1)</pre><b>In a Jupyter environment, please rerun this cell to show the HTML representation or trust the notebook. <br />On GitHub, the HTML representation is unable to render, please try loading this page with nbviewer.org.</b></div><div class=\"sk-container\" hidden><div class=\"sk-item sk-dashed-wrapped\"><div class=\"sk-label-container\"><div class=\"sk-label sk-toggleable\"><input class=\"sk-toggleable__control sk-hidden--visually\" id=\"sk-estimator-id-1\" type=\"checkbox\" ><label for=\"sk-estimator-id-1\" class=\"sk-toggleable__label sk-toggleable__label-arrow\">RandomizedSearchCV</label><div class=\"sk-toggleable__content\"><pre>RandomizedSearchCV(cv=5, estimator=RandomForestClassifier(), n_iter=20,\n",
              "                   n_jobs=-1,\n",
              "                   param_distributions={&#x27;max_depth&#x27;: range(3, 10),\n",
              "                                        &#x27;max_features&#x27;: range(3, 10),\n",
              "                                        &#x27;min_samples_leaf&#x27;: range(20, 200, 50),\n",
              "                                        &#x27;n_estimators&#x27;: range(10, 51, 10)},\n",
              "                   return_train_score=True, verbose=1)</pre></div></div></div><div class=\"sk-parallel\"><div class=\"sk-parallel-item\"><div class=\"sk-item\"><div class=\"sk-label-container\"><div class=\"sk-label sk-toggleable\"><input class=\"sk-toggleable__control sk-hidden--visually\" id=\"sk-estimator-id-2\" type=\"checkbox\" ><label for=\"sk-estimator-id-2\" class=\"sk-toggleable__label sk-toggleable__label-arrow\">estimator: RandomForestClassifier</label><div class=\"sk-toggleable__content\"><pre>RandomForestClassifier()</pre></div></div></div><div class=\"sk-serial\"><div class=\"sk-item\"><div class=\"sk-estimator sk-toggleable\"><input class=\"sk-toggleable__control sk-hidden--visually\" id=\"sk-estimator-id-3\" type=\"checkbox\" ><label for=\"sk-estimator-id-3\" class=\"sk-toggleable__label sk-toggleable__label-arrow\">RandomForestClassifier</label><div class=\"sk-toggleable__content\"><pre>RandomForestClassifier()</pre></div></div></div></div></div></div></div></div></div></div>"
            ]
          },
          "metadata": {},
          "execution_count": 64
        }
      ],
      "source": [
        "hyper_params = {'max_depth': range(3, 10),\n",
        "                'max_features': range(3, 10),\n",
        "                'min_samples_leaf': range(20, 200, 50),\n",
        "                'n_estimators': range(10, 51, 10)}\n",
        "\n",
        "# Performing Randomizedsearch for Random Forest ADASYN model\n",
        "model_rcv = RandomizedSearchCV(estimator=rf_ada, \n",
        "                              param_distributions=hyper_params,\n",
        "                              verbose=1,\n",
        "                              cv=5,\n",
        "                              return_train_score=True,\n",
        "                              n_jobs=-1,\n",
        "                              n_iter=20)\n",
        "\n",
        "model_rcv.fit(X_resampled_ada, y_resampled_ada)"
      ]
    },
    {
      "cell_type": "code",
      "execution_count": 65,
      "metadata": {
        "id": "WmDRHiA4UJWc",
        "colab": {
          "base_uri": "https://localhost:8080/"
        },
        "outputId": "290d8031-844e-4593-bdf3-d18ea8fc81d5"
      },
      "outputs": [
        {
          "output_type": "execute_result",
          "data": {
            "text/plain": [
              "0.9759006263440296"
            ]
          },
          "metadata": {},
          "execution_count": 65
        }
      ],
      "source": [
        "model_rcv.best_score_"
      ]
    },
    {
      "cell_type": "code",
      "execution_count": 66,
      "metadata": {
        "id": "T1Gu_fJAUMbU",
        "colab": {
          "base_uri": "https://localhost:8080/",
          "height": 92
        },
        "outputId": "4e11284d-bd25-484e-e153-f156684d1bb8"
      },
      "outputs": [
        {
          "output_type": "execute_result",
          "data": {
            "text/plain": [
              "RandomForestClassifier(max_depth=8, max_features=8, min_samples_leaf=20,\n",
              "                       n_estimators=30)"
            ],
            "text/html": [
              "<style>#sk-container-id-2 {color: black;background-color: white;}#sk-container-id-2 pre{padding: 0;}#sk-container-id-2 div.sk-toggleable {background-color: white;}#sk-container-id-2 label.sk-toggleable__label {cursor: pointer;display: block;width: 100%;margin-bottom: 0;padding: 0.3em;box-sizing: border-box;text-align: center;}#sk-container-id-2 label.sk-toggleable__label-arrow:before {content: \"▸\";float: left;margin-right: 0.25em;color: #696969;}#sk-container-id-2 label.sk-toggleable__label-arrow:hover:before {color: black;}#sk-container-id-2 div.sk-estimator:hover label.sk-toggleable__label-arrow:before {color: black;}#sk-container-id-2 div.sk-toggleable__content {max-height: 0;max-width: 0;overflow: hidden;text-align: left;background-color: #f0f8ff;}#sk-container-id-2 div.sk-toggleable__content pre {margin: 0.2em;color: black;border-radius: 0.25em;background-color: #f0f8ff;}#sk-container-id-2 input.sk-toggleable__control:checked~div.sk-toggleable__content {max-height: 200px;max-width: 100%;overflow: auto;}#sk-container-id-2 input.sk-toggleable__control:checked~label.sk-toggleable__label-arrow:before {content: \"▾\";}#sk-container-id-2 div.sk-estimator input.sk-toggleable__control:checked~label.sk-toggleable__label {background-color: #d4ebff;}#sk-container-id-2 div.sk-label input.sk-toggleable__control:checked~label.sk-toggleable__label {background-color: #d4ebff;}#sk-container-id-2 input.sk-hidden--visually {border: 0;clip: rect(1px 1px 1px 1px);clip: rect(1px, 1px, 1px, 1px);height: 1px;margin: -1px;overflow: hidden;padding: 0;position: absolute;width: 1px;}#sk-container-id-2 div.sk-estimator {font-family: monospace;background-color: #f0f8ff;border: 1px dotted black;border-radius: 0.25em;box-sizing: border-box;margin-bottom: 0.5em;}#sk-container-id-2 div.sk-estimator:hover {background-color: #d4ebff;}#sk-container-id-2 div.sk-parallel-item::after {content: \"\";width: 100%;border-bottom: 1px solid gray;flex-grow: 1;}#sk-container-id-2 div.sk-label:hover label.sk-toggleable__label {background-color: #d4ebff;}#sk-container-id-2 div.sk-serial::before {content: \"\";position: absolute;border-left: 1px solid gray;box-sizing: border-box;top: 0;bottom: 0;left: 50%;z-index: 0;}#sk-container-id-2 div.sk-serial {display: flex;flex-direction: column;align-items: center;background-color: white;padding-right: 0.2em;padding-left: 0.2em;position: relative;}#sk-container-id-2 div.sk-item {position: relative;z-index: 1;}#sk-container-id-2 div.sk-parallel {display: flex;align-items: stretch;justify-content: center;background-color: white;position: relative;}#sk-container-id-2 div.sk-item::before, #sk-container-id-2 div.sk-parallel-item::before {content: \"\";position: absolute;border-left: 1px solid gray;box-sizing: border-box;top: 0;bottom: 0;left: 50%;z-index: -1;}#sk-container-id-2 div.sk-parallel-item {display: flex;flex-direction: column;z-index: 1;position: relative;background-color: white;}#sk-container-id-2 div.sk-parallel-item:first-child::after {align-self: flex-end;width: 50%;}#sk-container-id-2 div.sk-parallel-item:last-child::after {align-self: flex-start;width: 50%;}#sk-container-id-2 div.sk-parallel-item:only-child::after {width: 0;}#sk-container-id-2 div.sk-dashed-wrapped {border: 1px dashed gray;margin: 0 0.4em 0.5em 0.4em;box-sizing: border-box;padding-bottom: 0.4em;background-color: white;}#sk-container-id-2 div.sk-label label {font-family: monospace;font-weight: bold;display: inline-block;line-height: 1.2em;}#sk-container-id-2 div.sk-label-container {text-align: center;}#sk-container-id-2 div.sk-container {/* jupyter's `normalize.less` sets `[hidden] { display: none; }` but bootstrap.min.css set `[hidden] { display: none !important; }` so we also need the `!important` here to be able to override the default hidden behavior on the sphinx rendered scikit-learn.org. See: https://github.com/scikit-learn/scikit-learn/issues/21755 */display: inline-block !important;position: relative;}#sk-container-id-2 div.sk-text-repr-fallback {display: none;}</style><div id=\"sk-container-id-2\" class=\"sk-top-container\"><div class=\"sk-text-repr-fallback\"><pre>RandomForestClassifier(max_depth=8, max_features=8, min_samples_leaf=20,\n",
              "                       n_estimators=30)</pre><b>In a Jupyter environment, please rerun this cell to show the HTML representation or trust the notebook. <br />On GitHub, the HTML representation is unable to render, please try loading this page with nbviewer.org.</b></div><div class=\"sk-container\" hidden><div class=\"sk-item\"><div class=\"sk-estimator sk-toggleable\"><input class=\"sk-toggleable__control sk-hidden--visually\" id=\"sk-estimator-id-4\" type=\"checkbox\" checked><label for=\"sk-estimator-id-4\" class=\"sk-toggleable__label sk-toggleable__label-arrow\">RandomForestClassifier</label><div class=\"sk-toggleable__content\"><pre>RandomForestClassifier(max_depth=8, max_features=8, min_samples_leaf=20,\n",
              "                       n_estimators=30)</pre></div></div></div></div></div>"
            ]
          },
          "metadata": {},
          "execution_count": 66
        }
      ],
      "source": [
        "# Displaying best values for hyperparameters\n",
        "model_rcv.best_estimator_ "
      ]
    },
    {
      "cell_type": "code",
      "execution_count": 67,
      "metadata": {
        "id": "UXIq2BsHUTOy"
      },
      "outputs": [],
      "source": [
        "# Naming the best model rf_best\n",
        "rf_best = model_rcv.best_estimator_ "
      ]
    },
    {
      "cell_type": "code",
      "execution_count": 68,
      "metadata": {
        "id": "fBxZkgAZUaU7",
        "colab": {
          "base_uri": "https://localhost:8080/",
          "height": 92
        },
        "outputId": "85b24e6c-4e31-40bd-f302-45656288bcd0"
      },
      "outputs": [
        {
          "output_type": "execute_result",
          "data": {
            "text/plain": [
              "RandomForestClassifier(max_depth=8, max_features=8, min_samples_leaf=20,\n",
              "                       n_estimators=30)"
            ],
            "text/html": [
              "<style>#sk-container-id-3 {color: black;background-color: white;}#sk-container-id-3 pre{padding: 0;}#sk-container-id-3 div.sk-toggleable {background-color: white;}#sk-container-id-3 label.sk-toggleable__label {cursor: pointer;display: block;width: 100%;margin-bottom: 0;padding: 0.3em;box-sizing: border-box;text-align: center;}#sk-container-id-3 label.sk-toggleable__label-arrow:before {content: \"▸\";float: left;margin-right: 0.25em;color: #696969;}#sk-container-id-3 label.sk-toggleable__label-arrow:hover:before {color: black;}#sk-container-id-3 div.sk-estimator:hover label.sk-toggleable__label-arrow:before {color: black;}#sk-container-id-3 div.sk-toggleable__content {max-height: 0;max-width: 0;overflow: hidden;text-align: left;background-color: #f0f8ff;}#sk-container-id-3 div.sk-toggleable__content pre {margin: 0.2em;color: black;border-radius: 0.25em;background-color: #f0f8ff;}#sk-container-id-3 input.sk-toggleable__control:checked~div.sk-toggleable__content {max-height: 200px;max-width: 100%;overflow: auto;}#sk-container-id-3 input.sk-toggleable__control:checked~label.sk-toggleable__label-arrow:before {content: \"▾\";}#sk-container-id-3 div.sk-estimator input.sk-toggleable__control:checked~label.sk-toggleable__label {background-color: #d4ebff;}#sk-container-id-3 div.sk-label input.sk-toggleable__control:checked~label.sk-toggleable__label {background-color: #d4ebff;}#sk-container-id-3 input.sk-hidden--visually {border: 0;clip: rect(1px 1px 1px 1px);clip: rect(1px, 1px, 1px, 1px);height: 1px;margin: -1px;overflow: hidden;padding: 0;position: absolute;width: 1px;}#sk-container-id-3 div.sk-estimator {font-family: monospace;background-color: #f0f8ff;border: 1px dotted black;border-radius: 0.25em;box-sizing: border-box;margin-bottom: 0.5em;}#sk-container-id-3 div.sk-estimator:hover {background-color: #d4ebff;}#sk-container-id-3 div.sk-parallel-item::after {content: \"\";width: 100%;border-bottom: 1px solid gray;flex-grow: 1;}#sk-container-id-3 div.sk-label:hover label.sk-toggleable__label {background-color: #d4ebff;}#sk-container-id-3 div.sk-serial::before {content: \"\";position: absolute;border-left: 1px solid gray;box-sizing: border-box;top: 0;bottom: 0;left: 50%;z-index: 0;}#sk-container-id-3 div.sk-serial {display: flex;flex-direction: column;align-items: center;background-color: white;padding-right: 0.2em;padding-left: 0.2em;position: relative;}#sk-container-id-3 div.sk-item {position: relative;z-index: 1;}#sk-container-id-3 div.sk-parallel {display: flex;align-items: stretch;justify-content: center;background-color: white;position: relative;}#sk-container-id-3 div.sk-item::before, #sk-container-id-3 div.sk-parallel-item::before {content: \"\";position: absolute;border-left: 1px solid gray;box-sizing: border-box;top: 0;bottom: 0;left: 50%;z-index: -1;}#sk-container-id-3 div.sk-parallel-item {display: flex;flex-direction: column;z-index: 1;position: relative;background-color: white;}#sk-container-id-3 div.sk-parallel-item:first-child::after {align-self: flex-end;width: 50%;}#sk-container-id-3 div.sk-parallel-item:last-child::after {align-self: flex-start;width: 50%;}#sk-container-id-3 div.sk-parallel-item:only-child::after {width: 0;}#sk-container-id-3 div.sk-dashed-wrapped {border: 1px dashed gray;margin: 0 0.4em 0.5em 0.4em;box-sizing: border-box;padding-bottom: 0.4em;background-color: white;}#sk-container-id-3 div.sk-label label {font-family: monospace;font-weight: bold;display: inline-block;line-height: 1.2em;}#sk-container-id-3 div.sk-label-container {text-align: center;}#sk-container-id-3 div.sk-container {/* jupyter's `normalize.less` sets `[hidden] { display: none; }` but bootstrap.min.css set `[hidden] { display: none !important; }` so we also need the `!important` here to be able to override the default hidden behavior on the sphinx rendered scikit-learn.org. See: https://github.com/scikit-learn/scikit-learn/issues/21755 */display: inline-block !important;position: relative;}#sk-container-id-3 div.sk-text-repr-fallback {display: none;}</style><div id=\"sk-container-id-3\" class=\"sk-top-container\"><div class=\"sk-text-repr-fallback\"><pre>RandomForestClassifier(max_depth=8, max_features=8, min_samples_leaf=20,\n",
              "                       n_estimators=30)</pre><b>In a Jupyter environment, please rerun this cell to show the HTML representation or trust the notebook. <br />On GitHub, the HTML representation is unable to render, please try loading this page with nbviewer.org.</b></div><div class=\"sk-container\" hidden><div class=\"sk-item\"><div class=\"sk-estimator sk-toggleable\"><input class=\"sk-toggleable__control sk-hidden--visually\" id=\"sk-estimator-id-5\" type=\"checkbox\" checked><label for=\"sk-estimator-id-5\" class=\"sk-toggleable__label sk-toggleable__label-arrow\">RandomForestClassifier</label><div class=\"sk-toggleable__content\"><pre>RandomForestClassifier(max_depth=8, max_features=8, min_samples_leaf=20,\n",
              "                       n_estimators=30)</pre></div></div></div></div></div>"
            ]
          },
          "metadata": {},
          "execution_count": 68
        }
      ],
      "source": [
        "# Displaying the hyperparametres\n",
        "rf_best "
      ]
    },
    {
      "cell_type": "code",
      "execution_count": 69,
      "metadata": {
        "id": "npXNxnqUUctB"
      },
      "outputs": [],
      "source": [
        "# Predicting the is_fraud variable for test data\n",
        "y_pred_rcv = rf_best.predict(X_test) "
      ]
    },
    {
      "cell_type": "code",
      "execution_count": 84,
      "metadata": {
        "id": "9_CuxkvNUhef",
        "colab": {
          "base_uri": "https://localhost:8080/"
        },
        "outputId": "3d2c9fed-3c17-49ac-a04b-e2494eaaf7e0"
      },
      "outputs": [
        {
          "output_type": "stream",
          "name": "stdout",
          "text": [
            "Accuracy:  0.981095406360424\n",
            "F1 score:  0.20740740740740743\n",
            "Recall:  0.8235294117647058\n",
            "Precision:  0.11864406779661017\n",
            "\n",
            " clasification report:\n",
            "               precision    recall  f1-score   support\n",
            "\n",
            "         0.0       1.00      0.98      0.99      5643\n",
            "         1.0       0.12      0.82      0.21        17\n",
            "\n",
            "    accuracy                           0.98      5660\n",
            "   macro avg       0.56      0.90      0.60      5660\n",
            "weighted avg       1.00      0.98      0.99      5660\n",
            "\n"
          ]
        }
      ],
      "source": [
        "# Evaluation Metrics - We see that we get good accuracy and Recall values\n",
        "print ('Accuracy: ', accuracy_score(y_test, y_pred_rcv))\n",
        "print ('F1 score: ', f1_score(y_test, y_pred_rcv))\n",
        "print ('Recall: ', recall_score(y_test, y_pred_rcv))\n",
        "print ('Precision: ', precision_score(y_test, y_pred_rcv))\n",
        "print ('\\n clasification report:\\n', classification_report(y_test,y_pred_rcv))"
      ]
    },
    {
      "cell_type": "code",
      "source": [
        "con_matrix = confusion_matrix(y_test, y_pred_rcv)\n",
        "print ('\\n confussion matrix:\\n',con_matrix)\n",
        "# [[TN FP]\n",
        "#  [FN TP]]\n",
        "\n",
        "TN = con_matrix[0][0]\n",
        "TP = con_matrix[1][1]\n",
        "FP = con_matrix[0][1]\n",
        "FN = con_matrix[1][0]"
      ],
      "metadata": {
        "colab": {
          "base_uri": "https://localhost:8080/"
        },
        "id": "YSeUBKDT_RpD",
        "outputId": "c48bcd81-50ad-4f89-bed2-319faa185200"
      },
      "execution_count": 91,
      "outputs": [
        {
          "output_type": "stream",
          "name": "stdout",
          "text": [
            "\n",
            " confussion matrix:\n",
            " [[5539  104]\n",
            " [   3   14]]\n"
          ]
        }
      ]
    },
    {
      "cell_type": "code",
      "source": [
        "from sklearn.metrics import roc_auc_score\n",
        "roc_auc_score(y_test,y_pred_rcv)"
      ],
      "metadata": {
        "colab": {
          "base_uri": "https://localhost:8080/"
        },
        "id": "Le0DYf46ukUO",
        "outputId": "091ef86a-c935-438a-fa8b-660d89fd5b0a"
      },
      "execution_count": 74,
      "outputs": [
        {
          "output_type": "execute_result",
          "data": {
            "text/plain": [
              "0.9025497492989754"
            ]
          },
          "metadata": {},
          "execution_count": 74
        }
      ]
    },
    {
      "cell_type": "code",
      "execution_count": 73,
      "metadata": {
        "id": "jH3UCx0IUmnz",
        "colab": {
          "base_uri": "https://localhost:8080/",
          "height": 448
        },
        "outputId": "330aa474-7964-4100-cb99-b951c1b61419"
      },
      "outputs": [
        {
          "output_type": "execute_result",
          "data": {
            "text/plain": [
              "<Axes: >"
            ]
          },
          "metadata": {},
          "execution_count": 73
        },
        {
          "output_type": "display_data",
          "data": {
            "text/plain": [
              "<Figure size 640x480 with 1 Axes>"
            ],
            "image/png": "[encoded data removed]"
          },
          "metadata": {}
        }
      ],
      "source": [
        "# list of important features\n",
        "\n",
        "importances = rf_best.feature_importances_\n",
        "weights = pd.Series(importances,\n",
        "                 index=X_resampled_ada.columns.values)\n",
        "weights.sort_values()[-10:].plot(kind = 'barh')"
      ]
    },
    {
      "cell_type": "markdown",
      "source": [
        "# 5. What are the key factors that predict fraudulent customer? \n",
        "The key factors are:\n",
        "* oldbalanceOrg: initial balance before the transaction\n",
        "* newbalanceOrig: new balance after the transaction\n",
        "* type: PAYMENT\n",
        "* oldbalanceDest - initial balance recipient before the transaction. Note that there is not information for customers that start with M (Merchants).\n",
        "* amount - amount of the transaction in local currency."
      ],
      "metadata": {
        "id": "QTLhsuCm51D-"
      }
    },
    {
      "cell_type": "markdown",
      "source": [
        "# 6. Do these factors make sense? If yes, How? If not, How not? \n",
        "Yes! These factors definitely makes sense. It's logical to see compare the balance before and after the transaction. In most of the cases the fraud happend while doing PAYMENT and when the amount was in Local Currency."
      ],
      "metadata": {
        "id": "SFVAyoIN578P"
      }
    },
    {
      "cell_type": "markdown",
      "source": [
        "# 7. What kind of prevention should be adopted while company update its infrastructure?\n",
        "We need to keep an eye on while doing PAYMENT in the local currency and when the amount is big."
      ],
      "metadata": {
        "id": "1BUzQnGC595_"
      }
    },
    {
      "cell_type": "markdown",
      "source": [
        "# 8. Assuming these actions have been implemented, how would you determine if they work?\n",
        "* **Calculate the fraud detection rate:** This is the percentage of fraudulent transactions or cases that are detected by the system out of the total number of fraudulent transactions or cases that occur. A higher fraud detection rate indicates a better performance of the system."
      ],
      "metadata": {
        "id": "6fIOeNNw6BPH"
      }
    },
    {
      "cell_type": "code",
      "source": [
        "print ('Accuracy: ', accuracy_score(y_test, y_pred_rcv))"
      ],
      "metadata": {
        "colab": {
          "base_uri": "https://localhost:8080/"
        },
        "id": "nKYAp8H85_k2",
        "outputId": "8f6a26c1-2a75-43a2-b71c-e97aaa9c4f6c"
      },
      "execution_count": 83,
      "outputs": [
        {
          "output_type": "stream",
          "name": "stdout",
          "text": [
            "Accuracy:  0.981095406360424\n"
          ]
        }
      ]
    },
    {
      "cell_type": "markdown",
      "source": [
        "* **Calculate the false positive rate:** This is the percentage of legitimate transactions or cases that are flagged as fraudulent by the system out of the total number of legitimate transactions or cases that occur. A lower false positive rate indicates a better accuracy of the system."
      ],
      "metadata": {
        "id": "-Qmzu63e-J6W"
      }
    },
    {
      "cell_type": "code",
      "source": [
        "FPR = FP / (FP + TN)\n",
        "FPR"
      ],
      "metadata": {
        "colab": {
          "base_uri": "https://localhost:8080/"
        },
        "id": "_3y_iyjj-GK7",
        "outputId": "205ebec4-15c1-40ec-c2cd-5e2f35611428"
      },
      "execution_count": 92,
      "outputs": [
        {
          "output_type": "execute_result",
          "data": {
            "text/plain": [
              "0.018429913166755272"
            ]
          },
          "metadata": {},
          "execution_count": 92
        }
      ]
    },
    {
      "cell_type": "markdown",
      "source": [
        "* **Conduct user feedback surveys:** This is a way to collect qualitative data from the users of the fraud detection system."
      ],
      "metadata": {
        "id": "1o5HfiryASst"
      }
    },
    {
      "cell_type": "code",
      "source": [],
      "metadata": {
        "id": "BZD5RAkUAIPY"
      },
      "execution_count": null,
      "outputs": []
    }
  ],
  "metadata": {
    "colab": {
      "provenance": [],
      "authorship_tag": "ABX9TyMrA+UP6zYpQs9Gc5CyPlpE",
      "include_colab_link": true
    },
    "kernelspec": {
      "display_name": "Python 3",
      "name": "python3"
    },
    "language_info": {
      "name": "python"
    },
    "accelerator": "TPU",
    "gpuClass": "standard"
  },
  "nbformat": 4,
  "nbformat_minor": 0
}