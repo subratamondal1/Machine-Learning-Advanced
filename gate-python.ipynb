{
 "cells": [
  {
   "cell_type": "code",
   "execution_count": 1,
   "id": "9016676e",
   "metadata": {
    "_cell_guid": "b1076dfc-b9ad-4769-8c92-a6c4dae69d19",
    "_uuid": "8f2839f25d086af736a60e9eeb907d3b93b6e0e5",
    "execution": {
     "iopub.execute_input": "2023-04-01T18:58:57.244188Z",
     "iopub.status.busy": "2023-04-01T18:58:57.243255Z",
     "iopub.status.idle": "2023-04-01T18:58:57.257408Z",
     "shell.execute_reply": "2023-04-01T18:58:57.256437Z"
    },
    "papermill": {
     "duration": 0.056495,
     "end_time": "2023-04-01T18:58:57.259896",
     "exception": false,
     "start_time": "2023-04-01T18:58:57.203401",
     "status": "completed"
    },
    "tags": []
   },
   "outputs": [],
   "source": [
    "# This Python 3 environment comes with many helpful analytics libraries installed\n",
    "# It is defined by the kaggle/python Docker image: https://github.com/kaggle/docker-python\n",
    "# For example, here's several helpful packages to load\n",
    "\n",
    "import numpy as np # linear algebra\n",
    "import pandas as pd # data processing, CSV file I/O (e.g. pd.read_csv)\n",
    "\n",
    "# Input data files are available in the read-only \"../input/\" directory\n",
    "# For example, running this (by clicking run or pressing Shift+Enter) will list all files under the input directory\n",
    "\n",
    "import os\n",
    "for dirname, _, filenames in os.walk('/kaggle/input'):\n",
    "    for filename in filenames:\n",
    "        print(os.path.join(dirname, filename))\n",
    "\n",
    "# You can write up to 20GB to the current directory (/kaggle/working/) that gets preserved as output when you create a version using \"Save & Run All\" \n",
    "# You can also write temporary files to /kaggle/temp/, but they won't be saved outside of the current session"
   ]
  },
  {
   "cell_type": "markdown",
   "id": "fd06222f",
   "metadata": {
    "papermill": {
     "duration": 0.031635,
     "end_time": "2023-04-01T18:58:57.325617",
     "exception": false,
     "start_time": "2023-04-01T18:58:57.293982",
     "status": "completed"
    },
    "tags": []
   },
   "source": [
    "---\n",
    "# <center>PROGRAMMING FUNDAMENTALS</center>\n",
    "---"
   ]
  },
  {
   "cell_type": "markdown",
   "id": "fa3977a9",
   "metadata": {
    "papermill": {
     "duration": 0.031208,
     "end_time": "2023-04-01T18:58:57.388342",
     "exception": false,
     "start_time": "2023-04-01T18:58:57.357134",
     "status": "completed"
    },
    "tags": []
   },
   "source": [
    "## What is Python?\n",
    "---\n",
    "Python is a popular programming language that was created by `Guido van Rossum` and released in `1991`. It is used for various purposes such as web development, software development, mathematics, data science, machine learning and system scripting. Python has a simple and readable syntax that resembles the English language. It also supports multiple programming paradigms such as object-oriented, procedural and functional. Python runs on an interpreter system, which means that code can be executed as soon as it is written. Python works on different platforms such as Windows, Mac, Linux and Raspberry Pi."
   ]
  },
  {
   "cell_type": "markdown",
   "id": "6ce337f2",
   "metadata": {
    "papermill": {
     "duration": 0.031204,
     "end_time": "2023-04-01T18:58:57.451404",
     "exception": false,
     "start_time": "2023-04-01T18:58:57.420200",
     "status": "completed"
    },
    "tags": []
   },
   "source": [
    "## What can Python do?\n",
    "---\n",
    "* Python can be used to perform data science and machine learning tasks.\n",
    "* Python can be used on a server to create web applications. \n",
    "* Python can be used alongside software to create workflows.\n",
    "* Python can be used to connect to database systems. It can also read and modify files.\n",
    "* Python can be used to handle big data and perform complex mathematics.\n",
    "* Python can be used for rapid prototyping, or for production-ready software development."
   ]
  },
  {
   "cell_type": "markdown",
   "id": "d167f502",
   "metadata": {
    "papermill": {
     "duration": 0.03134,
     "end_time": "2023-04-01T18:58:57.514522",
     "exception": false,
     "start_time": "2023-04-01T18:58:57.483182",
     "status": "completed"
    },
    "tags": []
   },
   "source": [
    "## Why Python?\n",
    "---\n",
    "* Python works on different platforms (Windows, Mac, Linux, Raspberry Pi, etc).\n",
    "* Python has a simple syntax similar to the English language.\n",
    "* Python has syntax that allows developers to write programs with fewer lines than some other programming languages.\n",
    "* Python runs on an interpreter system, meaning that code can be executed as soon as it is written. This means that prototyping can be very quick.\n",
    "* Python can be treated in a procedural way, an object-oriented way or a functional way."
   ]
  },
  {
   "cell_type": "markdown",
   "id": "c8d1ace9",
   "metadata": {
    "papermill": {
     "duration": 0.031132,
     "end_time": "2023-04-01T18:58:57.577062",
     "exception": false,
     "start_time": "2023-04-01T18:58:57.545930",
     "status": "completed"
    },
    "tags": []
   },
   "source": [
    "## Python Syntax compared to other programming languages?\n",
    "---\n",
    "* Python was designed for readability, and has some similarities to the English language with influence from mathematics.\n",
    "* Python uses new lines to complete a command, as opposed to other programming languages which often use semicolons or parentheses.\n",
    "* Python relies on indentation, using whitespace, to define scope; such as the scope of loops, functions and classes. Other programming languages often use curly-brackets for this purpose."
   ]
  },
  {
   "cell_type": "markdown",
   "id": "0ee51c2f",
   "metadata": {
    "papermill": {
     "duration": 0.0309,
     "end_time": "2023-04-01T18:58:57.639367",
     "exception": false,
     "start_time": "2023-04-01T18:58:57.608467",
     "status": "completed"
    },
    "tags": []
   },
   "source": [
    "## Built-in Data Types\n",
    "---\n",
    "In programming, data type is an important concept.Variables can store data of different types, and different types can do different things.\n",
    "\n",
    "Python has the following data types built-in by default, in these categories:\n",
    "\n",
    "* Text Type:\t`str`\n",
    "* Numeric Types:\t`int, float, complex`\n",
    "* Sequence Types:\t`list, tuple, range`\n",
    "* Mapping Type:\t`dict`\n",
    "* Set Types:\t`set, frozenset`\n",
    "* Boolean Type:\t`bool`\n",
    "* Binary Types:\t`bytes, bytearray, memoryview`\n",
    "* None Type:\t`NoneType`"
   ]
  },
  {
   "cell_type": "markdown",
   "id": "31498457",
   "metadata": {
    "papermill": {
     "duration": 0.032727,
     "end_time": "2023-04-01T18:58:57.703425",
     "exception": false,
     "start_time": "2023-04-01T18:58:57.670698",
     "status": "completed"
    },
    "tags": []
   },
   "source": [
    "### a. Getting the Data Type\n",
    "You can get the data type of any object by using the `type()` function:\n",
    "\n",
    "### b. Setting the Data Type \n",
    "In Python, the data type is set when you assign a value to a variable:"
   ]
  },
  {
   "cell_type": "code",
   "execution_count": 2,
   "id": "a131b97b",
   "metadata": {
    "execution": {
     "iopub.execute_input": "2023-04-01T18:58:57.769415Z",
     "iopub.status.busy": "2023-04-01T18:58:57.768989Z",
     "iopub.status.idle": "2023-04-01T18:58:57.775114Z",
     "shell.execute_reply": "2023-04-01T18:58:57.773921Z"
    },
    "papermill": {
     "duration": 0.043549,
     "end_time": "2023-04-01T18:58:57.779437",
     "exception": false,
     "start_time": "2023-04-01T18:58:57.735888",
     "status": "completed"
    },
    "tags": []
   },
   "outputs": [
    {
     "name": "stdout",
     "output_type": "stream",
     "text": [
      "Text Type\n",
      "<class 'str'>\n"
     ]
    }
   ],
   "source": [
    "### Text Type ###\n",
    "print(\"Text Type\")\n",
    "\n",
    "# str\n",
    "x = \"Hello World\"\n",
    "x = str(\"Hello World\")\n",
    "print(type(x))"
   ]
  },
  {
   "cell_type": "code",
   "execution_count": 3,
   "id": "2e736099",
   "metadata": {
    "execution": {
     "iopub.execute_input": "2023-04-01T18:58:57.847725Z",
     "iopub.status.busy": "2023-04-01T18:58:57.846696Z",
     "iopub.status.idle": "2023-04-01T18:58:57.854571Z",
     "shell.execute_reply": "2023-04-01T18:58:57.852956Z"
    },
    "papermill": {
     "duration": 0.044232,
     "end_time": "2023-04-01T18:58:57.857122",
     "exception": false,
     "start_time": "2023-04-01T18:58:57.812890",
     "status": "completed"
    },
    "tags": []
   },
   "outputs": [
    {
     "name": "stdout",
     "output_type": "stream",
     "text": [
      "\n",
      "Numeric Type\n",
      "<class 'int'>\n",
      "<class 'float'>\n",
      "<class 'complex'>\n"
     ]
    }
   ],
   "source": [
    "### Numeric Type ##\n",
    "print(\"\\nNumeric Type\")\n",
    "\n",
    "# int\n",
    "x = 5\n",
    "x = int(5)\n",
    "print(type(x))\n",
    "\n",
    "# float\n",
    "x = 5.0\n",
    "x = float(5.0)\n",
    "print(type(x))\n",
    "\n",
    "# complex\n",
    "x = 5 + 4j\n",
    "x = complex(5 + 4j)\n",
    "print(type(x))"
   ]
  },
  {
   "cell_type": "code",
   "execution_count": 4,
   "id": "7a4343af",
   "metadata": {
    "execution": {
     "iopub.execute_input": "2023-04-01T18:58:57.923098Z",
     "iopub.status.busy": "2023-04-01T18:58:57.922124Z",
     "iopub.status.idle": "2023-04-01T18:58:57.929620Z",
     "shell.execute_reply": "2023-04-01T18:58:57.928479Z"
    },
    "papermill": {
     "duration": 0.044642,
     "end_time": "2023-04-01T18:58:57.933562",
     "exception": false,
     "start_time": "2023-04-01T18:58:57.888920",
     "status": "completed"
    },
    "tags": []
   },
   "outputs": [
    {
     "name": "stdout",
     "output_type": "stream",
     "text": [
      "\n",
      "Sequence Type\n",
      "<class 'list'>\n",
      "<class 'tuple'>\n",
      "<class 'range'>\n"
     ]
    }
   ],
   "source": [
    "### Sequence Type ###\n",
    "print(\"\\nSequence Type\")\n",
    "\n",
    "# list\n",
    "x = [\"apple\", \"banana\", \"cherry\"]\n",
    "x = list([\"apple\", \"banana\", \"cherry\"])\n",
    "print(type(x))\n",
    "\n",
    "# tuple\n",
    "x = (\"apple\", \"banana\", \"cherry\")\n",
    "x = tuple((\"apple\", \"banana\", \"cherry\"))\n",
    "print(type(x))\n",
    "\n",
    "# range\n",
    "x = range(5)\n",
    "print(type(x))"
   ]
  },
  {
   "cell_type": "code",
   "execution_count": 5,
   "id": "57cc5fe4",
   "metadata": {
    "execution": {
     "iopub.execute_input": "2023-04-01T18:58:58.000924Z",
     "iopub.status.busy": "2023-04-01T18:58:58.000171Z",
     "iopub.status.idle": "2023-04-01T18:58:58.007330Z",
     "shell.execute_reply": "2023-04-01T18:58:58.005860Z"
    },
    "papermill": {
     "duration": 0.043836,
     "end_time": "2023-04-01T18:58:58.010464",
     "exception": false,
     "start_time": "2023-04-01T18:58:57.966628",
     "status": "completed"
    },
    "tags": []
   },
   "outputs": [
    {
     "name": "stdout",
     "output_type": "stream",
     "text": [
      "\n",
      "Mapping Type\n",
      "<class 'dict'>\n"
     ]
    }
   ],
   "source": [
    "### Mapping Type ###\n",
    "print(\"\\nMapping Type\")\n",
    "\n",
    "# dict\n",
    "x = {\"name\" : \"Subrata Mondal\", \"age\" : 23}\n",
    "x = dict(name = \"Subrata Mondal\", age = 23)\n",
    "print(type(x))"
   ]
  },
  {
   "cell_type": "code",
   "execution_count": 6,
   "id": "fa75e2fc",
   "metadata": {
    "execution": {
     "iopub.execute_input": "2023-04-01T18:58:58.077636Z",
     "iopub.status.busy": "2023-04-01T18:58:58.076869Z",
     "iopub.status.idle": "2023-04-01T18:58:58.084209Z",
     "shell.execute_reply": "2023-04-01T18:58:58.082933Z"
    },
    "papermill": {
     "duration": 0.043304,
     "end_time": "2023-04-01T18:58:58.086773",
     "exception": false,
     "start_time": "2023-04-01T18:58:58.043469",
     "status": "completed"
    },
    "tags": []
   },
   "outputs": [
    {
     "name": "stdout",
     "output_type": "stream",
     "text": [
      "\n",
      "Set Type\n",
      "<class 'set'>\n",
      "<class 'frozenset'>\n"
     ]
    }
   ],
   "source": [
    "### Set Type ###\n",
    "print(\"\\nSet Type\")\n",
    "\n",
    "# set \n",
    "x = {\"apple\", \"banana\", \"cherry\"}\n",
    "x = set({\"apple\", \"banana\", \"cherry\"})\n",
    "print(type(x))\n",
    "\n",
    "# frozenset \n",
    "x = frozenset({\"apple\", \"banana\", \"cherry\"})\n",
    "print(type(x))"
   ]
  },
  {
   "cell_type": "code",
   "execution_count": 7,
   "id": "91901349",
   "metadata": {
    "execution": {
     "iopub.execute_input": "2023-04-01T18:58:58.153796Z",
     "iopub.status.busy": "2023-04-01T18:58:58.152970Z",
     "iopub.status.idle": "2023-04-01T18:58:58.159589Z",
     "shell.execute_reply": "2023-04-01T18:58:58.157979Z"
    },
    "papermill": {
     "duration": 0.043311,
     "end_time": "2023-04-01T18:58:58.162008",
     "exception": false,
     "start_time": "2023-04-01T18:58:58.118697",
     "status": "completed"
    },
    "tags": []
   },
   "outputs": [
    {
     "name": "stdout",
     "output_type": "stream",
     "text": [
      "\n",
      "Boolean Type\n",
      "<class 'bool'>\n"
     ]
    }
   ],
   "source": [
    "### Boolean Type ###\n",
    "print(\"\\nBoolean Type\")\n",
    "\n",
    "# bool\n",
    "x = True\n",
    "print(type(x))"
   ]
  },
  {
   "cell_type": "code",
   "execution_count": 8,
   "id": "bbd953bf",
   "metadata": {
    "execution": {
     "iopub.execute_input": "2023-04-01T18:58:58.228701Z",
     "iopub.status.busy": "2023-04-01T18:58:58.227789Z",
     "iopub.status.idle": "2023-04-01T18:58:58.234765Z",
     "shell.execute_reply": "2023-04-01T18:58:58.233212Z"
    },
    "papermill": {
     "duration": 0.043198,
     "end_time": "2023-04-01T18:58:58.237367",
     "exception": false,
     "start_time": "2023-04-01T18:58:58.194169",
     "status": "completed"
    },
    "tags": []
   },
   "outputs": [
    {
     "name": "stdout",
     "output_type": "stream",
     "text": [
      "\n",
      "Binary Type\n",
      "<class 'bytes'>\n",
      "<class 'bytearray'>\n",
      "<class 'memoryview'>\n"
     ]
    }
   ],
   "source": [
    "### Binary Type ###\n",
    "print(\"\\nBinary Type\")\n",
    "\n",
    "# binary\n",
    "x = b\"Subrata Mondal\"\n",
    "x = bytes(b\"Subrata Mondal\")\n",
    "print(type(x))\n",
    "\n",
    "# bytearray\n",
    "x = bytearray(5)\n",
    "print(type(x))\n",
    "\n",
    "# memoryview\n",
    "x = memoryview(bytearray(5))\n",
    "print(type(x))"
   ]
  },
  {
   "cell_type": "code",
   "execution_count": 9,
   "id": "0ad8750e",
   "metadata": {
    "execution": {
     "iopub.execute_input": "2023-04-01T18:58:58.303413Z",
     "iopub.status.busy": "2023-04-01T18:58:58.302947Z",
     "iopub.status.idle": "2023-04-01T18:58:58.309283Z",
     "shell.execute_reply": "2023-04-01T18:58:58.307878Z"
    },
    "papermill": {
     "duration": 0.042426,
     "end_time": "2023-04-01T18:58:58.311821",
     "exception": false,
     "start_time": "2023-04-01T18:58:58.269395",
     "status": "completed"
    },
    "tags": []
   },
   "outputs": [
    {
     "name": "stdout",
     "output_type": "stream",
     "text": [
      "\n",
      "NoneType Type\n",
      "<class 'NoneType'>\n"
     ]
    }
   ],
   "source": [
    "### NoneType Type ###\n",
    "print(\"\\nNoneType Type\")\n",
    "\n",
    "# none type\n",
    "x = None\n",
    "print(type(x))"
   ]
  },
  {
   "cell_type": "markdown",
   "id": "7a0b1970",
   "metadata": {
    "papermill": {
     "duration": 0.032214,
     "end_time": "2023-04-01T18:58:58.376501",
     "exception": false,
     "start_time": "2023-04-01T18:58:58.344287",
     "status": "completed"
    },
    "tags": []
   },
   "source": [
    "## What are Comments in Python?\n",
    "---\n",
    "Comments in Python are programmer-readable explanations or annotations in the Python source code. They are added with the purpose of making the source code easier for humans to understand, and are ignored by the Python interpreter.\n",
    "\n",
    "Comments can be used to:\n",
    "\n",
    "* Explain what a certain line or block of code does\n",
    "* Make the code more readable and organized\n",
    "* Prevent execution of some code when testing or debugging\n",
    "* Document a specific class, module, function or method\n",
    "* Comments in Python start with a hash symbol (#) and extend to the end of the line.\n",
    "\n",
    "`Note:` Use comment only if it adds value to the line of code i.e it helps to understand the line of code"
   ]
  },
  {
   "cell_type": "code",
   "execution_count": 10,
   "id": "a5b5fbc7",
   "metadata": {
    "execution": {
     "iopub.execute_input": "2023-04-01T18:58:58.443136Z",
     "iopub.status.busy": "2023-04-01T18:58:58.442673Z",
     "iopub.status.idle": "2023-04-01T18:58:58.449401Z",
     "shell.execute_reply": "2023-04-01T18:58:58.447784Z"
    },
    "papermill": {
     "duration": 0.043391,
     "end_time": "2023-04-01T18:58:58.452233",
     "exception": false,
     "start_time": "2023-04-01T18:58:58.408842",
     "status": "completed"
    },
    "tags": []
   },
   "outputs": [
    {
     "name": "stdout",
     "output_type": "stream",
     "text": [
      "Hello, world!\n"
     ]
    }
   ],
   "source": [
    "# This is a comment (unnecessary comment)\n",
    "print(\"Hello, world!\") # This is also a comment (unnecessary comment)"
   ]
  },
  {
   "cell_type": "markdown",
   "id": "60a665eb",
   "metadata": {
    "papermill": {
     "duration": 0.032294,
     "end_time": "2023-04-01T18:58:58.516860",
     "exception": false,
     "start_time": "2023-04-01T18:58:58.484566",
     "status": "completed"
    },
    "tags": []
   },
   "source": [
    "Python does not have a syntax for multiline comments. To add a multiline comment, you can either insert a `#` for each line, or use a multiline string (triple quotes) that is not assigned to a variable. For example:"
   ]
  },
  {
   "cell_type": "code",
   "execution_count": 11,
   "id": "205a4c45",
   "metadata": {
    "execution": {
     "iopub.execute_input": "2023-04-01T18:58:58.583563Z",
     "iopub.status.busy": "2023-04-01T18:58:58.583120Z",
     "iopub.status.idle": "2023-04-01T18:58:58.589994Z",
     "shell.execute_reply": "2023-04-01T18:58:58.588520Z"
    },
    "papermill": {
     "duration": 0.043487,
     "end_time": "2023-04-01T18:58:58.592595",
     "exception": false,
     "start_time": "2023-04-01T18:58:58.549108",
     "status": "completed"
    },
    "tags": []
   },
   "outputs": [
    {
     "name": "stdout",
     "output_type": "stream",
     "text": [
      "Hello, world!\n",
      "Hello, world!\n"
     ]
    }
   ],
   "source": [
    "# This is a \n",
    "# multiline comment\n",
    "print(\"Hello, world!\")\n",
    "\n",
    "\"\"\"\n",
    "This is also \n",
    "a multiline comment\n",
    "\"\"\"\n",
    "print(\"Hello, world!\")"
   ]
  },
  {
   "cell_type": "markdown",
   "id": "d2bd96ce",
   "metadata": {
    "papermill": {
     "duration": 0.031878,
     "end_time": "2023-04-01T18:58:58.657112",
     "exception": false,
     "start_time": "2023-04-01T18:58:58.625234",
     "status": "completed"
    },
    "tags": []
   },
   "source": [
    "## The print() function in Python?\n",
    "---\n",
    "The `print()` function in Python is used to print the specified message or object to the standard output device (screen) or to a text stream file. The print() function can take one or more arguments that are separated by commas. The arguments can be of any data type, such as strings, numbers, lists, tuples, dictionaries, etc. The print() function will convert any non-string argument into a string before printing it.\n",
    "\n",
    "The syntax of the `print()` function is:\n",
    "```python\n",
    "print(object(s), sep=separator, end=end, file=file, flush=flush)\n",
    "```\n",
    "\n",
    "The parameters of the `print()` function are:\n",
    "\n",
    "* `object(s):` Any object or objects like str,int,tuple,etc that you want to print. If there are multiple objects, they will be separated by spaces by default.\n",
    "* `sep:` An optional parameter that specifies how to separate multiple objects. The default value is `’ ’` (a space).\n",
    "* `end:` An optional parameter that specifies what to print at the end of the line. The default value is `‘\\n’` (a newline character).\n",
    "* `file:` An optional parameter that specifies where to write the output. The default value is `sys.stdout` (the standard output device).\n",
    "* `flush:` An optional parameter that specifies whether to flush the output buffer or not. The default value is `False`.\n",
    "\n",
    "Some examples of using the print () function are:"
   ]
  },
  {
   "cell_type": "code",
   "execution_count": 12,
   "id": "02e0a4fa",
   "metadata": {
    "execution": {
     "iopub.execute_input": "2023-04-01T18:58:58.723539Z",
     "iopub.status.busy": "2023-04-01T18:58:58.723127Z",
     "iopub.status.idle": "2023-04-01T18:58:58.730614Z",
     "shell.execute_reply": "2023-04-01T18:58:58.729245Z"
    },
    "papermill": {
     "duration": 0.043997,
     "end_time": "2023-04-01T18:58:58.733394",
     "exception": false,
     "start_time": "2023-04-01T18:58:58.689397",
     "status": "completed"
    },
    "tags": []
   },
   "outputs": [
    {
     "name": "stdout",
     "output_type": "stream",
     "text": [
      "Hello, world!\n",
      "The answer is 42\n",
      "Python--->is--->fun\n",
      "Hello world\n"
     ]
    }
   ],
   "source": [
    "# Printing a string\n",
    "print(\"Hello, world!\")\n",
    "\n",
    "# Printing multiple objects\n",
    "print(\"The answer is\", 42)\n",
    "\n",
    "# Printing with a custom separator\n",
    "print(\"Python\", \"is\", \"fun\", sep=\"--->\")\n",
    "\n",
    "# Printing with a custom end\n",
    "print(\"Hello\", end=\" \")\n",
    "print(\"world\")\n",
    "\n",
    "# Printing to a file\n",
    "with open(\"output.txt\", \"w\") as f:\n",
    "    print(\"This is written to a file\", file=f)"
   ]
  },
  {
   "cell_type": "markdown",
   "id": "606798b7",
   "metadata": {
    "papermill": {
     "duration": 0.032709,
     "end_time": "2023-04-01T18:58:58.799329",
     "exception": false,
     "start_time": "2023-04-01T18:58:58.766620",
     "status": "completed"
    },
    "tags": []
   },
   "source": [
    "### Explain flush in python's print function\n",
    "```python\n",
    "print(object(s), flush=False)\n",
    "```\n",
    "\n",
    "The flush parameter of the print() function is used to control whether the output is buffered or not. By default, the print () function will buffer the output data until a newline character (`\\n`) is encountered or the buffer is full. This can improve the performance of writing data to a file or a device, but it can also cause delays or inconsistencies in displaying the output.\n",
    "\n",
    "```python\n",
    "print(object(s), flush=True)\n",
    "```\n",
    "\n",
    "If you set `flush=True` in the print() function, then it will force the output data to be written immediately without buffering. This can be useful when you want to see the output as soon as possible, such as when debugging, logging, monitoring, or creating interactive user interfaces."
   ]
  },
  {
   "cell_type": "markdown",
   "id": "2037bdd8",
   "metadata": {
    "papermill": {
     "duration": 0.032383,
     "end_time": "2023-04-01T18:58:58.864741",
     "exception": false,
     "start_time": "2023-04-01T18:58:58.832358",
     "status": "completed"
    },
    "tags": []
   },
   "source": [
    "### What is buffering?\n",
    "Buffering is the process of storing data temporarily in a memory area called a `buffer`. Buffering can be used for various purposes, such as:\n",
    "\n",
    "* Improving the performance of data transfer between different devices or processes by reducing the number of system calls or disk operations\n",
    "* Adjusting the speed or size differences between data sources and destinations by accumulating data until it is ready to be processed or sent\n",
    "* Manipulating or transforming data before sending or receiving it by applying filters, encodings, compressions, etc.\n",
    "* Supporting copy semantics by keeping a copy of data that may change or disappear during transmission\n",
    "* Preventing data loss or corruption by holding data until it is safely delivered or verified\n",
    "\n",
    "Python provides two built-in functions for creating buffer objects: `buffer() and memoryview()`. "
   ]
  },
  {
   "cell_type": "code",
   "execution_count": 13,
   "id": "23b01f49",
   "metadata": {
    "execution": {
     "iopub.execute_input": "2023-04-01T18:58:58.931046Z",
     "iopub.status.busy": "2023-04-01T18:58:58.930618Z",
     "iopub.status.idle": "2023-04-01T18:59:02.942921Z",
     "shell.execute_reply": "2023-04-01T18:59:02.941560Z"
    },
    "papermill": {
     "duration": 4.048759,
     "end_time": "2023-04-01T18:59:02.945731",
     "exception": false,
     "start_time": "2023-04-01T18:58:58.896972",
     "status": "completed"
    },
    "tags": []
   },
   "outputs": [
    {
     "name": "stdout",
     "output_type": "stream",
     "text": [
      "Hello 1 world 1\n",
      "Hello 2 world 2\n"
     ]
    }
   ],
   "source": [
    "# Printing with default flush=False\n",
    "import time\n",
    "print(\"Hello 1\", end=\" \")\n",
    "time.sleep(2) # Wait for 5 seconds\n",
    "print(\"world 1\") # The output will appear after 5 seconds\n",
    "\n",
    "# Printing with flush=True\n",
    "import time\n",
    "print(\"Hello 2\", end=\" \", flush=True) # The output will appear immediately\n",
    "time.sleep(2) # Wait for 5 seconds\n",
    "print(\"world 2\") # The output will appear after 5 seconds"
   ]
  },
  {
   "cell_type": "markdown",
   "id": "cd5647b6",
   "metadata": {
    "papermill": {
     "duration": 0.031949,
     "end_time": "2023-04-01T18:59:03.010612",
     "exception": false,
     "start_time": "2023-04-01T18:59:02.978663",
     "status": "completed"
    },
    "tags": []
   },
   "source": [
    "### Drawbacks of flushing the output too often?\n",
    "* It can `reduce the performance` of writing data to a file or a device, since it requires more system calls and disk operations than buffering data and writing it in chunks.\n",
    "* It can `cause unwanted side effects or errors` if the output stream is shared by multiple processes or threads, since flushing can interfere with their synchronization or locking mechanisms.\n",
    "* It can `make the output less readable or consistent` if it is mixed with other output streams that are not flushed at the same time, such as logging messages, error messages, or user input prompts."
   ]
  },
  {
   "cell_type": "markdown",
   "id": "0ede3473",
   "metadata": {
    "papermill": {
     "duration": 0.031927,
     "end_time": "2023-04-01T18:59:03.075259",
     "exception": false,
     "start_time": "2023-04-01T18:59:03.043332",
     "status": "completed"
    },
    "tags": []
   },
   "source": [
    "## What are Variables in Python?\n",
    "---\n",
    "Variables in Python are **containers for storing data values**. They are **created when you assign a value to them**. They do not need to be declared with any particular type, and can even **change type after they have been set**. You can use the `type()` function to get the data type of a variable. Variable names are **case-sensitive** and must follow some rules.\n",
    "\n",
    "`Note:` Python has no command for declaring a variable. A variable is created the moment you first assign a value to it.\n",
    "\n",
    "**Some rules for variable names in Python are:**\n",
    "\n",
    "* A variable name must start with a letter or the underscore character\n",
    "* A variable name cannot start with a number\n",
    "* A variable name can only contain alpha-numeric characters and underscores (A-z, 0-9, and _ )\n",
    "* Variable names are case-sensitive (age, Age and AGE are three different variables)\n",
    "* A variable name cannot be any of the Python keywords"
   ]
  },
  {
   "cell_type": "code",
   "execution_count": 14,
   "id": "a02c3bc4",
   "metadata": {
    "execution": {
     "iopub.execute_input": "2023-04-01T18:59:03.142413Z",
     "iopub.status.busy": "2023-04-01T18:59:03.141984Z",
     "iopub.status.idle": "2023-04-01T18:59:03.147884Z",
     "shell.execute_reply": "2023-04-01T18:59:03.147085Z"
    },
    "papermill": {
     "duration": 0.04301,
     "end_time": "2023-04-01T18:59:03.150960",
     "exception": false,
     "start_time": "2023-04-01T18:59:03.107950",
     "status": "completed"
    },
    "tags": []
   },
   "outputs": [
    {
     "name": "stdout",
     "output_type": "stream",
     "text": [
      "\n",
      "old_pet: dog ; new_pet: dog\n",
      "\n",
      "old_pet: cat ; new_pet: dog\n",
      "\n",
      "old_pet: cat ; new_pet: cow\n"
     ]
    }
   ],
   "source": [
    "old_pet = \"dog\" \n",
    "new_pet = old_pet # assign old_pet to new_pet\n",
    "print(\"\\nold_pet:\",old_pet,\"; new_pet:\",new_pet)\n",
    "\n",
    "old_pet = \"cat\"   # changing the old_pet to cat doesn't affect the value in new_pet i.e it's retaining the first assigned value\n",
    "print(\"\\nold_pet:\",old_pet,\"; new_pet:\",new_pet)\n",
    "\n",
    "new_pet = \"cow\"   # changing the new_pet to cow doesn't affect the value in old_pet\n",
    "print(\"\\nold_pet:\",old_pet,\"; new_pet:\",new_pet)"
   ]
  },
  {
   "cell_type": "markdown",
   "id": "d71aaf66",
   "metadata": {
    "papermill": {
     "duration": 0.03206,
     "end_time": "2023-04-01T18:59:03.217742",
     "exception": false,
     "start_time": "2023-04-01T18:59:03.185682",
     "status": "completed"
    },
    "tags": []
   },
   "source": [
    "## What are Console Inputs in Python?\n",
    "---\n",
    "```python\n",
    "input()\n",
    "```\n",
    "Console input in Python is a way of getting data from the user through the command line interpreter. You can use the `input()` function to take **input from the console as a string**. You can also typecast the input to different data types such as int, float or str by using `int(), float() or str()` functions respectively. You can access the command line arguments passed to your script using `sys.argv` list."
   ]
  },
  {
   "cell_type": "code",
   "execution_count": 15,
   "id": "0ec063de",
   "metadata": {
    "execution": {
     "iopub.execute_input": "2023-04-01T18:59:03.285072Z",
     "iopub.status.busy": "2023-04-01T18:59:03.284671Z",
     "iopub.status.idle": "2023-04-01T18:59:03.291605Z",
     "shell.execute_reply": "2023-04-01T18:59:03.290793Z"
    },
    "papermill": {
     "duration": 0.043266,
     "end_time": "2023-04-01T18:59:03.293799",
     "exception": false,
     "start_time": "2023-04-01T18:59:03.250533",
     "status": "completed"
    },
    "tags": []
   },
   "outputs": [
    {
     "data": {
      "text/plain": [
       "'\\ninput(\"Press Enter to begin!\")\\nname = input(\"Enter your name: \")\\nage = input(f\"What is your age, {name}\")\\nprint(f\"So, your age is {age}\")\\n'"
      ]
     },
     "execution_count": 15,
     "metadata": {},
     "output_type": "execute_result"
    }
   ],
   "source": [
    "'''\n",
    "input(\"Press Enter to begin!\")\n",
    "name = input(\"Enter your name: \")\n",
    "age = input(f\"What is your age, {name}\")\n",
    "print(f\"So, your age is {age}\")\n",
    "'''"
   ]
  },
  {
   "cell_type": "markdown",
   "id": "69b31ac0",
   "metadata": {
    "papermill": {
     "duration": 0.032313,
     "end_time": "2023-04-01T18:59:03.358791",
     "exception": false,
     "start_time": "2023-04-01T18:59:03.326478",
     "status": "completed"
    },
    "tags": []
   },
   "source": [
    "## What are Command Line Arguments in Python?\n",
    "---\n",
    "Command line arguments in Python are the parameters provided to the script while executing it. They are used to pass some information to the program that can modify its behavior."
   ]
  },
  {
   "cell_type": "code",
   "execution_count": 16,
   "id": "33b71b6e",
   "metadata": {
    "execution": {
     "iopub.execute_input": "2023-04-01T18:59:03.427024Z",
     "iopub.status.busy": "2023-04-01T18:59:03.426238Z",
     "iopub.status.idle": "2023-04-01T18:59:03.433428Z",
     "shell.execute_reply": "2023-04-01T18:59:03.432003Z"
    },
    "papermill": {
     "duration": 0.044149,
     "end_time": "2023-04-01T18:59:03.436137",
     "exception": false,
     "start_time": "2023-04-01T18:59:03.391988",
     "status": "completed"
    },
    "tags": []
   },
   "outputs": [
    {
     "name": "stdout",
     "output_type": "stream",
     "text": [
      "The name of this script is: /opt/conda/lib/python3.7/site-packages/ipykernel_launcher.py\n",
      "The number of arguments passed to this script is: 3\n",
      "The arguments are:\n",
      "/opt/conda/lib/python3.7/site-packages/ipykernel_launcher.py\n",
      "-f\n",
      "/tmp/tmpmu9i_16g.json\n",
      "--HistoryManager.hist_file=:memory:\n"
     ]
    }
   ],
   "source": [
    "# This script prints the name of the script and all the arguments passed to it\n",
    "import sys\n",
    "\n",
    "print(\"The name of this script is:\", sys.argv[0])\n",
    "\n",
    "print(\"The number of arguments passed to this script is:\", len(sys.argv) - 1)\n",
    "\n",
    "print(\"The arguments are:\")\n",
    "for arg in sys.argv:\n",
    "    print(arg)"
   ]
  },
  {
   "cell_type": "markdown",
   "id": "8d0eb135",
   "metadata": {
    "papermill": {
     "duration": 0.032943,
     "end_time": "2023-04-01T18:59:03.503257",
     "exception": false,
     "start_time": "2023-04-01T18:59:03.470314",
     "status": "completed"
    },
    "tags": []
   },
   "source": [
    "## Operators\n",
    "---\n",
    "Operators in Python are `special symbols` that are used to perform operations on values and variables. They can be classified into different types based on their functionality and precedence. Some of the common types of operators in Python are:\n",
    "\n",
    "1. **Arithmetic operators:** These are used to perform basic mathematical operations like `addition, subtraction, multiplication, division, modulus, exponentiation and floor division`. For example: `x + y, x - y, x * y, x / y, x % y, x ** y, x // y`.\n",
    "2. **Assignment operators:** These are used to assign values to variables. They can also be combined with other operators to perform an operation and assign the result to a variable in one step. For example: `x = 5, x += 3, x -= 3, x *= 3, x /= 3`, etc.\n",
    "3. **Comparison operators:** These are used to compare two values and `return a boolean value (True or False)` based on the result of the comparison. They can be used for `equality, inequality, greater than, less than, greater than or equal to, less than or equal to comparisons`. For example: `x == y, x != y, x > y, x < y, x >= y, x <= y`.\n",
    "4. **Logical operators:** These are used to combine two or more boolean expressions and return a boolean value based on the logic applied. They can be used for `logical AND, OR and NOT operations`. For example: `x and y, x or y, not x`.\n",
    "5. **Identity operators:** These are `used to compare two objects and check if they are the same object with the same memory location`. They can be used for identity testing with `is` and `is not` keywords. For example: `x is y`, `x is not y`.\n",
    "6. **Membership operators:** These are `used to test if a value or a variable is present in a sequence` (such as a `string, list, tuple, dictionary or set`). They can be `used for membership testing` with `in` and `not in` keywords. For example: `x in y, x not in y`.\n",
    "7. **Bitwise operators:** These are `used to perform bitwise operations on binary numbers` (represented as integers). They can be used for `bitwise AND, OR, XOR, NOT, left shift and right shift operations`. For example: `x & y, x | y, x ^y, ~ x, x << n, x >> n`.\n"
   ]
  },
  {
   "cell_type": "code",
   "execution_count": 17,
   "id": "57732670",
   "metadata": {
    "execution": {
     "iopub.execute_input": "2023-04-01T18:59:03.571097Z",
     "iopub.status.busy": "2023-04-01T18:59:03.570654Z",
     "iopub.status.idle": "2023-04-01T18:59:03.577260Z",
     "shell.execute_reply": "2023-04-01T18:59:03.576096Z"
    },
    "papermill": {
     "duration": 0.04434,
     "end_time": "2023-04-01T18:59:03.580231",
     "exception": false,
     "start_time": "2023-04-01T18:59:03.535891",
     "status": "completed"
    },
    "tags": []
   },
   "outputs": [
    {
     "name": "stdout",
     "output_type": "stream",
     "text": [
      "15 <class 'int'>\n",
      "15.0 <class 'float'>\n"
     ]
    }
   ],
   "source": [
    "# addition\n",
    "x = 5\n",
    "y = 10\n",
    "result = x + y # This is an expression, where x & y are called operands and + is called operator\n",
    "print(result, type(result))\n",
    "\n",
    "x = 5.0\n",
    "y = 10\n",
    "result = x + y # This is an expression, where x & y are called operands and + is called operator\n",
    "print(result, type(result))"
   ]
  },
  {
   "cell_type": "code",
   "execution_count": 18,
   "id": "d2d3784b",
   "metadata": {
    "execution": {
     "iopub.execute_input": "2023-04-01T18:59:03.652218Z",
     "iopub.status.busy": "2023-04-01T18:59:03.651443Z",
     "iopub.status.idle": "2023-04-01T18:59:03.657935Z",
     "shell.execute_reply": "2023-04-01T18:59:03.656619Z"
    },
    "papermill": {
     "duration": 0.045195,
     "end_time": "2023-04-01T18:59:03.660569",
     "exception": false,
     "start_time": "2023-04-01T18:59:03.615374",
     "status": "completed"
    },
    "tags": []
   },
   "outputs": [
    {
     "name": "stdout",
     "output_type": "stream",
     "text": [
      "5 <class 'int'>\n",
      "5.0 <class 'float'>\n"
     ]
    }
   ],
   "source": [
    "# subtraction\n",
    "x = -5\n",
    "y = -10\n",
    "result = x - y # This is an expression, where x & y are called operands and + is called operator\n",
    "print(result, type(result))\n",
    "\n",
    "x = -5.0\n",
    "y = -10\n",
    "result = x - y # This is an expression, where x & y are called operands and + is called operator\n",
    "print(result, type(result))"
   ]
  },
  {
   "cell_type": "code",
   "execution_count": 19,
   "id": "019f843f",
   "metadata": {
    "execution": {
     "iopub.execute_input": "2023-04-01T18:59:03.728804Z",
     "iopub.status.busy": "2023-04-01T18:59:03.728131Z",
     "iopub.status.idle": "2023-04-01T18:59:03.735527Z",
     "shell.execute_reply": "2023-04-01T18:59:03.734195Z"
    },
    "papermill": {
     "duration": 0.044528,
     "end_time": "2023-04-01T18:59:03.738079",
     "exception": false,
     "start_time": "2023-04-01T18:59:03.693551",
     "status": "completed"
    },
    "tags": []
   },
   "outputs": [
    {
     "name": "stdout",
     "output_type": "stream",
     "text": [
      "-50 <class 'int'>\n",
      "-50.0 <class 'float'>\n"
     ]
    }
   ],
   "source": [
    "# multiplication\n",
    "x = 5\n",
    "y = -10\n",
    "result = x * y # This is an expression, where x & y are called operands and + is called operator\n",
    "print(result, type(result))\n",
    "\n",
    "x = 5.0\n",
    "y = -10\n",
    "result = x * y # This is an expression, where x & y are called operands and + is called operator\n",
    "print(result, type(result))"
   ]
  },
  {
   "cell_type": "code",
   "execution_count": 20,
   "id": "6d9c5f63",
   "metadata": {
    "execution": {
     "iopub.execute_input": "2023-04-01T18:59:03.807309Z",
     "iopub.status.busy": "2023-04-01T18:59:03.806874Z",
     "iopub.status.idle": "2023-04-01T18:59:03.812762Z",
     "shell.execute_reply": "2023-04-01T18:59:03.811958Z"
    },
    "papermill": {
     "duration": 0.043585,
     "end_time": "2023-04-01T18:59:03.815438",
     "exception": false,
     "start_time": "2023-04-01T18:59:03.771853",
     "status": "completed"
    },
    "tags": []
   },
   "outputs": [
    {
     "name": "stdout",
     "output_type": "stream",
     "text": [
      "0.5 <class 'float'>\n",
      "0.5 <class 'float'>\n"
     ]
    }
   ],
   "source": [
    "# division\n",
    "x = 5\n",
    "y = 10\n",
    "result = x / y # This is an expression, where x & y are called operands and + is called operator\n",
    "print(result, type(result))\n",
    "\n",
    "x = 5.0\n",
    "y = 10\n",
    "result = x / y # This is an expression, where x & y are called operands and + is called operator\n",
    "print(result, type(result))"
   ]
  },
  {
   "cell_type": "code",
   "execution_count": 21,
   "id": "5c9b72c2",
   "metadata": {
    "execution": {
     "iopub.execute_input": "2023-04-01T18:59:03.883143Z",
     "iopub.status.busy": "2023-04-01T18:59:03.882700Z",
     "iopub.status.idle": "2023-04-01T18:59:03.889880Z",
     "shell.execute_reply": "2023-04-01T18:59:03.888572Z"
    },
    "papermill": {
     "duration": 0.044248,
     "end_time": "2023-04-01T18:59:03.892484",
     "exception": false,
     "start_time": "2023-04-01T18:59:03.848236",
     "status": "completed"
    },
    "tags": []
   },
   "outputs": [
    {
     "name": "stdout",
     "output_type": "stream",
     "text": [
      "0 <class 'int'>\n",
      "0.0 <class 'float'>\n"
     ]
    }
   ],
   "source": [
    "# integer division\n",
    "x = 5\n",
    "y = 10\n",
    "result = x // y # This is an expression, where x & y are called operands and + is called operator\n",
    "print(result, type(result))\n",
    "\n",
    "x = 5.0\n",
    "y = 10\n",
    "result = x // y # This is an expression, where x & y are called operands and + is called operator\n",
    "print(result, type(result))"
   ]
  },
  {
   "cell_type": "code",
   "execution_count": 22,
   "id": "416e1a5c",
   "metadata": {
    "execution": {
     "iopub.execute_input": "2023-04-01T18:59:03.960965Z",
     "iopub.status.busy": "2023-04-01T18:59:03.960545Z",
     "iopub.status.idle": "2023-04-01T18:59:03.967421Z",
     "shell.execute_reply": "2023-04-01T18:59:03.966008Z"
    },
    "papermill": {
     "duration": 0.044677,
     "end_time": "2023-04-01T18:59:03.970513",
     "exception": false,
     "start_time": "2023-04-01T18:59:03.925836",
     "status": "completed"
    },
    "tags": []
   },
   "outputs": [
    {
     "name": "stdout",
     "output_type": "stream",
     "text": [
      "5 <class 'int'>\n",
      "5.0 <class 'float'>\n"
     ]
    }
   ],
   "source": [
    "# integer division\n",
    "x = 5\n",
    "y = 10\n",
    "result = x % y # This is an expression, where x & y are called operands and + is called operator\n",
    "print(result, type(result))\n",
    "\n",
    "x = 5.0\n",
    "y = 10\n",
    "result = x % y # This is an expression, where x & y are called operands and + is called operator\n",
    "print(result, type(result))"
   ]
  },
  {
   "cell_type": "markdown",
   "id": "d68a746b",
   "metadata": {
    "papermill": {
     "duration": 0.034043,
     "end_time": "2023-04-01T18:59:04.038943",
     "exception": false,
     "start_time": "2023-04-01T18:59:04.004900",
     "status": "completed"
    },
    "tags": []
   },
   "source": [
    "## What is Operator Precedence in Python?\n",
    "Python’s operator precedence is the order in which operators are evaluated when an expression contains more than one operator. It determines which operator has higher priority and should be performed first. For example, in the expression `2 + 3 * 4`, the multiplication operator `(*)` has higher precedence than the addition operator `(+)`, so it is performed first and then the result is added to.\n",
    "\n",
    "<img src=\"https://learningmonkey.in/wp-content/uploads/2021/05/Operator-Precedence-and-Associativity-in-Python.jpg\">"
   ]
  },
  {
   "cell_type": "markdown",
   "id": "4baca901",
   "metadata": {
    "papermill": {
     "duration": 0.033787,
     "end_time": "2023-04-01T18:59:04.106672",
     "exception": false,
     "start_time": "2023-04-01T18:59:04.072885",
     "status": "completed"
    },
    "tags": []
   },
   "source": [
    "## Associativity\n",
    "---\n",
    "Associativity in Python is the order in which an expression is evaluated that has multiple operators of the same precedence. Almost all operators except the exponent (`**`) support the left-to-right associativity. For example, multiplication and floor division have the same precedence. Hence, if both of them are present in an expression, the left one is evaluated first."
   ]
  },
  {
   "cell_type": "code",
   "execution_count": 23,
   "id": "94d4dcdd",
   "metadata": {
    "execution": {
     "iopub.execute_input": "2023-04-01T18:59:04.176748Z",
     "iopub.status.busy": "2023-04-01T18:59:04.175952Z",
     "iopub.status.idle": "2023-04-01T18:59:04.182166Z",
     "shell.execute_reply": "2023-04-01T18:59:04.180975Z"
    },
    "papermill": {
     "duration": 0.045019,
     "end_time": "2023-04-01T18:59:04.185379",
     "exception": false,
     "start_time": "2023-04-01T18:59:04.140360",
     "status": "completed"
    },
    "tags": []
   },
   "outputs": [
    {
     "name": "stdout",
     "output_type": "stream",
     "text": [
      "3\n",
      "0\n"
     ]
    }
   ],
   "source": [
    "# Left-right associativity\n",
    "# Output: 3\n",
    "print(5 * 2 // 3)\n",
    "\n",
    "# Shows left-right associativity\n",
    "# Output: 0\n",
    "print(5 * (2 // 3))"
   ]
  },
  {
   "cell_type": "markdown",
   "id": "cddcbd77",
   "metadata": {
    "papermill": {
     "duration": 0.032727,
     "end_time": "2023-04-01T18:59:04.252056",
     "exception": false,
     "start_time": "2023-04-01T18:59:04.219329",
     "status": "completed"
    },
    "tags": []
   },
   "source": [
    "## Type Conversions\n",
    "---\n",
    "Type conversions in Python are ways of changing the data type of a value or expression. There are two types of type conversions in Python: implicit and explicit.\n",
    "\n",
    "Implicit type conversion is when Python automatically converts one data type to another without any user involvement. This happens when an expression contains different data types and Python tries to avoid data loss by converting them to a wider-sized data type. For example:"
   ]
  },
  {
   "cell_type": "code",
   "execution_count": 24,
   "id": "4288d92f",
   "metadata": {
    "execution": {
     "iopub.execute_input": "2023-04-01T18:59:04.319734Z",
     "iopub.status.busy": "2023-04-01T18:59:04.319314Z",
     "iopub.status.idle": "2023-04-01T18:59:04.325870Z",
     "shell.execute_reply": "2023-04-01T18:59:04.324652Z"
    },
    "papermill": {
     "duration": 0.043784,
     "end_time": "2023-04-01T18:59:04.328479",
     "exception": false,
     "start_time": "2023-04-01T18:59:04.284695",
     "status": "completed"
    },
    "tags": []
   },
   "outputs": [
    {
     "name": "stdout",
     "output_type": "stream",
     "text": [
      "20.6\n",
      "<class 'float'>\n"
     ]
    }
   ],
   "source": [
    "x = 10 # int\n",
    "y = 10.6 # float\n",
    "z = x + y # int + float\n",
    "print(z) # 20.6\n",
    "print(type(z)) # <class 'float'>"
   ]
  },
  {
   "cell_type": "markdown",
   "id": "e0fedbdc",
   "metadata": {
    "papermill": {
     "duration": 0.03295,
     "end_time": "2023-04-01T18:59:04.394767",
     "exception": false,
     "start_time": "2023-04-01T18:59:04.361817",
     "status": "completed"
    },
    "tags": []
   },
   "source": [
    "Here, Python implicitly converts x to a float before adding it to y, and assigns the result as a float to z.\n",
    "\n",
    "Explicit type conversion is when the user manually changes the data type of a value or expression using built-in functions. This can be useful when we want to perform certain operations that require a specific data type, or when we want to control how the data is represented. For example:"
   ]
  },
  {
   "cell_type": "code",
   "execution_count": 25,
   "id": "08892b99",
   "metadata": {
    "execution": {
     "iopub.execute_input": "2023-04-01T18:59:04.463057Z",
     "iopub.status.busy": "2023-04-01T18:59:04.462625Z",
     "iopub.status.idle": "2023-04-01T18:59:04.469382Z",
     "shell.execute_reply": "2023-04-01T18:59:04.467964Z"
    },
    "papermill": {
     "duration": 0.043776,
     "end_time": "2023-04-01T18:59:04.471742",
     "exception": false,
     "start_time": "2023-04-01T18:59:04.427966",
     "status": "completed"
    },
    "tags": []
   },
   "outputs": [
    {
     "name": "stdout",
     "output_type": "stream",
     "text": [
      "18\n",
      "10010.0\n"
     ]
    }
   ],
   "source": [
    "s = \"10010\" # string\n",
    "c = int(s,2) # convert string to int with base 2\n",
    "print(c) # 18\n",
    "e = float(s) # convert string to float\n",
    "print(e) # 10010.0"
   ]
  },
  {
   "cell_type": "markdown",
   "id": "45e6de56",
   "metadata": {
    "papermill": {
     "duration": 0.032978,
     "end_time": "2023-04-01T18:59:04.537876",
     "exception": false,
     "start_time": "2023-04-01T18:59:04.504898",
     "status": "completed"
    },
    "tags": []
   },
   "source": [
    "Here, we explicitly convert `s` to an int with base `2` using the `int()` function, and then to a float using the float() function."
   ]
  },
  {
   "cell_type": "markdown",
   "id": "a87412d3",
   "metadata": {
    "papermill": {
     "duration": 0.036353,
     "end_time": "2023-04-01T18:59:04.607454",
     "exception": false,
     "start_time": "2023-04-01T18:59:04.571101",
     "status": "completed"
    },
    "tags": []
   },
   "source": [
    "## What are Conditions in Python?\n",
    "---\n",
    "Python conditions are expressions that evaluate to a boolean value (`True or False`) and can be used to control the flow of a program. Python supports the usual logical conditions from mathematics, such as:\n",
    "\n",
    "* Equals: `a == b`\n",
    "* Not Equals: `a != b`\n",
    "* Less than: `a < b`\n",
    "* Less than or equal to: `a <= b`\n",
    "* Greater than: `a > b`\n",
    "* Greater than or equal to: `a >= b`\n",
    "\n",
    "These conditions can be used in several ways, most commonly in if statements and loops.\n",
    "\n",
    "An if statement is written by using the if keyword followed by a condition and a colon (:), then an indented block of code that will execute if the condition is true. For example:"
   ]
  },
  {
   "cell_type": "code",
   "execution_count": 26,
   "id": "05fac4e3",
   "metadata": {
    "execution": {
     "iopub.execute_input": "2023-04-01T18:59:04.697947Z",
     "iopub.status.busy": "2023-04-01T18:59:04.697276Z",
     "iopub.status.idle": "2023-04-01T18:59:04.703214Z",
     "shell.execute_reply": "2023-04-01T18:59:04.701985Z"
    },
    "papermill": {
     "duration": 0.053971,
     "end_time": "2023-04-01T18:59:04.705906",
     "exception": false,
     "start_time": "2023-04-01T18:59:04.651935",
     "status": "completed"
    },
    "tags": []
   },
   "outputs": [
    {
     "name": "stdout",
     "output_type": "stream",
     "text": [
      "x is less than y\n"
     ]
    }
   ],
   "source": [
    "x = 10\n",
    "y = 20\n",
    "if x < y:\n",
    "    print(\"x is less than y\")"
   ]
  },
  {
   "cell_type": "markdown",
   "id": "098679b4",
   "metadata": {
    "papermill": {
     "duration": 0.032465,
     "end_time": "2023-04-01T18:59:04.771385",
     "exception": false,
     "start_time": "2023-04-01T18:59:04.738920",
     "status": "completed"
    },
    "tags": []
   },
   "source": [
    "Here, the condition x < y evaluates to True, so the print statement inside the indented block is executed.\n",
    "\n",
    "An if statement can also have an optional else clause that will execute if the condition is false. For example:"
   ]
  },
  {
   "cell_type": "code",
   "execution_count": 27,
   "id": "c1d1fd33",
   "metadata": {
    "execution": {
     "iopub.execute_input": "2023-04-01T18:59:04.839896Z",
     "iopub.status.busy": "2023-04-01T18:59:04.839238Z",
     "iopub.status.idle": "2023-04-01T18:59:04.845619Z",
     "shell.execute_reply": "2023-04-01T18:59:04.844480Z"
    },
    "papermill": {
     "duration": 0.043688,
     "end_time": "2023-04-01T18:59:04.848247",
     "exception": false,
     "start_time": "2023-04-01T18:59:04.804559",
     "status": "completed"
    },
    "tags": []
   },
   "outputs": [
    {
     "name": "stdout",
     "output_type": "stream",
     "text": [
      "x is not greater than y\n"
     ]
    }
   ],
   "source": [
    "x = 10\n",
    "y = 20\n",
    "if x > y:\n",
    "    print(\"x is greater than y\")\n",
    "else:\n",
    "    print(\"x is not greater than y\")"
   ]
  },
  {
   "cell_type": "markdown",
   "id": "05a65f8f",
   "metadata": {
    "papermill": {
     "duration": 0.033876,
     "end_time": "2023-04-01T18:59:04.915076",
     "exception": false,
     "start_time": "2023-04-01T18:59:04.881200",
     "status": "completed"
    },
    "tags": []
   },
   "source": [
    "Here, the condition `x > y` evaluates to `False`, so the else block is executed.\n",
    "\n",
    "An if statement can also have one or more elif clauses that will check for additional conditions if the previous ones are false. For example:"
   ]
  },
  {
   "cell_type": "code",
   "execution_count": 28,
   "id": "b7d8c50f",
   "metadata": {
    "execution": {
     "iopub.execute_input": "2023-04-01T18:59:04.984244Z",
     "iopub.status.busy": "2023-04-01T18:59:04.983765Z",
     "iopub.status.idle": "2023-04-01T18:59:04.990137Z",
     "shell.execute_reply": "2023-04-01T18:59:04.989241Z"
    },
    "papermill": {
     "duration": 0.045116,
     "end_time": "2023-04-01T18:59:04.993658",
     "exception": false,
     "start_time": "2023-04-01T18:59:04.948542",
     "status": "completed"
    },
    "tags": []
   },
   "outputs": [
    {
     "name": "stdout",
     "output_type": "stream",
     "text": [
      "x and y are equal\n"
     ]
    }
   ],
   "source": [
    "x = 10\n",
    "y = 10\n",
    "if x > y:\n",
    "    print(\"x is greater than y\")\n",
    "elif x == y:\n",
    "    print(\"x and y are equal\")\n",
    "else:\n",
    "    print(\"x is less than y\")"
   ]
  },
  {
   "cell_type": "markdown",
   "id": "bcd5599c",
   "metadata": {
    "papermill": {
     "duration": 0.033103,
     "end_time": "2023-04-01T18:59:05.061676",
     "exception": false,
     "start_time": "2023-04-01T18:59:05.028573",
     "status": "completed"
    },
    "tags": []
   },
   "source": [
    "Here, both `x > y` and `x < y` evaluate to `False`, but `x == y` evaluates to `True`, so the elif block is executed.\n",
    "\n",
    "Python also supports one-line if statements that can be written on a single line without indentation1. For example:"
   ]
  },
  {
   "cell_type": "code",
   "execution_count": 29,
   "id": "52fb5d13",
   "metadata": {
    "execution": {
     "iopub.execute_input": "2023-04-01T18:59:05.197654Z",
     "iopub.status.busy": "2023-04-01T18:59:05.197265Z",
     "iopub.status.idle": "2023-04-01T18:59:05.204282Z",
     "shell.execute_reply": "2023-04-01T18:59:05.203010Z"
    },
    "papermill": {
     "duration": 0.112162,
     "end_time": "2023-04-01T18:59:05.207164",
     "exception": false,
     "start_time": "2023-04-01T18:59:05.095002",
     "status": "completed"
    },
    "tags": []
   },
   "outputs": [
    {
     "name": "stdout",
     "output_type": "stream",
     "text": [
      "B\n",
      "=\n"
     ]
    }
   ],
   "source": [
    "# One-line if statement\n",
    "if x < y: print(\"x is less than y\")\n",
    "\n",
    "# One-line if else statement (ternary operator)\n",
    "print(\"A\") if x > y else print(\"B\")\n",
    "\n",
    "# One-line if elif else statement (chained ternary operator)\n",
    "print(\"A\") if x > y else print(\"=\") if x == y else print(\"B\")"
   ]
  },
  {
   "cell_type": "code",
   "execution_count": 30,
   "id": "8270e2d5",
   "metadata": {
    "execution": {
     "iopub.execute_input": "2023-04-01T18:59:05.278742Z",
     "iopub.status.busy": "2023-04-01T18:59:05.277611Z",
     "iopub.status.idle": "2023-04-01T18:59:05.284430Z",
     "shell.execute_reply": "2023-04-01T18:59:05.283292Z"
    },
    "papermill": {
     "duration": 0.044948,
     "end_time": "2023-04-01T18:59:05.287123",
     "exception": false,
     "start_time": "2023-04-01T18:59:05.242175",
     "status": "completed"
    },
    "tags": []
   },
   "outputs": [
    {
     "name": "stdout",
     "output_type": "stream",
     "text": [
      "OK\n"
     ]
    }
   ],
   "source": [
    "a = 6\n",
    "x = \"OK\" if a > 5 else \"Not OK\" # assign the value \"OK\" to x if it satisfies the condition or else assign \"Not OK\"\n",
    "print(x)"
   ]
  },
  {
   "cell_type": "markdown",
   "id": "46e8ff41",
   "metadata": {
    "papermill": {
     "duration": 0.033295,
     "end_time": "2023-04-01T18:59:05.354648",
     "exception": false,
     "start_time": "2023-04-01T18:59:05.321353",
     "status": "completed"
    },
    "tags": []
   },
   "source": [
    "`Note:` These one-line statements are useful for simple conditions, but they can reduce readability for complex logic. It’s usually better to use indentation for clarity."
   ]
  },
  {
   "cell_type": "markdown",
   "id": "e30e1a6d",
   "metadata": {
    "papermill": {
     "duration": 0.033763,
     "end_time": "2023-04-01T18:59:05.422312",
     "exception": false,
     "start_time": "2023-04-01T18:59:05.388549",
     "status": "completed"
    },
    "tags": []
   },
   "source": [
    "### Conditional Operators precedence\n",
    "**`Highest`**\n",
    "\n",
    "* Conditional/Comparison Operators\n",
    "* Not\n",
    "* And\n",
    "* Or\n",
    "\n",
    "**`Lowest`**"
   ]
  },
  {
   "cell_type": "markdown",
   "id": "1e310b64",
   "metadata": {
    "papermill": {
     "duration": 0.033438,
     "end_time": "2023-04-01T18:59:05.489561",
     "exception": false,
     "start_time": "2023-04-01T18:59:05.456123",
     "status": "completed"
    },
    "tags": []
   },
   "source": [
    "### DeMorgan's Law\n",
    "\n",
    "1. **`not(x and y) == (not x) or (not y)`**\n",
    "2. **`not(x or y) == not(x) and not(y)`**"
   ]
  },
  {
   "cell_type": "code",
   "execution_count": 31,
   "id": "c7845341",
   "metadata": {
    "execution": {
     "iopub.execute_input": "2023-04-01T18:59:05.559253Z",
     "iopub.status.busy": "2023-04-01T18:59:05.558830Z",
     "iopub.status.idle": "2023-04-01T18:59:05.565800Z",
     "shell.execute_reply": "2023-04-01T18:59:05.564499Z"
    },
    "papermill": {
     "duration": 0.045689,
     "end_time": "2023-04-01T18:59:05.569094",
     "exception": false,
     "start_time": "2023-04-01T18:59:05.523405",
     "status": "completed"
    },
    "tags": []
   },
   "outputs": [
    {
     "name": "stdout",
     "output_type": "stream",
     "text": [
      "True True\n",
      "True\n"
     ]
    }
   ],
   "source": [
    "# DeMorgan's Law\n",
    "x = not (True and False)\n",
    "y = not(True) or not(False)\n",
    "print(x,y)\n",
    "print(x==y)"
   ]
  },
  {
   "cell_type": "code",
   "execution_count": 32,
   "id": "2e31bdfa",
   "metadata": {
    "execution": {
     "iopub.execute_input": "2023-04-01T18:59:05.643242Z",
     "iopub.status.busy": "2023-04-01T18:59:05.642506Z",
     "iopub.status.idle": "2023-04-01T18:59:05.648459Z",
     "shell.execute_reply": "2023-04-01T18:59:05.647465Z"
    },
    "papermill": {
     "duration": 0.044889,
     "end_time": "2023-04-01T18:59:05.651276",
     "exception": false,
     "start_time": "2023-04-01T18:59:05.606387",
     "status": "completed"
    },
    "tags": []
   },
   "outputs": [
    {
     "name": "stdout",
     "output_type": "stream",
     "text": [
      "False False\n",
      "True\n"
     ]
    }
   ],
   "source": [
    "# DeMorgan's Law\n",
    "x = not (True or False)\n",
    "y = not(True) and not(False)\n",
    "print(x,y)\n",
    "print(x==y)"
   ]
  },
  {
   "cell_type": "markdown",
   "id": "4b869dbf",
   "metadata": {
    "papermill": {
     "duration": 0.033798,
     "end_time": "2023-04-01T18:59:05.720281",
     "exception": false,
     "start_time": "2023-04-01T18:59:05.686483",
     "status": "completed"
    },
    "tags": []
   },
   "source": [
    "## List\n",
    "---\n",
    "Lists are one of the built-in data types in Python that can store multiple items of any data type in a single variable.\n",
    "\n",
    "### Properties\n",
    "* Lists are **`ordered`**, meaning that the items have a defined order that will not change unless you change it explicitly.\n",
    "* Lists are **`changeable`**, meaning that you can add, remove, or modify items after the list is created.\n",
    "* Lists can contain arbitrary objects, meaning that the **`items can be of any data type`**, including other lists (nested lists).\n",
    "* Lists can be **`accessed by index`**, meaning that you can use positive or negative numbers to retrieve items from a list based on their position.\n",
    "* Lists are **`mutable`**, meaning that their contents can be changed without changing their identity.\n",
    "* Lists are **`dynamic`**, meaning that they can grow and shrink as needed."
   ]
  },
  {
   "cell_type": "markdown",
   "id": "55ee1f9e",
   "metadata": {
    "papermill": {
     "duration": 0.035989,
     "end_time": "2023-04-01T18:59:05.791370",
     "exception": false,
     "start_time": "2023-04-01T18:59:05.755381",
     "status": "completed"
    },
    "tags": []
   },
   "source": [
    "### Built-in methods of List\n",
    "Python lists have several built-in methods that you can use to manipulate or modify them. Some of the common list methods are:\n",
    "\n",
    "* **`append()`** : Adds an element at the end of the list\n",
    "* **`copy()`** : Returns a copy of the list\n",
    "* **`clear()`** : Removes all the elements from the list\n",
    "* **`count()`** : Returns the number of elements with the specified value\n",
    "* **`extend()`** : Adds the elements of another list (or any iterable) to the end of the current list\n",
    "* **`index()`** : Returns the index of the first element with the specified value\n",
    "* **`insert()`** : Adds an element at a specified position in the list\n",
    "* **`pop()`** : Removes and returns the element at a specified position (or last by default) in the list\n",
    "* **`remove()`** : Removes an element with a specified value from the list\n",
    "* **`reverse()`** : Reverses the order of elements in a list\n",
    "* **`sort()`** : Sorts a list in ascending, descending, or user-defined order\n",
    "\n",
    "You can use these methods by calling them on a list object with dot notation, such as:\n",
    "```python \n",
    "list.append(\"hello\")\n",
    "```\n",
    "Some methods take arguments that specify how they should operate, such as:\n",
    "```python \n",
    "list.sort(reverse=True)\n",
    "```\n",
    "You can learn more about each method by reading their documentation or using Python’s built-in help function. For example, you can type\n",
    "```python \n",
    "help(list.append)\n",
    "```\n",
    "in Python’s interactive shell to see how it works.\n",
    "\n"
   ]
  },
  {
   "cell_type": "code",
   "execution_count": 33,
   "id": "21de8196",
   "metadata": {
    "execution": {
     "iopub.execute_input": "2023-04-01T18:59:05.862914Z",
     "iopub.status.busy": "2023-04-01T18:59:05.862521Z",
     "iopub.status.idle": "2023-04-01T18:59:05.868434Z",
     "shell.execute_reply": "2023-04-01T18:59:05.867209Z"
    },
    "papermill": {
     "duration": 0.045081,
     "end_time": "2023-04-01T18:59:05.871456",
     "exception": false,
     "start_time": "2023-04-01T18:59:05.826375",
     "status": "completed"
    },
    "tags": []
   },
   "outputs": [
    {
     "name": "stdout",
     "output_type": "stream",
     "text": [
      "True\n",
      "False\n"
     ]
    }
   ],
   "source": [
    "print(\"banana\" in [\"apple\", \"banana\", \"cherry\"])\n",
    "print(\"mango\" in [\"apple\", \"banana\", \"cherry\"])"
   ]
  },
  {
   "cell_type": "code",
   "execution_count": 34,
   "id": "de16a4f1",
   "metadata": {
    "execution": {
     "iopub.execute_input": "2023-04-01T18:59:05.946364Z",
     "iopub.status.busy": "2023-04-01T18:59:05.945913Z",
     "iopub.status.idle": "2023-04-01T18:59:05.951922Z",
     "shell.execute_reply": "2023-04-01T18:59:05.950732Z"
    },
    "papermill": {
     "duration": 0.045659,
     "end_time": "2023-04-01T18:59:05.954571",
     "exception": false,
     "start_time": "2023-04-01T18:59:05.908912",
     "status": "completed"
    },
    "tags": []
   },
   "outputs": [
    {
     "name": "stdout",
     "output_type": "stream",
     "text": [
      "['apple', 'banana', 'cherry', 'orange']\n"
     ]
    }
   ],
   "source": [
    "my_list = [\"apple\", \"banana\", \"cherry\"]\n",
    "my_list.append(\"orange\")\n",
    "print(my_list) # ['apple', 'banana', 'cherry', 'orange']"
   ]
  },
  {
   "cell_type": "code",
   "execution_count": 35,
   "id": "7dd72a6b",
   "metadata": {
    "execution": {
     "iopub.execute_input": "2023-04-01T18:59:06.025244Z",
     "iopub.status.busy": "2023-04-01T18:59:06.024792Z",
     "iopub.status.idle": "2023-04-01T18:59:06.030992Z",
     "shell.execute_reply": "2023-04-01T18:59:06.029822Z"
    },
    "papermill": {
     "duration": 0.044893,
     "end_time": "2023-04-01T18:59:06.033749",
     "exception": false,
     "start_time": "2023-04-01T18:59:05.988856",
     "status": "completed"
    },
    "tags": []
   },
   "outputs": [
    {
     "name": "stdout",
     "output_type": "stream",
     "text": [
      "['apple', 'banana', 'cherry']\n"
     ]
    }
   ],
   "source": [
    "my_list = [\"apple\", \"banana\", \"cherry\"]\n",
    "new_list = my_list.copy()\n",
    "print(new_list) # ['apple', 'banana', 'cherry']"
   ]
  },
  {
   "cell_type": "code",
   "execution_count": 36,
   "id": "fe37c5cd",
   "metadata": {
    "execution": {
     "iopub.execute_input": "2023-04-01T18:59:06.104591Z",
     "iopub.status.busy": "2023-04-01T18:59:06.104155Z",
     "iopub.status.idle": "2023-04-01T18:59:06.110621Z",
     "shell.execute_reply": "2023-04-01T18:59:06.109313Z"
    },
    "papermill": {
     "duration": 0.04589,
     "end_time": "2023-04-01T18:59:06.114102",
     "exception": false,
     "start_time": "2023-04-01T18:59:06.068212",
     "status": "completed"
    },
    "tags": []
   },
   "outputs": [
    {
     "name": "stdout",
     "output_type": "stream",
     "text": [
      "[]\n"
     ]
    }
   ],
   "source": [
    "my_list = [\"apple\", \"banana\", \"cherry\"]\n",
    "my_list.clear()\n",
    "print(my_list) # []"
   ]
  },
  {
   "cell_type": "code",
   "execution_count": 37,
   "id": "7d7e65e2",
   "metadata": {
    "execution": {
     "iopub.execute_input": "2023-04-01T18:59:06.188643Z",
     "iopub.status.busy": "2023-04-01T18:59:06.187559Z",
     "iopub.status.idle": "2023-04-01T18:59:06.193937Z",
     "shell.execute_reply": "2023-04-01T18:59:06.192529Z"
    },
    "papermill": {
     "duration": 0.04598,
     "end_time": "2023-04-01T18:59:06.196319",
     "exception": false,
     "start_time": "2023-04-01T18:59:06.150339",
     "status": "completed"
    },
    "tags": []
   },
   "outputs": [
    {
     "name": "stdout",
     "output_type": "stream",
     "text": [
      "2\n"
     ]
    }
   ],
   "source": [
    "my_list = [\"apple\", \"banana\", \"cherry\", \"apple\"]\n",
    "x = my_list.count(\"apple\")\n",
    "print(x) # 2"
   ]
  },
  {
   "cell_type": "code",
   "execution_count": 38,
   "id": "02f152cc",
   "metadata": {
    "execution": {
     "iopub.execute_input": "2023-04-01T18:59:06.268045Z",
     "iopub.status.busy": "2023-04-01T18:59:06.267519Z",
     "iopub.status.idle": "2023-04-01T18:59:06.274792Z",
     "shell.execute_reply": "2023-04-01T18:59:06.273267Z"
    },
    "papermill": {
     "duration": 0.046299,
     "end_time": "2023-04-01T18:59:06.277412",
     "exception": false,
     "start_time": "2023-04-01T18:59:06.231113",
     "status": "completed"
    },
    "tags": []
   },
   "outputs": [
    {
     "name": "stdout",
     "output_type": "stream",
     "text": [
      "['apple', 'banana', 'cherry', 'orange', 'mango', 'grapes']\n"
     ]
    }
   ],
   "source": [
    "my_list = [\"apple\", \"banana\", \"cherry\"]\n",
    "fruits = [\"orange\", \"mango\", \"grapes\"]\n",
    "my_list.extend(fruits)\n",
    "print(my_list) # ['apple', 'banana', 'cherry', 'orange', 'mango', 'grapes']"
   ]
  },
  {
   "cell_type": "code",
   "execution_count": 39,
   "id": "9b4adec6",
   "metadata": {
    "execution": {
     "iopub.execute_input": "2023-04-01T18:59:06.350542Z",
     "iopub.status.busy": "2023-04-01T18:59:06.350126Z",
     "iopub.status.idle": "2023-04-01T18:59:06.355658Z",
     "shell.execute_reply": "2023-04-01T18:59:06.354648Z"
    },
    "papermill": {
     "duration": 0.046384,
     "end_time": "2023-04-01T18:59:06.358680",
     "exception": false,
     "start_time": "2023-04-01T18:59:06.312296",
     "status": "completed"
    },
    "tags": []
   },
   "outputs": [
    {
     "name": "stdout",
     "output_type": "stream",
     "text": [
      "1\n"
     ]
    }
   ],
   "source": [
    "my_list = [\"apple\", \"banana\", \"cherry\"]\n",
    "x = my_list.index(\"banana\")\n",
    "print(x) # 1"
   ]
  },
  {
   "cell_type": "code",
   "execution_count": 40,
   "id": "4e3a44c3",
   "metadata": {
    "execution": {
     "iopub.execute_input": "2023-04-01T18:59:06.432784Z",
     "iopub.status.busy": "2023-04-01T18:59:06.431465Z",
     "iopub.status.idle": "2023-04-01T18:59:06.438280Z",
     "shell.execute_reply": "2023-04-01T18:59:06.436803Z"
    },
    "papermill": {
     "duration": 0.047003,
     "end_time": "2023-04-01T18:59:06.440702",
     "exception": false,
     "start_time": "2023-04-01T18:59:06.393699",
     "status": "completed"
    },
    "tags": []
   },
   "outputs": [
    {
     "name": "stdout",
     "output_type": "stream",
     "text": [
      "['apple', 'orange', 'banana', 'cherry']\n"
     ]
    }
   ],
   "source": [
    "my_list = [\"apple\", \"banana\", \"cherry\"]\n",
    "my_list.insert(1, \"orange\")\n",
    "print(my_list) # ['apple', 'orange', 'banana', 'cherry']"
   ]
  },
  {
   "cell_type": "code",
   "execution_count": 41,
   "id": "02fef43d",
   "metadata": {
    "execution": {
     "iopub.execute_input": "2023-04-01T18:59:06.511838Z",
     "iopub.status.busy": "2023-04-01T18:59:06.511412Z",
     "iopub.status.idle": "2023-04-01T18:59:06.517991Z",
     "shell.execute_reply": "2023-04-01T18:59:06.516387Z"
    },
    "papermill": {
     "duration": 0.0463,
     "end_time": "2023-04-01T18:59:06.521543",
     "exception": false,
     "start_time": "2023-04-01T18:59:06.475243",
     "status": "completed"
    },
    "tags": []
   },
   "outputs": [
    {
     "name": "stdout",
     "output_type": "stream",
     "text": [
      "banana\n",
      "['apple', 'cherry']\n"
     ]
    }
   ],
   "source": [
    "my_list = [\"apple\", \"banana\", \"cherry\"]\n",
    "x = my_list.pop(1)\n",
    "print(x) # banana\n",
    "print(my_list) # ['apple', 'cherry']"
   ]
  },
  {
   "cell_type": "code",
   "execution_count": 42,
   "id": "86a3326b",
   "metadata": {
    "execution": {
     "iopub.execute_input": "2023-04-01T18:59:06.593521Z",
     "iopub.status.busy": "2023-04-01T18:59:06.593100Z",
     "iopub.status.idle": "2023-04-01T18:59:06.599114Z",
     "shell.execute_reply": "2023-04-01T18:59:06.597970Z"
    },
    "papermill": {
     "duration": 0.04563,
     "end_time": "2023-04-01T18:59:06.602519",
     "exception": false,
     "start_time": "2023-04-01T18:59:06.556889",
     "status": "completed"
    },
    "tags": []
   },
   "outputs": [
    {
     "name": "stdout",
     "output_type": "stream",
     "text": [
      "['apple', 'cherry']\n"
     ]
    }
   ],
   "source": [
    "my_list = [\"apple\", \"banana\", \"cherry\"]\n",
    "my_list.remove(\"banana\")\n",
    "print(my_list) # ['apple', 'cherry']"
   ]
  },
  {
   "cell_type": "code",
   "execution_count": 43,
   "id": "616e0f71",
   "metadata": {
    "execution": {
     "iopub.execute_input": "2023-04-01T18:59:06.676325Z",
     "iopub.status.busy": "2023-04-01T18:59:06.675399Z",
     "iopub.status.idle": "2023-04-01T18:59:06.681490Z",
     "shell.execute_reply": "2023-04-01T18:59:06.680331Z"
    },
    "papermill": {
     "duration": 0.04547,
     "end_time": "2023-04-01T18:59:06.684530",
     "exception": false,
     "start_time": "2023-04-01T18:59:06.639060",
     "status": "completed"
    },
    "tags": []
   },
   "outputs": [
    {
     "name": "stdout",
     "output_type": "stream",
     "text": [
      "['cherry', 'banana', 'apple']\n"
     ]
    }
   ],
   "source": [
    "my_list = [\"apple\", \"banana\", \"cherry\"]\n",
    "my_list.reverse()\n",
    "print(my_list) # ['cherry', 'banana', 'apple']"
   ]
  },
  {
   "cell_type": "code",
   "execution_count": 44,
   "id": "dbc0b9a1",
   "metadata": {
    "execution": {
     "iopub.execute_input": "2023-04-01T18:59:06.756964Z",
     "iopub.status.busy": "2023-04-01T18:59:06.756568Z",
     "iopub.status.idle": "2023-04-01T18:59:06.762661Z",
     "shell.execute_reply": "2023-04-01T18:59:06.761840Z"
    },
    "papermill": {
     "duration": 0.045253,
     "end_time": "2023-04-01T18:59:06.765426",
     "exception": false,
     "start_time": "2023-04-01T18:59:06.720173",
     "status": "completed"
    },
    "tags": []
   },
   "outputs": [
    {
     "name": "stdout",
     "output_type": "stream",
     "text": [
      "[1, 3, 5, 7]\n",
      "[7, 5, 3, 1]\n",
      "['hello', 'world', 'Python', 'programming']\n"
     ]
    }
   ],
   "source": [
    "# sort in ascending order (default)\n",
    "numbers = [5, 3, 7, 1]\n",
    "numbers.sort()\n",
    "print(numbers) # [1, 3, 5, 7]\n",
    "\n",
    "# sort in descending order \n",
    "numbers.sort(reverse=True)\n",
    "print(numbers) # [7, 5, 3, 1]\n",
    "\n",
    "# sort by length of strings \n",
    "words = [\"hello\",\"world\",\"Python\",\"programming\"]\n",
    "words.sort(key=len)\n",
    "print(words) # ['world','hello','Python','programming']"
   ]
  },
  {
   "cell_type": "markdown",
   "id": "c868ae54",
   "metadata": {
    "papermill": {
     "duration": 0.034909,
     "end_time": "2023-04-01T18:59:06.835595",
     "exception": false,
     "start_time": "2023-04-01T18:59:06.800686",
     "status": "completed"
    },
    "tags": []
   },
   "source": [
    "### Difference between copy() and assignment operator?\n",
    "The difference between `copy()` and assignment operator `(=)` in Python is that `copy()` creates a new object in memory and assigns it to a variable, while assignment operator `(=)` only creates a reference to an existing object and assigns it to a variable. For example:"
   ]
  },
  {
   "cell_type": "code",
   "execution_count": 45,
   "id": "ca2f6af8",
   "metadata": {
    "execution": {
     "iopub.execute_input": "2023-04-01T18:59:06.908077Z",
     "iopub.status.busy": "2023-04-01T18:59:06.906939Z",
     "iopub.status.idle": "2023-04-01T18:59:06.914772Z",
     "shell.execute_reply": "2023-04-01T18:59:06.913410Z"
    },
    "papermill": {
     "duration": 0.046545,
     "end_time": "2023-04-01T18:59:06.917153",
     "exception": false,
     "start_time": "2023-04-01T18:59:06.870608",
     "status": "completed"
    },
    "tags": []
   },
   "outputs": [
    {
     "name": "stdout",
     "output_type": "stream",
     "text": [
      "[4, 2, 3]\n",
      "[4, 2, 3]\n",
      "[1, 2, 3]\n",
      "[5, 2, 3]\n"
     ]
    }
   ],
   "source": [
    "# using assignment operator\n",
    "x = [1, 2, 3]\n",
    "y = x # y is a reference to x\n",
    "y[0] = 4 # this changes x as well\n",
    "print(x) # [4, 2, 3]\n",
    "print(y) # [4, 2, 3]\n",
    "\n",
    "# using copy()\n",
    "x = [1, 2, 3]\n",
    "z = x.copy() # z is a new object with same value as x\n",
    "z[0] = 5 # this does not change x\n",
    "print(x) # [1, 2, 3]\n",
    "print(z) # [5, 2, 3]"
   ]
  },
  {
   "cell_type": "markdown",
   "id": "22d5c113",
   "metadata": {
    "papermill": {
     "duration": 0.035485,
     "end_time": "2023-04-01T18:59:06.988401",
     "exception": false,
     "start_time": "2023-04-01T18:59:06.952916",
     "status": "completed"
    },
    "tags": []
   },
   "source": [
    "As you can see from the output, changing `y` affects `x` because they are both references to the same object. However, changing `z` does not affect `x` because they are different objects with different memory locations.\n",
    "\n",
    "Note that `copy()` creates a shallow copy of an object. This means that if the object contains other objects (such as lists or dictionaries), then only references to those objects are copied. To create a deep copy of an object that copies all its contents recursively, you can use `copy.deepcopy()`."
   ]
  },
  {
   "cell_type": "markdown",
   "id": "603c7628",
   "metadata": {
    "papermill": {
     "duration": 0.034699,
     "end_time": "2023-04-01T18:59:07.058558",
     "exception": false,
     "start_time": "2023-04-01T18:59:07.023859",
     "status": "completed"
    },
    "tags": []
   },
   "source": [
    "## Strings\n",
    "---\n",
    "Strings in Python are `sequences of characters` that are enclosed by either `single quotes (’ ') or double quotes (\" \")`. They are immutable, meaning that once you create a string, you cannot modify it. Strings can be accessed by using indexing or slicing, which allow you to get individual characters or substrings from a string. Strings also have many built-in methods that can perform various operations on them, such as formatting, splitting, joining, replacing, etc.\n",
    "\n",
    "### Properties\n",
    "\n",
    "* Strings are **`immutable`**, meaning that once you create a string, you cannot modify it.\n",
    "* Strings are **`case-sensitive`**, meaning that `‘Hello’ and ‘hello’` are different strings1.\n",
    "* Strings are **`not quotes sensitive`**, meaning that you can use `single quotes (’ ') or double quotes (\" \")` to create a string.\n",
    "* Strings have a **`sequential index`** starting from 0 for the first character and -1 for the last character. You can use `square brackets ([])` to access individual characters or substrings from a string.\n",
    "* Strings support **`concatenation and repetition`** using the `+ and *` operators respectively.\n",
    "* Strings have **`many built-in methods`** that can perform various operations on them, such as `formatting, splitting, joining, replacing`, etc."
   ]
  },
  {
   "cell_type": "code",
   "execution_count": 46,
   "id": "7e97eb98",
   "metadata": {
    "execution": {
     "iopub.execute_input": "2023-04-01T18:59:07.132140Z",
     "iopub.status.busy": "2023-04-01T18:59:07.130961Z",
     "iopub.status.idle": "2023-04-01T18:59:07.137804Z",
     "shell.execute_reply": "2023-04-01T18:59:07.136558Z"
    },
    "papermill": {
     "duration": 0.046775,
     "end_time": "2023-04-01T18:59:07.140364",
     "exception": false,
     "start_time": "2023-04-01T18:59:07.093589",
     "status": "completed"
    },
    "tags": []
   },
   "outputs": [
    {
     "name": "stdout",
     "output_type": "stream",
     "text": [
      "subratamondal\n",
      "subratasubratasubratasubratasubrata\n"
     ]
    }
   ],
   "source": [
    "print(\"subrata\" + \"mondal\")\n",
    "print(\"subrata\" * 5)"
   ]
  },
  {
   "cell_type": "code",
   "execution_count": 47,
   "id": "66f0303e",
   "metadata": {
    "execution": {
     "iopub.execute_input": "2023-04-01T18:59:07.215201Z",
     "iopub.status.busy": "2023-04-01T18:59:07.213738Z",
     "iopub.status.idle": "2023-04-01T18:59:07.221656Z",
     "shell.execute_reply": "2023-04-01T18:59:07.219892Z"
    },
    "papermill": {
     "duration": 0.048421,
     "end_time": "2023-04-01T18:59:07.224431",
     "exception": false,
     "start_time": "2023-04-01T18:59:07.176010",
     "status": "completed"
    },
    "tags": []
   },
   "outputs": [
    {
     "name": "stdout",
     "output_type": "stream",
     "text": [
      "True\n",
      "False\n"
     ]
    }
   ],
   "source": [
    "print(\"su\" in \"subrata\")\n",
    "print(\"shr\" in \"subrata\")"
   ]
  },
  {
   "cell_type": "markdown",
   "id": "4944cfe8",
   "metadata": {
    "papermill": {
     "duration": 0.035424,
     "end_time": "2023-04-01T18:59:07.296533",
     "exception": false,
     "start_time": "2023-04-01T18:59:07.261109",
     "status": "completed"
    },
    "tags": []
   },
   "source": [
    "### Built-in methods of strings\n",
    "String’s built-in methods in Python are functions that you can use on strings to perform various operations on them. For example, you can use the **`capitalize()`** method to convert the first character of a string to upper case, or the **`lower()`** method to convert a string to lower case. Some of the common string methods are:\n",
    "\n",
    "* **`len()`**: Returns the length of a string.\n",
    "* **`find()`**: `Searches for a substring` in a string and returns its `index`, or `-1` if not found.\n",
    "* **`replace()`**: `Replaces a substring` with another substring in a string.\n",
    "* **`split()`**: `Splits a string` into a list of substrings based on a separator.\n",
    "* **`join()`**: `Joins a list of strings` into one string using a separator.\n",
    "* **`startswith() and endswith()`**: `Checks if a string starts or ends with` a specified substring and returns True or False.\n",
    "* **`strip(), lstrip() and rstrip()`**: Removes `leading, trailing or both whitespaces` from a string.\n",
    "* **`format()`**: Formats a string using placeholders and values.\n",
    "* **`isalnum(), isalpha(), isdigit()`**, etc.: Checks if all characters in a string are `alphanumeric, alphabetic, digits`, etc. and returns True or False."
   ]
  },
  {
   "cell_type": "code",
   "execution_count": 48,
   "id": "5fc4df7e",
   "metadata": {
    "execution": {
     "iopub.execute_input": "2023-04-01T18:59:07.370046Z",
     "iopub.status.busy": "2023-04-01T18:59:07.369589Z",
     "iopub.status.idle": "2023-04-01T18:59:07.376882Z",
     "shell.execute_reply": "2023-04-01T18:59:07.375736Z"
    },
    "papermill": {
     "duration": 0.046955,
     "end_time": "2023-04-01T18:59:07.379184",
     "exception": false,
     "start_time": "2023-04-01T18:59:07.332229",
     "status": "completed"
    },
    "tags": []
   },
   "outputs": [
    {
     "data": {
      "text/plain": [
       "'HELLO WORLD'"
      ]
     },
     "execution_count": 48,
     "metadata": {},
     "output_type": "execute_result"
    }
   ],
   "source": [
    "# To convert a string to upper case, use the upper() method. For example:\n",
    "string = \"Hello World\"\n",
    "string.upper() # returns \"HELLO WORLD\""
   ]
  },
  {
   "cell_type": "code",
   "execution_count": 49,
   "id": "46e6ee66",
   "metadata": {
    "execution": {
     "iopub.execute_input": "2023-04-01T18:59:07.452899Z",
     "iopub.status.busy": "2023-04-01T18:59:07.452461Z",
     "iopub.status.idle": "2023-04-01T18:59:07.459520Z",
     "shell.execute_reply": "2023-04-01T18:59:07.458441Z"
    },
    "papermill": {
     "duration": 0.04656,
     "end_time": "2023-04-01T18:59:07.461881",
     "exception": false,
     "start_time": "2023-04-01T18:59:07.415321",
     "status": "completed"
    },
    "tags": []
   },
   "outputs": [
    {
     "data": {
      "text/plain": [
       "6"
      ]
     },
     "execution_count": 49,
     "metadata": {},
     "output_type": "execute_result"
    }
   ],
   "source": [
    "# To find the index of a substring in a string, use the find() method. For example:\n",
    "string = \"Hello World\"\n",
    "string.find(\"World\") # returns 6"
   ]
  },
  {
   "cell_type": "code",
   "execution_count": 50,
   "id": "85884a13",
   "metadata": {
    "execution": {
     "iopub.execute_input": "2023-04-01T18:59:07.535655Z",
     "iopub.status.busy": "2023-04-01T18:59:07.534850Z",
     "iopub.status.idle": "2023-04-01T18:59:07.542830Z",
     "shell.execute_reply": "2023-04-01T18:59:07.541620Z"
    },
    "papermill": {
     "duration": 0.047543,
     "end_time": "2023-04-01T18:59:07.545176",
     "exception": false,
     "start_time": "2023-04-01T18:59:07.497633",
     "status": "completed"
    },
    "tags": []
   },
   "outputs": [
    {
     "data": {
      "text/plain": [
       "'Hello<-|||->World'"
      ]
     },
     "execution_count": 50,
     "metadata": {},
     "output_type": "execute_result"
    }
   ],
   "source": [
    "# To replace a substring with another substring in a string, use the replace() method. For example:\n",
    "string = \"Hello World\"\n",
    "string.replace(\"World\", \"Python\") # returns \"Hello Python\"\n",
    "\n",
    "string = \"Hello World\"\n",
    "string.replace(\" \", \"<-|||->\") # returns \"Hello<-|||->World\""
   ]
  },
  {
   "cell_type": "code",
   "execution_count": 51,
   "id": "3af6ede5",
   "metadata": {
    "execution": {
     "iopub.execute_input": "2023-04-01T18:59:07.620143Z",
     "iopub.status.busy": "2023-04-01T18:59:07.619059Z",
     "iopub.status.idle": "2023-04-01T18:59:07.625435Z",
     "shell.execute_reply": "2023-04-01T18:59:07.624114Z"
    },
    "papermill": {
     "duration": 0.047217,
     "end_time": "2023-04-01T18:59:07.627938",
     "exception": false,
     "start_time": "2023-04-01T18:59:07.580721",
     "status": "completed"
    },
    "tags": []
   },
   "outputs": [
    {
     "name": "stdout",
     "output_type": "stream",
     "text": [
      "['Hello', 'World']\n",
      "['Hello', 'World']\n"
     ]
    }
   ],
   "source": [
    "# To split a string into a list of substrings based on a separator, use the split() method. For example:\n",
    "string = \"Hello World\"\n",
    "print(string.split(\" \")) # returns [\"Hello\", \"World\"]\n",
    "\n",
    "string = \"Hello->World\"\n",
    "print(string.split(\"->\")) # returns [\"Hello\", \"World\"]"
   ]
  },
  {
   "cell_type": "code",
   "execution_count": 52,
   "id": "1a6565f3",
   "metadata": {
    "execution": {
     "iopub.execute_input": "2023-04-01T18:59:07.702230Z",
     "iopub.status.busy": "2023-04-01T18:59:07.701793Z",
     "iopub.status.idle": "2023-04-01T18:59:07.709442Z",
     "shell.execute_reply": "2023-04-01T18:59:07.707877Z"
    },
    "papermill": {
     "duration": 0.047643,
     "end_time": "2023-04-01T18:59:07.711791",
     "exception": false,
     "start_time": "2023-04-01T18:59:07.664148",
     "status": "completed"
    },
    "tags": []
   },
   "outputs": [
    {
     "data": {
      "text/plain": [
       "'Hello->World'"
      ]
     },
     "execution_count": 52,
     "metadata": {},
     "output_type": "execute_result"
    }
   ],
   "source": [
    "# To join a list of strings into one string using a separator, use the join() method. For example:\n",
    "list = [\"Hello\", \"World\"]\n",
    "\"->\".join(list) # returns \"Hello World\""
   ]
  },
  {
   "cell_type": "code",
   "execution_count": 53,
   "id": "3c9669b9",
   "metadata": {
    "execution": {
     "iopub.execute_input": "2023-04-01T18:59:07.787505Z",
     "iopub.status.busy": "2023-04-01T18:59:07.787066Z",
     "iopub.status.idle": "2023-04-01T18:59:07.795442Z",
     "shell.execute_reply": "2023-04-01T18:59:07.794085Z"
    },
    "papermill": {
     "duration": 0.05056,
     "end_time": "2023-04-01T18:59:07.798134",
     "exception": false,
     "start_time": "2023-04-01T18:59:07.747574",
     "status": "completed"
    },
    "tags": []
   },
   "outputs": [
    {
     "name": "stdout",
     "output_type": "stream",
     "text": [
      "strip:  Hello World 13 11\n",
      "lstrip:  Hello World  13 12\n",
      "rstrip:   Hello World 13 12\n",
      "strip:  banana 29 6\n"
     ]
    }
   ],
   "source": [
    "string = \" Hello World \"\n",
    "print(\"strip: \",string.strip(), len(string) ,len(string.strip())) # returns \"Hello World\"\n",
    "print(\"lstrip: \",string.lstrip(), len(string) ,len(string.lstrip()))\n",
    "print(\"rstrip: \",string.rstrip(), len(string) ,len(string.rstrip()))\n",
    "\n",
    "string = \",,,,,rrttgg.....banana....rrr\"\n",
    "print(\"strip: \",string.strip(\",.grt\"), len(string) ,len(string.strip(\",.grt\"))) # returns \"banana\""
   ]
  },
  {
   "cell_type": "markdown",
   "id": "ab6421ac",
   "metadata": {
    "papermill": {
     "duration": 0.03611,
     "end_time": "2023-04-01T18:59:07.870617",
     "exception": false,
     "start_time": "2023-04-01T18:59:07.834507",
     "status": "completed"
    },
    "tags": []
   },
   "source": [
    "## Tuples\n",
    "---\n",
    "Tuples in Python are collections of objects separated by commas and enclosed by parentheses `()`. They are similar to lists, but they are **`immutable`**, meaning that they cannot be changed once created. Tuples can store any data type and **`allow duplicate values`**. Tuples can also be nested, concatenated, repeated, sliced and deleted. \n",
    "\n",
    "### Advantages of tuples over lists are:\n",
    "* they are faster, safer and more memory-efficient than lists.\n",
    "\n",
    "### Properties\n",
    "* Tuples are **`ordered`**, meaning that the items have a defined order that will not change.\n",
    "* Tuples are **`immutable`**, meaning that they cannot be modified after they are created. You `cannot add, remove, or change items` in a tuple.\n",
    "* Tuples **`can contain any arbitrary objects`**, including other `tuples, lists, dictionaries, functions, classes,` etc like lists. Tuples can also store multiple data types in the same tuple.\n",
    "* Tuples can be **`accessed by index`**, using square brackets (`[]`) to get individual items or slices of items from a tuple. The index starts from 0 for the first item and -1 for the last item.\n",
    "* Tuples can be **`nested`** to arbitrary depth`, meaning that you can have tuples inside tuples inside tuples, and so on.\n",
    "* Tuples are **`hashable`**, meaning that they can be used as keys in dictionaries or as elements in sets. However, this only applies if all the items in the tuple are also hashable.\n",
    "\n",
    "### Built-in methods of tuples\n",
    "* **`count()`**: This method returns the number of times a specified value occurs in a tuple.\n",
    "* **`index()`**: This method searches the tuple for a specified value and returns its position (index) where it was found. If the value is not found, it raises a ValueError. You can also specify a start and end index to limit the search range."
   ]
  },
  {
   "cell_type": "code",
   "execution_count": 54,
   "id": "b609374a",
   "metadata": {
    "execution": {
     "iopub.execute_input": "2023-04-01T18:59:07.945399Z",
     "iopub.status.busy": "2023-04-01T18:59:07.944929Z",
     "iopub.status.idle": "2023-04-01T18:59:07.950680Z",
     "shell.execute_reply": "2023-04-01T18:59:07.949458Z"
    },
    "papermill": {
     "duration": 0.04738,
     "end_time": "2023-04-01T18:59:07.954145",
     "exception": false,
     "start_time": "2023-04-01T18:59:07.906765",
     "status": "completed"
    },
    "tags": []
   },
   "outputs": [
    {
     "name": "stdout",
     "output_type": "stream",
     "text": [
      "True\n",
      "False\n"
     ]
    }
   ],
   "source": [
    "print(\"banana\" in (\"apple\", \"banana\", \"cherry\", \"apple\"))\n",
    "print(\"coffee\" in (\"apple\", \"banana\", \"cherry\", \"apple\"))"
   ]
  },
  {
   "cell_type": "code",
   "execution_count": 55,
   "id": "21628a85",
   "metadata": {
    "execution": {
     "iopub.execute_input": "2023-04-01T18:59:08.030181Z",
     "iopub.status.busy": "2023-04-01T18:59:08.029725Z",
     "iopub.status.idle": "2023-04-01T18:59:08.036410Z",
     "shell.execute_reply": "2023-04-01T18:59:08.035554Z"
    },
    "papermill": {
     "duration": 0.047848,
     "end_time": "2023-04-01T18:59:08.038536",
     "exception": false,
     "start_time": "2023-04-01T18:59:07.990688",
     "status": "completed"
    },
    "tags": []
   },
   "outputs": [
    {
     "data": {
      "text/plain": [
       "2"
      ]
     },
     "execution_count": 55,
     "metadata": {},
     "output_type": "execute_result"
    }
   ],
   "source": [
    "# returns the number of times a specified value occurs in a tuple. For example:\n",
    "my_tuple = (\"apple\", \"banana\", \"cherry\", \"apple\")\n",
    "my_tuple.count(\"apple\") # returns 2"
   ]
  },
  {
   "cell_type": "code",
   "execution_count": 56,
   "id": "cf896b5f",
   "metadata": {
    "execution": {
     "iopub.execute_input": "2023-04-01T18:59:08.113940Z",
     "iopub.status.busy": "2023-04-01T18:59:08.112844Z",
     "iopub.status.idle": "2023-04-01T18:59:08.120333Z",
     "shell.execute_reply": "2023-04-01T18:59:08.118785Z"
    },
    "papermill": {
     "duration": 0.047678,
     "end_time": "2023-04-01T18:59:08.122758",
     "exception": false,
     "start_time": "2023-04-01T18:59:08.075080",
     "status": "completed"
    },
    "tags": []
   },
   "outputs": [
    {
     "name": "stdout",
     "output_type": "stream",
     "text": [
      "2\n",
      "3\n"
     ]
    }
   ],
   "source": [
    "# returns its position (index) where it was found\n",
    "my_tuple = (\"apple\", \"banana\", \"cherry\", \"apple\")\n",
    "print(my_tuple.index(\"cherry\")) # returns 2\n",
    "print(my_tuple.index(\"apple\", 1)) # returns 3"
   ]
  },
  {
   "cell_type": "markdown",
   "id": "e3aa37b5",
   "metadata": {
    "papermill": {
     "duration": 0.036255,
     "end_time": "2023-04-01T18:59:08.195757",
     "exception": false,
     "start_time": "2023-04-01T18:59:08.159502",
     "status": "completed"
    },
    "tags": []
   },
   "source": [
    "## For Loops\n",
    "---\n",
    "For loops in Python are used to iterate over a sequence of items, such as a list, a tuple, a string, a dictionary, a set, or any iterable object. The syntax of the for loop is:\n",
    "\n",
    "```python\n",
    "for item in sequence:\n",
    "    # do something with item\n",
    "```\n",
    "\n",
    "Here, item is a variable that takes the value of each element in sequence on each iteration. The loop continues until all the elements in sequence are exhausted or a break statement is encountered.\n",
    "\n",
    "### Properties\n",
    "* For loops are used to iterate over a **`sequence of items`**, such as a `list, a tuple, a string, a dictionary, a set, or any iterable object`.\n",
    "* For loops do not require an indexing variable to set beforehand. The loop variable takes the value of each element in the sequence on each iteration.\n",
    "* For loops can be nested to create loops within loops. **`The inner loop executes completely for each iteration of the outer loop`**.\n",
    "* For loops can be altered by using **`break and continue`** statements. The break statement stops the loop before it has looped through all the items. The continue statement skips the current iteration of the loop and continues with the next one.\n",
    "* For loops can have an **`else`** clause that executes when the loop is finished normally (without encountering a break statement)."
   ]
  },
  {
   "cell_type": "code",
   "execution_count": 57,
   "id": "3560afdc",
   "metadata": {
    "execution": {
     "iopub.execute_input": "2023-04-01T18:59:08.270811Z",
     "iopub.status.busy": "2023-04-01T18:59:08.270390Z",
     "iopub.status.idle": "2023-04-01T18:59:08.276575Z",
     "shell.execute_reply": "2023-04-01T18:59:08.275256Z"
    },
    "papermill": {
     "duration": 0.046452,
     "end_time": "2023-04-01T18:59:08.279750",
     "exception": false,
     "start_time": "2023-04-01T18:59:08.233298",
     "status": "completed"
    },
    "tags": []
   },
   "outputs": [
    {
     "name": "stdout",
     "output_type": "stream",
     "text": [
      "1\n",
      "2\n",
      "3\n",
      "4\n"
     ]
    }
   ],
   "source": [
    "# To print each element of a list:\n",
    "my_list = [1, 2, 3, 4]\n",
    "for num in my_list:\n",
    "    print(num)"
   ]
  },
  {
   "cell_type": "code",
   "execution_count": 58,
   "id": "1cfab22b",
   "metadata": {
    "execution": {
     "iopub.execute_input": "2023-04-01T18:59:08.354677Z",
     "iopub.status.busy": "2023-04-01T18:59:08.353991Z",
     "iopub.status.idle": "2023-04-01T18:59:08.359260Z",
     "shell.execute_reply": "2023-04-01T18:59:08.358411Z"
    },
    "papermill": {
     "duration": 0.045815,
     "end_time": "2023-04-01T18:59:08.362421",
     "exception": false,
     "start_time": "2023-04-01T18:59:08.316606",
     "status": "completed"
    },
    "tags": []
   },
   "outputs": [
    {
     "name": "stdout",
     "output_type": "stream",
     "text": [
      "H\n",
      "e\n",
      "l\n",
      "l\n",
      "o\n"
     ]
    }
   ],
   "source": [
    "# To print each character of a string:\n",
    "my_string = \"Hello\"\n",
    "for char in my_string:\n",
    "    print(char)"
   ]
  },
  {
   "cell_type": "code",
   "execution_count": 59,
   "id": "e7ad36fe",
   "metadata": {
    "execution": {
     "iopub.execute_input": "2023-04-01T18:59:08.437948Z",
     "iopub.status.busy": "2023-04-01T18:59:08.436824Z",
     "iopub.status.idle": "2023-04-01T18:59:08.444168Z",
     "shell.execute_reply": "2023-04-01T18:59:08.442361Z"
    },
    "papermill": {
     "duration": 0.047018,
     "end_time": "2023-04-01T18:59:08.446549",
     "exception": false,
     "start_time": "2023-04-01T18:59:08.399531",
     "status": "completed"
    },
    "tags": []
   },
   "outputs": [
    {
     "name": "stdout",
     "output_type": "stream",
     "text": [
      "name Subrata\n",
      "age 23\n"
     ]
    }
   ],
   "source": [
    "# To print each key-value pair of a dictionary:\n",
    "my_dict = {\"name\": \"Subrata\", \"age\": 23}\n",
    "for key, value in my_dict.items():\n",
    "    print(key, value)"
   ]
  },
  {
   "cell_type": "code",
   "execution_count": 60,
   "id": "6efa4f5e",
   "metadata": {
    "execution": {
     "iopub.execute_input": "2023-04-01T18:59:08.521045Z",
     "iopub.status.busy": "2023-04-01T18:59:08.520622Z",
     "iopub.status.idle": "2023-04-01T18:59:08.527864Z",
     "shell.execute_reply": "2023-04-01T18:59:08.526407Z"
    },
    "papermill": {
     "duration": 0.047046,
     "end_time": "2023-04-01T18:59:08.529957",
     "exception": false,
     "start_time": "2023-04-01T18:59:08.482911",
     "status": "completed"
    },
    "tags": []
   },
   "outputs": [
    {
     "name": "stdout",
     "output_type": "stream",
     "text": [
      "A 0\n",
      "A 1\n",
      "A 2\n",
      "B 0\n",
      "B 1\n",
      "B 2\n",
      "C 0\n",
      "C 1\n",
      "C 2\n"
     ]
    }
   ],
   "source": [
    "# For loops can be nested to create loops within loops. The inner loop executes completely for each iteration of the outer loop.\n",
    "for i in [\"A\",\"B\",\"C\"]:\n",
    "    for j in range(3):\n",
    "        print(i,j)"
   ]
  },
  {
   "cell_type": "markdown",
   "id": "f8deb6cf",
   "metadata": {
    "papermill": {
     "duration": 0.035912,
     "end_time": "2023-04-01T18:59:08.602563",
     "exception": false,
     "start_time": "2023-04-01T18:59:08.566651",
     "status": "completed"
    },
    "tags": []
   },
   "source": [
    "### Real-life use-cases of for-loops\n",
    "* For loops can be used to **`traverse a sequence and access each element`**. For example, if you have a list of numbers and you want to print each number, you can use a for loop to iterate over the list and print each item.\n",
    "* For loops can be used to **`modify a sequence or create a new sequence based on some condition or logic`**. For example, if you have a list of words and you want to create a new list that contains only the words that start with ‘a’, you can use a for loop to iterate over the original list and append the words that match the condition to the new list.\n",
    "* For loops can be used to **`perform some calculation or operation on each element of a sequence and accumulate the result`**. For example, if you have a list of numbers and you want to calculate the sum of all the numbers, you can use a for loop to iterate over the list and add each number to a variable that stores the sum.\n",
    "* For loops can be used to **`implement various algorithms and data structures that involve iteration`**. For example, if you want to implement a linear search algorithm that finds an element in a list, you can use a for loop to iterate over the list and compare each element with the target value.\n",
    "* For loops can be used to **`work with nested sequences or complex data structures`**. For example, if you have a list of lists that represents a matrix, you can use a nested for loop to iterate over each row and column of the matrix and access or modify each element."
   ]
  },
  {
   "cell_type": "markdown",
   "id": "dc053e81",
   "metadata": {
    "papermill": {
     "duration": 0.036042,
     "end_time": "2023-04-01T18:59:08.675394",
     "exception": false,
     "start_time": "2023-04-01T18:59:08.639352",
     "status": "completed"
    },
    "tags": []
   },
   "source": [
    "### For Else Loop"
   ]
  },
  {
   "cell_type": "code",
   "execution_count": 61,
   "id": "13e86a4a",
   "metadata": {
    "execution": {
     "iopub.execute_input": "2023-04-01T18:59:08.748984Z",
     "iopub.status.busy": "2023-04-01T18:59:08.748598Z",
     "iopub.status.idle": "2023-04-01T18:59:08.754966Z",
     "shell.execute_reply": "2023-04-01T18:59:08.753676Z"
    },
    "papermill": {
     "duration": 0.045962,
     "end_time": "2023-04-01T18:59:08.757081",
     "exception": false,
     "start_time": "2023-04-01T18:59:08.711119",
     "status": "completed"
    },
    "tags": []
   },
   "outputs": [
    {
     "name": "stdout",
     "output_type": "stream",
     "text": [
      "Item not found!!!\n"
     ]
    }
   ],
   "source": [
    "# For loops can have an else clause that executes when the loop is finished normally (without encountering a break statement).\n",
    "for i in [11,22,33,44,55]:\n",
    "    if i == 88:\n",
    "        print(\"Item found!!!\")\n",
    "        break\n",
    "else:\n",
    "    print(\"Item not found!!!\")"
   ]
  },
  {
   "cell_type": "markdown",
   "id": "7b9a79c6",
   "metadata": {
    "papermill": {
     "duration": 0.035727,
     "end_time": "2023-04-01T18:59:08.828905",
     "exception": false,
     "start_time": "2023-04-01T18:59:08.793178",
     "status": "completed"
    },
    "tags": []
   },
   "source": [
    "## While Loops\n",
    "---\n",
    "A while loop in Python is a way to execute a block of code repeatedly until a given condition is satisfied.\n",
    "\n",
    "### Properties\n",
    "* They are used for **`indefinite iteration`**, which means they repeat a block of code until a condition is False.\n",
    "* They require **`relevant variables to be initialized before the loop and updated inside the loop body`**.\n",
    "* They can be terminated prematurely with a break statement, which exits the loop completely.\n",
    "* They can skip an iteration with a continue statement, which jumps back to the condition check.\n",
    "* They can have an optional else clause, which runs once when the condition becomes False, unless a break statement is used."
   ]
  },
  {
   "cell_type": "code",
   "execution_count": 62,
   "id": "2335c697",
   "metadata": {
    "execution": {
     "iopub.execute_input": "2023-04-01T18:59:08.902767Z",
     "iopub.status.busy": "2023-04-01T18:59:08.902368Z",
     "iopub.status.idle": "2023-04-01T18:59:08.909258Z",
     "shell.execute_reply": "2023-04-01T18:59:08.908090Z"
    },
    "papermill": {
     "duration": 0.046749,
     "end_time": "2023-04-01T18:59:08.911435",
     "exception": false,
     "start_time": "2023-04-01T18:59:08.864686",
     "status": "completed"
    },
    "tags": []
   },
   "outputs": [
    {
     "data": {
      "text/plain": [
       "'\\nnum = input(\"Enter an integer: \")\\n\\nwhile not num.isdigit():\\n    num = input(\"Enter an integer: \")\\n'"
      ]
     },
     "execution_count": 62,
     "metadata": {},
     "output_type": "execute_result"
    }
   ],
   "source": [
    "# keep asking the customer untile the customer enters a digit\n",
    "'''\n",
    "num = input(\"Enter an integer: \")\n",
    "\n",
    "while not num.isdigit():\n",
    "    num = input(\"Enter an integer: \")\n",
    "'''"
   ]
  },
  {
   "cell_type": "markdown",
   "id": "63359249",
   "metadata": {
    "papermill": {
     "duration": 0.036299,
     "end_time": "2023-04-01T18:59:08.984131",
     "exception": false,
     "start_time": "2023-04-01T18:59:08.947832",
     "status": "completed"
    },
    "tags": []
   },
   "source": [
    "### While Else Loops"
   ]
  },
  {
   "cell_type": "code",
   "execution_count": 63,
   "id": "8719acaa",
   "metadata": {
    "execution": {
     "iopub.execute_input": "2023-04-01T18:59:09.058831Z",
     "iopub.status.busy": "2023-04-01T18:59:09.058396Z",
     "iopub.status.idle": "2023-04-01T18:59:09.065798Z",
     "shell.execute_reply": "2023-04-01T18:59:09.064325Z"
    },
    "papermill": {
     "duration": 0.047713,
     "end_time": "2023-04-01T18:59:09.068356",
     "exception": false,
     "start_time": "2023-04-01T18:59:09.020643",
     "status": "completed"
    },
    "tags": []
   },
   "outputs": [
    {
     "name": "stdout",
     "output_type": "stream",
     "text": [
      "Item Not Found!!!\n"
     ]
    }
   ],
   "source": [
    "lst = [11,22,33,44]\n",
    "i = 0\n",
    "        \n",
    "while i < len(lst):\n",
    "    if lst[i] == 88:\n",
    "        print(\"Item Found!!!\")\n",
    "        break\n",
    "    i += 1\n",
    "else:\n",
    "    print(\"Item Not Found!!!\")"
   ]
  },
  {
   "cell_type": "markdown",
   "id": "077dd989",
   "metadata": {
    "papermill": {
     "duration": 0.036062,
     "end_time": "2023-04-01T18:59:09.140767",
     "exception": false,
     "start_time": "2023-04-01T18:59:09.104705",
     "status": "completed"
    },
    "tags": []
   },
   "source": [
    "### For Loop vs While Loop\n",
    "There is a huge difference between for loops and while loops in Python. The for loop iterates through a `collection or iterable object or generator function`, while the while loop simply `loops until a condition is False`.\n",
    "\n",
    "* You should `use a for loop when you already know the number of iterations` or when you have a ready-made collection to iterate through. \n",
    "* You should `use a while loop when you don’t know the number of iterations` or when you need to check a condition at each iteration."
   ]
  },
  {
   "cell_type": "markdown",
   "id": "31b8ddb7",
   "metadata": {
    "papermill": {
     "duration": 0.03585,
     "end_time": "2023-04-01T18:59:09.212811",
     "exception": false,
     "start_time": "2023-04-01T18:59:09.176961",
     "status": "completed"
    },
    "tags": []
   },
   "source": [
    "## Slice\n",
    "---\n",
    "Slicing is used to access a range of elements in a list, you can also slice other data types in Python that are `sequential`, such as `strings, tuples, bytes, bytearrays, and ranges`. One way to do this is to use the simple slicing operator i.e. colon (:) With this operator, one can specify where to start the slicing, where to end, and specify the step. List slicing returns a new list from the existing list.\n",
    "\n",
    "``` python\n",
    "sequence[start:stop:step]\n",
    "```\n",
    "\n",
    "where `sequence` can be any sequential data type like lists, strings, tuples, etc.\n",
    "\n",
    "`start` is the index where the slicing begins (inclusive). If omitted, it defaults to 0.\n",
    "\n",
    "`stop` is the index where the slicing ends (exclusive). If omitted, it defaults to the length of the sequence.\n",
    "\n",
    "`step` is the interval between each element in the slice. If omitted, it defaults to 1."
   ]
  },
  {
   "cell_type": "code",
   "execution_count": 64,
   "id": "5be101dd",
   "metadata": {
    "execution": {
     "iopub.execute_input": "2023-04-01T18:59:09.294378Z",
     "iopub.status.busy": "2023-04-01T18:59:09.293875Z",
     "iopub.status.idle": "2023-04-01T18:59:09.300064Z",
     "shell.execute_reply": "2023-04-01T18:59:09.299338Z"
    },
    "papermill": {
     "duration": 0.053283,
     "end_time": "2023-04-01T18:59:09.304164",
     "exception": false,
     "start_time": "2023-04-01T18:59:09.250881",
     "status": "completed"
    },
    "tags": []
   },
   "outputs": [
    {
     "name": "stdout",
     "output_type": "stream",
     "text": [
      "Original List:\n",
      " [1, 2, 3, 4, 5, 6, 7, 8, 9]\n",
      "\n",
      "Sliced Lists: \n",
      "[4, 6, 8]\n",
      "[1, 3, 5, 7, 9]\n",
      "[1, 2, 3, 4, 5, 6, 7, 8, 9]\n"
     ]
    }
   ],
   "source": [
    "# list slicing\n",
    "List = [1, 2, 3, 4, 5, 6, 7, 8, 9]\n",
    "print(\"Original List:\\n\", List)\n",
    "print(\"\\nSliced Lists: \")\n",
    "print(List[3:9:2])\n",
    "print(List[::2])\n",
    "print(List[::])"
   ]
  },
  {
   "cell_type": "code",
   "execution_count": 65,
   "id": "f8270817",
   "metadata": {
    "execution": {
     "iopub.execute_input": "2023-04-01T18:59:09.386881Z",
     "iopub.status.busy": "2023-04-01T18:59:09.386331Z",
     "iopub.status.idle": "2023-04-01T18:59:09.392894Z",
     "shell.execute_reply": "2023-04-01T18:59:09.391439Z"
    },
    "papermill": {
     "duration": 0.049051,
     "end_time": "2023-04-01T18:59:09.396070",
     "exception": false,
     "start_time": "2023-04-01T18:59:09.347019",
     "status": "completed"
    },
    "tags": []
   },
   "outputs": [
    {
     "name": "stdout",
     "output_type": "stream",
     "text": [
      "Hello\n"
     ]
    }
   ],
   "source": [
    "# Slicing a string\n",
    "string = \"Hello World\"\n",
    "sliced_string = string[0:5]\n",
    "print(sliced_string)"
   ]
  },
  {
   "cell_type": "code",
   "execution_count": 66,
   "id": "66f59a43",
   "metadata": {
    "execution": {
     "iopub.execute_input": "2023-04-01T18:59:09.489223Z",
     "iopub.status.busy": "2023-04-01T18:59:09.488650Z",
     "iopub.status.idle": "2023-04-01T18:59:09.496396Z",
     "shell.execute_reply": "2023-04-01T18:59:09.494911Z"
    },
    "papermill": {
     "duration": 0.049581,
     "end_time": "2023-04-01T18:59:09.498902",
     "exception": false,
     "start_time": "2023-04-01T18:59:09.449321",
     "status": "completed"
    },
    "tags": []
   },
   "outputs": [
    {
     "name": "stdout",
     "output_type": "stream",
     "text": [
      "(2, 3, 4)\n"
     ]
    }
   ],
   "source": [
    "# Slicing a tuple\n",
    "tuple = (1, 2, 3, 4, 5)\n",
    "sliced_tuple = tuple[1:4]\n",
    "print(sliced_tuple)"
   ]
  },
  {
   "cell_type": "markdown",
   "id": "033fdf54",
   "metadata": {
    "papermill": {
     "duration": 0.041297,
     "end_time": "2023-04-01T18:59:09.577139",
     "exception": false,
     "start_time": "2023-04-01T18:59:09.535842",
     "status": "completed"
    },
    "tags": []
   },
   "source": [
    "### Real-life use cases of slice\n",
    "* Slicing can be used to **`extract substrings from a string`**. For example, if you have a string that contains a date in the format YYYY-MM-DD, you can use slicing to get the year, month, and day separately.\n",
    "* Slicing can be used to **`reverse a sequence by using a negative step`**. For example, if you have a list of numbers and you want to reverse their order, you can use slicing with a step of `-1`.\n",
    "* Slicing can be used to **`access every nth element of a sequence by using a positive step`**. For example, if you have a list of words and you want to get every second word, you can use slicing with a step of 2.\n",
    "* Slicing can be used to **`copy a sequence by using an empty start and stop argument`**. For example, if you have a list of items and you want to make a copy of it, you can use slicing with an empty start and stop argument.\n",
    "* Slicing can be used to **`delete or replace elements of a mutable sequence`** by assigning an empty sequence or another sequence to the slice. For example, if you have a list of names and you want to delete the first two names or replace them with new names, you can use slicing with an assignment statement."
   ]
  },
  {
   "cell_type": "markdown",
   "id": "766e6d34",
   "metadata": {
    "papermill": {
     "duration": 0.037019,
     "end_time": "2023-04-01T18:59:09.652566",
     "exception": false,
     "start_time": "2023-04-01T18:59:09.615547",
     "status": "completed"
    },
    "tags": []
   },
   "source": [
    "## Dictionary\n",
    "---\n",
    "Dictionaries in Python are collections of key-value pairs that are used to store data values like a map. They are written with curly brackets and have keys and values separated by a colon. For example:\n",
    "``` python\n",
    "thisdict = {\"brand\": \"Ford\", \"model\": \"Mustang\", \"year\": 1964}\n",
    "```\n",
    "Dictionaries are ordered (since Python 3.7), changeable and do not allow duplicates. You can access, modify, add or remove items from a dictionary using various methods.\n",
    "\n",
    "### Properties\n",
    "* They are **`ordered (since Python 3.7)`**, meaning that the items have a defined order that will not change.\n",
    "* They are **`mutable or changeable`**, meaning that we can modify, add or remove items after the dictionary has been created12.\n",
    "* They do **`not allow duplicates`**, meaning that they cannot have two items with the same key.\n",
    "* They have **keys and values** that can be of any data type.\n",
    "* They are defined as objects with the data type **`dict`**.\n",
    "\n",
    "### Built-in Methods of dictionary\n",
    "Python dictionaries have many built-in methods that can perform various operations on them. Here are some examples of the most common methods:\n",
    "\n",
    "* **`clear()`** : This method removes all the items from the dictionary, leaving it empty. For example:"
   ]
  },
  {
   "cell_type": "code",
   "execution_count": 67,
   "id": "79c1ae89",
   "metadata": {
    "execution": {
     "iopub.execute_input": "2023-04-01T18:59:09.738136Z",
     "iopub.status.busy": "2023-04-01T18:59:09.737693Z",
     "iopub.status.idle": "2023-04-01T18:59:09.744715Z",
     "shell.execute_reply": "2023-04-01T18:59:09.743442Z"
    },
    "papermill": {
     "duration": 0.050568,
     "end_time": "2023-04-01T18:59:09.747251",
     "exception": false,
     "start_time": "2023-04-01T18:59:09.696683",
     "status": "completed"
    },
    "tags": []
   },
   "outputs": [
    {
     "name": "stdout",
     "output_type": "stream",
     "text": [
      "{'a': 1, 'b': 2, 'c': 3}\n",
      "{}\n"
     ]
    }
   ],
   "source": [
    "d = {\"a\": 1, \"b\": 2, \"c\": 3} \n",
    "print(d)\n",
    "d.clear() \n",
    "print(d) # prints {}"
   ]
  },
  {
   "cell_type": "markdown",
   "id": "7a567523",
   "metadata": {
    "papermill": {
     "duration": 0.036626,
     "end_time": "2023-04-01T18:59:09.821899",
     "exception": false,
     "start_time": "2023-04-01T18:59:09.785273",
     "status": "completed"
    },
    "tags": []
   },
   "source": [
    "* **`copy()`** : This method returns a shallow copy of the dictionary, meaning that the new dictionary will have the same items as the original one, but they will be different objects. For example:"
   ]
  },
  {
   "cell_type": "code",
   "execution_count": 68,
   "id": "b974cfc3",
   "metadata": {
    "execution": {
     "iopub.execute_input": "2023-04-01T18:59:09.900768Z",
     "iopub.status.busy": "2023-04-01T18:59:09.899841Z",
     "iopub.status.idle": "2023-04-01T18:59:09.908748Z",
     "shell.execute_reply": "2023-04-01T18:59:09.906569Z"
    },
    "papermill": {
     "duration": 0.05246,
     "end_time": "2023-04-01T18:59:09.911486",
     "exception": false,
     "start_time": "2023-04-01T18:59:09.859026",
     "status": "completed"
    },
    "tags": []
   },
   "outputs": [
    {
     "name": "stdout",
     "output_type": "stream",
     "text": [
      "{'a': 1, 'b': 2, 'c': 3}\n",
      "False\n"
     ]
    }
   ],
   "source": [
    "d = {\"a\": 1, \"b\": 2, \"c\": 3} \n",
    "e = d.copy() \n",
    "print(e) # prints {\"a\": 1, \"b\": 2, \"c\": 3} \n",
    "print(d is e) # prints False"
   ]
  },
  {
   "cell_type": "markdown",
   "id": "e54a4fe1",
   "metadata": {
    "papermill": {
     "duration": 0.036621,
     "end_time": "2023-04-01T18:59:09.985575",
     "exception": false,
     "start_time": "2023-04-01T18:59:09.948954",
     "status": "completed"
    },
    "tags": []
   },
   "source": [
    "* **`fromkeys()`** : This method returns a new dictionary with the specified keys and a default value (None by default). For example:"
   ]
  },
  {
   "cell_type": "code",
   "execution_count": 69,
   "id": "a249a9cf",
   "metadata": {
    "execution": {
     "iopub.execute_input": "2023-04-01T18:59:10.061773Z",
     "iopub.status.busy": "2023-04-01T18:59:10.061345Z",
     "iopub.status.idle": "2023-04-01T18:59:10.068151Z",
     "shell.execute_reply": "2023-04-01T18:59:10.066838Z"
    },
    "papermill": {
     "duration": 0.048416,
     "end_time": "2023-04-01T18:59:10.070958",
     "exception": false,
     "start_time": "2023-04-01T18:59:10.022542",
     "status": "completed"
    },
    "tags": []
   },
   "outputs": [
    {
     "name": "stdout",
     "output_type": "stream",
     "text": [
      "{'a': None, 'b': None, 'c': None}\n",
      "{'a': 0, 'b': 0, 'c': 0}\n"
     ]
    }
   ],
   "source": [
    "keys = [\"a\", \"b\", \"c\"] \n",
    "d = dict.fromkeys (keys) \n",
    "print(d) # prints {\"a\": None, \"b\": None, \"c\": None} \n",
    "e = dict.fromkeys (keys, 0) \n",
    "print(e) # prints {\"a\": 0, \"b\": 0, \"c\": 0}"
   ]
  },
  {
   "cell_type": "markdown",
   "id": "ad89bfd8",
   "metadata": {
    "papermill": {
     "duration": 0.03641,
     "end_time": "2023-04-01T18:59:10.144294",
     "exception": false,
     "start_time": "2023-04-01T18:59:10.107884",
     "status": "completed"
    },
    "tags": []
   },
   "source": [
    "* **`get()`** : This method returns the value associated with the specified key in the dictionary, or a default value (None by default) if the key is not found. For example:"
   ]
  },
  {
   "cell_type": "code",
   "execution_count": 70,
   "id": "e25a8cbb",
   "metadata": {
    "execution": {
     "iopub.execute_input": "2023-04-01T18:59:10.223495Z",
     "iopub.status.busy": "2023-04-01T18:59:10.223089Z",
     "iopub.status.idle": "2023-04-01T18:59:10.230478Z",
     "shell.execute_reply": "2023-04-01T18:59:10.228453Z"
    },
    "papermill": {
     "duration": 0.05361,
     "end_time": "2023-04-01T18:59:10.234552",
     "exception": false,
     "start_time": "2023-04-01T18:59:10.180942",
     "status": "completed"
    },
    "tags": []
   },
   "outputs": [
    {
     "name": "stdout",
     "output_type": "stream",
     "text": [
      "1\n",
      "None\n",
      "-1\n"
     ]
    }
   ],
   "source": [
    "d = {\"a\": 1, \"b\": 2, \"c\": 3} \n",
    "print(d.get(\"a\")) # prints 1 \n",
    "print(d.get (\"d\")) # prints None \n",
    "print(d.get (\"d\", -1)) # prints -1\n"
   ]
  },
  {
   "cell_type": "markdown",
   "id": "8098284b",
   "metadata": {
    "papermill": {
     "duration": 0.036662,
     "end_time": "2023-04-01T18:59:10.309148",
     "exception": false,
     "start_time": "2023-04-01T18:59:10.272486",
     "status": "completed"
    },
    "tags": []
   },
   "source": [
    "* **`pop()`** : This method removes and returns the value associated with the specified key in the dictionary, or raises a KeyError if the key is not found. An optional default value can be provided to return instead of raising an error. For example:"
   ]
  },
  {
   "cell_type": "code",
   "execution_count": 71,
   "id": "508e8749",
   "metadata": {
    "execution": {
     "iopub.execute_input": "2023-04-01T18:59:10.385077Z",
     "iopub.status.busy": "2023-04-01T18:59:10.384617Z",
     "iopub.status.idle": "2023-04-01T18:59:10.391939Z",
     "shell.execute_reply": "2023-04-01T18:59:10.390200Z"
    },
    "papermill": {
     "duration": 0.048521,
     "end_time": "2023-04-01T18:59:10.394443",
     "exception": false,
     "start_time": "2023-04-01T18:59:10.345922",
     "status": "completed"
    },
    "tags": []
   },
   "outputs": [
    {
     "name": "stdout",
     "output_type": "stream",
     "text": [
      "1\n",
      "-1\n"
     ]
    }
   ],
   "source": [
    "d = {\"a\": 1, \"b\": 2, \"c\": 3} \n",
    "print(d.pop (\"a\")) # prints 1 \n",
    "# print(d.pop (\"d\")) # raises KeyError \n",
    "print(d.pop (\"d\", -1)) # prints -1"
   ]
  },
  {
   "cell_type": "markdown",
   "id": "4f16ea8d",
   "metadata": {
    "papermill": {
     "duration": 0.036816,
     "end_time": "2023-04-01T18:59:10.467794",
     "exception": false,
     "start_time": "2023-04-01T18:59:10.430978",
     "status": "completed"
    },
    "tags": []
   },
   "source": [
    "**`popitem()`** : This method removes and returns a random key-value pair from the dictionary as a tuple. If the dictionary is empty, it raises a KeyError. For example:"
   ]
  },
  {
   "cell_type": "code",
   "execution_count": 72,
   "id": "dafe5c35",
   "metadata": {
    "execution": {
     "iopub.execute_input": "2023-04-01T18:59:10.543155Z",
     "iopub.status.busy": "2023-04-01T18:59:10.542657Z",
     "iopub.status.idle": "2023-04-01T18:59:10.549676Z",
     "shell.execute_reply": "2023-04-01T18:59:10.548086Z"
    },
    "papermill": {
     "duration": 0.047909,
     "end_time": "2023-04-01T18:59:10.552289",
     "exception": false,
     "start_time": "2023-04-01T18:59:10.504380",
     "status": "completed"
    },
    "tags": []
   },
   "outputs": [
    {
     "name": "stdout",
     "output_type": "stream",
     "text": [
      "('c', 3)\n",
      "('b', 2)\n",
      "('a', 1)\n"
     ]
    }
   ],
   "source": [
    "d = {\"a\": 1, \"b\": 2, \"c\": 3} \n",
    "print(d.popitem()) # prints (\"c\", 3) \n",
    "print(d.popitem ()) # prints (\"b\", 2) \n",
    "print(d.popitem ()) # prints (\"a\", 1) \n",
    "# print(d.popitem ()) # raises KeyError"
   ]
  },
  {
   "cell_type": "markdown",
   "id": "f48e6729",
   "metadata": {
    "papermill": {
     "duration": 0.036459,
     "end_time": "2023-04-01T18:59:10.625451",
     "exception": false,
     "start_time": "2023-04-01T18:59:10.588992",
     "status": "completed"
    },
    "tags": []
   },
   "source": [
    "* **`setdefault()`** : This method returns the value associated with the specified key in the dictionary, or inserts the key with a default value (None by default) if the key is not found. For example:"
   ]
  },
  {
   "cell_type": "code",
   "execution_count": 73,
   "id": "85681caf",
   "metadata": {
    "execution": {
     "iopub.execute_input": "2023-04-01T18:59:10.701048Z",
     "iopub.status.busy": "2023-04-01T18:59:10.700621Z",
     "iopub.status.idle": "2023-04-01T18:59:10.706806Z",
     "shell.execute_reply": "2023-04-01T18:59:10.705788Z"
    },
    "papermill": {
     "duration": 0.047141,
     "end_time": "2023-04-01T18:59:10.709219",
     "exception": false,
     "start_time": "2023-04-01T18:59:10.662078",
     "status": "completed"
    },
    "tags": []
   },
   "outputs": [
    {
     "name": "stdout",
     "output_type": "stream",
     "text": [
      "1\n",
      "None\n",
      "-1\n"
     ]
    }
   ],
   "source": [
    "d = {\"a\": 1, \"b\": 2, \"c\": 3} \n",
    "print(d.setdefault (\"a\")) # prints 1 \n",
    "print(d.setdefault (\"d\")) # prints None \n",
    "print(d.setdefault (\"e\", -1)) # prints -1"
   ]
  },
  {
   "cell_type": "markdown",
   "id": "1b5b0b80",
   "metadata": {
    "papermill": {
     "duration": 0.036733,
     "end_time": "2023-04-01T18:59:10.783147",
     "exception": false,
     "start_time": "2023-04-01T18:59:10.746414",
     "status": "completed"
    },
    "tags": []
   },
   "source": [
    "* **`update()`** : This method updates the dictionary with the key-value pairs from another dictionary or an iterable of tuples."
   ]
  },
  {
   "cell_type": "code",
   "execution_count": 74,
   "id": "d3defd2f",
   "metadata": {
    "execution": {
     "iopub.execute_input": "2023-04-01T18:59:10.858317Z",
     "iopub.status.busy": "2023-04-01T18:59:10.857748Z",
     "iopub.status.idle": "2023-04-01T18:59:10.865350Z",
     "shell.execute_reply": "2023-04-01T18:59:10.864055Z"
    },
    "papermill": {
     "duration": 0.049741,
     "end_time": "2023-04-01T18:59:10.869331",
     "exception": false,
     "start_time": "2023-04-01T18:59:10.819590",
     "status": "completed"
    },
    "tags": []
   },
   "outputs": [
    {
     "name": "stdout",
     "output_type": "stream",
     "text": [
      "{'a': 1, 'b': 2, 'c': 3, 'd': 4, 'e': 5, 'f': 6, 'g': 7}\n"
     ]
    }
   ],
   "source": [
    "d1 = {\"a\": 1, \"b\": 2, \"c\": 3} \n",
    "d2 = {\"d\": 4, \"e\": 5} \n",
    "d3 = [(\"f\", 6), (\"g\", 7)]\n",
    "\n",
    "d1.update(d2) # updates d1 with key-value pairs from d2 print(d1) # prints {\"a\": 1, \"b\": 2, \"c\": 3, \"d\": 4, \"e\": 5}\n",
    "\n",
    "d1.update(d3) # updates d1 with key-value pairs from d3 print(d1) # prints {\"a\": 1, \"b\": 2, \"c\": 3, \"d\": 4, \"e\": 5, \"f\": 6, \"g\": 7}\n",
    "print(d1)"
   ]
  },
  {
   "cell_type": "markdown",
   "id": "50b2de1d",
   "metadata": {
    "papermill": {
     "duration": 0.036791,
     "end_time": "2023-04-01T18:59:10.944438",
     "exception": false,
     "start_time": "2023-04-01T18:59:10.907647",
     "status": "completed"
    },
    "tags": []
   },
   "source": [
    "### Real life use-cases of dictionary\n",
    "* Dictionaries can be used to **`store data values like a map`**, where each value is associated with a unique key. For example, if you have a collection of student names and their ages, you can use a dictionary to map each name to its corresponding age.\n",
    "* Dictionaries can be used to **`access and modify data values quickly and easily`**, by using the keys as indexes. For example, if you have a dictionary of product names and prices, you can update the price of a product by using its name as the key.\n",
    "* Dictionaries can be used to **`store heterogeneous data types`**, meaning that the values can be of any data type and can vary from one key to another. For example, if you have a dictionary of employee information, you can store different types of data for each employee, such as name, salary, department, etc.\n",
    "* Dictionaries can be used to **`implement various data structures and algorithms`**, such as `hash tables, graphs, caches, memoization`, etc. For example, if you want to implement a cache that stores the results of some expensive function calls, you can use a dictionary to map the input arguments to the output values.\n",
    "* Dictionaries can be used to **`work with JSON data`**, which is a common format for exchanging data on the web. JSON data is essentially a collection of key-value pairs, which can be easily converted to and from Python dictionaries using the json module. For example, if you want to parse some JSON data from an API response, you can use json.loads() to convert it to a Python dictionary."
   ]
  },
  {
   "cell_type": "markdown",
   "id": "69333434",
   "metadata": {
    "papermill": {
     "duration": 0.036507,
     "end_time": "2023-04-01T18:59:11.018236",
     "exception": false,
     "start_time": "2023-04-01T18:59:10.981729",
     "status": "completed"
    },
    "tags": []
   },
   "source": [
    "## Sets\n",
    "---\n",
    "Sets in Python are **`unordered`** collections of unique and **`immutable`** objects. They are one of the four built-in data types in Python used to store collections of data, along with lists, tuples and dictionaries. Sets are written with curly brackets **`{ }`**.\n",
    "\n",
    "**`Note:`** Set items are unchangeable, but you can remove items and add new items.\n",
    "\n",
    "### Properties\n",
    "* They do not allow duplicate values.\n",
    "* They are **`immutable or unchangeable`**, meaning that we cannot modify the items after the set has been created, but we can add or remove items.\n",
    "* They do not have a defined order and cannot be accessed by index or key.\n",
    "* They can store heterogeneous elements of any data type.\n",
    "* They have a **`highly optimized`** method for checking whether a specific element is contained in the set, based on a data structure known as a hash table.\n",
    "* There is also a special type of set called a **`frozen set`**, which is immutable and can be used as a key in a dictionary or an element of another set.\n",
    "* Sets support various methods and operators to perform operations such as **`union, intersection, difference, symmetric difference, subset, superset`**, etc."
   ]
  },
  {
   "cell_type": "markdown",
   "id": "7f3124e7",
   "metadata": {
    "papermill": {
     "duration": 0.036742,
     "end_time": "2023-04-01T18:59:11.092192",
     "exception": false,
     "start_time": "2023-04-01T18:59:11.055450",
     "status": "completed"
    },
    "tags": []
   },
   "source": [
    "* **`add()`**: Adds an element to the set."
   ]
  },
  {
   "cell_type": "code",
   "execution_count": 75,
   "id": "c72c4507",
   "metadata": {
    "execution": {
     "iopub.execute_input": "2023-04-01T18:59:11.168219Z",
     "iopub.status.busy": "2023-04-01T18:59:11.167770Z",
     "iopub.status.idle": "2023-04-01T18:59:11.173731Z",
     "shell.execute_reply": "2023-04-01T18:59:11.172534Z"
    },
    "papermill": {
     "duration": 0.047255,
     "end_time": "2023-04-01T18:59:11.176450",
     "exception": false,
     "start_time": "2023-04-01T18:59:11.129195",
     "status": "completed"
    },
    "tags": []
   },
   "outputs": [
    {
     "name": "stdout",
     "output_type": "stream",
     "text": [
      "{1, 2, 3, 4}\n"
     ]
    }
   ],
   "source": [
    "s = {1, 2, 3}\n",
    "s.add (4)\n",
    "print(s) # {1, 2, 3, 4}"
   ]
  },
  {
   "cell_type": "markdown",
   "id": "2dc914d6",
   "metadata": {
    "papermill": {
     "duration": 0.03873,
     "end_time": "2023-04-01T18:59:11.252556",
     "exception": false,
     "start_time": "2023-04-01T18:59:11.213826",
     "status": "completed"
    },
    "tags": []
   },
   "source": [
    "* **`clear()`**: Removes all the elements from the set. "
   ]
  },
  {
   "cell_type": "code",
   "execution_count": 76,
   "id": "445adb39",
   "metadata": {
    "execution": {
     "iopub.execute_input": "2023-04-01T18:59:11.329956Z",
     "iopub.status.busy": "2023-04-01T18:59:11.328838Z",
     "iopub.status.idle": "2023-04-01T18:59:11.335152Z",
     "shell.execute_reply": "2023-04-01T18:59:11.334047Z"
    },
    "papermill": {
     "duration": 0.047537,
     "end_time": "2023-04-01T18:59:11.337599",
     "exception": false,
     "start_time": "2023-04-01T18:59:11.290062",
     "status": "completed"
    },
    "tags": []
   },
   "outputs": [
    {
     "name": "stdout",
     "output_type": "stream",
     "text": [
      "set()\n"
     ]
    }
   ],
   "source": [
    "s = {1, 2, 3}\n",
    "s.clear () \n",
    "print(s) # set()"
   ]
  },
  {
   "cell_type": "markdown",
   "id": "de9e190a",
   "metadata": {
    "papermill": {
     "duration": 0.037321,
     "end_time": "2023-04-01T18:59:11.412336",
     "exception": false,
     "start_time": "2023-04-01T18:59:11.375015",
     "status": "completed"
    },
    "tags": []
   },
   "source": [
    "* **`copy()`**: Returns a copy of the set."
   ]
  },
  {
   "cell_type": "code",
   "execution_count": 77,
   "id": "25e57997",
   "metadata": {
    "execution": {
     "iopub.execute_input": "2023-04-01T18:59:11.488588Z",
     "iopub.status.busy": "2023-04-01T18:59:11.488191Z",
     "iopub.status.idle": "2023-04-01T18:59:11.494477Z",
     "shell.execute_reply": "2023-04-01T18:59:11.493056Z"
    },
    "papermill": {
     "duration": 0.048483,
     "end_time": "2023-04-01T18:59:11.498025",
     "exception": false,
     "start_time": "2023-04-01T18:59:11.449542",
     "status": "completed"
    },
    "tags": []
   },
   "outputs": [
    {
     "name": "stdout",
     "output_type": "stream",
     "text": [
      "{1, 2, 3}\n"
     ]
    }
   ],
   "source": [
    "s = {1, 2, 3} \n",
    "t = s.copy() \n",
    "print(t) # {1, 2, 3}"
   ]
  },
  {
   "cell_type": "markdown",
   "id": "d1554693",
   "metadata": {
    "papermill": {
     "duration": 0.038118,
     "end_time": "2023-04-01T18:59:11.575934",
     "exception": false,
     "start_time": "2023-04-01T18:59:11.537816",
     "status": "completed"
    },
    "tags": []
   },
   "source": [
    "* **`difference()`**: Returns a set containing the difference between two or more sets. "
   ]
  },
  {
   "cell_type": "code",
   "execution_count": 78,
   "id": "4c020a97",
   "metadata": {
    "execution": {
     "iopub.execute_input": "2023-04-01T18:59:11.659964Z",
     "iopub.status.busy": "2023-04-01T18:59:11.658819Z",
     "iopub.status.idle": "2023-04-01T18:59:11.665668Z",
     "shell.execute_reply": "2023-04-01T18:59:11.664352Z"
    },
    "papermill": {
     "duration": 0.05002,
     "end_time": "2023-04-01T18:59:11.668710",
     "exception": false,
     "start_time": "2023-04-01T18:59:11.618690",
     "status": "completed"
    },
    "tags": []
   },
   "outputs": [
    {
     "name": "stdout",
     "output_type": "stream",
     "text": [
      "{1, 3}\n"
     ]
    }
   ],
   "source": [
    "s = {1, 2, 3} \n",
    "t = {2, 4, 5} \n",
    "print(s.difference(t)) # {1, 3}"
   ]
  },
  {
   "cell_type": "markdown",
   "id": "c6fdc713",
   "metadata": {
    "papermill": {
     "duration": 0.037279,
     "end_time": "2023-04-01T18:59:11.743770",
     "exception": false,
     "start_time": "2023-04-01T18:59:11.706491",
     "status": "completed"
    },
    "tags": []
   },
   "source": [
    "* **`difference_update()`**: Removes the items in this set that are also included in another, specified set. "
   ]
  },
  {
   "cell_type": "code",
   "execution_count": 79,
   "id": "ea0b3f62",
   "metadata": {
    "execution": {
     "iopub.execute_input": "2023-04-01T18:59:11.821420Z",
     "iopub.status.busy": "2023-04-01T18:59:11.820987Z",
     "iopub.status.idle": "2023-04-01T18:59:11.826983Z",
     "shell.execute_reply": "2023-04-01T18:59:11.825837Z"
    },
    "papermill": {
     "duration": 0.04783,
     "end_time": "2023-04-01T18:59:11.829603",
     "exception": false,
     "start_time": "2023-04-01T18:59:11.781773",
     "status": "completed"
    },
    "tags": []
   },
   "outputs": [
    {
     "name": "stdout",
     "output_type": "stream",
     "text": [
      "{1, 3}\n"
     ]
    }
   ],
   "source": [
    "s = {1, 2, 3} \n",
    "t = {2, 4, 5} \n",
    "s.difference_update (t) \n",
    "print(s) # {1, 3}"
   ]
  },
  {
   "cell_type": "markdown",
   "id": "07c4c372",
   "metadata": {
    "papermill": {
     "duration": 0.037093,
     "end_time": "2023-04-01T18:59:11.904658",
     "exception": false,
     "start_time": "2023-04-01T18:59:11.867565",
     "status": "completed"
    },
    "tags": []
   },
   "source": [
    "* **`discard()`**: Removes the specified item from the set if it is present."
   ]
  },
  {
   "cell_type": "code",
   "execution_count": 80,
   "id": "1727ec7c",
   "metadata": {
    "execution": {
     "iopub.execute_input": "2023-04-01T18:59:11.982410Z",
     "iopub.status.busy": "2023-04-01T18:59:11.981976Z",
     "iopub.status.idle": "2023-04-01T18:59:11.988265Z",
     "shell.execute_reply": "2023-04-01T18:59:11.986969Z"
    },
    "papermill": {
     "duration": 0.048068,
     "end_time": "2023-04-01T18:59:11.990769",
     "exception": false,
     "start_time": "2023-04-01T18:59:11.942701",
     "status": "completed"
    },
    "tags": []
   },
   "outputs": [
    {
     "name": "stdout",
     "output_type": "stream",
     "text": [
      "{1, 3}\n"
     ]
    }
   ],
   "source": [
    "s = {1, 2, 3} \n",
    "s.discard(2) \n",
    "print(s) # {1, 3}"
   ]
  },
  {
   "cell_type": "markdown",
   "id": "a3ffe7e4",
   "metadata": {
    "papermill": {
     "duration": 0.038125,
     "end_time": "2023-04-01T18:59:12.066639",
     "exception": false,
     "start_time": "2023-04-01T18:59:12.028514",
     "status": "completed"
    },
    "tags": []
   },
   "source": [
    "* **`intersection()`**: Returns a set that is the intersection of two or more sets. "
   ]
  },
  {
   "cell_type": "code",
   "execution_count": 81,
   "id": "b3cc9e87",
   "metadata": {
    "execution": {
     "iopub.execute_input": "2023-04-01T18:59:12.144461Z",
     "iopub.status.busy": "2023-04-01T18:59:12.143567Z",
     "iopub.status.idle": "2023-04-01T18:59:12.150982Z",
     "shell.execute_reply": "2023-04-01T18:59:12.149334Z"
    },
    "papermill": {
     "duration": 0.049259,
     "end_time": "2023-04-01T18:59:12.153483",
     "exception": false,
     "start_time": "2023-04-01T18:59:12.104224",
     "status": "completed"
    },
    "tags": []
   },
   "outputs": [
    {
     "name": "stdout",
     "output_type": "stream",
     "text": [
      "{2}\n"
     ]
    }
   ],
   "source": [
    "s = {1, 2, 3} \n",
    "t = {2, 4, 5} \n",
    "print(s.intersection (t)) # {2}"
   ]
  },
  {
   "cell_type": "markdown",
   "id": "c3810bca",
   "metadata": {
    "papermill": {
     "duration": 0.040164,
     "end_time": "2023-04-01T18:59:12.231840",
     "exception": false,
     "start_time": "2023-04-01T18:59:12.191676",
     "status": "completed"
    },
    "tags": []
   },
   "source": [
    "* **`intersection_update()`**: Removes the items in this set that are not present in other, specified set (s).  "
   ]
  },
  {
   "cell_type": "code",
   "execution_count": 82,
   "id": "d1e7b155",
   "metadata": {
    "execution": {
     "iopub.execute_input": "2023-04-01T18:59:12.310719Z",
     "iopub.status.busy": "2023-04-01T18:59:12.310294Z",
     "iopub.status.idle": "2023-04-01T18:59:12.316517Z",
     "shell.execute_reply": "2023-04-01T18:59:12.315231Z"
    },
    "papermill": {
     "duration": 0.048745,
     "end_time": "2023-04-01T18:59:12.319524",
     "exception": false,
     "start_time": "2023-04-01T18:59:12.270779",
     "status": "completed"
    },
    "tags": []
   },
   "outputs": [
    {
     "name": "stdout",
     "output_type": "stream",
     "text": [
      "{2}\n"
     ]
    }
   ],
   "source": [
    "s = {1, 2, 3} \n",
    "t = {2, 4, 5} \n",
    "s.intersection_update(t) \n",
    "print(s) # {2}"
   ]
  },
  {
   "cell_type": "markdown",
   "id": "aa47624a",
   "metadata": {
    "papermill": {
     "duration": 0.037061,
     "end_time": "2023-04-01T18:59:12.394952",
     "exception": false,
     "start_time": "2023-04-01T18:59:12.357891",
     "status": "completed"
    },
    "tags": []
   },
   "source": [
    "* **`isdisjoint()`**: Returns True if two sets have no elements in common. "
   ]
  },
  {
   "cell_type": "code",
   "execution_count": 83,
   "id": "2d288976",
   "metadata": {
    "execution": {
     "iopub.execute_input": "2023-04-01T18:59:12.471995Z",
     "iopub.status.busy": "2023-04-01T18:59:12.470750Z",
     "iopub.status.idle": "2023-04-01T18:59:12.477537Z",
     "shell.execute_reply": "2023-04-01T18:59:12.476381Z"
    },
    "papermill": {
     "duration": 0.047812,
     "end_time": "2023-04-01T18:59:12.479797",
     "exception": false,
     "start_time": "2023-04-01T18:59:12.431985",
     "status": "completed"
    },
    "tags": []
   },
   "outputs": [
    {
     "name": "stdout",
     "output_type": "stream",
     "text": [
      "True\n"
     ]
    }
   ],
   "source": [
    "s = {1, 2, 3} \n",
    "t = {4, 5, 6} \n",
    "print(s.isdisjoint(t)) # True"
   ]
  },
  {
   "cell_type": "markdown",
   "id": "3e37f84c",
   "metadata": {
    "papermill": {
     "duration": 0.037727,
     "end_time": "2023-04-01T18:59:12.554794",
     "exception": false,
     "start_time": "2023-04-01T18:59:12.517067",
     "status": "completed"
    },
    "tags": []
   },
   "source": [
    "* **`issubset()`**: Returns True if this set is a subset of another set. "
   ]
  },
  {
   "cell_type": "code",
   "execution_count": 84,
   "id": "575071e4",
   "metadata": {
    "execution": {
     "iopub.execute_input": "2023-04-01T18:59:12.634160Z",
     "iopub.status.busy": "2023-04-01T18:59:12.633709Z",
     "iopub.status.idle": "2023-04-01T18:59:12.638877Z",
     "shell.execute_reply": "2023-04-01T18:59:12.638071Z"
    },
    "papermill": {
     "duration": 0.04949,
     "end_time": "2023-04-01T18:59:12.642758",
     "exception": false,
     "start_time": "2023-04-01T18:59:12.593268",
     "status": "completed"
    },
    "tags": []
   },
   "outputs": [
    {
     "name": "stdout",
     "output_type": "stream",
     "text": [
      "True\n"
     ]
    }
   ],
   "source": [
    "s = {1, 2} \n",
    "t = {1, 2, 3} \n",
    "print(s.issubset(t)) # True"
   ]
  },
  {
   "cell_type": "markdown",
   "id": "f1feee4b",
   "metadata": {
    "papermill": {
     "duration": 0.037545,
     "end_time": "2023-04-01T18:59:12.720465",
     "exception": false,
     "start_time": "2023-04-01T18:59:12.682920",
     "status": "completed"
    },
    "tags": []
   },
   "source": [
    "* **`issuperset()`**: Returns True if this set is a superset of another set."
   ]
  },
  {
   "cell_type": "code",
   "execution_count": 85,
   "id": "52b2cb23",
   "metadata": {
    "execution": {
     "iopub.execute_input": "2023-04-01T18:59:12.800141Z",
     "iopub.status.busy": "2023-04-01T18:59:12.799682Z",
     "iopub.status.idle": "2023-04-01T18:59:12.805477Z",
     "shell.execute_reply": "2023-04-01T18:59:12.804217Z"
    },
    "papermill": {
     "duration": 0.049203,
     "end_time": "2023-04-01T18:59:12.807814",
     "exception": false,
     "start_time": "2023-04-01T18:59:12.758611",
     "status": "completed"
    },
    "tags": []
   },
   "outputs": [
    {
     "name": "stdout",
     "output_type": "stream",
     "text": [
      "True\n"
     ]
    }
   ],
   "source": [
    "s = {1, 2} \n",
    "t = {1} \n",
    "print(s.issuperset (t)) # True"
   ]
  },
  {
   "cell_type": "markdown",
   "id": "68ac1774",
   "metadata": {
    "papermill": {
     "duration": 0.03733,
     "end_time": "2023-04-01T18:59:12.882608",
     "exception": false,
     "start_time": "2023-04-01T18:59:12.845278",
     "status": "completed"
    },
    "tags": []
   },
   "source": [
    "* **`pop()`**: Removes and returns an arbitrary element from the set."
   ]
  },
  {
   "cell_type": "code",
   "execution_count": 86,
   "id": "27fe5b48",
   "metadata": {
    "execution": {
     "iopub.execute_input": "2023-04-01T18:59:12.960079Z",
     "iopub.status.busy": "2023-04-01T18:59:12.959624Z",
     "iopub.status.idle": "2023-04-01T18:59:12.966211Z",
     "shell.execute_reply": "2023-04-01T18:59:12.965101Z"
    },
    "papermill": {
     "duration": 0.049312,
     "end_time": "2023-04-01T18:59:12.969373",
     "exception": false,
     "start_time": "2023-04-01T18:59:12.920061",
     "status": "completed"
    },
    "tags": []
   },
   "outputs": [
    {
     "name": "stdout",
     "output_type": "stream",
     "text": [
      "1\n"
     ]
    }
   ],
   "source": [
    "s = {1, 2, 3} \n",
    "print(s.pop())"
   ]
  },
  {
   "cell_type": "markdown",
   "id": "122442ee",
   "metadata": {
    "papermill": {
     "duration": 0.04165,
     "end_time": "2023-04-01T18:59:13.050275",
     "exception": false,
     "start_time": "2023-04-01T18:59:13.008625",
     "status": "completed"
    },
    "tags": []
   },
   "source": [
    "### Real life use-cases of sets\n",
    "* Sets can be used to **`remove duplicate values`** from a collection of data. For example, if you have a list of student names and you want to get only the unique names, you can convert the list to a set and then back to a list.\n",
    "* Sets can be used to **`perform mathematical operations`** on collections of data, such as union, intersection, difference, and symmetric difference. For example, if you have two sets of keywords for a website and you want to find out which keywords are common, which are unique, and which are exclusive to each set, you can use set methods or operators to do so.\n",
    "* Sets can be used to **`check for membership and inclusion of elements`** in a collection of data. For example, if you have a set of valid email addresses and you want to check if a given email address is valid or not, you can use the in operator or the issubset () method to do so.\n",
    "* Sets can be used to **`automate various tasks and processes`** that involve working with collections of data. For example, if you have a lot of data stored in different formats and databases, you can use Python tools like Fabric, Salt or Ansible to combine, clean, and manipulate the data using sets.\n",
    "* Sets can be used for **`stuff automation as well`**. For example, if you have a number of robotic arms for a manufacturing facility, you can use Python to code their movements and interactions using sets."
   ]
  },
  {
   "cell_type": "markdown",
   "id": "020b4ed9",
   "metadata": {
    "papermill": {
     "duration": 0.037371,
     "end_time": "2023-04-01T18:59:13.125675",
     "exception": false,
     "start_time": "2023-04-01T18:59:13.088304",
     "status": "completed"
    },
    "tags": []
   },
   "source": [
    "## Errors and Exceptions\n",
    "### Compile Time error vs Runtime error\n",
    "In simple words **`compile time error`** happens even before the code starts running while the **`runtime error`** happens while the code is running i.e is why in runtime error if the code is coorect untill that point then those code will execute unlike compile time error.\n",
    "\n",
    "A **`compile time error`** is an error that occurs when you violate the rules of writing syntax in Python, such as missing a colon, a parenthesis, or a quotation mark. These errors are detected by the compiler **before the program execution begins** and prevent the code from running.\n",
    "\n",
    "```python\n",
    "print(\"Hello world\" # SyntaxError\n",
    "```\n",
    "\n",
    "A **`runtime error`** is an error that occurs when something goes wrong **during the program execution**, such as dividing by zero, accessing an invalid index of a list, or calling a function with wrong arguments. These errors are not detected by the compiler and produce an unpredictable result or an exception at the execution time.\n",
    "\n",
    "```python\n",
    "55/0 # ZeroDivisionError\n",
    "```\n",
    "\n",
    "* The main difference between compile time error and runtime error is that compile time error can be **fixed by correcting the syntax** of the code, while runtime error can be **fixed by handling the exceptions or changing the logic of the code.**\n",
    "\n",
    "---\n",
    "Errors are problems in a program that prevent it from running correctly whereas, Exceptions are events that occur during the execution of a program that disrupt the normal flow of control. There are two types of errors in Python: **syntax errors** and **logical errors**.\n",
    "\n",
    "**`Syntax errors`** occur when the program does not follow the rules of the Python language. For example, forgetting a colon after an if statement or a parenthesis after a print function. Syntax errors are detected by the interpreter **before the program runs** and cause a SyntaxError message. For example:\n",
    "\n",
    "```python\n",
    "amount = 10000\n",
    "if(amount>2999) # SyntaxError: invalid syntax due to no colon :\n",
    "print(\"You are eligible to purchase Dsa Self Paced\")\n",
    "```\n",
    "\n",
    "**`Logical errors`** occur when the program does not do what the programmer intended it to do. For example, dividing a number by zero or using an undefined variable. Logical errors are detected by the interpreter during the program execution and cause an exception message. For example:\n",
    "```python\n",
    "marks = 10000\n",
    "a = marks / 0 # ZeroDivisionError: division by zero\n",
    "print(a)\n",
    "```\n",
    "\n",
    "**`Exceptions`** Python has many built-in exceptions that handle different kinds of errors, such as `ZeroDivisionError, NameError, TypeError, IndexError`, etc. You can see the full list of built-in exceptions here: https://docs.python.org/3/library/exceptions.html\n",
    "\n",
    "\n",
    "### Create Exceptions\n",
    "You can also create your own exceptions by subclassing the Exception class or one of its subclasses. For example:\n",
    "\n",
    "```python\n",
    "class MyError(Exception):\n",
    "    pass\n",
    "\n",
    "raise MyError(\"Something went wrong\")\n",
    "```"
   ]
  },
  {
   "cell_type": "markdown",
   "id": "1578a35f",
   "metadata": {
    "papermill": {
     "duration": 0.037815,
     "end_time": "2023-04-01T18:59:13.201162",
     "exception": false,
     "start_time": "2023-04-01T18:59:13.163347",
     "status": "completed"
    },
    "tags": []
   },
   "source": [
    "### Exception Handling\n",
    "\n",
    "```python\n",
    "try:\n",
    "    print(\"This block runs when there are no errors\")\n",
    "except:\n",
    "    print(\"This block runs when there is an error in the 'try' block\")\n",
    "finally:\n",
    "    print(\"This block runs no matter what\")\n",
    "```\n",
    "\n",
    "To catch any type of exception we use the **`Exception`** \n",
    "\n",
    "**`finally`** the purpose of this is to do cleanup operations no matter what"
   ]
  },
  {
   "cell_type": "code",
   "execution_count": 87,
   "id": "5c2ffb99",
   "metadata": {
    "execution": {
     "iopub.execute_input": "2023-04-01T18:59:13.280279Z",
     "iopub.status.busy": "2023-04-01T18:59:13.279789Z",
     "iopub.status.idle": "2023-04-01T18:59:13.286937Z",
     "shell.execute_reply": "2023-04-01T18:59:13.285396Z"
    },
    "papermill": {
     "duration": 0.050825,
     "end_time": "2023-04-01T18:59:13.290144",
     "exception": false,
     "start_time": "2023-04-01T18:59:13.239319",
     "status": "completed"
    },
    "tags": []
   },
   "outputs": [
    {
     "name": "stdout",
     "output_type": "stream",
     "text": [
      "Exception!---> <class 'Exception'>\n"
     ]
    }
   ],
   "source": [
    "try:\n",
    "    int(\"ok\") \n",
    "except Exception:\n",
    "    print(f\"Exception!---> {Exception}\")"
   ]
  },
  {
   "cell_type": "markdown",
   "id": "1911b093",
   "metadata": {
    "papermill": {
     "duration": 0.039112,
     "end_time": "2023-04-01T18:59:13.369484",
     "exception": false,
     "start_time": "2023-04-01T18:59:13.330372",
     "status": "completed"
    },
    "tags": []
   },
   "source": [
    "When we know the Exception."
   ]
  },
  {
   "cell_type": "code",
   "execution_count": 88,
   "id": "6ab58530",
   "metadata": {
    "execution": {
     "iopub.execute_input": "2023-04-01T18:59:13.447402Z",
     "iopub.status.busy": "2023-04-01T18:59:13.446941Z",
     "iopub.status.idle": "2023-04-01T18:59:13.454009Z",
     "shell.execute_reply": "2023-04-01T18:59:13.452525Z"
    },
    "papermill": {
     "duration": 0.048977,
     "end_time": "2023-04-01T18:59:13.456739",
     "exception": false,
     "start_time": "2023-04-01T18:59:13.407762",
     "status": "completed"
    },
    "tags": []
   },
   "outputs": [
    {
     "name": "stdout",
     "output_type": "stream",
     "text": [
      "Exception!---> <class 'ValueError'>\n",
      "I will run no matter what\n"
     ]
    }
   ],
   "source": [
    "# When we know the Exception\n",
    "try:\n",
    "    int(\"ok\")\n",
    "except ZeroDivisionError:\n",
    "    print(f\"Exception!---> {ZeroDivisionError}\")\n",
    "except ValueError:\n",
    "    print(f\"Exception!---> {ValueError}\")\n",
    "finally:\n",
    "    print(\"I will run no matter what\")"
   ]
  },
  {
   "cell_type": "markdown",
   "id": "cbce5685",
   "metadata": {
    "papermill": {
     "duration": 0.037487,
     "end_time": "2023-04-01T18:59:13.532340",
     "exception": false,
     "start_time": "2023-04-01T18:59:13.494853",
     "status": "completed"
    },
    "tags": []
   },
   "source": [
    "### Raise Exception\n",
    "You can also use the raise statement to explicitly raise an exception when a certain condition is met. You can optionally specify a cause for the exception using the from keyword. For example:\n",
    "\n",
    "```python\n",
    "raise Exception(\"Got you!!!\")\n",
    "\n",
    "raise IndexError(\"See! I told ya, this is an exception of Index\")\n",
    "```\n",
    "\n",
    "```python\n",
    "def sqrt(x):\n",
    "    if x < 0:\n",
    "        raise ValueError(\"Cannot take square root of negative number\") from None\n",
    "    return x ** 0.5\n",
    "\n",
    "print(sqrt(-4))\n",
    "```"
   ]
  },
  {
   "cell_type": "markdown",
   "id": "103db70f",
   "metadata": {
    "papermill": {
     "duration": 0.037593,
     "end_time": "2023-04-01T18:59:13.607685",
     "exception": false,
     "start_time": "2023-04-01T18:59:13.570092",
     "status": "completed"
    },
    "tags": []
   },
   "source": [
    "### Builtin Exceptions\n",
    "Some of the common built-in exceptions are:\n",
    "\n",
    "* **`ArithmeticError`**: Raised when an error occurs in numeric calculations\n",
    "* **`AssertionError`**: Raised when an assert statement fails\n",
    "* **`AttributeError`**: Raised when attribute reference or assignment fails\n",
    "* **`EOFError`**: Raised when the input() function hits end-of-file condition\n",
    "* **`ImportError`**: Raised when an imported module does not exist\n",
    "* **`IndexError`**: Raised when the index of a sequence is out of range\n",
    "* **`KeyError`**: Raised when a key does not exist in a dictionary\n",
    "* **`KeyboardInterrupt`**: Raised when the user presses Ctrl+C, Ctrl+Z or Delete\n",
    "* **`MemoryError`**: Raised when a program runs out of memory\n",
    "* **`NameError`**: Raised when a variable does not exist\n",
    "* **`NotImplementedError`**: Raised when an abstract method requires an inherited class to override the method\n",
    "* **`OSError`**: Raised when a system related operation causes an error\n",
    "* **`OverflowError`**: Raised when the result of a numeric calculation is too large to be represented\n",
    "* **`SyntaxError`**: Raised when a syntax error occurs\n",
    "* **`TypeError`**: Raised when two different types are combined\n",
    "* **`ValueError`**: Raised when there is a wrong value in a specified data type\n",
    "* **`ZeroDivisionError`**: Raised when the second operator in a division is zero"
   ]
  },
  {
   "cell_type": "markdown",
   "id": "686446e6",
   "metadata": {
    "papermill": {
     "duration": 0.037618,
     "end_time": "2023-04-01T18:59:13.682902",
     "exception": false,
     "start_time": "2023-04-01T18:59:13.645284",
     "status": "completed"
    },
    "tags": []
   },
   "source": [
    "## Functions\n",
    "---\n",
    "Functions in Python are blocks of code that can be defined using the **`def`** keyword and can be called with a name and parentheses. Functions can take data as **parameters** or **arguments** and can return data as a result. Functions can help to make the code more **readable, reusable** and **modular**.\n",
    "\n",
    "There are two types of functions in Python: **built-in functions** and **user-defined functions**. Built-in functions are standard functions that come with Python, such as **range, id, type**, etc. User-defined functions are functions that you create yourself according to your requirements.\n",
    "\n",
    "There are also different types of arguments that you can pass to a function, such as **default arguments, keyword arguments, positional arguments** and **arbitrary arguments**. These arguments can affect how the function behaves and how the data is processed.\n",
    "\n",
    "* **`Positional arguments`**: These are the arguments that are passed in the same order as they are defined in the function. For example:"
   ]
  },
  {
   "cell_type": "code",
   "execution_count": 89,
   "id": "eb76a872",
   "metadata": {
    "execution": {
     "iopub.execute_input": "2023-04-01T18:59:13.762198Z",
     "iopub.status.busy": "2023-04-01T18:59:13.761740Z",
     "iopub.status.idle": "2023-04-01T18:59:13.769368Z",
     "shell.execute_reply": "2023-04-01T18:59:13.768124Z"
    },
    "papermill": {
     "duration": 0.051013,
     "end_time": "2023-04-01T18:59:13.771855",
     "exception": false,
     "start_time": "2023-04-01T18:59:13.720842",
     "status": "completed"
    },
    "tags": []
   },
   "outputs": [
    {
     "data": {
      "text/plain": [
       "5"
      ]
     },
     "execution_count": 89,
     "metadata": {},
     "output_type": "execute_result"
    }
   ],
   "source": [
    "def add(a, b):\n",
    "    return a + b\n",
    "\n",
    "add(2, 3) # 2 is assigned to a and 3 is assigned to b"
   ]
  },
  {
   "cell_type": "markdown",
   "id": "5e17ddc2",
   "metadata": {
    "papermill": {
     "duration": 0.037568,
     "end_time": "2023-04-01T18:59:13.847458",
     "exception": false,
     "start_time": "2023-04-01T18:59:13.809890",
     "status": "completed"
    },
    "tags": []
   },
   "source": [
    "* **`Keyword arguments`**: These are the arguments that are passed by specifying the name of the parameter and the value. The order of the arguments does not matter in this case. For example:"
   ]
  },
  {
   "cell_type": "code",
   "execution_count": 90,
   "id": "b7a2278f",
   "metadata": {
    "execution": {
     "iopub.execute_input": "2023-04-01T18:59:13.925348Z",
     "iopub.status.busy": "2023-04-01T18:59:13.924861Z",
     "iopub.status.idle": "2023-04-01T18:59:13.931278Z",
     "shell.execute_reply": "2023-04-01T18:59:13.930174Z"
    },
    "papermill": {
     "duration": 0.048483,
     "end_time": "2023-04-01T18:59:13.933911",
     "exception": false,
     "start_time": "2023-04-01T18:59:13.885428",
     "status": "completed"
    },
    "tags": []
   },
   "outputs": [
    {
     "name": "stdout",
     "output_type": "stream",
     "text": [
      "Hello John, Good morning\n"
     ]
    }
   ],
   "source": [
    "def greet(name, message):\n",
    "    print(f\"Hello {name}, {message}\")\n",
    "\n",
    "greet(message=\"Good morning\", name=\"John\") # name is assigned to John and message is assigned to Good morning, order doesn't matter"
   ]
  },
  {
   "cell_type": "markdown",
   "id": "2ab6a220",
   "metadata": {
    "papermill": {
     "duration": 0.037629,
     "end_time": "2023-04-01T18:59:14.009879",
     "exception": false,
     "start_time": "2023-04-01T18:59:13.972250",
     "status": "completed"
    },
    "tags": []
   },
   "source": [
    "* **`Default arguments`**: These are the arguments that have a default value assigned to them in the function definition. If no value is passed for these arguments, the default value is used. For example:"
   ]
  },
  {
   "cell_type": "code",
   "execution_count": 91,
   "id": "f0abae1b",
   "metadata": {
    "execution": {
     "iopub.execute_input": "2023-04-01T18:59:14.088262Z",
     "iopub.status.busy": "2023-04-01T18:59:14.087513Z",
     "iopub.status.idle": "2023-04-01T18:59:14.094433Z",
     "shell.execute_reply": "2023-04-01T18:59:14.093083Z"
    },
    "papermill": {
     "duration": 0.048729,
     "end_time": "2023-04-01T18:59:14.096993",
     "exception": false,
     "start_time": "2023-04-01T18:59:14.048264",
     "status": "completed"
    },
    "tags": []
   },
   "outputs": [
    {
     "name": "stdout",
     "output_type": "stream",
     "text": [
      "8\n",
      "12\n"
     ]
    }
   ],
   "source": [
    "def multiply(a, b=2):\n",
    "    return a * b\n",
    "\n",
    "print(multiply(4))    # b is assigned 2 by default\n",
    "print(multiply(4, 3)) # b is assigned 3"
   ]
  },
  {
   "cell_type": "markdown",
   "id": "1b31f825",
   "metadata": {
    "papermill": {
     "duration": 0.037823,
     "end_time": "2023-04-01T18:59:14.173412",
     "exception": false,
     "start_time": "2023-04-01T18:59:14.135589",
     "status": "completed"
    },
    "tags": []
   },
   "source": [
    "* **`Variable-length arguments`**: These are the arguments that can accept any number of values. They are denoted by an asterisk (`*`) for positional arguments and a double asterisk (`**`) for keyword arguments. For example:"
   ]
  },
  {
   "cell_type": "code",
   "execution_count": 92,
   "id": "ddc1cedd",
   "metadata": {
    "execution": {
     "iopub.execute_input": "2023-04-01T18:59:14.252991Z",
     "iopub.status.busy": "2023-04-01T18:59:14.251707Z",
     "iopub.status.idle": "2023-04-01T18:59:14.260660Z",
     "shell.execute_reply": "2023-04-01T18:59:14.259079Z"
    },
    "papermill": {
     "duration": 0.051322,
     "end_time": "2023-04-01T18:59:14.263194",
     "exception": false,
     "start_time": "2023-04-01T18:59:14.211872",
     "status": "completed"
    },
    "tags": []
   },
   "outputs": [
    {
     "name": "stdout",
     "output_type": "stream",
     "text": [
      "6\n",
      "name: Alice\n",
      "age: 25\n",
      "None\n"
     ]
    }
   ],
   "source": [
    "def sum(*args):\n",
    "    total = 0\n",
    "    for n in args:\n",
    "        total += n\n",
    "    return total\n",
    "\n",
    "print(sum(1, 2, 3)) # args is a tuple of (1, 2, 3)\n",
    "\n",
    "def info(**kwargs):\n",
    "    for key, value in kwargs.items():\n",
    "        print(f\"{key}: {value}\")\n",
    "\n",
    "print(info(name=\"Alice\", age=25)) # kwargs is a dictionary of {\"name\": \"Alice\", \"age\": 25}"
   ]
  },
  {
   "cell_type": "code",
   "execution_count": null,
   "id": "678f521b",
   "metadata": {
    "papermill": {
     "duration": 0.038101,
     "end_time": "2023-04-01T18:59:14.341547",
     "exception": false,
     "start_time": "2023-04-01T18:59:14.303446",
     "status": "completed"
    },
    "tags": []
   },
   "outputs": [],
   "source": []
  }
 ],
 "metadata": {
  "kernelspec": {
   "display_name": "Python 3",
   "language": "python",
   "name": "python3"
  },
  "language_info": {
   "codemirror_mode": {
    "name": "ipython",
    "version": 3
   },
   "file_extension": ".py",
   "mimetype": "text/x-python",
   "name": "python",
   "nbconvert_exporter": "python",
   "pygments_lexer": "ipython3",
   "version": "3.7.12"
  },
  "papermill": {
   "default_parameters": {},
   "duration": 31.430137,
   "end_time": "2023-04-01T18:59:17.289306",
   "environment_variables": {},
   "exception": null,
   "input_path": "__notebook__.ipynb",
   "output_path": "__notebook__.ipynb",
   "parameters": {},
   "start_time": "2023-04-01T18:58:45.859169",
   "version": "2.4.0"
  }
 },
 "nbformat": 4,
 "nbformat_minor": 5
}
