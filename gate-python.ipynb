{
 "cells": [
  {
   "cell_type": "code",
   "execution_count": 1,
   "id": "b9808d14",
   "metadata": {
    "_cell_guid": "b1076dfc-b9ad-4769-8c92-a6c4dae69d19",
    "_uuid": "8f2839f25d086af736a60e9eeb907d3b93b6e0e5",
    "execution": {
     "iopub.execute_input": "2023-04-01T17:03:36.540135Z",
     "iopub.status.busy": "2023-04-01T17:03:36.539157Z",
     "iopub.status.idle": "2023-04-01T17:03:36.556121Z",
     "shell.execute_reply": "2023-04-01T17:03:36.554935Z"
    },
    "papermill": {
     "duration": 0.073827,
     "end_time": "2023-04-01T17:03:36.559082",
     "exception": false,
     "start_time": "2023-04-01T17:03:36.485255",
     "status": "completed"
    },
    "tags": []
   },
   "outputs": [],
   "source": [
    "# This Python 3 environment comes with many helpful analytics libraries installed\n",
    "# It is defined by the kaggle/python Docker image: https://github.com/kaggle/docker-python\n",
    "# For example, here's several helpful packages to load\n",
    "\n",
    "import numpy as np # linear algebra\n",
    "import pandas as pd # data processing, CSV file I/O (e.g. pd.read_csv)\n",
    "\n",
    "# Input data files are available in the read-only \"../input/\" directory\n",
    "# For example, running this (by clicking run or pressing Shift+Enter) will list all files under the input directory\n",
    "\n",
    "import os\n",
    "for dirname, _, filenames in os.walk('/kaggle/input'):\n",
    "    for filename in filenames:\n",
    "        print(os.path.join(dirname, filename))\n",
    "\n",
    "# You can write up to 20GB to the current directory (/kaggle/working/) that gets preserved as output when you create a version using \"Save & Run All\" \n",
    "# You can also write temporary files to /kaggle/temp/, but they won't be saved outside of the current session"
   ]
  },
  {
   "cell_type": "markdown",
   "id": "32480419",
   "metadata": {
    "papermill": {
     "duration": 0.03078,
     "end_time": "2023-04-01T17:03:36.621882",
     "exception": false,
     "start_time": "2023-04-01T17:03:36.591102",
     "status": "completed"
    },
    "tags": []
   },
   "source": [
    "---\n",
    "# <center>PROGRAMMING FUNDAMENTALS</center>\n",
    "---"
   ]
  },
  {
   "cell_type": "markdown",
   "id": "758acb9d",
   "metadata": {
    "papermill": {
     "duration": 0.031309,
     "end_time": "2023-04-01T17:03:36.685288",
     "exception": false,
     "start_time": "2023-04-01T17:03:36.653979",
     "status": "completed"
    },
    "tags": []
   },
   "source": [
    "## What is Python?\n",
    "---\n",
    "Python is a popular programming language that was created by `Guido van Rossum` and released in `1991`. It is used for various purposes such as web development, software development, mathematics, data science, machine learning and system scripting. Python has a simple and readable syntax that resembles the English language. It also supports multiple programming paradigms such as object-oriented, procedural and functional. Python runs on an interpreter system, which means that code can be executed as soon as it is written. Python works on different platforms such as Windows, Mac, Linux and Raspberry Pi."
   ]
  },
  {
   "cell_type": "markdown",
   "id": "490411f5",
   "metadata": {
    "papermill": {
     "duration": 0.031309,
     "end_time": "2023-04-01T17:03:36.748234",
     "exception": false,
     "start_time": "2023-04-01T17:03:36.716925",
     "status": "completed"
    },
    "tags": []
   },
   "source": [
    "## What can Python do?\n",
    "---\n",
    "* Python can be used to perform data science and machine learning tasks.\n",
    "* Python can be used on a server to create web applications. \n",
    "* Python can be used alongside software to create workflows.\n",
    "* Python can be used to connect to database systems. It can also read and modify files.\n",
    "* Python can be used to handle big data and perform complex mathematics.\n",
    "* Python can be used for rapid prototyping, or for production-ready software development."
   ]
  },
  {
   "cell_type": "markdown",
   "id": "693726a1",
   "metadata": {
    "papermill": {
     "duration": 0.031211,
     "end_time": "2023-04-01T17:03:36.811174",
     "exception": false,
     "start_time": "2023-04-01T17:03:36.779963",
     "status": "completed"
    },
    "tags": []
   },
   "source": [
    "## Why Python?\n",
    "---\n",
    "* Python works on different platforms (Windows, Mac, Linux, Raspberry Pi, etc).\n",
    "* Python has a simple syntax similar to the English language.\n",
    "* Python has syntax that allows developers to write programs with fewer lines than some other programming languages.\n",
    "* Python runs on an interpreter system, meaning that code can be executed as soon as it is written. This means that prototyping can be very quick.\n",
    "* Python can be treated in a procedural way, an object-oriented way or a functional way."
   ]
  },
  {
   "cell_type": "markdown",
   "id": "5b5885c4",
   "metadata": {
    "papermill": {
     "duration": 0.031159,
     "end_time": "2023-04-01T17:03:36.874821",
     "exception": false,
     "start_time": "2023-04-01T17:03:36.843662",
     "status": "completed"
    },
    "tags": []
   },
   "source": [
    "## Python Syntax compared to other programming languages?\n",
    "---\n",
    "* Python was designed for readability, and has some similarities to the English language with influence from mathematics.\n",
    "* Python uses new lines to complete a command, as opposed to other programming languages which often use semicolons or parentheses.\n",
    "* Python relies on indentation, using whitespace, to define scope; such as the scope of loops, functions and classes. Other programming languages often use curly-brackets for this purpose."
   ]
  },
  {
   "cell_type": "markdown",
   "id": "96cc15e4",
   "metadata": {
    "papermill": {
     "duration": 0.031701,
     "end_time": "2023-04-01T17:03:36.938484",
     "exception": false,
     "start_time": "2023-04-01T17:03:36.906783",
     "status": "completed"
    },
    "tags": []
   },
   "source": [
    "## Built-in Data Types\n",
    "---\n",
    "In programming, data type is an important concept.Variables can store data of different types, and different types can do different things.\n",
    "\n",
    "Python has the following data types built-in by default, in these categories:\n",
    "\n",
    "* Text Type:\t`str`\n",
    "* Numeric Types:\t`int, float, complex`\n",
    "* Sequence Types:\t`list, tuple, range`\n",
    "* Mapping Type:\t`dict`\n",
    "* Set Types:\t`set, frozenset`\n",
    "* Boolean Type:\t`bool`\n",
    "* Binary Types:\t`bytes, bytearray, memoryview`\n",
    "* None Type:\t`NoneType`"
   ]
  },
  {
   "cell_type": "markdown",
   "id": "05ada418",
   "metadata": {
    "papermill": {
     "duration": 0.031141,
     "end_time": "2023-04-01T17:03:37.002323",
     "exception": false,
     "start_time": "2023-04-01T17:03:36.971182",
     "status": "completed"
    },
    "tags": []
   },
   "source": [
    "### a. Getting the Data Type\n",
    "You can get the data type of any object by using the `type()` function:\n",
    "\n",
    "### b. Setting the Data Type \n",
    "In Python, the data type is set when you assign a value to a variable:"
   ]
  },
  {
   "cell_type": "code",
   "execution_count": 2,
   "id": "0beb7703",
   "metadata": {
    "execution": {
     "iopub.execute_input": "2023-04-01T17:03:37.067142Z",
     "iopub.status.busy": "2023-04-01T17:03:37.066686Z",
     "iopub.status.idle": "2023-04-01T17:03:37.072599Z",
     "shell.execute_reply": "2023-04-01T17:03:37.071781Z"
    },
    "papermill": {
     "duration": 0.042332,
     "end_time": "2023-04-01T17:03:37.076288",
     "exception": false,
     "start_time": "2023-04-01T17:03:37.033956",
     "status": "completed"
    },
    "tags": []
   },
   "outputs": [
    {
     "name": "stdout",
     "output_type": "stream",
     "text": [
      "Text Type\n",
      "<class 'str'>\n"
     ]
    }
   ],
   "source": [
    "### Text Type ###\n",
    "print(\"Text Type\")\n",
    "\n",
    "# str\n",
    "x = \"Hello World\"\n",
    "x = str(\"Hello World\")\n",
    "print(type(x))"
   ]
  },
  {
   "cell_type": "code",
   "execution_count": 3,
   "id": "44e0d82d",
   "metadata": {
    "execution": {
     "iopub.execute_input": "2023-04-01T17:03:37.142539Z",
     "iopub.status.busy": "2023-04-01T17:03:37.142098Z",
     "iopub.status.idle": "2023-04-01T17:03:37.150153Z",
     "shell.execute_reply": "2023-04-01T17:03:37.148675Z"
    },
    "papermill": {
     "duration": 0.04364,
     "end_time": "2023-04-01T17:03:37.152658",
     "exception": false,
     "start_time": "2023-04-01T17:03:37.109018",
     "status": "completed"
    },
    "tags": []
   },
   "outputs": [
    {
     "name": "stdout",
     "output_type": "stream",
     "text": [
      "\n",
      "Numeric Type\n",
      "<class 'int'>\n",
      "<class 'float'>\n",
      "<class 'complex'>\n"
     ]
    }
   ],
   "source": [
    "### Numeric Type ##\n",
    "print(\"\\nNumeric Type\")\n",
    "\n",
    "# int\n",
    "x = 5\n",
    "x = int(5)\n",
    "print(type(x))\n",
    "\n",
    "# float\n",
    "x = 5.0\n",
    "x = float(5.0)\n",
    "print(type(x))\n",
    "\n",
    "# complex\n",
    "x = 5 + 4j\n",
    "x = complex(5 + 4j)\n",
    "print(type(x))"
   ]
  },
  {
   "cell_type": "code",
   "execution_count": 4,
   "id": "cec5904f",
   "metadata": {
    "execution": {
     "iopub.execute_input": "2023-04-01T17:03:37.217952Z",
     "iopub.status.busy": "2023-04-01T17:03:37.217498Z",
     "iopub.status.idle": "2023-04-01T17:03:37.225451Z",
     "shell.execute_reply": "2023-04-01T17:03:37.223973Z"
    },
    "papermill": {
     "duration": 0.044117,
     "end_time": "2023-04-01T17:03:37.228687",
     "exception": false,
     "start_time": "2023-04-01T17:03:37.184570",
     "status": "completed"
    },
    "tags": []
   },
   "outputs": [
    {
     "name": "stdout",
     "output_type": "stream",
     "text": [
      "\n",
      "Sequence Type\n",
      "<class 'list'>\n",
      "<class 'tuple'>\n",
      "<class 'range'>\n"
     ]
    }
   ],
   "source": [
    "### Sequence Type ###\n",
    "print(\"\\nSequence Type\")\n",
    "\n",
    "# list\n",
    "x = [\"apple\", \"banana\", \"cherry\"]\n",
    "x = list([\"apple\", \"banana\", \"cherry\"])\n",
    "print(type(x))\n",
    "\n",
    "# tuple\n",
    "x = (\"apple\", \"banana\", \"cherry\")\n",
    "x = tuple((\"apple\", \"banana\", \"cherry\"))\n",
    "print(type(x))\n",
    "\n",
    "# range\n",
    "x = range(5)\n",
    "print(type(x))"
   ]
  },
  {
   "cell_type": "code",
   "execution_count": 5,
   "id": "120073c9",
   "metadata": {
    "execution": {
     "iopub.execute_input": "2023-04-01T17:03:37.295503Z",
     "iopub.status.busy": "2023-04-01T17:03:37.294262Z",
     "iopub.status.idle": "2023-04-01T17:03:37.300978Z",
     "shell.execute_reply": "2023-04-01T17:03:37.299820Z"
    },
    "papermill": {
     "duration": 0.042807,
     "end_time": "2023-04-01T17:03:37.303777",
     "exception": false,
     "start_time": "2023-04-01T17:03:37.260970",
     "status": "completed"
    },
    "tags": []
   },
   "outputs": [
    {
     "name": "stdout",
     "output_type": "stream",
     "text": [
      "\n",
      "Mapping Type\n",
      "<class 'dict'>\n"
     ]
    }
   ],
   "source": [
    "### Mapping Type ###\n",
    "print(\"\\nMapping Type\")\n",
    "\n",
    "# dict\n",
    "x = {\"name\" : \"Subrata Mondal\", \"age\" : 23}\n",
    "x = dict(name = \"Subrata Mondal\", age = 23)\n",
    "print(type(x))"
   ]
  },
  {
   "cell_type": "code",
   "execution_count": 6,
   "id": "296b0018",
   "metadata": {
    "execution": {
     "iopub.execute_input": "2023-04-01T17:03:37.369609Z",
     "iopub.status.busy": "2023-04-01T17:03:37.369205Z",
     "iopub.status.idle": "2023-04-01T17:03:37.375597Z",
     "shell.execute_reply": "2023-04-01T17:03:37.374639Z"
    },
    "papermill": {
     "duration": 0.043792,
     "end_time": "2023-04-01T17:03:37.379106",
     "exception": false,
     "start_time": "2023-04-01T17:03:37.335314",
     "status": "completed"
    },
    "tags": []
   },
   "outputs": [
    {
     "name": "stdout",
     "output_type": "stream",
     "text": [
      "\n",
      "Set Type\n",
      "<class 'set'>\n",
      "<class 'frozenset'>\n"
     ]
    }
   ],
   "source": [
    "### Set Type ###\n",
    "print(\"\\nSet Type\")\n",
    "\n",
    "# set \n",
    "x = {\"apple\", \"banana\", \"cherry\"}\n",
    "x = set({\"apple\", \"banana\", \"cherry\"})\n",
    "print(type(x))\n",
    "\n",
    "# frozenset \n",
    "x = frozenset({\"apple\", \"banana\", \"cherry\"})\n",
    "print(type(x))"
   ]
  },
  {
   "cell_type": "code",
   "execution_count": 7,
   "id": "dd6edba5",
   "metadata": {
    "execution": {
     "iopub.execute_input": "2023-04-01T17:03:37.447128Z",
     "iopub.status.busy": "2023-04-01T17:03:37.445805Z",
     "iopub.status.idle": "2023-04-01T17:03:37.452675Z",
     "shell.execute_reply": "2023-04-01T17:03:37.450911Z"
    },
    "papermill": {
     "duration": 0.04258,
     "end_time": "2023-04-01T17:03:37.455108",
     "exception": false,
     "start_time": "2023-04-01T17:03:37.412528",
     "status": "completed"
    },
    "tags": []
   },
   "outputs": [
    {
     "name": "stdout",
     "output_type": "stream",
     "text": [
      "\n",
      "Boolean Type\n",
      "<class 'bool'>\n"
     ]
    }
   ],
   "source": [
    "### Boolean Type ###\n",
    "print(\"\\nBoolean Type\")\n",
    "\n",
    "# bool\n",
    "x = True\n",
    "print(type(x))"
   ]
  },
  {
   "cell_type": "code",
   "execution_count": 8,
   "id": "baa1e709",
   "metadata": {
    "execution": {
     "iopub.execute_input": "2023-04-01T17:03:37.521783Z",
     "iopub.status.busy": "2023-04-01T17:03:37.520399Z",
     "iopub.status.idle": "2023-04-01T17:03:37.528895Z",
     "shell.execute_reply": "2023-04-01T17:03:37.527392Z"
    },
    "papermill": {
     "duration": 0.044407,
     "end_time": "2023-04-01T17:03:37.531647",
     "exception": false,
     "start_time": "2023-04-01T17:03:37.487240",
     "status": "completed"
    },
    "tags": []
   },
   "outputs": [
    {
     "name": "stdout",
     "output_type": "stream",
     "text": [
      "\n",
      "Binary Type\n",
      "<class 'bytes'>\n",
      "<class 'bytearray'>\n",
      "<class 'memoryview'>\n"
     ]
    }
   ],
   "source": [
    "### Binary Type ###\n",
    "print(\"\\nBinary Type\")\n",
    "\n",
    "# binary\n",
    "x = b\"Subrata Mondal\"\n",
    "x = bytes(b\"Subrata Mondal\")\n",
    "print(type(x))\n",
    "\n",
    "# bytearray\n",
    "x = bytearray(5)\n",
    "print(type(x))\n",
    "\n",
    "# memoryview\n",
    "x = memoryview(bytearray(5))\n",
    "print(type(x))"
   ]
  },
  {
   "cell_type": "code",
   "execution_count": 9,
   "id": "1eb9f365",
   "metadata": {
    "execution": {
     "iopub.execute_input": "2023-04-01T17:03:37.598414Z",
     "iopub.status.busy": "2023-04-01T17:03:37.597897Z",
     "iopub.status.idle": "2023-04-01T17:03:37.604367Z",
     "shell.execute_reply": "2023-04-01T17:03:37.603118Z"
    },
    "papermill": {
     "duration": 0.043283,
     "end_time": "2023-04-01T17:03:37.607572",
     "exception": false,
     "start_time": "2023-04-01T17:03:37.564289",
     "status": "completed"
    },
    "tags": []
   },
   "outputs": [
    {
     "name": "stdout",
     "output_type": "stream",
     "text": [
      "\n",
      "NoneType Type\n",
      "<class 'NoneType'>\n"
     ]
    }
   ],
   "source": [
    "### NoneType Type ###\n",
    "print(\"\\nNoneType Type\")\n",
    "\n",
    "# none type\n",
    "x = None\n",
    "print(type(x))"
   ]
  },
  {
   "cell_type": "markdown",
   "id": "cfff2898",
   "metadata": {
    "papermill": {
     "duration": 0.031285,
     "end_time": "2023-04-01T17:03:37.671082",
     "exception": false,
     "start_time": "2023-04-01T17:03:37.639797",
     "status": "completed"
    },
    "tags": []
   },
   "source": [
    "## What are Comments in Python?\n",
    "---\n",
    "Comments in Python are programmer-readable explanations or annotations in the Python source code. They are added with the purpose of making the source code easier for humans to understand, and are ignored by the Python interpreter.\n",
    "\n",
    "Comments can be used to:\n",
    "\n",
    "* Explain what a certain line or block of code does\n",
    "* Make the code more readable and organized\n",
    "* Prevent execution of some code when testing or debugging\n",
    "* Document a specific class, module, function or method\n",
    "* Comments in Python start with a hash symbol (#) and extend to the end of the line.\n",
    "\n",
    "`Note:` Use comment only if it adds value to the line of code i.e it helps to understand the line of code"
   ]
  },
  {
   "cell_type": "code",
   "execution_count": 10,
   "id": "7b8aad18",
   "metadata": {
    "execution": {
     "iopub.execute_input": "2023-04-01T17:03:37.736481Z",
     "iopub.status.busy": "2023-04-01T17:03:37.736083Z",
     "iopub.status.idle": "2023-04-01T17:03:37.742183Z",
     "shell.execute_reply": "2023-04-01T17:03:37.740778Z"
    },
    "papermill": {
     "duration": 0.042333,
     "end_time": "2023-04-01T17:03:37.744818",
     "exception": false,
     "start_time": "2023-04-01T17:03:37.702485",
     "status": "completed"
    },
    "tags": []
   },
   "outputs": [
    {
     "name": "stdout",
     "output_type": "stream",
     "text": [
      "Hello, world!\n"
     ]
    }
   ],
   "source": [
    "# This is a comment (unnecessary comment)\n",
    "print(\"Hello, world!\") # This is also a comment (unnecessary comment)"
   ]
  },
  {
   "cell_type": "markdown",
   "id": "055fd147",
   "metadata": {
    "papermill": {
     "duration": 0.031653,
     "end_time": "2023-04-01T17:03:37.809167",
     "exception": false,
     "start_time": "2023-04-01T17:03:37.777514",
     "status": "completed"
    },
    "tags": []
   },
   "source": [
    "Python does not have a syntax for multiline comments. To add a multiline comment, you can either insert a `#` for each line, or use a multiline string (triple quotes) that is not assigned to a variable. For example:"
   ]
  },
  {
   "cell_type": "code",
   "execution_count": 11,
   "id": "a5472395",
   "metadata": {
    "execution": {
     "iopub.execute_input": "2023-04-01T17:03:37.877205Z",
     "iopub.status.busy": "2023-04-01T17:03:37.876348Z",
     "iopub.status.idle": "2023-04-01T17:03:37.883118Z",
     "shell.execute_reply": "2023-04-01T17:03:37.881344Z"
    },
    "papermill": {
     "duration": 0.045773,
     "end_time": "2023-04-01T17:03:37.886685",
     "exception": false,
     "start_time": "2023-04-01T17:03:37.840912",
     "status": "completed"
    },
    "tags": []
   },
   "outputs": [
    {
     "name": "stdout",
     "output_type": "stream",
     "text": [
      "Hello, world!\n",
      "Hello, world!\n"
     ]
    }
   ],
   "source": [
    "# This is a \n",
    "# multiline comment\n",
    "print(\"Hello, world!\")\n",
    "\n",
    "\"\"\"\n",
    "This is also \n",
    "a multiline comment\n",
    "\"\"\"\n",
    "print(\"Hello, world!\")"
   ]
  },
  {
   "cell_type": "markdown",
   "id": "9dbb820c",
   "metadata": {
    "papermill": {
     "duration": 0.032256,
     "end_time": "2023-04-01T17:03:37.951709",
     "exception": false,
     "start_time": "2023-04-01T17:03:37.919453",
     "status": "completed"
    },
    "tags": []
   },
   "source": [
    "## The print() function in Python?\n",
    "---\n",
    "The `print()` function in Python is used to print the specified message or object to the standard output device (screen) or to a text stream file. The print() function can take one or more arguments that are separated by commas. The arguments can be of any data type, such as strings, numbers, lists, tuples, dictionaries, etc. The print() function will convert any non-string argument into a string before printing it.\n",
    "\n",
    "The syntax of the `print()` function is:\n",
    "```python\n",
    "print(object(s), sep=separator, end=end, file=file, flush=flush)\n",
    "```\n",
    "\n",
    "The parameters of the `print()` function are:\n",
    "\n",
    "* `object(s):` Any object or objects like str,int,tuple,etc that you want to print. If there are multiple objects, they will be separated by spaces by default.\n",
    "* `sep:` An optional parameter that specifies how to separate multiple objects. The default value is `’ ’` (a space).\n",
    "* `end:` An optional parameter that specifies what to print at the end of the line. The default value is `‘\\n’` (a newline character).\n",
    "* `file:` An optional parameter that specifies where to write the output. The default value is `sys.stdout` (the standard output device).\n",
    "* `flush:` An optional parameter that specifies whether to flush the output buffer or not. The default value is `False`.\n",
    "\n",
    "Some examples of using the print () function are:"
   ]
  },
  {
   "cell_type": "code",
   "execution_count": 12,
   "id": "92f00d86",
   "metadata": {
    "execution": {
     "iopub.execute_input": "2023-04-01T17:03:38.018159Z",
     "iopub.status.busy": "2023-04-01T17:03:38.017668Z",
     "iopub.status.idle": "2023-04-01T17:03:38.025883Z",
     "shell.execute_reply": "2023-04-01T17:03:38.024552Z"
    },
    "papermill": {
     "duration": 0.044795,
     "end_time": "2023-04-01T17:03:38.028677",
     "exception": false,
     "start_time": "2023-04-01T17:03:37.983882",
     "status": "completed"
    },
    "tags": []
   },
   "outputs": [
    {
     "name": "stdout",
     "output_type": "stream",
     "text": [
      "Hello, world!\n",
      "The answer is 42\n",
      "Python--->is--->fun\n",
      "Hello world\n"
     ]
    }
   ],
   "source": [
    "# Printing a string\n",
    "print(\"Hello, world!\")\n",
    "\n",
    "# Printing multiple objects\n",
    "print(\"The answer is\", 42)\n",
    "\n",
    "# Printing with a custom separator\n",
    "print(\"Python\", \"is\", \"fun\", sep=\"--->\")\n",
    "\n",
    "# Printing with a custom end\n",
    "print(\"Hello\", end=\" \")\n",
    "print(\"world\")\n",
    "\n",
    "# Printing to a file\n",
    "with open(\"output.txt\", \"w\") as f:\n",
    "    print(\"This is written to a file\", file=f)"
   ]
  },
  {
   "cell_type": "markdown",
   "id": "95674a08",
   "metadata": {
    "papermill": {
     "duration": 0.031841,
     "end_time": "2023-04-01T17:03:38.092337",
     "exception": false,
     "start_time": "2023-04-01T17:03:38.060496",
     "status": "completed"
    },
    "tags": []
   },
   "source": [
    "### Explain flush in python's print function\n",
    "```python\n",
    "print(object(s), flush=False)\n",
    "```\n",
    "\n",
    "The flush parameter of the print() function is used to control whether the output is buffered or not. By default, the print () function will buffer the output data until a newline character (`\\n`) is encountered or the buffer is full. This can improve the performance of writing data to a file or a device, but it can also cause delays or inconsistencies in displaying the output.\n",
    "\n",
    "```python\n",
    "print(object(s), flush=True)\n",
    "```\n",
    "\n",
    "If you set `flush=True` in the print() function, then it will force the output data to be written immediately without buffering. This can be useful when you want to see the output as soon as possible, such as when debugging, logging, monitoring, or creating interactive user interfaces."
   ]
  },
  {
   "cell_type": "markdown",
   "id": "29a7a680",
   "metadata": {
    "papermill": {
     "duration": 0.031832,
     "end_time": "2023-04-01T17:03:38.156055",
     "exception": false,
     "start_time": "2023-04-01T17:03:38.124223",
     "status": "completed"
    },
    "tags": []
   },
   "source": [
    "### What is buffering?\n",
    "Buffering is the process of storing data temporarily in a memory area called a `buffer`. Buffering can be used for various purposes, such as:\n",
    "\n",
    "* Improving the performance of data transfer between different devices or processes by reducing the number of system calls or disk operations\n",
    "* Adjusting the speed or size differences between data sources and destinations by accumulating data until it is ready to be processed or sent\n",
    "* Manipulating or transforming data before sending or receiving it by applying filters, encodings, compressions, etc.\n",
    "* Supporting copy semantics by keeping a copy of data that may change or disappear during transmission\n",
    "* Preventing data loss or corruption by holding data until it is safely delivered or verified\n",
    "\n",
    "Python provides two built-in functions for creating buffer objects: `buffer() and memoryview()`. "
   ]
  },
  {
   "cell_type": "code",
   "execution_count": 13,
   "id": "3d2547f7",
   "metadata": {
    "execution": {
     "iopub.execute_input": "2023-04-01T17:03:38.222496Z",
     "iopub.status.busy": "2023-04-01T17:03:38.221628Z",
     "iopub.status.idle": "2023-04-01T17:03:42.238330Z",
     "shell.execute_reply": "2023-04-01T17:03:42.236919Z"
    },
    "papermill": {
     "duration": 4.052967,
     "end_time": "2023-04-01T17:03:42.241157",
     "exception": false,
     "start_time": "2023-04-01T17:03:38.188190",
     "status": "completed"
    },
    "tags": []
   },
   "outputs": [
    {
     "name": "stdout",
     "output_type": "stream",
     "text": [
      "Hello 1 world 1\n",
      "Hello 2 world 2\n"
     ]
    }
   ],
   "source": [
    "# Printing with default flush=False\n",
    "import time\n",
    "print(\"Hello 1\", end=\" \")\n",
    "time.sleep(2) # Wait for 5 seconds\n",
    "print(\"world 1\") # The output will appear after 5 seconds\n",
    "\n",
    "# Printing with flush=True\n",
    "import time\n",
    "print(\"Hello 2\", end=\" \", flush=True) # The output will appear immediately\n",
    "time.sleep(2) # Wait for 5 seconds\n",
    "print(\"world 2\") # The output will appear after 5 seconds"
   ]
  },
  {
   "cell_type": "markdown",
   "id": "8ca00b9e",
   "metadata": {
    "papermill": {
     "duration": 0.031818,
     "end_time": "2023-04-01T17:03:42.305472",
     "exception": false,
     "start_time": "2023-04-01T17:03:42.273654",
     "status": "completed"
    },
    "tags": []
   },
   "source": [
    "### Drawbacks of flushing the output too often?\n",
    "* It can `reduce the performance` of writing data to a file or a device, since it requires more system calls and disk operations than buffering data and writing it in chunks.\n",
    "* It can `cause unwanted side effects or errors` if the output stream is shared by multiple processes or threads, since flushing can interfere with their synchronization or locking mechanisms.\n",
    "* It can `make the output less readable or consistent` if it is mixed with other output streams that are not flushed at the same time, such as logging messages, error messages, or user input prompts."
   ]
  },
  {
   "cell_type": "markdown",
   "id": "dabde706",
   "metadata": {
    "papermill": {
     "duration": 0.031647,
     "end_time": "2023-04-01T17:03:42.369260",
     "exception": false,
     "start_time": "2023-04-01T17:03:42.337613",
     "status": "completed"
    },
    "tags": []
   },
   "source": [
    "## What are Variables in Python?\n",
    "---\n",
    "Variables in Python are **containers for storing data values**. They are **created when you assign a value to them**. They do not need to be declared with any particular type, and can even **change type after they have been set**. You can use the `type()` function to get the data type of a variable. Variable names are **case-sensitive** and must follow some rules.\n",
    "\n",
    "`Note:` Python has no command for declaring a variable. A variable is created the moment you first assign a value to it.\n",
    "\n",
    "**Some rules for variable names in Python are:**\n",
    "\n",
    "* A variable name must start with a letter or the underscore character\n",
    "* A variable name cannot start with a number\n",
    "* A variable name can only contain alpha-numeric characters and underscores (A-z, 0-9, and _ )\n",
    "* Variable names are case-sensitive (age, Age and AGE are three different variables)\n",
    "* A variable name cannot be any of the Python keywords"
   ]
  },
  {
   "cell_type": "code",
   "execution_count": 14,
   "id": "4eea5472",
   "metadata": {
    "execution": {
     "iopub.execute_input": "2023-04-01T17:03:42.436355Z",
     "iopub.status.busy": "2023-04-01T17:03:42.435497Z",
     "iopub.status.idle": "2023-04-01T17:03:42.443094Z",
     "shell.execute_reply": "2023-04-01T17:03:42.441576Z"
    },
    "papermill": {
     "duration": 0.046003,
     "end_time": "2023-04-01T17:03:42.447442",
     "exception": false,
     "start_time": "2023-04-01T17:03:42.401439",
     "status": "completed"
    },
    "tags": []
   },
   "outputs": [
    {
     "name": "stdout",
     "output_type": "stream",
     "text": [
      "\n",
      "old_pet: dog ; new_pet: dog\n",
      "\n",
      "old_pet: cat ; new_pet: dog\n",
      "\n",
      "old_pet: cat ; new_pet: cow\n"
     ]
    }
   ],
   "source": [
    "old_pet = \"dog\" \n",
    "new_pet = old_pet # assign old_pet to new_pet\n",
    "print(\"\\nold_pet:\",old_pet,\"; new_pet:\",new_pet)\n",
    "\n",
    "old_pet = \"cat\"   # changing the old_pet to cat doesn't affect the value in new_pet i.e it's retaining the first assigned value\n",
    "print(\"\\nold_pet:\",old_pet,\"; new_pet:\",new_pet)\n",
    "\n",
    "new_pet = \"cow\"   # changing the new_pet to cow doesn't affect the value in old_pet\n",
    "print(\"\\nold_pet:\",old_pet,\"; new_pet:\",new_pet)"
   ]
  },
  {
   "cell_type": "markdown",
   "id": "b7fcffba",
   "metadata": {
    "papermill": {
     "duration": 0.03107,
     "end_time": "2023-04-01T17:03:42.511340",
     "exception": false,
     "start_time": "2023-04-01T17:03:42.480270",
     "status": "completed"
    },
    "tags": []
   },
   "source": [
    "## What are Console Inputs in Python?\n",
    "---\n",
    "```python\n",
    "input()\n",
    "```\n",
    "Console input in Python is a way of getting data from the user through the command line interpreter. You can use the `input()` function to take **input from the console as a string**. You can also typecast the input to different data types such as int, float or str by using `int(), float() or str()` functions respectively. You can access the command line arguments passed to your script using `sys.argv` list."
   ]
  },
  {
   "cell_type": "code",
   "execution_count": 15,
   "id": "d0a9bce0",
   "metadata": {
    "execution": {
     "iopub.execute_input": "2023-04-01T17:03:42.579612Z",
     "iopub.status.busy": "2023-04-01T17:03:42.579203Z",
     "iopub.status.idle": "2023-04-01T17:03:42.588311Z",
     "shell.execute_reply": "2023-04-01T17:03:42.586991Z"
    },
    "papermill": {
     "duration": 0.046521,
     "end_time": "2023-04-01T17:03:42.590601",
     "exception": false,
     "start_time": "2023-04-01T17:03:42.544080",
     "status": "completed"
    },
    "tags": []
   },
   "outputs": [
    {
     "data": {
      "text/plain": [
       "'\\ninput(\"Press Enter to begin!\")\\nname = input(\"Enter your name: \")\\nage = input(f\"What is your age, {name}\")\\nprint(f\"So, your age is {age}\")\\n'"
      ]
     },
     "execution_count": 15,
     "metadata": {},
     "output_type": "execute_result"
    }
   ],
   "source": [
    "'''\n",
    "input(\"Press Enter to begin!\")\n",
    "name = input(\"Enter your name: \")\n",
    "age = input(f\"What is your age, {name}\")\n",
    "print(f\"So, your age is {age}\")\n",
    "'''"
   ]
  },
  {
   "cell_type": "markdown",
   "id": "34327a83",
   "metadata": {
    "papermill": {
     "duration": 0.033036,
     "end_time": "2023-04-01T17:03:42.656932",
     "exception": false,
     "start_time": "2023-04-01T17:03:42.623896",
     "status": "completed"
    },
    "tags": []
   },
   "source": [
    "## What are Command Line Arguments in Python?\n",
    "---\n",
    "Command line arguments in Python are the parameters provided to the script while executing it. They are used to pass some information to the program that can modify its behavior."
   ]
  },
  {
   "cell_type": "code",
   "execution_count": 16,
   "id": "9243f7f1",
   "metadata": {
    "execution": {
     "iopub.execute_input": "2023-04-01T17:03:42.724728Z",
     "iopub.status.busy": "2023-04-01T17:03:42.724336Z",
     "iopub.status.idle": "2023-04-01T17:03:42.731244Z",
     "shell.execute_reply": "2023-04-01T17:03:42.729979Z"
    },
    "papermill": {
     "duration": 0.044193,
     "end_time": "2023-04-01T17:03:42.733880",
     "exception": false,
     "start_time": "2023-04-01T17:03:42.689687",
     "status": "completed"
    },
    "tags": []
   },
   "outputs": [
    {
     "name": "stdout",
     "output_type": "stream",
     "text": [
      "The name of this script is: /opt/conda/lib/python3.7/site-packages/ipykernel_launcher.py\n",
      "The number of arguments passed to this script is: 3\n",
      "The arguments are:\n",
      "/opt/conda/lib/python3.7/site-packages/ipykernel_launcher.py\n",
      "-f\n",
      "/tmp/tmpezig2j6w.json\n",
      "--HistoryManager.hist_file=:memory:\n"
     ]
    }
   ],
   "source": [
    "# This script prints the name of the script and all the arguments passed to it\n",
    "import sys\n",
    "\n",
    "print(\"The name of this script is:\", sys.argv[0])\n",
    "\n",
    "print(\"The number of arguments passed to this script is:\", len(sys.argv) - 1)\n",
    "\n",
    "print(\"The arguments are:\")\n",
    "for arg in sys.argv:\n",
    "    print(arg)"
   ]
  },
  {
   "cell_type": "markdown",
   "id": "935c25c5",
   "metadata": {
    "papermill": {
     "duration": 0.032823,
     "end_time": "2023-04-01T17:03:42.799716",
     "exception": false,
     "start_time": "2023-04-01T17:03:42.766893",
     "status": "completed"
    },
    "tags": []
   },
   "source": [
    "## Operators\n",
    "---\n",
    "Operators in Python are `special symbols` that are used to perform operations on values and variables. They can be classified into different types based on their functionality and precedence. Some of the common types of operators in Python are:\n",
    "\n",
    "1. **Arithmetic operators:** These are used to perform basic mathematical operations like `addition, subtraction, multiplication, division, modulus, exponentiation and floor division`. For example: `x + y, x - y, x * y, x / y, x % y, x ** y, x // y`.\n",
    "2. **Assignment operators:** These are used to assign values to variables. They can also be combined with other operators to perform an operation and assign the result to a variable in one step. For example: `x = 5, x += 3, x -= 3, x *= 3, x /= 3`, etc.\n",
    "3. **Comparison operators:** These are used to compare two values and `return a boolean value (True or False)` based on the result of the comparison. They can be used for `equality, inequality, greater than, less than, greater than or equal to, less than or equal to comparisons`. For example: `x == y, x != y, x > y, x < y, x >= y, x <= y`.\n",
    "4. **Logical operators:** These are used to combine two or more boolean expressions and return a boolean value based on the logic applied. They can be used for `logical AND, OR and NOT operations`. For example: `x and y, x or y, not x`.\n",
    "5. **Identity operators:** These are `used to compare two objects and check if they are the same object with the same memory location`. They can be used for identity testing with `is` and `is not` keywords. For example: `x is y`, `x is not y`.\n",
    "6. **Membership operators:** These are `used to test if a value or a variable is present in a sequence` (such as a `string, list, tuple, dictionary or set`). They can be `used for membership testing` with `in` and `not in` keywords. For example: `x in y, x not in y`.\n",
    "7. **Bitwise operators:** These are `used to perform bitwise operations on binary numbers` (represented as integers). They can be used for `bitwise AND, OR, XOR, NOT, left shift and right shift operations`. For example: `x & y, x | y, x ^y, ~ x, x << n, x >> n`.\n"
   ]
  },
  {
   "cell_type": "code",
   "execution_count": 17,
   "id": "3d5c88b4",
   "metadata": {
    "execution": {
     "iopub.execute_input": "2023-04-01T17:03:42.867452Z",
     "iopub.status.busy": "2023-04-01T17:03:42.867012Z",
     "iopub.status.idle": "2023-04-01T17:03:42.874266Z",
     "shell.execute_reply": "2023-04-01T17:03:42.873020Z"
    },
    "papermill": {
     "duration": 0.044392,
     "end_time": "2023-04-01T17:03:42.877016",
     "exception": false,
     "start_time": "2023-04-01T17:03:42.832624",
     "status": "completed"
    },
    "tags": []
   },
   "outputs": [
    {
     "name": "stdout",
     "output_type": "stream",
     "text": [
      "15 <class 'int'>\n",
      "15.0 <class 'float'>\n"
     ]
    }
   ],
   "source": [
    "# addition\n",
    "x = 5\n",
    "y = 10\n",
    "result = x + y # This is an expression, where x & y are called operands and + is called operator\n",
    "print(result, type(result))\n",
    "\n",
    "x = 5.0\n",
    "y = 10\n",
    "result = x + y # This is an expression, where x & y are called operands and + is called operator\n",
    "print(result, type(result))"
   ]
  },
  {
   "cell_type": "code",
   "execution_count": 18,
   "id": "5171f6e7",
   "metadata": {
    "execution": {
     "iopub.execute_input": "2023-04-01T17:03:42.947432Z",
     "iopub.status.busy": "2023-04-01T17:03:42.947015Z",
     "iopub.status.idle": "2023-04-01T17:03:42.954062Z",
     "shell.execute_reply": "2023-04-01T17:03:42.952419Z"
    },
    "papermill": {
     "duration": 0.046175,
     "end_time": "2023-04-01T17:03:42.956962",
     "exception": false,
     "start_time": "2023-04-01T17:03:42.910787",
     "status": "completed"
    },
    "tags": []
   },
   "outputs": [
    {
     "name": "stdout",
     "output_type": "stream",
     "text": [
      "5 <class 'int'>\n",
      "5.0 <class 'float'>\n"
     ]
    }
   ],
   "source": [
    "# subtraction\n",
    "x = -5\n",
    "y = -10\n",
    "result = x - y # This is an expression, where x & y are called operands and + is called operator\n",
    "print(result, type(result))\n",
    "\n",
    "x = -5.0\n",
    "y = -10\n",
    "result = x - y # This is an expression, where x & y are called operands and + is called operator\n",
    "print(result, type(result))"
   ]
  },
  {
   "cell_type": "code",
   "execution_count": 19,
   "id": "4c0350c3",
   "metadata": {
    "execution": {
     "iopub.execute_input": "2023-04-01T17:03:43.023781Z",
     "iopub.status.busy": "2023-04-01T17:03:43.023365Z",
     "iopub.status.idle": "2023-04-01T17:03:43.030615Z",
     "shell.execute_reply": "2023-04-01T17:03:43.029300Z"
    },
    "papermill": {
     "duration": 0.044106,
     "end_time": "2023-04-01T17:03:43.033683",
     "exception": false,
     "start_time": "2023-04-01T17:03:42.989577",
     "status": "completed"
    },
    "tags": []
   },
   "outputs": [
    {
     "name": "stdout",
     "output_type": "stream",
     "text": [
      "-50 <class 'int'>\n",
      "-50.0 <class 'float'>\n"
     ]
    }
   ],
   "source": [
    "# multiplication\n",
    "x = 5\n",
    "y = -10\n",
    "result = x * y # This is an expression, where x & y are called operands and + is called operator\n",
    "print(result, type(result))\n",
    "\n",
    "x = 5.0\n",
    "y = -10\n",
    "result = x * y # This is an expression, where x & y are called operands and + is called operator\n",
    "print(result, type(result))"
   ]
  },
  {
   "cell_type": "code",
   "execution_count": 20,
   "id": "8b8a00c2",
   "metadata": {
    "execution": {
     "iopub.execute_input": "2023-04-01T17:03:43.102229Z",
     "iopub.status.busy": "2023-04-01T17:03:43.101435Z",
     "iopub.status.idle": "2023-04-01T17:03:43.108492Z",
     "shell.execute_reply": "2023-04-01T17:03:43.107130Z"
    },
    "papermill": {
     "duration": 0.044343,
     "end_time": "2023-04-01T17:03:43.111553",
     "exception": false,
     "start_time": "2023-04-01T17:03:43.067210",
     "status": "completed"
    },
    "tags": []
   },
   "outputs": [
    {
     "name": "stdout",
     "output_type": "stream",
     "text": [
      "0.5 <class 'float'>\n",
      "0.5 <class 'float'>\n"
     ]
    }
   ],
   "source": [
    "# division\n",
    "x = 5\n",
    "y = 10\n",
    "result = x / y # This is an expression, where x & y are called operands and + is called operator\n",
    "print(result, type(result))\n",
    "\n",
    "x = 5.0\n",
    "y = 10\n",
    "result = x / y # This is an expression, where x & y are called operands and + is called operator\n",
    "print(result, type(result))"
   ]
  },
  {
   "cell_type": "code",
   "execution_count": 21,
   "id": "8acaad89",
   "metadata": {
    "execution": {
     "iopub.execute_input": "2023-04-01T17:03:43.180799Z",
     "iopub.status.busy": "2023-04-01T17:03:43.180387Z",
     "iopub.status.idle": "2023-04-01T17:03:43.187415Z",
     "shell.execute_reply": "2023-04-01T17:03:43.186097Z"
    },
    "papermill": {
     "duration": 0.044181,
     "end_time": "2023-04-01T17:03:43.189984",
     "exception": false,
     "start_time": "2023-04-01T17:03:43.145803",
     "status": "completed"
    },
    "tags": []
   },
   "outputs": [
    {
     "name": "stdout",
     "output_type": "stream",
     "text": [
      "0 <class 'int'>\n",
      "0.0 <class 'float'>\n"
     ]
    }
   ],
   "source": [
    "# integer division\n",
    "x = 5\n",
    "y = 10\n",
    "result = x // y # This is an expression, where x & y are called operands and + is called operator\n",
    "print(result, type(result))\n",
    "\n",
    "x = 5.0\n",
    "y = 10\n",
    "result = x // y # This is an expression, where x & y are called operands and + is called operator\n",
    "print(result, type(result))"
   ]
  },
  {
   "cell_type": "code",
   "execution_count": 22,
   "id": "91bc9a96",
   "metadata": {
    "execution": {
     "iopub.execute_input": "2023-04-01T17:03:43.258230Z",
     "iopub.status.busy": "2023-04-01T17:03:43.257391Z",
     "iopub.status.idle": "2023-04-01T17:03:43.264832Z",
     "shell.execute_reply": "2023-04-01T17:03:43.263554Z"
    },
    "papermill": {
     "duration": 0.045081,
     "end_time": "2023-04-01T17:03:43.267930",
     "exception": false,
     "start_time": "2023-04-01T17:03:43.222849",
     "status": "completed"
    },
    "tags": []
   },
   "outputs": [
    {
     "name": "stdout",
     "output_type": "stream",
     "text": [
      "5 <class 'int'>\n",
      "5.0 <class 'float'>\n"
     ]
    }
   ],
   "source": [
    "# integer division\n",
    "x = 5\n",
    "y = 10\n",
    "result = x % y # This is an expression, where x & y are called operands and + is called operator\n",
    "print(result, type(result))\n",
    "\n",
    "x = 5.0\n",
    "y = 10\n",
    "result = x % y # This is an expression, where x & y are called operands and + is called operator\n",
    "print(result, type(result))"
   ]
  },
  {
   "cell_type": "markdown",
   "id": "0fec0043",
   "metadata": {
    "papermill": {
     "duration": 0.032644,
     "end_time": "2023-04-01T17:03:43.334430",
     "exception": false,
     "start_time": "2023-04-01T17:03:43.301786",
     "status": "completed"
    },
    "tags": []
   },
   "source": [
    "## What is Operator Precedence in Python?\n",
    "Python’s operator precedence is the order in which operators are evaluated when an expression contains more than one operator. It determines which operator has higher priority and should be performed first. For example, in the expression `2 + 3 * 4`, the multiplication operator `(*)` has higher precedence than the addition operator `(+)`, so it is performed first and then the result is added to.\n",
    "\n",
    "<img src=\"https://learningmonkey.in/wp-content/uploads/2021/05/Operator-Precedence-and-Associativity-in-Python.jpg\">"
   ]
  },
  {
   "cell_type": "markdown",
   "id": "27e4e258",
   "metadata": {
    "papermill": {
     "duration": 0.032811,
     "end_time": "2023-04-01T17:03:43.400366",
     "exception": false,
     "start_time": "2023-04-01T17:03:43.367555",
     "status": "completed"
    },
    "tags": []
   },
   "source": [
    "## Associativity\n",
    "---\n",
    "Associativity in Python is the order in which an expression is evaluated that has multiple operators of the same precedence. Almost all operators except the exponent (`**`) support the left-to-right associativity. For example, multiplication and floor division have the same precedence. Hence, if both of them are present in an expression, the left one is evaluated first."
   ]
  },
  {
   "cell_type": "code",
   "execution_count": 23,
   "id": "f0ca2d07",
   "metadata": {
    "execution": {
     "iopub.execute_input": "2023-04-01T17:03:43.469749Z",
     "iopub.status.busy": "2023-04-01T17:03:43.469303Z",
     "iopub.status.idle": "2023-04-01T17:03:43.476128Z",
     "shell.execute_reply": "2023-04-01T17:03:43.474716Z"
    },
    "papermill": {
     "duration": 0.045214,
     "end_time": "2023-04-01T17:03:43.478831",
     "exception": false,
     "start_time": "2023-04-01T17:03:43.433617",
     "status": "completed"
    },
    "tags": []
   },
   "outputs": [
    {
     "name": "stdout",
     "output_type": "stream",
     "text": [
      "3\n",
      "0\n"
     ]
    }
   ],
   "source": [
    "# Left-right associativity\n",
    "# Output: 3\n",
    "print(5 * 2 // 3)\n",
    "\n",
    "# Shows left-right associativity\n",
    "# Output: 0\n",
    "print(5 * (2 // 3))"
   ]
  },
  {
   "cell_type": "markdown",
   "id": "331cc93b",
   "metadata": {
    "papermill": {
     "duration": 0.03271,
     "end_time": "2023-04-01T17:03:43.544647",
     "exception": false,
     "start_time": "2023-04-01T17:03:43.511937",
     "status": "completed"
    },
    "tags": []
   },
   "source": [
    "## Type Conversions\n",
    "---\n",
    "Type conversions in Python are ways of changing the data type of a value or expression. There are two types of type conversions in Python: implicit and explicit.\n",
    "\n",
    "Implicit type conversion is when Python automatically converts one data type to another without any user involvement. This happens when an expression contains different data types and Python tries to avoid data loss by converting them to a wider-sized data type. For example:"
   ]
  },
  {
   "cell_type": "code",
   "execution_count": 24,
   "id": "df41bd4d",
   "metadata": {
    "execution": {
     "iopub.execute_input": "2023-04-01T17:03:43.612154Z",
     "iopub.status.busy": "2023-04-01T17:03:43.611662Z",
     "iopub.status.idle": "2023-04-01T17:03:43.617513Z",
     "shell.execute_reply": "2023-04-01T17:03:43.616625Z"
    },
    "papermill": {
     "duration": 0.042797,
     "end_time": "2023-04-01T17:03:43.620326",
     "exception": false,
     "start_time": "2023-04-01T17:03:43.577529",
     "status": "completed"
    },
    "tags": []
   },
   "outputs": [
    {
     "name": "stdout",
     "output_type": "stream",
     "text": [
      "20.6\n",
      "<class 'float'>\n"
     ]
    }
   ],
   "source": [
    "x = 10 # int\n",
    "y = 10.6 # float\n",
    "z = x + y # int + float\n",
    "print(z) # 20.6\n",
    "print(type(z)) # <class 'float'>"
   ]
  },
  {
   "cell_type": "markdown",
   "id": "482025f9",
   "metadata": {
    "papermill": {
     "duration": 0.032988,
     "end_time": "2023-04-01T17:03:43.687421",
     "exception": false,
     "start_time": "2023-04-01T17:03:43.654433",
     "status": "completed"
    },
    "tags": []
   },
   "source": [
    "Here, Python implicitly converts x to a float before adding it to y, and assigns the result as a float to z.\n",
    "\n",
    "Explicit type conversion is when the user manually changes the data type of a value or expression using built-in functions. This can be useful when we want to perform certain operations that require a specific data type, or when we want to control how the data is represented. For example:"
   ]
  },
  {
   "cell_type": "code",
   "execution_count": 25,
   "id": "b91b8932",
   "metadata": {
    "execution": {
     "iopub.execute_input": "2023-04-01T17:03:43.755135Z",
     "iopub.status.busy": "2023-04-01T17:03:43.754679Z",
     "iopub.status.idle": "2023-04-01T17:03:43.761382Z",
     "shell.execute_reply": "2023-04-01T17:03:43.759982Z"
    },
    "papermill": {
     "duration": 0.044199,
     "end_time": "2023-04-01T17:03:43.763880",
     "exception": false,
     "start_time": "2023-04-01T17:03:43.719681",
     "status": "completed"
    },
    "tags": []
   },
   "outputs": [
    {
     "name": "stdout",
     "output_type": "stream",
     "text": [
      "18\n",
      "10010.0\n"
     ]
    }
   ],
   "source": [
    "s = \"10010\" # string\n",
    "c = int(s,2) # convert string to int with base 2\n",
    "print(c) # 18\n",
    "e = float(s) # convert string to float\n",
    "print(e) # 10010.0"
   ]
  },
  {
   "cell_type": "markdown",
   "id": "0dfbf6ce",
   "metadata": {
    "papermill": {
     "duration": 0.032967,
     "end_time": "2023-04-01T17:03:43.830106",
     "exception": false,
     "start_time": "2023-04-01T17:03:43.797139",
     "status": "completed"
    },
    "tags": []
   },
   "source": [
    "Here, we explicitly convert `s` to an int with base `2` using the `int()` function, and then to a float using the float() function."
   ]
  },
  {
   "cell_type": "markdown",
   "id": "793b4770",
   "metadata": {
    "papermill": {
     "duration": 0.032762,
     "end_time": "2023-04-01T17:03:43.895523",
     "exception": false,
     "start_time": "2023-04-01T17:03:43.862761",
     "status": "completed"
    },
    "tags": []
   },
   "source": [
    "## What are Conditions in Python?\n",
    "---\n",
    "Python conditions are expressions that evaluate to a boolean value (`True or False`) and can be used to control the flow of a program. Python supports the usual logical conditions from mathematics, such as:\n",
    "\n",
    "* Equals: `a == b`\n",
    "* Not Equals: `a != b`\n",
    "* Less than: `a < b`\n",
    "* Less than or equal to: `a <= b`\n",
    "* Greater than: `a > b`\n",
    "* Greater than or equal to: `a >= b`\n",
    "\n",
    "These conditions can be used in several ways, most commonly in if statements and loops.\n",
    "\n",
    "An if statement is written by using the if keyword followed by a condition and a colon (:), then an indented block of code that will execute if the condition is true. For example:"
   ]
  },
  {
   "cell_type": "code",
   "execution_count": 26,
   "id": "787c50a2",
   "metadata": {
    "execution": {
     "iopub.execute_input": "2023-04-01T17:03:43.963355Z",
     "iopub.status.busy": "2023-04-01T17:03:43.962919Z",
     "iopub.status.idle": "2023-04-01T17:03:43.968709Z",
     "shell.execute_reply": "2023-04-01T17:03:43.967369Z"
    },
    "papermill": {
     "duration": 0.04281,
     "end_time": "2023-04-01T17:03:43.971504",
     "exception": false,
     "start_time": "2023-04-01T17:03:43.928694",
     "status": "completed"
    },
    "tags": []
   },
   "outputs": [
    {
     "name": "stdout",
     "output_type": "stream",
     "text": [
      "x is less than y\n"
     ]
    }
   ],
   "source": [
    "x = 10\n",
    "y = 20\n",
    "if x < y:\n",
    "    print(\"x is less than y\")"
   ]
  },
  {
   "cell_type": "markdown",
   "id": "273588f4",
   "metadata": {
    "papermill": {
     "duration": 0.033098,
     "end_time": "2023-04-01T17:03:44.038456",
     "exception": false,
     "start_time": "2023-04-01T17:03:44.005358",
     "status": "completed"
    },
    "tags": []
   },
   "source": [
    "Here, the condition x < y evaluates to True, so the print statement inside the indented block is executed.\n",
    "\n",
    "An if statement can also have an optional else clause that will execute if the condition is false. For example:"
   ]
  },
  {
   "cell_type": "code",
   "execution_count": 27,
   "id": "49a9e6d1",
   "metadata": {
    "execution": {
     "iopub.execute_input": "2023-04-01T17:03:44.118983Z",
     "iopub.status.busy": "2023-04-01T17:03:44.118587Z",
     "iopub.status.idle": "2023-04-01T17:03:44.125150Z",
     "shell.execute_reply": "2023-04-01T17:03:44.123779Z"
    },
    "papermill": {
     "duration": 0.055531,
     "end_time": "2023-04-01T17:03:44.127766",
     "exception": false,
     "start_time": "2023-04-01T17:03:44.072235",
     "status": "completed"
    },
    "tags": []
   },
   "outputs": [
    {
     "name": "stdout",
     "output_type": "stream",
     "text": [
      "x is not greater than y\n"
     ]
    }
   ],
   "source": [
    "x = 10\n",
    "y = 20\n",
    "if x > y:\n",
    "    print(\"x is greater than y\")\n",
    "else:\n",
    "    print(\"x is not greater than y\")"
   ]
  },
  {
   "cell_type": "markdown",
   "id": "31e896c8",
   "metadata": {
    "papermill": {
     "duration": 0.048094,
     "end_time": "2023-04-01T17:03:44.213096",
     "exception": false,
     "start_time": "2023-04-01T17:03:44.165002",
     "status": "completed"
    },
    "tags": []
   },
   "source": [
    "Here, the condition `x > y` evaluates to `False`, so the else block is executed.\n",
    "\n",
    "An if statement can also have one or more elif clauses that will check for additional conditions if the previous ones are false. For example:"
   ]
  },
  {
   "cell_type": "code",
   "execution_count": 28,
   "id": "d5f27b48",
   "metadata": {
    "execution": {
     "iopub.execute_input": "2023-04-01T17:03:44.285788Z",
     "iopub.status.busy": "2023-04-01T17:03:44.284663Z",
     "iopub.status.idle": "2023-04-01T17:03:44.292538Z",
     "shell.execute_reply": "2023-04-01T17:03:44.291306Z"
    },
    "papermill": {
     "duration": 0.044974,
     "end_time": "2023-04-01T17:03:44.294778",
     "exception": false,
     "start_time": "2023-04-01T17:03:44.249804",
     "status": "completed"
    },
    "tags": []
   },
   "outputs": [
    {
     "name": "stdout",
     "output_type": "stream",
     "text": [
      "x and y are equal\n"
     ]
    }
   ],
   "source": [
    "x = 10\n",
    "y = 10\n",
    "if x > y:\n",
    "    print(\"x is greater than y\")\n",
    "elif x == y:\n",
    "    print(\"x and y are equal\")\n",
    "else:\n",
    "    print(\"x is less than y\")"
   ]
  },
  {
   "cell_type": "markdown",
   "id": "158df07f",
   "metadata": {
    "papermill": {
     "duration": 0.034099,
     "end_time": "2023-04-01T17:03:44.371642",
     "exception": false,
     "start_time": "2023-04-01T17:03:44.337543",
     "status": "completed"
    },
    "tags": []
   },
   "source": [
    "Here, both `x > y` and `x < y` evaluate to `False`, but `x == y` evaluates to `True`, so the elif block is executed.\n",
    "\n",
    "Python also supports one-line if statements that can be written on a single line without indentation1. For example:"
   ]
  },
  {
   "cell_type": "code",
   "execution_count": 29,
   "id": "29f5fe30",
   "metadata": {
    "execution": {
     "iopub.execute_input": "2023-04-01T17:03:44.525655Z",
     "iopub.status.busy": "2023-04-01T17:03:44.524588Z",
     "iopub.status.idle": "2023-04-01T17:03:44.532865Z",
     "shell.execute_reply": "2023-04-01T17:03:44.531457Z"
    },
    "papermill": {
     "duration": 0.129451,
     "end_time": "2023-04-01T17:03:44.535527",
     "exception": false,
     "start_time": "2023-04-01T17:03:44.406076",
     "status": "completed"
    },
    "tags": []
   },
   "outputs": [
    {
     "name": "stdout",
     "output_type": "stream",
     "text": [
      "B\n",
      "=\n"
     ]
    }
   ],
   "source": [
    "# One-line if statement\n",
    "if x < y: print(\"x is less than y\")\n",
    "\n",
    "# One-line if else statement (ternary operator)\n",
    "print(\"A\") if x > y else print(\"B\")\n",
    "\n",
    "# One-line if elif else statement (chained ternary operator)\n",
    "print(\"A\") if x > y else print(\"=\") if x == y else print(\"B\")"
   ]
  },
  {
   "cell_type": "code",
   "execution_count": 30,
   "id": "8aefceb9",
   "metadata": {
    "execution": {
     "iopub.execute_input": "2023-04-01T17:03:44.609914Z",
     "iopub.status.busy": "2023-04-01T17:03:44.608886Z",
     "iopub.status.idle": "2023-04-01T17:03:44.616135Z",
     "shell.execute_reply": "2023-04-01T17:03:44.614764Z"
    },
    "papermill": {
     "duration": 0.046583,
     "end_time": "2023-04-01T17:03:44.618688",
     "exception": false,
     "start_time": "2023-04-01T17:03:44.572105",
     "status": "completed"
    },
    "tags": []
   },
   "outputs": [
    {
     "name": "stdout",
     "output_type": "stream",
     "text": [
      "OK\n"
     ]
    }
   ],
   "source": [
    "a = 6\n",
    "x = \"OK\" if a > 5 else \"Not OK\" # assign the value \"OK\" to x if it satisfies the condition or else assign \"Not OK\"\n",
    "print(x)"
   ]
  },
  {
   "cell_type": "markdown",
   "id": "7aab55ec",
   "metadata": {
    "papermill": {
     "duration": 0.034994,
     "end_time": "2023-04-01T17:03:44.689015",
     "exception": false,
     "start_time": "2023-04-01T17:03:44.654021",
     "status": "completed"
    },
    "tags": []
   },
   "source": [
    "`Note:` These one-line statements are useful for simple conditions, but they can reduce readability for complex logic. It’s usually better to use indentation for clarity."
   ]
  },
  {
   "cell_type": "markdown",
   "id": "acd38379",
   "metadata": {
    "papermill": {
     "duration": 0.034907,
     "end_time": "2023-04-01T17:03:44.759712",
     "exception": false,
     "start_time": "2023-04-01T17:03:44.724805",
     "status": "completed"
    },
    "tags": []
   },
   "source": [
    "### Conditional Operators precedence\n",
    "**`Highest`**\n",
    "\n",
    "* Conditional/Comparison Operators\n",
    "* Not\n",
    "* And\n",
    "* Or\n",
    "\n",
    "**`Lowest`**"
   ]
  },
  {
   "cell_type": "markdown",
   "id": "c5aaec38",
   "metadata": {
    "papermill": {
     "duration": 0.034195,
     "end_time": "2023-04-01T17:03:44.828572",
     "exception": false,
     "start_time": "2023-04-01T17:03:44.794377",
     "status": "completed"
    },
    "tags": []
   },
   "source": [
    "### DeMorgan's Law\n",
    "\n",
    "1. **`not(x and y) == (not x) or (not y)`**\n",
    "2. **`not(x or y) == not(x) and not(y)`**"
   ]
  },
  {
   "cell_type": "code",
   "execution_count": 31,
   "id": "ef490f2f",
   "metadata": {
    "execution": {
     "iopub.execute_input": "2023-04-01T17:03:44.900611Z",
     "iopub.status.busy": "2023-04-01T17:03:44.900100Z",
     "iopub.status.idle": "2023-04-01T17:03:44.907470Z",
     "shell.execute_reply": "2023-04-01T17:03:44.905962Z"
    },
    "papermill": {
     "duration": 0.047137,
     "end_time": "2023-04-01T17:03:44.910450",
     "exception": false,
     "start_time": "2023-04-01T17:03:44.863313",
     "status": "completed"
    },
    "tags": []
   },
   "outputs": [
    {
     "name": "stdout",
     "output_type": "stream",
     "text": [
      "True True\n",
      "True\n"
     ]
    }
   ],
   "source": [
    "# DeMorgan's Law\n",
    "x = not (True and False)\n",
    "y = not(True) or not(False)\n",
    "print(x,y)\n",
    "print(x==y)"
   ]
  },
  {
   "cell_type": "code",
   "execution_count": 32,
   "id": "f0912f2a",
   "metadata": {
    "execution": {
     "iopub.execute_input": "2023-04-01T17:03:44.982898Z",
     "iopub.status.busy": "2023-04-01T17:03:44.982377Z",
     "iopub.status.idle": "2023-04-01T17:03:44.990269Z",
     "shell.execute_reply": "2023-04-01T17:03:44.988512Z"
    },
    "papermill": {
     "duration": 0.04712,
     "end_time": "2023-04-01T17:03:44.992736",
     "exception": false,
     "start_time": "2023-04-01T17:03:44.945616",
     "status": "completed"
    },
    "tags": []
   },
   "outputs": [
    {
     "name": "stdout",
     "output_type": "stream",
     "text": [
      "False False\n",
      "True\n"
     ]
    }
   ],
   "source": [
    "# DeMorgan's Law\n",
    "x = not (True or False)\n",
    "y = not(True) and not(False)\n",
    "print(x,y)\n",
    "print(x==y)"
   ]
  },
  {
   "cell_type": "markdown",
   "id": "2227b785",
   "metadata": {
    "papermill": {
     "duration": 0.035214,
     "end_time": "2023-04-01T17:03:45.065441",
     "exception": false,
     "start_time": "2023-04-01T17:03:45.030227",
     "status": "completed"
    },
    "tags": []
   },
   "source": [
    "## List\n",
    "---\n",
    "Lists are one of the built-in data types in Python that can store multiple items of any data type in a single variable.\n",
    "\n",
    "### Properties\n",
    "* Lists are **`ordered`**, meaning that the items have a defined order that will not change unless you change it explicitly.\n",
    "* Lists are **`changeable`**, meaning that you can add, remove, or modify items after the list is created.\n",
    "* Lists can contain arbitrary objects, meaning that the **`items can be of any data type`**, including other lists (nested lists).\n",
    "* Lists can be **`accessed by index`**, meaning that you can use positive or negative numbers to retrieve items from a list based on their position.\n",
    "* Lists are **`mutable`**, meaning that their contents can be changed without changing their identity.\n",
    "* Lists are **`dynamic`**, meaning that they can grow and shrink as needed."
   ]
  },
  {
   "cell_type": "markdown",
   "id": "42b06c80",
   "metadata": {
    "papermill": {
     "duration": 0.034116,
     "end_time": "2023-04-01T17:03:45.133544",
     "exception": false,
     "start_time": "2023-04-01T17:03:45.099428",
     "status": "completed"
    },
    "tags": []
   },
   "source": [
    "### Built-in methods of List\n",
    "Python lists have several built-in methods that you can use to manipulate or modify them. Some of the common list methods are:\n",
    "\n",
    "* **`append()`** : Adds an element at the end of the list\n",
    "* **`copy()`** : Returns a copy of the list\n",
    "* **`clear()`** : Removes all the elements from the list\n",
    "* **`count()`** : Returns the number of elements with the specified value\n",
    "* **`extend()`** : Adds the elements of another list (or any iterable) to the end of the current list\n",
    "* **`index()`** : Returns the index of the first element with the specified value\n",
    "* **`insert()`** : Adds an element at a specified position in the list\n",
    "* **`pop()`** : Removes and returns the element at a specified position (or last by default) in the list\n",
    "* **`remove()`** : Removes an element with a specified value from the list\n",
    "* **`reverse()`** : Reverses the order of elements in a list\n",
    "* **`sort()`** : Sorts a list in ascending, descending, or user-defined order\n",
    "\n",
    "You can use these methods by calling them on a list object with dot notation, such as:\n",
    "```python \n",
    "list.append(\"hello\")\n",
    "```\n",
    "Some methods take arguments that specify how they should operate, such as:\n",
    "```python \n",
    "list.sort(reverse=True)\n",
    "```\n",
    "You can learn more about each method by reading their documentation or using Python’s built-in help function. For example, you can type\n",
    "```python \n",
    "help(list.append)\n",
    "```\n",
    "in Python’s interactive shell to see how it works.\n",
    "\n"
   ]
  },
  {
   "cell_type": "code",
   "execution_count": 33,
   "id": "7132f00c",
   "metadata": {
    "execution": {
     "iopub.execute_input": "2023-04-01T17:03:45.203775Z",
     "iopub.status.busy": "2023-04-01T17:03:45.203372Z",
     "iopub.status.idle": "2023-04-01T17:03:45.209815Z",
     "shell.execute_reply": "2023-04-01T17:03:45.208509Z"
    },
    "papermill": {
     "duration": 0.044997,
     "end_time": "2023-04-01T17:03:45.212523",
     "exception": false,
     "start_time": "2023-04-01T17:03:45.167526",
     "status": "completed"
    },
    "tags": []
   },
   "outputs": [
    {
     "name": "stdout",
     "output_type": "stream",
     "text": [
      "True\n",
      "False\n"
     ]
    }
   ],
   "source": [
    "print(\"banana\" in [\"apple\", \"banana\", \"cherry\"])\n",
    "print(\"mango\" in [\"apple\", \"banana\", \"cherry\"])"
   ]
  },
  {
   "cell_type": "code",
   "execution_count": 34,
   "id": "5c056516",
   "metadata": {
    "execution": {
     "iopub.execute_input": "2023-04-01T17:03:45.282968Z",
     "iopub.status.busy": "2023-04-01T17:03:45.282321Z",
     "iopub.status.idle": "2023-04-01T17:03:45.288913Z",
     "shell.execute_reply": "2023-04-01T17:03:45.287125Z"
    },
    "papermill": {
     "duration": 0.045822,
     "end_time": "2023-04-01T17:03:45.292429",
     "exception": false,
     "start_time": "2023-04-01T17:03:45.246607",
     "status": "completed"
    },
    "tags": []
   },
   "outputs": [
    {
     "name": "stdout",
     "output_type": "stream",
     "text": [
      "['apple', 'banana', 'cherry', 'orange']\n"
     ]
    }
   ],
   "source": [
    "my_list = [\"apple\", \"banana\", \"cherry\"]\n",
    "my_list.append(\"orange\")\n",
    "print(my_list) # ['apple', 'banana', 'cherry', 'orange']"
   ]
  },
  {
   "cell_type": "code",
   "execution_count": 35,
   "id": "f2d4c3e6",
   "metadata": {
    "execution": {
     "iopub.execute_input": "2023-04-01T17:03:45.363779Z",
     "iopub.status.busy": "2023-04-01T17:03:45.363350Z",
     "iopub.status.idle": "2023-04-01T17:03:45.369497Z",
     "shell.execute_reply": "2023-04-01T17:03:45.368264Z"
    },
    "papermill": {
     "duration": 0.045356,
     "end_time": "2023-04-01T17:03:45.372100",
     "exception": false,
     "start_time": "2023-04-01T17:03:45.326744",
     "status": "completed"
    },
    "tags": []
   },
   "outputs": [
    {
     "name": "stdout",
     "output_type": "stream",
     "text": [
      "['apple', 'banana', 'cherry']\n"
     ]
    }
   ],
   "source": [
    "my_list = [\"apple\", \"banana\", \"cherry\"]\n",
    "new_list = my_list.copy()\n",
    "print(new_list) # ['apple', 'banana', 'cherry']"
   ]
  },
  {
   "cell_type": "code",
   "execution_count": 36,
   "id": "687a80a9",
   "metadata": {
    "execution": {
     "iopub.execute_input": "2023-04-01T17:03:45.443677Z",
     "iopub.status.busy": "2023-04-01T17:03:45.443237Z",
     "iopub.status.idle": "2023-04-01T17:03:45.449320Z",
     "shell.execute_reply": "2023-04-01T17:03:45.448095Z"
    },
    "papermill": {
     "duration": 0.046306,
     "end_time": "2023-04-01T17:03:45.452846",
     "exception": false,
     "start_time": "2023-04-01T17:03:45.406540",
     "status": "completed"
    },
    "tags": []
   },
   "outputs": [
    {
     "name": "stdout",
     "output_type": "stream",
     "text": [
      "[]\n"
     ]
    }
   ],
   "source": [
    "my_list = [\"apple\", \"banana\", \"cherry\"]\n",
    "my_list.clear()\n",
    "print(my_list) # []"
   ]
  },
  {
   "cell_type": "code",
   "execution_count": 37,
   "id": "f5d2b3da",
   "metadata": {
    "execution": {
     "iopub.execute_input": "2023-04-01T17:03:45.525697Z",
     "iopub.status.busy": "2023-04-01T17:03:45.525286Z",
     "iopub.status.idle": "2023-04-01T17:03:45.531207Z",
     "shell.execute_reply": "2023-04-01T17:03:45.529937Z"
    },
    "papermill": {
     "duration": 0.045477,
     "end_time": "2023-04-01T17:03:45.534133",
     "exception": false,
     "start_time": "2023-04-01T17:03:45.488656",
     "status": "completed"
    },
    "tags": []
   },
   "outputs": [
    {
     "name": "stdout",
     "output_type": "stream",
     "text": [
      "2\n"
     ]
    }
   ],
   "source": [
    "my_list = [\"apple\", \"banana\", \"cherry\", \"apple\"]\n",
    "x = my_list.count(\"apple\")\n",
    "print(x) # 2"
   ]
  },
  {
   "cell_type": "code",
   "execution_count": 38,
   "id": "78eb57de",
   "metadata": {
    "execution": {
     "iopub.execute_input": "2023-04-01T17:03:45.604736Z",
     "iopub.status.busy": "2023-04-01T17:03:45.604326Z",
     "iopub.status.idle": "2023-04-01T17:03:45.610991Z",
     "shell.execute_reply": "2023-04-01T17:03:45.609824Z"
    },
    "papermill": {
     "duration": 0.045279,
     "end_time": "2023-04-01T17:03:45.613936",
     "exception": false,
     "start_time": "2023-04-01T17:03:45.568657",
     "status": "completed"
    },
    "tags": []
   },
   "outputs": [
    {
     "name": "stdout",
     "output_type": "stream",
     "text": [
      "['apple', 'banana', 'cherry', 'orange', 'mango', 'grapes']\n"
     ]
    }
   ],
   "source": [
    "my_list = [\"apple\", \"banana\", \"cherry\"]\n",
    "fruits = [\"orange\", \"mango\", \"grapes\"]\n",
    "my_list.extend(fruits)\n",
    "print(my_list) # ['apple', 'banana', 'cherry', 'orange', 'mango', 'grapes']"
   ]
  },
  {
   "cell_type": "code",
   "execution_count": 39,
   "id": "b281b63d",
   "metadata": {
    "execution": {
     "iopub.execute_input": "2023-04-01T17:03:45.686845Z",
     "iopub.status.busy": "2023-04-01T17:03:45.686390Z",
     "iopub.status.idle": "2023-04-01T17:03:45.693345Z",
     "shell.execute_reply": "2023-04-01T17:03:45.691854Z"
    },
    "papermill": {
     "duration": 0.047527,
     "end_time": "2023-04-01T17:03:45.696060",
     "exception": false,
     "start_time": "2023-04-01T17:03:45.648533",
     "status": "completed"
    },
    "tags": []
   },
   "outputs": [
    {
     "name": "stdout",
     "output_type": "stream",
     "text": [
      "1\n"
     ]
    }
   ],
   "source": [
    "my_list = [\"apple\", \"banana\", \"cherry\"]\n",
    "x = my_list.index(\"banana\")\n",
    "print(x) # 1"
   ]
  },
  {
   "cell_type": "code",
   "execution_count": 40,
   "id": "61c6a4a3",
   "metadata": {
    "execution": {
     "iopub.execute_input": "2023-04-01T17:03:45.768829Z",
     "iopub.status.busy": "2023-04-01T17:03:45.767917Z",
     "iopub.status.idle": "2023-04-01T17:03:45.773684Z",
     "shell.execute_reply": "2023-04-01T17:03:45.772800Z"
    },
    "papermill": {
     "duration": 0.044485,
     "end_time": "2023-04-01T17:03:45.775980",
     "exception": false,
     "start_time": "2023-04-01T17:03:45.731495",
     "status": "completed"
    },
    "tags": []
   },
   "outputs": [
    {
     "name": "stdout",
     "output_type": "stream",
     "text": [
      "['apple', 'orange', 'banana', 'cherry']\n"
     ]
    }
   ],
   "source": [
    "my_list = [\"apple\", \"banana\", \"cherry\"]\n",
    "my_list.insert(1, \"orange\")\n",
    "print(my_list) # ['apple', 'orange', 'banana', 'cherry']"
   ]
  },
  {
   "cell_type": "code",
   "execution_count": 41,
   "id": "7fc6cf9a",
   "metadata": {
    "execution": {
     "iopub.execute_input": "2023-04-01T17:03:45.846439Z",
     "iopub.status.busy": "2023-04-01T17:03:45.845970Z",
     "iopub.status.idle": "2023-04-01T17:03:45.852456Z",
     "shell.execute_reply": "2023-04-01T17:03:45.851099Z"
    },
    "papermill": {
     "duration": 0.045244,
     "end_time": "2023-04-01T17:03:45.855258",
     "exception": false,
     "start_time": "2023-04-01T17:03:45.810014",
     "status": "completed"
    },
    "tags": []
   },
   "outputs": [
    {
     "name": "stdout",
     "output_type": "stream",
     "text": [
      "banana\n",
      "['apple', 'cherry']\n"
     ]
    }
   ],
   "source": [
    "my_list = [\"apple\", \"banana\", \"cherry\"]\n",
    "x = my_list.pop(1)\n",
    "print(x) # banana\n",
    "print(my_list) # ['apple', 'cherry']"
   ]
  },
  {
   "cell_type": "code",
   "execution_count": 42,
   "id": "2b8e2326",
   "metadata": {
    "execution": {
     "iopub.execute_input": "2023-04-01T17:03:45.927638Z",
     "iopub.status.busy": "2023-04-01T17:03:45.926436Z",
     "iopub.status.idle": "2023-04-01T17:03:45.933457Z",
     "shell.execute_reply": "2023-04-01T17:03:45.932133Z"
    },
    "papermill": {
     "duration": 0.046981,
     "end_time": "2023-04-01T17:03:45.936966",
     "exception": false,
     "start_time": "2023-04-01T17:03:45.889985",
     "status": "completed"
    },
    "tags": []
   },
   "outputs": [
    {
     "name": "stdout",
     "output_type": "stream",
     "text": [
      "['apple', 'cherry']\n"
     ]
    }
   ],
   "source": [
    "my_list = [\"apple\", \"banana\", \"cherry\"]\n",
    "my_list.remove(\"banana\")\n",
    "print(my_list) # ['apple', 'cherry']"
   ]
  },
  {
   "cell_type": "code",
   "execution_count": 43,
   "id": "d93ecb1b",
   "metadata": {
    "execution": {
     "iopub.execute_input": "2023-04-01T17:03:46.010905Z",
     "iopub.status.busy": "2023-04-01T17:03:46.009747Z",
     "iopub.status.idle": "2023-04-01T17:03:46.016820Z",
     "shell.execute_reply": "2023-04-01T17:03:46.015107Z"
    },
    "papermill": {
     "duration": 0.045984,
     "end_time": "2023-04-01T17:03:46.019374",
     "exception": false,
     "start_time": "2023-04-01T17:03:45.973390",
     "status": "completed"
    },
    "tags": []
   },
   "outputs": [
    {
     "name": "stdout",
     "output_type": "stream",
     "text": [
      "['cherry', 'banana', 'apple']\n"
     ]
    }
   ],
   "source": [
    "my_list = [\"apple\", \"banana\", \"cherry\"]\n",
    "my_list.reverse()\n",
    "print(my_list) # ['cherry', 'banana', 'apple']"
   ]
  },
  {
   "cell_type": "code",
   "execution_count": 44,
   "id": "86b2de83",
   "metadata": {
    "execution": {
     "iopub.execute_input": "2023-04-01T17:03:46.090685Z",
     "iopub.status.busy": "2023-04-01T17:03:46.090314Z",
     "iopub.status.idle": "2023-04-01T17:03:46.096643Z",
     "shell.execute_reply": "2023-04-01T17:03:46.095518Z"
    },
    "papermill": {
     "duration": 0.046339,
     "end_time": "2023-04-01T17:03:46.099772",
     "exception": false,
     "start_time": "2023-04-01T17:03:46.053433",
     "status": "completed"
    },
    "tags": []
   },
   "outputs": [
    {
     "name": "stdout",
     "output_type": "stream",
     "text": [
      "[1, 3, 5, 7]\n",
      "[7, 5, 3, 1]\n",
      "['hello', 'world', 'Python', 'programming']\n"
     ]
    }
   ],
   "source": [
    "# sort in ascending order (default)\n",
    "numbers = [5, 3, 7, 1]\n",
    "numbers.sort()\n",
    "print(numbers) # [1, 3, 5, 7]\n",
    "\n",
    "# sort in descending order \n",
    "numbers.sort(reverse=True)\n",
    "print(numbers) # [7, 5, 3, 1]\n",
    "\n",
    "# sort by length of strings \n",
    "words = [\"hello\",\"world\",\"Python\",\"programming\"]\n",
    "words.sort(key=len)\n",
    "print(words) # ['world','hello','Python','programming']"
   ]
  },
  {
   "cell_type": "markdown",
   "id": "56a6f17a",
   "metadata": {
    "papermill": {
     "duration": 0.034234,
     "end_time": "2023-04-01T17:03:46.168662",
     "exception": false,
     "start_time": "2023-04-01T17:03:46.134428",
     "status": "completed"
    },
    "tags": []
   },
   "source": [
    "### Difference between copy() and assignment operator?\n",
    "The difference between `copy()` and assignment operator `(=)` in Python is that `copy()` creates a new object in memory and assigns it to a variable, while assignment operator `(=)` only creates a reference to an existing object and assigns it to a variable. For example:"
   ]
  },
  {
   "cell_type": "code",
   "execution_count": 45,
   "id": "4cbd5d4f",
   "metadata": {
    "execution": {
     "iopub.execute_input": "2023-04-01T17:03:46.237573Z",
     "iopub.status.busy": "2023-04-01T17:03:46.237155Z",
     "iopub.status.idle": "2023-04-01T17:03:46.243933Z",
     "shell.execute_reply": "2023-04-01T17:03:46.242627Z"
    },
    "papermill": {
     "duration": 0.044568,
     "end_time": "2023-04-01T17:03:46.246919",
     "exception": false,
     "start_time": "2023-04-01T17:03:46.202351",
     "status": "completed"
    },
    "tags": []
   },
   "outputs": [
    {
     "name": "stdout",
     "output_type": "stream",
     "text": [
      "[4, 2, 3]\n",
      "[4, 2, 3]\n",
      "[1, 2, 3]\n",
      "[5, 2, 3]\n"
     ]
    }
   ],
   "source": [
    "# using assignment operator\n",
    "x = [1, 2, 3]\n",
    "y = x # y is a reference to x\n",
    "y[0] = 4 # this changes x as well\n",
    "print(x) # [4, 2, 3]\n",
    "print(y) # [4, 2, 3]\n",
    "\n",
    "# using copy()\n",
    "x = [1, 2, 3]\n",
    "z = x.copy() # z is a new object with same value as x\n",
    "z[0] = 5 # this does not change x\n",
    "print(x) # [1, 2, 3]\n",
    "print(z) # [5, 2, 3]"
   ]
  },
  {
   "cell_type": "markdown",
   "id": "91071d92",
   "metadata": {
    "papermill": {
     "duration": 0.033503,
     "end_time": "2023-04-01T17:03:46.315738",
     "exception": false,
     "start_time": "2023-04-01T17:03:46.282235",
     "status": "completed"
    },
    "tags": []
   },
   "source": [
    "As you can see from the output, changing `y` affects `x` because they are both references to the same object. However, changing `z` does not affect `x` because they are different objects with different memory locations.\n",
    "\n",
    "Note that `copy()` creates a shallow copy of an object. This means that if the object contains other objects (such as lists or dictionaries), then only references to those objects are copied. To create a deep copy of an object that copies all its contents recursively, you can use `copy.deepcopy()`."
   ]
  },
  {
   "cell_type": "markdown",
   "id": "1ec28f81",
   "metadata": {
    "papermill": {
     "duration": 0.03274,
     "end_time": "2023-04-01T17:03:46.382162",
     "exception": false,
     "start_time": "2023-04-01T17:03:46.349422",
     "status": "completed"
    },
    "tags": []
   },
   "source": [
    "## Strings\n",
    "---\n",
    "Strings in Python are `sequences of characters` that are enclosed by either `single quotes (’ ') or double quotes (\" \")`. They are immutable, meaning that once you create a string, you cannot modify it. Strings can be accessed by using indexing or slicing, which allow you to get individual characters or substrings from a string. Strings also have many built-in methods that can perform various operations on them, such as formatting, splitting, joining, replacing, etc.\n",
    "\n",
    "### Properties\n",
    "\n",
    "* Strings are **`immutable`**, meaning that once you create a string, you cannot modify it.\n",
    "* Strings are **`case-sensitive`**, meaning that `‘Hello’ and ‘hello’` are different strings1.\n",
    "* Strings are **`not quotes sensitive`**, meaning that you can use `single quotes (’ ') or double quotes (\" \")` to create a string.\n",
    "* Strings have a **`sequential index`** starting from 0 for the first character and -1 for the last character. You can use `square brackets ([])` to access individual characters or substrings from a string.\n",
    "* Strings support **`concatenation and repetition`** using the `+ and *` operators respectively.\n",
    "* Strings have **`many built-in methods`** that can perform various operations on them, such as `formatting, splitting, joining, replacing`, etc."
   ]
  },
  {
   "cell_type": "code",
   "execution_count": 46,
   "id": "89ee06ae",
   "metadata": {
    "execution": {
     "iopub.execute_input": "2023-04-01T17:03:46.457512Z",
     "iopub.status.busy": "2023-04-01T17:03:46.457079Z",
     "iopub.status.idle": "2023-04-01T17:03:46.462630Z",
     "shell.execute_reply": "2023-04-01T17:03:46.461336Z"
    },
    "papermill": {
     "duration": 0.047527,
     "end_time": "2023-04-01T17:03:46.465216",
     "exception": false,
     "start_time": "2023-04-01T17:03:46.417689",
     "status": "completed"
    },
    "tags": []
   },
   "outputs": [
    {
     "name": "stdout",
     "output_type": "stream",
     "text": [
      "subratamondal\n",
      "subratasubratasubratasubratasubrata\n"
     ]
    }
   ],
   "source": [
    "print(\"subrata\" + \"mondal\")\n",
    "print(\"subrata\" * 5)"
   ]
  },
  {
   "cell_type": "code",
   "execution_count": 47,
   "id": "7bd08a1f",
   "metadata": {
    "execution": {
     "iopub.execute_input": "2023-04-01T17:03:46.537003Z",
     "iopub.status.busy": "2023-04-01T17:03:46.535833Z",
     "iopub.status.idle": "2023-04-01T17:03:46.542434Z",
     "shell.execute_reply": "2023-04-01T17:03:46.541362Z"
    },
    "papermill": {
     "duration": 0.044799,
     "end_time": "2023-04-01T17:03:46.545097",
     "exception": false,
     "start_time": "2023-04-01T17:03:46.500298",
     "status": "completed"
    },
    "tags": []
   },
   "outputs": [
    {
     "name": "stdout",
     "output_type": "stream",
     "text": [
      "True\n",
      "False\n"
     ]
    }
   ],
   "source": [
    "print(\"su\" in \"subrata\")\n",
    "print(\"shr\" in \"subrata\")"
   ]
  },
  {
   "cell_type": "markdown",
   "id": "74cbb3ee",
   "metadata": {
    "papermill": {
     "duration": 0.035795,
     "end_time": "2023-04-01T17:03:46.616853",
     "exception": false,
     "start_time": "2023-04-01T17:03:46.581058",
     "status": "completed"
    },
    "tags": []
   },
   "source": [
    "### Built-in methods of strings\n",
    "String’s built-in methods in Python are functions that you can use on strings to perform various operations on them. For example, you can use the **`capitalize()`** method to convert the first character of a string to upper case, or the **`lower()`** method to convert a string to lower case. Some of the common string methods are:\n",
    "\n",
    "* **`len()`**: Returns the length of a string.\n",
    "* **`find()`**: `Searches for a substring` in a string and returns its `index`, or `-1` if not found.\n",
    "* **`replace()`**: `Replaces a substring` with another substring in a string.\n",
    "* **`split()`**: `Splits a string` into a list of substrings based on a separator.\n",
    "* **`join()`**: `Joins a list of strings` into one string using a separator.\n",
    "* **`startswith() and endswith()`**: `Checks if a string starts or ends with` a specified substring and returns True or False.\n",
    "* **`strip(), lstrip() and rstrip()`**: Removes `leading, trailing or both whitespaces` from a string.\n",
    "* **`format()`**: Formats a string using placeholders and values.\n",
    "* **`isalnum(), isalpha(), isdigit()`**, etc.: Checks if all characters in a string are `alphanumeric, alphabetic, digits`, etc. and returns True or False."
   ]
  },
  {
   "cell_type": "code",
   "execution_count": 48,
   "id": "f705a406",
   "metadata": {
    "execution": {
     "iopub.execute_input": "2023-04-01T17:03:46.688673Z",
     "iopub.status.busy": "2023-04-01T17:03:46.688254Z",
     "iopub.status.idle": "2023-04-01T17:03:46.696011Z",
     "shell.execute_reply": "2023-04-01T17:03:46.694864Z"
    },
    "papermill": {
     "duration": 0.047256,
     "end_time": "2023-04-01T17:03:46.698710",
     "exception": false,
     "start_time": "2023-04-01T17:03:46.651454",
     "status": "completed"
    },
    "tags": []
   },
   "outputs": [
    {
     "data": {
      "text/plain": [
       "'HELLO WORLD'"
      ]
     },
     "execution_count": 48,
     "metadata": {},
     "output_type": "execute_result"
    }
   ],
   "source": [
    "# To convert a string to upper case, use the upper() method. For example:\n",
    "string = \"Hello World\"\n",
    "string.upper() # returns \"HELLO WORLD\""
   ]
  },
  {
   "cell_type": "code",
   "execution_count": 49,
   "id": "a921db89",
   "metadata": {
    "execution": {
     "iopub.execute_input": "2023-04-01T17:03:46.771684Z",
     "iopub.status.busy": "2023-04-01T17:03:46.771286Z",
     "iopub.status.idle": "2023-04-01T17:03:46.778633Z",
     "shell.execute_reply": "2023-04-01T17:03:46.777340Z"
    },
    "papermill": {
     "duration": 0.046692,
     "end_time": "2023-04-01T17:03:46.781088",
     "exception": false,
     "start_time": "2023-04-01T17:03:46.734396",
     "status": "completed"
    },
    "tags": []
   },
   "outputs": [
    {
     "data": {
      "text/plain": [
       "6"
      ]
     },
     "execution_count": 49,
     "metadata": {},
     "output_type": "execute_result"
    }
   ],
   "source": [
    "# To find the index of a substring in a string, use the find() method. For example:\n",
    "string = \"Hello World\"\n",
    "string.find(\"World\") # returns 6"
   ]
  },
  {
   "cell_type": "code",
   "execution_count": 50,
   "id": "6d04abe1",
   "metadata": {
    "execution": {
     "iopub.execute_input": "2023-04-01T17:03:46.852863Z",
     "iopub.status.busy": "2023-04-01T17:03:46.851891Z",
     "iopub.status.idle": "2023-04-01T17:03:46.858882Z",
     "shell.execute_reply": "2023-04-01T17:03:46.857969Z"
    },
    "papermill": {
     "duration": 0.045666,
     "end_time": "2023-04-01T17:03:46.861302",
     "exception": false,
     "start_time": "2023-04-01T17:03:46.815636",
     "status": "completed"
    },
    "tags": []
   },
   "outputs": [
    {
     "data": {
      "text/plain": [
       "'Hello<-|||->World'"
      ]
     },
     "execution_count": 50,
     "metadata": {},
     "output_type": "execute_result"
    }
   ],
   "source": [
    "# To replace a substring with another substring in a string, use the replace() method. For example:\n",
    "string = \"Hello World\"\n",
    "string.replace(\"World\", \"Python\") # returns \"Hello Python\"\n",
    "\n",
    "string = \"Hello World\"\n",
    "string.replace(\" \", \"<-|||->\") # returns \"Hello<-|||->World\""
   ]
  },
  {
   "cell_type": "code",
   "execution_count": 51,
   "id": "6baa1766",
   "metadata": {
    "execution": {
     "iopub.execute_input": "2023-04-01T17:03:46.933949Z",
     "iopub.status.busy": "2023-04-01T17:03:46.933469Z",
     "iopub.status.idle": "2023-04-01T17:03:46.939924Z",
     "shell.execute_reply": "2023-04-01T17:03:46.938630Z"
    },
    "papermill": {
     "duration": 0.04601,
     "end_time": "2023-04-01T17:03:46.942703",
     "exception": false,
     "start_time": "2023-04-01T17:03:46.896693",
     "status": "completed"
    },
    "tags": []
   },
   "outputs": [
    {
     "name": "stdout",
     "output_type": "stream",
     "text": [
      "['Hello', 'World']\n",
      "['Hello', 'World']\n"
     ]
    }
   ],
   "source": [
    "# To split a string into a list of substrings based on a separator, use the split() method. For example:\n",
    "string = \"Hello World\"\n",
    "print(string.split(\" \")) # returns [\"Hello\", \"World\"]\n",
    "\n",
    "string = \"Hello->World\"\n",
    "print(string.split(\"->\")) # returns [\"Hello\", \"World\"]"
   ]
  },
  {
   "cell_type": "code",
   "execution_count": 52,
   "id": "4f895c18",
   "metadata": {
    "execution": {
     "iopub.execute_input": "2023-04-01T17:03:47.015767Z",
     "iopub.status.busy": "2023-04-01T17:03:47.015353Z",
     "iopub.status.idle": "2023-04-01T17:03:47.022599Z",
     "shell.execute_reply": "2023-04-01T17:03:47.021457Z"
    },
    "papermill": {
     "duration": 0.046844,
     "end_time": "2023-04-01T17:03:47.025131",
     "exception": false,
     "start_time": "2023-04-01T17:03:46.978287",
     "status": "completed"
    },
    "tags": []
   },
   "outputs": [
    {
     "data": {
      "text/plain": [
       "'Hello->World'"
      ]
     },
     "execution_count": 52,
     "metadata": {},
     "output_type": "execute_result"
    }
   ],
   "source": [
    "# To join a list of strings into one string using a separator, use the join() method. For example:\n",
    "list = [\"Hello\", \"World\"]\n",
    "\"->\".join(list) # returns \"Hello World\""
   ]
  },
  {
   "cell_type": "code",
   "execution_count": 53,
   "id": "f3d565e3",
   "metadata": {
    "execution": {
     "iopub.execute_input": "2023-04-01T17:03:47.098359Z",
     "iopub.status.busy": "2023-04-01T17:03:47.097938Z",
     "iopub.status.idle": "2023-04-01T17:03:47.105722Z",
     "shell.execute_reply": "2023-04-01T17:03:47.104497Z"
    },
    "papermill": {
     "duration": 0.048442,
     "end_time": "2023-04-01T17:03:47.109368",
     "exception": false,
     "start_time": "2023-04-01T17:03:47.060926",
     "status": "completed"
    },
    "tags": []
   },
   "outputs": [
    {
     "name": "stdout",
     "output_type": "stream",
     "text": [
      "strip:  Hello World 13 11\n",
      "lstrip:  Hello World  13 12\n",
      "rstrip:   Hello World 13 12\n",
      "strip:  banana 29 6\n"
     ]
    }
   ],
   "source": [
    "string = \" Hello World \"\n",
    "print(\"strip: \",string.strip(), len(string) ,len(string.strip())) # returns \"Hello World\"\n",
    "print(\"lstrip: \",string.lstrip(), len(string) ,len(string.lstrip()))\n",
    "print(\"rstrip: \",string.rstrip(), len(string) ,len(string.rstrip()))\n",
    "\n",
    "string = \",,,,,rrttgg.....banana....rrr\"\n",
    "print(\"strip: \",string.strip(\",.grt\"), len(string) ,len(string.strip(\",.grt\"))) # returns \"banana\""
   ]
  },
  {
   "cell_type": "markdown",
   "id": "92a2d130",
   "metadata": {
    "papermill": {
     "duration": 0.035467,
     "end_time": "2023-04-01T17:03:47.181431",
     "exception": false,
     "start_time": "2023-04-01T17:03:47.145964",
     "status": "completed"
    },
    "tags": []
   },
   "source": [
    "## Tuples\n",
    "---\n",
    "Tuples in Python are collections of objects separated by commas and enclosed by parentheses `()`. They are similar to lists, but they are **`immutable`**, meaning that they cannot be changed once created. Tuples can store any data type and **`allow duplicate values`**. Tuples can also be nested, concatenated, repeated, sliced and deleted. \n",
    "\n",
    "### Advantages of tuples over lists are:\n",
    "* they are faster, safer and more memory-efficient than lists.\n",
    "\n",
    "### Properties\n",
    "* Tuples are **`ordered`**, meaning that the items have a defined order that will not change.\n",
    "* Tuples are **`immutable`**, meaning that they cannot be modified after they are created. You `cannot add, remove, or change items` in a tuple.\n",
    "* Tuples **`can contain any arbitrary objects`**, including other `tuples, lists, dictionaries, functions, classes,` etc like lists. Tuples can also store multiple data types in the same tuple.\n",
    "* Tuples can be **`accessed by index`**, using square brackets (`[]`) to get individual items or slices of items from a tuple. The index starts from 0 for the first item and -1 for the last item.\n",
    "* Tuples can be **`nested`** to arbitrary depth`, meaning that you can have tuples inside tuples inside tuples, and so on.\n",
    "* Tuples are **`hashable`**, meaning that they can be used as keys in dictionaries or as elements in sets. However, this only applies if all the items in the tuple are also hashable.\n",
    "\n",
    "### Built-in methods of tuples\n",
    "* **`count()`**: This method returns the number of times a specified value occurs in a tuple.\n",
    "* **`index()`**: This method searches the tuple for a specified value and returns its position (index) where it was found. If the value is not found, it raises a ValueError. You can also specify a start and end index to limit the search range."
   ]
  },
  {
   "cell_type": "code",
   "execution_count": 54,
   "id": "dfc71014",
   "metadata": {
    "execution": {
     "iopub.execute_input": "2023-04-01T17:03:47.253660Z",
     "iopub.status.busy": "2023-04-01T17:03:47.253275Z",
     "iopub.status.idle": "2023-04-01T17:03:47.258766Z",
     "shell.execute_reply": "2023-04-01T17:03:47.257549Z"
    },
    "papermill": {
     "duration": 0.045934,
     "end_time": "2023-04-01T17:03:47.262537",
     "exception": false,
     "start_time": "2023-04-01T17:03:47.216603",
     "status": "completed"
    },
    "tags": []
   },
   "outputs": [
    {
     "name": "stdout",
     "output_type": "stream",
     "text": [
      "True\n",
      "False\n"
     ]
    }
   ],
   "source": [
    "print(\"banana\" in (\"apple\", \"banana\", \"cherry\", \"apple\"))\n",
    "print(\"coffee\" in (\"apple\", \"banana\", \"cherry\", \"apple\"))"
   ]
  },
  {
   "cell_type": "code",
   "execution_count": 55,
   "id": "67f5af45",
   "metadata": {
    "execution": {
     "iopub.execute_input": "2023-04-01T17:03:47.336426Z",
     "iopub.status.busy": "2023-04-01T17:03:47.335999Z",
     "iopub.status.idle": "2023-04-01T17:03:47.342106Z",
     "shell.execute_reply": "2023-04-01T17:03:47.341227Z"
    },
    "papermill": {
     "duration": 0.045083,
     "end_time": "2023-04-01T17:03:47.344325",
     "exception": false,
     "start_time": "2023-04-01T17:03:47.299242",
     "status": "completed"
    },
    "tags": []
   },
   "outputs": [
    {
     "data": {
      "text/plain": [
       "2"
      ]
     },
     "execution_count": 55,
     "metadata": {},
     "output_type": "execute_result"
    }
   ],
   "source": [
    "# returns the number of times a specified value occurs in a tuple. For example:\n",
    "my_tuple = (\"apple\", \"banana\", \"cherry\", \"apple\")\n",
    "my_tuple.count(\"apple\") # returns 2"
   ]
  },
  {
   "cell_type": "code",
   "execution_count": 56,
   "id": "9d0f861a",
   "metadata": {
    "execution": {
     "iopub.execute_input": "2023-04-01T17:03:47.417989Z",
     "iopub.status.busy": "2023-04-01T17:03:47.417554Z",
     "iopub.status.idle": "2023-04-01T17:03:47.424325Z",
     "shell.execute_reply": "2023-04-01T17:03:47.423070Z"
    },
    "papermill": {
     "duration": 0.046739,
     "end_time": "2023-04-01T17:03:47.426995",
     "exception": false,
     "start_time": "2023-04-01T17:03:47.380256",
     "status": "completed"
    },
    "tags": []
   },
   "outputs": [
    {
     "name": "stdout",
     "output_type": "stream",
     "text": [
      "2\n",
      "3\n"
     ]
    }
   ],
   "source": [
    "# returns its position (index) where it was found\n",
    "my_tuple = (\"apple\", \"banana\", \"cherry\", \"apple\")\n",
    "print(my_tuple.index(\"cherry\")) # returns 2\n",
    "print(my_tuple.index(\"apple\", 1)) # returns 3"
   ]
  },
  {
   "cell_type": "markdown",
   "id": "fec7b561",
   "metadata": {
    "papermill": {
     "duration": 0.049958,
     "end_time": "2023-04-01T17:03:47.515264",
     "exception": false,
     "start_time": "2023-04-01T17:03:47.465306",
     "status": "completed"
    },
    "tags": []
   },
   "source": [
    "## For Loops\n",
    "---\n",
    "For loops in Python are used to iterate over a sequence of items, such as a list, a tuple, a string, a dictionary, a set, or any iterable object. The syntax of the for loop is:\n",
    "\n",
    "```python\n",
    "for item in sequence:\n",
    "    # do something with item\n",
    "```\n",
    "\n",
    "Here, item is a variable that takes the value of each element in sequence on each iteration. The loop continues until all the elements in sequence are exhausted or a break statement is encountered.\n",
    "\n",
    "### Properties\n",
    "* For loops are used to iterate over a **`sequence of items`**, such as a `list, a tuple, a string, a dictionary, a set, or any iterable object`.\n",
    "* For loops do not require an indexing variable to set beforehand. The loop variable takes the value of each element in the sequence on each iteration.\n",
    "* For loops can be nested to create loops within loops. **`The inner loop executes completely for each iteration of the outer loop`**.\n",
    "* For loops can be altered by using **`break and continue`** statements. The break statement stops the loop before it has looped through all the items. The continue statement skips the current iteration of the loop and continues with the next one.\n",
    "* For loops can have an **`else`** clause that executes when the loop is finished normally (without encountering a break statement)."
   ]
  },
  {
   "cell_type": "code",
   "execution_count": 57,
   "id": "02f45122",
   "metadata": {
    "execution": {
     "iopub.execute_input": "2023-04-01T17:03:47.597814Z",
     "iopub.status.busy": "2023-04-01T17:03:47.596569Z",
     "iopub.status.idle": "2023-04-01T17:03:47.603602Z",
     "shell.execute_reply": "2023-04-01T17:03:47.601777Z"
    },
    "papermill": {
     "duration": 0.047641,
     "end_time": "2023-04-01T17:03:47.606310",
     "exception": false,
     "start_time": "2023-04-01T17:03:47.558669",
     "status": "completed"
    },
    "tags": []
   },
   "outputs": [
    {
     "name": "stdout",
     "output_type": "stream",
     "text": [
      "1\n",
      "2\n",
      "3\n",
      "4\n"
     ]
    }
   ],
   "source": [
    "# To print each element of a list:\n",
    "my_list = [1, 2, 3, 4]\n",
    "for num in my_list:\n",
    "    print(num)"
   ]
  },
  {
   "cell_type": "code",
   "execution_count": 58,
   "id": "2c73f0e2",
   "metadata": {
    "execution": {
     "iopub.execute_input": "2023-04-01T17:03:47.683112Z",
     "iopub.status.busy": "2023-04-01T17:03:47.681963Z",
     "iopub.status.idle": "2023-04-01T17:03:47.689091Z",
     "shell.execute_reply": "2023-04-01T17:03:47.687660Z"
    },
    "papermill": {
     "duration": 0.048301,
     "end_time": "2023-04-01T17:03:47.692272",
     "exception": false,
     "start_time": "2023-04-01T17:03:47.643971",
     "status": "completed"
    },
    "tags": []
   },
   "outputs": [
    {
     "name": "stdout",
     "output_type": "stream",
     "text": [
      "H\n",
      "e\n",
      "l\n",
      "l\n",
      "o\n"
     ]
    }
   ],
   "source": [
    "# To print each character of a string:\n",
    "my_string = \"Hello\"\n",
    "for char in my_string:\n",
    "    print(char)"
   ]
  },
  {
   "cell_type": "code",
   "execution_count": 59,
   "id": "a83b0a2a",
   "metadata": {
    "execution": {
     "iopub.execute_input": "2023-04-01T17:03:47.768589Z",
     "iopub.status.busy": "2023-04-01T17:03:47.767372Z",
     "iopub.status.idle": "2023-04-01T17:03:47.773234Z",
     "shell.execute_reply": "2023-04-01T17:03:47.772404Z"
    },
    "papermill": {
     "duration": 0.046483,
     "end_time": "2023-04-01T17:03:47.776108",
     "exception": false,
     "start_time": "2023-04-01T17:03:47.729625",
     "status": "completed"
    },
    "tags": []
   },
   "outputs": [
    {
     "name": "stdout",
     "output_type": "stream",
     "text": [
      "name Subrata\n",
      "age 23\n"
     ]
    }
   ],
   "source": [
    "# To print each key-value pair of a dictionary:\n",
    "my_dict = {\"name\": \"Subrata\", \"age\": 23}\n",
    "for key, value in my_dict.items():\n",
    "    print(key, value)"
   ]
  },
  {
   "cell_type": "code",
   "execution_count": 60,
   "id": "0c175863",
   "metadata": {
    "execution": {
     "iopub.execute_input": "2023-04-01T17:03:47.850959Z",
     "iopub.status.busy": "2023-04-01T17:03:47.849810Z",
     "iopub.status.idle": "2023-04-01T17:03:47.856218Z",
     "shell.execute_reply": "2023-04-01T17:03:47.855278Z"
    },
    "papermill": {
     "duration": 0.0453,
     "end_time": "2023-04-01T17:03:47.858552",
     "exception": false,
     "start_time": "2023-04-01T17:03:47.813252",
     "status": "completed"
    },
    "tags": []
   },
   "outputs": [
    {
     "name": "stdout",
     "output_type": "stream",
     "text": [
      "A 0\n",
      "A 1\n",
      "A 2\n",
      "B 0\n",
      "B 1\n",
      "B 2\n",
      "C 0\n",
      "C 1\n",
      "C 2\n"
     ]
    }
   ],
   "source": [
    "# For loops can be nested to create loops within loops. The inner loop executes completely for each iteration of the outer loop.\n",
    "for i in [\"A\",\"B\",\"C\"]:\n",
    "    for j in range(3):\n",
    "        print(i,j)"
   ]
  },
  {
   "cell_type": "markdown",
   "id": "08439642",
   "metadata": {
    "papermill": {
     "duration": 0.03595,
     "end_time": "2023-04-01T17:03:47.931081",
     "exception": false,
     "start_time": "2023-04-01T17:03:47.895131",
     "status": "completed"
    },
    "tags": []
   },
   "source": [
    "### Real-life use-cases of for-loops\n",
    "* For loops can be used to **`traverse a sequence and access each element`**. For example, if you have a list of numbers and you want to print each number, you can use a for loop to iterate over the list and print each item.\n",
    "* For loops can be used to **`modify a sequence or create a new sequence based on some condition or logic`**. For example, if you have a list of words and you want to create a new list that contains only the words that start with ‘a’, you can use a for loop to iterate over the original list and append the words that match the condition to the new list.\n",
    "* For loops can be used to **`perform some calculation or operation on each element of a sequence and accumulate the result`**. For example, if you have a list of numbers and you want to calculate the sum of all the numbers, you can use a for loop to iterate over the list and add each number to a variable that stores the sum.\n",
    "* For loops can be used to **`implement various algorithms and data structures that involve iteration`**. For example, if you want to implement a linear search algorithm that finds an element in a list, you can use a for loop to iterate over the list and compare each element with the target value.\n",
    "* For loops can be used to **`work with nested sequences or complex data structures`**. For example, if you have a list of lists that represents a matrix, you can use a nested for loop to iterate over each row and column of the matrix and access or modify each element."
   ]
  },
  {
   "cell_type": "markdown",
   "id": "58eecfab",
   "metadata": {
    "papermill": {
     "duration": 0.036159,
     "end_time": "2023-04-01T17:03:48.003756",
     "exception": false,
     "start_time": "2023-04-01T17:03:47.967597",
     "status": "completed"
    },
    "tags": []
   },
   "source": [
    "### For Else Loop"
   ]
  },
  {
   "cell_type": "code",
   "execution_count": 61,
   "id": "051f328b",
   "metadata": {
    "execution": {
     "iopub.execute_input": "2023-04-01T17:03:48.078882Z",
     "iopub.status.busy": "2023-04-01T17:03:48.078474Z",
     "iopub.status.idle": "2023-04-01T17:03:48.084884Z",
     "shell.execute_reply": "2023-04-01T17:03:48.083679Z"
    },
    "papermill": {
     "duration": 0.047607,
     "end_time": "2023-04-01T17:03:48.087453",
     "exception": false,
     "start_time": "2023-04-01T17:03:48.039846",
     "status": "completed"
    },
    "tags": []
   },
   "outputs": [
    {
     "name": "stdout",
     "output_type": "stream",
     "text": [
      "Item not found!!!\n"
     ]
    }
   ],
   "source": [
    "# For loops can have an else clause that executes when the loop is finished normally (without encountering a break statement).\n",
    "for i in [11,22,33,44,55]:\n",
    "    if i == 88:\n",
    "        print(\"Item found!!!\")\n",
    "        break\n",
    "else:\n",
    "    print(\"Item not found!!!\")"
   ]
  },
  {
   "cell_type": "markdown",
   "id": "08250b39",
   "metadata": {
    "papermill": {
     "duration": 0.036325,
     "end_time": "2023-04-01T17:03:48.165783",
     "exception": false,
     "start_time": "2023-04-01T17:03:48.129458",
     "status": "completed"
    },
    "tags": []
   },
   "source": [
    "## While Loops\n",
    "---\n",
    "A while loop in Python is a way to execute a block of code repeatedly until a given condition is satisfied.\n",
    "\n",
    "### Properties\n",
    "* They are used for **`indefinite iteration`**, which means they repeat a block of code until a condition is False.\n",
    "* They require **`relevant variables to be initialized before the loop and updated inside the loop body`**.\n",
    "* They can be terminated prematurely with a break statement, which exits the loop completely.\n",
    "* They can skip an iteration with a continue statement, which jumps back to the condition check.\n",
    "* They can have an optional else clause, which runs once when the condition becomes False, unless a break statement is used."
   ]
  },
  {
   "cell_type": "code",
   "execution_count": 62,
   "id": "9dee5bb8",
   "metadata": {
    "execution": {
     "iopub.execute_input": "2023-04-01T17:03:48.240089Z",
     "iopub.status.busy": "2023-04-01T17:03:48.239660Z",
     "iopub.status.idle": "2023-04-01T17:03:48.246519Z",
     "shell.execute_reply": "2023-04-01T17:03:48.245245Z"
    },
    "papermill": {
     "duration": 0.046904,
     "end_time": "2023-04-01T17:03:48.248858",
     "exception": false,
     "start_time": "2023-04-01T17:03:48.201954",
     "status": "completed"
    },
    "tags": []
   },
   "outputs": [
    {
     "data": {
      "text/plain": [
       "'\\nnum = input(\"Enter an integer: \")\\n\\nwhile not num.isdigit():\\n    num = input(\"Enter an integer: \")\\n'"
      ]
     },
     "execution_count": 62,
     "metadata": {},
     "output_type": "execute_result"
    }
   ],
   "source": [
    "# keep asking the customer untile the customer enters a digit\n",
    "'''\n",
    "num = input(\"Enter an integer: \")\n",
    "\n",
    "while not num.isdigit():\n",
    "    num = input(\"Enter an integer: \")\n",
    "'''"
   ]
  },
  {
   "cell_type": "markdown",
   "id": "98933b94",
   "metadata": {
    "papermill": {
     "duration": 0.035022,
     "end_time": "2023-04-01T17:03:48.319197",
     "exception": false,
     "start_time": "2023-04-01T17:03:48.284175",
     "status": "completed"
    },
    "tags": []
   },
   "source": [
    "### While Else Loops"
   ]
  },
  {
   "cell_type": "code",
   "execution_count": 63,
   "id": "98292a50",
   "metadata": {
    "execution": {
     "iopub.execute_input": "2023-04-01T17:03:48.391920Z",
     "iopub.status.busy": "2023-04-01T17:03:48.391511Z",
     "iopub.status.idle": "2023-04-01T17:03:48.396961Z",
     "shell.execute_reply": "2023-04-01T17:03:48.396301Z"
    },
    "papermill": {
     "duration": 0.045047,
     "end_time": "2023-04-01T17:03:48.399490",
     "exception": false,
     "start_time": "2023-04-01T17:03:48.354443",
     "status": "completed"
    },
    "tags": []
   },
   "outputs": [
    {
     "name": "stdout",
     "output_type": "stream",
     "text": [
      "Item Not Found!!!\n"
     ]
    }
   ],
   "source": [
    "lst = [11,22,33,44]\n",
    "i = 0\n",
    "        \n",
    "while i < len(lst):\n",
    "    if lst[i] == 88:\n",
    "        print(\"Item Found!!!\")\n",
    "        break\n",
    "    i += 1\n",
    "else:\n",
    "    print(\"Item Not Found!!!\")"
   ]
  },
  {
   "cell_type": "markdown",
   "id": "f316f541",
   "metadata": {
    "papermill": {
     "duration": 0.035928,
     "end_time": "2023-04-01T17:03:48.471448",
     "exception": false,
     "start_time": "2023-04-01T17:03:48.435520",
     "status": "completed"
    },
    "tags": []
   },
   "source": [
    "### For Loop vs While Loop\n",
    "There is a huge difference between for loops and while loops in Python. The for loop iterates through a `collection or iterable object or generator function`, while the while loop simply `loops until a condition is False`.\n",
    "\n",
    "* You should `use a for loop when you already know the number of iterations` or when you have a ready-made collection to iterate through. \n",
    "* You should `use a while loop when you don’t know the number of iterations` or when you need to check a condition at each iteration."
   ]
  },
  {
   "cell_type": "markdown",
   "id": "b1093750",
   "metadata": {
    "papermill": {
     "duration": 0.035751,
     "end_time": "2023-04-01T17:03:48.543014",
     "exception": false,
     "start_time": "2023-04-01T17:03:48.507263",
     "status": "completed"
    },
    "tags": []
   },
   "source": [
    "## Slice\n",
    "---\n",
    "Slicing is used to access a range of elements in a list, you can also slice other data types in Python that are `sequential`, such as `strings, tuples, bytes, bytearrays, and ranges`. One way to do this is to use the simple slicing operator i.e. colon (:) With this operator, one can specify where to start the slicing, where to end, and specify the step. List slicing returns a new list from the existing list.\n",
    "\n",
    "``` python\n",
    "sequence[start:stop:step]\n",
    "```\n",
    "\n",
    "where `sequence` can be any sequential data type like lists, strings, tuples, etc.\n",
    "\n",
    "`start` is the index where the slicing begins (inclusive). If omitted, it defaults to 0.\n",
    "\n",
    "`stop` is the index where the slicing ends (exclusive). If omitted, it defaults to the length of the sequence.\n",
    "\n",
    "`step` is the interval between each element in the slice. If omitted, it defaults to 1."
   ]
  },
  {
   "cell_type": "code",
   "execution_count": 64,
   "id": "9a738dcf",
   "metadata": {
    "execution": {
     "iopub.execute_input": "2023-04-01T17:03:48.618933Z",
     "iopub.status.busy": "2023-04-01T17:03:48.618546Z",
     "iopub.status.idle": "2023-04-01T17:03:48.624161Z",
     "shell.execute_reply": "2023-04-01T17:03:48.623319Z"
    },
    "papermill": {
     "duration": 0.047598,
     "end_time": "2023-04-01T17:03:48.626799",
     "exception": false,
     "start_time": "2023-04-01T17:03:48.579201",
     "status": "completed"
    },
    "tags": []
   },
   "outputs": [
    {
     "name": "stdout",
     "output_type": "stream",
     "text": [
      "Original List:\n",
      " [1, 2, 3, 4, 5, 6, 7, 8, 9]\n",
      "\n",
      "Sliced Lists: \n",
      "[4, 6, 8]\n",
      "[1, 3, 5, 7, 9]\n",
      "[1, 2, 3, 4, 5, 6, 7, 8, 9]\n"
     ]
    }
   ],
   "source": [
    "# list slicing\n",
    "List = [1, 2, 3, 4, 5, 6, 7, 8, 9]\n",
    "print(\"Original List:\\n\", List)\n",
    "print(\"\\nSliced Lists: \")\n",
    "print(List[3:9:2])\n",
    "print(List[::2])\n",
    "print(List[::])"
   ]
  },
  {
   "cell_type": "code",
   "execution_count": 65,
   "id": "29aef8e0",
   "metadata": {
    "execution": {
     "iopub.execute_input": "2023-04-01T17:03:48.701706Z",
     "iopub.status.busy": "2023-04-01T17:03:48.701303Z",
     "iopub.status.idle": "2023-04-01T17:03:48.707767Z",
     "shell.execute_reply": "2023-04-01T17:03:48.706122Z"
    },
    "papermill": {
     "duration": 0.046978,
     "end_time": "2023-04-01T17:03:48.710401",
     "exception": false,
     "start_time": "2023-04-01T17:03:48.663423",
     "status": "completed"
    },
    "tags": []
   },
   "outputs": [
    {
     "name": "stdout",
     "output_type": "stream",
     "text": [
      "Hello\n"
     ]
    }
   ],
   "source": [
    "# Slicing a string\n",
    "string = \"Hello World\"\n",
    "sliced_string = string[0:5]\n",
    "print(sliced_string)"
   ]
  },
  {
   "cell_type": "code",
   "execution_count": 66,
   "id": "5f06c81f",
   "metadata": {
    "execution": {
     "iopub.execute_input": "2023-04-01T17:03:48.788622Z",
     "iopub.status.busy": "2023-04-01T17:03:48.788211Z",
     "iopub.status.idle": "2023-04-01T17:03:48.793427Z",
     "shell.execute_reply": "2023-04-01T17:03:48.792595Z"
    },
    "papermill": {
     "duration": 0.046736,
     "end_time": "2023-04-01T17:03:48.795870",
     "exception": false,
     "start_time": "2023-04-01T17:03:48.749134",
     "status": "completed"
    },
    "tags": []
   },
   "outputs": [
    {
     "name": "stdout",
     "output_type": "stream",
     "text": [
      "(2, 3, 4)\n"
     ]
    }
   ],
   "source": [
    "# Slicing a tuple\n",
    "tuple = (1, 2, 3, 4, 5)\n",
    "sliced_tuple = tuple[1:4]\n",
    "print(sliced_tuple)"
   ]
  },
  {
   "cell_type": "markdown",
   "id": "fcde6459",
   "metadata": {
    "papermill": {
     "duration": 0.036596,
     "end_time": "2023-04-01T17:03:48.868357",
     "exception": false,
     "start_time": "2023-04-01T17:03:48.831761",
     "status": "completed"
    },
    "tags": []
   },
   "source": [
    "### Real-life use cases of slice\n",
    "* Slicing can be used to **`extract substrings from a string`**. For example, if you have a string that contains a date in the format YYYY-MM-DD, you can use slicing to get the year, month, and day separately.\n",
    "* Slicing can be used to **`reverse a sequence by using a negative step`**. For example, if you have a list of numbers and you want to reverse their order, you can use slicing with a step of `-1`.\n",
    "* Slicing can be used to **`access every nth element of a sequence by using a positive step`**. For example, if you have a list of words and you want to get every second word, you can use slicing with a step of 2.\n",
    "* Slicing can be used to **`copy a sequence by using an empty start and stop argument`**. For example, if you have a list of items and you want to make a copy of it, you can use slicing with an empty start and stop argument.\n",
    "* Slicing can be used to **`delete or replace elements of a mutable sequence`** by assigning an empty sequence or another sequence to the slice. For example, if you have a list of names and you want to delete the first two names or replace them with new names, you can use slicing with an assignment statement."
   ]
  },
  {
   "cell_type": "markdown",
   "id": "cde823c8",
   "metadata": {
    "papermill": {
     "duration": 0.036655,
     "end_time": "2023-04-01T17:03:48.941846",
     "exception": false,
     "start_time": "2023-04-01T17:03:48.905191",
     "status": "completed"
    },
    "tags": []
   },
   "source": [
    "## Dictionary\n",
    "---\n",
    "Dictionaries in Python are collections of key-value pairs that are used to store data values like a map. They are written with curly brackets and have keys and values separated by a colon. For example:\n",
    "``` python\n",
    "thisdict = {\"brand\": \"Ford\", \"model\": \"Mustang\", \"year\": 1964}\n",
    "```\n",
    "Dictionaries are ordered (since Python 3.7), changeable and do not allow duplicates. You can access, modify, add or remove items from a dictionary using various methods.\n",
    "\n",
    "### Properties\n",
    "* They are **`ordered (since Python 3.7)`**, meaning that the items have a defined order that will not change.\n",
    "* They are **`mutable or changeable`**, meaning that we can modify, add or remove items after the dictionary has been created12.\n",
    "* They do **`not allow duplicates`**, meaning that they cannot have two items with the same key.\n",
    "* They have **keys and values** that can be of any data type.\n",
    "* They are defined as objects with the data type **`dict`**.\n",
    "\n",
    "### Built-in Methods of dictionary\n",
    "Python dictionaries have many built-in methods that can perform various operations on them. Here are some examples of the most common methods:\n",
    "\n",
    "* **`clear()`** : This method removes all the items from the dictionary, leaving it empty. For example:"
   ]
  },
  {
   "cell_type": "code",
   "execution_count": 67,
   "id": "50d81392",
   "metadata": {
    "execution": {
     "iopub.execute_input": "2023-04-01T17:03:49.017108Z",
     "iopub.status.busy": "2023-04-01T17:03:49.016641Z",
     "iopub.status.idle": "2023-04-01T17:03:49.023712Z",
     "shell.execute_reply": "2023-04-01T17:03:49.022082Z"
    },
    "papermill": {
     "duration": 0.048825,
     "end_time": "2023-04-01T17:03:49.027309",
     "exception": false,
     "start_time": "2023-04-01T17:03:48.978484",
     "status": "completed"
    },
    "tags": []
   },
   "outputs": [
    {
     "name": "stdout",
     "output_type": "stream",
     "text": [
      "{'a': 1, 'b': 2, 'c': 3}\n",
      "{}\n"
     ]
    }
   ],
   "source": [
    "d = {\"a\": 1, \"b\": 2, \"c\": 3} \n",
    "print(d)\n",
    "d.clear() \n",
    "print(d) # prints {}"
   ]
  },
  {
   "cell_type": "markdown",
   "id": "5bdcafd1",
   "metadata": {
    "papermill": {
     "duration": 0.037373,
     "end_time": "2023-04-01T17:03:49.101616",
     "exception": false,
     "start_time": "2023-04-01T17:03:49.064243",
     "status": "completed"
    },
    "tags": []
   },
   "source": [
    "* **`copy()`** : This method returns a shallow copy of the dictionary, meaning that the new dictionary will have the same items as the original one, but they will be different objects. For example:"
   ]
  },
  {
   "cell_type": "code",
   "execution_count": 68,
   "id": "a9fb29eb",
   "metadata": {
    "execution": {
     "iopub.execute_input": "2023-04-01T17:03:49.177765Z",
     "iopub.status.busy": "2023-04-01T17:03:49.177378Z",
     "iopub.status.idle": "2023-04-01T17:03:49.183885Z",
     "shell.execute_reply": "2023-04-01T17:03:49.182618Z"
    },
    "papermill": {
     "duration": 0.048171,
     "end_time": "2023-04-01T17:03:49.186925",
     "exception": false,
     "start_time": "2023-04-01T17:03:49.138754",
     "status": "completed"
    },
    "tags": []
   },
   "outputs": [
    {
     "name": "stdout",
     "output_type": "stream",
     "text": [
      "{'a': 1, 'b': 2, 'c': 3}\n",
      "False\n"
     ]
    }
   ],
   "source": [
    "d = {\"a\": 1, \"b\": 2, \"c\": 3} \n",
    "e = d.copy() \n",
    "print(e) # prints {\"a\": 1, \"b\": 2, \"c\": 3} \n",
    "print(d is e) # prints False"
   ]
  },
  {
   "cell_type": "markdown",
   "id": "9405d1e3",
   "metadata": {
    "papermill": {
     "duration": 0.03667,
     "end_time": "2023-04-01T17:03:49.262102",
     "exception": false,
     "start_time": "2023-04-01T17:03:49.225432",
     "status": "completed"
    },
    "tags": []
   },
   "source": [
    "* **`fromkeys()`** : This method returns a new dictionary with the specified keys and a default value (None by default). For example:"
   ]
  },
  {
   "cell_type": "code",
   "execution_count": 69,
   "id": "42f3cbeb",
   "metadata": {
    "execution": {
     "iopub.execute_input": "2023-04-01T17:03:49.339450Z",
     "iopub.status.busy": "2023-04-01T17:03:49.338193Z",
     "iopub.status.idle": "2023-04-01T17:03:49.345852Z",
     "shell.execute_reply": "2023-04-01T17:03:49.344151Z"
    },
    "papermill": {
     "duration": 0.048935,
     "end_time": "2023-04-01T17:03:49.348408",
     "exception": false,
     "start_time": "2023-04-01T17:03:49.299473",
     "status": "completed"
    },
    "tags": []
   },
   "outputs": [
    {
     "name": "stdout",
     "output_type": "stream",
     "text": [
      "{'a': None, 'b': None, 'c': None}\n",
      "{'a': 0, 'b': 0, 'c': 0}\n"
     ]
    }
   ],
   "source": [
    "keys = [\"a\", \"b\", \"c\"] \n",
    "d = dict.fromkeys (keys) \n",
    "print(d) # prints {\"a\": None, \"b\": None, \"c\": None} \n",
    "e = dict.fromkeys (keys, 0) \n",
    "print(e) # prints {\"a\": 0, \"b\": 0, \"c\": 0}"
   ]
  },
  {
   "cell_type": "markdown",
   "id": "39e34012",
   "metadata": {
    "papermill": {
     "duration": 0.036646,
     "end_time": "2023-04-01T17:03:49.422311",
     "exception": false,
     "start_time": "2023-04-01T17:03:49.385665",
     "status": "completed"
    },
    "tags": []
   },
   "source": [
    "* **`get()`** : This method returns the value associated with the specified key in the dictionary, or a default value (None by default) if the key is not found. For example:"
   ]
  },
  {
   "cell_type": "code",
   "execution_count": 70,
   "id": "2bb21b1c",
   "metadata": {
    "execution": {
     "iopub.execute_input": "2023-04-01T17:03:49.499017Z",
     "iopub.status.busy": "2023-04-01T17:03:49.498125Z",
     "iopub.status.idle": "2023-04-01T17:03:49.505833Z",
     "shell.execute_reply": "2023-04-01T17:03:49.504447Z"
    },
    "papermill": {
     "duration": 0.048839,
     "end_time": "2023-04-01T17:03:49.508457",
     "exception": false,
     "start_time": "2023-04-01T17:03:49.459618",
     "status": "completed"
    },
    "tags": []
   },
   "outputs": [
    {
     "name": "stdout",
     "output_type": "stream",
     "text": [
      "1\n",
      "None\n",
      "-1\n"
     ]
    }
   ],
   "source": [
    "d = {\"a\": 1, \"b\": 2, \"c\": 3} \n",
    "print(d.get(\"a\")) # prints 1 \n",
    "print(d.get (\"d\")) # prints None \n",
    "print(d.get (\"d\", -1)) # prints -1\n"
   ]
  },
  {
   "cell_type": "markdown",
   "id": "a10ebdaf",
   "metadata": {
    "papermill": {
     "duration": 0.037724,
     "end_time": "2023-04-01T17:03:49.583401",
     "exception": false,
     "start_time": "2023-04-01T17:03:49.545677",
     "status": "completed"
    },
    "tags": []
   },
   "source": [
    "* **`pop()`** : This method removes and returns the value associated with the specified key in the dictionary, or raises a KeyError if the key is not found. An optional default value can be provided to return instead of raising an error. For example:"
   ]
  },
  {
   "cell_type": "code",
   "execution_count": 71,
   "id": "3661c0d4",
   "metadata": {
    "execution": {
     "iopub.execute_input": "2023-04-01T17:03:49.660562Z",
     "iopub.status.busy": "2023-04-01T17:03:49.660162Z",
     "iopub.status.idle": "2023-04-01T17:03:49.665815Z",
     "shell.execute_reply": "2023-04-01T17:03:49.664557Z"
    },
    "papermill": {
     "duration": 0.048784,
     "end_time": "2023-04-01T17:03:49.669387",
     "exception": false,
     "start_time": "2023-04-01T17:03:49.620603",
     "status": "completed"
    },
    "tags": []
   },
   "outputs": [
    {
     "name": "stdout",
     "output_type": "stream",
     "text": [
      "1\n",
      "-1\n"
     ]
    }
   ],
   "source": [
    "d = {\"a\": 1, \"b\": 2, \"c\": 3} \n",
    "print(d.pop (\"a\")) # prints 1 \n",
    "# print(d.pop (\"d\")) # raises KeyError \n",
    "print(d.pop (\"d\", -1)) # prints -1"
   ]
  },
  {
   "cell_type": "markdown",
   "id": "5b17deda",
   "metadata": {
    "papermill": {
     "duration": 0.036782,
     "end_time": "2023-04-01T17:03:49.743850",
     "exception": false,
     "start_time": "2023-04-01T17:03:49.707068",
     "status": "completed"
    },
    "tags": []
   },
   "source": [
    "**`popitem()`** : This method removes and returns a random key-value pair from the dictionary as a tuple. If the dictionary is empty, it raises a KeyError. For example:"
   ]
  },
  {
   "cell_type": "code",
   "execution_count": 72,
   "id": "dc21121e",
   "metadata": {
    "execution": {
     "iopub.execute_input": "2023-04-01T17:03:49.821255Z",
     "iopub.status.busy": "2023-04-01T17:03:49.820836Z",
     "iopub.status.idle": "2023-04-01T17:03:49.826975Z",
     "shell.execute_reply": "2023-04-01T17:03:49.825806Z"
    },
    "papermill": {
     "duration": 0.048075,
     "end_time": "2023-04-01T17:03:49.829979",
     "exception": false,
     "start_time": "2023-04-01T17:03:49.781904",
     "status": "completed"
    },
    "tags": []
   },
   "outputs": [
    {
     "name": "stdout",
     "output_type": "stream",
     "text": [
      "('c', 3)\n",
      "('b', 2)\n",
      "('a', 1)\n"
     ]
    }
   ],
   "source": [
    "d = {\"a\": 1, \"b\": 2, \"c\": 3} \n",
    "print(d.popitem()) # prints (\"c\", 3) \n",
    "print(d.popitem ()) # prints (\"b\", 2) \n",
    "print(d.popitem ()) # prints (\"a\", 1) \n",
    "# print(d.popitem ()) # raises KeyError"
   ]
  },
  {
   "cell_type": "markdown",
   "id": "3ae165d7",
   "metadata": {
    "papermill": {
     "duration": 0.036843,
     "end_time": "2023-04-01T17:03:49.903970",
     "exception": false,
     "start_time": "2023-04-01T17:03:49.867127",
     "status": "completed"
    },
    "tags": []
   },
   "source": [
    "* **`setdefault()`** : This method returns the value associated with the specified key in the dictionary, or inserts the key with a default value (None by default) if the key is not found. For example:"
   ]
  },
  {
   "cell_type": "code",
   "execution_count": 73,
   "id": "4d7f2060",
   "metadata": {
    "execution": {
     "iopub.execute_input": "2023-04-01T17:03:49.980216Z",
     "iopub.status.busy": "2023-04-01T17:03:49.979779Z",
     "iopub.status.idle": "2023-04-01T17:03:49.986025Z",
     "shell.execute_reply": "2023-04-01T17:03:49.984790Z"
    },
    "papermill": {
     "duration": 0.048313,
     "end_time": "2023-04-01T17:03:49.989469",
     "exception": false,
     "start_time": "2023-04-01T17:03:49.941156",
     "status": "completed"
    },
    "tags": []
   },
   "outputs": [
    {
     "name": "stdout",
     "output_type": "stream",
     "text": [
      "1\n",
      "None\n",
      "-1\n"
     ]
    }
   ],
   "source": [
    "d = {\"a\": 1, \"b\": 2, \"c\": 3} \n",
    "print(d.setdefault (\"a\")) # prints 1 \n",
    "print(d.setdefault (\"d\")) # prints None \n",
    "print(d.setdefault (\"e\", -1)) # prints -1"
   ]
  },
  {
   "cell_type": "markdown",
   "id": "41679eb1",
   "metadata": {
    "papermill": {
     "duration": 0.036865,
     "end_time": "2023-04-01T17:03:50.064649",
     "exception": false,
     "start_time": "2023-04-01T17:03:50.027784",
     "status": "completed"
    },
    "tags": []
   },
   "source": [
    "* **`update()`** : This method updates the dictionary with the key-value pairs from another dictionary or an iterable of tuples."
   ]
  },
  {
   "cell_type": "code",
   "execution_count": 74,
   "id": "b03d8aff",
   "metadata": {
    "execution": {
     "iopub.execute_input": "2023-04-01T17:03:50.142099Z",
     "iopub.status.busy": "2023-04-01T17:03:50.141668Z",
     "iopub.status.idle": "2023-04-01T17:03:50.149186Z",
     "shell.execute_reply": "2023-04-01T17:03:50.147660Z"
    },
    "papermill": {
     "duration": 0.048405,
     "end_time": "2023-04-01T17:03:50.151681",
     "exception": false,
     "start_time": "2023-04-01T17:03:50.103276",
     "status": "completed"
    },
    "tags": []
   },
   "outputs": [
    {
     "name": "stdout",
     "output_type": "stream",
     "text": [
      "{'a': 1, 'b': 2, 'c': 3, 'd': 4, 'e': 5, 'f': 6, 'g': 7}\n"
     ]
    }
   ],
   "source": [
    "d1 = {\"a\": 1, \"b\": 2, \"c\": 3} \n",
    "d2 = {\"d\": 4, \"e\": 5} \n",
    "d3 = [(\"f\", 6), (\"g\", 7)]\n",
    "\n",
    "d1.update(d2) # updates d1 with key-value pairs from d2 print(d1) # prints {\"a\": 1, \"b\": 2, \"c\": 3, \"d\": 4, \"e\": 5}\n",
    "\n",
    "d1.update(d3) # updates d1 with key-value pairs from d3 print(d1) # prints {\"a\": 1, \"b\": 2, \"c\": 3, \"d\": 4, \"e\": 5, \"f\": 6, \"g\": 7}\n",
    "print(d1)"
   ]
  },
  {
   "cell_type": "markdown",
   "id": "eea32bde",
   "metadata": {
    "papermill": {
     "duration": 0.036761,
     "end_time": "2023-04-01T17:03:50.225955",
     "exception": false,
     "start_time": "2023-04-01T17:03:50.189194",
     "status": "completed"
    },
    "tags": []
   },
   "source": [
    "### Real life use-cases of dictionary\n",
    "* Dictionaries can be used to **`store data values like a map`**, where each value is associated with a unique key. For example, if you have a collection of student names and their ages, you can use a dictionary to map each name to its corresponding age.\n",
    "* Dictionaries can be used to **`access and modify data values quickly and easily`**, by using the keys as indexes. For example, if you have a dictionary of product names and prices, you can update the price of a product by using its name as the key.\n",
    "* Dictionaries can be used to **`store heterogeneous data types`**, meaning that the values can be of any data type and can vary from one key to another. For example, if you have a dictionary of employee information, you can store different types of data for each employee, such as name, salary, department, etc.\n",
    "* Dictionaries can be used to **`implement various data structures and algorithms`**, such as `hash tables, graphs, caches, memoization`, etc. For example, if you want to implement a cache that stores the results of some expensive function calls, you can use a dictionary to map the input arguments to the output values.\n",
    "* Dictionaries can be used to **`work with JSON data`**, which is a common format for exchanging data on the web. JSON data is essentially a collection of key-value pairs, which can be easily converted to and from Python dictionaries using the json module. For example, if you want to parse some JSON data from an API response, you can use json.loads() to convert it to a Python dictionary."
   ]
  },
  {
   "cell_type": "markdown",
   "id": "a502514c",
   "metadata": {
    "papermill": {
     "duration": 0.035845,
     "end_time": "2023-04-01T17:03:50.298829",
     "exception": false,
     "start_time": "2023-04-01T17:03:50.262984",
     "status": "completed"
    },
    "tags": []
   },
   "source": [
    "## Sets\n",
    "---\n",
    "Sets in Python are **`unordered`** collections of unique and **`immutable`** objects. They are one of the four built-in data types in Python used to store collections of data, along with lists, tuples and dictionaries. Sets are written with curly brackets **`{ }`**.\n",
    "\n",
    "**`Note:`** Set items are unchangeable, but you can remove items and add new items.\n",
    "\n",
    "### Properties\n",
    "* They do not allow duplicate values.\n",
    "* They are **`immutable or unchangeable`**, meaning that we cannot modify the items after the set has been created, but we can add or remove items.\n",
    "* They do not have a defined order and cannot be accessed by index or key.\n",
    "* They can store heterogeneous elements of any data type.\n",
    "* They have a **`highly optimized`** method for checking whether a specific element is contained in the set, based on a data structure known as a hash table.\n",
    "* There is also a special type of set called a **`frozen set`**, which is immutable and can be used as a key in a dictionary or an element of another set.\n",
    "* Sets support various methods and operators to perform operations such as **`union, intersection, difference, symmetric difference, subset, superset`**, etc."
   ]
  },
  {
   "cell_type": "markdown",
   "id": "b1cfb782",
   "metadata": {
    "papermill": {
     "duration": 0.037095,
     "end_time": "2023-04-01T17:03:50.373104",
     "exception": false,
     "start_time": "2023-04-01T17:03:50.336009",
     "status": "completed"
    },
    "tags": []
   },
   "source": [
    "* **`add()`**: Adds an element to the set."
   ]
  },
  {
   "cell_type": "code",
   "execution_count": 75,
   "id": "715a508e",
   "metadata": {
    "execution": {
     "iopub.execute_input": "2023-04-01T17:03:50.449574Z",
     "iopub.status.busy": "2023-04-01T17:03:50.449170Z",
     "iopub.status.idle": "2023-04-01T17:03:50.455249Z",
     "shell.execute_reply": "2023-04-01T17:03:50.453737Z"
    },
    "papermill": {
     "duration": 0.048406,
     "end_time": "2023-04-01T17:03:50.458626",
     "exception": false,
     "start_time": "2023-04-01T17:03:50.410220",
     "status": "completed"
    },
    "tags": []
   },
   "outputs": [
    {
     "name": "stdout",
     "output_type": "stream",
     "text": [
      "{1, 2, 3, 4}\n"
     ]
    }
   ],
   "source": [
    "s = {1, 2, 3}\n",
    "s.add (4)\n",
    "print(s) # {1, 2, 3, 4}"
   ]
  },
  {
   "cell_type": "markdown",
   "id": "a20083e7",
   "metadata": {
    "papermill": {
     "duration": 0.037143,
     "end_time": "2023-04-01T17:03:50.533747",
     "exception": false,
     "start_time": "2023-04-01T17:03:50.496604",
     "status": "completed"
    },
    "tags": []
   },
   "source": [
    "* **`clear()`**: Removes all the elements from the set. "
   ]
  },
  {
   "cell_type": "code",
   "execution_count": 76,
   "id": "8aafd984",
   "metadata": {
    "execution": {
     "iopub.execute_input": "2023-04-01T17:03:50.610399Z",
     "iopub.status.busy": "2023-04-01T17:03:50.609440Z",
     "iopub.status.idle": "2023-04-01T17:03:50.614897Z",
     "shell.execute_reply": "2023-04-01T17:03:50.614096Z"
    },
    "papermill": {
     "duration": 0.046565,
     "end_time": "2023-04-01T17:03:50.617501",
     "exception": false,
     "start_time": "2023-04-01T17:03:50.570936",
     "status": "completed"
    },
    "tags": []
   },
   "outputs": [
    {
     "name": "stdout",
     "output_type": "stream",
     "text": [
      "set()\n"
     ]
    }
   ],
   "source": [
    "s = {1, 2, 3}\n",
    "s.clear () \n",
    "print(s) # set()"
   ]
  },
  {
   "cell_type": "markdown",
   "id": "e64ab7a2",
   "metadata": {
    "papermill": {
     "duration": 0.037383,
     "end_time": "2023-04-01T17:03:50.692087",
     "exception": false,
     "start_time": "2023-04-01T17:03:50.654704",
     "status": "completed"
    },
    "tags": []
   },
   "source": [
    "* **`copy()`**: Returns a copy of the set."
   ]
  },
  {
   "cell_type": "code",
   "execution_count": 77,
   "id": "0c9206cf",
   "metadata": {
    "execution": {
     "iopub.execute_input": "2023-04-01T17:03:50.769783Z",
     "iopub.status.busy": "2023-04-01T17:03:50.769405Z",
     "iopub.status.idle": "2023-04-01T17:03:50.775487Z",
     "shell.execute_reply": "2023-04-01T17:03:50.774102Z"
    },
    "papermill": {
     "duration": 0.047795,
     "end_time": "2023-04-01T17:03:50.778164",
     "exception": false,
     "start_time": "2023-04-01T17:03:50.730369",
     "status": "completed"
    },
    "tags": []
   },
   "outputs": [
    {
     "name": "stdout",
     "output_type": "stream",
     "text": [
      "{1, 2, 3}\n"
     ]
    }
   ],
   "source": [
    "s = {1, 2, 3} \n",
    "t = s.copy() \n",
    "print(t) # {1, 2, 3}"
   ]
  },
  {
   "cell_type": "markdown",
   "id": "b73c54fe",
   "metadata": {
    "papermill": {
     "duration": 0.037653,
     "end_time": "2023-04-01T17:03:50.854816",
     "exception": false,
     "start_time": "2023-04-01T17:03:50.817163",
     "status": "completed"
    },
    "tags": []
   },
   "source": [
    "* **`difference()`**: Returns a set containing the difference between two or more sets. "
   ]
  },
  {
   "cell_type": "code",
   "execution_count": 78,
   "id": "56292d03",
   "metadata": {
    "execution": {
     "iopub.execute_input": "2023-04-01T17:03:50.932745Z",
     "iopub.status.busy": "2023-04-01T17:03:50.932284Z",
     "iopub.status.idle": "2023-04-01T17:03:50.939559Z",
     "shell.execute_reply": "2023-04-01T17:03:50.937693Z"
    },
    "papermill": {
     "duration": 0.049831,
     "end_time": "2023-04-01T17:03:50.942531",
     "exception": false,
     "start_time": "2023-04-01T17:03:50.892700",
     "status": "completed"
    },
    "tags": []
   },
   "outputs": [
    {
     "name": "stdout",
     "output_type": "stream",
     "text": [
      "{1, 3}\n"
     ]
    }
   ],
   "source": [
    "s = {1, 2, 3} \n",
    "t = {2, 4, 5} \n",
    "print(s.difference(t)) # {1, 3}"
   ]
  },
  {
   "cell_type": "markdown",
   "id": "56efe6a0",
   "metadata": {
    "papermill": {
     "duration": 0.036666,
     "end_time": "2023-04-01T17:03:51.017342",
     "exception": false,
     "start_time": "2023-04-01T17:03:50.980676",
     "status": "completed"
    },
    "tags": []
   },
   "source": [
    "* **`difference_update()`**: Removes the items in this set that are also included in another, specified set. "
   ]
  },
  {
   "cell_type": "code",
   "execution_count": 79,
   "id": "5bc95af1",
   "metadata": {
    "execution": {
     "iopub.execute_input": "2023-04-01T17:03:51.094151Z",
     "iopub.status.busy": "2023-04-01T17:03:51.093099Z",
     "iopub.status.idle": "2023-04-01T17:03:51.099608Z",
     "shell.execute_reply": "2023-04-01T17:03:51.098526Z"
    },
    "papermill": {
     "duration": 0.048385,
     "end_time": "2023-04-01T17:03:51.102176",
     "exception": false,
     "start_time": "2023-04-01T17:03:51.053791",
     "status": "completed"
    },
    "tags": []
   },
   "outputs": [
    {
     "name": "stdout",
     "output_type": "stream",
     "text": [
      "{1, 3}\n"
     ]
    }
   ],
   "source": [
    "s = {1, 2, 3} \n",
    "t = {2, 4, 5} \n",
    "s.difference_update (t) \n",
    "print(s) # {1, 3}"
   ]
  },
  {
   "cell_type": "markdown",
   "id": "34565058",
   "metadata": {
    "papermill": {
     "duration": 0.03797,
     "end_time": "2023-04-01T17:03:51.178649",
     "exception": false,
     "start_time": "2023-04-01T17:03:51.140679",
     "status": "completed"
    },
    "tags": []
   },
   "source": [
    "* **`discard()`**: Removes the specified item from the set if it is present."
   ]
  },
  {
   "cell_type": "code",
   "execution_count": 80,
   "id": "e9d2f3d2",
   "metadata": {
    "execution": {
     "iopub.execute_input": "2023-04-01T17:03:51.256058Z",
     "iopub.status.busy": "2023-04-01T17:03:51.255624Z",
     "iopub.status.idle": "2023-04-01T17:03:51.261680Z",
     "shell.execute_reply": "2023-04-01T17:03:51.260530Z"
    },
    "papermill": {
     "duration": 0.047584,
     "end_time": "2023-04-01T17:03:51.264413",
     "exception": false,
     "start_time": "2023-04-01T17:03:51.216829",
     "status": "completed"
    },
    "tags": []
   },
   "outputs": [
    {
     "name": "stdout",
     "output_type": "stream",
     "text": [
      "{1, 3}\n"
     ]
    }
   ],
   "source": [
    "s = {1, 2, 3} \n",
    "s.discard(2) \n",
    "print(s) # {1, 3}"
   ]
  },
  {
   "cell_type": "markdown",
   "id": "5bf1a039",
   "metadata": {
    "papermill": {
     "duration": 0.038128,
     "end_time": "2023-04-01T17:03:51.340977",
     "exception": false,
     "start_time": "2023-04-01T17:03:51.302849",
     "status": "completed"
    },
    "tags": []
   },
   "source": [
    "* **`intersection()`**: Returns a set that is the intersection of two or more sets. "
   ]
  },
  {
   "cell_type": "code",
   "execution_count": 81,
   "id": "1294e6c2",
   "metadata": {
    "execution": {
     "iopub.execute_input": "2023-04-01T17:03:51.417673Z",
     "iopub.status.busy": "2023-04-01T17:03:51.417202Z",
     "iopub.status.idle": "2023-04-01T17:03:51.424318Z",
     "shell.execute_reply": "2023-04-01T17:03:51.422462Z"
    },
    "papermill": {
     "duration": 0.048489,
     "end_time": "2023-04-01T17:03:51.426934",
     "exception": false,
     "start_time": "2023-04-01T17:03:51.378445",
     "status": "completed"
    },
    "tags": []
   },
   "outputs": [
    {
     "name": "stdout",
     "output_type": "stream",
     "text": [
      "{2}\n"
     ]
    }
   ],
   "source": [
    "s = {1, 2, 3} \n",
    "t = {2, 4, 5} \n",
    "print(s.intersection (t)) # {2}"
   ]
  },
  {
   "cell_type": "markdown",
   "id": "b7c0845b",
   "metadata": {
    "papermill": {
     "duration": 0.036926,
     "end_time": "2023-04-01T17:03:51.502120",
     "exception": false,
     "start_time": "2023-04-01T17:03:51.465194",
     "status": "completed"
    },
    "tags": []
   },
   "source": [
    "* **`intersection_update()`**: Removes the items in this set that are not present in other, specified set (s).  "
   ]
  },
  {
   "cell_type": "code",
   "execution_count": 82,
   "id": "38816d27",
   "metadata": {
    "execution": {
     "iopub.execute_input": "2023-04-01T17:03:51.579079Z",
     "iopub.status.busy": "2023-04-01T17:03:51.578614Z",
     "iopub.status.idle": "2023-04-01T17:03:51.585479Z",
     "shell.execute_reply": "2023-04-01T17:03:51.584044Z"
    },
    "papermill": {
     "duration": 0.048652,
     "end_time": "2023-04-01T17:03:51.588130",
     "exception": false,
     "start_time": "2023-04-01T17:03:51.539478",
     "status": "completed"
    },
    "tags": []
   },
   "outputs": [
    {
     "name": "stdout",
     "output_type": "stream",
     "text": [
      "{2}\n"
     ]
    }
   ],
   "source": [
    "s = {1, 2, 3} \n",
    "t = {2, 4, 5} \n",
    "s.intersection_update(t) \n",
    "print(s) # {2}"
   ]
  },
  {
   "cell_type": "markdown",
   "id": "dd8a5339",
   "metadata": {
    "papermill": {
     "duration": 0.036971,
     "end_time": "2023-04-01T17:03:51.662463",
     "exception": false,
     "start_time": "2023-04-01T17:03:51.625492",
     "status": "completed"
    },
    "tags": []
   },
   "source": [
    "* **`isdisjoint()`**: Returns True if two sets have no elements in common. "
   ]
  },
  {
   "cell_type": "code",
   "execution_count": 83,
   "id": "6ba3c6ee",
   "metadata": {
    "execution": {
     "iopub.execute_input": "2023-04-01T17:03:51.740011Z",
     "iopub.status.busy": "2023-04-01T17:03:51.739566Z",
     "iopub.status.idle": "2023-04-01T17:03:51.746047Z",
     "shell.execute_reply": "2023-04-01T17:03:51.744537Z"
    },
    "papermill": {
     "duration": 0.049065,
     "end_time": "2023-04-01T17:03:51.749254",
     "exception": false,
     "start_time": "2023-04-01T17:03:51.700189",
     "status": "completed"
    },
    "tags": []
   },
   "outputs": [
    {
     "name": "stdout",
     "output_type": "stream",
     "text": [
      "True\n"
     ]
    }
   ],
   "source": [
    "s = {1, 2, 3} \n",
    "t = {4, 5, 6} \n",
    "print(s.isdisjoint(t)) # True"
   ]
  },
  {
   "cell_type": "markdown",
   "id": "60a49369",
   "metadata": {
    "papermill": {
     "duration": 0.038334,
     "end_time": "2023-04-01T17:03:51.825950",
     "exception": false,
     "start_time": "2023-04-01T17:03:51.787616",
     "status": "completed"
    },
    "tags": []
   },
   "source": [
    "* **`issubset()`**: Returns True if this set is a subset of another set. "
   ]
  },
  {
   "cell_type": "code",
   "execution_count": 84,
   "id": "0c407190",
   "metadata": {
    "execution": {
     "iopub.execute_input": "2023-04-01T17:03:51.903348Z",
     "iopub.status.busy": "2023-04-01T17:03:51.902781Z",
     "iopub.status.idle": "2023-04-01T17:03:51.909326Z",
     "shell.execute_reply": "2023-04-01T17:03:51.908080Z"
    },
    "papermill": {
     "duration": 0.048632,
     "end_time": "2023-04-01T17:03:51.912166",
     "exception": false,
     "start_time": "2023-04-01T17:03:51.863534",
     "status": "completed"
    },
    "tags": []
   },
   "outputs": [
    {
     "name": "stdout",
     "output_type": "stream",
     "text": [
      "True\n"
     ]
    }
   ],
   "source": [
    "s = {1, 2} \n",
    "t = {1, 2, 3} \n",
    "print(s.issubset(t)) # True"
   ]
  },
  {
   "cell_type": "markdown",
   "id": "3f2cf022",
   "metadata": {
    "papermill": {
     "duration": 0.03759,
     "end_time": "2023-04-01T17:03:51.988399",
     "exception": false,
     "start_time": "2023-04-01T17:03:51.950809",
     "status": "completed"
    },
    "tags": []
   },
   "source": [
    "* **`issuperset()`**: Returns True if this set is a superset of another set."
   ]
  },
  {
   "cell_type": "code",
   "execution_count": 85,
   "id": "6d9e29b8",
   "metadata": {
    "execution": {
     "iopub.execute_input": "2023-04-01T17:03:52.065879Z",
     "iopub.status.busy": "2023-04-01T17:03:52.065472Z",
     "iopub.status.idle": "2023-04-01T17:03:52.071392Z",
     "shell.execute_reply": "2023-04-01T17:03:52.070100Z"
    },
    "papermill": {
     "duration": 0.047705,
     "end_time": "2023-04-01T17:03:52.073921",
     "exception": false,
     "start_time": "2023-04-01T17:03:52.026216",
     "status": "completed"
    },
    "tags": []
   },
   "outputs": [
    {
     "name": "stdout",
     "output_type": "stream",
     "text": [
      "True\n"
     ]
    }
   ],
   "source": [
    "s = {1, 2} \n",
    "t = {1} \n",
    "print(s.issuperset (t)) # True"
   ]
  },
  {
   "cell_type": "markdown",
   "id": "33259396",
   "metadata": {
    "papermill": {
     "duration": 0.03849,
     "end_time": "2023-04-01T17:03:52.151246",
     "exception": false,
     "start_time": "2023-04-01T17:03:52.112756",
     "status": "completed"
    },
    "tags": []
   },
   "source": [
    "* **`pop()`**: Removes and returns an arbitrary element from the set."
   ]
  },
  {
   "cell_type": "code",
   "execution_count": 86,
   "id": "969db82a",
   "metadata": {
    "execution": {
     "iopub.execute_input": "2023-04-01T17:03:52.229640Z",
     "iopub.status.busy": "2023-04-01T17:03:52.228666Z",
     "iopub.status.idle": "2023-04-01T17:03:52.236127Z",
     "shell.execute_reply": "2023-04-01T17:03:52.234436Z"
    },
    "papermill": {
     "duration": 0.049551,
     "end_time": "2023-04-01T17:03:52.239000",
     "exception": false,
     "start_time": "2023-04-01T17:03:52.189449",
     "status": "completed"
    },
    "tags": []
   },
   "outputs": [
    {
     "name": "stdout",
     "output_type": "stream",
     "text": [
      "1\n"
     ]
    }
   ],
   "source": [
    "s = {1, 2, 3} \n",
    "print(s.pop())"
   ]
  },
  {
   "cell_type": "markdown",
   "id": "70a078b8",
   "metadata": {
    "papermill": {
     "duration": 0.038376,
     "end_time": "2023-04-01T17:03:52.315295",
     "exception": false,
     "start_time": "2023-04-01T17:03:52.276919",
     "status": "completed"
    },
    "tags": []
   },
   "source": [
    "### Real life use-cases of sets\n",
    "* Sets can be used to **`remove duplicate values`** from a collection of data. For example, if you have a list of student names and you want to get only the unique names, you can convert the list to a set and then back to a list.\n",
    "* Sets can be used to **`perform mathematical operations`** on collections of data, such as union, intersection, difference, and symmetric difference. For example, if you have two sets of keywords for a website and you want to find out which keywords are common, which are unique, and which are exclusive to each set, you can use set methods or operators to do so.\n",
    "* Sets can be used to **`check for membership and inclusion of elements`** in a collection of data. For example, if you have a set of valid email addresses and you want to check if a given email address is valid or not, you can use the in operator or the issubset () method to do so.\n",
    "* Sets can be used to **`automate various tasks and processes`** that involve working with collections of data. For example, if you have a lot of data stored in different formats and databases, you can use Python tools like Fabric, Salt or Ansible to combine, clean, and manipulate the data using sets.\n",
    "* Sets can be used for **`stuff automation as well`**. For example, if you have a number of robotic arms for a manufacturing facility, you can use Python to code their movements and interactions using sets."
   ]
  },
  {
   "cell_type": "markdown",
   "id": "839cefcf",
   "metadata": {
    "papermill": {
     "duration": 0.037603,
     "end_time": "2023-04-01T17:03:52.397496",
     "exception": false,
     "start_time": "2023-04-01T17:03:52.359893",
     "status": "completed"
    },
    "tags": []
   },
   "source": [
    "## Errors and Exceptions\n",
    "### Compile Time error vs Runtime error\n",
    "In simple words **`compile time error`** happens even before the code starts running while the **`runtime error`** happens while the code is running i.e is why in runtime error if the code is coorect untill that point then those code will execute unlike compile time error.\n",
    "\n",
    "A **`compile time error`** is an error that occurs when you violate the rules of writing syntax in Python, such as missing a colon, a parenthesis, or a quotation mark. These errors are detected by the compiler **before the program execution begins** and prevent the code from running.\n",
    "\n",
    "```python\n",
    "print(\"Hello world\" # SyntaxError\n",
    "```\n",
    "\n",
    "A **`runtime error`** is an error that occurs when something goes wrong **during the program execution**, such as dividing by zero, accessing an invalid index of a list, or calling a function with wrong arguments. These errors are not detected by the compiler and produce an unpredictable result or an exception at the execution time.\n",
    "\n",
    "```python\n",
    "55/0 # ZeroDivisionError\n",
    "```\n",
    "\n",
    "* The main difference between compile time error and runtime error is that compile time error can be **fixed by correcting the syntax** of the code, while runtime error can be **fixed by handling the exceptions or changing the logic of the code.**\n",
    "\n",
    "---\n",
    "Errors are problems in a program that prevent it from running correctly whereas, Exceptions are events that occur during the execution of a program that disrupt the normal flow of control. There are two types of errors in Python: **syntax errors** and **logical errors**.\n",
    "\n",
    "**`Syntax errors`** occur when the program does not follow the rules of the Python language. For example, forgetting a colon after an if statement or a parenthesis after a print function. Syntax errors are detected by the interpreter **before the program runs** and cause a SyntaxError message. For example:\n",
    "\n",
    "```python\n",
    "amount = 10000\n",
    "if(amount>2999) # SyntaxError: invalid syntax due to no colon :\n",
    "print(\"You are eligible to purchase Dsa Self Paced\")\n",
    "```\n",
    "\n",
    "**`Logical errors`** occur when the program does not do what the programmer intended it to do. For example, dividing a number by zero or using an undefined variable. Logical errors are detected by the interpreter during the program execution and cause an exception message. For example:\n",
    "```python\n",
    "marks = 10000\n",
    "a = marks / 0 # ZeroDivisionError: division by zero\n",
    "print(a)\n",
    "```\n",
    "\n",
    "**`Exceptions`** Python has many built-in exceptions that handle different kinds of errors, such as `ZeroDivisionError, NameError, TypeError, IndexError`, etc. You can see the full list of built-in exceptions here: https://docs.python.org/3/library/exceptions.html\n",
    "\n",
    "\n",
    "### Create Exceptions\n",
    "You can also create your own exceptions by subclassing the Exception class or one of its subclasses. For example:\n",
    "\n",
    "```python\n",
    "class MyError(Exception):\n",
    "    pass\n",
    "\n",
    "raise MyError(\"Something went wrong\")\n",
    "```"
   ]
  },
  {
   "cell_type": "markdown",
   "id": "7efa245e",
   "metadata": {
    "papermill": {
     "duration": 0.037523,
     "end_time": "2023-04-01T17:03:52.473164",
     "exception": false,
     "start_time": "2023-04-01T17:03:52.435641",
     "status": "completed"
    },
    "tags": []
   },
   "source": [
    "### Exception Handling\n",
    "\n",
    "```python\n",
    "try:\n",
    "    print(\"This block runs when there are no errors\")\n",
    "except:\n",
    "    print(\"This block runs when there is an error in the 'try' block\")\n",
    "finally:\n",
    "    print(\"This block runs no matter what\")\n",
    "```\n",
    "\n",
    "To catch any type of exception we use the **`Exception`** \n",
    "\n",
    "**`finally`** the purpose of this is to do cleanup operations no matter what"
   ]
  },
  {
   "cell_type": "code",
   "execution_count": 87,
   "id": "3ab536b1",
   "metadata": {
    "execution": {
     "iopub.execute_input": "2023-04-01T17:03:52.550931Z",
     "iopub.status.busy": "2023-04-01T17:03:52.550502Z",
     "iopub.status.idle": "2023-04-01T17:03:52.557356Z",
     "shell.execute_reply": "2023-04-01T17:03:52.555989Z"
    },
    "papermill": {
     "duration": 0.048979,
     "end_time": "2023-04-01T17:03:52.560262",
     "exception": false,
     "start_time": "2023-04-01T17:03:52.511283",
     "status": "completed"
    },
    "tags": []
   },
   "outputs": [
    {
     "name": "stdout",
     "output_type": "stream",
     "text": [
      "Exception!---> <class 'Exception'>\n"
     ]
    }
   ],
   "source": [
    "try:\n",
    "    int(\"ok\") \n",
    "except Exception:\n",
    "    print(f\"Exception!---> {Exception}\")"
   ]
  },
  {
   "cell_type": "markdown",
   "id": "e6c04f6c",
   "metadata": {
    "papermill": {
     "duration": 0.040865,
     "end_time": "2023-04-01T17:03:52.640587",
     "exception": false,
     "start_time": "2023-04-01T17:03:52.599722",
     "status": "completed"
    },
    "tags": []
   },
   "source": [
    "When we know the Exception."
   ]
  },
  {
   "cell_type": "code",
   "execution_count": 88,
   "id": "fd0fd1ef",
   "metadata": {
    "execution": {
     "iopub.execute_input": "2023-04-01T17:03:52.723847Z",
     "iopub.status.busy": "2023-04-01T17:03:52.722561Z",
     "iopub.status.idle": "2023-04-01T17:03:52.729780Z",
     "shell.execute_reply": "2023-04-01T17:03:52.728301Z"
    },
    "papermill": {
     "duration": 0.05198,
     "end_time": "2023-04-01T17:03:52.732518",
     "exception": false,
     "start_time": "2023-04-01T17:03:52.680538",
     "status": "completed"
    },
    "tags": []
   },
   "outputs": [
    {
     "name": "stdout",
     "output_type": "stream",
     "text": [
      "Exception!---> <class 'ValueError'>\n",
      "I will run no matter what\n"
     ]
    }
   ],
   "source": [
    "# When we know the Exception\n",
    "try:\n",
    "    int(\"ok\")\n",
    "except ZeroDivisionError:\n",
    "    print(f\"Exception!---> {ZeroDivisionError}\")\n",
    "except ValueError:\n",
    "    print(f\"Exception!---> {ValueError}\")\n",
    "finally:\n",
    "    print(\"I will run no matter what\")"
   ]
  },
  {
   "cell_type": "markdown",
   "id": "671085e3",
   "metadata": {
    "papermill": {
     "duration": 0.037777,
     "end_time": "2023-04-01T17:03:52.808751",
     "exception": false,
     "start_time": "2023-04-01T17:03:52.770974",
     "status": "completed"
    },
    "tags": []
   },
   "source": [
    "### Raise Exception\n",
    "You can also use the raise statement to explicitly raise an exception when a certain condition is met. You can optionally specify a cause for the exception using the from keyword. For example:\n",
    "\n",
    "```python\n",
    "raise Exception(\"Got you!!!\")\n",
    "\n",
    "raise IndexError(\"See! I told ya, this is an exception of Index\")\n",
    "```\n",
    "\n",
    "```python\n",
    "def sqrt(x):\n",
    "    if x < 0:\n",
    "        raise ValueError(\"Cannot take square root of negative number\") from None\n",
    "    return x ** 0.5\n",
    "\n",
    "print(sqrt(-4))\n",
    "```"
   ]
  },
  {
   "cell_type": "markdown",
   "id": "6809101d",
   "metadata": {
    "papermill": {
     "duration": 0.037959,
     "end_time": "2023-04-01T17:03:52.885137",
     "exception": false,
     "start_time": "2023-04-01T17:03:52.847178",
     "status": "completed"
    },
    "tags": []
   },
   "source": [
    "### Builtin Exceptions\n",
    "Some of the common built-in exceptions are:\n",
    "\n",
    "* **`ArithmeticError`**: Raised when an error occurs in numeric calculations\n",
    "* **`AssertionError`**: Raised when an assert statement fails\n",
    "* **`AttributeError`**: Raised when attribute reference or assignment fails\n",
    "* **`EOFError`**: Raised when the input() function hits end-of-file condition\n",
    "* **`ImportError`**: Raised when an imported module does not exist\n",
    "* **`IndexError`**: Raised when the index of a sequence is out of range\n",
    "* **`KeyError`**: Raised when a key does not exist in a dictionary\n",
    "* **`KeyboardInterrupt`**: Raised when the user presses Ctrl+C, Ctrl+Z or Delete\n",
    "* **`MemoryError`**: Raised when a program runs out of memory\n",
    "* **`NameError`**: Raised when a variable does not exist\n",
    "* **`NotImplementedError`**: Raised when an abstract method requires an inherited class to override the method\n",
    "* **`OSError`**: Raised when a system related operation causes an error\n",
    "* **`OverflowError`**: Raised when the result of a numeric calculation is too large to be represented\n",
    "* **`SyntaxError`**: Raised when a syntax error occurs\n",
    "* **`TypeError`**: Raised when two different types are combined\n",
    "* **`ValueError`**: Raised when there is a wrong value in a specified data type\n",
    "* **`ZeroDivisionError`**: Raised when the second operator in a division is zero"
   ]
  },
  {
   "cell_type": "markdown",
   "id": "4459430a",
   "metadata": {
    "papermill": {
     "duration": 0.03787,
     "end_time": "2023-04-01T17:03:52.961020",
     "exception": false,
     "start_time": "2023-04-01T17:03:52.923150",
     "status": "completed"
    },
    "tags": []
   },
   "source": [
    "## Functions\n",
    "---\n",
    "Functions in Python are blocks of code that can be defined using the **`def`** keyword and can be called with a name and parentheses. Functions can take data as **parameters** or **arguments** and can return data as a result. Functions can help to make the code more **readable, reusable** and **modular**.\n",
    "\n",
    "There are two types of functions in Python: **built-in functions** and **user-defined functions**. Built-in functions are standard functions that come with Python, such as **range, id, type**, etc. User-defined functions are functions that you create yourself according to your requirements.\n",
    "\n",
    "There are also different types of arguments that you can pass to a function, such as **default arguments, keyword arguments, positional arguments** and **arbitrary arguments**. These arguments can affect how the function behaves and how the data is processed.\n",
    "\n",
    "* **`Positional arguments`**: These are the arguments that are passed in the same order as they are defined in the function. For example:"
   ]
  },
  {
   "cell_type": "code",
   "execution_count": 89,
   "id": "bc9a104a",
   "metadata": {
    "execution": {
     "iopub.execute_input": "2023-04-01T17:03:53.039588Z",
     "iopub.status.busy": "2023-04-01T17:03:53.038501Z",
     "iopub.status.idle": "2023-04-01T17:03:53.046493Z",
     "shell.execute_reply": "2023-04-01T17:03:53.045155Z"
    },
    "papermill": {
     "duration": 0.051658,
     "end_time": "2023-04-01T17:03:53.050726",
     "exception": false,
     "start_time": "2023-04-01T17:03:52.999068",
     "status": "completed"
    },
    "tags": []
   },
   "outputs": [
    {
     "data": {
      "text/plain": [
       "5"
      ]
     },
     "execution_count": 89,
     "metadata": {},
     "output_type": "execute_result"
    }
   ],
   "source": [
    "def add(a, b):\n",
    "    return a + b\n",
    "\n",
    "add(2, 3) # 2 is assigned to a and 3 is assigned to b"
   ]
  },
  {
   "cell_type": "markdown",
   "id": "c95b3544",
   "metadata": {
    "papermill": {
     "duration": 0.038566,
     "end_time": "2023-04-01T17:03:53.128673",
     "exception": false,
     "start_time": "2023-04-01T17:03:53.090107",
     "status": "completed"
    },
    "tags": []
   },
   "source": [
    "* **`Keyword arguments`**: These are the arguments that are passed by specifying the name of the parameter and the value. The order of the arguments does not matter in this case. For example:"
   ]
  },
  {
   "cell_type": "code",
   "execution_count": 90,
   "id": "36fc496a",
   "metadata": {
    "execution": {
     "iopub.execute_input": "2023-04-01T17:03:53.207300Z",
     "iopub.status.busy": "2023-04-01T17:03:53.206826Z",
     "iopub.status.idle": "2023-04-01T17:03:53.213735Z",
     "shell.execute_reply": "2023-04-01T17:03:53.212101Z"
    },
    "papermill": {
     "duration": 0.050183,
     "end_time": "2023-04-01T17:03:53.217159",
     "exception": false,
     "start_time": "2023-04-01T17:03:53.166976",
     "status": "completed"
    },
    "tags": []
   },
   "outputs": [
    {
     "name": "stdout",
     "output_type": "stream",
     "text": [
      "Hello John, Good morning\n"
     ]
    }
   ],
   "source": [
    "def greet(name, message):\n",
    "    print(f\"Hello {name}, {message}\")\n",
    "\n",
    "greet(message=\"Good morning\", name=\"John\") # name is assigned to John and message is assigned to Good morning, order doesn't matter"
   ]
  },
  {
   "cell_type": "markdown",
   "id": "00f12cbc",
   "metadata": {
    "papermill": {
     "duration": 0.038454,
     "end_time": "2023-04-01T17:03:53.296311",
     "exception": false,
     "start_time": "2023-04-01T17:03:53.257857",
     "status": "completed"
    },
    "tags": []
   },
   "source": [
    "* **`Default arguments`**: These are the arguments that have a default value assigned to them in the function definition. If no value is passed for these arguments, the default value is used. For example:"
   ]
  },
  {
   "cell_type": "code",
   "execution_count": 91,
   "id": "71a0634a",
   "metadata": {
    "execution": {
     "iopub.execute_input": "2023-04-01T17:03:53.376247Z",
     "iopub.status.busy": "2023-04-01T17:03:53.375756Z",
     "iopub.status.idle": "2023-04-01T17:03:53.382567Z",
     "shell.execute_reply": "2023-04-01T17:03:53.381203Z"
    },
    "papermill": {
     "duration": 0.050315,
     "end_time": "2023-04-01T17:03:53.385382",
     "exception": false,
     "start_time": "2023-04-01T17:03:53.335067",
     "status": "completed"
    },
    "tags": []
   },
   "outputs": [
    {
     "name": "stdout",
     "output_type": "stream",
     "text": [
      "8\n",
      "12\n"
     ]
    }
   ],
   "source": [
    "def multiply(a, b=2):\n",
    "    return a * b\n",
    "\n",
    "print(multiply(4))    # b is assigned 2 by default\n",
    "print(multiply(4, 3)) # b is assigned 3"
   ]
  },
  {
   "cell_type": "markdown",
   "id": "fdec2947",
   "metadata": {
    "papermill": {
     "duration": 0.03779,
     "end_time": "2023-04-01T17:03:53.461455",
     "exception": false,
     "start_time": "2023-04-01T17:03:53.423665",
     "status": "completed"
    },
    "tags": []
   },
   "source": [
    "* **`Variable-length arguments`**: These are the arguments that can accept any number of values. They are denoted by an asterisk (`*`) for positional arguments and a double asterisk (`**`) for keyword arguments. For example:"
   ]
  },
  {
   "cell_type": "code",
   "execution_count": 92,
   "id": "0e3fa60f",
   "metadata": {
    "execution": {
     "iopub.execute_input": "2023-04-01T17:03:53.540363Z",
     "iopub.status.busy": "2023-04-01T17:03:53.538898Z",
     "iopub.status.idle": "2023-04-01T17:03:53.546783Z",
     "shell.execute_reply": "2023-04-01T17:03:53.545434Z"
    },
    "papermill": {
     "duration": 0.050003,
     "end_time": "2023-04-01T17:03:53.549475",
     "exception": false,
     "start_time": "2023-04-01T17:03:53.499472",
     "status": "completed"
    },
    "tags": []
   },
   "outputs": [
    {
     "name": "stdout",
     "output_type": "stream",
     "text": [
      "6\n",
      "name: Alice\n",
      "age: 25\n",
      "None\n"
     ]
    }
   ],
   "source": [
    "def sum(*args):\n",
    "    total = 0\n",
    "    for n in args:\n",
    "        total += n\n",
    "    return total\n",
    "\n",
    "print(sum(1, 2, 3)) # args is a tuple of (1, 2, 3)\n",
    "\n",
    "def info(**kwargs):\n",
    "    for key, value in kwargs.items():\n",
    "        print(f\"{key}: {value}\")\n",
    "\n",
    "print(info(name=\"Alice\", age=25)) # kwargs is a dictionary of {\"name\": \"Alice\", \"age\": 25}"
   ]
  },
  {
   "cell_type": "code",
   "execution_count": null,
   "id": "d22fff6a",
   "metadata": {
    "papermill": {
     "duration": 0.038865,
     "end_time": "2023-04-01T17:03:53.627259",
     "exception": false,
     "start_time": "2023-04-01T17:03:53.588394",
     "status": "completed"
    },
    "tags": []
   },
   "outputs": [],
   "source": []
  }
 ],
 "metadata": {
  "kernelspec": {
   "display_name": "Python 3",
   "language": "python",
   "name": "python3"
  },
  "language_info": {
   "codemirror_mode": {
    "name": "ipython",
    "version": 3
   },
   "file_extension": ".py",
   "mimetype": "text/x-python",
   "name": "python",
   "nbconvert_exporter": "python",
   "pygments_lexer": "ipython3",
   "version": "3.7.12"
  },
  "papermill": {
   "default_parameters": {},
   "duration": 28.127499,
   "end_time": "2023-04-01T17:03:54.387658",
   "environment_variables": {},
   "exception": null,
   "input_path": "__notebook__.ipynb",
   "output_path": "__notebook__.ipynb",
   "parameters": {},
   "start_time": "2023-04-01T17:03:26.260159",
   "version": "2.4.0"
  }
 },
 "nbformat": 4,
 "nbformat_minor": 5
}
