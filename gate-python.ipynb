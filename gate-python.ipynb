{
 "cells": [
  {
   "cell_type": "code",
   "execution_count": 1,
   "id": "e1f32530",
   "metadata": {
    "_cell_guid": "b1076dfc-b9ad-4769-8c92-a6c4dae69d19",
    "_uuid": "8f2839f25d086af736a60e9eeb907d3b93b6e0e5",
    "execution": {
     "iopub.execute_input": "2023-04-01T14:16:48.156417Z",
     "iopub.status.busy": "2023-04-01T14:16:48.155918Z",
     "iopub.status.idle": "2023-04-01T14:16:48.170410Z",
     "shell.execute_reply": "2023-04-01T14:16:48.168816Z"
    },
    "papermill": {
     "duration": 0.058986,
     "end_time": "2023-04-01T14:16:48.173490",
     "exception": false,
     "start_time": "2023-04-01T14:16:48.114504",
     "status": "completed"
    },
    "tags": []
   },
   "outputs": [],
   "source": [
    "# This Python 3 environment comes with many helpful analytics libraries installed\n",
    "# It is defined by the kaggle/python Docker image: https://github.com/kaggle/docker-python\n",
    "# For example, here's several helpful packages to load\n",
    "\n",
    "import numpy as np # linear algebra\n",
    "import pandas as pd # data processing, CSV file I/O (e.g. pd.read_csv)\n",
    "\n",
    "# Input data files are available in the read-only \"../input/\" directory\n",
    "# For example, running this (by clicking run or pressing Shift+Enter) will list all files under the input directory\n",
    "\n",
    "import os\n",
    "for dirname, _, filenames in os.walk('/kaggle/input'):\n",
    "    for filename in filenames:\n",
    "        print(os.path.join(dirname, filename))\n",
    "\n",
    "# You can write up to 20GB to the current directory (/kaggle/working/) that gets preserved as output when you create a version using \"Save & Run All\" \n",
    "# You can also write temporary files to /kaggle/temp/, but they won't be saved outside of the current session"
   ]
  },
  {
   "cell_type": "markdown",
   "id": "675fc20b",
   "metadata": {
    "papermill": {
     "duration": 0.031519,
     "end_time": "2023-04-01T14:16:48.237475",
     "exception": false,
     "start_time": "2023-04-01T14:16:48.205956",
     "status": "completed"
    },
    "tags": []
   },
   "source": [
    "---\n",
    "# <center>PROGRAMMING FUNDAMENTALS</center>\n",
    "---"
   ]
  },
  {
   "cell_type": "markdown",
   "id": "e2b7367e",
   "metadata": {
    "papermill": {
     "duration": 0.033066,
     "end_time": "2023-04-01T14:16:48.304034",
     "exception": false,
     "start_time": "2023-04-01T14:16:48.270968",
     "status": "completed"
    },
    "tags": []
   },
   "source": [
    "## What is Python?\n",
    "---\n",
    "Python is a popular programming language that was created by `Guido van Rossum` and released in `1991`. It is used for various purposes such as web development, software development, mathematics, data science, machine learning and system scripting. Python has a simple and readable syntax that resembles the English language. It also supports multiple programming paradigms such as object-oriented, procedural and functional. Python runs on an interpreter system, which means that code can be executed as soon as it is written. Python works on different platforms such as Windows, Mac, Linux and Raspberry Pi."
   ]
  },
  {
   "cell_type": "markdown",
   "id": "0d106f2d",
   "metadata": {
    "papermill": {
     "duration": 0.031922,
     "end_time": "2023-04-01T14:16:48.368378",
     "exception": false,
     "start_time": "2023-04-01T14:16:48.336456",
     "status": "completed"
    },
    "tags": []
   },
   "source": [
    "## What can Python do?\n",
    "---\n",
    "* Python can be used to perform data science and machine learning tasks.\n",
    "* Python can be used on a server to create web applications. \n",
    "* Python can be used alongside software to create workflows.\n",
    "* Python can be used to connect to database systems. It can also read and modify files.\n",
    "* Python can be used to handle big data and perform complex mathematics.\n",
    "* Python can be used for rapid prototyping, or for production-ready software development."
   ]
  },
  {
   "cell_type": "markdown",
   "id": "2e3814d0",
   "metadata": {
    "papermill": {
     "duration": 0.032437,
     "end_time": "2023-04-01T14:16:48.433056",
     "exception": false,
     "start_time": "2023-04-01T14:16:48.400619",
     "status": "completed"
    },
    "tags": []
   },
   "source": [
    "## Why Python?\n",
    "---\n",
    "* Python works on different platforms (Windows, Mac, Linux, Raspberry Pi, etc).\n",
    "* Python has a simple syntax similar to the English language.\n",
    "* Python has syntax that allows developers to write programs with fewer lines than some other programming languages.\n",
    "* Python runs on an interpreter system, meaning that code can be executed as soon as it is written. This means that prototyping can be very quick.\n",
    "* Python can be treated in a procedural way, an object-oriented way or a functional way."
   ]
  },
  {
   "cell_type": "markdown",
   "id": "071f7e17",
   "metadata": {
    "papermill": {
     "duration": 0.034145,
     "end_time": "2023-04-01T14:16:48.498829",
     "exception": false,
     "start_time": "2023-04-01T14:16:48.464684",
     "status": "completed"
    },
    "tags": []
   },
   "source": [
    "## Python Syntax compared to other programming languages?\n",
    "---\n",
    "* Python was designed for readability, and has some similarities to the English language with influence from mathematics.\n",
    "* Python uses new lines to complete a command, as opposed to other programming languages which often use semicolons or parentheses.\n",
    "* Python relies on indentation, using whitespace, to define scope; such as the scope of loops, functions and classes. Other programming languages often use curly-brackets for this purpose."
   ]
  },
  {
   "cell_type": "markdown",
   "id": "851ab9d5",
   "metadata": {
    "papermill": {
     "duration": 0.032374,
     "end_time": "2023-04-01T14:16:48.563839",
     "exception": false,
     "start_time": "2023-04-01T14:16:48.531465",
     "status": "completed"
    },
    "tags": []
   },
   "source": [
    "## Built-in Data Types\n",
    "---\n",
    "In programming, data type is an important concept.Variables can store data of different types, and different types can do different things.\n",
    "\n",
    "Python has the following data types built-in by default, in these categories:\n",
    "\n",
    "* Text Type:\t`str`\n",
    "* Numeric Types:\t`int, float, complex`\n",
    "* Sequence Types:\t`list, tuple, range`\n",
    "* Mapping Type:\t`dict`\n",
    "* Set Types:\t`set, frozenset`\n",
    "* Boolean Type:\t`bool`\n",
    "* Binary Types:\t`bytes, bytearray, memoryview`\n",
    "* None Type:\t`NoneType`"
   ]
  },
  {
   "cell_type": "markdown",
   "id": "ebfdbde3",
   "metadata": {
    "papermill": {
     "duration": 0.031472,
     "end_time": "2023-04-01T14:16:48.627816",
     "exception": false,
     "start_time": "2023-04-01T14:16:48.596344",
     "status": "completed"
    },
    "tags": []
   },
   "source": [
    "### a. Getting the Data Type\n",
    "You can get the data type of any object by using the `type()` function:\n",
    "\n",
    "### b. Setting the Data Type \n",
    "In Python, the data type is set when you assign a value to a variable:"
   ]
  },
  {
   "cell_type": "code",
   "execution_count": 2,
   "id": "ad7bb5db",
   "metadata": {
    "execution": {
     "iopub.execute_input": "2023-04-01T14:16:48.695002Z",
     "iopub.status.busy": "2023-04-01T14:16:48.694018Z",
     "iopub.status.idle": "2023-04-01T14:16:48.700914Z",
     "shell.execute_reply": "2023-04-01T14:16:48.699836Z"
    },
    "papermill": {
     "duration": 0.04418,
     "end_time": "2023-04-01T14:16:48.703676",
     "exception": false,
     "start_time": "2023-04-01T14:16:48.659496",
     "status": "completed"
    },
    "tags": []
   },
   "outputs": [
    {
     "name": "stdout",
     "output_type": "stream",
     "text": [
      "Text Type\n",
      "<class 'str'>\n"
     ]
    }
   ],
   "source": [
    "### Text Type ###\n",
    "print(\"Text Type\")\n",
    "\n",
    "# str\n",
    "x = \"Hello World\"\n",
    "x = str(\"Hello World\")\n",
    "print(type(x))"
   ]
  },
  {
   "cell_type": "code",
   "execution_count": 3,
   "id": "9d594617",
   "metadata": {
    "execution": {
     "iopub.execute_input": "2023-04-01T14:16:48.774612Z",
     "iopub.status.busy": "2023-04-01T14:16:48.773671Z",
     "iopub.status.idle": "2023-04-01T14:16:48.782500Z",
     "shell.execute_reply": "2023-04-01T14:16:48.780518Z"
    },
    "papermill": {
     "duration": 0.047631,
     "end_time": "2023-04-01T14:16:48.785674",
     "exception": false,
     "start_time": "2023-04-01T14:16:48.738043",
     "status": "completed"
    },
    "tags": []
   },
   "outputs": [
    {
     "name": "stdout",
     "output_type": "stream",
     "text": [
      "\n",
      "Numeric Type\n",
      "<class 'int'>\n",
      "<class 'float'>\n",
      "<class 'complex'>\n"
     ]
    }
   ],
   "source": [
    "### Numeric Type ##\n",
    "print(\"\\nNumeric Type\")\n",
    "\n",
    "# int\n",
    "x = 5\n",
    "x = int(5)\n",
    "print(type(x))\n",
    "\n",
    "# float\n",
    "x = 5.0\n",
    "x = float(5.0)\n",
    "print(type(x))\n",
    "\n",
    "# complex\n",
    "x = 5 + 4j\n",
    "x = complex(5 + 4j)\n",
    "print(type(x))"
   ]
  },
  {
   "cell_type": "code",
   "execution_count": 4,
   "id": "18227437",
   "metadata": {
    "execution": {
     "iopub.execute_input": "2023-04-01T14:16:48.855541Z",
     "iopub.status.busy": "2023-04-01T14:16:48.853840Z",
     "iopub.status.idle": "2023-04-01T14:16:48.862420Z",
     "shell.execute_reply": "2023-04-01T14:16:48.861276Z"
    },
    "papermill": {
     "duration": 0.048171,
     "end_time": "2023-04-01T14:16:48.866870",
     "exception": false,
     "start_time": "2023-04-01T14:16:48.818699",
     "status": "completed"
    },
    "tags": []
   },
   "outputs": [
    {
     "name": "stdout",
     "output_type": "stream",
     "text": [
      "\n",
      "Sequence Type\n",
      "<class 'list'>\n",
      "<class 'tuple'>\n",
      "<class 'range'>\n"
     ]
    }
   ],
   "source": [
    "### Sequence Type ###\n",
    "print(\"\\nSequence Type\")\n",
    "\n",
    "# list\n",
    "x = [\"apple\", \"banana\", \"cherry\"]\n",
    "x = list([\"apple\", \"banana\", \"cherry\"])\n",
    "print(type(x))\n",
    "\n",
    "# tuple\n",
    "x = (\"apple\", \"banana\", \"cherry\")\n",
    "x = tuple((\"apple\", \"banana\", \"cherry\"))\n",
    "print(type(x))\n",
    "\n",
    "# range\n",
    "x = range(5)\n",
    "print(type(x))"
   ]
  },
  {
   "cell_type": "code",
   "execution_count": 5,
   "id": "c2ad2362",
   "metadata": {
    "execution": {
     "iopub.execute_input": "2023-04-01T14:16:48.936734Z",
     "iopub.status.busy": "2023-04-01T14:16:48.935286Z",
     "iopub.status.idle": "2023-04-01T14:16:48.944542Z",
     "shell.execute_reply": "2023-04-01T14:16:48.942625Z"
    },
    "papermill": {
     "duration": 0.046437,
     "end_time": "2023-04-01T14:16:48.947822",
     "exception": false,
     "start_time": "2023-04-01T14:16:48.901385",
     "status": "completed"
    },
    "tags": []
   },
   "outputs": [
    {
     "name": "stdout",
     "output_type": "stream",
     "text": [
      "\n",
      "Mapping Type\n",
      "<class 'dict'>\n"
     ]
    }
   ],
   "source": [
    "### Mapping Type ###\n",
    "print(\"\\nMapping Type\")\n",
    "\n",
    "# dict\n",
    "x = {\"name\" : \"Subrata Mondal\", \"age\" : 23}\n",
    "x = dict(name = \"Subrata Mondal\", age = 23)\n",
    "print(type(x))"
   ]
  },
  {
   "cell_type": "code",
   "execution_count": 6,
   "id": "e17d1c9d",
   "metadata": {
    "execution": {
     "iopub.execute_input": "2023-04-01T14:16:49.016882Z",
     "iopub.status.busy": "2023-04-01T14:16:49.016375Z",
     "iopub.status.idle": "2023-04-01T14:16:49.024506Z",
     "shell.execute_reply": "2023-04-01T14:16:49.022809Z"
    },
    "papermill": {
     "duration": 0.048129,
     "end_time": "2023-04-01T14:16:49.028181",
     "exception": false,
     "start_time": "2023-04-01T14:16:48.980052",
     "status": "completed"
    },
    "tags": []
   },
   "outputs": [
    {
     "name": "stdout",
     "output_type": "stream",
     "text": [
      "\n",
      "Set Type\n",
      "<class 'set'>\n",
      "<class 'frozenset'>\n"
     ]
    }
   ],
   "source": [
    "### Set Type ###\n",
    "print(\"\\nSet Type\")\n",
    "\n",
    "# set \n",
    "x = {\"apple\", \"banana\", \"cherry\"}\n",
    "x = set({\"apple\", \"banana\", \"cherry\"})\n",
    "print(type(x))\n",
    "\n",
    "# frozenset \n",
    "x = frozenset({\"apple\", \"banana\", \"cherry\"})\n",
    "print(type(x))"
   ]
  },
  {
   "cell_type": "code",
   "execution_count": 7,
   "id": "132577a4",
   "metadata": {
    "execution": {
     "iopub.execute_input": "2023-04-01T14:16:49.097219Z",
     "iopub.status.busy": "2023-04-01T14:16:49.096699Z",
     "iopub.status.idle": "2023-04-01T14:16:49.104388Z",
     "shell.execute_reply": "2023-04-01T14:16:49.102726Z"
    },
    "papermill": {
     "duration": 0.046145,
     "end_time": "2023-04-01T14:16:49.107733",
     "exception": false,
     "start_time": "2023-04-01T14:16:49.061588",
     "status": "completed"
    },
    "tags": []
   },
   "outputs": [
    {
     "name": "stdout",
     "output_type": "stream",
     "text": [
      "\n",
      "Boolean Type\n",
      "<class 'bool'>\n"
     ]
    }
   ],
   "source": [
    "### Boolean Type ###\n",
    "print(\"\\nBoolean Type\")\n",
    "\n",
    "# bool\n",
    "x = True\n",
    "print(type(x))"
   ]
  },
  {
   "cell_type": "code",
   "execution_count": 8,
   "id": "f8c1a13d",
   "metadata": {
    "execution": {
     "iopub.execute_input": "2023-04-01T14:16:49.177057Z",
     "iopub.status.busy": "2023-04-01T14:16:49.176524Z",
     "iopub.status.idle": "2023-04-01T14:16:49.185868Z",
     "shell.execute_reply": "2023-04-01T14:16:49.184253Z"
    },
    "papermill": {
     "duration": 0.048954,
     "end_time": "2023-04-01T14:16:49.189302",
     "exception": false,
     "start_time": "2023-04-01T14:16:49.140348",
     "status": "completed"
    },
    "tags": []
   },
   "outputs": [
    {
     "name": "stdout",
     "output_type": "stream",
     "text": [
      "\n",
      "Binary Type\n",
      "<class 'bytes'>\n",
      "<class 'bytearray'>\n",
      "<class 'memoryview'>\n"
     ]
    }
   ],
   "source": [
    "### Binary Type ###\n",
    "print(\"\\nBinary Type\")\n",
    "\n",
    "# binary\n",
    "x = b\"Subrata Mondal\"\n",
    "x = bytes(b\"Subrata Mondal\")\n",
    "print(type(x))\n",
    "\n",
    "# bytearray\n",
    "x = bytearray(5)\n",
    "print(type(x))\n",
    "\n",
    "# memoryview\n",
    "x = memoryview(bytearray(5))\n",
    "print(type(x))"
   ]
  },
  {
   "cell_type": "code",
   "execution_count": 9,
   "id": "41e9f44f",
   "metadata": {
    "execution": {
     "iopub.execute_input": "2023-04-01T14:16:49.260853Z",
     "iopub.status.busy": "2023-04-01T14:16:49.260369Z",
     "iopub.status.idle": "2023-04-01T14:16:49.267613Z",
     "shell.execute_reply": "2023-04-01T14:16:49.266063Z"
    },
    "papermill": {
     "duration": 0.048362,
     "end_time": "2023-04-01T14:16:49.272252",
     "exception": false,
     "start_time": "2023-04-01T14:16:49.223890",
     "status": "completed"
    },
    "tags": []
   },
   "outputs": [
    {
     "name": "stdout",
     "output_type": "stream",
     "text": [
      "\n",
      "NoneType Type\n",
      "<class 'NoneType'>\n"
     ]
    }
   ],
   "source": [
    "### NoneType Type ###\n",
    "print(\"\\nNoneType Type\")\n",
    "\n",
    "# none type\n",
    "x = None\n",
    "print(type(x))"
   ]
  },
  {
   "cell_type": "markdown",
   "id": "889c9faf",
   "metadata": {
    "papermill": {
     "duration": 0.033363,
     "end_time": "2023-04-01T14:16:49.340751",
     "exception": false,
     "start_time": "2023-04-01T14:16:49.307388",
     "status": "completed"
    },
    "tags": []
   },
   "source": [
    "## What are Comments in Python?\n",
    "---\n",
    "Comments in Python are programmer-readable explanations or annotations in the Python source code. They are added with the purpose of making the source code easier for humans to understand, and are ignored by the Python interpreter.\n",
    "\n",
    "Comments can be used to:\n",
    "\n",
    "* Explain what a certain line or block of code does\n",
    "* Make the code more readable and organized\n",
    "* Prevent execution of some code when testing or debugging\n",
    "* Document a specific class, module, function or method\n",
    "* Comments in Python start with a hash symbol (#) and extend to the end of the line.\n",
    "\n",
    "`Note:` Use comment only if it adds value to the line of code i.e it helps to understand the line of code"
   ]
  },
  {
   "cell_type": "code",
   "execution_count": 10,
   "id": "774399e6",
   "metadata": {
    "execution": {
     "iopub.execute_input": "2023-04-01T14:16:49.410010Z",
     "iopub.status.busy": "2023-04-01T14:16:49.409530Z",
     "iopub.status.idle": "2023-04-01T14:16:49.416609Z",
     "shell.execute_reply": "2023-04-01T14:16:49.415240Z"
    },
    "papermill": {
     "duration": 0.047178,
     "end_time": "2023-04-01T14:16:49.420071",
     "exception": false,
     "start_time": "2023-04-01T14:16:49.372893",
     "status": "completed"
    },
    "tags": []
   },
   "outputs": [
    {
     "name": "stdout",
     "output_type": "stream",
     "text": [
      "Hello, world!\n"
     ]
    }
   ],
   "source": [
    "# This is a comment (unnecessary comment)\n",
    "print(\"Hello, world!\") # This is also a comment (unnecessary comment)"
   ]
  },
  {
   "cell_type": "markdown",
   "id": "381d3015",
   "metadata": {
    "papermill": {
     "duration": 0.033581,
     "end_time": "2023-04-01T14:16:49.487684",
     "exception": false,
     "start_time": "2023-04-01T14:16:49.454103",
     "status": "completed"
    },
    "tags": []
   },
   "source": [
    "Python does not have a syntax for multiline comments. To add a multiline comment, you can either insert a `#` for each line, or use a multiline string (triple quotes) that is not assigned to a variable. For example:"
   ]
  },
  {
   "cell_type": "code",
   "execution_count": 11,
   "id": "9b818f94",
   "metadata": {
    "execution": {
     "iopub.execute_input": "2023-04-01T14:16:49.557518Z",
     "iopub.status.busy": "2023-04-01T14:16:49.556985Z",
     "iopub.status.idle": "2023-04-01T14:16:49.564712Z",
     "shell.execute_reply": "2023-04-01T14:16:49.562957Z"
    },
    "papermill": {
     "duration": 0.046484,
     "end_time": "2023-04-01T14:16:49.568216",
     "exception": false,
     "start_time": "2023-04-01T14:16:49.521732",
     "status": "completed"
    },
    "tags": []
   },
   "outputs": [
    {
     "name": "stdout",
     "output_type": "stream",
     "text": [
      "Hello, world!\n",
      "Hello, world!\n"
     ]
    }
   ],
   "source": [
    "# This is a \n",
    "# multiline comment\n",
    "print(\"Hello, world!\")\n",
    "\n",
    "\"\"\"\n",
    "This is also \n",
    "a multiline comment\n",
    "\"\"\"\n",
    "print(\"Hello, world!\")"
   ]
  },
  {
   "cell_type": "markdown",
   "id": "c48e8a9a",
   "metadata": {
    "papermill": {
     "duration": 0.034343,
     "end_time": "2023-04-01T14:16:49.636977",
     "exception": false,
     "start_time": "2023-04-01T14:16:49.602634",
     "status": "completed"
    },
    "tags": []
   },
   "source": [
    "## The print() function in Python?\n",
    "---\n",
    "The `print()` function in Python is used to print the specified message or object to the standard output device (screen) or to a text stream file. The print() function can take one or more arguments that are separated by commas. The arguments can be of any data type, such as strings, numbers, lists, tuples, dictionaries, etc. The print() function will convert any non-string argument into a string before printing it.\n",
    "\n",
    "The syntax of the `print()` function is:\n",
    "```python\n",
    "print(object(s), sep=separator, end=end, file=file, flush=flush)\n",
    "```\n",
    "\n",
    "The parameters of the `print()` function are:\n",
    "\n",
    "* `object(s):` Any object or objects like str,int,tuple,etc that you want to print. If there are multiple objects, they will be separated by spaces by default.\n",
    "* `sep:` An optional parameter that specifies how to separate multiple objects. The default value is `’ ’` (a space).\n",
    "* `end:` An optional parameter that specifies what to print at the end of the line. The default value is `‘\\n’` (a newline character).\n",
    "* `file:` An optional parameter that specifies where to write the output. The default value is `sys.stdout` (the standard output device).\n",
    "* `flush:` An optional parameter that specifies whether to flush the output buffer or not. The default value is `False`.\n",
    "\n",
    "Some examples of using the print () function are:"
   ]
  },
  {
   "cell_type": "code",
   "execution_count": 12,
   "id": "1fc1b232",
   "metadata": {
    "execution": {
     "iopub.execute_input": "2023-04-01T14:16:49.707949Z",
     "iopub.status.busy": "2023-04-01T14:16:49.707475Z",
     "iopub.status.idle": "2023-04-01T14:16:49.717614Z",
     "shell.execute_reply": "2023-04-01T14:16:49.715514Z"
    },
    "papermill": {
     "duration": 0.04962,
     "end_time": "2023-04-01T14:16:49.721004",
     "exception": false,
     "start_time": "2023-04-01T14:16:49.671384",
     "status": "completed"
    },
    "tags": []
   },
   "outputs": [
    {
     "name": "stdout",
     "output_type": "stream",
     "text": [
      "Hello, world!\n",
      "The answer is 42\n",
      "Python--->is--->fun\n",
      "Hello world\n"
     ]
    }
   ],
   "source": [
    "# Printing a string\n",
    "print(\"Hello, world!\")\n",
    "\n",
    "# Printing multiple objects\n",
    "print(\"The answer is\", 42)\n",
    "\n",
    "# Printing with a custom separator\n",
    "print(\"Python\", \"is\", \"fun\", sep=\"--->\")\n",
    "\n",
    "# Printing with a custom end\n",
    "print(\"Hello\", end=\" \")\n",
    "print(\"world\")\n",
    "\n",
    "# Printing to a file\n",
    "with open(\"output.txt\", \"w\") as f:\n",
    "    print(\"This is written to a file\", file=f)"
   ]
  },
  {
   "cell_type": "markdown",
   "id": "6ee39c87",
   "metadata": {
    "papermill": {
     "duration": 0.033652,
     "end_time": "2023-04-01T14:16:49.789627",
     "exception": false,
     "start_time": "2023-04-01T14:16:49.755975",
     "status": "completed"
    },
    "tags": []
   },
   "source": [
    "### Explain flush in python's print function\n",
    "```python\n",
    "print(object(s), flush=False)\n",
    "```\n",
    "\n",
    "The flush parameter of the print() function is used to control whether the output is buffered or not. By default, the print () function will buffer the output data until a newline character (`\\n`) is encountered or the buffer is full. This can improve the performance of writing data to a file or a device, but it can also cause delays or inconsistencies in displaying the output.\n",
    "\n",
    "```python\n",
    "print(object(s), flush=True)\n",
    "```\n",
    "\n",
    "If you set `flush=True` in the print() function, then it will force the output data to be written immediately without buffering. This can be useful when you want to see the output as soon as possible, such as when debugging, logging, monitoring, or creating interactive user interfaces."
   ]
  },
  {
   "cell_type": "markdown",
   "id": "43efea2c",
   "metadata": {
    "papermill": {
     "duration": 0.032803,
     "end_time": "2023-04-01T14:16:49.866264",
     "exception": false,
     "start_time": "2023-04-01T14:16:49.833461",
     "status": "completed"
    },
    "tags": []
   },
   "source": [
    "### What is buffering?\n",
    "Buffering is the process of storing data temporarily in a memory area called a `buffer`. Buffering can be used for various purposes, such as:\n",
    "\n",
    "* Improving the performance of data transfer between different devices or processes by reducing the number of system calls or disk operations\n",
    "* Adjusting the speed or size differences between data sources and destinations by accumulating data until it is ready to be processed or sent\n",
    "* Manipulating or transforming data before sending or receiving it by applying filters, encodings, compressions, etc.\n",
    "* Supporting copy semantics by keeping a copy of data that may change or disappear during transmission\n",
    "* Preventing data loss or corruption by holding data until it is safely delivered or verified\n",
    "\n",
    "Python provides two built-in functions for creating buffer objects: `buffer() and memoryview()`. "
   ]
  },
  {
   "cell_type": "code",
   "execution_count": 13,
   "id": "cfaae43f",
   "metadata": {
    "execution": {
     "iopub.execute_input": "2023-04-01T14:16:49.934472Z",
     "iopub.status.busy": "2023-04-01T14:16:49.933786Z",
     "iopub.status.idle": "2023-04-01T14:16:53.950310Z",
     "shell.execute_reply": "2023-04-01T14:16:53.947462Z"
    },
    "papermill": {
     "duration": 4.055303,
     "end_time": "2023-04-01T14:16:53.953678",
     "exception": false,
     "start_time": "2023-04-01T14:16:49.898375",
     "status": "completed"
    },
    "tags": []
   },
   "outputs": [
    {
     "name": "stdout",
     "output_type": "stream",
     "text": [
      "Hello 1 world 1\n",
      "Hello 2 world 2\n"
     ]
    }
   ],
   "source": [
    "# Printing with default flush=False\n",
    "import time\n",
    "print(\"Hello 1\", end=\" \")\n",
    "time.sleep(2) # Wait for 5 seconds\n",
    "print(\"world 1\") # The output will appear after 5 seconds\n",
    "\n",
    "# Printing with flush=True\n",
    "import time\n",
    "print(\"Hello 2\", end=\" \", flush=True) # The output will appear immediately\n",
    "time.sleep(2) # Wait for 5 seconds\n",
    "print(\"world 2\") # The output will appear after 5 seconds"
   ]
  },
  {
   "cell_type": "markdown",
   "id": "0cef0e33",
   "metadata": {
    "papermill": {
     "duration": 0.033597,
     "end_time": "2023-04-01T14:16:54.020658",
     "exception": false,
     "start_time": "2023-04-01T14:16:53.987061",
     "status": "completed"
    },
    "tags": []
   },
   "source": [
    "### Drawbacks of flushing the output too often?\n",
    "* It can `reduce the performance` of writing data to a file or a device, since it requires more system calls and disk operations than buffering data and writing it in chunks.\n",
    "* It can `cause unwanted side effects or errors` if the output stream is shared by multiple processes or threads, since flushing can interfere with their synchronization or locking mechanisms.\n",
    "* It can `make the output less readable or consistent` if it is mixed with other output streams that are not flushed at the same time, such as logging messages, error messages, or user input prompts."
   ]
  },
  {
   "cell_type": "markdown",
   "id": "76e66081",
   "metadata": {
    "papermill": {
     "duration": 0.033621,
     "end_time": "2023-04-01T14:16:54.086919",
     "exception": false,
     "start_time": "2023-04-01T14:16:54.053298",
     "status": "completed"
    },
    "tags": []
   },
   "source": [
    "## What are Variables in Python?\n",
    "---\n",
    "Variables in Python are **containers for storing data values**. They are **created when you assign a value to them**. They do not need to be declared with any particular type, and can even **change type after they have been set**. You can use the `type()` function to get the data type of a variable. Variable names are **case-sensitive** and must follow some rules.\n",
    "\n",
    "`Note:` Python has no command for declaring a variable. A variable is created the moment you first assign a value to it.\n",
    "\n",
    "**Some rules for variable names in Python are:**\n",
    "\n",
    "* A variable name must start with a letter or the underscore character\n",
    "* A variable name cannot start with a number\n",
    "* A variable name can only contain alpha-numeric characters and underscores (A-z, 0-9, and _ )\n",
    "* Variable names are case-sensitive (age, Age and AGE are three different variables)\n",
    "* A variable name cannot be any of the Python keywords"
   ]
  },
  {
   "cell_type": "code",
   "execution_count": 14,
   "id": "2d0f6a1c",
   "metadata": {
    "execution": {
     "iopub.execute_input": "2023-04-01T14:16:54.158145Z",
     "iopub.status.busy": "2023-04-01T14:16:54.157670Z",
     "iopub.status.idle": "2023-04-01T14:16:54.165445Z",
     "shell.execute_reply": "2023-04-01T14:16:54.164035Z"
    },
    "papermill": {
     "duration": 0.047989,
     "end_time": "2023-04-01T14:16:54.168813",
     "exception": false,
     "start_time": "2023-04-01T14:16:54.120824",
     "status": "completed"
    },
    "tags": []
   },
   "outputs": [
    {
     "name": "stdout",
     "output_type": "stream",
     "text": [
      "\n",
      "old_pet: dog ; new_pet: dog\n",
      "\n",
      "old_pet: cat ; new_pet: dog\n",
      "\n",
      "old_pet: cat ; new_pet: cow\n"
     ]
    }
   ],
   "source": [
    "old_pet = \"dog\" \n",
    "new_pet = old_pet # assign old_pet to new_pet\n",
    "print(\"\\nold_pet:\",old_pet,\"; new_pet:\",new_pet)\n",
    "\n",
    "old_pet = \"cat\"   # changing the old_pet to cat doesn't affect the value in new_pet i.e it's retaining the first assigned value\n",
    "print(\"\\nold_pet:\",old_pet,\"; new_pet:\",new_pet)\n",
    "\n",
    "new_pet = \"cow\"   # changing the new_pet to cow doesn't affect the value in old_pet\n",
    "print(\"\\nold_pet:\",old_pet,\"; new_pet:\",new_pet)"
   ]
  },
  {
   "cell_type": "markdown",
   "id": "5a86f1d4",
   "metadata": {
    "papermill": {
     "duration": 0.033788,
     "end_time": "2023-04-01T14:16:54.237778",
     "exception": false,
     "start_time": "2023-04-01T14:16:54.203990",
     "status": "completed"
    },
    "tags": []
   },
   "source": [
    "## What are Console Inputs in Python?\n",
    "---\n",
    "```python\n",
    "input()\n",
    "```\n",
    "Console input in Python is a way of getting data from the user through the command line interpreter. You can use the `input()` function to take **input from the console as a string**. You can also typecast the input to different data types such as int, float or str by using `int(), float() or str()` functions respectively. You can access the command line arguments passed to your script using `sys.argv` list."
   ]
  },
  {
   "cell_type": "code",
   "execution_count": 15,
   "id": "b2553461",
   "metadata": {
    "execution": {
     "iopub.execute_input": "2023-04-01T14:16:54.307011Z",
     "iopub.status.busy": "2023-04-01T14:16:54.306531Z",
     "iopub.status.idle": "2023-04-01T14:16:54.317293Z",
     "shell.execute_reply": "2023-04-01T14:16:54.315368Z"
    },
    "papermill": {
     "duration": 0.048008,
     "end_time": "2023-04-01T14:16:54.320044",
     "exception": false,
     "start_time": "2023-04-01T14:16:54.272036",
     "status": "completed"
    },
    "tags": []
   },
   "outputs": [
    {
     "data": {
      "text/plain": [
       "'\\ninput(\"Press Enter to begin!\")\\nname = input(\"Enter your name: \")\\nage = input(f\"What is your age, {name}\")\\nprint(f\"So, your age is {age}\")\\n'"
      ]
     },
     "execution_count": 15,
     "metadata": {},
     "output_type": "execute_result"
    }
   ],
   "source": [
    "'''\n",
    "input(\"Press Enter to begin!\")\n",
    "name = input(\"Enter your name: \")\n",
    "age = input(f\"What is your age, {name}\")\n",
    "print(f\"So, your age is {age}\")\n",
    "'''"
   ]
  },
  {
   "cell_type": "markdown",
   "id": "7b84fda6",
   "metadata": {
    "papermill": {
     "duration": 0.033771,
     "end_time": "2023-04-01T14:16:54.386738",
     "exception": false,
     "start_time": "2023-04-01T14:16:54.352967",
     "status": "completed"
    },
    "tags": []
   },
   "source": [
    "## What are Command Line Arguments in Python?\n",
    "---\n",
    "Command line arguments in Python are the parameters provided to the script while executing it. They are used to pass some information to the program that can modify its behavior."
   ]
  },
  {
   "cell_type": "code",
   "execution_count": 16,
   "id": "8afc9b2c",
   "metadata": {
    "execution": {
     "iopub.execute_input": "2023-04-01T14:16:54.478895Z",
     "iopub.status.busy": "2023-04-01T14:16:54.478257Z",
     "iopub.status.idle": "2023-04-01T14:16:54.488567Z",
     "shell.execute_reply": "2023-04-01T14:16:54.486132Z"
    },
    "papermill": {
     "duration": 0.062829,
     "end_time": "2023-04-01T14:16:54.491916",
     "exception": false,
     "start_time": "2023-04-01T14:16:54.429087",
     "status": "completed"
    },
    "tags": []
   },
   "outputs": [
    {
     "name": "stdout",
     "output_type": "stream",
     "text": [
      "The name of this script is: /opt/conda/lib/python3.7/site-packages/ipykernel_launcher.py\n",
      "The number of arguments passed to this script is: 3\n",
      "The arguments are:\n",
      "/opt/conda/lib/python3.7/site-packages/ipykernel_launcher.py\n",
      "-f\n",
      "/tmp/tmpykfkyw47.json\n",
      "--HistoryManager.hist_file=:memory:\n"
     ]
    }
   ],
   "source": [
    "# This script prints the name of the script and all the arguments passed to it\n",
    "import sys\n",
    "\n",
    "print(\"The name of this script is:\", sys.argv[0])\n",
    "\n",
    "print(\"The number of arguments passed to this script is:\", len(sys.argv) - 1)\n",
    "\n",
    "print(\"The arguments are:\")\n",
    "for arg in sys.argv:\n",
    "    print(arg)"
   ]
  },
  {
   "cell_type": "markdown",
   "id": "c44bbca2",
   "metadata": {
    "papermill": {
     "duration": 0.034243,
     "end_time": "2023-04-01T14:16:54.566076",
     "exception": false,
     "start_time": "2023-04-01T14:16:54.531833",
     "status": "completed"
    },
    "tags": []
   },
   "source": [
    "## Operators\n",
    "---\n",
    "Operators in Python are `special symbols` that are used to perform operations on values and variables. They can be classified into different types based on their functionality and precedence. Some of the common types of operators in Python are:\n",
    "\n",
    "1. **Arithmetic operators:** These are used to perform basic mathematical operations like `addition, subtraction, multiplication, division, modulus, exponentiation and floor division`. For example: `x + y, x - y, x * y, x / y, x % y, x ** y, x // y`.\n",
    "2. **Assignment operators:** These are used to assign values to variables. They can also be combined with other operators to perform an operation and assign the result to a variable in one step. For example: `x = 5, x += 3, x -= 3, x *= 3, x /= 3`, etc.\n",
    "3. **Comparison operators:** These are used to compare two values and `return a boolean value (True or False)` based on the result of the comparison. They can be used for `equality, inequality, greater than, less than, greater than or equal to, less than or equal to comparisons`. For example: `x == y, x != y, x > y, x < y, x >= y, x <= y`.\n",
    "4. **Logical operators:** These are used to combine two or more boolean expressions and return a boolean value based on the logic applied. They can be used for `logical AND, OR and NOT operations`. For example: `x and y, x or y, not x`.\n",
    "5. **Identity operators:** These are `used to compare two objects and check if they are the same object with the same memory location`. They can be used for identity testing with `is` and `is not` keywords. For example: `x is y`, `x is not y`.\n",
    "6. **Membership operators:** These are `used to test if a value or a variable is present in a sequence` (such as a `string, list, tuple, dictionary or set`). They can be `used for membership testing` with `in` and `not in` keywords. For example: `x in y, x not in y`.\n",
    "7. **Bitwise operators:** These are `used to perform bitwise operations on binary numbers` (represented as integers). They can be used for `bitwise AND, OR, XOR, NOT, left shift and right shift operations`. For example: `x & y, x | y, x ^y, ~ x, x << n, x >> n`.\n"
   ]
  },
  {
   "cell_type": "code",
   "execution_count": 17,
   "id": "a6331550",
   "metadata": {
    "execution": {
     "iopub.execute_input": "2023-04-01T14:16:54.636788Z",
     "iopub.status.busy": "2023-04-01T14:16:54.636301Z",
     "iopub.status.idle": "2023-04-01T14:16:54.646105Z",
     "shell.execute_reply": "2023-04-01T14:16:54.644613Z"
    },
    "papermill": {
     "duration": 0.048555,
     "end_time": "2023-04-01T14:16:54.649228",
     "exception": false,
     "start_time": "2023-04-01T14:16:54.600673",
     "status": "completed"
    },
    "tags": []
   },
   "outputs": [
    {
     "name": "stdout",
     "output_type": "stream",
     "text": [
      "15 <class 'int'>\n",
      "15.0 <class 'float'>\n"
     ]
    }
   ],
   "source": [
    "# addition\n",
    "x = 5\n",
    "y = 10\n",
    "result = x + y # This is an expression, where x & y are called operands and + is called operator\n",
    "print(result, type(result))\n",
    "\n",
    "x = 5.0\n",
    "y = 10\n",
    "result = x + y # This is an expression, where x & y are called operands and + is called operator\n",
    "print(result, type(result))"
   ]
  },
  {
   "cell_type": "code",
   "execution_count": 18,
   "id": "9a527d28",
   "metadata": {
    "execution": {
     "iopub.execute_input": "2023-04-01T14:16:54.720548Z",
     "iopub.status.busy": "2023-04-01T14:16:54.720056Z",
     "iopub.status.idle": "2023-04-01T14:16:54.729188Z",
     "shell.execute_reply": "2023-04-01T14:16:54.727419Z"
    },
    "papermill": {
     "duration": 0.048457,
     "end_time": "2023-04-01T14:16:54.732154",
     "exception": false,
     "start_time": "2023-04-01T14:16:54.683697",
     "status": "completed"
    },
    "tags": []
   },
   "outputs": [
    {
     "name": "stdout",
     "output_type": "stream",
     "text": [
      "5 <class 'int'>\n",
      "5.0 <class 'float'>\n"
     ]
    }
   ],
   "source": [
    "# subtraction\n",
    "x = -5\n",
    "y = -10\n",
    "result = x - y # This is an expression, where x & y are called operands and + is called operator\n",
    "print(result, type(result))\n",
    "\n",
    "x = -5.0\n",
    "y = -10\n",
    "result = x - y # This is an expression, where x & y are called operands and + is called operator\n",
    "print(result, type(result))"
   ]
  },
  {
   "cell_type": "code",
   "execution_count": 19,
   "id": "824d19c1",
   "metadata": {
    "execution": {
     "iopub.execute_input": "2023-04-01T14:16:54.801790Z",
     "iopub.status.busy": "2023-04-01T14:16:54.801357Z",
     "iopub.status.idle": "2023-04-01T14:16:54.810605Z",
     "shell.execute_reply": "2023-04-01T14:16:54.808516Z"
    },
    "papermill": {
     "duration": 0.048095,
     "end_time": "2023-04-01T14:16:54.813594",
     "exception": false,
     "start_time": "2023-04-01T14:16:54.765499",
     "status": "completed"
    },
    "tags": []
   },
   "outputs": [
    {
     "name": "stdout",
     "output_type": "stream",
     "text": [
      "-50 <class 'int'>\n",
      "-50.0 <class 'float'>\n"
     ]
    }
   ],
   "source": [
    "# multiplication\n",
    "x = 5\n",
    "y = -10\n",
    "result = x * y # This is an expression, where x & y are called operands and + is called operator\n",
    "print(result, type(result))\n",
    "\n",
    "x = 5.0\n",
    "y = -10\n",
    "result = x * y # This is an expression, where x & y are called operands and + is called operator\n",
    "print(result, type(result))"
   ]
  },
  {
   "cell_type": "code",
   "execution_count": 20,
   "id": "2bb8cc41",
   "metadata": {
    "execution": {
     "iopub.execute_input": "2023-04-01T14:16:54.886305Z",
     "iopub.status.busy": "2023-04-01T14:16:54.885801Z",
     "iopub.status.idle": "2023-04-01T14:16:54.894615Z",
     "shell.execute_reply": "2023-04-01T14:16:54.893002Z"
    },
    "papermill": {
     "duration": 0.049413,
     "end_time": "2023-04-01T14:16:54.897679",
     "exception": false,
     "start_time": "2023-04-01T14:16:54.848266",
     "status": "completed"
    },
    "tags": []
   },
   "outputs": [
    {
     "name": "stdout",
     "output_type": "stream",
     "text": [
      "0.5 <class 'float'>\n",
      "0.5 <class 'float'>\n"
     ]
    }
   ],
   "source": [
    "# division\n",
    "x = 5\n",
    "y = 10\n",
    "result = x / y # This is an expression, where x & y are called operands and + is called operator\n",
    "print(result, type(result))\n",
    "\n",
    "x = 5.0\n",
    "y = 10\n",
    "result = x / y # This is an expression, where x & y are called operands and + is called operator\n",
    "print(result, type(result))"
   ]
  },
  {
   "cell_type": "code",
   "execution_count": 21,
   "id": "7f804a62",
   "metadata": {
    "execution": {
     "iopub.execute_input": "2023-04-01T14:16:54.968178Z",
     "iopub.status.busy": "2023-04-01T14:16:54.967627Z",
     "iopub.status.idle": "2023-04-01T14:16:54.976091Z",
     "shell.execute_reply": "2023-04-01T14:16:54.974529Z"
    },
    "papermill": {
     "duration": 0.047241,
     "end_time": "2023-04-01T14:16:54.979666",
     "exception": false,
     "start_time": "2023-04-01T14:16:54.932425",
     "status": "completed"
    },
    "tags": []
   },
   "outputs": [
    {
     "name": "stdout",
     "output_type": "stream",
     "text": [
      "0 <class 'int'>\n",
      "0.0 <class 'float'>\n"
     ]
    }
   ],
   "source": [
    "# integer division\n",
    "x = 5\n",
    "y = 10\n",
    "result = x // y # This is an expression, where x & y are called operands and + is called operator\n",
    "print(result, type(result))\n",
    "\n",
    "x = 5.0\n",
    "y = 10\n",
    "result = x // y # This is an expression, where x & y are called operands and + is called operator\n",
    "print(result, type(result))"
   ]
  },
  {
   "cell_type": "code",
   "execution_count": 22,
   "id": "4d3b961b",
   "metadata": {
    "execution": {
     "iopub.execute_input": "2023-04-01T14:16:55.053709Z",
     "iopub.status.busy": "2023-04-01T14:16:55.053229Z",
     "iopub.status.idle": "2023-04-01T14:16:55.061178Z",
     "shell.execute_reply": "2023-04-01T14:16:55.059796Z"
    },
    "papermill": {
     "duration": 0.047152,
     "end_time": "2023-04-01T14:16:55.063958",
     "exception": false,
     "start_time": "2023-04-01T14:16:55.016806",
     "status": "completed"
    },
    "tags": []
   },
   "outputs": [
    {
     "name": "stdout",
     "output_type": "stream",
     "text": [
      "5 <class 'int'>\n",
      "5.0 <class 'float'>\n"
     ]
    }
   ],
   "source": [
    "# integer division\n",
    "x = 5\n",
    "y = 10\n",
    "result = x % y # This is an expression, where x & y are called operands and + is called operator\n",
    "print(result, type(result))\n",
    "\n",
    "x = 5.0\n",
    "y = 10\n",
    "result = x % y # This is an expression, where x & y are called operands and + is called operator\n",
    "print(result, type(result))"
   ]
  },
  {
   "cell_type": "markdown",
   "id": "6ca21c30",
   "metadata": {
    "papermill": {
     "duration": 0.034846,
     "end_time": "2023-04-01T14:16:55.133862",
     "exception": false,
     "start_time": "2023-04-01T14:16:55.099016",
     "status": "completed"
    },
    "tags": []
   },
   "source": [
    "## What is Operator Precedence in Python?\n",
    "Python’s operator precedence is the order in which operators are evaluated when an expression contains more than one operator. It determines which operator has higher priority and should be performed first. For example, in the expression `2 + 3 * 4`, the multiplication operator `(*)` has higher precedence than the addition operator `(+)`, so it is performed first and then the result is added to.\n",
    "\n",
    "<img src=\"https://learningmonkey.in/wp-content/uploads/2021/05/Operator-Precedence-and-Associativity-in-Python.jpg\">"
   ]
  },
  {
   "cell_type": "markdown",
   "id": "f241d3c2",
   "metadata": {
    "papermill": {
     "duration": 0.034668,
     "end_time": "2023-04-01T14:16:55.203796",
     "exception": false,
     "start_time": "2023-04-01T14:16:55.169128",
     "status": "completed"
    },
    "tags": []
   },
   "source": [
    "## Associativity\n",
    "---\n",
    "Associativity in Python is the order in which an expression is evaluated that has multiple operators of the same precedence. Almost all operators except the exponent (`**`) support the left-to-right associativity. For example, multiplication and floor division have the same precedence. Hence, if both of them are present in an expression, the left one is evaluated first."
   ]
  },
  {
   "cell_type": "code",
   "execution_count": 23,
   "id": "05d5ec22",
   "metadata": {
    "execution": {
     "iopub.execute_input": "2023-04-01T14:16:55.278036Z",
     "iopub.status.busy": "2023-04-01T14:16:55.277527Z",
     "iopub.status.idle": "2023-04-01T14:16:55.285172Z",
     "shell.execute_reply": "2023-04-01T14:16:55.283604Z"
    },
    "papermill": {
     "duration": 0.047197,
     "end_time": "2023-04-01T14:16:55.288057",
     "exception": false,
     "start_time": "2023-04-01T14:16:55.240860",
     "status": "completed"
    },
    "tags": []
   },
   "outputs": [
    {
     "name": "stdout",
     "output_type": "stream",
     "text": [
      "3\n",
      "0\n"
     ]
    }
   ],
   "source": [
    "# Left-right associativity\n",
    "# Output: 3\n",
    "print(5 * 2 // 3)\n",
    "\n",
    "# Shows left-right associativity\n",
    "# Output: 0\n",
    "print(5 * (2 // 3))"
   ]
  },
  {
   "cell_type": "markdown",
   "id": "148bdd9f",
   "metadata": {
    "papermill": {
     "duration": 0.034272,
     "end_time": "2023-04-01T14:16:55.357592",
     "exception": false,
     "start_time": "2023-04-01T14:16:55.323320",
     "status": "completed"
    },
    "tags": []
   },
   "source": [
    "## Type Conversions\n",
    "---\n",
    "Type conversions in Python are ways of changing the data type of a value or expression. There are two types of type conversions in Python: implicit and explicit.\n",
    "\n",
    "Implicit type conversion is when Python automatically converts one data type to another without any user involvement. This happens when an expression contains different data types and Python tries to avoid data loss by converting them to a wider-sized data type. For example:"
   ]
  },
  {
   "cell_type": "code",
   "execution_count": 24,
   "id": "f633436b",
   "metadata": {
    "execution": {
     "iopub.execute_input": "2023-04-01T14:16:55.428553Z",
     "iopub.status.busy": "2023-04-01T14:16:55.428105Z",
     "iopub.status.idle": "2023-04-01T14:16:55.436376Z",
     "shell.execute_reply": "2023-04-01T14:16:55.435024Z"
    },
    "papermill": {
     "duration": 0.047858,
     "end_time": "2023-04-01T14:16:55.439833",
     "exception": false,
     "start_time": "2023-04-01T14:16:55.391975",
     "status": "completed"
    },
    "tags": []
   },
   "outputs": [
    {
     "name": "stdout",
     "output_type": "stream",
     "text": [
      "20.6\n",
      "<class 'float'>\n"
     ]
    }
   ],
   "source": [
    "x = 10 # int\n",
    "y = 10.6 # float\n",
    "z = x + y # int + float\n",
    "print(z) # 20.6\n",
    "print(type(z)) # <class 'float'>"
   ]
  },
  {
   "cell_type": "markdown",
   "id": "b670dcd0",
   "metadata": {
    "papermill": {
     "duration": 0.036161,
     "end_time": "2023-04-01T14:16:55.510866",
     "exception": false,
     "start_time": "2023-04-01T14:16:55.474705",
     "status": "completed"
    },
    "tags": []
   },
   "source": [
    "Here, Python implicitly converts x to a float before adding it to y, and assigns the result as a float to z.\n",
    "\n",
    "Explicit type conversion is when the user manually changes the data type of a value or expression using built-in functions. This can be useful when we want to perform certain operations that require a specific data type, or when we want to control how the data is represented. For example:"
   ]
  },
  {
   "cell_type": "code",
   "execution_count": 25,
   "id": "b829ab4d",
   "metadata": {
    "execution": {
     "iopub.execute_input": "2023-04-01T14:16:55.583353Z",
     "iopub.status.busy": "2023-04-01T14:16:55.582790Z",
     "iopub.status.idle": "2023-04-01T14:16:55.589999Z",
     "shell.execute_reply": "2023-04-01T14:16:55.588083Z"
    },
    "papermill": {
     "duration": 0.047484,
     "end_time": "2023-04-01T14:16:55.593518",
     "exception": false,
     "start_time": "2023-04-01T14:16:55.546034",
     "status": "completed"
    },
    "tags": []
   },
   "outputs": [
    {
     "name": "stdout",
     "output_type": "stream",
     "text": [
      "18\n",
      "10010.0\n"
     ]
    }
   ],
   "source": [
    "s = \"10010\" # string\n",
    "c = int(s,2) # convert string to int with base 2\n",
    "print(c) # 18\n",
    "e = float(s) # convert string to float\n",
    "print(e) # 10010.0"
   ]
  },
  {
   "cell_type": "markdown",
   "id": "1b375223",
   "metadata": {
    "papermill": {
     "duration": 0.03338,
     "end_time": "2023-04-01T14:16:55.660379",
     "exception": false,
     "start_time": "2023-04-01T14:16:55.626999",
     "status": "completed"
    },
    "tags": []
   },
   "source": [
    "Here, we explicitly convert `s` to an int with base `2` using the `int()` function, and then to a float using the float() function."
   ]
  },
  {
   "cell_type": "markdown",
   "id": "72e1a329",
   "metadata": {
    "papermill": {
     "duration": 0.04718,
     "end_time": "2023-04-01T14:16:55.746657",
     "exception": false,
     "start_time": "2023-04-01T14:16:55.699477",
     "status": "completed"
    },
    "tags": []
   },
   "source": [
    "## What are Conditions in Python?\n",
    "---\n",
    "Python conditions are expressions that evaluate to a boolean value (`True or False`) and can be used to control the flow of a program. Python supports the usual logical conditions from mathematics, such as:\n",
    "\n",
    "* Equals: `a == b`\n",
    "* Not Equals: `a != b`\n",
    "* Less than: `a < b`\n",
    "* Less than or equal to: `a <= b`\n",
    "* Greater than: `a > b`\n",
    "* Greater than or equal to: `a >= b`\n",
    "\n",
    "These conditions can be used in several ways, most commonly in if statements and loops.\n",
    "\n",
    "An if statement is written by using the if keyword followed by a condition and a colon (:), then an indented block of code that will execute if the condition is true. For example:"
   ]
  },
  {
   "cell_type": "code",
   "execution_count": 26,
   "id": "a86951b8",
   "metadata": {
    "execution": {
     "iopub.execute_input": "2023-04-01T14:16:55.827118Z",
     "iopub.status.busy": "2023-04-01T14:16:55.826295Z",
     "iopub.status.idle": "2023-04-01T14:16:55.834352Z",
     "shell.execute_reply": "2023-04-01T14:16:55.832858Z"
    },
    "papermill": {
     "duration": 0.04985,
     "end_time": "2023-04-01T14:16:55.837434",
     "exception": false,
     "start_time": "2023-04-01T14:16:55.787584",
     "status": "completed"
    },
    "tags": []
   },
   "outputs": [
    {
     "name": "stdout",
     "output_type": "stream",
     "text": [
      "x is less than y\n"
     ]
    }
   ],
   "source": [
    "x = 10\n",
    "y = 20\n",
    "if x < y:\n",
    "    print(\"x is less than y\")"
   ]
  },
  {
   "cell_type": "markdown",
   "id": "f647d71d",
   "metadata": {
    "papermill": {
     "duration": 0.041078,
     "end_time": "2023-04-01T14:16:55.917074",
     "exception": false,
     "start_time": "2023-04-01T14:16:55.875996",
     "status": "completed"
    },
    "tags": []
   },
   "source": [
    "Here, the condition x < y evaluates to True, so the print statement inside the indented block is executed.\n",
    "\n",
    "An if statement can also have an optional else clause that will execute if the condition is false. For example:"
   ]
  },
  {
   "cell_type": "code",
   "execution_count": 27,
   "id": "40cbbe6d",
   "metadata": {
    "execution": {
     "iopub.execute_input": "2023-04-01T14:16:55.994924Z",
     "iopub.status.busy": "2023-04-01T14:16:55.993671Z",
     "iopub.status.idle": "2023-04-01T14:16:56.002365Z",
     "shell.execute_reply": "2023-04-01T14:16:56.000753Z"
    },
    "papermill": {
     "duration": 0.053811,
     "end_time": "2023-04-01T14:16:56.006731",
     "exception": false,
     "start_time": "2023-04-01T14:16:55.952920",
     "status": "completed"
    },
    "tags": []
   },
   "outputs": [
    {
     "name": "stdout",
     "output_type": "stream",
     "text": [
      "x is not greater than y\n"
     ]
    }
   ],
   "source": [
    "x = 10\n",
    "y = 20\n",
    "if x > y:\n",
    "    print(\"x is greater than y\")\n",
    "else:\n",
    "    print(\"x is not greater than y\")"
   ]
  },
  {
   "cell_type": "markdown",
   "id": "97788f29",
   "metadata": {
    "papermill": {
     "duration": 0.035932,
     "end_time": "2023-04-01T14:16:56.094292",
     "exception": false,
     "start_time": "2023-04-01T14:16:56.058360",
     "status": "completed"
    },
    "tags": []
   },
   "source": [
    "Here, the condition `x > y` evaluates to `False`, so the else block is executed.\n",
    "\n",
    "An if statement can also have one or more elif clauses that will check for additional conditions if the previous ones are false. For example:"
   ]
  },
  {
   "cell_type": "code",
   "execution_count": 28,
   "id": "ef23f80a",
   "metadata": {
    "execution": {
     "iopub.execute_input": "2023-04-01T14:16:56.178052Z",
     "iopub.status.busy": "2023-04-01T14:16:56.177425Z",
     "iopub.status.idle": "2023-04-01T14:16:56.186668Z",
     "shell.execute_reply": "2023-04-01T14:16:56.185015Z"
    },
    "papermill": {
     "duration": 0.05549,
     "end_time": "2023-04-01T14:16:56.190002",
     "exception": false,
     "start_time": "2023-04-01T14:16:56.134512",
     "status": "completed"
    },
    "tags": []
   },
   "outputs": [
    {
     "name": "stdout",
     "output_type": "stream",
     "text": [
      "x and y are equal\n"
     ]
    }
   ],
   "source": [
    "x = 10\n",
    "y = 10\n",
    "if x > y:\n",
    "    print(\"x is greater than y\")\n",
    "elif x == y:\n",
    "    print(\"x and y are equal\")\n",
    "else:\n",
    "    print(\"x is less than y\")"
   ]
  },
  {
   "cell_type": "markdown",
   "id": "43111390",
   "metadata": {
    "papermill": {
     "duration": 0.034396,
     "end_time": "2023-04-01T14:16:56.260482",
     "exception": false,
     "start_time": "2023-04-01T14:16:56.226086",
     "status": "completed"
    },
    "tags": []
   },
   "source": [
    "Here, both `x > y` and `x < y` evaluate to `False`, but `x == y` evaluates to `True`, so the elif block is executed.\n",
    "\n",
    "Python also supports one-line if statements that can be written on a single line without indentation1. For example:"
   ]
  },
  {
   "cell_type": "code",
   "execution_count": 29,
   "id": "af3effb5",
   "metadata": {
    "execution": {
     "iopub.execute_input": "2023-04-01T14:16:56.336923Z",
     "iopub.status.busy": "2023-04-01T14:16:56.335722Z",
     "iopub.status.idle": "2023-04-01T14:16:56.345365Z",
     "shell.execute_reply": "2023-04-01T14:16:56.343668Z"
    },
    "papermill": {
     "duration": 0.052468,
     "end_time": "2023-04-01T14:16:56.348289",
     "exception": false,
     "start_time": "2023-04-01T14:16:56.295821",
     "status": "completed"
    },
    "tags": []
   },
   "outputs": [
    {
     "name": "stdout",
     "output_type": "stream",
     "text": [
      "B\n",
      "=\n"
     ]
    }
   ],
   "source": [
    "# One-line if statement\n",
    "if x < y: print(\"x is less than y\")\n",
    "\n",
    "# One-line if else statement (ternary operator)\n",
    "print(\"A\") if x > y else print(\"B\")\n",
    "\n",
    "# One-line if elif else statement (chained ternary operator)\n",
    "print(\"A\") if x > y else print(\"=\") if x == y else print(\"B\")"
   ]
  },
  {
   "cell_type": "code",
   "execution_count": 30,
   "id": "7b23c072",
   "metadata": {
    "execution": {
     "iopub.execute_input": "2023-04-01T14:16:56.422330Z",
     "iopub.status.busy": "2023-04-01T14:16:56.420945Z",
     "iopub.status.idle": "2023-04-01T14:16:56.430858Z",
     "shell.execute_reply": "2023-04-01T14:16:56.428241Z"
    },
    "papermill": {
     "duration": 0.051879,
     "end_time": "2023-04-01T14:16:56.435469",
     "exception": false,
     "start_time": "2023-04-01T14:16:56.383590",
     "status": "completed"
    },
    "tags": []
   },
   "outputs": [
    {
     "name": "stdout",
     "output_type": "stream",
     "text": [
      "OK\n"
     ]
    }
   ],
   "source": [
    "a = 6\n",
    "x = \"OK\" if a > 5 else \"Not OK\" # assign the value \"OK\" to x if it satisfies the condition or else assign \"Not OK\"\n",
    "print(x)"
   ]
  },
  {
   "cell_type": "markdown",
   "id": "79bee6e0",
   "metadata": {
    "papermill": {
     "duration": 0.034976,
     "end_time": "2023-04-01T14:16:56.506127",
     "exception": false,
     "start_time": "2023-04-01T14:16:56.471151",
     "status": "completed"
    },
    "tags": []
   },
   "source": [
    "`Note:` These one-line statements are useful for simple conditions, but they can reduce readability for complex logic. It’s usually better to use indentation for clarity."
   ]
  },
  {
   "cell_type": "markdown",
   "id": "d9061712",
   "metadata": {
    "papermill": {
     "duration": 0.035528,
     "end_time": "2023-04-01T14:16:56.576345",
     "exception": false,
     "start_time": "2023-04-01T14:16:56.540817",
     "status": "completed"
    },
    "tags": []
   },
   "source": [
    "### Conditional Operators precedence\n",
    "**`Highest`**\n",
    "\n",
    "* Conditional/Comparison Operators\n",
    "* Not\n",
    "* And\n",
    "* Or\n",
    "\n",
    "**`Lowest`**"
   ]
  },
  {
   "cell_type": "markdown",
   "id": "116b35d5",
   "metadata": {
    "papermill": {
     "duration": 0.034338,
     "end_time": "2023-04-01T14:16:56.646252",
     "exception": false,
     "start_time": "2023-04-01T14:16:56.611914",
     "status": "completed"
    },
    "tags": []
   },
   "source": [
    "### DeMorgan's Law\n",
    "\n",
    "1. **`not(x and y) == (not x) or (not y)`**\n",
    "2. **`not(x or y) == not(x) and not(y)`**"
   ]
  },
  {
   "cell_type": "code",
   "execution_count": 31,
   "id": "391d06dc",
   "metadata": {
    "execution": {
     "iopub.execute_input": "2023-04-01T14:16:56.721194Z",
     "iopub.status.busy": "2023-04-01T14:16:56.719784Z",
     "iopub.status.idle": "2023-04-01T14:16:56.728917Z",
     "shell.execute_reply": "2023-04-01T14:16:56.727254Z"
    },
    "papermill": {
     "duration": 0.049237,
     "end_time": "2023-04-01T14:16:56.731926",
     "exception": false,
     "start_time": "2023-04-01T14:16:56.682689",
     "status": "completed"
    },
    "tags": []
   },
   "outputs": [
    {
     "name": "stdout",
     "output_type": "stream",
     "text": [
      "True True\n",
      "True\n"
     ]
    }
   ],
   "source": [
    "# DeMorgan's Law\n",
    "x = not (True and False)\n",
    "y = not(True) or not(False)\n",
    "print(x,y)\n",
    "print(x==y)"
   ]
  },
  {
   "cell_type": "code",
   "execution_count": 32,
   "id": "9898ad12",
   "metadata": {
    "execution": {
     "iopub.execute_input": "2023-04-01T14:16:56.803082Z",
     "iopub.status.busy": "2023-04-01T14:16:56.802604Z",
     "iopub.status.idle": "2023-04-01T14:16:56.811045Z",
     "shell.execute_reply": "2023-04-01T14:16:56.809008Z"
    },
    "papermill": {
     "duration": 0.049628,
     "end_time": "2023-04-01T14:16:56.815688",
     "exception": false,
     "start_time": "2023-04-01T14:16:56.766060",
     "status": "completed"
    },
    "tags": []
   },
   "outputs": [
    {
     "name": "stdout",
     "output_type": "stream",
     "text": [
      "False False\n",
      "True\n"
     ]
    }
   ],
   "source": [
    "# DeMorgan's Law\n",
    "x = not (True or False)\n",
    "y = not(True) and not(False)\n",
    "print(x,y)\n",
    "print(x==y)"
   ]
  },
  {
   "cell_type": "markdown",
   "id": "c0424c4b",
   "metadata": {
    "papermill": {
     "duration": 0.035017,
     "end_time": "2023-04-01T14:16:56.886966",
     "exception": false,
     "start_time": "2023-04-01T14:16:56.851949",
     "status": "completed"
    },
    "tags": []
   },
   "source": [
    "## List\n",
    "---\n",
    "Lists are one of the built-in data types in Python that can store multiple items of any data type in a single variable.\n",
    "\n",
    "### Properties\n",
    "* Lists are **`ordered`**, meaning that the items have a defined order that will not change unless you change it explicitly.\n",
    "* Lists are **`changeable`**, meaning that you can add, remove, or modify items after the list is created.\n",
    "* Lists can contain arbitrary objects, meaning that the **`items can be of any data type`**, including other lists (nested lists).\n",
    "* Lists can be **`accessed by index`**, meaning that you can use positive or negative numbers to retrieve items from a list based on their position.\n",
    "* Lists are **`mutable`**, meaning that their contents can be changed without changing their identity.\n",
    "* Lists are **`dynamic`**, meaning that they can grow and shrink as needed."
   ]
  },
  {
   "cell_type": "markdown",
   "id": "46671d99",
   "metadata": {
    "papermill": {
     "duration": 0.036903,
     "end_time": "2023-04-01T14:16:56.960479",
     "exception": false,
     "start_time": "2023-04-01T14:16:56.923576",
     "status": "completed"
    },
    "tags": []
   },
   "source": [
    "### Built-in methods of List\n",
    "Python lists have several built-in methods that you can use to manipulate or modify them. Some of the common list methods are:\n",
    "\n",
    "* **`append()`** : Adds an element at the end of the list\n",
    "* **`copy()`** : Returns a copy of the list\n",
    "* **`clear()`** : Removes all the elements from the list\n",
    "* **`count()`** : Returns the number of elements with the specified value\n",
    "* **`extend()`** : Adds the elements of another list (or any iterable) to the end of the current list\n",
    "* **`index()`** : Returns the index of the first element with the specified value\n",
    "* **`insert()`** : Adds an element at a specified position in the list\n",
    "* **`pop()`** : Removes and returns the element at a specified position (or last by default) in the list\n",
    "* **`remove()`** : Removes an element with a specified value from the list\n",
    "* **`reverse()`** : Reverses the order of elements in a list\n",
    "* **`sort()`** : Sorts a list in ascending, descending, or user-defined order\n",
    "\n",
    "You can use these methods by calling them on a list object with dot notation, such as:\n",
    "```python \n",
    "list.append(\"hello\")\n",
    "```\n",
    "Some methods take arguments that specify how they should operate, such as:\n",
    "```python \n",
    "list.sort(reverse=True)\n",
    "```\n",
    "You can learn more about each method by reading their documentation or using Python’s built-in help function. For example, you can type\n",
    "```python \n",
    "help(list.append)\n",
    "```\n",
    "in Python’s interactive shell to see how it works.\n",
    "\n"
   ]
  },
  {
   "cell_type": "code",
   "execution_count": 33,
   "id": "f70528b4",
   "metadata": {
    "execution": {
     "iopub.execute_input": "2023-04-01T14:16:57.034619Z",
     "iopub.status.busy": "2023-04-01T14:16:57.034086Z",
     "iopub.status.idle": "2023-04-01T14:16:57.040916Z",
     "shell.execute_reply": "2023-04-01T14:16:57.039460Z"
    },
    "papermill": {
     "duration": 0.048631,
     "end_time": "2023-04-01T14:16:57.044867",
     "exception": false,
     "start_time": "2023-04-01T14:16:56.996236",
     "status": "completed"
    },
    "tags": []
   },
   "outputs": [
    {
     "name": "stdout",
     "output_type": "stream",
     "text": [
      "True\n",
      "False\n"
     ]
    }
   ],
   "source": [
    "print(\"banana\" in [\"apple\", \"banana\", \"cherry\"])\n",
    "print(\"mango\" in [\"apple\", \"banana\", \"cherry\"])"
   ]
  },
  {
   "cell_type": "code",
   "execution_count": 34,
   "id": "e461ca8c",
   "metadata": {
    "execution": {
     "iopub.execute_input": "2023-04-01T14:16:57.122113Z",
     "iopub.status.busy": "2023-04-01T14:16:57.121614Z",
     "iopub.status.idle": "2023-04-01T14:16:57.128984Z",
     "shell.execute_reply": "2023-04-01T14:16:57.127079Z"
    },
    "papermill": {
     "duration": 0.049831,
     "end_time": "2023-04-01T14:16:57.132725",
     "exception": false,
     "start_time": "2023-04-01T14:16:57.082894",
     "status": "completed"
    },
    "tags": []
   },
   "outputs": [
    {
     "name": "stdout",
     "output_type": "stream",
     "text": [
      "['apple', 'banana', 'cherry', 'orange']\n"
     ]
    }
   ],
   "source": [
    "my_list = [\"apple\", \"banana\", \"cherry\"]\n",
    "my_list.append(\"orange\")\n",
    "print(my_list) # ['apple', 'banana', 'cherry', 'orange']"
   ]
  },
  {
   "cell_type": "code",
   "execution_count": 35,
   "id": "bd045b85",
   "metadata": {
    "execution": {
     "iopub.execute_input": "2023-04-01T14:16:57.204602Z",
     "iopub.status.busy": "2023-04-01T14:16:57.204076Z",
     "iopub.status.idle": "2023-04-01T14:16:57.211453Z",
     "shell.execute_reply": "2023-04-01T14:16:57.209842Z"
    },
    "papermill": {
     "duration": 0.04794,
     "end_time": "2023-04-01T14:16:57.215395",
     "exception": false,
     "start_time": "2023-04-01T14:16:57.167455",
     "status": "completed"
    },
    "tags": []
   },
   "outputs": [
    {
     "name": "stdout",
     "output_type": "stream",
     "text": [
      "['apple', 'banana', 'cherry']\n"
     ]
    }
   ],
   "source": [
    "my_list = [\"apple\", \"banana\", \"cherry\"]\n",
    "new_list = my_list.copy()\n",
    "print(new_list) # ['apple', 'banana', 'cherry']"
   ]
  },
  {
   "cell_type": "code",
   "execution_count": 36,
   "id": "1488807f",
   "metadata": {
    "execution": {
     "iopub.execute_input": "2023-04-01T14:16:57.291921Z",
     "iopub.status.busy": "2023-04-01T14:16:57.290957Z",
     "iopub.status.idle": "2023-04-01T14:16:57.298786Z",
     "shell.execute_reply": "2023-04-01T14:16:57.297193Z"
    },
    "papermill": {
     "duration": 0.048115,
     "end_time": "2023-04-01T14:16:57.302023",
     "exception": false,
     "start_time": "2023-04-01T14:16:57.253908",
     "status": "completed"
    },
    "tags": []
   },
   "outputs": [
    {
     "name": "stdout",
     "output_type": "stream",
     "text": [
      "[]\n"
     ]
    }
   ],
   "source": [
    "my_list = [\"apple\", \"banana\", \"cherry\"]\n",
    "my_list.clear()\n",
    "print(my_list) # []"
   ]
  },
  {
   "cell_type": "code",
   "execution_count": 37,
   "id": "b7bb1d6b",
   "metadata": {
    "execution": {
     "iopub.execute_input": "2023-04-01T14:16:57.377483Z",
     "iopub.status.busy": "2023-04-01T14:16:57.376990Z",
     "iopub.status.idle": "2023-04-01T14:16:57.384819Z",
     "shell.execute_reply": "2023-04-01T14:16:57.383179Z"
    },
    "papermill": {
     "duration": 0.049384,
     "end_time": "2023-04-01T14:16:57.387939",
     "exception": false,
     "start_time": "2023-04-01T14:16:57.338555",
     "status": "completed"
    },
    "tags": []
   },
   "outputs": [
    {
     "name": "stdout",
     "output_type": "stream",
     "text": [
      "2\n"
     ]
    }
   ],
   "source": [
    "my_list = [\"apple\", \"banana\", \"cherry\", \"apple\"]\n",
    "x = my_list.count(\"apple\")\n",
    "print(x) # 2"
   ]
  },
  {
   "cell_type": "code",
   "execution_count": 38,
   "id": "52498669",
   "metadata": {
    "execution": {
     "iopub.execute_input": "2023-04-01T14:16:57.464586Z",
     "iopub.status.busy": "2023-04-01T14:16:57.463104Z",
     "iopub.status.idle": "2023-04-01T14:16:57.472021Z",
     "shell.execute_reply": "2023-04-01T14:16:57.470516Z"
    },
    "papermill": {
     "duration": 0.051176,
     "end_time": "2023-04-01T14:16:57.475820",
     "exception": false,
     "start_time": "2023-04-01T14:16:57.424644",
     "status": "completed"
    },
    "tags": []
   },
   "outputs": [
    {
     "name": "stdout",
     "output_type": "stream",
     "text": [
      "['apple', 'banana', 'cherry', 'orange', 'mango', 'grapes']\n"
     ]
    }
   ],
   "source": [
    "my_list = [\"apple\", \"banana\", \"cherry\"]\n",
    "fruits = [\"orange\", \"mango\", \"grapes\"]\n",
    "my_list.extend(fruits)\n",
    "print(my_list) # ['apple', 'banana', 'cherry', 'orange', 'mango', 'grapes']"
   ]
  },
  {
   "cell_type": "code",
   "execution_count": 39,
   "id": "bfc40f6d",
   "metadata": {
    "execution": {
     "iopub.execute_input": "2023-04-01T14:16:57.551240Z",
     "iopub.status.busy": "2023-04-01T14:16:57.550741Z",
     "iopub.status.idle": "2023-04-01T14:16:57.557688Z",
     "shell.execute_reply": "2023-04-01T14:16:57.556047Z"
    },
    "papermill": {
     "duration": 0.049254,
     "end_time": "2023-04-01T14:16:57.562491",
     "exception": false,
     "start_time": "2023-04-01T14:16:57.513237",
     "status": "completed"
    },
    "tags": []
   },
   "outputs": [
    {
     "name": "stdout",
     "output_type": "stream",
     "text": [
      "1\n"
     ]
    }
   ],
   "source": [
    "my_list = [\"apple\", \"banana\", \"cherry\"]\n",
    "x = my_list.index(\"banana\")\n",
    "print(x) # 1"
   ]
  },
  {
   "cell_type": "code",
   "execution_count": 40,
   "id": "e5df2df5",
   "metadata": {
    "execution": {
     "iopub.execute_input": "2023-04-01T14:16:57.636295Z",
     "iopub.status.busy": "2023-04-01T14:16:57.635295Z",
     "iopub.status.idle": "2023-04-01T14:16:57.644052Z",
     "shell.execute_reply": "2023-04-01T14:16:57.641968Z"
    },
    "papermill": {
     "duration": 0.049157,
     "end_time": "2023-04-01T14:16:57.647548",
     "exception": false,
     "start_time": "2023-04-01T14:16:57.598391",
     "status": "completed"
    },
    "tags": []
   },
   "outputs": [
    {
     "name": "stdout",
     "output_type": "stream",
     "text": [
      "['apple', 'orange', 'banana', 'cherry']\n"
     ]
    }
   ],
   "source": [
    "my_list = [\"apple\", \"banana\", \"cherry\"]\n",
    "my_list.insert(1, \"orange\")\n",
    "print(my_list) # ['apple', 'orange', 'banana', 'cherry']"
   ]
  },
  {
   "cell_type": "code",
   "execution_count": 41,
   "id": "b3bc5549",
   "metadata": {
    "execution": {
     "iopub.execute_input": "2023-04-01T14:16:57.724091Z",
     "iopub.status.busy": "2023-04-01T14:16:57.722633Z",
     "iopub.status.idle": "2023-04-01T14:16:57.731398Z",
     "shell.execute_reply": "2023-04-01T14:16:57.729578Z"
    },
    "papermill": {
     "duration": 0.051091,
     "end_time": "2023-04-01T14:16:57.734684",
     "exception": false,
     "start_time": "2023-04-01T14:16:57.683593",
     "status": "completed"
    },
    "tags": []
   },
   "outputs": [
    {
     "name": "stdout",
     "output_type": "stream",
     "text": [
      "banana\n",
      "['apple', 'cherry']\n"
     ]
    }
   ],
   "source": [
    "my_list = [\"apple\", \"banana\", \"cherry\"]\n",
    "x = my_list.pop(1)\n",
    "print(x) # banana\n",
    "print(my_list) # ['apple', 'cherry']"
   ]
  },
  {
   "cell_type": "code",
   "execution_count": 42,
   "id": "e9efcced",
   "metadata": {
    "execution": {
     "iopub.execute_input": "2023-04-01T14:16:57.808003Z",
     "iopub.status.busy": "2023-04-01T14:16:57.806600Z",
     "iopub.status.idle": "2023-04-01T14:16:57.815794Z",
     "shell.execute_reply": "2023-04-01T14:16:57.813913Z"
    },
    "papermill": {
     "duration": 0.049558,
     "end_time": "2023-04-01T14:16:57.819232",
     "exception": false,
     "start_time": "2023-04-01T14:16:57.769674",
     "status": "completed"
    },
    "tags": []
   },
   "outputs": [
    {
     "name": "stdout",
     "output_type": "stream",
     "text": [
      "['apple', 'cherry']\n"
     ]
    }
   ],
   "source": [
    "my_list = [\"apple\", \"banana\", \"cherry\"]\n",
    "my_list.remove(\"banana\")\n",
    "print(my_list) # ['apple', 'cherry']"
   ]
  },
  {
   "cell_type": "code",
   "execution_count": 43,
   "id": "b478648a",
   "metadata": {
    "execution": {
     "iopub.execute_input": "2023-04-01T14:16:57.895076Z",
     "iopub.status.busy": "2023-04-01T14:16:57.894590Z",
     "iopub.status.idle": "2023-04-01T14:16:57.901198Z",
     "shell.execute_reply": "2023-04-01T14:16:57.899630Z"
    },
    "papermill": {
     "duration": 0.048491,
     "end_time": "2023-04-01T14:16:57.904550",
     "exception": false,
     "start_time": "2023-04-01T14:16:57.856059",
     "status": "completed"
    },
    "tags": []
   },
   "outputs": [
    {
     "name": "stdout",
     "output_type": "stream",
     "text": [
      "['cherry', 'banana', 'apple']\n"
     ]
    }
   ],
   "source": [
    "my_list = [\"apple\", \"banana\", \"cherry\"]\n",
    "my_list.reverse()\n",
    "print(my_list) # ['cherry', 'banana', 'apple']"
   ]
  },
  {
   "cell_type": "code",
   "execution_count": 44,
   "id": "4d2abc89",
   "metadata": {
    "execution": {
     "iopub.execute_input": "2023-04-01T14:16:57.982036Z",
     "iopub.status.busy": "2023-04-01T14:16:57.981560Z",
     "iopub.status.idle": "2023-04-01T14:16:57.989677Z",
     "shell.execute_reply": "2023-04-01T14:16:57.988007Z"
    },
    "papermill": {
     "duration": 0.051847,
     "end_time": "2023-04-01T14:16:57.993776",
     "exception": false,
     "start_time": "2023-04-01T14:16:57.941929",
     "status": "completed"
    },
    "tags": []
   },
   "outputs": [
    {
     "name": "stdout",
     "output_type": "stream",
     "text": [
      "[1, 3, 5, 7]\n",
      "[7, 5, 3, 1]\n",
      "['hello', 'world', 'Python', 'programming']\n"
     ]
    }
   ],
   "source": [
    "# sort in ascending order (default)\n",
    "numbers = [5, 3, 7, 1]\n",
    "numbers.sort()\n",
    "print(numbers) # [1, 3, 5, 7]\n",
    "\n",
    "# sort in descending order \n",
    "numbers.sort(reverse=True)\n",
    "print(numbers) # [7, 5, 3, 1]\n",
    "\n",
    "# sort by length of strings \n",
    "words = [\"hello\",\"world\",\"Python\",\"programming\"]\n",
    "words.sort(key=len)\n",
    "print(words) # ['world','hello','Python','programming']"
   ]
  },
  {
   "cell_type": "markdown",
   "id": "c409b3a5",
   "metadata": {
    "papermill": {
     "duration": 0.036276,
     "end_time": "2023-04-01T14:16:58.067060",
     "exception": false,
     "start_time": "2023-04-01T14:16:58.030784",
     "status": "completed"
    },
    "tags": []
   },
   "source": [
    "### Difference between copy() and assignment operator?\n",
    "The difference between `copy()` and assignment operator `(=)` in Python is that `copy()` creates a new object in memory and assigns it to a variable, while assignment operator `(=)` only creates a reference to an existing object and assigns it to a variable. For example:"
   ]
  },
  {
   "cell_type": "code",
   "execution_count": 45,
   "id": "5b017d9d",
   "metadata": {
    "execution": {
     "iopub.execute_input": "2023-04-01T14:16:58.145438Z",
     "iopub.status.busy": "2023-04-01T14:16:58.144919Z",
     "iopub.status.idle": "2023-04-01T14:16:58.153674Z",
     "shell.execute_reply": "2023-04-01T14:16:58.152074Z"
    },
    "papermill": {
     "duration": 0.052631,
     "end_time": "2023-04-01T14:16:58.157024",
     "exception": false,
     "start_time": "2023-04-01T14:16:58.104393",
     "status": "completed"
    },
    "tags": []
   },
   "outputs": [
    {
     "name": "stdout",
     "output_type": "stream",
     "text": [
      "[4, 2, 3]\n",
      "[4, 2, 3]\n",
      "[1, 2, 3]\n",
      "[5, 2, 3]\n"
     ]
    }
   ],
   "source": [
    "# using assignment operator\n",
    "x = [1, 2, 3]\n",
    "y = x # y is a reference to x\n",
    "y[0] = 4 # this changes x as well\n",
    "print(x) # [4, 2, 3]\n",
    "print(y) # [4, 2, 3]\n",
    "\n",
    "# using copy()\n",
    "x = [1, 2, 3]\n",
    "z = x.copy() # z is a new object with same value as x\n",
    "z[0] = 5 # this does not change x\n",
    "print(x) # [1, 2, 3]\n",
    "print(z) # [5, 2, 3]"
   ]
  },
  {
   "cell_type": "markdown",
   "id": "4cd92b42",
   "metadata": {
    "papermill": {
     "duration": 0.037608,
     "end_time": "2023-04-01T14:16:58.231454",
     "exception": false,
     "start_time": "2023-04-01T14:16:58.193846",
     "status": "completed"
    },
    "tags": []
   },
   "source": [
    "As you can see from the output, changing `y` affects `x` because they are both references to the same object. However, changing `z` does not affect `x` because they are different objects with different memory locations.\n",
    "\n",
    "Note that `copy()` creates a shallow copy of an object. This means that if the object contains other objects (such as lists or dictionaries), then only references to those objects are copied. To create a deep copy of an object that copies all its contents recursively, you can use `copy.deepcopy()`."
   ]
  },
  {
   "cell_type": "markdown",
   "id": "4a9ab35c",
   "metadata": {
    "papermill": {
     "duration": 0.036353,
     "end_time": "2023-04-01T14:16:58.303989",
     "exception": false,
     "start_time": "2023-04-01T14:16:58.267636",
     "status": "completed"
    },
    "tags": []
   },
   "source": [
    "## Strings\n",
    "---\n",
    "Strings in Python are `sequences of characters` that are enclosed by either `single quotes (’ ') or double quotes (\" \")`. They are immutable, meaning that once you create a string, you cannot modify it. Strings can be accessed by using indexing or slicing, which allow you to get individual characters or substrings from a string. Strings also have many built-in methods that can perform various operations on them, such as formatting, splitting, joining, replacing, etc.\n",
    "\n",
    "### Properties\n",
    "\n",
    "* Strings are **`immutable`**, meaning that once you create a string, you cannot modify it.\n",
    "* Strings are **`case-sensitive`**, meaning that `‘Hello’ and ‘hello’` are different strings1.\n",
    "* Strings are **`not quotes sensitive`**, meaning that you can use `single quotes (’ ') or double quotes (\" \")` to create a string.\n",
    "* Strings have a **`sequential index`** starting from 0 for the first character and -1 for the last character. You can use `square brackets ([])` to access individual characters or substrings from a string.\n",
    "* Strings support **`concatenation and repetition`** using the `+ and *` operators respectively.\n",
    "* Strings have **`many built-in methods`** that can perform various operations on them, such as `formatting, splitting, joining, replacing`, etc."
   ]
  },
  {
   "cell_type": "code",
   "execution_count": 46,
   "id": "37caa7e5",
   "metadata": {
    "execution": {
     "iopub.execute_input": "2023-04-01T14:16:58.381217Z",
     "iopub.status.busy": "2023-04-01T14:16:58.380719Z",
     "iopub.status.idle": "2023-04-01T14:16:58.387674Z",
     "shell.execute_reply": "2023-04-01T14:16:58.386127Z"
    },
    "papermill": {
     "duration": 0.050222,
     "end_time": "2023-04-01T14:16:58.391138",
     "exception": false,
     "start_time": "2023-04-01T14:16:58.340916",
     "status": "completed"
    },
    "tags": []
   },
   "outputs": [
    {
     "name": "stdout",
     "output_type": "stream",
     "text": [
      "subratamondal\n",
      "subratasubratasubratasubratasubrata\n"
     ]
    }
   ],
   "source": [
    "print(\"subrata\" + \"mondal\")\n",
    "print(\"subrata\" * 5)"
   ]
  },
  {
   "cell_type": "code",
   "execution_count": 47,
   "id": "748eeca8",
   "metadata": {
    "execution": {
     "iopub.execute_input": "2023-04-01T14:16:58.571413Z",
     "iopub.status.busy": "2023-04-01T14:16:58.570856Z",
     "iopub.status.idle": "2023-04-01T14:16:58.577554Z",
     "shell.execute_reply": "2023-04-01T14:16:58.575985Z"
    },
    "papermill": {
     "duration": 0.154063,
     "end_time": "2023-04-01T14:16:58.581637",
     "exception": false,
     "start_time": "2023-04-01T14:16:58.427574",
     "status": "completed"
    },
    "tags": []
   },
   "outputs": [
    {
     "name": "stdout",
     "output_type": "stream",
     "text": [
      "True\n",
      "False\n"
     ]
    }
   ],
   "source": [
    "print(\"su\" in \"subrata\")\n",
    "print(\"shr\" in \"subrata\")"
   ]
  },
  {
   "cell_type": "markdown",
   "id": "4cacc5cb",
   "metadata": {
    "papermill": {
     "duration": 0.036319,
     "end_time": "2023-04-01T14:16:58.654906",
     "exception": false,
     "start_time": "2023-04-01T14:16:58.618587",
     "status": "completed"
    },
    "tags": []
   },
   "source": [
    "### Built-in methods of strings\n",
    "String’s built-in methods in Python are functions that you can use on strings to perform various operations on them. For example, you can use the **`capitalize()`** method to convert the first character of a string to upper case, or the **`lower()`** method to convert a string to lower case. Some of the common string methods are:\n",
    "\n",
    "* **`len()`**: Returns the length of a string.\n",
    "* **`find()`**: `Searches for a substring` in a string and returns its `index`, or `-1` if not found.\n",
    "* **`replace()`**: `Replaces a substring` with another substring in a string.\n",
    "* **`split()`**: `Splits a string` into a list of substrings based on a separator.\n",
    "* **`join()`**: `Joins a list of strings` into one string using a separator.\n",
    "* **`startswith() and endswith()`**: `Checks if a string starts or ends with` a specified substring and returns True or False.\n",
    "* **`strip(), lstrip() and rstrip()`**: Removes `leading, trailing or both whitespaces` from a string.\n",
    "* **`format()`**: Formats a string using placeholders and values.\n",
    "* **`isalnum(), isalpha(), isdigit()`**, etc.: Checks if all characters in a string are `alphanumeric, alphabetic, digits`, etc. and returns True or False."
   ]
  },
  {
   "cell_type": "code",
   "execution_count": 48,
   "id": "9071f9d1",
   "metadata": {
    "execution": {
     "iopub.execute_input": "2023-04-01T14:16:58.733388Z",
     "iopub.status.busy": "2023-04-01T14:16:58.732897Z",
     "iopub.status.idle": "2023-04-01T14:16:58.740436Z",
     "shell.execute_reply": "2023-04-01T14:16:58.739270Z"
    },
    "papermill": {
     "duration": 0.051356,
     "end_time": "2023-04-01T14:16:58.743371",
     "exception": false,
     "start_time": "2023-04-01T14:16:58.692015",
     "status": "completed"
    },
    "tags": []
   },
   "outputs": [
    {
     "data": {
      "text/plain": [
       "'HELLO WORLD'"
      ]
     },
     "execution_count": 48,
     "metadata": {},
     "output_type": "execute_result"
    }
   ],
   "source": [
    "# To convert a string to upper case, use the upper() method. For example:\n",
    "string = \"Hello World\"\n",
    "string.upper() # returns \"HELLO WORLD\""
   ]
  },
  {
   "cell_type": "code",
   "execution_count": 49,
   "id": "135224a3",
   "metadata": {
    "execution": {
     "iopub.execute_input": "2023-04-01T14:16:58.821632Z",
     "iopub.status.busy": "2023-04-01T14:16:58.821078Z",
     "iopub.status.idle": "2023-04-01T14:16:58.829597Z",
     "shell.execute_reply": "2023-04-01T14:16:58.827804Z"
    },
    "papermill": {
     "duration": 0.051634,
     "end_time": "2023-04-01T14:16:58.832378",
     "exception": false,
     "start_time": "2023-04-01T14:16:58.780744",
     "status": "completed"
    },
    "tags": []
   },
   "outputs": [
    {
     "data": {
      "text/plain": [
       "6"
      ]
     },
     "execution_count": 49,
     "metadata": {},
     "output_type": "execute_result"
    }
   ],
   "source": [
    "# To find the index of a substring in a string, use the find() method. For example:\n",
    "string = \"Hello World\"\n",
    "string.find(\"World\") # returns 6"
   ]
  },
  {
   "cell_type": "code",
   "execution_count": 50,
   "id": "f3d09342",
   "metadata": {
    "execution": {
     "iopub.execute_input": "2023-04-01T14:16:58.912261Z",
     "iopub.status.busy": "2023-04-01T14:16:58.911736Z",
     "iopub.status.idle": "2023-04-01T14:16:58.921496Z",
     "shell.execute_reply": "2023-04-01T14:16:58.919785Z"
    },
    "papermill": {
     "duration": 0.053563,
     "end_time": "2023-04-01T14:16:58.924372",
     "exception": false,
     "start_time": "2023-04-01T14:16:58.870809",
     "status": "completed"
    },
    "tags": []
   },
   "outputs": [
    {
     "data": {
      "text/plain": [
       "'Hello<-|||->World'"
      ]
     },
     "execution_count": 50,
     "metadata": {},
     "output_type": "execute_result"
    }
   ],
   "source": [
    "# To replace a substring with another substring in a string, use the replace() method. For example:\n",
    "string = \"Hello World\"\n",
    "string.replace(\"World\", \"Python\") # returns \"Hello Python\"\n",
    "\n",
    "string = \"Hello World\"\n",
    "string.replace(\" \", \"<-|||->\") # returns \"Hello<-|||->World\""
   ]
  },
  {
   "cell_type": "code",
   "execution_count": 51,
   "id": "1a030c7c",
   "metadata": {
    "execution": {
     "iopub.execute_input": "2023-04-01T14:16:59.002588Z",
     "iopub.status.busy": "2023-04-01T14:16:59.002024Z",
     "iopub.status.idle": "2023-04-01T14:16:59.009731Z",
     "shell.execute_reply": "2023-04-01T14:16:59.008590Z"
    },
    "papermill": {
     "duration": 0.051204,
     "end_time": "2023-04-01T14:16:59.012629",
     "exception": false,
     "start_time": "2023-04-01T14:16:58.961425",
     "status": "completed"
    },
    "tags": []
   },
   "outputs": [
    {
     "name": "stdout",
     "output_type": "stream",
     "text": [
      "['Hello', 'World']\n",
      "['Hello', 'World']\n"
     ]
    }
   ],
   "source": [
    "# To split a string into a list of substrings based on a separator, use the split() method. For example:\n",
    "string = \"Hello World\"\n",
    "print(string.split(\" \")) # returns [\"Hello\", \"World\"]\n",
    "\n",
    "string = \"Hello->World\"\n",
    "print(string.split(\"->\")) # returns [\"Hello\", \"World\"]"
   ]
  },
  {
   "cell_type": "code",
   "execution_count": 52,
   "id": "5852214a",
   "metadata": {
    "execution": {
     "iopub.execute_input": "2023-04-01T14:16:59.093554Z",
     "iopub.status.busy": "2023-04-01T14:16:59.093123Z",
     "iopub.status.idle": "2023-04-01T14:16:59.102784Z",
     "shell.execute_reply": "2023-04-01T14:16:59.101339Z"
    },
    "papermill": {
     "duration": 0.052868,
     "end_time": "2023-04-01T14:16:59.105580",
     "exception": false,
     "start_time": "2023-04-01T14:16:59.052712",
     "status": "completed"
    },
    "tags": []
   },
   "outputs": [
    {
     "data": {
      "text/plain": [
       "'Hello->World'"
      ]
     },
     "execution_count": 52,
     "metadata": {},
     "output_type": "execute_result"
    }
   ],
   "source": [
    "# To join a list of strings into one string using a separator, use the join() method. For example:\n",
    "list = [\"Hello\", \"World\"]\n",
    "\"->\".join(list) # returns \"Hello World\""
   ]
  },
  {
   "cell_type": "code",
   "execution_count": 53,
   "id": "755e7c88",
   "metadata": {
    "execution": {
     "iopub.execute_input": "2023-04-01T14:16:59.181353Z",
     "iopub.status.busy": "2023-04-01T14:16:59.180858Z",
     "iopub.status.idle": "2023-04-01T14:16:59.190456Z",
     "shell.execute_reply": "2023-04-01T14:16:59.188276Z"
    },
    "papermill": {
     "duration": 0.053051,
     "end_time": "2023-04-01T14:16:59.194492",
     "exception": false,
     "start_time": "2023-04-01T14:16:59.141441",
     "status": "completed"
    },
    "tags": []
   },
   "outputs": [
    {
     "name": "stdout",
     "output_type": "stream",
     "text": [
      "strip:  Hello World 13 11\n",
      "lstrip:  Hello World  13 12\n",
      "rstrip:   Hello World 13 12\n",
      "strip:  banana 29 6\n"
     ]
    }
   ],
   "source": [
    "string = \" Hello World \"\n",
    "print(\"strip: \",string.strip(), len(string) ,len(string.strip())) # returns \"Hello World\"\n",
    "print(\"lstrip: \",string.lstrip(), len(string) ,len(string.lstrip()))\n",
    "print(\"rstrip: \",string.rstrip(), len(string) ,len(string.rstrip()))\n",
    "\n",
    "string = \",,,,,rrttgg.....banana....rrr\"\n",
    "print(\"strip: \",string.strip(\",.grt\"), len(string) ,len(string.strip(\",.grt\"))) # returns \"banana\""
   ]
  },
  {
   "cell_type": "markdown",
   "id": "dd0013ca",
   "metadata": {
    "papermill": {
     "duration": 0.037722,
     "end_time": "2023-04-01T14:16:59.269650",
     "exception": false,
     "start_time": "2023-04-01T14:16:59.231928",
     "status": "completed"
    },
    "tags": []
   },
   "source": [
    "## Tuples\n",
    "---\n",
    "Tuples in Python are collections of objects separated by commas and enclosed by parentheses `()`. They are similar to lists, but they are **`immutable`**, meaning that they cannot be changed once created. Tuples can store any data type and **`allow duplicate values`**. Tuples can also be nested, concatenated, repeated, sliced and deleted. \n",
    "\n",
    "### Advantages of tuples over lists are:\n",
    "* they are faster, safer and more memory-efficient than lists.\n",
    "\n",
    "### Properties\n",
    "* Tuples are **`ordered`**, meaning that the items have a defined order that will not change.\n",
    "* Tuples are **`immutable`**, meaning that they cannot be modified after they are created. You `cannot add, remove, or change items` in a tuple.\n",
    "* Tuples **`can contain any arbitrary objects`**, including other `tuples, lists, dictionaries, functions, classes,` etc like lists. Tuples can also store multiple data types in the same tuple.\n",
    "* Tuples can be **`accessed by index`**, using square brackets (`[]`) to get individual items or slices of items from a tuple. The index starts from 0 for the first item and -1 for the last item.\n",
    "* Tuples can be **`nested`** to arbitrary depth`, meaning that you can have tuples inside tuples inside tuples, and so on.\n",
    "* Tuples are **`hashable`**, meaning that they can be used as keys in dictionaries or as elements in sets. However, this only applies if all the items in the tuple are also hashable.\n",
    "\n",
    "### Built-in methods of tuples\n",
    "* **`count()`**: This method returns the number of times a specified value occurs in a tuple.\n",
    "* **`index()`**: This method searches the tuple for a specified value and returns its position (index) where it was found. If the value is not found, it raises a ValueError. You can also specify a start and end index to limit the search range."
   ]
  },
  {
   "cell_type": "code",
   "execution_count": 54,
   "id": "c79949e8",
   "metadata": {
    "execution": {
     "iopub.execute_input": "2023-04-01T14:16:59.347902Z",
     "iopub.status.busy": "2023-04-01T14:16:59.347471Z",
     "iopub.status.idle": "2023-04-01T14:16:59.357041Z",
     "shell.execute_reply": "2023-04-01T14:16:59.355239Z"
    },
    "papermill": {
     "duration": 0.052786,
     "end_time": "2023-04-01T14:16:59.360175",
     "exception": false,
     "start_time": "2023-04-01T14:16:59.307389",
     "status": "completed"
    },
    "tags": []
   },
   "outputs": [
    {
     "name": "stdout",
     "output_type": "stream",
     "text": [
      "True\n",
      "False\n"
     ]
    }
   ],
   "source": [
    "print(\"banana\" in (\"apple\", \"banana\", \"cherry\", \"apple\"))\n",
    "print(\"coffee\" in (\"apple\", \"banana\", \"cherry\", \"apple\"))"
   ]
  },
  {
   "cell_type": "code",
   "execution_count": 55,
   "id": "1a2eb017",
   "metadata": {
    "execution": {
     "iopub.execute_input": "2023-04-01T14:16:59.442123Z",
     "iopub.status.busy": "2023-04-01T14:16:59.441584Z",
     "iopub.status.idle": "2023-04-01T14:16:59.451041Z",
     "shell.execute_reply": "2023-04-01T14:16:59.449678Z"
    },
    "papermill": {
     "duration": 0.053345,
     "end_time": "2023-04-01T14:16:59.453949",
     "exception": false,
     "start_time": "2023-04-01T14:16:59.400604",
     "status": "completed"
    },
    "tags": []
   },
   "outputs": [
    {
     "data": {
      "text/plain": [
       "2"
      ]
     },
     "execution_count": 55,
     "metadata": {},
     "output_type": "execute_result"
    }
   ],
   "source": [
    "# returns the number of times a specified value occurs in a tuple. For example:\n",
    "my_tuple = (\"apple\", \"banana\", \"cherry\", \"apple\")\n",
    "my_tuple.count(\"apple\") # returns 2"
   ]
  },
  {
   "cell_type": "code",
   "execution_count": 56,
   "id": "94dc7013",
   "metadata": {
    "execution": {
     "iopub.execute_input": "2023-04-01T14:16:59.533093Z",
     "iopub.status.busy": "2023-04-01T14:16:59.532435Z",
     "iopub.status.idle": "2023-04-01T14:16:59.540369Z",
     "shell.execute_reply": "2023-04-01T14:16:59.538786Z"
    },
    "papermill": {
     "duration": 0.052007,
     "end_time": "2023-04-01T14:16:59.544375",
     "exception": false,
     "start_time": "2023-04-01T14:16:59.492368",
     "status": "completed"
    },
    "tags": []
   },
   "outputs": [
    {
     "name": "stdout",
     "output_type": "stream",
     "text": [
      "2\n",
      "3\n"
     ]
    }
   ],
   "source": [
    "# returns its position (index) where it was found\n",
    "my_tuple = (\"apple\", \"banana\", \"cherry\", \"apple\")\n",
    "print(my_tuple.index(\"cherry\")) # returns 2\n",
    "print(my_tuple.index(\"apple\", 1)) # returns 3"
   ]
  },
  {
   "cell_type": "markdown",
   "id": "b722df10",
   "metadata": {
    "papermill": {
     "duration": 0.036931,
     "end_time": "2023-04-01T14:16:59.621127",
     "exception": false,
     "start_time": "2023-04-01T14:16:59.584196",
     "status": "completed"
    },
    "tags": []
   },
   "source": [
    "## For Loops\n",
    "---\n",
    "For loops in Python are used to iterate over a sequence of items, such as a list, a tuple, a string, a dictionary, a set, or any iterable object. The syntax of the for loop is:\n",
    "\n",
    "```python\n",
    "for item in sequence:\n",
    "    # do something with item\n",
    "```\n",
    "\n",
    "Here, item is a variable that takes the value of each element in sequence on each iteration. The loop continues until all the elements in sequence are exhausted or a break statement is encountered.\n",
    "\n",
    "### Properties\n",
    "* For loops are used to iterate over a **`sequence of items`**, such as a `list, a tuple, a string, a dictionary, a set, or any iterable object`.\n",
    "* For loops do not require an indexing variable to set beforehand. The loop variable takes the value of each element in the sequence on each iteration.\n",
    "* For loops can be nested to create loops within loops. **`The inner loop executes completely for each iteration of the outer loop`**.\n",
    "* For loops can be altered by using **`break and continue`** statements. The break statement stops the loop before it has looped through all the items. The continue statement skips the current iteration of the loop and continues with the next one.\n",
    "* For loops can have an **`else`** clause that executes when the loop is finished normally (without encountering a break statement)."
   ]
  },
  {
   "cell_type": "code",
   "execution_count": 57,
   "id": "5c5af9f9",
   "metadata": {
    "execution": {
     "iopub.execute_input": "2023-04-01T14:16:59.698305Z",
     "iopub.status.busy": "2023-04-01T14:16:59.697874Z",
     "iopub.status.idle": "2023-04-01T14:16:59.705128Z",
     "shell.execute_reply": "2023-04-01T14:16:59.703688Z"
    },
    "papermill": {
     "duration": 0.049606,
     "end_time": "2023-04-01T14:16:59.708000",
     "exception": false,
     "start_time": "2023-04-01T14:16:59.658394",
     "status": "completed"
    },
    "tags": []
   },
   "outputs": [
    {
     "name": "stdout",
     "output_type": "stream",
     "text": [
      "1\n",
      "2\n",
      "3\n",
      "4\n"
     ]
    }
   ],
   "source": [
    "# To print each element of a list:\n",
    "my_list = [1, 2, 3, 4]\n",
    "for num in my_list:\n",
    "    print(num)"
   ]
  },
  {
   "cell_type": "code",
   "execution_count": 58,
   "id": "5ef4d36d",
   "metadata": {
    "execution": {
     "iopub.execute_input": "2023-04-01T14:16:59.789671Z",
     "iopub.status.busy": "2023-04-01T14:16:59.789137Z",
     "iopub.status.idle": "2023-04-01T14:16:59.796038Z",
     "shell.execute_reply": "2023-04-01T14:16:59.794570Z"
    },
    "papermill": {
     "duration": 0.051056,
     "end_time": "2023-04-01T14:16:59.798936",
     "exception": false,
     "start_time": "2023-04-01T14:16:59.747880",
     "status": "completed"
    },
    "tags": []
   },
   "outputs": [
    {
     "name": "stdout",
     "output_type": "stream",
     "text": [
      "H\n",
      "e\n",
      "l\n",
      "l\n",
      "o\n"
     ]
    }
   ],
   "source": [
    "# To print each character of a string:\n",
    "my_string = \"Hello\"\n",
    "for char in my_string:\n",
    "    print(char)"
   ]
  },
  {
   "cell_type": "code",
   "execution_count": 59,
   "id": "20db5191",
   "metadata": {
    "execution": {
     "iopub.execute_input": "2023-04-01T14:16:59.877050Z",
     "iopub.status.busy": "2023-04-01T14:16:59.876508Z",
     "iopub.status.idle": "2023-04-01T14:16:59.883281Z",
     "shell.execute_reply": "2023-04-01T14:16:59.881901Z"
    },
    "papermill": {
     "duration": 0.048445,
     "end_time": "2023-04-01T14:16:59.886246",
     "exception": false,
     "start_time": "2023-04-01T14:16:59.837801",
     "status": "completed"
    },
    "tags": []
   },
   "outputs": [
    {
     "name": "stdout",
     "output_type": "stream",
     "text": [
      "name Subrata\n",
      "age 23\n"
     ]
    }
   ],
   "source": [
    "# To print each key-value pair of a dictionary:\n",
    "my_dict = {\"name\": \"Subrata\", \"age\": 23}\n",
    "for key, value in my_dict.items():\n",
    "    print(key, value)"
   ]
  },
  {
   "cell_type": "code",
   "execution_count": 60,
   "id": "cc4729a8",
   "metadata": {
    "execution": {
     "iopub.execute_input": "2023-04-01T14:16:59.965721Z",
     "iopub.status.busy": "2023-04-01T14:16:59.964550Z",
     "iopub.status.idle": "2023-04-01T14:16:59.972464Z",
     "shell.execute_reply": "2023-04-01T14:16:59.971065Z"
    },
    "papermill": {
     "duration": 0.051032,
     "end_time": "2023-04-01T14:16:59.975759",
     "exception": false,
     "start_time": "2023-04-01T14:16:59.924727",
     "status": "completed"
    },
    "tags": []
   },
   "outputs": [
    {
     "name": "stdout",
     "output_type": "stream",
     "text": [
      "A 0\n",
      "A 1\n",
      "A 2\n",
      "B 0\n",
      "B 1\n",
      "B 2\n",
      "C 0\n",
      "C 1\n",
      "C 2\n"
     ]
    }
   ],
   "source": [
    "# For loops can be nested to create loops within loops. The inner loop executes completely for each iteration of the outer loop.\n",
    "for i in [\"A\",\"B\",\"C\"]:\n",
    "    for j in range(3):\n",
    "        print(i,j)"
   ]
  },
  {
   "cell_type": "markdown",
   "id": "9cdf1102",
   "metadata": {
    "papermill": {
     "duration": 0.03787,
     "end_time": "2023-04-01T14:17:00.050984",
     "exception": false,
     "start_time": "2023-04-01T14:17:00.013114",
     "status": "completed"
    },
    "tags": []
   },
   "source": [
    "### Real-life use-cases of for-loops\n",
    "* For loops can be used to **`traverse a sequence and access each element`**. For example, if you have a list of numbers and you want to print each number, you can use a for loop to iterate over the list and print each item.\n",
    "* For loops can be used to **`modify a sequence or create a new sequence based on some condition or logic`**. For example, if you have a list of words and you want to create a new list that contains only the words that start with ‘a’, you can use a for loop to iterate over the original list and append the words that match the condition to the new list.\n",
    "* For loops can be used to **`perform some calculation or operation on each element of a sequence and accumulate the result`**. For example, if you have a list of numbers and you want to calculate the sum of all the numbers, you can use a for loop to iterate over the list and add each number to a variable that stores the sum.\n",
    "* For loops can be used to **`implement various algorithms and data structures that involve iteration`**. For example, if you want to implement a linear search algorithm that finds an element in a list, you can use a for loop to iterate over the list and compare each element with the target value.\n",
    "* For loops can be used to **`work with nested sequences or complex data structures`**. For example, if you have a list of lists that represents a matrix, you can use a nested for loop to iterate over each row and column of the matrix and access or modify each element."
   ]
  },
  {
   "cell_type": "markdown",
   "id": "8a7e4735",
   "metadata": {
    "papermill": {
     "duration": 0.039061,
     "end_time": "2023-04-01T14:17:00.129833",
     "exception": false,
     "start_time": "2023-04-01T14:17:00.090772",
     "status": "completed"
    },
    "tags": []
   },
   "source": [
    "### For Else Loop"
   ]
  },
  {
   "cell_type": "code",
   "execution_count": 61,
   "id": "e25a22a9",
   "metadata": {
    "execution": {
     "iopub.execute_input": "2023-04-01T14:17:00.207715Z",
     "iopub.status.busy": "2023-04-01T14:17:00.207212Z",
     "iopub.status.idle": "2023-04-01T14:17:00.214838Z",
     "shell.execute_reply": "2023-04-01T14:17:00.213132Z"
    },
    "papermill": {
     "duration": 0.050628,
     "end_time": "2023-04-01T14:17:00.218660",
     "exception": false,
     "start_time": "2023-04-01T14:17:00.168032",
     "status": "completed"
    },
    "tags": []
   },
   "outputs": [
    {
     "name": "stdout",
     "output_type": "stream",
     "text": [
      "Item not found!!!\n"
     ]
    }
   ],
   "source": [
    "# For loops can have an else clause that executes when the loop is finished normally (without encountering a break statement).\n",
    "for i in [11,22,33,44,55]:\n",
    "    if i == 88:\n",
    "        print(\"Item found!!!\")\n",
    "        break\n",
    "else:\n",
    "    print(\"Item not found!!!\")"
   ]
  },
  {
   "cell_type": "markdown",
   "id": "4b18c688",
   "metadata": {
    "papermill": {
     "duration": 0.037591,
     "end_time": "2023-04-01T14:17:00.294921",
     "exception": false,
     "start_time": "2023-04-01T14:17:00.257330",
     "status": "completed"
    },
    "tags": []
   },
   "source": [
    "## While Loops\n",
    "---\n",
    "A while loop in Python is a way to execute a block of code repeatedly until a given condition is satisfied.\n",
    "\n",
    "### Properties\n",
    "* They are used for **`indefinite iteration`**, which means they repeat a block of code until a condition is False.\n",
    "* They require **`relevant variables to be initialized before the loop and updated inside the loop body`**.\n",
    "* They can be terminated prematurely with a break statement, which exits the loop completely.\n",
    "* They can skip an iteration with a continue statement, which jumps back to the condition check.\n",
    "* They can have an optional else clause, which runs once when the condition becomes False, unless a break statement is used."
   ]
  },
  {
   "cell_type": "code",
   "execution_count": 62,
   "id": "15fa74a6",
   "metadata": {
    "execution": {
     "iopub.execute_input": "2023-04-01T14:17:00.377439Z",
     "iopub.status.busy": "2023-04-01T14:17:00.376914Z",
     "iopub.status.idle": "2023-04-01T14:17:00.384379Z",
     "shell.execute_reply": "2023-04-01T14:17:00.383264Z"
    },
    "papermill": {
     "duration": 0.051464,
     "end_time": "2023-04-01T14:17:00.386910",
     "exception": false,
     "start_time": "2023-04-01T14:17:00.335446",
     "status": "completed"
    },
    "tags": []
   },
   "outputs": [
    {
     "data": {
      "text/plain": [
       "'\\nnum = input(\"Enter an integer: \")\\n\\nwhile not num.isdigit():\\n    num = input(\"Enter an integer: \")\\n'"
      ]
     },
     "execution_count": 62,
     "metadata": {},
     "output_type": "execute_result"
    }
   ],
   "source": [
    "# keep asking the customer untile the customer enters a digit\n",
    "'''\n",
    "num = input(\"Enter an integer: \")\n",
    "\n",
    "while not num.isdigit():\n",
    "    num = input(\"Enter an integer: \")\n",
    "'''"
   ]
  },
  {
   "cell_type": "markdown",
   "id": "0f2fb5bb",
   "metadata": {
    "papermill": {
     "duration": 0.038473,
     "end_time": "2023-04-01T14:17:00.464767",
     "exception": false,
     "start_time": "2023-04-01T14:17:00.426294",
     "status": "completed"
    },
    "tags": []
   },
   "source": [
    "### While Else Loops"
   ]
  },
  {
   "cell_type": "code",
   "execution_count": 63,
   "id": "3fe84874",
   "metadata": {
    "execution": {
     "iopub.execute_input": "2023-04-01T14:17:00.545445Z",
     "iopub.status.busy": "2023-04-01T14:17:00.544451Z",
     "iopub.status.idle": "2023-04-01T14:17:00.553192Z",
     "shell.execute_reply": "2023-04-01T14:17:00.551052Z"
    },
    "papermill": {
     "duration": 0.051868,
     "end_time": "2023-04-01T14:17:00.556258",
     "exception": false,
     "start_time": "2023-04-01T14:17:00.504390",
     "status": "completed"
    },
    "tags": []
   },
   "outputs": [
    {
     "name": "stdout",
     "output_type": "stream",
     "text": [
      "Item Not Found!!!\n"
     ]
    }
   ],
   "source": [
    "lst = [11,22,33,44]\n",
    "i = 0\n",
    "        \n",
    "while i < len(lst):\n",
    "    if lst[i] == 88:\n",
    "        print(\"Item Found!!!\")\n",
    "        break\n",
    "    i += 1\n",
    "else:\n",
    "    print(\"Item Not Found!!!\")"
   ]
  },
  {
   "cell_type": "markdown",
   "id": "8539dbc2",
   "metadata": {
    "papermill": {
     "duration": 0.038208,
     "end_time": "2023-04-01T14:17:00.634118",
     "exception": false,
     "start_time": "2023-04-01T14:17:00.595910",
     "status": "completed"
    },
    "tags": []
   },
   "source": [
    "### For Loop vs While Loop\n",
    "There is a huge difference between for loops and while loops in Python. The for loop iterates through a `collection or iterable object or generator function`, while the while loop simply `loops until a condition is False`.\n",
    "\n",
    "* You should `use a for loop when you already know the number of iterations` or when you have a ready-made collection to iterate through. \n",
    "* You should `use a while loop when you don’t know the number of iterations` or when you need to check a condition at each iteration."
   ]
  },
  {
   "cell_type": "markdown",
   "id": "f180c06e",
   "metadata": {
    "papermill": {
     "duration": 0.036248,
     "end_time": "2023-04-01T14:17:00.707441",
     "exception": false,
     "start_time": "2023-04-01T14:17:00.671193",
     "status": "completed"
    },
    "tags": []
   },
   "source": [
    "## Slice\n",
    "---\n",
    "Slicing is used to access a range of elements in a list, you can also slice other data types in Python that are `sequential`, such as `strings, tuples, bytes, bytearrays, and ranges`. One way to do this is to use the simple slicing operator i.e. colon (:) With this operator, one can specify where to start the slicing, where to end, and specify the step. List slicing returns a new list from the existing list.\n",
    "\n",
    "``` python\n",
    "sequence[start:stop:step]\n",
    "```\n",
    "\n",
    "where `sequence` can be any sequential data type like lists, strings, tuples, etc.\n",
    "\n",
    "`start` is the index where the slicing begins (inclusive). If omitted, it defaults to 0.\n",
    "\n",
    "`stop` is the index where the slicing ends (exclusive). If omitted, it defaults to the length of the sequence.\n",
    "\n",
    "`step` is the interval between each element in the slice. If omitted, it defaults to 1."
   ]
  },
  {
   "cell_type": "code",
   "execution_count": 64,
   "id": "0d387098",
   "metadata": {
    "execution": {
     "iopub.execute_input": "2023-04-01T14:17:00.786935Z",
     "iopub.status.busy": "2023-04-01T14:17:00.786478Z",
     "iopub.status.idle": "2023-04-01T14:17:00.794969Z",
     "shell.execute_reply": "2023-04-01T14:17:00.793238Z"
    },
    "papermill": {
     "duration": 0.054674,
     "end_time": "2023-04-01T14:17:00.798927",
     "exception": false,
     "start_time": "2023-04-01T14:17:00.744253",
     "status": "completed"
    },
    "tags": []
   },
   "outputs": [
    {
     "name": "stdout",
     "output_type": "stream",
     "text": [
      "Original List:\n",
      " [1, 2, 3, 4, 5, 6, 7, 8, 9]\n",
      "\n",
      "Sliced Lists: \n",
      "[4, 6, 8]\n",
      "[1, 3, 5, 7, 9]\n",
      "[1, 2, 3, 4, 5, 6, 7, 8, 9]\n"
     ]
    }
   ],
   "source": [
    "# list slicing\n",
    "List = [1, 2, 3, 4, 5, 6, 7, 8, 9]\n",
    "print(\"Original List:\\n\", List)\n",
    "print(\"\\nSliced Lists: \")\n",
    "print(List[3:9:2])\n",
    "print(List[::2])\n",
    "print(List[::])"
   ]
  },
  {
   "cell_type": "code",
   "execution_count": 65,
   "id": "e29d5811",
   "metadata": {
    "execution": {
     "iopub.execute_input": "2023-04-01T14:17:00.879213Z",
     "iopub.status.busy": "2023-04-01T14:17:00.878674Z",
     "iopub.status.idle": "2023-04-01T14:17:00.886004Z",
     "shell.execute_reply": "2023-04-01T14:17:00.884646Z"
    },
    "papermill": {
     "duration": 0.050466,
     "end_time": "2023-04-01T14:17:00.889101",
     "exception": false,
     "start_time": "2023-04-01T14:17:00.838635",
     "status": "completed"
    },
    "tags": []
   },
   "outputs": [
    {
     "name": "stdout",
     "output_type": "stream",
     "text": [
      "Hello\n"
     ]
    }
   ],
   "source": [
    "# Slicing a string\n",
    "string = \"Hello World\"\n",
    "sliced_string = string[0:5]\n",
    "print(sliced_string)"
   ]
  },
  {
   "cell_type": "code",
   "execution_count": 66,
   "id": "ec0667b2",
   "metadata": {
    "execution": {
     "iopub.execute_input": "2023-04-01T14:17:00.970251Z",
     "iopub.status.busy": "2023-04-01T14:17:00.969730Z",
     "iopub.status.idle": "2023-04-01T14:17:00.977140Z",
     "shell.execute_reply": "2023-04-01T14:17:00.975570Z"
    },
    "papermill": {
     "duration": 0.051748,
     "end_time": "2023-04-01T14:17:00.980234",
     "exception": false,
     "start_time": "2023-04-01T14:17:00.928486",
     "status": "completed"
    },
    "tags": []
   },
   "outputs": [
    {
     "name": "stdout",
     "output_type": "stream",
     "text": [
      "(2, 3, 4)\n"
     ]
    }
   ],
   "source": [
    "# Slicing a tuple\n",
    "tuple = (1, 2, 3, 4, 5)\n",
    "sliced_tuple = tuple[1:4]\n",
    "print(sliced_tuple)"
   ]
  },
  {
   "cell_type": "markdown",
   "id": "2c8b7717",
   "metadata": {
    "papermill": {
     "duration": 0.038273,
     "end_time": "2023-04-01T14:17:01.058795",
     "exception": false,
     "start_time": "2023-04-01T14:17:01.020522",
     "status": "completed"
    },
    "tags": []
   },
   "source": [
    "### Real-life use cases of slice\n",
    "* Slicing can be used to **`extract substrings from a string`**. For example, if you have a string that contains a date in the format YYYY-MM-DD, you can use slicing to get the year, month, and day separately.\n",
    "* Slicing can be used to **`reverse a sequence by using a negative step`**. For example, if you have a list of numbers and you want to reverse their order, you can use slicing with a step of `-1`.\n",
    "* Slicing can be used to **`access every nth element of a sequence by using a positive step`**. For example, if you have a list of words and you want to get every second word, you can use slicing with a step of 2.\n",
    "* Slicing can be used to **`copy a sequence by using an empty start and stop argument`**. For example, if you have a list of items and you want to make a copy of it, you can use slicing with an empty start and stop argument.\n",
    "* Slicing can be used to **`delete or replace elements of a mutable sequence`** by assigning an empty sequence or another sequence to the slice. For example, if you have a list of names and you want to delete the first two names or replace them with new names, you can use slicing with an assignment statement."
   ]
  },
  {
   "cell_type": "markdown",
   "id": "34aee5c2",
   "metadata": {
    "papermill": {
     "duration": 0.038605,
     "end_time": "2023-04-01T14:17:01.137247",
     "exception": false,
     "start_time": "2023-04-01T14:17:01.098642",
     "status": "completed"
    },
    "tags": []
   },
   "source": [
    "## Dictionary\n",
    "---\n",
    "Dictionaries in Python are collections of key-value pairs that are used to store data values like a map. They are written with curly brackets and have keys and values separated by a colon. For example:\n",
    "``` python\n",
    "thisdict = {\"brand\": \"Ford\", \"model\": \"Mustang\", \"year\": 1964}\n",
    "```\n",
    "Dictionaries are ordered (since Python 3.7), changeable and do not allow duplicates. You can access, modify, add or remove items from a dictionary using various methods.\n",
    "\n",
    "### Properties\n",
    "* They are **`ordered (since Python 3.7)`**, meaning that the items have a defined order that will not change.\n",
    "* They are **`mutable or changeable`**, meaning that we can modify, add or remove items after the dictionary has been created12.\n",
    "* They do **`not allow duplicates`**, meaning that they cannot have two items with the same key.\n",
    "* They have **keys and values** that can be of any data type.\n",
    "* They are defined as objects with the data type **`dict`**.\n",
    "\n",
    "### Built-in Methods of dictionary\n",
    "Python dictionaries have many built-in methods that can perform various operations on them. Here are some examples of the most common methods:\n",
    "\n",
    "* **`clear()`** : This method removes all the items from the dictionary, leaving it empty. For example:"
   ]
  },
  {
   "cell_type": "code",
   "execution_count": 67,
   "id": "f4d9ce6d",
   "metadata": {
    "execution": {
     "iopub.execute_input": "2023-04-01T14:17:01.217068Z",
     "iopub.status.busy": "2023-04-01T14:17:01.216467Z",
     "iopub.status.idle": "2023-04-01T14:17:01.225684Z",
     "shell.execute_reply": "2023-04-01T14:17:01.223207Z"
    },
    "papermill": {
     "duration": 0.053688,
     "end_time": "2023-04-01T14:17:01.228959",
     "exception": false,
     "start_time": "2023-04-01T14:17:01.175271",
     "status": "completed"
    },
    "tags": []
   },
   "outputs": [
    {
     "name": "stdout",
     "output_type": "stream",
     "text": [
      "{'a': 1, 'b': 2, 'c': 3}\n",
      "{}\n"
     ]
    }
   ],
   "source": [
    "d = {\"a\": 1, \"b\": 2, \"c\": 3} \n",
    "print(d)\n",
    "d.clear() \n",
    "print(d) # prints {}"
   ]
  },
  {
   "cell_type": "markdown",
   "id": "7a766612",
   "metadata": {
    "papermill": {
     "duration": 0.037819,
     "end_time": "2023-04-01T14:17:01.304497",
     "exception": false,
     "start_time": "2023-04-01T14:17:01.266678",
     "status": "completed"
    },
    "tags": []
   },
   "source": [
    "* **`copy()`** : This method returns a shallow copy of the dictionary, meaning that the new dictionary will have the same items as the original one, but they will be different objects. For example:"
   ]
  },
  {
   "cell_type": "code",
   "execution_count": 68,
   "id": "27b31373",
   "metadata": {
    "execution": {
     "iopub.execute_input": "2023-04-01T14:17:01.383820Z",
     "iopub.status.busy": "2023-04-01T14:17:01.383301Z",
     "iopub.status.idle": "2023-04-01T14:17:01.392700Z",
     "shell.execute_reply": "2023-04-01T14:17:01.390472Z"
    },
    "papermill": {
     "duration": 0.052859,
     "end_time": "2023-04-01T14:17:01.397114",
     "exception": false,
     "start_time": "2023-04-01T14:17:01.344255",
     "status": "completed"
    },
    "tags": []
   },
   "outputs": [
    {
     "name": "stdout",
     "output_type": "stream",
     "text": [
      "{'a': 1, 'b': 2, 'c': 3}\n",
      "False\n"
     ]
    }
   ],
   "source": [
    "d = {\"a\": 1, \"b\": 2, \"c\": 3} \n",
    "e = d.copy() \n",
    "print(e) # prints {\"a\": 1, \"b\": 2, \"c\": 3} \n",
    "print(d is e) # prints False"
   ]
  },
  {
   "cell_type": "markdown",
   "id": "0a7d9df4",
   "metadata": {
    "papermill": {
     "duration": 0.037974,
     "end_time": "2023-04-01T14:17:01.478463",
     "exception": false,
     "start_time": "2023-04-01T14:17:01.440489",
     "status": "completed"
    },
    "tags": []
   },
   "source": [
    "* **`fromkeys()`** : This method returns a new dictionary with the specified keys and a default value (None by default). For example:"
   ]
  },
  {
   "cell_type": "code",
   "execution_count": 69,
   "id": "5e4db0e6",
   "metadata": {
    "execution": {
     "iopub.execute_input": "2023-04-01T14:17:01.559092Z",
     "iopub.status.busy": "2023-04-01T14:17:01.557981Z",
     "iopub.status.idle": "2023-04-01T14:17:01.565433Z",
     "shell.execute_reply": "2023-04-01T14:17:01.564296Z"
    },
    "papermill": {
     "duration": 0.050261,
     "end_time": "2023-04-01T14:17:01.568709",
     "exception": false,
     "start_time": "2023-04-01T14:17:01.518448",
     "status": "completed"
    },
    "tags": []
   },
   "outputs": [
    {
     "name": "stdout",
     "output_type": "stream",
     "text": [
      "{'a': None, 'b': None, 'c': None}\n",
      "{'a': 0, 'b': 0, 'c': 0}\n"
     ]
    }
   ],
   "source": [
    "keys = [\"a\", \"b\", \"c\"] \n",
    "d = dict.fromkeys (keys) \n",
    "print(d) # prints {\"a\": None, \"b\": None, \"c\": None} \n",
    "e = dict.fromkeys (keys, 0) \n",
    "print(e) # prints {\"a\": 0, \"b\": 0, \"c\": 0}"
   ]
  },
  {
   "cell_type": "markdown",
   "id": "4d030808",
   "metadata": {
    "papermill": {
     "duration": 0.037143,
     "end_time": "2023-04-01T14:17:01.643829",
     "exception": false,
     "start_time": "2023-04-01T14:17:01.606686",
     "status": "completed"
    },
    "tags": []
   },
   "source": [
    "* **`get()`** : This method returns the value associated with the specified key in the dictionary, or a default value (None by default) if the key is not found. For example:"
   ]
  },
  {
   "cell_type": "code",
   "execution_count": 70,
   "id": "a223ca09",
   "metadata": {
    "execution": {
     "iopub.execute_input": "2023-04-01T14:17:01.722373Z",
     "iopub.status.busy": "2023-04-01T14:17:01.721877Z",
     "iopub.status.idle": "2023-04-01T14:17:01.730018Z",
     "shell.execute_reply": "2023-04-01T14:17:01.728441Z"
    },
    "papermill": {
     "duration": 0.051318,
     "end_time": "2023-04-01T14:17:01.733544",
     "exception": false,
     "start_time": "2023-04-01T14:17:01.682226",
     "status": "completed"
    },
    "tags": []
   },
   "outputs": [
    {
     "name": "stdout",
     "output_type": "stream",
     "text": [
      "1\n",
      "None\n",
      "-1\n"
     ]
    }
   ],
   "source": [
    "d = {\"a\": 1, \"b\": 2, \"c\": 3} \n",
    "print(d.get(\"a\")) # prints 1 \n",
    "print(d.get (\"d\")) # prints None \n",
    "print(d.get (\"d\", -1)) # prints -1\n"
   ]
  },
  {
   "cell_type": "markdown",
   "id": "3701cdae",
   "metadata": {
    "papermill": {
     "duration": 0.040495,
     "end_time": "2023-04-01T14:17:01.811907",
     "exception": false,
     "start_time": "2023-04-01T14:17:01.771412",
     "status": "completed"
    },
    "tags": []
   },
   "source": [
    "* **`pop()`** : This method removes and returns the value associated with the specified key in the dictionary, or raises a KeyError if the key is not found. An optional default value can be provided to return instead of raising an error. For example:"
   ]
  },
  {
   "cell_type": "code",
   "execution_count": 71,
   "id": "4adfc783",
   "metadata": {
    "execution": {
     "iopub.execute_input": "2023-04-01T14:17:01.893898Z",
     "iopub.status.busy": "2023-04-01T14:17:01.893356Z",
     "iopub.status.idle": "2023-04-01T14:17:01.900747Z",
     "shell.execute_reply": "2023-04-01T14:17:01.899244Z"
    },
    "papermill": {
     "duration": 0.05382,
     "end_time": "2023-04-01T14:17:01.905022",
     "exception": false,
     "start_time": "2023-04-01T14:17:01.851202",
     "status": "completed"
    },
    "tags": []
   },
   "outputs": [
    {
     "name": "stdout",
     "output_type": "stream",
     "text": [
      "1\n",
      "-1\n"
     ]
    }
   ],
   "source": [
    "d = {\"a\": 1, \"b\": 2, \"c\": 3} \n",
    "print(d.pop (\"a\")) # prints 1 \n",
    "# print(d.pop (\"d\")) # raises KeyError \n",
    "print(d.pop (\"d\", -1)) # prints -1"
   ]
  },
  {
   "cell_type": "markdown",
   "id": "4acd740a",
   "metadata": {
    "papermill": {
     "duration": 0.040487,
     "end_time": "2023-04-01T14:17:01.985246",
     "exception": false,
     "start_time": "2023-04-01T14:17:01.944759",
     "status": "completed"
    },
    "tags": []
   },
   "source": [
    "**`popitem()`** : This method removes and returns a random key-value pair from the dictionary as a tuple. If the dictionary is empty, it raises a KeyError. For example:"
   ]
  },
  {
   "cell_type": "code",
   "execution_count": 72,
   "id": "b1ae64b8",
   "metadata": {
    "execution": {
     "iopub.execute_input": "2023-04-01T14:17:02.065770Z",
     "iopub.status.busy": "2023-04-01T14:17:02.065284Z",
     "iopub.status.idle": "2023-04-01T14:17:02.073418Z",
     "shell.execute_reply": "2023-04-01T14:17:02.071607Z"
    },
    "papermill": {
     "duration": 0.052707,
     "end_time": "2023-04-01T14:17:02.076885",
     "exception": false,
     "start_time": "2023-04-01T14:17:02.024178",
     "status": "completed"
    },
    "tags": []
   },
   "outputs": [
    {
     "name": "stdout",
     "output_type": "stream",
     "text": [
      "('c', 3)\n",
      "('b', 2)\n",
      "('a', 1)\n"
     ]
    }
   ],
   "source": [
    "d = {\"a\": 1, \"b\": 2, \"c\": 3} \n",
    "print(d.popitem()) # prints (\"c\", 3) \n",
    "print(d.popitem ()) # prints (\"b\", 2) \n",
    "print(d.popitem ()) # prints (\"a\", 1) \n",
    "# print(d.popitem ()) # raises KeyError"
   ]
  },
  {
   "cell_type": "markdown",
   "id": "4293b047",
   "metadata": {
    "papermill": {
     "duration": 0.037936,
     "end_time": "2023-04-01T14:17:02.156064",
     "exception": false,
     "start_time": "2023-04-01T14:17:02.118128",
     "status": "completed"
    },
    "tags": []
   },
   "source": [
    "* **`setdefault()`** : This method returns the value associated with the specified key in the dictionary, or inserts the key with a default value (None by default) if the key is not found. For example:"
   ]
  },
  {
   "cell_type": "code",
   "execution_count": 73,
   "id": "563be91d",
   "metadata": {
    "execution": {
     "iopub.execute_input": "2023-04-01T14:17:02.238074Z",
     "iopub.status.busy": "2023-04-01T14:17:02.237512Z",
     "iopub.status.idle": "2023-04-01T14:17:02.246012Z",
     "shell.execute_reply": "2023-04-01T14:17:02.244454Z"
    },
    "papermill": {
     "duration": 0.053894,
     "end_time": "2023-04-01T14:17:02.249584",
     "exception": false,
     "start_time": "2023-04-01T14:17:02.195690",
     "status": "completed"
    },
    "tags": []
   },
   "outputs": [
    {
     "name": "stdout",
     "output_type": "stream",
     "text": [
      "1\n",
      "None\n",
      "-1\n"
     ]
    }
   ],
   "source": [
    "d = {\"a\": 1, \"b\": 2, \"c\": 3} \n",
    "print(d.setdefault (\"a\")) # prints 1 \n",
    "print(d.setdefault (\"d\")) # prints None \n",
    "print(d.setdefault (\"e\", -1)) # prints -1"
   ]
  },
  {
   "cell_type": "markdown",
   "id": "cfd9df1a",
   "metadata": {
    "papermill": {
     "duration": 0.039765,
     "end_time": "2023-04-01T14:17:02.330022",
     "exception": false,
     "start_time": "2023-04-01T14:17:02.290257",
     "status": "completed"
    },
    "tags": []
   },
   "source": [
    "* **`update()`** : This method updates the dictionary with the key-value pairs from another dictionary or an iterable of tuples."
   ]
  },
  {
   "cell_type": "code",
   "execution_count": 74,
   "id": "72924310",
   "metadata": {
    "execution": {
     "iopub.execute_input": "2023-04-01T14:17:02.413765Z",
     "iopub.status.busy": "2023-04-01T14:17:02.412874Z",
     "iopub.status.idle": "2023-04-01T14:17:02.421762Z",
     "shell.execute_reply": "2023-04-01T14:17:02.420093Z"
    },
    "papermill": {
     "duration": 0.053861,
     "end_time": "2023-04-01T14:17:02.425281",
     "exception": false,
     "start_time": "2023-04-01T14:17:02.371420",
     "status": "completed"
    },
    "tags": []
   },
   "outputs": [
    {
     "name": "stdout",
     "output_type": "stream",
     "text": [
      "{'a': 1, 'b': 2, 'c': 3, 'd': 4, 'e': 5, 'f': 6, 'g': 7}\n"
     ]
    }
   ],
   "source": [
    "d1 = {\"a\": 1, \"b\": 2, \"c\": 3} \n",
    "d2 = {\"d\": 4, \"e\": 5} \n",
    "d3 = [(\"f\", 6), (\"g\", 7)]\n",
    "\n",
    "d1.update(d2) # updates d1 with key-value pairs from d2 print(d1) # prints {\"a\": 1, \"b\": 2, \"c\": 3, \"d\": 4, \"e\": 5}\n",
    "\n",
    "d1.update(d3) # updates d1 with key-value pairs from d3 print(d1) # prints {\"a\": 1, \"b\": 2, \"c\": 3, \"d\": 4, \"e\": 5, \"f\": 6, \"g\": 7}\n",
    "print(d1)"
   ]
  },
  {
   "cell_type": "markdown",
   "id": "cb00948b",
   "metadata": {
    "papermill": {
     "duration": 0.039774,
     "end_time": "2023-04-01T14:17:02.504285",
     "exception": false,
     "start_time": "2023-04-01T14:17:02.464511",
     "status": "completed"
    },
    "tags": []
   },
   "source": [
    "### Real life use-cases of dictionary\n",
    "* Dictionaries can be used to **`store data values like a map`**, where each value is associated with a unique key. For example, if you have a collection of student names and their ages, you can use a dictionary to map each name to its corresponding age.\n",
    "* Dictionaries can be used to **`access and modify data values quickly and easily`**, by using the keys as indexes. For example, if you have a dictionary of product names and prices, you can update the price of a product by using its name as the key.\n",
    "* Dictionaries can be used to **`store heterogeneous data types`**, meaning that the values can be of any data type and can vary from one key to another. For example, if you have a dictionary of employee information, you can store different types of data for each employee, such as name, salary, department, etc.\n",
    "* Dictionaries can be used to **`implement various data structures and algorithms`**, such as `hash tables, graphs, caches, memoization`, etc. For example, if you want to implement a cache that stores the results of some expensive function calls, you can use a dictionary to map the input arguments to the output values.\n",
    "* Dictionaries can be used to **`work with JSON data`**, which is a common format for exchanging data on the web. JSON data is essentially a collection of key-value pairs, which can be easily converted to and from Python dictionaries using the json module. For example, if you want to parse some JSON data from an API response, you can use json.loads() to convert it to a Python dictionary."
   ]
  },
  {
   "cell_type": "markdown",
   "id": "2f564d9f",
   "metadata": {
    "papermill": {
     "duration": 0.039326,
     "end_time": "2023-04-01T14:17:02.582857",
     "exception": false,
     "start_time": "2023-04-01T14:17:02.543531",
     "status": "completed"
    },
    "tags": []
   },
   "source": [
    "## Sets\n",
    "---\n",
    "Sets in Python are **`unordered`** collections of unique and **`immutable`** objects. They are one of the four built-in data types in Python used to store collections of data, along with lists, tuples and dictionaries. Sets are written with curly brackets **`{ }`**.\n",
    "\n",
    "**`Note:`** Set items are unchangeable, but you can remove items and add new items.\n",
    "\n",
    "### Properties\n",
    "* They do not allow duplicate values.\n",
    "* They are **`immutable or unchangeable`**, meaning that we cannot modify the items after the set has been created, but we can add or remove items.\n",
    "* They do not have a defined order and cannot be accessed by index or key.\n",
    "* They can store heterogeneous elements of any data type.\n",
    "* They have a **`highly optimized`** method for checking whether a specific element is contained in the set, based on a data structure known as a hash table.\n",
    "* There is also a special type of set called a **`frozen set`**, which is immutable and can be used as a key in a dictionary or an element of another set.\n",
    "* Sets support various methods and operators to perform operations such as **`union, intersection, difference, symmetric difference, subset, superset`**, etc."
   ]
  },
  {
   "cell_type": "markdown",
   "id": "61bebfa4",
   "metadata": {
    "papermill": {
     "duration": 0.040535,
     "end_time": "2023-04-01T14:17:02.662966",
     "exception": false,
     "start_time": "2023-04-01T14:17:02.622431",
     "status": "completed"
    },
    "tags": []
   },
   "source": [
    "* **`add()`**: Adds an element to the set."
   ]
  },
  {
   "cell_type": "code",
   "execution_count": 75,
   "id": "ed32b360",
   "metadata": {
    "execution": {
     "iopub.execute_input": "2023-04-01T14:17:02.745014Z",
     "iopub.status.busy": "2023-04-01T14:17:02.744569Z",
     "iopub.status.idle": "2023-04-01T14:17:02.752091Z",
     "shell.execute_reply": "2023-04-01T14:17:02.750331Z"
    },
    "papermill": {
     "duration": 0.052087,
     "end_time": "2023-04-01T14:17:02.755710",
     "exception": false,
     "start_time": "2023-04-01T14:17:02.703623",
     "status": "completed"
    },
    "tags": []
   },
   "outputs": [
    {
     "name": "stdout",
     "output_type": "stream",
     "text": [
      "{1, 2, 3, 4}\n"
     ]
    }
   ],
   "source": [
    "s = {1, 2, 3}\n",
    "s.add (4)\n",
    "print(s) # {1, 2, 3, 4}"
   ]
  },
  {
   "cell_type": "markdown",
   "id": "9b360e86",
   "metadata": {
    "papermill": {
     "duration": 0.040092,
     "end_time": "2023-04-01T14:17:02.835374",
     "exception": false,
     "start_time": "2023-04-01T14:17:02.795282",
     "status": "completed"
    },
    "tags": []
   },
   "source": [
    "* **`clear()`**: Removes all the elements from the set. "
   ]
  },
  {
   "cell_type": "code",
   "execution_count": 76,
   "id": "5530bb33",
   "metadata": {
    "execution": {
     "iopub.execute_input": "2023-04-01T14:17:02.915824Z",
     "iopub.status.busy": "2023-04-01T14:17:02.915341Z",
     "iopub.status.idle": "2023-04-01T14:17:02.922629Z",
     "shell.execute_reply": "2023-04-01T14:17:02.920879Z"
    },
    "papermill": {
     "duration": 0.051942,
     "end_time": "2023-04-01T14:17:02.926977",
     "exception": false,
     "start_time": "2023-04-01T14:17:02.875035",
     "status": "completed"
    },
    "tags": []
   },
   "outputs": [
    {
     "name": "stdout",
     "output_type": "stream",
     "text": [
      "set()\n"
     ]
    }
   ],
   "source": [
    "s = {1, 2, 3}\n",
    "s.clear () \n",
    "print(s) # set()"
   ]
  },
  {
   "cell_type": "markdown",
   "id": "aa0364ad",
   "metadata": {
    "papermill": {
     "duration": 0.03836,
     "end_time": "2023-04-01T14:17:03.007029",
     "exception": false,
     "start_time": "2023-04-01T14:17:02.968669",
     "status": "completed"
    },
    "tags": []
   },
   "source": [
    "* **`copy()`**: Returns a copy of the set."
   ]
  },
  {
   "cell_type": "code",
   "execution_count": 77,
   "id": "62700bad",
   "metadata": {
    "execution": {
     "iopub.execute_input": "2023-04-01T14:17:03.089643Z",
     "iopub.status.busy": "2023-04-01T14:17:03.088312Z",
     "iopub.status.idle": "2023-04-01T14:17:03.094820Z",
     "shell.execute_reply": "2023-04-01T14:17:03.093473Z"
    },
    "papermill": {
     "duration": 0.050671,
     "end_time": "2023-04-01T14:17:03.097397",
     "exception": false,
     "start_time": "2023-04-01T14:17:03.046726",
     "status": "completed"
    },
    "tags": []
   },
   "outputs": [
    {
     "name": "stdout",
     "output_type": "stream",
     "text": [
      "{1, 2, 3}\n"
     ]
    }
   ],
   "source": [
    "s = {1, 2, 3} \n",
    "t = s.copy() \n",
    "print(t) # {1, 2, 3}"
   ]
  },
  {
   "cell_type": "markdown",
   "id": "379cd5d8",
   "metadata": {
    "papermill": {
     "duration": 0.039393,
     "end_time": "2023-04-01T14:17:03.176973",
     "exception": false,
     "start_time": "2023-04-01T14:17:03.137580",
     "status": "completed"
    },
    "tags": []
   },
   "source": [
    "* **`difference()`**: Returns a set containing the difference between two or more sets. "
   ]
  },
  {
   "cell_type": "code",
   "execution_count": 78,
   "id": "d0fea1bc",
   "metadata": {
    "execution": {
     "iopub.execute_input": "2023-04-01T14:17:03.259724Z",
     "iopub.status.busy": "2023-04-01T14:17:03.259258Z",
     "iopub.status.idle": "2023-04-01T14:17:03.265898Z",
     "shell.execute_reply": "2023-04-01T14:17:03.264398Z"
    },
    "papermill": {
     "duration": 0.055081,
     "end_time": "2023-04-01T14:17:03.271386",
     "exception": false,
     "start_time": "2023-04-01T14:17:03.216305",
     "status": "completed"
    },
    "tags": []
   },
   "outputs": [
    {
     "name": "stdout",
     "output_type": "stream",
     "text": [
      "{1, 3}\n"
     ]
    }
   ],
   "source": [
    "s = {1, 2, 3} \n",
    "t = {2, 4, 5} \n",
    "print(s.difference(t)) # {1, 3}"
   ]
  },
  {
   "cell_type": "markdown",
   "id": "e4f77b0b",
   "metadata": {
    "papermill": {
     "duration": 0.040716,
     "end_time": "2023-04-01T14:17:03.352746",
     "exception": false,
     "start_time": "2023-04-01T14:17:03.312030",
     "status": "completed"
    },
    "tags": []
   },
   "source": [
    "* **`difference_update()`**: Removes the items in this set that are also included in another, specified set. "
   ]
  },
  {
   "cell_type": "code",
   "execution_count": 79,
   "id": "5944105f",
   "metadata": {
    "execution": {
     "iopub.execute_input": "2023-04-01T14:17:03.437269Z",
     "iopub.status.busy": "2023-04-01T14:17:03.435829Z",
     "iopub.status.idle": "2023-04-01T14:17:03.443493Z",
     "shell.execute_reply": "2023-04-01T14:17:03.441968Z"
    },
    "papermill": {
     "duration": 0.052998,
     "end_time": "2023-04-01T14:17:03.446950",
     "exception": false,
     "start_time": "2023-04-01T14:17:03.393952",
     "status": "completed"
    },
    "tags": []
   },
   "outputs": [
    {
     "name": "stdout",
     "output_type": "stream",
     "text": [
      "{1, 3}\n"
     ]
    }
   ],
   "source": [
    "s = {1, 2, 3} \n",
    "t = {2, 4, 5} \n",
    "s.difference_update (t) \n",
    "print(s) # {1, 3}"
   ]
  },
  {
   "cell_type": "markdown",
   "id": "d528685a",
   "metadata": {
    "papermill": {
     "duration": 0.039941,
     "end_time": "2023-04-01T14:17:03.525911",
     "exception": false,
     "start_time": "2023-04-01T14:17:03.485970",
     "status": "completed"
    },
    "tags": []
   },
   "source": [
    "* **`discard()`**: Removes the specified item from the set if it is present."
   ]
  },
  {
   "cell_type": "code",
   "execution_count": 80,
   "id": "e97ee537",
   "metadata": {
    "execution": {
     "iopub.execute_input": "2023-04-01T14:17:03.608859Z",
     "iopub.status.busy": "2023-04-01T14:17:03.607483Z",
     "iopub.status.idle": "2023-04-01T14:17:03.615625Z",
     "shell.execute_reply": "2023-04-01T14:17:03.613681Z"
    },
    "papermill": {
     "duration": 0.053521,
     "end_time": "2023-04-01T14:17:03.619314",
     "exception": false,
     "start_time": "2023-04-01T14:17:03.565793",
     "status": "completed"
    },
    "tags": []
   },
   "outputs": [
    {
     "name": "stdout",
     "output_type": "stream",
     "text": [
      "{1, 3}\n"
     ]
    }
   ],
   "source": [
    "s = {1, 2, 3} \n",
    "s.discard(2) \n",
    "print(s) # {1, 3}"
   ]
  },
  {
   "cell_type": "markdown",
   "id": "80345f5b",
   "metadata": {
    "papermill": {
     "duration": 0.042374,
     "end_time": "2023-04-01T14:17:03.703358",
     "exception": false,
     "start_time": "2023-04-01T14:17:03.660984",
     "status": "completed"
    },
    "tags": []
   },
   "source": [
    "* **`intersection()`**: Returns a set that is the intersection of two or more sets. "
   ]
  },
  {
   "cell_type": "code",
   "execution_count": 81,
   "id": "936b3130",
   "metadata": {
    "execution": {
     "iopub.execute_input": "2023-04-01T14:17:03.788238Z",
     "iopub.status.busy": "2023-04-01T14:17:03.787727Z",
     "iopub.status.idle": "2023-04-01T14:17:03.794678Z",
     "shell.execute_reply": "2023-04-01T14:17:03.793139Z"
    },
    "papermill": {
     "duration": 0.053274,
     "end_time": "2023-04-01T14:17:03.797712",
     "exception": false,
     "start_time": "2023-04-01T14:17:03.744438",
     "status": "completed"
    },
    "tags": []
   },
   "outputs": [
    {
     "name": "stdout",
     "output_type": "stream",
     "text": [
      "{2}\n"
     ]
    }
   ],
   "source": [
    "s = {1, 2, 3} \n",
    "t = {2, 4, 5} \n",
    "print(s.intersection (t)) # {2}"
   ]
  },
  {
   "cell_type": "markdown",
   "id": "8dc1fde9",
   "metadata": {
    "papermill": {
     "duration": 0.040616,
     "end_time": "2023-04-01T14:17:03.876995",
     "exception": false,
     "start_time": "2023-04-01T14:17:03.836379",
     "status": "completed"
    },
    "tags": []
   },
   "source": [
    "* **`intersection_update()`**: Removes the items in this set that are not present in other, specified set (s).  "
   ]
  },
  {
   "cell_type": "code",
   "execution_count": 82,
   "id": "40b2597a",
   "metadata": {
    "execution": {
     "iopub.execute_input": "2023-04-01T14:17:03.960347Z",
     "iopub.status.busy": "2023-04-01T14:17:03.959038Z",
     "iopub.status.idle": "2023-04-01T14:17:03.966655Z",
     "shell.execute_reply": "2023-04-01T14:17:03.964950Z"
    },
    "papermill": {
     "duration": 0.053593,
     "end_time": "2023-04-01T14:17:03.970215",
     "exception": false,
     "start_time": "2023-04-01T14:17:03.916622",
     "status": "completed"
    },
    "tags": []
   },
   "outputs": [
    {
     "name": "stdout",
     "output_type": "stream",
     "text": [
      "{2}\n"
     ]
    }
   ],
   "source": [
    "s = {1, 2, 3} \n",
    "t = {2, 4, 5} \n",
    "s.intersection_update(t) \n",
    "print(s) # {2}"
   ]
  },
  {
   "cell_type": "markdown",
   "id": "1bc5b236",
   "metadata": {
    "papermill": {
     "duration": 0.039802,
     "end_time": "2023-04-01T14:17:04.051134",
     "exception": false,
     "start_time": "2023-04-01T14:17:04.011332",
     "status": "completed"
    },
    "tags": []
   },
   "source": [
    "* **`isdisjoint()`**: Returns True if two sets have no elements in common. "
   ]
  },
  {
   "cell_type": "code",
   "execution_count": 83,
   "id": "1390272c",
   "metadata": {
    "execution": {
     "iopub.execute_input": "2023-04-01T14:17:04.134960Z",
     "iopub.status.busy": "2023-04-01T14:17:04.134468Z",
     "iopub.status.idle": "2023-04-01T14:17:04.140660Z",
     "shell.execute_reply": "2023-04-01T14:17:04.139538Z"
    },
    "papermill": {
     "duration": 0.054661,
     "end_time": "2023-04-01T14:17:04.146207",
     "exception": false,
     "start_time": "2023-04-01T14:17:04.091546",
     "status": "completed"
    },
    "tags": []
   },
   "outputs": [
    {
     "name": "stdout",
     "output_type": "stream",
     "text": [
      "True\n"
     ]
    }
   ],
   "source": [
    "s = {1, 2, 3} \n",
    "t = {4, 5, 6} \n",
    "print(s.isdisjoint(t)) # True"
   ]
  },
  {
   "cell_type": "markdown",
   "id": "37f9b043",
   "metadata": {
    "papermill": {
     "duration": 0.040729,
     "end_time": "2023-04-01T14:17:04.228132",
     "exception": false,
     "start_time": "2023-04-01T14:17:04.187403",
     "status": "completed"
    },
    "tags": []
   },
   "source": [
    "* **`issubset()`**: Returns True if this set is a subset of another set. "
   ]
  },
  {
   "cell_type": "code",
   "execution_count": 84,
   "id": "fdbfcde5",
   "metadata": {
    "execution": {
     "iopub.execute_input": "2023-04-01T14:17:04.311254Z",
     "iopub.status.busy": "2023-04-01T14:17:04.310725Z",
     "iopub.status.idle": "2023-04-01T14:17:04.318273Z",
     "shell.execute_reply": "2023-04-01T14:17:04.316730Z"
    },
    "papermill": {
     "duration": 0.05411,
     "end_time": "2023-04-01T14:17:04.321664",
     "exception": false,
     "start_time": "2023-04-01T14:17:04.267554",
     "status": "completed"
    },
    "tags": []
   },
   "outputs": [
    {
     "name": "stdout",
     "output_type": "stream",
     "text": [
      "True\n"
     ]
    }
   ],
   "source": [
    "s = {1, 2} \n",
    "t = {1, 2, 3} \n",
    "print(s.issubset(t)) # True"
   ]
  },
  {
   "cell_type": "markdown",
   "id": "fc3a8f14",
   "metadata": {
    "papermill": {
     "duration": 0.039624,
     "end_time": "2023-04-01T14:17:04.400210",
     "exception": false,
     "start_time": "2023-04-01T14:17:04.360586",
     "status": "completed"
    },
    "tags": []
   },
   "source": [
    "* **`issuperset()`**: Returns True if this set is a superset of another set."
   ]
  },
  {
   "cell_type": "code",
   "execution_count": 85,
   "id": "c25345b6",
   "metadata": {
    "execution": {
     "iopub.execute_input": "2023-04-01T14:17:04.482223Z",
     "iopub.status.busy": "2023-04-01T14:17:04.481731Z",
     "iopub.status.idle": "2023-04-01T14:17:04.488189Z",
     "shell.execute_reply": "2023-04-01T14:17:04.486746Z"
    },
    "papermill": {
     "duration": 0.052293,
     "end_time": "2023-04-01T14:17:04.491938",
     "exception": false,
     "start_time": "2023-04-01T14:17:04.439645",
     "status": "completed"
    },
    "tags": []
   },
   "outputs": [
    {
     "name": "stdout",
     "output_type": "stream",
     "text": [
      "True\n"
     ]
    }
   ],
   "source": [
    "s = {1, 2} \n",
    "t = {1} \n",
    "print(s.issuperset (t)) # True"
   ]
  },
  {
   "cell_type": "markdown",
   "id": "5fdbbdae",
   "metadata": {
    "papermill": {
     "duration": 0.039219,
     "end_time": "2023-04-01T14:17:04.574890",
     "exception": false,
     "start_time": "2023-04-01T14:17:04.535671",
     "status": "completed"
    },
    "tags": []
   },
   "source": [
    "* **`pop()`**: Removes and returns an arbitrary element from the set."
   ]
  },
  {
   "cell_type": "code",
   "execution_count": 86,
   "id": "645d5e0d",
   "metadata": {
    "execution": {
     "iopub.execute_input": "2023-04-01T14:17:04.658893Z",
     "iopub.status.busy": "2023-04-01T14:17:04.658411Z",
     "iopub.status.idle": "2023-04-01T14:17:04.665499Z",
     "shell.execute_reply": "2023-04-01T14:17:04.663725Z"
    },
    "papermill": {
     "duration": 0.053166,
     "end_time": "2023-04-01T14:17:04.668822",
     "exception": false,
     "start_time": "2023-04-01T14:17:04.615656",
     "status": "completed"
    },
    "tags": []
   },
   "outputs": [
    {
     "name": "stdout",
     "output_type": "stream",
     "text": [
      "1\n"
     ]
    }
   ],
   "source": [
    "s = {1, 2, 3} \n",
    "print(s.pop())"
   ]
  },
  {
   "cell_type": "markdown",
   "id": "35d7281a",
   "metadata": {
    "papermill": {
     "duration": 0.040718,
     "end_time": "2023-04-01T14:17:04.750037",
     "exception": false,
     "start_time": "2023-04-01T14:17:04.709319",
     "status": "completed"
    },
    "tags": []
   },
   "source": [
    "### Real life use-cases of sets\n",
    "* Sets can be used to **`remove duplicate values`** from a collection of data. For example, if you have a list of student names and you want to get only the unique names, you can convert the list to a set and then back to a list.\n",
    "* Sets can be used to **`perform mathematical operations`** on collections of data, such as union, intersection, difference, and symmetric difference. For example, if you have two sets of keywords for a website and you want to find out which keywords are common, which are unique, and which are exclusive to each set, you can use set methods or operators to do so.\n",
    "* Sets can be used to **`check for membership and inclusion of elements`** in a collection of data. For example, if you have a set of valid email addresses and you want to check if a given email address is valid or not, you can use the in operator or the issubset () method to do so.\n",
    "* Sets can be used to **`automate various tasks and processes`** that involve working with collections of data. For example, if you have a lot of data stored in different formats and databases, you can use Python tools like Fabric, Salt or Ansible to combine, clean, and manipulate the data using sets.\n",
    "* Sets can be used for **`stuff automation as well`**. For example, if you have a number of robotic arms for a manufacturing facility, you can use Python to code their movements and interactions using sets."
   ]
  },
  {
   "cell_type": "markdown",
   "id": "e3d41901",
   "metadata": {
    "papermill": {
     "duration": 0.042158,
     "end_time": "2023-04-01T14:17:04.832617",
     "exception": false,
     "start_time": "2023-04-01T14:17:04.790459",
     "status": "completed"
    },
    "tags": []
   },
   "source": [
    "## Errors and Exceptions\n",
    "### Compile Time error vs Runtime error\n",
    "In simple words **`compile time error`** happens even before the code starts running while the **`runtime error`** happens while the code is running i.e is why in runtime error if the code is coorect untill that point then those code will execute unlike compile time error.\n",
    "\n",
    "A **`compile time error`** is an error that occurs when you violate the rules of writing syntax in Python, such as missing a colon, a parenthesis, or a quotation mark. These errors are detected by the compiler **before the program execution begins** and prevent the code from running.\n",
    "\n",
    "```python\n",
    "print(\"Hello world\" # SyntaxError\n",
    "```\n",
    "\n",
    "A **`runtime error`** is an error that occurs when something goes wrong **during the program execution**, such as dividing by zero, accessing an invalid index of a list, or calling a function with wrong arguments. These errors are not detected by the compiler and produce an unpredictable result or an exception at the execution time.\n",
    "\n",
    "```python\n",
    "55/0 # ZeroDivisionError\n",
    "```\n",
    "\n",
    "* The main difference between compile time error and runtime error is that compile time error can be **fixed by correcting the syntax** of the code, while runtime error can be **fixed by handling the exceptions or changing the logic of the code.**\n",
    "\n",
    "---\n",
    "Errors are problems in a program that prevent it from running correctly whereas, Exceptions are events that occur during the execution of a program that disrupt the normal flow of control. There are two types of errors in Python: **syntax errors** and **logical errors**.\n",
    "\n",
    "**`Syntax errors`** occur when the program does not follow the rules of the Python language. For example, forgetting a colon after an if statement or a parenthesis after a print function. Syntax errors are detected by the interpreter **before the program runs** and cause a SyntaxError message. For example:\n",
    "\n",
    "```python\n",
    "amount = 10000\n",
    "if(amount>2999) # SyntaxError: invalid syntax due to no colon :\n",
    "print(\"You are eligible to purchase Dsa Self Paced\")\n",
    "```\n",
    "\n",
    "**`Logical errors`** occur when the program does not do what the programmer intended it to do. For example, dividing a number by zero or using an undefined variable. Logical errors are detected by the interpreter during the program execution and cause an exception message. For example:\n",
    "```python\n",
    "marks = 10000\n",
    "a = marks / 0 # ZeroDivisionError: division by zero\n",
    "print(a)\n",
    "```\n",
    "\n",
    "**`Exceptions`** Python has many built-in exceptions that handle different kinds of errors, such as `ZeroDivisionError, NameError, TypeError, IndexError`, etc. You can see the full list of built-in exceptions here: https://docs.python.org/3/library/exceptions.html\n",
    "\n",
    "\n",
    "### Create Exceptions\n",
    "You can also create your own exceptions by subclassing the Exception class or one of its subclasses. For example:\n",
    "\n",
    "```python\n",
    "class MyError(Exception):\n",
    "    pass\n",
    "\n",
    "raise MyError(\"Something went wrong\")\n",
    "```"
   ]
  },
  {
   "cell_type": "markdown",
   "id": "08296466",
   "metadata": {
    "papermill": {
     "duration": 0.040057,
     "end_time": "2023-04-01T14:17:04.913638",
     "exception": false,
     "start_time": "2023-04-01T14:17:04.873581",
     "status": "completed"
    },
    "tags": []
   },
   "source": [
    "### Exception Handling\n",
    "\n",
    "```python\n",
    "try:\n",
    "    print(\"This block runs when there are no errors\")\n",
    "except:\n",
    "    print(\"This block runs when there is an error in the 'try' block\")\n",
    "finally:\n",
    "    print(\"This block runs no matter what\")\n",
    "```\n",
    "\n",
    "To catch any type of exception we use the **`Exception`** \n",
    "\n",
    "**`finally`** the purpose of this is to do cleanup operations no matter what"
   ]
  },
  {
   "cell_type": "code",
   "execution_count": 87,
   "id": "a8ec69d1",
   "metadata": {
    "execution": {
     "iopub.execute_input": "2023-04-01T14:17:04.997520Z",
     "iopub.status.busy": "2023-04-01T14:17:04.996939Z",
     "iopub.status.idle": "2023-04-01T14:17:05.004325Z",
     "shell.execute_reply": "2023-04-01T14:17:05.002236Z"
    },
    "papermill": {
     "duration": 0.052133,
     "end_time": "2023-04-01T14:17:05.007623",
     "exception": false,
     "start_time": "2023-04-01T14:17:04.955490",
     "status": "completed"
    },
    "tags": []
   },
   "outputs": [
    {
     "name": "stdout",
     "output_type": "stream",
     "text": [
      "Exception!---> <class 'Exception'>\n"
     ]
    }
   ],
   "source": [
    "try:\n",
    "    int(\"ok\") \n",
    "except Exception:\n",
    "    print(f\"Exception!---> {Exception}\")"
   ]
  },
  {
   "cell_type": "markdown",
   "id": "cd249fce",
   "metadata": {
    "papermill": {
     "duration": 0.040873,
     "end_time": "2023-04-01T14:17:05.088445",
     "exception": false,
     "start_time": "2023-04-01T14:17:05.047572",
     "status": "completed"
    },
    "tags": []
   },
   "source": [
    "When we know the Exception."
   ]
  },
  {
   "cell_type": "code",
   "execution_count": 88,
   "id": "493d7732",
   "metadata": {
    "execution": {
     "iopub.execute_input": "2023-04-01T14:17:05.175421Z",
     "iopub.status.busy": "2023-04-01T14:17:05.174735Z",
     "iopub.status.idle": "2023-04-01T14:17:05.182099Z",
     "shell.execute_reply": "2023-04-01T14:17:05.180613Z"
    },
    "papermill": {
     "duration": 0.057272,
     "end_time": "2023-04-01T14:17:05.186708",
     "exception": false,
     "start_time": "2023-04-01T14:17:05.129436",
     "status": "completed"
    },
    "tags": []
   },
   "outputs": [
    {
     "name": "stdout",
     "output_type": "stream",
     "text": [
      "Exception!---> <class 'ValueError'>\n",
      "I will run no matter what\n"
     ]
    }
   ],
   "source": [
    "# When we know the Exception\n",
    "try:\n",
    "    int(\"ok\")\n",
    "except ZeroDivisionError:\n",
    "    print(f\"Exception!---> {ZeroDivisionError}\")\n",
    "except ValueError:\n",
    "    print(f\"Exception!---> {ValueError}\")\n",
    "finally:\n",
    "    print(\"I will run no matter what\")"
   ]
  },
  {
   "cell_type": "markdown",
   "id": "e52b9ff4",
   "metadata": {
    "papermill": {
     "duration": 0.039637,
     "end_time": "2023-04-01T14:17:05.268290",
     "exception": false,
     "start_time": "2023-04-01T14:17:05.228653",
     "status": "completed"
    },
    "tags": []
   },
   "source": [
    "### Raise Exception\n",
    "You can also use the raise statement to explicitly raise an exception when a certain condition is met. You can optionally specify a cause for the exception using the from keyword. For example:\n",
    "\n",
    "```python\n",
    "raise Exception(\"Got you!!!\")\n",
    "\n",
    "raise IndexError(\"See! I told ya, this is an exception of Index\")\n",
    "```\n",
    "\n",
    "```python\n",
    "def sqrt(x):\n",
    "    if x < 0:\n",
    "        raise ValueError(\"Cannot take square root of negative number\") from None\n",
    "    return x ** 0.5\n",
    "\n",
    "print(sqrt(-4))\n",
    "```"
   ]
  },
  {
   "cell_type": "markdown",
   "id": "37bd5cb8",
   "metadata": {
    "papermill": {
     "duration": 0.040261,
     "end_time": "2023-04-01T14:17:05.348324",
     "exception": false,
     "start_time": "2023-04-01T14:17:05.308063",
     "status": "completed"
    },
    "tags": []
   },
   "source": [
    "### Builtin Exceptions\n",
    "Some of the common built-in exceptions are:\n",
    "\n",
    "* **`ArithmeticError`**: Raised when an error occurs in numeric calculations\n",
    "* **`AssertionError`**: Raised when an assert statement fails\n",
    "* **`AttributeError`**: Raised when attribute reference or assignment fails\n",
    "* **`EOFError`**: Raised when the input() function hits end-of-file condition\n",
    "* **`ImportError`**: Raised when an imported module does not exist\n",
    "* **`IndexError`**: Raised when the index of a sequence is out of range\n",
    "* **`KeyError`**: Raised when a key does not exist in a dictionary\n",
    "* **`KeyboardInterrupt`**: Raised when the user presses Ctrl+C, Ctrl+Z or Delete\n",
    "* **`MemoryError`**: Raised when a program runs out of memory\n",
    "* **`NameError`**: Raised when a variable does not exist\n",
    "* **`NotImplementedError`**: Raised when an abstract method requires an inherited class to override the method\n",
    "* **`OSError`**: Raised when a system related operation causes an error\n",
    "* **`OverflowError`**: Raised when the result of a numeric calculation is too large to be represented\n",
    "* **`SyntaxError`**: Raised when a syntax error occurs\n",
    "* **`TypeError`**: Raised when two different types are combined\n",
    "* **`ValueError`**: Raised when there is a wrong value in a specified data type\n",
    "* **`ZeroDivisionError`**: Raised when the second operator in a division is zero"
   ]
  },
  {
   "cell_type": "markdown",
   "id": "3c521367",
   "metadata": {
    "papermill": {
     "duration": 0.147503,
     "end_time": "2023-04-01T14:17:05.537975",
     "exception": false,
     "start_time": "2023-04-01T14:17:05.390472",
     "status": "completed"
    },
    "tags": []
   },
   "source": [
    "## Functions"
   ]
  },
  {
   "cell_type": "code",
   "execution_count": null,
   "id": "4af2ca73",
   "metadata": {
    "papermill": {
     "duration": 0.039711,
     "end_time": "2023-04-01T14:17:05.620417",
     "exception": false,
     "start_time": "2023-04-01T14:17:05.580706",
     "status": "completed"
    },
    "tags": []
   },
   "outputs": [],
   "source": []
  }
 ],
 "metadata": {
  "kernelspec": {
   "display_name": "Python 3",
   "language": "python",
   "name": "python3"
  },
  "language_info": {
   "codemirror_mode": {
    "name": "ipython",
    "version": 3
   },
   "file_extension": ".py",
   "mimetype": "text/x-python",
   "name": "python",
   "nbconvert_exporter": "python",
   "pygments_lexer": "ipython3",
   "version": "3.7.12"
  },
  "papermill": {
   "default_parameters": {},
   "duration": 31.889093,
   "end_time": "2023-04-01T14:17:06.687439",
   "environment_variables": {},
   "exception": null,
   "input_path": "__notebook__.ipynb",
   "output_path": "__notebook__.ipynb",
   "parameters": {},
   "start_time": "2023-04-01T14:16:34.798346",
   "version": "2.4.0"
  }
 },
 "nbformat": 4,
 "nbformat_minor": 5
}
