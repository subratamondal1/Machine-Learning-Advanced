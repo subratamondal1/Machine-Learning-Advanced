{
  "nbformat": 4,
  "nbformat_minor": 0,
  "metadata": {
    "colab": {
      "provenance": [],
      "authorship_tag": "ABX9TyPbAFDyYvxFtiyWR9STQnLj",
      "include_colab_link": true
    },
    "kernelspec": {
      "name": "python3",
      "display_name": "Python 3"
    },
    "language_info": {
      "name": "python"
    }
  },
  "cells": [
    {
      "cell_type": "markdown",
      "metadata": {
        "id": "view-in-github",
        "colab_type": "text"
      },
      "source": [
        "<a href=\"https://colab.research.google.com/github/subratamondal1/Machine-Learning-Advanced/blob/main/Tensors_Tensorflow.ipynb\" target=\"_parent\"><img src=\"https://colab.research.google.com/assets/colab-badge.svg\" alt=\"Open In Colab\"/></a>"
      ]
    },
    {
      "cell_type": "markdown",
      "source": [
        "# Tensors \n",
        "- Tensors are **multidimensional arrays**\n",
        "- Ordered arrangement of numbers\n",
        "\n",
        "Tensors can be :\n",
        "- Zero Dimensional e.g 5 or 4 or 66\n",
        "- 1 Dimensional e.g [1,4,5] or [8,6,8]\n",
        "- 2 Dimensional e.g [[1,2,3],[4,5,6]]"
      ],
      "metadata": {
        "id": "vCsSQ9D9-0ck"
      }
    },
    {
      "cell_type": "code",
      "execution_count": 1,
      "metadata": {
        "id": "HMQbKesp-w1A"
      },
      "outputs": [],
      "source": [
        "import tensorflow as tf"
      ]
    },
    {
      "cell_type": "markdown",
      "source": [
        "## Initialization"
      ],
      "metadata": {
        "id": "OdNsVT1uFLZS"
      }
    },
    {
      "cell_type": "markdown",
      "source": [
        "### Zero Dimensional Tensor"
      ],
      "metadata": {
        "id": "3KPKmFgq_2yl"
      }
    },
    {
      "cell_type": "code",
      "source": [
        "# Zero dimensional Tensor\n",
        "tensor_zero_dim = tf.constant(1)\n",
        "print(tensor_zero_dim)"
      ],
      "metadata": {
        "id": "xYGnhJWUh6Xg",
        "outputId": "61966666-f146-4944-f543-8e5be764e41d",
        "colab": {
          "base_uri": "https://localhost:8080/"
        }
      },
      "execution_count": 2,
      "outputs": [
        {
          "output_type": "stream",
          "name": "stdout",
          "text": [
            "tf.Tensor(1, shape=(), dtype=int32)\n"
          ]
        }
      ]
    },
    {
      "cell_type": "code",
      "source": [
        "print(tensor_zero_dim.shape)\n",
        "print(tensor_zero_dim.ndim)"
      ],
      "metadata": {
        "id": "bjc6x2ZM_Qfo",
        "outputId": "3df225b0-e85a-4197-90c8-d46b0d52a9be",
        "colab": {
          "base_uri": "https://localhost:8080/"
        }
      },
      "execution_count": 3,
      "outputs": [
        {
          "output_type": "stream",
          "name": "stdout",
          "text": [
            "()\n",
            "0\n"
          ]
        }
      ]
    },
    {
      "cell_type": "markdown",
      "source": [
        "### One Dimensional Tensor\n",
        "Form by stacking multiple Zero Dimensional Tensors"
      ],
      "metadata": {
        "id": "1oVoTO6L_9EC"
      }
    },
    {
      "cell_type": "code",
      "source": [
        "# One dimensional Tensor\n",
        "tensor_one_dim = tf.constant([1,2,3])\n",
        "print(tensor_one_dim)"
      ],
      "metadata": {
        "id": "RagfhDTDicOk",
        "outputId": "0d8160c4-3a0d-479e-b41b-c560ef169ab2",
        "colab": {
          "base_uri": "https://localhost:8080/"
        }
      },
      "execution_count": 4,
      "outputs": [
        {
          "output_type": "stream",
          "name": "stdout",
          "text": [
            "tf.Tensor([1 2 3], shape=(3,), dtype=int32)\n"
          ]
        }
      ]
    },
    {
      "cell_type": "code",
      "source": [
        "print(tensor_one_dim.shape)\n",
        "print(tensor_one_dim.ndim)"
      ],
      "metadata": {
        "id": "rWX6ne3H_X8w",
        "outputId": "d47f55e1-2676-4f4c-a5b8-f2f3bb44c73f",
        "colab": {
          "base_uri": "https://localhost:8080/"
        }
      },
      "execution_count": 5,
      "outputs": [
        {
          "output_type": "stream",
          "name": "stdout",
          "text": [
            "(3,)\n",
            "1\n"
          ]
        }
      ]
    },
    {
      "cell_type": "markdown",
      "source": [
        "### Two Dimensional Tensor\n",
        "Form by stacking multiple One Dimensional Tensors"
      ],
      "metadata": {
        "id": "xEF_9s-mAH4a"
      }
    },
    {
      "cell_type": "code",
      "source": [
        "# Two dimensional Tensor\n",
        "tensor_two_dim = tf.constant([\n",
        "    [1,2,3],\n",
        "    [4,5,6],\n",
        "    [7,8,9]\n",
        "])\n",
        "print(tensor_two_dim)"
      ],
      "metadata": {
        "id": "U9dyw7Gfi6Vb",
        "outputId": "a09f8d2c-44f8-43d3-9399-295109dfb64e",
        "colab": {
          "base_uri": "https://localhost:8080/"
        }
      },
      "execution_count": 6,
      "outputs": [
        {
          "output_type": "stream",
          "name": "stdout",
          "text": [
            "tf.Tensor(\n",
            "[[1 2 3]\n",
            " [4 5 6]\n",
            " [7 8 9]], shape=(3, 3), dtype=int32)\n"
          ]
        }
      ]
    },
    {
      "cell_type": "code",
      "source": [
        "print(tensor_two_dim.shape)\n",
        "print(tensor_two_dim.ndim)"
      ],
      "metadata": {
        "id": "fRcb4pBX_bgY",
        "outputId": "551e83b7-1dab-47dd-c3ff-3c6859426b5f",
        "colab": {
          "base_uri": "https://localhost:8080/"
        }
      },
      "execution_count": 7,
      "outputs": [
        {
          "output_type": "stream",
          "name": "stdout",
          "text": [
            "(3, 3)\n",
            "2\n"
          ]
        }
      ]
    },
    {
      "cell_type": "markdown",
      "source": [
        "### Three Dimensional Tensor\n",
        "Form by stacking multiple Two Dimensional Tensors"
      ],
      "metadata": {
        "id": "uWn7AXx8ALtp"
      }
    },
    {
      "cell_type": "code",
      "source": [
        "# Three dimensional Tensor\n",
        "tensor_three_dim = tf.constant([\n",
        "    [\n",
        "    [1,2,3],\n",
        "    [4,5,6]\n",
        "    ],\n",
        "    [\n",
        "    [1,2,3],\n",
        "    [4,5,6]\n",
        "    ],\n",
        "    [\n",
        "    [1,2,3],\n",
        "    [4,5,6]\n",
        "    ],\n",
        "\n",
        "])\n",
        "print(tensor_three_dim)"
      ],
      "metadata": {
        "id": "Zc7E0rbUjLDG",
        "outputId": "0c5f7ce4-b94f-4c40-c8b0-4c40c55b8b71",
        "colab": {
          "base_uri": "https://localhost:8080/"
        }
      },
      "execution_count": 8,
      "outputs": [
        {
          "output_type": "stream",
          "name": "stdout",
          "text": [
            "tf.Tensor(\n",
            "[[[1 2 3]\n",
            "  [4 5 6]]\n",
            "\n",
            " [[1 2 3]\n",
            "  [4 5 6]]\n",
            "\n",
            " [[1 2 3]\n",
            "  [4 5 6]]], shape=(3, 2, 3), dtype=int32)\n"
          ]
        }
      ]
    },
    {
      "cell_type": "code",
      "source": [
        "print(tensor_three_dim.shape)\n",
        "print(tensor_three_dim.ndim)"
      ],
      "metadata": {
        "id": "V1N1YtEIkAwG",
        "outputId": "90300849-b0d1-45f8-dcda-a91563885c94",
        "colab": {
          "base_uri": "https://localhost:8080/"
        }
      },
      "execution_count": 9,
      "outputs": [
        {
          "output_type": "stream",
          "name": "stdout",
          "text": [
            "(3, 2, 3)\n",
            "3\n"
          ]
        }
      ]
    },
    {
      "cell_type": "markdown",
      "source": [
        "### Fourth Dimensional Tensor\n",
        "Form by stacking multiple Three Dimensional Tensors"
      ],
      "metadata": {
        "id": "4p-RZd3YAPrO"
      }
    },
    {
      "cell_type": "code",
      "source": [
        "# Four dimensional Tensor\n",
        "tensor_four_dim = tf.constant([\n",
        "    [[\n",
        "    [1,2,3],\n",
        "    [4,5,6]\n",
        "    ],\n",
        "    [\n",
        "    [1,2,3],\n",
        "    [4,5,6]\n",
        "    ],\n",
        "    [\n",
        "    [1,2,3],\n",
        "    [4,5,6]\n",
        "    ],],\n",
        "    [[\n",
        "    [1,2,3],\n",
        "    [4,5,6]\n",
        "    ],\n",
        "    [\n",
        "    [1,2,3],\n",
        "    [4,5,6]\n",
        "    ],\n",
        "    [\n",
        "    [1,2,3],\n",
        "    [4,5,6]\n",
        "    ],]\n",
        "])\n",
        "print(tensor_four_dim)"
      ],
      "metadata": {
        "id": "diCtnyTx_gvr",
        "outputId": "8b818927-cc16-4e55-a501-3153688dd54c",
        "colab": {
          "base_uri": "https://localhost:8080/"
        }
      },
      "execution_count": 10,
      "outputs": [
        {
          "output_type": "stream",
          "name": "stdout",
          "text": [
            "tf.Tensor(\n",
            "[[[[1 2 3]\n",
            "   [4 5 6]]\n",
            "\n",
            "  [[1 2 3]\n",
            "   [4 5 6]]\n",
            "\n",
            "  [[1 2 3]\n",
            "   [4 5 6]]]\n",
            "\n",
            "\n",
            " [[[1 2 3]\n",
            "   [4 5 6]]\n",
            "\n",
            "  [[1 2 3]\n",
            "   [4 5 6]]\n",
            "\n",
            "  [[1 2 3]\n",
            "   [4 5 6]]]], shape=(2, 3, 2, 3), dtype=int32)\n"
          ]
        }
      ]
    },
    {
      "cell_type": "code",
      "source": [
        "print(tensor_four_dim.shape)\n",
        "print(tensor_four_dim.ndim)"
      ],
      "metadata": {
        "id": "3FofSOaMAkCr",
        "outputId": "f02ccce6-2ade-4244-8a65-98a820f0625f",
        "colab": {
          "base_uri": "https://localhost:8080/"
        }
      },
      "execution_count": 11,
      "outputs": [
        {
          "output_type": "stream",
          "name": "stdout",
          "text": [
            "(2, 3, 2, 3)\n",
            "4\n"
          ]
        }
      ]
    },
    {
      "cell_type": "markdown",
      "source": [
        "## Casting\n",
        "```python\n",
        "tf.cast(x, dtype, name=None)\n",
        "```"
      ],
      "metadata": {
        "id": "kHgCQMFvFWTu"
      }
    },
    {
      "cell_type": "code",
      "source": [
        "print(tensor_two_dim)\n",
        "casted_tensor_two_dim = tf.cast(tensor_two_dim, tf.int16)\n",
        "print(casted_tensor_two_dim)"
      ],
      "metadata": {
        "id": "v14owZrABRkh",
        "outputId": "5c82e454-32d8-49fd-b49b-f8d44421fd6d",
        "colab": {
          "base_uri": "https://localhost:8080/"
        }
      },
      "execution_count": 12,
      "outputs": [
        {
          "output_type": "stream",
          "name": "stdout",
          "text": [
            "tf.Tensor(\n",
            "[[1 2 3]\n",
            " [4 5 6]\n",
            " [7 8 9]], shape=(3, 3), dtype=int32)\n",
            "tf.Tensor(\n",
            "[[1 2 3]\n",
            " [4 5 6]\n",
            " [7 8 9]], shape=(3, 3), dtype=int16)\n"
          ]
        }
      ]
    },
    {
      "cell_type": "code",
      "source": [
        "print(tensor_two_dim)\n",
        "casted_tensor_two_dim = tf.cast(tensor_two_dim, tf.uint16)\n",
        "print(casted_tensor_two_dim)"
      ],
      "metadata": {
        "id": "UoL-AYgsFeKP",
        "outputId": "b9b677ce-535a-491c-8e7d-036c9d41130f",
        "colab": {
          "base_uri": "https://localhost:8080/"
        }
      },
      "execution_count": 13,
      "outputs": [
        {
          "output_type": "stream",
          "name": "stdout",
          "text": [
            "tf.Tensor(\n",
            "[[1 2 3]\n",
            " [4 5 6]\n",
            " [7 8 9]], shape=(3, 3), dtype=int32)\n",
            "tf.Tensor(\n",
            "[[1 2 3]\n",
            " [4 5 6]\n",
            " [7 8 9]], shape=(3, 3), dtype=uint16)\n"
          ]
        }
      ]
    },
    {
      "cell_type": "markdown",
      "source": [
        "## Initializing"
      ],
      "metadata": {
        "id": "pQjW4FrtHBsS"
      }
    },
    {
      "cell_type": "code",
      "source": [
        "import numpy as np"
      ],
      "metadata": {
        "id": "kS8MF_o3GGdd"
      },
      "execution_count": 14,
      "outputs": []
    },
    {
      "cell_type": "code",
      "source": [
        "x_np = np.array([1,2,3])\n",
        "print(x_np)"
      ],
      "metadata": {
        "id": "dDsA1_PLHFX6",
        "outputId": "1f569b57-f7eb-461e-ee8f-bf3a5e1fe373",
        "colab": {
          "base_uri": "https://localhost:8080/"
        }
      },
      "execution_count": 15,
      "outputs": [
        {
          "output_type": "stream",
          "name": "stdout",
          "text": [
            "[1 2 3]\n"
          ]
        }
      ]
    },
    {
      "cell_type": "markdown",
      "source": [
        "## Convert to Tensor from Numpy array\n",
        "```python\n",
        "tf.convert_to_tensor(value, dtype=None, dtype_hint=None, name=None)\n",
        "```"
      ],
      "metadata": {
        "id": "tKpVm4ilHOk0"
      }
    },
    {
      "cell_type": "code",
      "source": [
        "x_np_to_tensor = tf.convert_to_tensor(x_np)\n",
        "print(x_np_to_tensor)\n",
        "\n",
        "x_np_to_tensor = tf.convert_to_tensor(x_np, dtype=tf.int16)\n",
        "print(x_np_to_tensor)"
      ],
      "metadata": {
        "id": "u9behY05HKwv",
        "outputId": "6fa49d85-3888-4a95-f673-faae1e36065d",
        "colab": {
          "base_uri": "https://localhost:8080/"
        }
      },
      "execution_count": 16,
      "outputs": [
        {
          "output_type": "stream",
          "name": "stdout",
          "text": [
            "tf.Tensor([1 2 3], shape=(3,), dtype=int64)\n",
            "tf.Tensor([1 2 3], shape=(3,), dtype=int16)\n"
          ]
        }
      ]
    },
    {
      "cell_type": "markdown",
      "source": [
        "## Identity Matrix\n",
        "In case of Identity Matrix we assign value = 1 whenever column_position = row_position\n",
        "```python\n",
        "tf.eye(num_rows, num_columns=None, batch_shape=None, dtype=dtypes.float32, name=None)\n",
        "```"
      ],
      "metadata": {
        "id": "87u8pzixIPZo"
      }
    },
    {
      "cell_type": "code",
      "source": [
        "identity_matrix = tf.eye(5, dtype = tf.float16)\n",
        "print(identity_matrix)\n",
        "\n",
        "identity_matrix = tf.eye(5,4, dtype = tf.float16)\n",
        "print(identity_matrix)"
      ],
      "metadata": {
        "id": "5kG5iKHdHkRi",
        "outputId": "83b768ee-248a-4bbc-f2f9-2e42b852dc29",
        "colab": {
          "base_uri": "https://localhost:8080/"
        }
      },
      "execution_count": 17,
      "outputs": [
        {
          "output_type": "stream",
          "name": "stdout",
          "text": [
            "tf.Tensor(\n",
            "[[1. 0. 0. 0. 0.]\n",
            " [0. 1. 0. 0. 0.]\n",
            " [0. 0. 1. 0. 0.]\n",
            " [0. 0. 0. 1. 0.]\n",
            " [0. 0. 0. 0. 1.]], shape=(5, 5), dtype=float16)\n",
            "tf.Tensor(\n",
            "[[1. 0. 0. 0.]\n",
            " [0. 1. 0. 0.]\n",
            " [0. 0. 1. 0.]\n",
            " [0. 0. 0. 1.]\n",
            " [0. 0. 0. 0.]], shape=(5, 4), dtype=float16)\n"
          ]
        }
      ]
    },
    {
      "cell_type": "code",
      "source": [
        "identity_matrix = tf.eye(3,3,batch_shape=[2], dtype = tf.float16)\n",
        "print(identity_matrix)"
      ],
      "metadata": {
        "id": "jP8tKASDIWYS",
        "outputId": "e28f6231-2fee-4733-efea-7477e1a7f5a1",
        "colab": {
          "base_uri": "https://localhost:8080/"
        }
      },
      "execution_count": 18,
      "outputs": [
        {
          "output_type": "stream",
          "name": "stdout",
          "text": [
            "tf.Tensor(\n",
            "[[[1. 0. 0.]\n",
            "  [0. 1. 0.]\n",
            "  [0. 0. 1.]]\n",
            "\n",
            " [[1. 0. 0.]\n",
            "  [0. 1. 0.]\n",
            "  [0. 0. 1.]]], shape=(2, 3, 3), dtype=float16)\n"
          ]
        }
      ]
    },
    {
      "cell_type": "markdown",
      "source": [
        "## Fill Tensors\n",
        "```python\n",
        "tf.fill(dims, value, name=None)\n",
        "```"
      ],
      "metadata": {
        "id": "Ux7Pc0sMKQNr"
      }
    },
    {
      "cell_type": "code",
      "source": [
        "fill_9 = tf.fill([3,3],9)\n",
        "print(fill_9)"
      ],
      "metadata": {
        "id": "id3cA-xuKVAb",
        "outputId": "9d922f39-e4e6-4b2c-dc45-b7f6c71249b2",
        "colab": {
          "base_uri": "https://localhost:8080/"
        }
      },
      "execution_count": 19,
      "outputs": [
        {
          "output_type": "stream",
          "name": "stdout",
          "text": [
            "tf.Tensor(\n",
            "[[9 9 9]\n",
            " [9 9 9]\n",
            " [9 9 9]], shape=(3, 3), dtype=int32)\n"
          ]
        }
      ]
    },
    {
      "cell_type": "markdown",
      "source": [
        "## Ones\n",
        "```python\n",
        "tf.ones(shape, dtype=dtypes.float32, name=None)\n",
        "```"
      ],
      "metadata": {
        "id": "CQrBku8LK8TC"
      }
    },
    {
      "cell_type": "code",
      "source": [
        "ones_tensor = tf.ones([3,3])\n",
        "print(ones_tensor)"
      ],
      "metadata": {
        "id": "0XCmVIUrKd8Z",
        "outputId": "c3e1f7af-0441-4cff-8a20-6422357ab9d6",
        "colab": {
          "base_uri": "https://localhost:8080/"
        }
      },
      "execution_count": 20,
      "outputs": [
        {
          "output_type": "stream",
          "name": "stdout",
          "text": [
            "tf.Tensor(\n",
            "[[1. 1. 1.]\n",
            " [1. 1. 1.]\n",
            " [1. 1. 1.]], shape=(3, 3), dtype=float32)\n"
          ]
        }
      ]
    },
    {
      "cell_type": "markdown",
      "source": [
        "## Ones Like"
      ],
      "metadata": {
        "id": "jKwIUTvCL7SY"
      }
    },
    {
      "cell_type": "code",
      "source": [
        "ones_like_four_dim = tf.ones_like(tensor_four_dim)\n",
        "print(ones_like_four_dim)"
      ],
      "metadata": {
        "id": "izrehts4LCxs",
        "outputId": "0eca4a8b-9e0d-4a4f-cee9-c48fce1f8009",
        "colab": {
          "base_uri": "https://localhost:8080/"
        }
      },
      "execution_count": 21,
      "outputs": [
        {
          "output_type": "stream",
          "name": "stdout",
          "text": [
            "tf.Tensor(\n",
            "[[[[1 1 1]\n",
            "   [1 1 1]]\n",
            "\n",
            "  [[1 1 1]\n",
            "   [1 1 1]]\n",
            "\n",
            "  [[1 1 1]\n",
            "   [1 1 1]]]\n",
            "\n",
            "\n",
            " [[[1 1 1]\n",
            "   [1 1 1]]\n",
            "\n",
            "  [[1 1 1]\n",
            "   [1 1 1]]\n",
            "\n",
            "  [[1 1 1]\n",
            "   [1 1 1]]]], shape=(2, 3, 2, 3), dtype=int32)\n"
          ]
        }
      ]
    },
    {
      "cell_type": "markdown",
      "source": [
        "## Random Normal Initializer\n",
        "```python\n",
        "tf.random_normal_initializer(\n",
        "    mean=0.0, stddev=0.05, seed=None\n",
        ")\n",
        "```"
      ],
      "metadata": {
        "id": "Oq2cdzeIMmHu"
      }
    },
    {
      "cell_type": "code",
      "source": [
        "random_normal = tf.random_normal_initializer(\n",
        "    mean=0.0, stddev=0.05, seed=None\n",
        ")\n",
        "\n",
        "random_normal_tensor = random_normal([3,3])\n",
        "print(random_normal_tensor)\n"
      ],
      "metadata": {
        "id": "iUCS6DFrMLwa",
        "outputId": "934d9eb9-a011-4d74-ba5c-533f312b89c4",
        "colab": {
          "base_uri": "https://localhost:8080/"
        }
      },
      "execution_count": 22,
      "outputs": [
        {
          "output_type": "stream",
          "name": "stdout",
          "text": [
            "tf.Tensor(\n",
            "[[ 0.06272487  0.00014362  0.01923815]\n",
            " [-0.02408756 -0.01294771 -0.10510434]\n",
            " [ 0.00880159  0.09291355  0.08611438]], shape=(3, 3), dtype=float32)\n"
          ]
        }
      ]
    },
    {
      "cell_type": "markdown",
      "source": [
        "## Range Tensor\n",
        "```python\n",
        "tf.range(start, limit=None, delta=1, dtype=None, name='range')\n",
        "```"
      ],
      "metadata": {
        "id": "SaRMGBjNNlDo"
      }
    },
    {
      "cell_type": "code",
      "source": [
        "range_tensor = tf.range(2,10)\n",
        "print(range_tensor)\n",
        "\n",
        "range_tensor = tf.range(2,10, delta=2)\n",
        "print(range_tensor)"
      ],
      "metadata": {
        "id": "v9W5xdcnMzT6",
        "outputId": "7fed95ba-9c36-4487-b0d3-02dd28b04f0b",
        "colab": {
          "base_uri": "https://localhost:8080/"
        }
      },
      "execution_count": 23,
      "outputs": [
        {
          "output_type": "stream",
          "name": "stdout",
          "text": [
            "tf.Tensor([2 3 4 5 6 7 8 9], shape=(8,), dtype=int32)\n",
            "tf.Tensor([2 4 6 8], shape=(4,), dtype=int32)\n"
          ]
        }
      ]
    },
    {
      "cell_type": "markdown",
      "source": [
        "## Tensor Shape\n",
        "```python\n",
        "tf.shape(input, out_type=dtypes.int32, name=None)\n",
        "```"
      ],
      "metadata": {
        "id": "sqTNupVNrJ6X"
      }
    },
    {
      "cell_type": "code",
      "source": [
        "print(tf.shape(tensor_four_dim))\n",
        "print(tensor_four_dim.shape)"
      ],
      "metadata": {
        "id": "UAp17rgINv_U",
        "outputId": "37494823-c5b1-4705-cb47-9a613e296d97",
        "colab": {
          "base_uri": "https://localhost:8080/"
        }
      },
      "execution_count": 24,
      "outputs": [
        {
          "output_type": "stream",
          "name": "stdout",
          "text": [
            "tf.Tensor([2 3 2 3], shape=(4,), dtype=int32)\n",
            "(2, 3, 2, 3)\n"
          ]
        }
      ]
    },
    {
      "cell_type": "markdown",
      "source": [
        "## Tensor Size\n",
        "```python\n",
        "tf.size(input, out_type=dtypes.int32, name=None)\n",
        "```"
      ],
      "metadata": {
        "id": "XU67KSzcr_2f"
      }
    },
    {
      "cell_type": "code",
      "source": [
        "print(tf.size(tensor_four_dim))"
      ],
      "metadata": {
        "id": "dC9UesymrV7K",
        "outputId": "ce96e506-6fa2-484d-c1af-9f8e8141e2fc",
        "colab": {
          "base_uri": "https://localhost:8080/"
        }
      },
      "execution_count": 25,
      "outputs": [
        {
          "output_type": "stream",
          "name": "stdout",
          "text": [
            "tf.Tensor(36, shape=(), dtype=int32)\n"
          ]
        }
      ]
    },
    {
      "cell_type": "markdown",
      "source": [
        "## Random Generator\n",
        "```python\n",
        "tf.random.Generator\n",
        "```"
      ],
      "metadata": {
        "id": "wze-lQ_WtFmf"
      }
    },
    {
      "cell_type": "code",
      "source": [
        "# non_deterministic_state\n",
        "g = tf.random.Generator.from_non_deterministic_state()\n",
        "g.normal([3,3])"
      ],
      "metadata": {
        "id": "QncO_KrysGXB",
        "outputId": "9145758b-4ed8-4d14-db61-105b4fec3a72",
        "colab": {
          "base_uri": "https://localhost:8080/"
        }
      },
      "execution_count": 26,
      "outputs": [
        {
          "output_type": "execute_result",
          "data": {
            "text/plain": [
              "<tf.Tensor: shape=(3, 3), dtype=float32, numpy=\n",
              "array([[-0.38660228, -0.36674067, -0.57759047],\n",
              "       [ 0.18976256, -0.9500818 , -0.97106   ],\n",
              "       [-1.3394158 ,  0.6468262 , -1.1168596 ]], dtype=float32)>"
            ]
          },
          "metadata": {},
          "execution_count": 26
        }
      ]
    },
    {
      "cell_type": "code",
      "source": [
        "g = tf.random.Generator.from_seed(44)\n",
        "g.normal([3,3])"
      ],
      "metadata": {
        "id": "wArkj4Jdtckq",
        "outputId": "beb5947b-66d6-49d4-cdb9-5c6819ba0ccb",
        "colab": {
          "base_uri": "https://localhost:8080/"
        }
      },
      "execution_count": 27,
      "outputs": [
        {
          "output_type": "execute_result",
          "data": {
            "text/plain": [
              "<tf.Tensor: shape=(3, 3), dtype=float32, numpy=\n",
              "array([[-0.7535805 , -0.57166284,  0.1480774 ],\n",
              "       [-0.23362993, -0.3522796 ,  0.40621263],\n",
              "       [-1.0523509 ,  1.2054597 ,  1.6874489 ]], dtype=float32)>"
            ]
          },
          "metadata": {},
          "execution_count": 27
        }
      ]
    },
    {
      "cell_type": "code",
      "source": [
        "g.uniform([3,3], minval=5, maxval=10)"
      ],
      "metadata": {
        "id": "GUMOKnXDuLNQ",
        "outputId": "d84ac0c9-3756-4255-98d1-99581194765f",
        "colab": {
          "base_uri": "https://localhost:8080/"
        }
      },
      "execution_count": 28,
      "outputs": [
        {
          "output_type": "execute_result",
          "data": {
            "text/plain": [
              "<tf.Tensor: shape=(3, 3), dtype=float32, numpy=\n",
              "array([[9.4899845, 6.105037 , 5.2075167],\n",
              "       [6.480558 , 9.863672 , 8.113667 ],\n",
              "       [6.1707153, 8.707638 , 5.3802943]], dtype=float32)>"
            ]
          },
          "metadata": {},
          "execution_count": 28
        }
      ]
    },
    {
      "cell_type": "markdown",
      "source": [
        "## Tensor Indexed"
      ],
      "metadata": {
        "id": "9aLgxGtaIPym"
      }
    },
    {
      "cell_type": "code",
      "source": [
        "tensor_indexed = tf.constant([4,5,6,7,8,9])\n",
        "print(tensor_indexed[0:4])\n",
        "print(tensor_indexed[2:5])"
      ],
      "metadata": {
        "id": "qZ0jeLQRwsny",
        "outputId": "51bb868c-476e-4181-f1d0-825d4d739de4",
        "colab": {
          "base_uri": "https://localhost:8080/"
        }
      },
      "execution_count": 30,
      "outputs": [
        {
          "output_type": "stream",
          "name": "stdout",
          "text": [
            "tf.Tensor([4 5 6 7], shape=(4,), dtype=int32)\n",
            "tf.Tensor([6 7 8], shape=(3,), dtype=int32)\n"
          ]
        }
      ]
    },
    {
      "cell_type": "code",
      "source": [
        "tf.range(2,8)"
      ],
      "metadata": {
        "id": "cYQe0nEgI2TL",
        "outputId": "6c171fa4-f4c8-4878-9ae4-e04dd7e34210",
        "colab": {
          "base_uri": "https://localhost:8080/"
        }
      },
      "execution_count": 31,
      "outputs": [
        {
          "output_type": "execute_result",
          "data": {
            "text/plain": [
              "<tf.Tensor: shape=(6,), dtype=int32, numpy=array([2, 3, 4, 5, 6, 7], dtype=int32)>"
            ]
          },
          "metadata": {},
          "execution_count": 31
        }
      ]
    },
    {
      "cell_type": "code",
      "source": [
        "tf.range(2,8,2)"
      ],
      "metadata": {
        "id": "wbzRVJZZKJ23",
        "outputId": "23db3c17-53de-4d4b-8948-806f040228a6",
        "colab": {
          "base_uri": "https://localhost:8080/"
        }
      },
      "execution_count": 32,
      "outputs": [
        {
          "output_type": "execute_result",
          "data": {
            "text/plain": [
              "<tf.Tensor: shape=(3,), dtype=int32, numpy=array([2, 4, 6], dtype=int32)>"
            ]
          },
          "metadata": {},
          "execution_count": 32
        }
      ]
    },
    {
      "cell_type": "code",
      "source": [],
      "metadata": {
        "id": "VkXMMEYlKUaQ"
      },
      "execution_count": null,
      "outputs": []
    }
  ]
}