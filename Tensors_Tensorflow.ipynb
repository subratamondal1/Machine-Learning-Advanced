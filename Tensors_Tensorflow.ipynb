{
  "nbformat": 4,
  "nbformat_minor": 0,
  "metadata": {
    "colab": {
      "provenance": [],
      "authorship_tag": "ABX9TyPykcgNbDuRXLrRGK870hFu",
      "include_colab_link": true
    },
    "kernelspec": {
      "name": "python3",
      "display_name": "Python 3"
    },
    "language_info": {
      "name": "python"
    }
  },
  "cells": [
    {
      "cell_type": "markdown",
      "metadata": {
        "id": "view-in-github",
        "colab_type": "text"
      },
      "source": [
        "<a href=\"https://colab.research.google.com/github/subratamondal1/Machine-Learning-Advanced/blob/main/Tensors_Tensorflow.ipynb\" target=\"_parent\"><img src=\"https://colab.research.google.com/assets/colab-badge.svg\" alt=\"Open In Colab\"/></a>"
      ]
    },
    {
      "cell_type": "markdown",
      "source": [
        "# Tensors \n",
        "- Tensors are **multidimensional arrays**\n",
        "- Ordered arrangement of numbers\n",
        "\n",
        "Tensors can be :\n",
        "- Zero Dimensional e.g 5 or 4 or 66\n",
        "- 1 Dimensional e.g [1,4,5] or [8,6,8]\n",
        "- 2 Dimensional e.g [[1,2,3],[4,5,6]]"
      ],
      "metadata": {
        "id": "vCsSQ9D9-0ck"
      }
    },
    {
      "cell_type": "code",
      "execution_count": 1,
      "metadata": {
        "id": "HMQbKesp-w1A"
      },
      "outputs": [],
      "source": [
        "import tensorflow as tf"
      ]
    },
    {
      "cell_type": "code",
      "source": [
        "# Zero dimensional Tensor\n",
        "tensor_zero_dim = tf.constant(1)\n",
        "print(tensor_zero_dim)"
      ],
      "metadata": {
        "id": "xYGnhJWUh6Xg",
        "outputId": "20e36333-38b7-4e55-a537-c8ca88e28a6a",
        "colab": {
          "base_uri": "https://localhost:8080/"
        }
      },
      "execution_count": 2,
      "outputs": [
        {
          "output_type": "stream",
          "name": "stdout",
          "text": [
            "tf.Tensor(1, shape=(), dtype=int32)\n"
          ]
        }
      ]
    },
    {
      "cell_type": "code",
      "source": [
        "# One dimensional Tensor\n",
        "tensor_one_dim = tf.constant([1,2,3])\n",
        "print(tensor_one_dim)"
      ],
      "metadata": {
        "id": "RagfhDTDicOk",
        "outputId": "645959eb-a5ef-4ca7-cc8e-064ac7bd3bf5",
        "colab": {
          "base_uri": "https://localhost:8080/"
        }
      },
      "execution_count": 3,
      "outputs": [
        {
          "output_type": "stream",
          "name": "stdout",
          "text": [
            "tf.Tensor([1 2 3], shape=(3,), dtype=int32)\n"
          ]
        }
      ]
    },
    {
      "cell_type": "code",
      "source": [
        "# Two dimensional Tensor\n",
        "tensor_two_dim = tf.constant([\n",
        "    [1,2,3],\n",
        "    [4,5,6],\n",
        "    [7,8,9]\n",
        "])\n",
        "print(tensor_two_dim)"
      ],
      "metadata": {
        "id": "U9dyw7Gfi6Vb",
        "outputId": "51fff0db-9b34-4b4c-cedb-b33321231949",
        "colab": {
          "base_uri": "https://localhost:8080/"
        }
      },
      "execution_count": 4,
      "outputs": [
        {
          "output_type": "stream",
          "name": "stdout",
          "text": [
            "tf.Tensor(\n",
            "[[1 2 3]\n",
            " [4 5 6]\n",
            " [7 8 9]], shape=(3, 3), dtype=int32)\n"
          ]
        }
      ]
    },
    {
      "cell_type": "code",
      "source": [
        "# Three dimensional Tensor\n",
        "tensor_three_dim = tf.constant([\n",
        "    [\n",
        "    [1,2,3],\n",
        "    [4,5,6]\n",
        "    ],\n",
        "    [\n",
        "    [1,2,3],\n",
        "    [4,5,6]\n",
        "    ],\n",
        "    [\n",
        "    [1,2,3],\n",
        "    [4,5,6]\n",
        "    ],\n",
        "\n",
        "])\n",
        "print(tensor_three_dim)"
      ],
      "metadata": {
        "id": "Zc7E0rbUjLDG",
        "outputId": "10775998-d1df-4db7-f635-469ebf71c381",
        "colab": {
          "base_uri": "https://localhost:8080/"
        }
      },
      "execution_count": 6,
      "outputs": [
        {
          "output_type": "stream",
          "name": "stdout",
          "text": [
            "tf.Tensor(\n",
            "[[[1 2 3]\n",
            "  [4 5 6]]\n",
            "\n",
            " [[1 2 3]\n",
            "  [4 5 6]]\n",
            "\n",
            " [[1 2 3]\n",
            "  [4 5 6]]], shape=(3, 2, 3), dtype=int32)\n"
          ]
        }
      ]
    },
    {
      "cell_type": "code",
      "source": [],
      "metadata": {
        "id": "V1N1YtEIkAwG"
      },
      "execution_count": null,
      "outputs": []
    }
  ]
}