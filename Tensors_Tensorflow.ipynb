{
  "nbformat": 4,
  "nbformat_minor": 0,
  "metadata": {
    "colab": {
      "provenance": [],
      "authorship_tag": "ABX9TyNdCDCNYILLk30OcruoHxU0",
      "include_colab_link": true
    },
    "kernelspec": {
      "name": "python3",
      "display_name": "Python 3"
    },
    "language_info": {
      "name": "python"
    }
  },
  "cells": [
    {
      "cell_type": "markdown",
      "metadata": {
        "id": "view-in-github",
        "colab_type": "text"
      },
      "source": [
        "<a href=\"https://colab.research.google.com/github/subratamondal1/Machine-Learning-Advanced/blob/main/Tensors_Tensorflow.ipynb\" target=\"_parent\"><img src=\"https://colab.research.google.com/assets/colab-badge.svg\" alt=\"Open In Colab\"/></a>"
      ]
    },
    {
      "cell_type": "markdown",
      "source": [
        "# Tensors \n",
        "- Tensors are **multidimensional arrays**\n",
        "- Ordered arrangement of numbers\n",
        "\n",
        "Tensors can be :\n",
        "- Zero Dimensional e.g 5 or 4 or 66\n",
        "- 1 Dimensional e.g [1,4,5] or [8,6,8]\n",
        "- 2 Dimensional e.g [[1,2,3],[4,5,6]]"
      ],
      "metadata": {
        "id": "vCsSQ9D9-0ck"
      }
    },
    {
      "cell_type": "code",
      "execution_count": null,
      "metadata": {
        "id": "HMQbKesp-w1A"
      },
      "outputs": [],
      "source": []
    }
  ]
}