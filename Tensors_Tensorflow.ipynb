{
  "nbformat": 4,
  "nbformat_minor": 0,
  "metadata": {
    "colab": {
      "provenance": [],
      "authorship_tag": "ABX9TyOJF0aHCQTSzYNAXgLP5MoX",
      "include_colab_link": true
    },
    "kernelspec": {
      "name": "python3",
      "display_name": "Python 3"
    },
    "language_info": {
      "name": "python"
    }
  },
  "cells": [
    {
      "cell_type": "markdown",
      "metadata": {
        "id": "view-in-github",
        "colab_type": "text"
      },
      "source": [
        "<a href=\"https://colab.research.google.com/github/subratamondal1/Machine-Learning-Advanced/blob/main/Tensors_Tensorflow.ipynb\" target=\"_parent\"><img src=\"https://colab.research.google.com/assets/colab-badge.svg\" alt=\"Open In Colab\"/></a>"
      ]
    },
    {
      "cell_type": "markdown",
      "source": [
        "# Tensors \n",
        "- Tensors are **multidimensional arrays**\n",
        "- Ordered arrangement of numbers\n",
        "\n",
        "Tensors can be :\n",
        "- Zero Dimensional e.g 5 or 4 or 66\n",
        "- 1 Dimensional e.g [1,4,5] or [8,6,8]\n",
        "- 2 Dimensional e.g [[1,2,3],[4,5,6]]"
      ],
      "metadata": {
        "id": "vCsSQ9D9-0ck"
      }
    },
    {
      "cell_type": "code",
      "execution_count": 5,
      "metadata": {
        "id": "HMQbKesp-w1A"
      },
      "outputs": [],
      "source": [
        "import tensorflow as tf"
      ]
    },
    {
      "cell_type": "markdown",
      "source": [
        "## Initialization"
      ],
      "metadata": {
        "id": "OdNsVT1uFLZS"
      }
    },
    {
      "cell_type": "markdown",
      "source": [
        "### Zero Dimensional Tensor"
      ],
      "metadata": {
        "id": "3KPKmFgq_2yl"
      }
    },
    {
      "cell_type": "code",
      "source": [
        "# Zero dimensional Tensor\n",
        "tensor_zero_dim = tf.constant(1)\n",
        "print(tensor_zero_dim)"
      ],
      "metadata": {
        "id": "xYGnhJWUh6Xg",
        "outputId": "d06b5a6c-ae6b-4c4e-83b7-26d1ccd0d53f",
        "colab": {
          "base_uri": "https://localhost:8080/"
        }
      },
      "execution_count": 6,
      "outputs": [
        {
          "output_type": "stream",
          "name": "stdout",
          "text": [
            "tf.Tensor(1, shape=(), dtype=int32)\n"
          ]
        }
      ]
    },
    {
      "cell_type": "code",
      "source": [
        "print(tensor_zero_dim.shape)\n",
        "print(tensor_zero_dim.ndim)"
      ],
      "metadata": {
        "id": "bjc6x2ZM_Qfo",
        "outputId": "ed384dc0-b958-40aa-a5f6-047bdc7b127f",
        "colab": {
          "base_uri": "https://localhost:8080/"
        }
      },
      "execution_count": 10,
      "outputs": [
        {
          "output_type": "stream",
          "name": "stdout",
          "text": [
            "()\n",
            "0\n"
          ]
        }
      ]
    },
    {
      "cell_type": "markdown",
      "source": [
        "### One Dimensional Tensor\n",
        "Form by stacking multiple Zero Dimensional Tensors"
      ],
      "metadata": {
        "id": "1oVoTO6L_9EC"
      }
    },
    {
      "cell_type": "code",
      "source": [
        "# One dimensional Tensor\n",
        "tensor_one_dim = tf.constant([1,2,3])\n",
        "print(tensor_one_dim)"
      ],
      "metadata": {
        "id": "RagfhDTDicOk",
        "outputId": "bb86d104-b152-4539-9fdd-4582cba27a2d",
        "colab": {
          "base_uri": "https://localhost:8080/"
        }
      },
      "execution_count": 7,
      "outputs": [
        {
          "output_type": "stream",
          "name": "stdout",
          "text": [
            "tf.Tensor([1 2 3], shape=(3,), dtype=int32)\n"
          ]
        }
      ]
    },
    {
      "cell_type": "code",
      "source": [
        "print(tensor_one_dim.shape)\n",
        "print(tensor_one_dim.ndim)"
      ],
      "metadata": {
        "id": "rWX6ne3H_X8w",
        "outputId": "822fa630-a220-47b0-b11c-8cf09892257d",
        "colab": {
          "base_uri": "https://localhost:8080/"
        }
      },
      "execution_count": 11,
      "outputs": [
        {
          "output_type": "stream",
          "name": "stdout",
          "text": [
            "(3,)\n",
            "1\n"
          ]
        }
      ]
    },
    {
      "cell_type": "markdown",
      "source": [
        "### Two Dimensional Tensor\n",
        "Form by stacking multiple One Dimensional Tensors"
      ],
      "metadata": {
        "id": "xEF_9s-mAH4a"
      }
    },
    {
      "cell_type": "code",
      "source": [
        "# Two dimensional Tensor\n",
        "tensor_two_dim = tf.constant([\n",
        "    [1,2,3],\n",
        "    [4,5,6],\n",
        "    [7,8,9]\n",
        "])\n",
        "print(tensor_two_dim)"
      ],
      "metadata": {
        "id": "U9dyw7Gfi6Vb",
        "outputId": "e6a357af-c2ea-4a22-a592-e0e50dfcd683",
        "colab": {
          "base_uri": "https://localhost:8080/"
        }
      },
      "execution_count": 8,
      "outputs": [
        {
          "output_type": "stream",
          "name": "stdout",
          "text": [
            "tf.Tensor(\n",
            "[[1 2 3]\n",
            " [4 5 6]\n",
            " [7 8 9]], shape=(3, 3), dtype=int32)\n"
          ]
        }
      ]
    },
    {
      "cell_type": "code",
      "source": [
        "print(tensor_two_dim.shape)\n",
        "print(tensor_two_dim.ndim)"
      ],
      "metadata": {
        "id": "fRcb4pBX_bgY",
        "outputId": "619c3d77-acc9-4be6-c595-f9982fad896a",
        "colab": {
          "base_uri": "https://localhost:8080/"
        }
      },
      "execution_count": 12,
      "outputs": [
        {
          "output_type": "stream",
          "name": "stdout",
          "text": [
            "(3, 3)\n",
            "2\n"
          ]
        }
      ]
    },
    {
      "cell_type": "markdown",
      "source": [
        "### Three Dimensional Tensor\n",
        "Form by stacking multiple Two Dimensional Tensors"
      ],
      "metadata": {
        "id": "uWn7AXx8ALtp"
      }
    },
    {
      "cell_type": "code",
      "source": [
        "# Three dimensional Tensor\n",
        "tensor_three_dim = tf.constant([\n",
        "    [\n",
        "    [1,2,3],\n",
        "    [4,5,6]\n",
        "    ],\n",
        "    [\n",
        "    [1,2,3],\n",
        "    [4,5,6]\n",
        "    ],\n",
        "    [\n",
        "    [1,2,3],\n",
        "    [4,5,6]\n",
        "    ],\n",
        "\n",
        "])\n",
        "print(tensor_three_dim)"
      ],
      "metadata": {
        "id": "Zc7E0rbUjLDG",
        "outputId": "37a7d03c-1c3f-44dd-c484-3e166bdbd1c1",
        "colab": {
          "base_uri": "https://localhost:8080/"
        }
      },
      "execution_count": 9,
      "outputs": [
        {
          "output_type": "stream",
          "name": "stdout",
          "text": [
            "tf.Tensor(\n",
            "[[[1 2 3]\n",
            "  [4 5 6]]\n",
            "\n",
            " [[1 2 3]\n",
            "  [4 5 6]]\n",
            "\n",
            " [[1 2 3]\n",
            "  [4 5 6]]], shape=(3, 2, 3), dtype=int32)\n"
          ]
        }
      ]
    },
    {
      "cell_type": "code",
      "source": [
        "print(tensor_three_dim.shape)\n",
        "print(tensor_three_dim.ndim)"
      ],
      "metadata": {
        "id": "V1N1YtEIkAwG",
        "outputId": "13b80808-3a74-4ed2-88a9-297fe551ca19",
        "colab": {
          "base_uri": "https://localhost:8080/"
        }
      },
      "execution_count": 13,
      "outputs": [
        {
          "output_type": "stream",
          "name": "stdout",
          "text": [
            "(3, 2, 3)\n",
            "3\n"
          ]
        }
      ]
    },
    {
      "cell_type": "markdown",
      "source": [
        "### Fourth Dimensional Tensor\n",
        "Form by stacking multiple Three Dimensional Tensors"
      ],
      "metadata": {
        "id": "4p-RZd3YAPrO"
      }
    },
    {
      "cell_type": "code",
      "source": [
        "# Four dimensional Tensor\n",
        "tensor_four_dim = tf.constant([\n",
        "    [[\n",
        "    [1,2,3],\n",
        "    [4,5,6]\n",
        "    ],\n",
        "    [\n",
        "    [1,2,3],\n",
        "    [4,5,6]\n",
        "    ],\n",
        "    [\n",
        "    [1,2,3],\n",
        "    [4,5,6]\n",
        "    ],],\n",
        "    [[\n",
        "    [1,2,3],\n",
        "    [4,5,6]\n",
        "    ],\n",
        "    [\n",
        "    [1,2,3],\n",
        "    [4,5,6]\n",
        "    ],\n",
        "    [\n",
        "    [1,2,3],\n",
        "    [4,5,6]\n",
        "    ],]\n",
        "])\n",
        "print(tensor_four_dim)"
      ],
      "metadata": {
        "id": "diCtnyTx_gvr",
        "outputId": "d35839e7-2bf6-4190-fc5b-f08116534401",
        "colab": {
          "base_uri": "https://localhost:8080/"
        }
      },
      "execution_count": 14,
      "outputs": [
        {
          "output_type": "stream",
          "name": "stdout",
          "text": [
            "tf.Tensor(\n",
            "[[[[1 2 3]\n",
            "   [4 5 6]]\n",
            "\n",
            "  [[1 2 3]\n",
            "   [4 5 6]]\n",
            "\n",
            "  [[1 2 3]\n",
            "   [4 5 6]]]\n",
            "\n",
            "\n",
            " [[[1 2 3]\n",
            "   [4 5 6]]\n",
            "\n",
            "  [[1 2 3]\n",
            "   [4 5 6]]\n",
            "\n",
            "  [[1 2 3]\n",
            "   [4 5 6]]]], shape=(2, 3, 2, 3), dtype=int32)\n"
          ]
        }
      ]
    },
    {
      "cell_type": "code",
      "source": [
        "print(tensor_four_dim.shape)\n",
        "print(tensor_four_dim.ndim)"
      ],
      "metadata": {
        "id": "3FofSOaMAkCr",
        "outputId": "5abaf821-a8b3-4d5e-8b83-32e277bb35cd",
        "colab": {
          "base_uri": "https://localhost:8080/"
        }
      },
      "execution_count": 15,
      "outputs": [
        {
          "output_type": "stream",
          "name": "stdout",
          "text": [
            "(2, 3, 2, 3)\n",
            "4\n"
          ]
        }
      ]
    },
    {
      "cell_type": "markdown",
      "source": [
        "## Casting\n",
        "```python\n",
        "tf.cast(x, dtype, name=None)\n",
        "```"
      ],
      "metadata": {
        "id": "kHgCQMFvFWTu"
      }
    },
    {
      "cell_type": "code",
      "source": [
        "print(tensor_two_dim)\n",
        "casted_tensor_two_dim = tf.cast(tensor_two_dim, tf.int16)\n",
        "print(casted_tensor_two_dim)"
      ],
      "metadata": {
        "id": "v14owZrABRkh",
        "outputId": "c2e70bf5-d0e6-4d12-f12a-fdd64aeb6ae8",
        "colab": {
          "base_uri": "https://localhost:8080/"
        }
      },
      "execution_count": 17,
      "outputs": [
        {
          "output_type": "stream",
          "name": "stdout",
          "text": [
            "tf.Tensor(\n",
            "[[1 2 3]\n",
            " [4 5 6]\n",
            " [7 8 9]], shape=(3, 3), dtype=int32)\n",
            "tf.Tensor(\n",
            "[[1 2 3]\n",
            " [4 5 6]\n",
            " [7 8 9]], shape=(3, 3), dtype=int16)\n"
          ]
        }
      ]
    },
    {
      "cell_type": "code",
      "source": [
        "print(tensor_two_dim)\n",
        "casted_tensor_two_dim = tf.cast(tensor_two_dim, tf.uint16)\n",
        "print(casted_tensor_two_dim)"
      ],
      "metadata": {
        "id": "UoL-AYgsFeKP",
        "outputId": "87c84884-1324-4248-f38a-97160fbf2d15",
        "colab": {
          "base_uri": "https://localhost:8080/"
        }
      },
      "execution_count": 18,
      "outputs": [
        {
          "output_type": "stream",
          "name": "stdout",
          "text": [
            "tf.Tensor(\n",
            "[[1 2 3]\n",
            " [4 5 6]\n",
            " [7 8 9]], shape=(3, 3), dtype=int32)\n",
            "tf.Tensor(\n",
            "[[1 2 3]\n",
            " [4 5 6]\n",
            " [7 8 9]], shape=(3, 3), dtype=uint16)\n"
          ]
        }
      ]
    },
    {
      "cell_type": "markdown",
      "source": [
        "## Initializing"
      ],
      "metadata": {
        "id": "pQjW4FrtHBsS"
      }
    },
    {
      "cell_type": "code",
      "source": [
        "import numpy as np"
      ],
      "metadata": {
        "id": "kS8MF_o3GGdd"
      },
      "execution_count": 19,
      "outputs": []
    },
    {
      "cell_type": "code",
      "source": [
        "x_np = np.array([1,2,3])\n",
        "print(x_np)"
      ],
      "metadata": {
        "id": "dDsA1_PLHFX6",
        "outputId": "e0547e6d-6890-4b6c-8945-dffb52759a42",
        "colab": {
          "base_uri": "https://localhost:8080/"
        }
      },
      "execution_count": 22,
      "outputs": [
        {
          "output_type": "stream",
          "name": "stdout",
          "text": [
            "[1 2 3]\n"
          ]
        }
      ]
    },
    {
      "cell_type": "markdown",
      "source": [
        "## Convert to Tensor from Numpy array\n",
        "```python\n",
        "tf.convert_to_tensor(value, dtype=None, dtype_hint=None, name=None)\n",
        "```"
      ],
      "metadata": {
        "id": "tKpVm4ilHOk0"
      }
    },
    {
      "cell_type": "code",
      "source": [
        "x_np_to_tensor = tf.convert_to_tensor(x_np)\n",
        "print(x_np_to_tensor)\n",
        "\n",
        "x_np_to_tensor = tf.convert_to_tensor(x_np, dtype=tf.int16)\n",
        "print(x_np_to_tensor)"
      ],
      "metadata": {
        "id": "u9behY05HKwv",
        "outputId": "595c970e-dbe3-483a-8806-517a34c17e95",
        "colab": {
          "base_uri": "https://localhost:8080/"
        }
      },
      "execution_count": 24,
      "outputs": [
        {
          "output_type": "stream",
          "name": "stdout",
          "text": [
            "tf.Tensor([1 2 3], shape=(3,), dtype=int64)\n",
            "tf.Tensor([1 2 3], shape=(3,), dtype=int16)\n"
          ]
        }
      ]
    },
    {
      "cell_type": "markdown",
      "source": [
        "## Identity Matrix\n",
        "In case of Identity Matrix we assign value = 1 whenever column_position = row_position\n",
        "```python\n",
        "tf.eye(num_rows, num_columns=None, batch_shape=None, dtype=dtypes.float32, name=None)\n",
        "```"
      ],
      "metadata": {
        "id": "87u8pzixIPZo"
      }
    },
    {
      "cell_type": "code",
      "source": [
        "identity_matrix = tf.eye(5, dtype = tf.float16)\n",
        "print(identity_matrix)\n",
        "\n",
        "identity_matrix = tf.eye(5,4, dtype = tf.float16)\n",
        "print(identity_matrix)"
      ],
      "metadata": {
        "id": "5kG5iKHdHkRi",
        "outputId": "cff0aa34-08e6-4390-c263-26b5eac6a156",
        "colab": {
          "base_uri": "https://localhost:8080/"
        }
      },
      "execution_count": 30,
      "outputs": [
        {
          "output_type": "stream",
          "name": "stdout",
          "text": [
            "tf.Tensor(\n",
            "[[1. 0. 0. 0. 0.]\n",
            " [0. 1. 0. 0. 0.]\n",
            " [0. 0. 1. 0. 0.]\n",
            " [0. 0. 0. 1. 0.]\n",
            " [0. 0. 0. 0. 1.]], shape=(5, 5), dtype=float16)\n",
            "tf.Tensor(\n",
            "[[1. 0. 0. 0.]\n",
            " [0. 1. 0. 0.]\n",
            " [0. 0. 1. 0.]\n",
            " [0. 0. 0. 1.]\n",
            " [0. 0. 0. 0.]], shape=(5, 4), dtype=float16)\n"
          ]
        }
      ]
    },
    {
      "cell_type": "code",
      "source": [
        "identity_matrix = tf.eye(3,3,batch_shape=[2], dtype = tf.float16)\n",
        "print(identity_matrix)"
      ],
      "metadata": {
        "id": "jP8tKASDIWYS",
        "outputId": "d5639a74-a969-41ce-b46e-b3857490b41f",
        "colab": {
          "base_uri": "https://localhost:8080/"
        }
      },
      "execution_count": 32,
      "outputs": [
        {
          "output_type": "stream",
          "name": "stdout",
          "text": [
            "tf.Tensor(\n",
            "[[[1. 0. 0.]\n",
            "  [0. 1. 0.]\n",
            "  [0. 0. 1.]]\n",
            "\n",
            " [[1. 0. 0.]\n",
            "  [0. 1. 0.]\n",
            "  [0. 0. 1.]]], shape=(2, 3, 3), dtype=float16)\n"
          ]
        }
      ]
    },
    {
      "cell_type": "markdown",
      "source": [
        "## Fill Tensors\n",
        "```python\n",
        "tf.fill(dims, value, name=None)\n",
        "```"
      ],
      "metadata": {
        "id": "Ux7Pc0sMKQNr"
      }
    },
    {
      "cell_type": "code",
      "source": [
        "fill_9 = tf.fill([3,3],9)\n",
        "print(fill_9)"
      ],
      "metadata": {
        "id": "id3cA-xuKVAb",
        "outputId": "fb2f0b57-91b0-48c0-b801-8b330e406243",
        "colab": {
          "base_uri": "https://localhost:8080/"
        }
      },
      "execution_count": 34,
      "outputs": [
        {
          "output_type": "stream",
          "name": "stdout",
          "text": [
            "tf.Tensor(\n",
            "[[9 9 9]\n",
            " [9 9 9]\n",
            " [9 9 9]], shape=(3, 3), dtype=int32)\n"
          ]
        }
      ]
    },
    {
      "cell_type": "markdown",
      "source": [
        "## Ones\n",
        "```python\n",
        "tf.ones(shape, dtype=dtypes.float32, name=None)\n",
        "```"
      ],
      "metadata": {
        "id": "CQrBku8LK8TC"
      }
    },
    {
      "cell_type": "code",
      "source": [
        "ones_tensor = tf.ones([3,3])\n",
        "print(ones_tensor)"
      ],
      "metadata": {
        "id": "0XCmVIUrKd8Z",
        "outputId": "be42147d-c42c-4b23-fae9-0e4b42c54505",
        "colab": {
          "base_uri": "https://localhost:8080/"
        }
      },
      "execution_count": 36,
      "outputs": [
        {
          "output_type": "stream",
          "name": "stdout",
          "text": [
            "tf.Tensor(\n",
            "[[1. 1. 1.]\n",
            " [1. 1. 1.]\n",
            " [1. 1. 1.]], shape=(3, 3), dtype=float32)\n"
          ]
        }
      ]
    },
    {
      "cell_type": "markdown",
      "source": [
        "## Ones Like"
      ],
      "metadata": {
        "id": "jKwIUTvCL7SY"
      }
    },
    {
      "cell_type": "code",
      "source": [
        "ones_like_four_dim = tf.ones_like(tensor_four_dim)\n",
        "print(ones_like_four_dim)"
      ],
      "metadata": {
        "id": "izrehts4LCxs",
        "outputId": "9bc08a2b-1613-4983-ad7a-03c645fc93e5",
        "colab": {
          "base_uri": "https://localhost:8080/"
        }
      },
      "execution_count": 37,
      "outputs": [
        {
          "output_type": "stream",
          "name": "stdout",
          "text": [
            "tf.Tensor(\n",
            "[[[[1 1 1]\n",
            "   [1 1 1]]\n",
            "\n",
            "  [[1 1 1]\n",
            "   [1 1 1]]\n",
            "\n",
            "  [[1 1 1]\n",
            "   [1 1 1]]]\n",
            "\n",
            "\n",
            " [[[1 1 1]\n",
            "   [1 1 1]]\n",
            "\n",
            "  [[1 1 1]\n",
            "   [1 1 1]]\n",
            "\n",
            "  [[1 1 1]\n",
            "   [1 1 1]]]], shape=(2, 3, 2, 3), dtype=int32)\n"
          ]
        }
      ]
    },
    {
      "cell_type": "markdown",
      "source": [
        "## Random Normal Initializer\n",
        "```python\n",
        "tf.random_normal_initializer(\n",
        "    mean=0.0, stddev=0.05, seed=None\n",
        ")\n",
        "```"
      ],
      "metadata": {
        "id": "Oq2cdzeIMmHu"
      }
    },
    {
      "cell_type": "code",
      "source": [
        "random_normal = tf.random_normal_initializer(\n",
        "    mean=0.0, stddev=0.05, seed=None\n",
        ")\n",
        "\n",
        "random_normal_tensor = random_normal([3,3])\n",
        "print(random_normal_tensor)\n"
      ],
      "metadata": {
        "id": "iUCS6DFrMLwa",
        "outputId": "fa9f4ba4-97f7-4ead-add0-106f6860d680",
        "colab": {
          "base_uri": "https://localhost:8080/"
        }
      },
      "execution_count": 39,
      "outputs": [
        {
          "output_type": "stream",
          "name": "stdout",
          "text": [
            "tf.Tensor(\n",
            "[[-0.0352075   0.0078643   0.0628294 ]\n",
            " [ 0.00621914  0.01839794 -0.10605025]\n",
            " [-0.00810497  0.05130358 -0.00872508]], shape=(3, 3), dtype=float32)\n"
          ]
        }
      ]
    },
    {
      "cell_type": "markdown",
      "source": [
        "## Range Tensor\n",
        "```python\n",
        "tf.range(start, limit=None, delta=1, dtype=None, name='range')\n",
        "```"
      ],
      "metadata": {
        "id": "SaRMGBjNNlDo"
      }
    },
    {
      "cell_type": "code",
      "source": [
        "range_tensor = tf.range(2,10)\n",
        "print(range_tensor)\n",
        "\n",
        "range_tensor = tf.range(2,10, delta=2)\n",
        "print(range_tensor)"
      ],
      "metadata": {
        "id": "v9W5xdcnMzT6",
        "outputId": "dce82160-25f7-4418-a25d-33850a7fb9a8",
        "colab": {
          "base_uri": "https://localhost:8080/"
        }
      },
      "execution_count": 41,
      "outputs": [
        {
          "output_type": "stream",
          "name": "stdout",
          "text": [
            "tf.Tensor([2 3 4 5 6 7 8 9], shape=(8,), dtype=int32)\n",
            "tf.Tensor([2 4 6 8], shape=(4,), dtype=int32)\n"
          ]
        }
      ]
    },
    {
      "cell_type": "code",
      "source": [],
      "metadata": {
        "id": "UAp17rgINv_U"
      },
      "execution_count": null,
      "outputs": []
    }
  ]
}