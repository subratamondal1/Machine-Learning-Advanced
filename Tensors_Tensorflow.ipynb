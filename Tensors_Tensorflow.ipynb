{
  "nbformat": 4,
  "nbformat_minor": 0,
  "metadata": {
    "colab": {
      "provenance": [],
      "authorship_tag": "ABX9TyMflV3AS+RJD3tYFAJhFAf2",
      "include_colab_link": true
    },
    "kernelspec": {
      "name": "python3",
      "display_name": "Python 3"
    },
    "language_info": {
      "name": "python"
    }
  },
  "cells": [
    {
      "cell_type": "markdown",
      "metadata": {
        "id": "view-in-github",
        "colab_type": "text"
      },
      "source": [
        "<a href=\"https://colab.research.google.com/github/subratamondal1/Machine-Learning-Advanced/blob/main/Tensors_Tensorflow.ipynb\" target=\"_parent\"><img src=\"https://colab.research.google.com/assets/colab-badge.svg\" alt=\"Open In Colab\"/></a>"
      ]
    },
    {
      "cell_type": "markdown",
      "source": [
        "# Tensors \n",
        "- Tensors are **multidimensional arrays**\n",
        "- Ordered arrangement of numbers\n",
        "\n",
        "Tensors can be :\n",
        "- Zero Dimensional e.g 5 or 4 or 66\n",
        "- 1 Dimensional e.g [1,4,5] or [8,6,8]\n",
        "- 2 Dimensional e.g [[1,2,3],[4,5,6]]"
      ],
      "metadata": {
        "id": "vCsSQ9D9-0ck"
      }
    },
    {
      "cell_type": "code",
      "execution_count": 1,
      "metadata": {
        "id": "HMQbKesp-w1A"
      },
      "outputs": [],
      "source": [
        "import tensorflow as tf"
      ]
    },
    {
      "cell_type": "markdown",
      "source": [
        "## Initialization"
      ],
      "metadata": {
        "id": "OdNsVT1uFLZS"
      }
    },
    {
      "cell_type": "markdown",
      "source": [
        "### Zero Dimensional Tensor"
      ],
      "metadata": {
        "id": "3KPKmFgq_2yl"
      }
    },
    {
      "cell_type": "code",
      "source": [
        "# Zero dimensional Tensor\n",
        "tensor_zero_dim = tf.constant(1)\n",
        "print(tensor_zero_dim)"
      ],
      "metadata": {
        "id": "xYGnhJWUh6Xg",
        "outputId": "ad7659e5-e040-4876-dda6-71bfc6d4f792",
        "colab": {
          "base_uri": "https://localhost:8080/"
        }
      },
      "execution_count": 2,
      "outputs": [
        {
          "output_type": "stream",
          "name": "stdout",
          "text": [
            "tf.Tensor(1, shape=(), dtype=int32)\n"
          ]
        }
      ]
    },
    {
      "cell_type": "code",
      "source": [
        "print(tensor_zero_dim.shape)\n",
        "print(tensor_zero_dim.ndim)"
      ],
      "metadata": {
        "id": "bjc6x2ZM_Qfo",
        "outputId": "ae18f928-157c-448e-b24e-4e969f84b8f1",
        "colab": {
          "base_uri": "https://localhost:8080/"
        }
      },
      "execution_count": 3,
      "outputs": [
        {
          "output_type": "stream",
          "name": "stdout",
          "text": [
            "()\n",
            "0\n"
          ]
        }
      ]
    },
    {
      "cell_type": "markdown",
      "source": [
        "### One Dimensional Tensor\n",
        "Form by stacking multiple Zero Dimensional Tensors"
      ],
      "metadata": {
        "id": "1oVoTO6L_9EC"
      }
    },
    {
      "cell_type": "code",
      "source": [
        "# One dimensional Tensor\n",
        "tensor_one_dim = tf.constant([1,2,3])\n",
        "print(tensor_one_dim)"
      ],
      "metadata": {
        "id": "RagfhDTDicOk",
        "outputId": "1b6004c9-7b9f-4475-d840-420d34c2bb5b",
        "colab": {
          "base_uri": "https://localhost:8080/"
        }
      },
      "execution_count": 4,
      "outputs": [
        {
          "output_type": "stream",
          "name": "stdout",
          "text": [
            "tf.Tensor([1 2 3], shape=(3,), dtype=int32)\n"
          ]
        }
      ]
    },
    {
      "cell_type": "code",
      "source": [
        "print(tensor_one_dim.shape)\n",
        "print(tensor_one_dim.ndim)"
      ],
      "metadata": {
        "id": "rWX6ne3H_X8w",
        "outputId": "9f522047-0f40-4a8c-ff96-f7c12e2a958c",
        "colab": {
          "base_uri": "https://localhost:8080/"
        }
      },
      "execution_count": 5,
      "outputs": [
        {
          "output_type": "stream",
          "name": "stdout",
          "text": [
            "(3,)\n",
            "1\n"
          ]
        }
      ]
    },
    {
      "cell_type": "markdown",
      "source": [
        "### Two Dimensional Tensor\n",
        "Form by stacking multiple One Dimensional Tensors"
      ],
      "metadata": {
        "id": "xEF_9s-mAH4a"
      }
    },
    {
      "cell_type": "code",
      "source": [
        "# Two dimensional Tensor\n",
        "tensor_two_dim = tf.constant([\n",
        "    [1,2,3],\n",
        "    [4,5,6],\n",
        "    [7,8,9]\n",
        "])\n",
        "print(tensor_two_dim)"
      ],
      "metadata": {
        "id": "U9dyw7Gfi6Vb",
        "outputId": "227c5412-d0c4-491b-fd68-db0a377d1856",
        "colab": {
          "base_uri": "https://localhost:8080/"
        }
      },
      "execution_count": 6,
      "outputs": [
        {
          "output_type": "stream",
          "name": "stdout",
          "text": [
            "tf.Tensor(\n",
            "[[1 2 3]\n",
            " [4 5 6]\n",
            " [7 8 9]], shape=(3, 3), dtype=int32)\n"
          ]
        }
      ]
    },
    {
      "cell_type": "code",
      "source": [
        "print(tensor_two_dim.shape)\n",
        "print(tensor_two_dim.ndim)"
      ],
      "metadata": {
        "id": "fRcb4pBX_bgY",
        "outputId": "eba6b1e5-4801-4538-b161-144cb7cd983a",
        "colab": {
          "base_uri": "https://localhost:8080/"
        }
      },
      "execution_count": 7,
      "outputs": [
        {
          "output_type": "stream",
          "name": "stdout",
          "text": [
            "(3, 3)\n",
            "2\n"
          ]
        }
      ]
    },
    {
      "cell_type": "markdown",
      "source": [
        "### Three Dimensional Tensor\n",
        "Form by stacking multiple Two Dimensional Tensors"
      ],
      "metadata": {
        "id": "uWn7AXx8ALtp"
      }
    },
    {
      "cell_type": "code",
      "source": [
        "# Three dimensional Tensor\n",
        "tensor_three_dim = tf.constant([\n",
        "    [\n",
        "    [1,2,3],\n",
        "    [4,5,6]\n",
        "    ],\n",
        "    [\n",
        "    [1,2,3],\n",
        "    [4,5,6]\n",
        "    ],\n",
        "    [\n",
        "    [1,2,3],\n",
        "    [4,5,6]\n",
        "    ],\n",
        "\n",
        "])\n",
        "print(tensor_three_dim)"
      ],
      "metadata": {
        "id": "Zc7E0rbUjLDG",
        "outputId": "314eaaf5-3c6b-4ea2-8d1b-ea6650757664",
        "colab": {
          "base_uri": "https://localhost:8080/"
        }
      },
      "execution_count": 8,
      "outputs": [
        {
          "output_type": "stream",
          "name": "stdout",
          "text": [
            "tf.Tensor(\n",
            "[[[1 2 3]\n",
            "  [4 5 6]]\n",
            "\n",
            " [[1 2 3]\n",
            "  [4 5 6]]\n",
            "\n",
            " [[1 2 3]\n",
            "  [4 5 6]]], shape=(3, 2, 3), dtype=int32)\n"
          ]
        }
      ]
    },
    {
      "cell_type": "code",
      "source": [
        "print(tensor_three_dim.shape)\n",
        "print(tensor_three_dim.ndim)"
      ],
      "metadata": {
        "id": "V1N1YtEIkAwG",
        "outputId": "af5a0cb3-3db4-40d6-eb3c-68cf6a6c2826",
        "colab": {
          "base_uri": "https://localhost:8080/"
        }
      },
      "execution_count": 9,
      "outputs": [
        {
          "output_type": "stream",
          "name": "stdout",
          "text": [
            "(3, 2, 3)\n",
            "3\n"
          ]
        }
      ]
    },
    {
      "cell_type": "markdown",
      "source": [
        "### Fourth Dimensional Tensor\n",
        "Form by stacking multiple Three Dimensional Tensors"
      ],
      "metadata": {
        "id": "4p-RZd3YAPrO"
      }
    },
    {
      "cell_type": "code",
      "source": [
        "# Four dimensional Tensor\n",
        "tensor_four_dim = tf.constant([\n",
        "    [[\n",
        "    [1,2,3],\n",
        "    [4,5,6]\n",
        "    ],\n",
        "    [\n",
        "    [1,2,3],\n",
        "    [4,5,6]\n",
        "    ],\n",
        "    [\n",
        "    [1,2,3],\n",
        "    [4,5,6]\n",
        "    ],],\n",
        "    [[\n",
        "    [1,2,3],\n",
        "    [4,5,6]\n",
        "    ],\n",
        "    [\n",
        "    [1,2,3],\n",
        "    [4,5,6]\n",
        "    ],\n",
        "    [\n",
        "    [1,2,3],\n",
        "    [4,5,6]\n",
        "    ],]\n",
        "])\n",
        "print(tensor_four_dim)"
      ],
      "metadata": {
        "id": "diCtnyTx_gvr",
        "outputId": "8332c3bd-bcdf-4c05-c593-f40480889313",
        "colab": {
          "base_uri": "https://localhost:8080/"
        }
      },
      "execution_count": 10,
      "outputs": [
        {
          "output_type": "stream",
          "name": "stdout",
          "text": [
            "tf.Tensor(\n",
            "[[[[1 2 3]\n",
            "   [4 5 6]]\n",
            "\n",
            "  [[1 2 3]\n",
            "   [4 5 6]]\n",
            "\n",
            "  [[1 2 3]\n",
            "   [4 5 6]]]\n",
            "\n",
            "\n",
            " [[[1 2 3]\n",
            "   [4 5 6]]\n",
            "\n",
            "  [[1 2 3]\n",
            "   [4 5 6]]\n",
            "\n",
            "  [[1 2 3]\n",
            "   [4 5 6]]]], shape=(2, 3, 2, 3), dtype=int32)\n"
          ]
        }
      ]
    },
    {
      "cell_type": "code",
      "source": [
        "print(tensor_four_dim.shape)\n",
        "print(tensor_four_dim.ndim)"
      ],
      "metadata": {
        "id": "3FofSOaMAkCr",
        "outputId": "e9cada3e-c2f3-415e-b258-48943e5b1a2b",
        "colab": {
          "base_uri": "https://localhost:8080/"
        }
      },
      "execution_count": 11,
      "outputs": [
        {
          "output_type": "stream",
          "name": "stdout",
          "text": [
            "(2, 3, 2, 3)\n",
            "4\n"
          ]
        }
      ]
    },
    {
      "cell_type": "markdown",
      "source": [
        "## Casting\n",
        "```python\n",
        "tf.cast(x, dtype, name=None)\n",
        "```"
      ],
      "metadata": {
        "id": "kHgCQMFvFWTu"
      }
    },
    {
      "cell_type": "code",
      "source": [
        "print(tensor_two_dim)\n",
        "casted_tensor_two_dim = tf.cast(tensor_two_dim, tf.int16)\n",
        "print(casted_tensor_two_dim)"
      ],
      "metadata": {
        "id": "v14owZrABRkh",
        "outputId": "5b78a034-c0e8-43c0-c8d9-770f5b506d96",
        "colab": {
          "base_uri": "https://localhost:8080/"
        }
      },
      "execution_count": 12,
      "outputs": [
        {
          "output_type": "stream",
          "name": "stdout",
          "text": [
            "tf.Tensor(\n",
            "[[1 2 3]\n",
            " [4 5 6]\n",
            " [7 8 9]], shape=(3, 3), dtype=int32)\n",
            "tf.Tensor(\n",
            "[[1 2 3]\n",
            " [4 5 6]\n",
            " [7 8 9]], shape=(3, 3), dtype=int16)\n"
          ]
        }
      ]
    },
    {
      "cell_type": "code",
      "source": [
        "print(tensor_two_dim)\n",
        "casted_tensor_two_dim = tf.cast(tensor_two_dim, tf.uint16)\n",
        "print(casted_tensor_two_dim)"
      ],
      "metadata": {
        "id": "UoL-AYgsFeKP",
        "outputId": "add69b5f-e939-48ad-f484-0c73d0dafd34",
        "colab": {
          "base_uri": "https://localhost:8080/"
        }
      },
      "execution_count": 13,
      "outputs": [
        {
          "output_type": "stream",
          "name": "stdout",
          "text": [
            "tf.Tensor(\n",
            "[[1 2 3]\n",
            " [4 5 6]\n",
            " [7 8 9]], shape=(3, 3), dtype=int32)\n",
            "tf.Tensor(\n",
            "[[1 2 3]\n",
            " [4 5 6]\n",
            " [7 8 9]], shape=(3, 3), dtype=uint16)\n"
          ]
        }
      ]
    },
    {
      "cell_type": "markdown",
      "source": [
        "## Initializing"
      ],
      "metadata": {
        "id": "pQjW4FrtHBsS"
      }
    },
    {
      "cell_type": "code",
      "source": [
        "import numpy as np"
      ],
      "metadata": {
        "id": "kS8MF_o3GGdd"
      },
      "execution_count": 14,
      "outputs": []
    },
    {
      "cell_type": "code",
      "source": [
        "x_np = np.array([1,2,3])\n",
        "print(x_np)"
      ],
      "metadata": {
        "id": "dDsA1_PLHFX6",
        "outputId": "c7231c79-2442-4e26-df91-5052d154ff86",
        "colab": {
          "base_uri": "https://localhost:8080/"
        }
      },
      "execution_count": 15,
      "outputs": [
        {
          "output_type": "stream",
          "name": "stdout",
          "text": [
            "[1 2 3]\n"
          ]
        }
      ]
    },
    {
      "cell_type": "markdown",
      "source": [
        "## Convert to Tensor from Numpy array\n",
        "```python\n",
        "tf.convert_to_tensor(value, dtype=None, dtype_hint=None, name=None)\n",
        "```"
      ],
      "metadata": {
        "id": "tKpVm4ilHOk0"
      }
    },
    {
      "cell_type": "code",
      "source": [
        "x_np_to_tensor = tf.convert_to_tensor(x_np)\n",
        "print(x_np_to_tensor)\n",
        "\n",
        "x_np_to_tensor = tf.convert_to_tensor(x_np, dtype=tf.int16)\n",
        "print(x_np_to_tensor)"
      ],
      "metadata": {
        "id": "u9behY05HKwv",
        "outputId": "e3cfe5b1-4ad5-4478-c561-f65addc6f4e1",
        "colab": {
          "base_uri": "https://localhost:8080/"
        }
      },
      "execution_count": 16,
      "outputs": [
        {
          "output_type": "stream",
          "name": "stdout",
          "text": [
            "tf.Tensor([1 2 3], shape=(3,), dtype=int64)\n",
            "tf.Tensor([1 2 3], shape=(3,), dtype=int16)\n"
          ]
        }
      ]
    },
    {
      "cell_type": "markdown",
      "source": [
        "## Identity Matrix\n",
        "In case of Identity Matrix we assign value = 1 whenever column_position = row_position\n",
        "```python\n",
        "tf.eye(num_rows, num_columns=None, batch_shape=None, dtype=dtypes.float32, name=None)\n",
        "```"
      ],
      "metadata": {
        "id": "87u8pzixIPZo"
      }
    },
    {
      "cell_type": "code",
      "source": [
        "identity_matrix = tf.eye(5, dtype = tf.float16)\n",
        "print(identity_matrix)\n",
        "\n",
        "identity_matrix = tf.eye(5,4, dtype = tf.float16)\n",
        "print(identity_matrix)"
      ],
      "metadata": {
        "id": "5kG5iKHdHkRi",
        "outputId": "21544e4a-0dcd-4bd0-f36e-24ea5d6bcb70",
        "colab": {
          "base_uri": "https://localhost:8080/"
        }
      },
      "execution_count": 17,
      "outputs": [
        {
          "output_type": "stream",
          "name": "stdout",
          "text": [
            "tf.Tensor(\n",
            "[[1. 0. 0. 0. 0.]\n",
            " [0. 1. 0. 0. 0.]\n",
            " [0. 0. 1. 0. 0.]\n",
            " [0. 0. 0. 1. 0.]\n",
            " [0. 0. 0. 0. 1.]], shape=(5, 5), dtype=float16)\n",
            "tf.Tensor(\n",
            "[[1. 0. 0. 0.]\n",
            " [0. 1. 0. 0.]\n",
            " [0. 0. 1. 0.]\n",
            " [0. 0. 0. 1.]\n",
            " [0. 0. 0. 0.]], shape=(5, 4), dtype=float16)\n"
          ]
        }
      ]
    },
    {
      "cell_type": "code",
      "source": [
        "identity_matrix = tf.eye(3,3,batch_shape=[2], dtype = tf.float16)\n",
        "print(identity_matrix)"
      ],
      "metadata": {
        "id": "jP8tKASDIWYS",
        "outputId": "45393870-5bf3-4937-be29-6ea5cf834bf3",
        "colab": {
          "base_uri": "https://localhost:8080/"
        }
      },
      "execution_count": 18,
      "outputs": [
        {
          "output_type": "stream",
          "name": "stdout",
          "text": [
            "tf.Tensor(\n",
            "[[[1. 0. 0.]\n",
            "  [0. 1. 0.]\n",
            "  [0. 0. 1.]]\n",
            "\n",
            " [[1. 0. 0.]\n",
            "  [0. 1. 0.]\n",
            "  [0. 0. 1.]]], shape=(2, 3, 3), dtype=float16)\n"
          ]
        }
      ]
    },
    {
      "cell_type": "markdown",
      "source": [
        "## Fill Tensors\n",
        "```python\n",
        "tf.fill(dims, value, name=None)\n",
        "```"
      ],
      "metadata": {
        "id": "Ux7Pc0sMKQNr"
      }
    },
    {
      "cell_type": "code",
      "source": [
        "fill_9 = tf.fill([3,3],9)\n",
        "print(fill_9)"
      ],
      "metadata": {
        "id": "id3cA-xuKVAb",
        "outputId": "3cba5b28-4436-4955-e26c-f7d21e10947c",
        "colab": {
          "base_uri": "https://localhost:8080/"
        }
      },
      "execution_count": 19,
      "outputs": [
        {
          "output_type": "stream",
          "name": "stdout",
          "text": [
            "tf.Tensor(\n",
            "[[9 9 9]\n",
            " [9 9 9]\n",
            " [9 9 9]], shape=(3, 3), dtype=int32)\n"
          ]
        }
      ]
    },
    {
      "cell_type": "markdown",
      "source": [
        "## Ones\n",
        "```python\n",
        "tf.ones(shape, dtype=dtypes.float32, name=None)\n",
        "```"
      ],
      "metadata": {
        "id": "CQrBku8LK8TC"
      }
    },
    {
      "cell_type": "code",
      "source": [
        "ones_tensor = tf.ones([3,3])\n",
        "print(ones_tensor)"
      ],
      "metadata": {
        "id": "0XCmVIUrKd8Z",
        "outputId": "be9cd7ff-a7c3-481c-9cf5-9de1286c70ce",
        "colab": {
          "base_uri": "https://localhost:8080/"
        }
      },
      "execution_count": 20,
      "outputs": [
        {
          "output_type": "stream",
          "name": "stdout",
          "text": [
            "tf.Tensor(\n",
            "[[1. 1. 1.]\n",
            " [1. 1. 1.]\n",
            " [1. 1. 1.]], shape=(3, 3), dtype=float32)\n"
          ]
        }
      ]
    },
    {
      "cell_type": "markdown",
      "source": [
        "## Ones Like"
      ],
      "metadata": {
        "id": "jKwIUTvCL7SY"
      }
    },
    {
      "cell_type": "code",
      "source": [
        "ones_like_four_dim = tf.ones_like(tensor_four_dim)\n",
        "print(ones_like_four_dim)"
      ],
      "metadata": {
        "id": "izrehts4LCxs",
        "outputId": "f2c65cfd-83e6-44e0-cb3f-3b771c6bef06",
        "colab": {
          "base_uri": "https://localhost:8080/"
        }
      },
      "execution_count": 21,
      "outputs": [
        {
          "output_type": "stream",
          "name": "stdout",
          "text": [
            "tf.Tensor(\n",
            "[[[[1 1 1]\n",
            "   [1 1 1]]\n",
            "\n",
            "  [[1 1 1]\n",
            "   [1 1 1]]\n",
            "\n",
            "  [[1 1 1]\n",
            "   [1 1 1]]]\n",
            "\n",
            "\n",
            " [[[1 1 1]\n",
            "   [1 1 1]]\n",
            "\n",
            "  [[1 1 1]\n",
            "   [1 1 1]]\n",
            "\n",
            "  [[1 1 1]\n",
            "   [1 1 1]]]], shape=(2, 3, 2, 3), dtype=int32)\n"
          ]
        }
      ]
    },
    {
      "cell_type": "markdown",
      "source": [
        "## Random Normal Initializer\n",
        "```python\n",
        "tf.random_normal_initializer(\n",
        "    mean=0.0, stddev=0.05, seed=None\n",
        ")\n",
        "```"
      ],
      "metadata": {
        "id": "Oq2cdzeIMmHu"
      }
    },
    {
      "cell_type": "code",
      "source": [
        "random_normal = tf.random_normal_initializer(\n",
        "    mean=0.0, stddev=0.05, seed=None\n",
        ")\n",
        "\n",
        "random_normal_tensor = random_normal([3,3])\n",
        "print(random_normal_tensor)\n"
      ],
      "metadata": {
        "id": "iUCS6DFrMLwa",
        "outputId": "80184ee0-dfbc-4a99-e860-25f7c4a69622",
        "colab": {
          "base_uri": "https://localhost:8080/"
        }
      },
      "execution_count": 22,
      "outputs": [
        {
          "output_type": "stream",
          "name": "stdout",
          "text": [
            "tf.Tensor(\n",
            "[[-0.07134204  0.01663729 -0.06884524]\n",
            " [ 0.03901276 -0.06707831 -0.04112586]\n",
            " [-0.0029854  -0.05378399 -0.03509944]], shape=(3, 3), dtype=float32)\n"
          ]
        }
      ]
    },
    {
      "cell_type": "markdown",
      "source": [
        "## Range Tensor\n",
        "```python\n",
        "tf.range(start, limit=None, delta=1, dtype=None, name='range')\n",
        "```"
      ],
      "metadata": {
        "id": "SaRMGBjNNlDo"
      }
    },
    {
      "cell_type": "code",
      "source": [
        "range_tensor = tf.range(2,10)\n",
        "print(range_tensor)\n",
        "\n",
        "range_tensor = tf.range(2,10, delta=2)\n",
        "print(range_tensor)"
      ],
      "metadata": {
        "id": "v9W5xdcnMzT6",
        "outputId": "b162dbee-71b7-4975-b4b3-e30f45a7c920",
        "colab": {
          "base_uri": "https://localhost:8080/"
        }
      },
      "execution_count": 23,
      "outputs": [
        {
          "output_type": "stream",
          "name": "stdout",
          "text": [
            "tf.Tensor([2 3 4 5 6 7 8 9], shape=(8,), dtype=int32)\n",
            "tf.Tensor([2 4 6 8], shape=(4,), dtype=int32)\n"
          ]
        }
      ]
    },
    {
      "cell_type": "markdown",
      "source": [
        "## Tensor Shape\n",
        "```python\n",
        "tf.shape(input, out_type=dtypes.int32, name=None)\n",
        "```"
      ],
      "metadata": {
        "id": "sqTNupVNrJ6X"
      }
    },
    {
      "cell_type": "code",
      "source": [
        "print(tf.shape(tensor_four_dim))\n",
        "print(tensor_four_dim.shape)"
      ],
      "metadata": {
        "id": "UAp17rgINv_U",
        "outputId": "ef84b0a2-5e2b-4df7-c56b-d10296d9071c",
        "colab": {
          "base_uri": "https://localhost:8080/"
        }
      },
      "execution_count": 26,
      "outputs": [
        {
          "output_type": "stream",
          "name": "stdout",
          "text": [
            "tf.Tensor([2 3 2 3], shape=(4,), dtype=int32)\n",
            "(2, 3, 2, 3)\n"
          ]
        }
      ]
    },
    {
      "cell_type": "markdown",
      "source": [
        "## Tensor Size\n",
        "```python\n",
        "tf.size(input, out_type=dtypes.int32, name=None)\n",
        "```"
      ],
      "metadata": {
        "id": "XU67KSzcr_2f"
      }
    },
    {
      "cell_type": "code",
      "source": [
        "print(tf.size(tensor_four_dim))"
      ],
      "metadata": {
        "id": "dC9UesymrV7K",
        "outputId": "f9a99ca4-325a-42ae-e157-4a16500e7a15",
        "colab": {
          "base_uri": "https://localhost:8080/"
        }
      },
      "execution_count": 28,
      "outputs": [
        {
          "output_type": "stream",
          "name": "stdout",
          "text": [
            "tf.Tensor(36, shape=(), dtype=int32)\n"
          ]
        }
      ]
    },
    {
      "cell_type": "markdown",
      "source": [
        "## Random Generator\n",
        "```python\n",
        "tf.random.Generator\n",
        "```"
      ],
      "metadata": {
        "id": "wze-lQ_WtFmf"
      }
    },
    {
      "cell_type": "code",
      "source": [
        "# non_deterministic_state\n",
        "g = tf.random.Generator.from_non_deterministic_state()\n",
        "g.normal([3,3])"
      ],
      "metadata": {
        "id": "QncO_KrysGXB",
        "outputId": "f01e845f-f950-425c-c71a-789d8f75867c",
        "colab": {
          "base_uri": "https://localhost:8080/"
        }
      },
      "execution_count": 30,
      "outputs": [
        {
          "output_type": "execute_result",
          "data": {
            "text/plain": [
              "<tf.Tensor: shape=(3, 3), dtype=float32, numpy=\n",
              "array([[ 0.58517945, -1.3592516 , -1.3450339 ],\n",
              "       [ 0.6980747 , -0.30173066, -0.7554876 ],\n",
              "       [-0.8081954 ,  2.2122648 , -0.04637472]], dtype=float32)>"
            ]
          },
          "metadata": {},
          "execution_count": 30
        }
      ]
    },
    {
      "cell_type": "code",
      "source": [
        "g = tf.random.Generator.from_seed(44)\n",
        "g.normal([3,3])"
      ],
      "metadata": {
        "id": "wArkj4Jdtckq",
        "outputId": "a57367e4-e153-489d-c843-b617b0650ebf",
        "colab": {
          "base_uri": "https://localhost:8080/"
        }
      },
      "execution_count": 32,
      "outputs": [
        {
          "output_type": "execute_result",
          "data": {
            "text/plain": [
              "<tf.Tensor: shape=(3, 3), dtype=float32, numpy=\n",
              "array([[-0.7535805 , -0.57166284,  0.1480774 ],\n",
              "       [-0.23362993, -0.3522796 ,  0.40621263],\n",
              "       [-1.0523509 ,  1.2054597 ,  1.6874489 ]], dtype=float32)>"
            ]
          },
          "metadata": {},
          "execution_count": 32
        }
      ]
    },
    {
      "cell_type": "code",
      "source": [
        "g.uniform([3,3], minval=5, maxval=10)"
      ],
      "metadata": {
        "id": "GUMOKnXDuLNQ",
        "outputId": "39539566-f68e-48fd-a6e6-73319781e37e",
        "colab": {
          "base_uri": "https://localhost:8080/"
        }
      },
      "execution_count": 35,
      "outputs": [
        {
          "output_type": "execute_result",
          "data": {
            "text/plain": [
              "<tf.Tensor: shape=(3, 3), dtype=float32, numpy=\n",
              "array([[6.363435 , 8.734523 , 5.8608923],\n",
              "       [6.871466 , 6.0668726, 9.1981535],\n",
              "       [8.442022 , 9.4659195, 5.095975 ]], dtype=float32)>"
            ]
          },
          "metadata": {},
          "execution_count": 35
        }
      ]
    },
    {
      "cell_type": "code",
      "source": [],
      "metadata": {
        "id": "qZ0jeLQRwsny"
      },
      "execution_count": null,
      "outputs": []
    }
  ]
}